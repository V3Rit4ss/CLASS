{
 "cells": [
  {
   "cell_type": "code",
   "execution_count": 2,
   "metadata": {
    "ExecuteTime": {
     "end_time": "2021-03-19T03:53:48.413454Z",
     "start_time": "2021-03-19T03:53:48.397832Z"
    }
   },
   "outputs": [],
   "source": [
    "import random\n",
    "import numpy as np\n",
    "import matplotlib.pyplot as plt\n",
    "\n",
    "data = []\n",
    "for i in range(50):\n",
    "    data.append([random.randint(40,70),random.randint(140, 180)]) # 1그룹.\n",
    "    data.append([random.randint(60,90),random.randint(170, 200)]) #2그룹."
   ]
  },
  {
   "cell_type": "code",
   "execution_count": 13,
   "metadata": {
    "ExecuteTime": {
     "end_time": "2021-03-19T03:59:22.221246Z",
     "start_time": "2021-03-19T03:59:22.214245Z"
    },
    "scrolled": true
   },
   "outputs": [
    {
     "name": "stdout",
     "output_type": "stream",
     "text": [
      "[63, 148] [53, 149] [41, 160] [44, 154] [43, 154] [41, 160] [59, 171] [64, 160] [43, 170] [55, 168] [40, 142] [46, 177] [40, 160] [47, 144] [67, 165] [41, 154] [47, 169] [45, 160] [55, 140] [41, 162] [58, 171] [43, 177] [40, 163] [52, 158] [56, 145] [68, 154] [44, 173] [67, 157] [60, 150] [53, 154] [40, 178] [60, 165] [51, 146] [42, 168] [50, 147] [53, 143] [57, 170] [51, 145] [65, 170] [67, 143] [56, 175] [62, 140] [50, 166] [62, 160] [47, 153] [56, 147] [62, 140] [45, 147] [42, 158] [48, 161] =================================================================\n",
      "[76, 194] [68, 188] [69, 174] [90, 196] [65, 177] [60, 170] [86, 172] [72, 180] [78, 186] [87, 180] [88, 188] [63, 180] [88, 173] [67, 194] [66, 196] [71, 178] [82, 198] [68, 199] [77, 184] [62, 181] [88, 181] [85, 196] [77, 191] [81, 174] [76, 191] [83, 192] [76, 173] [84, 176] [81, 192] [67, 197] [82, 179] [85, 177] [86, 193] [84, 187] [82, 183] [86, 172] [75, 198] [72, 173] [81, 171] [72, 194] [84, 193] [77, 187] [63, 181] [76, 182] [73, 177] [90, 184] [70, 176] [83, 186] [84, 182] [64, 191] "
     ]
    }
   ],
   "source": [
    "# 개발자만 아는 여자그룹.\n",
    "# data[0:100:2]\n",
    "for female in data[0:100:2]:\n",
    "    print(female,end=\" \")\n",
    "print(\"=================================================================\")    \n",
    "# 개발자만 아는 남자그룹\n",
    "# data[1:100:1]\n",
    "for male in data[1:100:2]:\n",
    "    print(male,end=\" \")"
   ]
  },
  {
   "cell_type": "code",
   "execution_count": 16,
   "metadata": {
    "ExecuteTime": {
     "end_time": "2021-03-19T04:03:45.018517Z",
     "start_time": "2021-03-19T04:03:44.853822Z"
    }
   },
   "outputs": [
    {
     "data": {
      "text/plain": [
       "[<matplotlib.lines.Line2D at 0x217f787c1c0>]"
      ]
     },
     "execution_count": 16,
     "metadata": {},
     "output_type": "execute_result"
    },
    {
     "data": {
      "image/png": "[encoded data removed]",
      "text/plain": [
       "<Figure size 432x288 with 1 Axes>"
      ]
     },
     "metadata": {
      "needs_background": "light"
     },
     "output_type": "display_data"
    }
   ],
   "source": [
    "# 여자 몸무게\n",
    "[d[0] for d in data[0:100:2]]\n",
    "#여자 키.\n",
    "[d[1] for d in data[0:100:2]]\n",
    "#남자 몸무게\n",
    "[d[0] for d in data[1:100:2]]\n",
    "#남자 키\n",
    "[d[1] for d in data[1:100:2]]\n",
    "plt.plot([d[0] for d in data[0:100:2]], [d[1] for d in data[0:100:2]], \n",
    "            'o', color='r')\n",
    "plt.plot([d[0] for d in data[1:100:2]], [d[1] for d in data[1:100:2]], \n",
    "            'o', color='b')"
   ]
  },
  {
   "cell_type": "code",
   "execution_count": 20,
   "metadata": {
    "ExecuteTime": {
     "end_time": "2021-03-19T04:11:05.712514Z",
     "start_time": "2021-03-19T04:11:05.708549Z"
    }
   },
   "outputs": [
    {
     "name": "stdout",
     "output_type": "stream",
     "text": [
      "초기 랜덤 기준점 :  [[59, 167], [44, 143]]\n"
     ]
    }
   ],
   "source": [
    "# 초기 렌덤 지점 2개\n",
    "random_points = [[random.randint(40, 90), random.randint(140, 200)],\n",
    "                [random.randint(40, 90), random.randint(140, 200)]]\n",
    "print(\"초기 랜덤 기준점 : \", random_points)"
   ]
  },
  {
   "cell_type": "code",
   "execution_count": 24,
   "metadata": {
    "ExecuteTime": {
     "end_time": "2021-03-19T04:12:42.584221Z",
     "start_time": "2021-03-19T04:12:42.580231Z"
    }
   },
   "outputs": [
    {
     "name": "stdout",
     "output_type": "stream",
     "text": [
      "59 167 / 44 143\n"
     ]
    }
   ],
   "source": [
    "#기준점 1\n",
    "print(random_points[0][0], random_points[0][1], end=' / ')\n",
    "#기준점 2\n",
    "print(random_points[1][0], random_points[1][1])"
   ]
  },
  {
   "cell_type": "code",
   "execution_count": null,
   "metadata": {},
   "outputs": [],
   "source": []
  },
  {
   "cell_type": "code",
   "execution_count": 26,
   "metadata": {
    "ExecuteTime": {
     "end_time": "2021-03-19T04:14:55.210767Z",
     "start_time": "2021-03-19T04:14:54.956417Z"
    }
   },
   "outputs": [
    {
     "data": {
      "text/plain": [
       "[<matplotlib.lines.Line2D at 0x217f7a18160>]"
      ]
     },
     "execution_count": 26,
     "metadata": {},
     "output_type": "execute_result"
    },
    {
     "data": {
      "image/png": "[encoded data removed]",
      "text/plain": [
       "<Figure size 432x288 with 1 Axes>"
      ]
     },
     "metadata": {
      "needs_background": "light"
     },
     "output_type": "display_data"
    }
   ],
   "source": [
    "# 컴퓨터의 입장에서 보면.\n",
    "for x in data:\n",
    "    plt.plot(x[0], x[1], 'o', color='k')\n",
    "plt.plot(random_points[0][0], random_points[0][1], 'x', color='r') #기준점1\n",
    "plt.plot(random_points[1][0], random_points[1][1], 'x', color='b') #기준점2"
   ]
  },
  {
   "cell_type": "code",
   "execution_count": 35,
   "metadata": {
    "ExecuteTime": {
     "end_time": "2021-03-19T05:42:19.293888Z",
     "start_time": "2021-03-19T05:42:19.290914Z"
    }
   },
   "outputs": [],
   "source": [
    "# 두 영역으로 나눌 빈 리스트 생성.\n",
    "group1 = []\n",
    "group2 = []"
   ]
  },
  {
   "cell_type": "code",
   "execution_count": 32,
   "metadata": {
    "ExecuteTime": {
     "end_time": "2021-03-19T05:41:56.199514Z",
     "start_time": "2021-03-19T05:41:56.195524Z"
    }
   },
   "outputs": [],
   "source": [
    "# 영역을 나누기위해 두 점 사이의 거리를 구하는 함수. [0,0] ~ [3,4]\n",
    "def dist(a, b):\n",
    "    return np.sqrt((a[0]-b[0])**2 + (a[1]-b[1])**2)"
   ]
  },
  {
   "cell_type": "code",
   "execution_count": 33,
   "metadata": {
    "ExecuteTime": {
     "end_time": "2021-03-19T05:41:57.031710Z",
     "start_time": "2021-03-19T05:41:57.026722Z"
    }
   },
   "outputs": [
    {
     "data": {
      "text/plain": [
       "5.0"
      ]
     },
     "execution_count": 33,
     "metadata": {},
     "output_type": "execute_result"
    }
   ],
   "source": [
    "a = [0,0]; b = [3,4]\n",
    "dist(a,b)"
   ]
  },
  {
   "cell_type": "code",
   "execution_count": 36,
   "metadata": {
    "ExecuteTime": {
     "end_time": "2021-03-19T05:42:20.670874Z",
     "start_time": "2021-03-19T05:42:20.666911Z"
    }
   },
   "outputs": [],
   "source": [
    "for d in data:\n",
    "    if dist(random_points[0], d) < dist(random_points[1],d): \n",
    "        group1.append(d) # 빨간x랑 더 가까운 그룹\n",
    "    else:\n",
    "        group2.append(d) # 파란x랑 더 가까운 그룹"
   ]
  },
  {
   "cell_type": "code",
   "execution_count": 38,
   "metadata": {
    "ExecuteTime": {
     "end_time": "2021-03-19T05:44:13.838541Z",
     "start_time": "2021-03-19T05:44:13.586844Z"
    }
   },
   "outputs": [
    {
     "data": {
      "text/plain": [
       "[<matplotlib.lines.Line2D at 0x217f8019520>]"
      ]
     },
     "execution_count": 38,
     "metadata": {},
     "output_type": "execute_result"
    },
    {
     "data": {
      "image/png": "[encoded data removed]",
      "text/plain": [
       "<Figure size 432x288 with 1 Axes>"
      ]
     },
     "metadata": {
      "needs_background": "light"
     },
     "output_type": "display_data"
    }
   ],
   "source": [
    "# 새로운 영영과 랜덤점 그래프\n",
    "for d in group1:\n",
    "    plt.plot(d[0], d[1], 'o', color='r')\n",
    "for d in group2:\n",
    "    plt.plot(d[0], d[1], 'o', color='b')\n",
    "plt.plot(random_points[0][0], random_points[0][1], 'x', color='r') #기준점1\n",
    "plt.plot(random_points[1][0], random_points[1][1], 'x', color='b') #기준점2"
   ]
  },
  {
   "cell_type": "code",
   "execution_count": 41,
   "metadata": {
    "ExecuteTime": {
     "end_time": "2021-03-19T05:53:10.991570Z",
     "start_time": "2021-03-19T05:53:10.985586Z"
    }
   },
   "outputs": [
    {
     "name": "stdout",
     "output_type": "stream",
     "text": [
      "[[59, 167], [44, 143]]\n",
      "[[68.72727272727273, 177.7012987012987], [49.56521739130435, 148.91304347826087]]\n"
     ]
    }
   ],
   "source": [
    "# 기준점 이동\n",
    "sumX = 0; sumY = 0\n",
    "for g in group1:\n",
    "    sumX += g[0] # x축값들 누적\n",
    "    sumY += g[1] # y축값들 누적\n",
    "\n",
    "# 새로운 기준점1\n",
    "new_points = []\n",
    "new_points.append([sumX/len(group1), sumY/len(group1)])\n",
    "#print(new_points)\n",
    "sumX = 0; sumY = 0\n",
    "for g in group2:\n",
    "    sumX += g[0]\n",
    "    sumY += g[1]\n",
    "    \n",
    "#새로운 기준점2\n",
    "new_points.append([sumX/len(group2), sumY/len(group2)])\n",
    "print(random_points) #처음에 만든 랜덤기준점.\n",
    "print(new_points) # 새로만든 기준점."
   ]
  },
  {
   "cell_type": "code",
   "execution_count": 42,
   "metadata": {
    "ExecuteTime": {
     "end_time": "2021-03-19T05:54:03.779114Z",
     "start_time": "2021-03-19T05:54:03.377913Z"
    }
   },
   "outputs": [
    {
     "data": {
      "text/plain": [
       "[<matplotlib.lines.Line2D at 0x217f85a31f0>]"
      ]
     },
     "execution_count": 42,
     "metadata": {},
     "output_type": "execute_result"
    },
    {
     "data": {
      "image/png": "[encoded data removed]",
      "text/plain": [
       "<Figure size 432x288 with 1 Axes>"
      ]
     },
     "metadata": {
      "needs_background": "light"
     },
     "output_type": "display_data"
    }
   ],
   "source": [
    "# 기존 영역의 new_points 그래프\n",
    "for d in group1:\n",
    "    plt.plot(d[0], d[1], 'o', color='r')\n",
    "for d in group2:\n",
    "    plt.plot(d[0], d[1], 'o', color='b')\n",
    "plt.plot(new_points[0][0], new_points[0][1], 'x', color='r') #기준점1\n",
    "plt.plot(new_points[1][0], new_points[1][1], 'x', color='b') #기준점2"
   ]
  },
  {
   "cell_type": "code",
   "execution_count": 43,
   "metadata": {
    "ExecuteTime": {
     "end_time": "2021-03-19T05:57:24.878048Z",
     "start_time": "2021-03-19T05:57:24.873088Z"
    }
   },
   "outputs": [],
   "source": [
    "group1 = []\n",
    "group2 = []\n",
    "\n",
    "for d in data:\n",
    "    if dist(new_points[0], d) < dist(new_points[1],d): \n",
    "        group1.append(d) # 빨간x랑 더 가까운 그룹\n",
    "    else:\n",
    "        group2.append(d) # 파란x랑 더 가까운 그룹"
   ]
  },
  {
   "cell_type": "code",
   "execution_count": 44,
   "metadata": {
    "ExecuteTime": {
     "end_time": "2021-03-19T05:58:25.501782Z",
     "start_time": "2021-03-19T05:58:25.249848Z"
    }
   },
   "outputs": [
    {
     "data": {
      "text/plain": [
       "[<matplotlib.lines.Line2D at 0x217f7f9c730>]"
      ]
     },
     "execution_count": 44,
     "metadata": {},
     "output_type": "execute_result"
    },
    {
     "data": {
      "image/png": "[encoded data removed]",
      "text/plain": [
       "<Figure size 432x288 with 1 Axes>"
      ]
     },
     "metadata": {
      "needs_background": "light"
     },
     "output_type": "display_data"
    }
   ],
   "source": [
    "for d in group1:\n",
    "    plt.plot(d[0], d[1], 'o', color='r')\n",
    "for d in group2:\n",
    "    plt.plot(d[0], d[1], 'o', color='b')\n",
    "plt.plot(new_points[0][0], new_points[0][1], 'x', color='r') #기준점1\n",
    "plt.plot(new_points[1][0], new_points[1][1], 'x', color='b') #기준점2"
   ]
  },
  {
   "cell_type": "markdown",
   "metadata": {},
   "source": [
    "### 상단의 코드들의 전체 코드."
   ]
  },
  {
   "cell_type": "code",
   "execution_count": 45,
   "metadata": {
    "ExecuteTime": {
     "end_time": "2021-03-19T06:13:16.185255Z",
     "start_time": "2021-03-19T06:13:16.161634Z"
    }
   },
   "outputs": [
    {
     "name": "stdout",
     "output_type": "stream",
     "text": [
      "초기 기준점 :  [[52, 189], [53, 174]]\n",
      "1 번째 기준 :  [[74.67857142857143, 191.85714285714286], [61.06944444444444, 166.31944444444446]]\n",
      "2 번째 기준 :  [[76.0, 189.25714285714287], [58.89230769230769, 164.96923076923076]]\n",
      "3 번째 기준 :  [[75.65789473684211, 188.1315789473684], [58.274193548387096, 164.48387096774192]]\n",
      "4 번째 기준 :  [[75.65853658536585, 186.85365853658536], [57.389830508474574, 164.16949152542372]]\n",
      "5 번째 기준 :  [[75.48837209302326, 186.1860465116279], [56.87719298245614, 163.87719298245614]]\n",
      "6 번째 기준 :  [[75.08695652173913, 185.32608695652175], [56.18518518518518, 163.37037037037038]]\n",
      "7 번째 기준 :  [[74.75, 184.85416666666666], [55.76923076923077, 162.96153846153845]]\n",
      "8 번째 기준 :  [[74.63265306122449, 184.57142857142858], [55.509803921568626, 162.80392156862746]]\n",
      "9 번째 기준 :  [[74.63265306122449, 184.57142857142858], [55.509803921568626, 162.80392156862746]]\n",
      "10 번째 기준 :  [[74.63265306122449, 184.57142857142858], [55.509803921568626, 162.80392156862746]]\n"
     ]
    }
   ],
   "source": [
    "import random\n",
    "import numpy as np\n",
    "import matplotlib.pyplot as plt\n",
    "\n",
    "\n",
    "# 영역을 나누기위해 두 점 사이의 거리를 구하는 함수. [0,0] ~ [3,4]\n",
    "def dist(a, b):\n",
    "    return np.sqrt((a[0]-b[0])**2 + (a[1]-b[1])**2)\n",
    "\n",
    "data = []\n",
    "for i in range(50):\n",
    "    data.append([random.randint(40,70),random.randint(140, 180)]) # 1그룹.\n",
    "    data.append([random.randint(60,90),random.randint(170, 200)]) #2그룹.\n",
    "\n",
    "new_points = [[random.randint(40,90),random.randint(140, 200)],\n",
    "              [random.randint(40,90),random.randint(140, 200)]]\n",
    "print('초기 기준점 : ', new_points)\n",
    "for i in range(1,11): #1부터 10까지\n",
    "    group1 = []\n",
    "    group2 = []\n",
    "    for d in data:\n",
    "        if dist(new_points[0], d) < dist(new_points[1], d):\n",
    "            group1.append(d) # 빨간x랑 더 가까운 그룹\n",
    "        else:\n",
    "            group2.append(d) # 파란x랑 더 가까운 그룹\n",
    "    # 그룹1과 그룹2의 중간지점을 다른 새로운 기준점을 지정.\n",
    "    sumX = 0; sumY =0\n",
    "    for g in group1:\n",
    "        sumX += g[0]\n",
    "        sumY += g[1]\n",
    "    new_points = []\n",
    "    new_points.append([sumX/len(group1), sumY/len(group1)])\n",
    "    sumX = 0; sumY =0\n",
    "    for g in group2:\n",
    "        sumX += g[0]\n",
    "        sumY += g[1]\n",
    "    new_points.append([sumX/len(group2), sumY/len(group2)])\n",
    "    print(i,'번째 기준 : ', new_points) # 8번째부터 움직이지 않는데 군집화가 완료된걸 볼수있다."
   ]
  },
  {
   "cell_type": "code",
   "execution_count": 49,
   "metadata": {
    "ExecuteTime": {
     "end_time": "2021-03-19T06:19:27.221000Z",
     "start_time": "2021-03-19T06:19:27.063573Z"
    }
   },
   "outputs": [
    {
     "data": {
      "text/plain": [
       "[<matplotlib.lines.Line2D at 0x217f9629280>]"
      ]
     },
     "execution_count": 49,
     "metadata": {},
     "output_type": "execute_result"
    },
    {
     "data": {
      "image/png": "[encoded data removed]",
      "text/plain": [
       "<Figure size 432x288 with 1 Axes>"
      ]
     },
     "metadata": {
      "needs_background": "light"
     },
     "output_type": "display_data"
    }
   ],
   "source": [
    "# 여자 몸무게\n",
    "[d[0] for d in data[0:100:2]]\n",
    "# 여자 키\n",
    "[d[1] for d in data[0:100:2]]\n",
    "#남자 몸무게\n",
    "[d[0] for d in data[1:100:2]]\n",
    "#남자 몸무게\n",
    "[d[1] for d in data[1:100:2]]\n",
    "plt.plot([d[0] for d in data[0:100:2]] , [d[1] for d in data[0:100:2]],\n",
    "             'o', color='r')\n",
    "plt.plot([d[0] for d in data[1:100:2]] , [d[1] for d in data[1:100:2]],\n",
    "             'o', color='b')"
   ]
  },
  {
   "cell_type": "code",
   "execution_count": 50,
   "metadata": {
    "ExecuteTime": {
     "end_time": "2021-03-19T06:21:28.102370Z",
     "start_time": "2021-03-19T06:21:27.863529Z"
    }
   },
   "outputs": [
    {
     "data": {
      "image/png": "[encoded data removed]",
      "text/plain": [
       "<Figure size 432x288 with 1 Axes>"
      ]
     },
     "metadata": {
      "needs_background": "light"
     },
     "output_type": "display_data"
    }
   ],
   "source": [
    "for g in group1:\n",
    "    plt.plot(g[0], g[1], 'o', color='r')\n",
    "for g in group2:\n",
    "    plt.plot(g[0], g[1], 'o', color='b')"
   ]
  },
  {
   "cell_type": "code",
   "execution_count": null,
   "metadata": {},
   "outputs": [],
   "source": []
  },
  {
   "cell_type": "code",
   "execution_count": null,
   "metadata": {},
   "outputs": [],
   "source": []
  },
  {
   "cell_type": "code",
   "execution_count": null,
   "metadata": {},
   "outputs": [],
   "source": []
  }
 ],
 "metadata": {
  "kernelspec": {
   "display_name": "Python 3",
   "language": "python",
   "name": "python3"
  },
  "language_info": {
   "codemirror_mode": {
    "name": "ipython",
    "version": 3
   },
   "file_extension": ".py",
   "mimetype": "text/x-python",
   "name": "python",
   "nbconvert_exporter": "python",
   "pygments_lexer": "ipython3",
   "version": "3.8.5"
  },
  "toc": {
   "base_numbering": 1,
   "nav_menu": {},
   "number_sections": true,
   "sideBar": true,
   "skip_h1_title": false,
   "title_cell": "Table of Contents",
   "title_sidebar": "Contents",
   "toc_cell": false,
   "toc_position": {},
   "toc_section_display": true,
   "toc_window_display": false
  },
  "varInspector": {
   "cols": {
    "lenName": 16,
    "lenType": 16,
    "lenVar": 40
   },
   "kernels_config": {
    "python": {
     "delete_cmd_postfix": "",
     "delete_cmd_prefix": "del ",
     "library": "var_list.py",
     "varRefreshCmd": "print(var_dic_list())"
    },
    "r": {
     "delete_cmd_postfix": ") ",
     "delete_cmd_prefix": "rm(",
     "library": "var_list.r",
     "varRefreshCmd": "cat(var_dic_list()) "
    }
   },
   "types_to_exclude": [
    "module",
    "function",
    "builtin_function_or_method",
    "instance",
    "_Feature"
   ],
   "window_display": false
  }
 },
 "nbformat": 4,
 "nbformat_minor": 4
}
