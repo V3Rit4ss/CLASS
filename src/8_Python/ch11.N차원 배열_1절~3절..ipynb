{
 "cells": [
  {
   "cell_type": "markdown",
   "metadata": {
    "ExecuteTime": {
     "end_time": "2021-03-04T03:43:37.703626Z",
     "start_time": "2021-03-04T03:43:37.699638Z"
    }
   },
   "source": [
    "**<b><font color=\"red\">ch11. N차원 배열 만들기</font><b>**"
   ]
  },
  {
   "cell_type": "markdown",
   "metadata": {},
   "source": [
    "- N차원 배열 객체\n",
    "- 행렬 개념으로 이해\n",
    "- C언어로 구현된 고성능 수치계산 패키지 Numpy 이용\n",
    "- C/C+, 포트란. 코드 통합도구"
   ]
  },
  {
   "cell_type": "markdown",
   "metadata": {},
   "source": [
    "# 1절. 넘파이 패키지 사용."
   ]
  },
  {
   "cell_type": "code",
   "execution_count": 1,
   "metadata": {
    "ExecuteTime": {
     "end_time": "2021-03-07T06:48:05.272326Z",
     "start_time": "2021-03-07T06:48:05.244399Z"
    }
   },
   "outputs": [
    {
     "data": {
      "text/plain": [
       "array([ 0,  1,  2,  3,  4,  5,  6,  7,  8,  9, 10, 11, 12, 13, 14])"
      ]
     },
     "execution_count": 1,
     "metadata": {},
     "output_type": "execute_result"
    }
   ],
   "source": [
    "import numpy as np\n",
    "a = np.arange(15) #0부터 15앞까지 1씩 증가하는 1차원 배열.\n",
    "a"
   ]
  },
  {
   "cell_type": "code",
   "execution_count": 5,
   "metadata": {
    "ExecuteTime": {
     "end_time": "2021-03-04T03:53:03.001981Z",
     "start_time": "2021-03-04T03:53:02.996994Z"
    }
   },
   "outputs": [
    {
     "data": {
      "text/plain": [
       "array([[ 0,  1,  2,  3,  4],\n",
       "       [ 5,  6,  7,  8,  9],\n",
       "       [10, 11, 12, 13, 14]])"
      ]
     },
     "execution_count": 5,
     "metadata": {},
     "output_type": "execute_result"
    }
   ],
   "source": [
    "a = np.arange(15).reshape(3,5) # 3행5열로 reshape 하겠다.\n",
    "a"
   ]
  },
  {
   "cell_type": "code",
   "execution_count": 6,
   "metadata": {
    "ExecuteTime": {
     "end_time": "2021-03-04T03:53:55.172273Z",
     "start_time": "2021-03-04T03:53:55.168304Z"
    }
   },
   "outputs": [
    {
     "data": {
      "text/plain": [
       "numpy.ndarray"
      ]
     },
     "execution_count": 6,
     "metadata": {},
     "output_type": "execute_result"
    }
   ],
   "source": [
    "type(a) #a 변수 자체의 타입 : N차원 배열"
   ]
  },
  {
   "cell_type": "code",
   "execution_count": 8,
   "metadata": {
    "ExecuteTime": {
     "end_time": "2021-03-04T03:54:41.306119Z",
     "start_time": "2021-03-04T03:54:41.302109Z"
    }
   },
   "outputs": [
    {
     "data": {
      "text/plain": [
       "dtype('int32')"
      ]
     },
     "execution_count": 8,
     "metadata": {},
     "output_type": "execute_result"
    }
   ],
   "source": [
    "a.dtype #a 변수의 요소들의 type => 내부의 값들이(타입이) 같아야한다."
   ]
  },
  {
   "cell_type": "code",
   "execution_count": 13,
   "metadata": {
    "ExecuteTime": {
     "end_time": "2021-03-04T03:57:24.257781Z",
     "start_time": "2021-03-04T03:57:24.253817Z"
    }
   },
   "outputs": [
    {
     "data": {
      "text/plain": [
       "'int32'"
      ]
     },
     "execution_count": 13,
     "metadata": {},
     "output_type": "execute_result"
    }
   ],
   "source": [
    "a.dtype.name #a 변수의 요소들의 type"
   ]
  },
  {
   "cell_type": "code",
   "execution_count": 14,
   "metadata": {
    "ExecuteTime": {
     "end_time": "2021-03-04T03:58:17.170593Z",
     "start_time": "2021-03-04T03:58:17.165606Z"
    }
   },
   "outputs": [
    {
     "data": {
      "text/plain": [
       "4"
      ]
     },
     "execution_count": 14,
     "metadata": {},
     "output_type": "execute_result"
    }
   ],
   "source": [
    "a.itemsize # 요소 하나하나의 사이즈(byte 단위)"
   ]
  },
  {
   "cell_type": "code",
   "execution_count": 9,
   "metadata": {
    "ExecuteTime": {
     "end_time": "2021-03-04T03:55:48.585830Z",
     "start_time": "2021-03-04T03:55:48.581840Z"
    }
   },
   "outputs": [
    {
     "data": {
      "text/plain": [
       "2"
      ]
     },
     "execution_count": 9,
     "metadata": {},
     "output_type": "execute_result"
    }
   ],
   "source": [
    "a.ndim # 축 수 (차원수)"
   ]
  },
  {
   "cell_type": "code",
   "execution_count": 10,
   "metadata": {
    "ExecuteTime": {
     "end_time": "2021-03-04T03:55:59.057936Z",
     "start_time": "2021-03-04T03:55:59.052947Z"
    }
   },
   "outputs": [
    {
     "data": {
      "text/plain": [
       "(3, 5)"
      ]
     },
     "execution_count": 10,
     "metadata": {},
     "output_type": "execute_result"
    }
   ],
   "source": [
    "a.shape # 배열구조"
   ]
  },
  {
   "cell_type": "code",
   "execution_count": 11,
   "metadata": {
    "ExecuteTime": {
     "end_time": "2021-03-04T03:56:16.283861Z",
     "start_time": "2021-03-04T03:56:16.268238Z"
    }
   },
   "outputs": [
    {
     "data": {
      "text/plain": [
       "15"
      ]
     },
     "execution_count": 11,
     "metadata": {},
     "output_type": "execute_result"
    }
   ],
   "source": [
    "a.size #a 배열요소의 총 수"
   ]
  },
  {
   "cell_type": "code",
   "execution_count": 16,
   "metadata": {
    "ExecuteTime": {
     "end_time": "2021-03-04T04:00:04.721855Z",
     "start_time": "2021-03-04T04:00:04.717865Z"
    }
   },
   "outputs": [],
   "source": [
    "# dtype 속성을 바꾸면 형변환이 되지 않는다."
   ]
  },
  {
   "cell_type": "code",
   "execution_count": 25,
   "metadata": {
    "ExecuteTime": {
     "end_time": "2021-03-04T04:03:29.346678Z",
     "start_time": "2021-03-04T04:03:29.340686Z"
    }
   },
   "outputs": [
    {
     "data": {
      "text/plain": [
       "array([[ 0,  1,  2,  3],\n",
       "       [ 4,  5,  6,  7],\n",
       "       [ 8,  9, 10, 11]])"
      ]
     },
     "execution_count": 25,
     "metadata": {},
     "output_type": "execute_result"
    }
   ],
   "source": [
    "a = np.arange(12).reshape(3,4)\n",
    "a"
   ]
  },
  {
   "cell_type": "code",
   "execution_count": 26,
   "metadata": {
    "ExecuteTime": {
     "end_time": "2021-03-04T04:03:30.892599Z",
     "start_time": "2021-03-04T04:03:30.876833Z"
    }
   },
   "outputs": [
    {
     "data": {
      "text/plain": [
       "12"
      ]
     },
     "execution_count": 26,
     "metadata": {},
     "output_type": "execute_result"
    }
   ],
   "source": [
    "a.size"
   ]
  },
  {
   "cell_type": "code",
   "execution_count": 27,
   "metadata": {
    "ExecuteTime": {
     "end_time": "2021-03-04T04:03:35.233373Z",
     "start_time": "2021-03-04T04:03:35.228386Z"
    }
   },
   "outputs": [
    {
     "data": {
      "text/plain": [
       "dtype('int32')"
      ]
     },
     "execution_count": 27,
     "metadata": {},
     "output_type": "execute_result"
    }
   ],
   "source": [
    "a.dtype # 0 =32bit , 1=32bit , 2=32bit ~~~ 하나하나 32bit이다."
   ]
  },
  {
   "cell_type": "code",
   "execution_count": 28,
   "metadata": {
    "ExecuteTime": {
     "end_time": "2021-03-04T04:03:37.208669Z",
     "start_time": "2021-03-04T04:03:37.204680Z"
    }
   },
   "outputs": [],
   "source": [
    "a.dtype = np.int64 # a 요소의 dtype을 int64(bit)으로"
   ]
  },
  {
   "cell_type": "code",
   "execution_count": 29,
   "metadata": {
    "ExecuteTime": {
     "end_time": "2021-03-04T04:03:38.465610Z",
     "start_time": "2021-03-04T04:03:38.460622Z"
    }
   },
   "outputs": [
    {
     "data": {
      "text/plain": [
       "dtype('int64')"
      ]
     },
     "execution_count": 29,
     "metadata": {},
     "output_type": "execute_result"
    }
   ],
   "source": [
    "a.dtype"
   ]
  },
  {
   "cell_type": "code",
   "execution_count": 30,
   "metadata": {
    "ExecuteTime": {
     "end_time": "2021-03-04T04:03:40.601420Z",
     "start_time": "2021-03-04T04:03:40.596455Z"
    }
   },
   "outputs": [
    {
     "data": {
      "text/plain": [
       "array([[ 4294967296, 12884901890],\n",
       "       [21474836484, 30064771078],\n",
       "       [38654705672, 47244640266]], dtype=int64)"
      ]
     },
     "execution_count": 30,
     "metadata": {},
     "output_type": "execute_result"
    }
   ],
   "source": [
    "a"
   ]
  },
  {
   "cell_type": "code",
   "execution_count": 31,
   "metadata": {
    "ExecuteTime": {
     "end_time": "2021-03-04T04:03:44.241855Z",
     "start_time": "2021-03-04T04:03:44.237865Z"
    }
   },
   "outputs": [
    {
     "data": {
      "text/plain": [
       "6"
      ]
     },
     "execution_count": 31,
     "metadata": {},
     "output_type": "execute_result"
    }
   ],
   "source": [
    "a.size"
   ]
  },
  {
   "cell_type": "markdown",
   "metadata": {},
   "source": [
    "# 2절. 넘파이 배열\n",
    "<pre>\n",
    "-array() 함수를 이용한 다른 파이썬 구조(벡터구조)를 넘파이 배열로 변환\n",
    "-넘파이 배열을 생성하는 기타 함수를 : arange, ones, zeros\n",
    "-특수 라이브러리 함수(ex. random) 이용\n",
    "- [넘파이 Docs](http://numpt.org/doc/stable/index.html)\n",
    "</pre>"
   ]
  },
  {
   "cell_type": "markdown",
   "metadata": {},
   "source": [
    "## 2.1 array( ) 함수로 넘파이 배열 만들기"
   ]
  },
  {
   "cell_type": "code",
   "execution_count": 33,
   "metadata": {
    "ExecuteTime": {
     "end_time": "2021-03-04T04:15:39.258374Z",
     "start_time": "2021-03-04T04:15:39.253387Z"
    }
   },
   "outputs": [
    {
     "data": {
      "text/plain": [
       "array([2, 4, 6])"
      ]
     },
     "execution_count": 33,
     "metadata": {},
     "output_type": "execute_result"
    }
   ],
   "source": [
    "import numpy as np\n",
    "a = np.array([2,4,6]) #reshape 해서 변경 가능.\n",
    "a"
   ]
  },
  {
   "cell_type": "code",
   "execution_count": 34,
   "metadata": {
    "ExecuteTime": {
     "end_time": "2021-03-04T04:16:01.525087Z",
     "start_time": "2021-03-04T04:16:01.521097Z"
    }
   },
   "outputs": [
    {
     "name": "stdout",
     "output_type": "stream",
     "text": [
      "2\t4\t6\t"
     ]
    }
   ],
   "source": [
    "for i in a:\n",
    "    print(i , end='\\t')"
   ]
  },
  {
   "cell_type": "code",
   "execution_count": 36,
   "metadata": {
    "ExecuteTime": {
     "end_time": "2021-03-04T04:16:17.355267Z",
     "start_time": "2021-03-04T04:16:17.350273Z"
    }
   },
   "outputs": [
    {
     "data": {
      "text/plain": [
       "4"
      ]
     },
     "execution_count": 36,
     "metadata": {},
     "output_type": "execute_result"
    }
   ],
   "source": [
    "a[1] #인덱스1번방 조회"
   ]
  },
  {
   "cell_type": "code",
   "execution_count": 40,
   "metadata": {
    "ExecuteTime": {
     "end_time": "2021-03-04T04:17:38.930480Z",
     "start_time": "2021-03-04T04:17:38.925492Z"
    }
   },
   "outputs": [
    {
     "data": {
      "text/plain": [
       "(3, 1)"
      ]
     },
     "execution_count": 40,
     "metadata": {},
     "output_type": "execute_result"
    }
   ],
   "source": [
    "a.shape # 1차원."
   ]
  },
  {
   "cell_type": "code",
   "execution_count": 41,
   "metadata": {
    "ExecuteTime": {
     "end_time": "2021-03-04T04:17:42.244329Z",
     "start_time": "2021-03-04T04:17:42.229548Z"
    }
   },
   "outputs": [
    {
     "data": {
      "text/plain": [
       "array([[1. ],\n",
       "       [6. ],\n",
       "       [9.1]])"
      ]
     },
     "execution_count": 41,
     "metadata": {},
     "output_type": "execute_result"
    }
   ],
   "source": [
    "#1,6,9에서 하나가 x.1 로 실수로 되어버리면 전체가 실수로 바뀐다.\n",
    "a = np.array([1,6,9.1]).reshape(3,1) \n",
    "a"
   ]
  },
  {
   "cell_type": "code",
   "execution_count": 43,
   "metadata": {
    "ExecuteTime": {
     "end_time": "2021-03-04T04:18:09.881967Z",
     "start_time": "2021-03-04T04:18:09.877983Z"
    }
   },
   "outputs": [
    {
     "data": {
      "text/plain": [
       "dtype('float64')"
      ]
     },
     "execution_count": 43,
     "metadata": {},
     "output_type": "execute_result"
    }
   ],
   "source": [
    "a.dtype # 상단에서 실수값이 있기때문에 float 타입으로 되었다."
   ]
  },
  {
   "cell_type": "code",
   "execution_count": 45,
   "metadata": {
    "ExecuteTime": {
     "end_time": "2021-03-04T04:20:35.057631Z",
     "start_time": "2021-03-04T04:20:35.052670Z"
    }
   },
   "outputs": [
    {
     "data": {
      "text/plain": [
       "array([[1.5, 2.3],\n",
       "       [4. , 5. ]])"
      ]
     },
     "execution_count": 45,
     "metadata": {},
     "output_type": "execute_result"
    }
   ],
   "source": [
    "# 벡터로 넣음. 배열이라서 서로의 행마다 데이터가 같아야한다.\n",
    "b = np.array([(1.5,2.3),(4,5)]) \n",
    "# 자동 dtype 세팅\n",
    "b"
   ]
  },
  {
   "cell_type": "code",
   "execution_count": 47,
   "metadata": {
    "ExecuteTime": {
     "end_time": "2021-03-04T05:32:19.890382Z",
     "start_time": "2021-03-04T05:32:19.886417Z"
    }
   },
   "outputs": [
    {
     "data": {
      "text/plain": [
       "'1.19.2'"
      ]
     },
     "execution_count": 47,
     "metadata": {},
     "output_type": "execute_result"
    }
   ],
   "source": [
    "np.__version__ # 버젼 확인."
   ]
  },
  {
   "cell_type": "code",
   "execution_count": 49,
   "metadata": {
    "ExecuteTime": {
     "end_time": "2021-03-04T05:33:54.192170Z",
     "start_time": "2021-03-04T05:33:54.187209Z"
    }
   },
   "outputs": [
    {
     "data": {
      "text/plain": [
       "array([[1. , 2. ],\n",
       "       [3. , 4.1]])"
      ]
     },
     "execution_count": 49,
     "metadata": {},
     "output_type": "execute_result"
    }
   ],
   "source": [
    "a = np.array([1, 2, 3, 4.1]).reshape(2,2) #2행 2열짜리 2차원 배열\n",
    "a"
   ]
  },
  {
   "cell_type": "code",
   "execution_count": 51,
   "metadata": {
    "ExecuteTime": {
     "end_time": "2021-03-04T05:34:32.216554Z",
     "start_time": "2021-03-04T05:34:32.212565Z"
    }
   },
   "outputs": [
    {
     "data": {
      "text/plain": [
       "dtype('float64')"
      ]
     },
     "execution_count": 51,
     "metadata": {},
     "output_type": "execute_result"
    }
   ],
   "source": [
    "a.dtype # 1.  , 2.   , 3.   , 4.1 실수 하나때문에 모두 float 형으로 되었다."
   ]
  },
  {
   "cell_type": "code",
   "execution_count": 58,
   "metadata": {
    "ExecuteTime": {
     "end_time": "2021-03-04T05:38:58.384805Z",
     "start_time": "2021-03-04T05:38:58.379844Z"
    }
   },
   "outputs": [
    {
     "data": {
      "text/plain": [
       "array([[1, 2, 3],\n",
       "       [4, 5, 6]])"
      ]
     },
     "execution_count": 58,
     "metadata": {},
     "output_type": "execute_result"
    }
   ],
   "source": [
    "b = np.array([[1,2,3],[4,5,6]]) # reshape 안하면 2행 3열짜리로 생성. #dtype 자동 세팅\n",
    "b"
   ]
  },
  {
   "cell_type": "code",
   "execution_count": 53,
   "metadata": {
    "ExecuteTime": {
     "end_time": "2021-03-04T05:36:18.344252Z",
     "start_time": "2021-03-04T05:36:18.339265Z"
    }
   },
   "outputs": [
    {
     "data": {
      "text/plain": [
       "dtype('int32')"
      ]
     },
     "execution_count": 53,
     "metadata": {},
     "output_type": "execute_result"
    }
   ],
   "source": [
    "b.dtype"
   ]
  },
  {
   "cell_type": "code",
   "execution_count": 61,
   "metadata": {
    "ExecuteTime": {
     "end_time": "2021-03-04T05:39:13.689107Z",
     "start_time": "2021-03-04T05:39:13.684120Z"
    }
   },
   "outputs": [
    {
     "data": {
      "text/plain": [
       "array([[1, 2, 3],\n",
       "       [4, 5, 6]], dtype=int64)"
      ]
     },
     "execution_count": 61,
     "metadata": {},
     "output_type": "execute_result"
    }
   ],
   "source": [
    "b = np.array([[1,2,3],[4,5,6]], dtype=np.int64) #dtype을 인수로 세팅\n",
    "b"
   ]
  },
  {
   "cell_type": "code",
   "execution_count": 62,
   "metadata": {
    "ExecuteTime": {
     "end_time": "2021-03-04T05:39:16.455677Z",
     "start_time": "2021-03-04T05:39:16.450690Z"
    }
   },
   "outputs": [
    {
     "data": {
      "text/plain": [
       "dtype('int64')"
      ]
     },
     "execution_count": 62,
     "metadata": {},
     "output_type": "execute_result"
    }
   ],
   "source": [
    "b.dtype"
   ]
  },
  {
   "cell_type": "code",
   "execution_count": 66,
   "metadata": {
    "ExecuteTime": {
     "end_time": "2021-03-04T05:40:43.080322Z",
     "start_time": "2021-03-04T05:40:43.076357Z"
    }
   },
   "outputs": [],
   "source": [
    "b = b.astype(np.int32) #b안에 있는 요소들 dtype 바꾸기"
   ]
  },
  {
   "cell_type": "code",
   "execution_count": 65,
   "metadata": {
    "ExecuteTime": {
     "end_time": "2021-03-04T05:40:18.504158Z",
     "start_time": "2021-03-04T05:40:18.499170Z"
    }
   },
   "outputs": [
    {
     "data": {
      "text/plain": [
       "dtype('int32')"
      ]
     },
     "execution_count": 65,
     "metadata": {},
     "output_type": "execute_result"
    }
   ],
   "source": [
    "b.dtype"
   ]
  },
  {
   "cell_type": "code",
   "execution_count": 67,
   "metadata": {
    "ExecuteTime": {
     "end_time": "2021-03-04T05:42:18.728589Z",
     "start_time": "2021-03-04T05:42:18.723603Z"
    }
   },
   "outputs": [
    {
     "data": {
      "text/plain": [
       "[[1, 2, 3], [4, 5, 6]]"
      ]
     },
     "execution_count": 67,
     "metadata": {},
     "output_type": "execute_result"
    }
   ],
   "source": [
    "#for row in b:\n",
    "list_ = [[1,2,3],[4,5,6]]\n",
    "list_"
   ]
  },
  {
   "cell_type": "code",
   "execution_count": 76,
   "metadata": {
    "ExecuteTime": {
     "end_time": "2021-03-04T05:48:19.296527Z",
     "start_time": "2021-03-04T05:48:19.292537Z"
    }
   },
   "outputs": [
    {
     "name": "stdout",
     "output_type": "stream",
     "text": [
      "1\t2\t3\t\n",
      "4\t5\t6\t\n"
     ]
    }
   ],
   "source": [
    "# 리스트에서의 .\n",
    "for row in list_: #몇행 몇열을 엑세스 할수 없다.\n",
    "    for data in row:\n",
    "        print(data, end='\\t')\n",
    "    print()"
   ]
  },
  {
   "cell_type": "code",
   "execution_count": 77,
   "metadata": {
    "ExecuteTime": {
     "end_time": "2021-03-04T05:48:22.512102Z",
     "start_time": "2021-03-04T05:48:22.508117Z"
    }
   },
   "outputs": [
    {
     "name": "stdout",
     "output_type": "stream",
     "text": [
      "0행 0열 : 1\t0행 1열 : 2\t0행 2열 : 3\t\n",
      "1행 0열 : 4\t1행 1열 : 5\t1행 2열 : 6\t\n"
     ]
    }
   ],
   "source": [
    "# 리스트에서의 .\n",
    "for i , row in enumerate(list_):\n",
    "    for j, data in enumerate(row):\n",
    "        print(\"{}행 {}열 : {}\".format(i,j,data),end='\\t')\n",
    "    print()"
   ]
  },
  {
   "cell_type": "code",
   "execution_count": 73,
   "metadata": {
    "ExecuteTime": {
     "end_time": "2021-03-04T05:47:10.905085Z",
     "start_time": "2021-03-04T05:47:10.900097Z"
    }
   },
   "outputs": [
    {
     "data": {
      "text/plain": [
       "2"
      ]
     },
     "execution_count": 73,
     "metadata": {},
     "output_type": "execute_result"
    }
   ],
   "source": [
    "list_[0][1] #리스트에서의 인덱싱 방법."
   ]
  },
  {
   "cell_type": "code",
   "execution_count": 75,
   "metadata": {
    "ExecuteTime": {
     "end_time": "2021-03-04T05:47:59.440556Z",
     "start_time": "2021-03-04T05:47:59.436567Z"
    }
   },
   "outputs": [
    {
     "data": {
      "text/plain": [
       "[1, 2]"
      ]
     },
     "execution_count": 75,
     "metadata": {},
     "output_type": "execute_result"
    }
   ],
   "source": [
    "list_[0][0:2] # 리스트에서의 인덱싱 슬라이싱."
   ]
  },
  {
   "cell_type": "code",
   "execution_count": 68,
   "metadata": {
    "ExecuteTime": {
     "end_time": "2021-03-04T05:43:38.880172Z",
     "start_time": "2021-03-04T05:43:38.875212Z"
    }
   },
   "outputs": [
    {
     "data": {
      "text/plain": [
       "array([[1, 2, 3],\n",
       "       [4, 5, 6]], dtype=int16)"
      ]
     },
     "execution_count": 68,
     "metadata": {},
     "output_type": "execute_result"
    }
   ],
   "source": [
    "b = np.array([[1,2,3],[4,5,6]], dtype = np.int16)\n",
    "b"
   ]
  },
  {
   "cell_type": "code",
   "execution_count": 78,
   "metadata": {
    "ExecuteTime": {
     "end_time": "2021-03-04T05:49:48.807078Z",
     "start_time": "2021-03-04T05:49:48.803088Z"
    }
   },
   "outputs": [
    {
     "name": "stdout",
     "output_type": "stream",
     "text": [
      "1\t2\t3\t\n",
      "4\t5\t6\t\n"
     ]
    }
   ],
   "source": [
    "for row in b:\n",
    "    for item in row:\n",
    "        print(item, end='\\t')\n",
    "    print()"
   ]
  },
  {
   "cell_type": "code",
   "execution_count": 79,
   "metadata": {
    "ExecuteTime": {
     "end_time": "2021-03-04T05:50:45.160413Z",
     "start_time": "2021-03-04T05:50:45.155426Z"
    }
   },
   "outputs": [
    {
     "name": "stdout",
     "output_type": "stream",
     "text": [
      "0행0열 : 1\t0행1열 : 2\t0행2열 : 3\t\n",
      "1행0열 : 4\t1행1열 : 5\t1행2열 : 6\t\n"
     ]
    }
   ],
   "source": [
    "for i, row in enumerate(b):\n",
    "    for j, item in enumerate(row):\n",
    "        print(\"{}행{}열 : {}\".format(i, j, item), end=\"\\t\")\n",
    "    print()"
   ]
  },
  {
   "cell_type": "code",
   "execution_count": 81,
   "metadata": {
    "ExecuteTime": {
     "end_time": "2021-03-04T05:52:11.231050Z",
     "start_time": "2021-03-04T05:52:11.228049Z"
    }
   },
   "outputs": [
    {
     "data": {
      "text/plain": [
       "(2, 2)"
      ]
     },
     "execution_count": 81,
     "metadata": {},
     "output_type": "execute_result"
    }
   ],
   "source": [
    "b[0,1], b[0][1] #b[0][1]가능하나 왼쪽처럼 쓰인다. #0행1열. => 넘파이 배열에서의 인덱싱."
   ]
  },
  {
   "cell_type": "code",
   "execution_count": 82,
   "metadata": {
    "ExecuteTime": {
     "end_time": "2021-03-04T05:52:26.928767Z",
     "start_time": "2021-03-04T05:52:26.923779Z"
    }
   },
   "outputs": [
    {
     "data": {
      "text/plain": [
       "array([1, 2], dtype=int16)"
      ]
     },
     "execution_count": 82,
     "metadata": {},
     "output_type": "execute_result"
    }
   ],
   "source": [
    "b[0, 0:2] #넘파이 배열에서의 슬라이싱."
   ]
  },
  {
   "cell_type": "code",
   "execution_count": 3,
   "metadata": {
    "ExecuteTime": {
     "end_time": "2021-03-07T06:48:43.830604Z",
     "start_time": "2021-03-07T06:48:43.815645Z"
    }
   },
   "outputs": [
    {
     "data": {
      "text/plain": [
       "array([[1.+0.j, 2.+0.j],\n",
       "       [3.+0.j, 4.+0.j]])"
      ]
     },
     "execution_count": 3,
     "metadata": {},
     "output_type": "execute_result"
    }
   ],
   "source": [
    "c = np.array([[1,2],[3,4]], dtype = complex) # , dtype = complex 복소수 타입.\n",
    "c"
   ]
  },
  {
   "cell_type": "code",
   "execution_count": 4,
   "metadata": {
    "ExecuteTime": {
     "end_time": "2021-03-07T06:48:45.283103Z",
     "start_time": "2021-03-07T06:48:45.268145Z"
    }
   },
   "outputs": [
    {
     "name": "stdout",
     "output_type": "stream",
     "text": [
      "d= \n",
      "[[1.+0.j 2.+0.j]\n",
      " [3.+0.j 4.+0.j]]\n",
      "2590860776272 2590860776272\n",
      "d의 요소 타입은 :  complex128\n",
      "c= \n",
      "[[100.+0.j   2.+0.j]\n",
      " [  3.+0.j   4.+0.j]]\n"
     ]
    }
   ],
   "source": [
    "d = np.array(c, copy = False) # copy = False 복사 하지마라 : 즉, 서로의 주소가 같다.\n",
    "print('d= ',d, sep='\\n')\n",
    "print(id(c),id(d))\n",
    "print('d의 요소 타입은 : ',d.dtype) #c 타입과 같다.\n",
    "d[0,0] = 100 # d에만 수정했지만 \n",
    "print('c= ',c, sep='\\n') # c값도 수정이 되어있다."
   ]
  },
  {
   "cell_type": "code",
   "execution_count": 5,
   "metadata": {
    "ExecuteTime": {
     "end_time": "2021-03-07T06:48:48.523821Z",
     "start_time": "2021-03-07T06:48:48.497890Z"
    }
   },
   "outputs": [
    {
     "name": "stdout",
     "output_type": "stream",
     "text": [
      "d= \n",
      "[[100   2]\n",
      " [  3   4]]\n",
      "2590860776272 2590860919792\n",
      "d의 요소 타입은 :  int32\n",
      "c= \n",
      "[[100.+0.j   2.+0.j]\n",
      " [  3.+0.j   4.+0.j]]\n"
     ]
    },
    {
     "name": "stderr",
     "output_type": "stream",
     "text": [
      "<ipython-input-5-4122b0033fa9>:2: ComplexWarning: Casting complex values to real discards the imaginary part\n",
      "  d = np.array(c, copy = True, dtype= int) # d 의 타입은 int 로. => 큰값(복소수)에서 작은값(int)으로.\n"
     ]
    }
   ],
   "source": [
    "# copy = True 복사 하라 : 즉, 서로의 주소가 다르다.\n",
    "d = np.array(c, copy = True, dtype= int) # d 의 타입은 int 로. => 큰값(복소수)에서 작은값(int)으로.\n",
    "print('d= ',d, sep='\\n')\n",
    "print(id(c),id(d))\n",
    "print('d의 요소 타입은 : ',d.dtype) \n",
    "d[0,0] = 999\n",
    "print('c= ',c, sep='\\n')"
   ]
  },
  {
   "cell_type": "markdown",
   "metadata": {},
   "source": [
    "## 2.2 기본값이 있는 배열 만들기\n",
    "<pre>\n",
    "- zeros : 요소가 다 '0'\n",
    "- ones : 요소가 다 '1'\n",
    "- empty : 초기내용은 임의값인 배열(메모리 상태에 따라 달라짐.)\n",
    "\n",
    "* 위의 함수로 만들어진 배열의 dtype은 float64 이나, dtype을 따로 지정할 수 있음.\n",
    "</pre>"
   ]
  },
  {
   "cell_type": "code",
   "execution_count": 6,
   "metadata": {
    "ExecuteTime": {
     "end_time": "2021-03-07T06:48:50.883127Z",
     "start_time": "2021-03-07T06:48:50.863183Z"
    }
   },
   "outputs": [
    {
     "data": {
      "text/plain": [
       "array([[0., 0., 0., 0.],\n",
       "       [0., 0., 0., 0.],\n",
       "       [0., 0., 0., 0.]])"
      ]
     },
     "execution_count": 6,
     "metadata": {},
     "output_type": "execute_result"
    }
   ],
   "source": [
    "np.zeros( (3,4) ) # 3행 4열짜리 2차원 배열(단, 요소값 전체가 다 0 [0. ,])"
   ]
  },
  {
   "cell_type": "code",
   "execution_count": 7,
   "metadata": {
    "ExecuteTime": {
     "end_time": "2021-03-07T06:48:52.888354Z",
     "start_time": "2021-03-07T06:48:52.866411Z"
    }
   },
   "outputs": [
    {
     "name": "stdout",
     "output_type": "stream",
     "text": [
      "[[[0 0 0 0]\n",
      "  [0 0 0 0]\n",
      "  [0 0 0 0]]\n",
      "\n",
      " [[0 0 0 0]\n",
      "  [0 0 0 0]\n",
      "  [0 0 0 0]]]\n",
      "int16\n",
      "2\n"
     ]
    }
   ],
   "source": [
    "x = np.zeros( (2,3,4), dtype = np.int16 ) #2면 3행4열짜리 3차원배열\n",
    "# dtype을 int16로 지정.\n",
    "print(x)\n",
    "print(x.dtype)\n",
    "print(x.itemsize)"
   ]
  },
  {
   "cell_type": "code",
   "execution_count": 8,
   "metadata": {
    "ExecuteTime": {
     "end_time": "2021-03-07T06:48:54.882514Z",
     "start_time": "2021-03-07T06:48:54.864562Z"
    }
   },
   "outputs": [
    {
     "data": {
      "text/plain": [
       "array([[1, 1, 1, 1, 1],\n",
       "       [1, 1, 1, 1, 1]], dtype=int8)"
      ]
     },
     "execution_count": 8,
     "metadata": {},
     "output_type": "execute_result"
    }
   ],
   "source": [
    "np.ones((2,5), dtype = np.int8)"
   ]
  },
  {
   "cell_type": "code",
   "execution_count": 9,
   "metadata": {
    "ExecuteTime": {
     "end_time": "2021-03-07T06:48:55.703700Z",
     "start_time": "2021-03-07T06:48:55.697715Z"
    }
   },
   "outputs": [
    {
     "data": {
      "text/plain": [
       "array([[0., 0., 0.],\n",
       "       [0., 0., 0.]])"
      ]
     },
     "execution_count": 9,
     "metadata": {},
     "output_type": "execute_result"
    }
   ],
   "source": [
    "np.empty( (2,3) ) #대부분 튜플로 들어간다.\n",
    "#empty 는 고정값으로 나오지 않는다."
   ]
  },
  {
   "cell_type": "markdown",
   "metadata": {},
   "source": [
    "## 2.3 연속된 값을 갖는 배열 만들기\n",
    "- np.arange(from, to ,by , dtype=None) : from부터 by씩 건너뛴 값을 to 앞까지(to미포함) 목록으로 N차원 배열을 만든다.\n",
    "- 'from'과 'by'는 생략 가능. from 생략시 0, by 생략시 1.\n",
    "\n",
    "- np.linspace(from, to, num) : from부터 to 까지(to포함) num개 숫자들을 N차원 배열로 만듬."
   ]
  },
  {
   "cell_type": "code",
   "execution_count": 21,
   "metadata": {
    "ExecuteTime": {
     "end_time": "2021-03-07T06:58:08.375824Z",
     "start_time": "2021-03-07T06:58:08.364865Z"
    }
   },
   "outputs": [
    {
     "data": {
      "text/plain": [
       "array([10., 15., 20., 25.])"
      ]
     },
     "execution_count": 21,
     "metadata": {},
     "output_type": "execute_result"
    }
   ],
   "source": [
    "np.arange(10,30,5, dtype = np.float64)"
   ]
  },
  {
   "cell_type": "code",
   "execution_count": 11,
   "metadata": {
    "ExecuteTime": {
     "end_time": "2021-03-07T06:49:01.965786Z",
     "start_time": "2021-03-07T06:49:01.950828Z"
    }
   },
   "outputs": [
    {
     "data": {
      "text/plain": [
       "array([0. , 0.3, 0.6, 0.9, 1.2, 1.5, 1.8])"
      ]
     },
     "execution_count": 11,
     "metadata": {},
     "output_type": "execute_result"
    }
   ],
   "source": [
    "np.arange(0,2,0.3)"
   ]
  },
  {
   "cell_type": "code",
   "execution_count": 22,
   "metadata": {
    "ExecuteTime": {
     "end_time": "2021-03-07T06:58:13.816637Z",
     "start_time": "2021-03-07T06:58:13.808661Z"
    }
   },
   "outputs": [
    {
     "data": {
      "text/plain": [
       "array([0.  , 0.25, 0.5 , 0.75, 1.  , 1.25, 1.5 , 1.75, 2.  ])"
      ]
     },
     "execution_count": 22,
     "metadata": {},
     "output_type": "execute_result"
    }
   ],
   "source": [
    "np.linspace(0,2,9)"
   ]
  },
  {
   "cell_type": "code",
   "execution_count": 23,
   "metadata": {
    "ExecuteTime": {
     "end_time": "2021-03-07T06:58:16.657222Z",
     "start_time": "2021-03-07T06:58:16.649245Z"
    }
   },
   "outputs": [
    {
     "data": {
      "text/plain": [
       "array([0.  , 0.25, 0.5 , 0.75, 1.  , 1.25, 1.5 , 1.75, 2.  ])"
      ]
     },
     "execution_count": 23,
     "metadata": {},
     "output_type": "execute_result"
    }
   ],
   "source": [
    "from numpy import linspace # 해당 패키지에서 해당 함수만 이용하고 싶을때.\n",
    "linspace(0,2,9)"
   ]
  },
  {
   "cell_type": "code",
   "execution_count": 17,
   "metadata": {
    "ExecuteTime": {
     "end_time": "2021-03-07T06:52:33.355015Z",
     "start_time": "2021-03-07T06:52:33.343046Z"
    }
   },
   "outputs": [
    {
     "name": "stdout",
     "output_type": "stream",
     "text": [
      "[0.         0.06346652 0.12693304 0.19039955 0.25386607 0.31733259\n",
      " 0.38079911 0.44426563 0.50773215 0.57119866 0.63466518 0.6981317\n",
      " 0.76159822 0.82506474 0.88853126 0.95199777 1.01546429 1.07893081\n",
      " 1.14239733 1.20586385 1.26933037 1.33279688 1.3962634  1.45972992\n",
      " 1.52319644 1.58666296 1.65012947 1.71359599 1.77706251 1.84052903\n",
      " 1.90399555 1.96746207 2.03092858 2.0943951  2.15786162 2.22132814\n",
      " 2.28479466 2.34826118 2.41172769 2.47519421 2.53866073 2.60212725\n",
      " 2.66559377 2.72906028 2.7925268  2.85599332 2.91945984 2.98292636\n",
      " 3.04639288 3.10985939 3.17332591 3.23679243 3.30025895 3.36372547\n",
      " 3.42719199 3.4906585  3.55412502 3.61759154 3.68105806 3.74452458\n",
      " 3.8079911  3.87145761 3.93492413 3.99839065 4.06185717 4.12532369\n",
      " 4.1887902  4.25225672 4.31572324 4.37918976 4.44265628 4.5061228\n",
      " 4.56958931 4.63305583 4.69652235 4.75998887 4.82345539 4.88692191\n",
      " 4.95038842 5.01385494 5.07732146 5.14078798 5.2042545  5.26772102\n",
      " 5.33118753 5.39465405 5.45812057 5.52158709 5.58505361 5.64852012\n",
      " 5.71198664 5.77545316 5.83891968 5.9023862  5.96585272 6.02931923\n",
      " 6.09278575 6.15625227 6.21971879 6.28318531]\n"
     ]
    }
   ],
   "source": [
    "# linspace 는 많은 수의 점들을 생성할때 유용.\n",
    "from numpy import pi\n",
    "x = linspace(0, 2*pi, 100)\n",
    "print(x)\n",
    "f = np.sin(x)\n",
    "# print(f)"
   ]
  },
  {
   "cell_type": "code",
   "execution_count": 18,
   "metadata": {
    "ExecuteTime": {
     "end_time": "2021-03-07T06:52:41.737805Z",
     "start_time": "2021-03-07T06:52:41.474346Z"
    }
   },
   "outputs": [
    {
     "data": {
      "image/png": "[encoded data removed]",
      "text/plain": [
       "<Figure size 432x288 with 1 Axes>"
      ]
     },
     "metadata": {
      "needs_background": "light"
     },
     "output_type": "display_data"
    }
   ],
   "source": [
    "import matplotlib.pyplot as plt\n",
    "plt.plot(x,f)\n",
    "plt.show() # [<matplotlib.lines.Line2D at 0x288d1207820>] 안뜨게 하고싶으면."
   ]
  },
  {
   "cell_type": "code",
   "execution_count": 19,
   "metadata": {
    "ExecuteTime": {
     "end_time": "2021-03-07T06:52:43.567131Z",
     "start_time": "2021-03-07T06:52:43.527240Z"
    }
   },
   "outputs": [
    {
     "data": {
      "text/plain": [
       "array([ 3.27239865e-01, -2.47730248e-01, -7.28008031e-01, -8.06941573e-01,\n",
       "       -4.91520931e-01,  6.61556758e-01, -5.55229318e-01,  4.46546738e-01,\n",
       "        1.64018910e+00, -7.34517187e-01,  7.13567130e-02,  5.02577913e-01,\n",
       "       -2.14661449e+00, -1.83821041e-01, -2.02600611e-02, -2.82480793e-01,\n",
       "        9.65942276e-01,  1.25300656e+00, -1.27789493e+00,  3.44525021e-01,\n",
       "        7.86302937e-01,  1.48191615e+00,  9.10698799e-01,  9.23173057e-01,\n",
       "       -1.28152833e+00,  9.86904275e-01,  8.76483880e-01, -1.26954927e+00,\n",
       "        7.22317098e-01, -6.20223028e-01, -2.93565529e-01, -7.03566387e-01,\n",
       "       -2.66838752e-01,  1.10746050e-01,  4.53626697e-01,  8.66437544e-03,\n",
       "        3.32564090e-01, -1.05438806e+00,  4.78354728e-01, -6.69170207e-01,\n",
       "        1.04718522e-01, -1.65731162e-02, -1.95899916e+00, -2.32886889e-01,\n",
       "        2.11980604e-01, -7.04761931e-01,  2.44263132e+00, -1.37948465e+00,\n",
       "        2.76449317e-01,  1.40328682e+00, -1.53445142e+00, -4.80536003e-01,\n",
       "       -1.34870305e+00, -4.71722936e-01, -1.58458112e+00, -7.44605143e-01,\n",
       "       -8.36462725e-01, -1.21340819e+00, -4.63862352e-01,  4.32622858e-01,\n",
       "       -3.05710922e-01,  7.23464175e-01,  1.22875901e+00,  2.27704504e-01,\n",
       "        1.36901530e+00,  1.08044339e+00, -2.25512643e-01,  1.15922854e-01,\n",
       "       -1.00660021e-01,  1.35382796e+00, -2.72991708e+00,  8.00967578e-02,\n",
       "       -6.72383107e-01, -3.98225460e-01,  1.60301139e-01, -1.11634200e+00,\n",
       "        2.08993343e-01, -1.11819882e+00,  1.75430940e+00, -9.02113215e-01,\n",
       "        1.48763569e+00, -1.02977564e+00, -9.53624190e-03, -9.03153331e-02,\n",
       "        3.56994761e-01, -5.27970713e-01,  9.78169479e-01,  3.23941594e-01,\n",
       "        8.25113115e-02, -1.52706173e-01, -6.40096049e-01, -7.92500798e-01,\n",
       "        2.00012005e-01, -1.07344341e+00, -5.80900686e-02,  5.27606806e-01,\n",
       "       -1.41250423e-01,  2.28322899e-01, -2.64335023e-01, -4.77980346e-01,\n",
       "       -4.51908102e-02,  2.43390802e-02, -4.83122308e-01, -1.10125646e+00,\n",
       "       -7.44729266e-01, -2.76118912e+00,  9.51130252e-01, -3.23413500e-01,\n",
       "       -7.55903394e-02, -6.57025588e-01,  1.44668668e-01, -4.86112499e-01,\n",
       "        7.74711877e-01, -4.33667664e-01, -2.98592669e-01,  2.10772866e+00,\n",
       "        9.44685513e-01, -1.46605315e-01, -1.14925196e-01,  9.44672979e-01,\n",
       "       -1.60795759e+00,  8.30307471e-01,  5.99532849e-01, -2.11532734e-01,\n",
       "       -1.05623257e+00,  2.03496150e+00, -2.73118794e-01,  6.20073659e-01,\n",
       "       -3.92516850e-01, -4.05941366e-01, -7.15359960e-02,  1.72089751e-01,\n",
       "        1.60802108e-01,  3.96307475e-02, -4.08915141e-01, -4.92488278e-01,\n",
       "       -1.41164924e-01, -4.16943158e-01, -2.04578959e-01,  1.91313691e-02,\n",
       "        6.37268874e-01, -8.38083142e-01,  2.97317762e-01,  8.22191773e-01,\n",
       "       -1.66727448e+00,  9.04548964e-01, -5.25516804e-01,  1.16437322e+00,\n",
       "        4.94107335e-02, -6.76003985e-02,  5.50197803e-01,  1.12382879e+00,\n",
       "        2.98491260e-01, -1.04514794e+00,  1.14957208e+00,  1.72154855e-01,\n",
       "        1.50029575e+00, -1.08753336e+00,  1.12084277e+00,  3.09881470e-01,\n",
       "       -9.41866243e-01,  2.07913533e-01,  7.00420761e-01,  2.07153596e+00,\n",
       "       -4.95008312e-01,  1.58449147e+00, -4.09537239e-01, -1.36852769e+00,\n",
       "        1.61831765e-01, -6.12360516e-01, -3.03143254e-01, -1.69273821e+00,\n",
       "       -1.15060735e+00,  9.53767833e-01,  1.01903544e+00,  7.69867246e-01,\n",
       "        6.47726813e-01,  3.29704462e-01, -1.35296629e-04, -9.12713954e-01,\n",
       "       -1.20623330e+00,  8.02581585e-01,  3.41701946e-01, -1.83980047e+00,\n",
       "       -2.26452039e-01, -1.95832176e-01, -1.04728250e+00, -5.56614902e-01,\n",
       "       -2.61623208e+00, -3.23686553e-01,  4.77257521e-02,  1.52594740e-01,\n",
       "        8.59122816e-01, -6.43562316e-01,  5.47646261e-02,  2.93358689e-01,\n",
       "       -1.08747958e+00,  4.42971262e-01, -8.31909418e-01, -5.37556212e-01,\n",
       "       -5.42129378e-01, -1.43384826e+00, -9.08353798e-01,  6.84703380e-01,\n",
       "        6.51762766e-01,  6.95983867e-02,  8.05062006e-02, -3.74188564e-01,\n",
       "        5.91035701e-01,  1.95157390e-01, -1.51322969e+00,  5.35259064e-01,\n",
       "        3.21163206e-01,  8.29655045e-01,  9.37855058e-01, -3.52182348e-01,\n",
       "        6.55516895e-01,  5.18268223e-01,  5.97418186e-01,  1.70981716e+00,\n",
       "       -1.21178244e+00,  7.37680779e-01,  9.16894546e-02, -1.88833860e+00,\n",
       "       -1.38221202e+00,  8.97599505e-02,  7.58531821e-02, -3.85550792e-01,\n",
       "        7.80448558e-01,  1.86707502e-01,  5.12238820e-01, -4.06116241e-01,\n",
       "       -5.95168375e-01, -2.28392224e-01, -1.23551546e+00,  1.74181578e+00,\n",
       "       -1.48875581e+00,  2.52594464e+00,  5.23062130e-01, -2.37432585e+00,\n",
       "        4.97351960e-01, -4.07556406e-01,  9.72643211e-01,  1.04847568e+00,\n",
       "        9.93365775e-01,  2.93661274e-02,  6.20954756e-02, -3.84674587e-01,\n",
       "       -1.51842247e-01, -5.59034699e-02, -2.59751130e-02,  9.19541805e-01,\n",
       "        2.48260763e-01,  1.40805692e+00, -7.82368982e-01,  9.30446879e-01,\n",
       "        9.97518953e-01, -7.43101265e-01, -6.07361501e-01,  5.38526416e-01,\n",
       "        4.35208374e-01,  4.18309167e-01,  1.12658891e+00,  2.52435187e-01,\n",
       "       -2.89857108e-01,  1.41135720e+00,  7.02970657e-01, -1.39925819e+00,\n",
       "        1.06513977e+00,  1.51115700e+00,  1.60872562e+00, -6.74927585e-01,\n",
       "       -1.56802849e-01, -5.81810027e-01, -1.64574741e+00, -6.14885563e-01,\n",
       "       -4.50474276e-01,  8.56808179e-01, -1.20206170e+00,  1.48598192e+00,\n",
       "       -7.69780765e-01, -1.24006834e-01,  9.34559214e-01,  3.19163988e-01,\n",
       "       -2.21039083e+00,  8.40895880e-01, -1.38299672e+00, -1.43591561e-01,\n",
       "        6.57881445e-01, -8.43135536e-02,  1.04835899e+00, -2.02681765e+00,\n",
       "       -8.81337236e-01,  1.48883330e+00, -4.39638255e-01, -1.03548628e+00,\n",
       "        4.63875043e-01,  1.08985405e+00, -4.24726692e-02, -1.16182093e+00,\n",
       "        5.92548067e-01,  1.82282928e-01,  3.63985056e-01,  1.33597263e-01,\n",
       "        1.77367214e+00,  2.52439687e-01,  1.27773716e+00, -1.48065103e+00,\n",
       "       -1.08482393e+00,  1.12542530e-01, -1.15095737e+00, -1.22987425e-01,\n",
       "       -1.00785562e+00,  1.10184042e+00,  9.24484584e-01, -1.20206517e+00,\n",
       "       -5.69339339e-01,  4.18226941e-01,  5.54487876e-01,  8.94045613e-01,\n",
       "       -1.42688812e-01,  2.24086410e-01,  1.08193565e+00, -1.34518977e+00,\n",
       "       -1.35893081e-01, -5.81082084e-01,  5.43135172e-03, -7.63543169e-02,\n",
       "        1.11866640e+00,  3.49131956e-01,  8.65802015e-01,  1.35076042e-01,\n",
       "        2.21663810e-01, -1.20980102e+00,  1.60353433e+00, -1.49653865e+00,\n",
       "        1.34545180e+00,  1.41159774e-01, -2.11493711e+00, -5.34726403e-01,\n",
       "       -5.96795379e-01,  1.53170938e+00, -6.38060535e-02, -1.80842017e+00,\n",
       "       -7.59231445e-01,  3.26150184e-01,  9.61354758e-01, -1.58028120e+00,\n",
       "        3.03646149e-01,  3.70359795e-01,  6.12646092e-01, -6.96219893e-01,\n",
       "       -7.84236904e-01, -9.80011515e-01,  4.76406597e-01,  2.52797000e-03,\n",
       "        1.16457840e+00, -1.96263140e+00,  9.64074843e-01,  1.62014916e+00,\n",
       "       -1.41577643e+00, -1.08289251e+00, -2.03468609e-01,  6.68184012e-01,\n",
       "       -3.88640209e-01,  5.26885190e-01,  9.94169063e-02, -1.60764403e-01,\n",
       "       -2.06112263e+00,  3.45165266e-01,  5.61371569e-01,  9.21219042e-01,\n",
       "        1.26391394e-01,  5.85730937e-01, -9.23067288e-01,  1.09228416e+00,\n",
       "        8.15305809e-01, -6.44295236e-01, -3.97383467e-02, -1.32293718e+00,\n",
       "        5.32212822e-01,  1.46194065e+00,  5.26287722e-01,  6.82933002e-01,\n",
       "       -1.13913764e+00, -4.53911608e-01,  2.19268542e+00, -3.77331020e-01,\n",
       "       -3.38983298e-01, -5.40990784e-01, -3.50634723e-01,  5.03117396e-01,\n",
       "        2.49281865e-01,  4.16270272e-01, -5.45905238e-01, -2.78294588e-01,\n",
       "        6.45709861e-01,  4.73926281e-01,  5.46157913e-02,  6.93557691e-01,\n",
       "       -3.29514252e-02, -5.13807494e-01,  1.81518954e+00,  1.90534971e+00,\n",
       "       -1.16127826e+00, -2.98248763e-01, -5.31621554e-01,  7.35937696e-01,\n",
       "       -1.15107023e-01, -1.22763931e+00, -1.16993871e+00, -7.70550251e-01,\n",
       "        7.37053430e-01, -1.65384700e+00, -1.40166945e+00,  5.67619750e-01,\n",
       "       -1.29024658e+00,  1.65022265e+00, -4.71961482e-01, -1.51541614e+00,\n",
       "        3.05931356e-01,  1.17985360e+00,  1.43224196e-01, -1.49143460e-01,\n",
       "        6.78739557e-01, -6.31813765e-01, -3.72891451e-01,  9.30240209e-01,\n",
       "       -3.78718584e-01,  5.51513552e-01,  4.00908769e-01, -1.59050608e+00,\n",
       "        6.39620913e-02,  7.09846763e-01, -9.51977042e-01, -3.42827363e-01,\n",
       "        1.10885552e-02,  5.52943725e-01,  9.02653716e-02,  7.02167021e-01,\n",
       "        3.26662775e-01, -1.47653143e+00, -1.19396814e+00, -9.65787434e-01,\n",
       "       -6.92304137e-01, -4.04315775e-01,  2.47024055e+00,  6.80153077e-01,\n",
       "        2.53091886e-01, -1.79908868e+00, -3.18830682e-01,  9.09847236e-01,\n",
       "       -1.15368223e+00,  1.94388783e+00,  1.24700785e+00,  1.63759453e+00,\n",
       "       -1.05261630e-01,  1.52018018e-01, -9.55472927e-01, -3.02652027e-01,\n",
       "       -4.46196083e-01, -6.79661675e-01,  2.72250411e-01, -5.25934135e-01,\n",
       "        6.55797507e-03, -1.05034434e+00, -3.97629603e-01, -2.24197263e-01,\n",
       "        9.15942082e-01, -2.17624700e-01, -4.59729313e-02,  1.86202668e+00,\n",
       "       -5.83262746e-01,  7.80582710e-02, -9.01083787e-01,  6.13483410e-01,\n",
       "       -2.94287856e-01, -1.14301257e+00, -1.08613353e+00,  4.19296242e-01,\n",
       "        2.88383699e-01,  3.13912194e-01, -4.47073330e-01, -4.26004740e-01,\n",
       "        2.28647838e-01,  4.28841823e-01, -7.54048708e-01, -2.48134494e-01,\n",
       "        2.49218091e+00,  7.30073254e-01, -1.27705698e-02,  1.96664688e+00,\n",
       "        1.47467917e+00,  7.35599136e-01, -2.42407722e-01, -9.56515935e-03,\n",
       "        1.12007259e+00,  2.56235651e-01, -5.55369301e-02, -1.28178647e+00,\n",
       "       -1.23608746e+00, -7.32486594e-01, -5.71450086e-01, -7.57024338e-01,\n",
       "       -1.67773780e+00,  5.62520880e-01,  3.84715754e-01,  1.82112768e+00,\n",
       "        1.07131565e+00, -1.74987653e+00, -7.53127699e-01, -1.18764976e+00,\n",
       "       -1.94179123e+00, -7.86079244e-01, -1.61022758e+00,  2.61830099e+00,\n",
       "        8.42091714e-01, -4.70062779e-02,  6.53803202e-01,  1.07406752e+00,\n",
       "       -3.30437802e-01,  1.46116603e+00,  3.98773960e-01, -1.28189198e+00,\n",
       "       -6.33017388e-01, -1.49613208e+00, -3.03675976e-01,  1.21052371e+00,\n",
       "       -2.67848533e-01,  1.00796035e-01,  1.50531580e+00,  1.33502207e-01,\n",
       "       -6.06630499e-01,  7.19587573e-01, -1.41085865e+00,  8.79574632e-02,\n",
       "       -1.77400247e-01, -2.85991933e-01, -5.73782421e-01, -6.51268073e-01,\n",
       "       -1.46567116e+00,  9.53695033e-01, -1.95804036e+00,  1.58783805e-01,\n",
       "       -5.70823681e-01,  4.38596172e-01,  1.35231656e+00,  4.68574727e-01,\n",
       "        1.16862399e+00,  1.41469974e+00, -7.26344948e-01, -1.10119377e-01,\n",
       "       -7.75377774e-01,  1.18590531e+00, -7.07082720e-01, -4.26959641e-01,\n",
       "        1.18282469e+00, -4.11920090e-01, -2.42281659e-01,  8.35508542e-01,\n",
       "        1.32398869e+00,  1.42317161e-02,  1.27664768e+00,  1.40642927e+00,\n",
       "       -3.08499045e-01, -5.34871297e-01,  1.42940808e-01, -4.13366976e-01,\n",
       "        3.12859836e-01,  1.55615283e+00,  1.31492660e-01,  5.26635666e-01,\n",
       "       -1.27413938e+00,  7.22080319e-01, -3.43929730e-01,  2.02144556e+00,\n",
       "        1.12329665e+00, -1.27232194e+00,  1.45456988e+00,  1.81059596e-01,\n",
       "        9.73806136e-01,  4.49262718e-01, -8.21083322e-02, -8.24973447e-01,\n",
       "       -7.88535275e-01, -7.65580436e-01,  4.44086003e-01, -1.32220807e+00,\n",
       "        9.34069725e-01, -2.07816706e-01,  1.60455548e+00,  6.76445018e-01,\n",
       "        1.10655339e+00,  3.87384130e-01, -8.00662822e-01,  2.02457079e+00,\n",
       "        5.63876322e-02, -2.69279179e+00,  9.21778887e-01,  1.69490011e-01,\n",
       "       -5.51662918e-02, -3.23392641e-01, -2.08030166e+00,  1.21150102e+00,\n",
       "       -1.36034687e+00,  3.80352921e-01, -9.17849993e-01,  9.18148568e-01,\n",
       "       -6.57752784e-01, -8.75677583e-01,  1.87168042e+00, -8.76104347e-02,\n",
       "       -4.75842196e-01,  5.64106215e-02, -3.71205108e-01,  4.95361254e-01,\n",
       "        1.12888510e+00, -7.40649777e-01,  5.04015619e-01, -4.63148916e-02,\n",
       "        5.19399786e-01, -8.03993692e-01,  1.10198919e+00, -2.69623539e-01,\n",
       "       -2.26217705e+00, -9.38158807e-01,  3.00651603e-01, -9.40335950e-01,\n",
       "       -1.25756999e+00, -5.59919937e-01,  1.80138927e+00,  9.42174497e-01,\n",
       "        4.93030726e-01, -7.95644980e-02,  1.45703831e+00,  5.38431306e-01,\n",
       "       -1.10804761e+00,  9.81141697e-01, -5.53172127e-02,  3.83377812e-01,\n",
       "       -1.18429210e+00, -3.08701683e-01,  6.92625129e-01,  7.43893883e-01,\n",
       "       -3.38022098e-01,  1.20065822e+00, -5.33851437e-01, -3.91632655e-01,\n",
       "       -1.32858585e+00, -5.44387418e-01,  3.92424762e-01, -7.90283498e-01,\n",
       "       -1.11261666e-01,  3.13262925e-01, -3.23778075e-01, -7.55677222e-02,\n",
       "        2.04905312e+00, -5.07559023e-01, -4.61735622e-01,  3.86088096e-01,\n",
       "       -4.06004436e-01,  1.20861165e+00,  8.99037755e-01, -2.48989562e-01,\n",
       "       -4.63815009e-01,  5.25882548e-01, -5.29154696e-01,  8.17230009e-01,\n",
       "       -1.22846716e+00,  1.02872184e+00,  1.18186883e+00, -1.17875625e+00,\n",
       "        8.30837081e-01, -5.06676854e-03, -1.38037360e-01,  5.89163278e-01,\n",
       "       -1.75967696e-01,  3.49263735e-02,  6.08098507e-01, -3.41144614e-01,\n",
       "       -3.38189616e-01, -5.71451523e-01,  9.02503369e-01,  5.55248905e-01,\n",
       "       -8.31524505e-01, -5.33115171e-01,  3.98726896e-01, -9.00571552e-01,\n",
       "       -1.35909996e+00,  6.54820787e-02, -1.61151290e+00, -7.55509088e-02,\n",
       "        1.20889512e+00,  3.26191489e-01,  2.97231624e-01,  6.88578944e-01,\n",
       "        1.87825526e-01,  1.37467001e+00, -7.60470661e-01, -9.45591958e-02,\n",
       "        1.24487750e+00,  9.25539966e-01, -5.69458471e-01, -2.12892290e+00,\n",
       "        9.37995336e-01, -4.15885745e-01,  5.90771501e-02, -2.69541238e+00,\n",
       "        1.49373913e-02, -6.14918560e-01,  3.48059558e+00,  8.49117794e-01,\n",
       "       -1.14087797e-01,  1.35851014e+00,  5.26776442e-01, -1.47288994e-01,\n",
       "        1.95926415e+00, -3.02493019e-01,  7.76684776e-01, -5.00481265e-01,\n",
       "       -1.00679535e+00,  1.02030318e+00,  1.07473455e+00,  3.24121510e-01,\n",
       "        2.33508920e-01,  1.00508728e+00, -9.77340999e-01, -1.35386896e+00,\n",
       "        1.43440346e+00, -5.81428295e-01,  5.92112427e-01,  1.77644609e+00,\n",
       "       -1.20312238e-01, -6.67737270e-01, -9.17304191e-01, -8.89395330e-03,\n",
       "       -6.48051015e-01, -9.60443800e-02, -4.36532046e-01, -1.26410174e+00,\n",
       "        1.57710248e+00, -8.69902516e-01, -1.08254814e+00, -1.05486049e+00,\n",
       "       -9.42707490e-01,  4.71469264e-01,  4.40575256e-01, -7.14332384e-01,\n",
       "        2.12101033e+00,  2.48885931e-01, -1.79885977e-01, -1.04412861e+00,\n",
       "        7.13929892e-01,  6.82189935e-01, -8.56727227e-01,  8.77268928e-01,\n",
       "       -1.26901305e-01,  6.08491058e-02, -2.32991220e-01, -5.21847721e-01,\n",
       "       -5.65700084e-01,  2.03399316e-01, -1.28975875e-01, -9.19859585e-01,\n",
       "        1.11568177e+00, -1.30695375e+00, -7.22297792e-01,  6.87607233e-01,\n",
       "        1.03156656e+00, -9.92560074e-01,  3.45567791e-02,  9.73957902e-01,\n",
       "       -1.23766918e+00, -1.28979531e+00, -7.97577098e-01, -2.00501156e-02,\n",
       "        1.55789424e+00,  1.90863372e+00, -1.72391034e+00, -7.62585763e-01,\n",
       "        2.41926815e+00, -1.02283046e+00,  1.06508712e+00, -6.89037581e-02,\n",
       "       -3.70885491e-01,  5.78802873e-01,  1.42242108e-01,  2.04519279e+00,\n",
       "        1.11404140e+00,  2.29128524e-01, -6.33552997e-01,  6.77868460e-01,\n",
       "       -2.61409130e-02,  1.65663707e+00,  1.19648792e-01,  9.43970398e-01,\n",
       "       -1.29290510e+00, -2.37097819e-01,  1.06227461e+00, -3.19363259e-01,\n",
       "       -5.77909707e-01, -1.15350205e+00,  2.11758897e+00,  9.00398843e-01,\n",
       "       -6.72049434e-01,  4.58419330e-01, -1.41207954e+00,  3.87018851e-01,\n",
       "        3.62847129e-01, -4.27072248e-01, -1.08802970e-01,  1.69766549e+00,\n",
       "        4.27467728e-01,  1.48756917e+00, -1.95740133e+00,  4.50001557e-01,\n",
       "        5.37733989e-01, -1.83502140e+00, -9.36219737e-02,  5.34636054e-01,\n",
       "       -1.50973658e-01,  9.02891928e-01, -1.09535408e+00,  4.42985495e-02,\n",
       "        1.52847627e+00, -1.18253356e+00, -1.46813322e+00,  1.40259239e+00,\n",
       "       -4.20573302e-01, -3.23483407e-01, -3.01674210e-01,  7.59880311e-01,\n",
       "        2.02002911e-01, -5.56764390e-01, -2.32085784e+00,  5.75061518e-01,\n",
       "        1.36277222e+00, -7.52293677e-01,  4.62674501e-01,  1.91092800e+00,\n",
       "       -5.57563491e-01, -3.75684601e-01, -3.86512527e-01, -8.34434439e-01,\n",
       "        2.80602635e-01, -5.01785788e-01, -6.28455258e-03, -6.55703496e-01,\n",
       "        9.33188644e-02, -4.98759753e-01,  1.43179752e+00, -1.20710114e-01,\n",
       "        1.60059974e+00, -3.22669387e-01,  2.86641912e-01, -1.75222208e-01,\n",
       "       -1.81837565e+00,  1.03331583e+00,  2.18310682e-01, -9.68856191e-01,\n",
       "        2.55213133e+00,  1.09136565e+00, -6.44043407e-01, -1.72803630e+00,\n",
       "       -8.53846397e-01,  1.64889245e+00, -1.11462513e+00,  9.88030017e-02,\n",
       "        9.03137541e-01,  1.45640740e+00, -9.96374121e-02,  5.52362381e-01,\n",
       "       -1.12572216e+00,  5.97366671e-01, -1.07326701e+00, -3.21973788e-01,\n",
       "       -9.27721773e-01,  1.36849218e-01, -9.74419373e-01,  6.25071113e-01,\n",
       "       -1.64135035e-01,  1.11786227e+00, -7.28739368e-01, -8.89851497e-01,\n",
       "        2.25240063e-01, -5.87040329e-01,  5.32693520e-01,  2.07356190e+00,\n",
       "        1.71742549e+00,  7.50681462e-01, -5.16543425e-01,  3.91492297e-01,\n",
       "       -9.58752858e-01,  1.98230845e+00, -1.03380286e+00, -1.90119479e+00,\n",
       "       -7.15558161e-01, -1.88913512e-01, -1.19436765e+00,  1.11031748e-01,\n",
       "        3.13781473e-01,  2.03657168e+00, -8.11577151e-01, -1.81522906e-01,\n",
       "       -2.65364703e-01, -1.27243043e+00, -1.13426846e+00,  5.73133648e-01,\n",
       "       -6.45082366e-01, -6.10230647e-01,  9.74476277e-01,  1.20010754e+00,\n",
       "        4.10693995e-01, -7.81630012e-01, -5.89475941e-01,  2.73582488e-01,\n",
       "        1.09549447e+00,  1.89994639e+00, -9.44211265e-01,  7.77229880e-02,\n",
       "       -8.69636815e-01, -6.81399079e-02, -2.79213076e-01,  1.30541009e+00,\n",
       "        1.05026244e+00,  9.56577467e-01, -5.47485997e-01, -1.11488692e+00,\n",
       "       -1.18634029e+00, -1.05207233e-01,  3.22382817e-01,  8.26941348e-01,\n",
       "        3.19304814e-01, -6.81445863e-01,  2.41331983e+00,  1.39894298e+00,\n",
       "       -9.53582557e-01,  1.80421688e+00, -4.11577545e-01, -3.50058187e-01,\n",
       "       -1.05941398e+00, -1.86842530e-01, -1.01772557e+00,  3.89006695e-01,\n",
       "        1.82885734e+00,  4.10318946e-01, -5.71729244e-02,  5.61897895e-01,\n",
       "       -4.99775471e-01,  4.14738766e-01, -8.97260565e-01,  5.31575289e-01,\n",
       "       -1.27414302e+00,  1.78894549e-02,  8.48468714e-01, -5.05389795e-01,\n",
       "       -1.90831135e-01,  2.75438983e-01,  5.39688483e-02, -2.58807489e-01,\n",
       "        3.00583477e-01,  1.03262975e+00,  1.33989870e+00,  2.30919976e+00,\n",
       "       -8.50962154e-01,  3.51985080e-01,  1.37982646e+00,  1.39012968e+00,\n",
       "       -8.25689169e-01, -4.15158995e-02,  8.09319853e-01, -4.95026901e-01,\n",
       "       -2.66543296e-01, -3.18521614e-01,  5.28004041e-01, -2.13568279e-01,\n",
       "       -1.80742555e+00, -2.42483972e-01,  4.95509533e-01, -9.11521987e-01,\n",
       "        1.14004462e+00, -5.01792607e-01,  9.05732225e-01, -2.43456962e-01,\n",
       "       -1.45939153e+00,  1.19379620e+00,  7.52156121e-01,  6.86298147e-01,\n",
       "        1.44246186e+00, -2.69516637e+00, -4.31925138e-01,  7.57792269e-01,\n",
       "       -1.06753182e+00,  2.14618099e+00,  7.68420245e-01,  1.02427956e+00,\n",
       "       -2.44468146e+00, -2.82414129e-01, -1.38560202e+00,  1.11386911e+00])"
      ]
     },
     "execution_count": 19,
     "metadata": {},
     "output_type": "execute_result"
    }
   ],
   "source": [
    "x = np.random.normal(0, 1, 1000) # 평균:0, 표준편차가 1인. 정규분포값 1000개 \n",
    "x"
   ]
  },
  {
   "cell_type": "code",
   "execution_count": 20,
   "metadata": {
    "ExecuteTime": {
     "end_time": "2021-03-07T06:52:45.474892Z",
     "start_time": "2021-03-07T06:52:45.218561Z"
    }
   },
   "outputs": [
    {
     "data": {
      "text/plain": [
       "(array([ 12.,  35., 130., 224., 240., 200., 107.,  42.,   9.,   1.]),\n",
       " array([-2.76118912, -2.13701065, -1.51283218, -0.88865371, -0.26447524,\n",
       "         0.35970323,  0.9838817 ,  1.60806017,  2.23223864,  2.85641711,\n",
       "         3.48059558]),\n",
       " <BarContainer object of 10 artists>)"
      ]
     },
     "execution_count": 20,
     "metadata": {},
     "output_type": "execute_result"
    },
    {
     "data": {
      "image/png": "[encoded data removed]",
      "text/plain": [
       "<Figure size 432x288 with 1 Axes>"
      ]
     },
     "metadata": {
      "needs_background": "light"
     },
     "output_type": "display_data"
    }
   ],
   "source": [
    "plt.hist(x)"
   ]
  },
  {
   "cell_type": "markdown",
   "metadata": {},
   "source": [
    "## 2.4 배열의 차원 변경하기"
   ]
  },
  {
   "cell_type": "code",
   "execution_count": 120,
   "metadata": {
    "ExecuteTime": {
     "end_time": "2021-03-04T06:44:19.568276Z",
     "start_time": "2021-03-04T06:44:19.563316Z"
    }
   },
   "outputs": [
    {
     "data": {
      "text/plain": [
       "array([[0.90391669, 0.0177155 , 0.48345034, 0.39198516],\n",
       "       [0.76340885, 0.19721461, 0.61640157, 0.27482263],\n",
       "       [0.00337859, 0.1653416 , 0.45976328, 0.64709996]])"
      ]
     },
     "execution_count": 120,
     "metadata": {},
     "output_type": "execute_result"
    }
   ],
   "source": [
    "# np.random.seed(1) 시드값 고정. \n",
    "t = np.random.random((3,4)) #3행 4열 2차원 배열(random 수.)\n",
    "t"
   ]
  },
  {
   "cell_type": "code",
   "execution_count": 121,
   "metadata": {
    "ExecuteTime": {
     "end_time": "2021-03-04T06:45:02.663534Z",
     "start_time": "2021-03-04T06:45:02.658566Z"
    }
   },
   "outputs": [
    {
     "data": {
      "text/plain": [
       "array([[9.03916687, 0.17715504, 4.83450338, 3.91985159],\n",
       "       [7.63408852, 1.97214612, 6.16401569, 2.74822626],\n",
       "       [0.0337859 , 1.65341603, 4.5976328 , 6.47099964]])"
      ]
     },
     "execution_count": 121,
     "metadata": {},
     "output_type": "execute_result"
    }
   ],
   "source": [
    "t * 10 #요소마다 *10이 된다."
   ]
  },
  {
   "cell_type": "code",
   "execution_count": 122,
   "metadata": {
    "ExecuteTime": {
     "end_time": "2021-03-04T06:45:41.239794Z",
     "start_time": "2021-03-04T06:45:41.234840Z"
    }
   },
   "outputs": [
    {
     "data": {
      "text/plain": [
       "array([[9., 0., 4., 3.],\n",
       "       [7., 1., 6., 2.],\n",
       "       [0., 1., 4., 6.]])"
      ]
     },
     "execution_count": 122,
     "metadata": {},
     "output_type": "execute_result"
    }
   ],
   "source": [
    "# floor 버림.\n",
    "a = np.floor(t*10)\n",
    "a"
   ]
  },
  {
   "cell_type": "code",
   "execution_count": 123,
   "metadata": {
    "ExecuteTime": {
     "end_time": "2021-03-04T06:46:36.414063Z",
     "start_time": "2021-03-04T06:46:36.410065Z"
    }
   },
   "outputs": [
    {
     "data": {
      "text/plain": [
       "(3, 4)"
      ]
     },
     "execution_count": 123,
     "metadata": {},
     "output_type": "execute_result"
    }
   ],
   "source": [
    "a.shape"
   ]
  },
  {
   "cell_type": "code",
   "execution_count": 124,
   "metadata": {
    "ExecuteTime": {
     "end_time": "2021-03-04T06:47:28.296492Z",
     "start_time": "2021-03-04T06:47:28.291531Z"
    }
   },
   "outputs": [
    {
     "data": {
      "text/plain": [
       "array([9., 0., 4., 3., 7., 1., 6., 2., 0., 1., 4., 6.])"
      ]
     },
     "execution_count": 124,
     "metadata": {},
     "output_type": "execute_result"
    }
   ],
   "source": [
    "a.ravel() #차원을 무조건 1차원으로 바뀐다. (단, a가 바뀌는것은 아님.)"
   ]
  },
  {
   "cell_type": "code",
   "execution_count": 125,
   "metadata": {
    "ExecuteTime": {
     "end_time": "2021-03-04T06:47:32.367031Z",
     "start_time": "2021-03-04T06:47:32.362045Z"
    }
   },
   "outputs": [
    {
     "data": {
      "text/plain": [
       "array([[9., 0., 4., 3.],\n",
       "       [7., 1., 6., 2.],\n",
       "       [0., 1., 4., 6.]])"
      ]
     },
     "execution_count": 125,
     "metadata": {},
     "output_type": "execute_result"
    }
   ],
   "source": [
    "a"
   ]
  },
  {
   "cell_type": "code",
   "execution_count": 128,
   "metadata": {
    "ExecuteTime": {
     "end_time": "2021-03-04T06:48:32.146778Z",
     "start_time": "2021-03-04T06:48:32.141791Z"
    }
   },
   "outputs": [
    {
     "data": {
      "text/plain": [
       "array([[9., 0., 4., 3., 7., 1.],\n",
       "       [6., 2., 0., 1., 4., 6.]])"
      ]
     },
     "execution_count": 128,
     "metadata": {},
     "output_type": "execute_result"
    }
   ],
   "source": [
    "a.reshape(2,6) # 2행 6열로. 단, a값이 바뀐게 아니다.\n",
    "# shape가 수정된 배열을 반환(a는 그대로.)"
   ]
  },
  {
   "cell_type": "code",
   "execution_count": 129,
   "metadata": {
    "ExecuteTime": {
     "end_time": "2021-03-04T06:48:38.030856Z",
     "start_time": "2021-03-04T06:48:38.025870Z"
    }
   },
   "outputs": [
    {
     "data": {
      "text/plain": [
       "array([[9., 0., 4., 3.],\n",
       "       [7., 1., 6., 2.],\n",
       "       [0., 1., 4., 6.]])"
      ]
     },
     "execution_count": 129,
     "metadata": {},
     "output_type": "execute_result"
    }
   ],
   "source": [
    "a"
   ]
  },
  {
   "cell_type": "code",
   "execution_count": 130,
   "metadata": {
    "ExecuteTime": {
     "end_time": "2021-03-04T06:49:36.000170Z",
     "start_time": "2021-03-04T06:49:35.995182Z"
    }
   },
   "outputs": [
    {
     "data": {
      "text/plain": [
       "array([[9., 7., 0.],\n",
       "       [0., 1., 1.],\n",
       "       [4., 6., 4.],\n",
       "       [3., 2., 6.]])"
      ]
     },
     "execution_count": 130,
     "metadata": {},
     "output_type": "execute_result"
    }
   ],
   "source": [
    "# a는 3행4열짜리 2차원배열. 2차원배열은 행렬(matrix)로 이해 가능.\n",
    "a.T # 전치행렬 (행과 열을 거꾸로.)"
   ]
  },
  {
   "cell_type": "code",
   "execution_count": 131,
   "metadata": {
    "ExecuteTime": {
     "end_time": "2021-03-04T06:50:31.016355Z",
     "start_time": "2021-03-04T06:50:31.011367Z"
    }
   },
   "outputs": [
    {
     "data": {
      "text/plain": [
       "array([[9., 7., 0.],\n",
       "       [0., 1., 1.],\n",
       "       [4., 6., 4.],\n",
       "       [3., 2., 6.]])"
      ]
     },
     "execution_count": 131,
     "metadata": {},
     "output_type": "execute_result"
    }
   ],
   "source": [
    "a.transpose() # 전치행렬을 반환 (단, a의 값은 그대로.)"
   ]
  },
  {
   "cell_type": "code",
   "execution_count": 132,
   "metadata": {
    "ExecuteTime": {
     "end_time": "2021-03-04T06:50:33.686917Z",
     "start_time": "2021-03-04T06:50:33.681955Z"
    }
   },
   "outputs": [
    {
     "data": {
      "text/plain": [
       "array([[9., 0., 4., 3.],\n",
       "       [7., 1., 6., 2.],\n",
       "       [0., 1., 4., 6.]])"
      ]
     },
     "execution_count": 132,
     "metadata": {},
     "output_type": "execute_result"
    }
   ],
   "source": [
    "a"
   ]
  },
  {
   "cell_type": "code",
   "execution_count": 135,
   "metadata": {
    "ExecuteTime": {
     "end_time": "2021-03-04T06:51:38.310581Z",
     "start_time": "2021-03-04T06:51:38.307588Z"
    }
   },
   "outputs": [],
   "source": [
    "a.resize((2,6)) #a의 차원을 진짜로 수정. 따라서 a값도 바뀌었다."
   ]
  },
  {
   "cell_type": "code",
   "execution_count": 134,
   "metadata": {
    "ExecuteTime": {
     "end_time": "2021-03-04T06:51:08.431514Z",
     "start_time": "2021-03-04T06:51:08.426528Z"
    }
   },
   "outputs": [
    {
     "data": {
      "text/plain": [
       "array([[9., 0., 4., 3., 7., 1.],\n",
       "       [6., 2., 0., 1., 4., 6.]])"
      ]
     },
     "execution_count": 134,
     "metadata": {},
     "output_type": "execute_result"
    }
   ],
   "source": [
    "a"
   ]
  },
  {
   "cell_type": "code",
   "execution_count": 136,
   "metadata": {
    "ExecuteTime": {
     "end_time": "2021-03-04T06:52:31.255387Z",
     "start_time": "2021-03-04T06:52:31.251414Z"
    }
   },
   "outputs": [
    {
     "data": {
      "text/plain": [
       "array([[9., 0., 4., 3.],\n",
       "       [7., 1., 6., 2.],\n",
       "       [0., 1., 4., 6.]])"
      ]
     },
     "execution_count": 136,
     "metadata": {},
     "output_type": "execute_result"
    }
   ],
   "source": [
    "a.reshape(3,-1) # => -1 로 주어지면 해당 차원의 크기가 자동계산."
   ]
  },
  {
   "cell_type": "code",
   "execution_count": 144,
   "metadata": {
    "ExecuteTime": {
     "end_time": "2021-03-04T06:55:15.156074Z",
     "start_time": "2021-03-04T06:55:15.150097Z"
    }
   },
   "outputs": [
    {
     "data": {
      "text/plain": [
       "array([[9., 0., 4.],\n",
       "       [3., 7., 1.],\n",
       "       [6., 2., 0.],\n",
       "       [1., 4., 6.]])"
      ]
     },
     "execution_count": 144,
     "metadata": {},
     "output_type": "execute_result"
    }
   ],
   "source": [
    "a.reshape(-1, 3) # 행에 -1 가능. 따라서 reshape 에는 -1가능. 많이 쓰이는 문법.\n",
    "# 몇행이지 아는데 몇열인지 모를때, 몇열은 아는데 몇행인지 모를때."
   ]
  },
  {
   "cell_type": "code",
   "execution_count": 140,
   "metadata": {
    "ExecuteTime": {
     "end_time": "2021-03-04T06:53:27.991735Z",
     "start_time": "2021-03-04T06:53:27.986748Z"
    }
   },
   "outputs": [
    {
     "data": {
      "text/plain": [
       "array([[9., 0., 4., 3.],\n",
       "       [7., 1., 6., 2.],\n",
       "       [0., 1., 4., 6.]])"
      ]
     },
     "execution_count": 140,
     "metadata": {},
     "output_type": "execute_result"
    }
   ],
   "source": [
    "a.resize(3,4)\n",
    "a"
   ]
  },
  {
   "cell_type": "code",
   "execution_count": 143,
   "metadata": {
    "ExecuteTime": {
     "end_time": "2021-03-04T06:54:16.823738Z",
     "start_time": "2021-03-04T06:54:16.814764Z"
    }
   },
   "outputs": [
    {
     "ename": "ValueError",
     "evalue": "negative dimensions not allowed",
     "output_type": "error",
     "traceback": [
      "\u001b[1;31m---------------------------------------------------------------------------\u001b[0m",
      "\u001b[1;31mValueError\u001b[0m                                Traceback (most recent call last)",
      "\u001b[1;32m<ipython-input-143-a3f8991cb17a>\u001b[0m in \u001b[0;36m<module>\u001b[1;34m\u001b[0m\n\u001b[1;32m----> 1\u001b[1;33m \u001b[0ma\u001b[0m\u001b[1;33m.\u001b[0m\u001b[0mresize\u001b[0m\u001b[1;33m(\u001b[0m\u001b[1;33m(\u001b[0m\u001b[1;36m3\u001b[0m\u001b[1;33m,\u001b[0m \u001b[1;33m-\u001b[0m\u001b[1;36m1\u001b[0m\u001b[1;33m)\u001b[0m\u001b[1;33m)\u001b[0m \u001b[1;31m#resize 에는 -1 불가. (튜플로 넣어라.)\u001b[0m\u001b[1;33m\u001b[0m\u001b[1;33m\u001b[0m\u001b[0m\n\u001b[0m",
      "\u001b[1;31mValueError\u001b[0m: negative dimensions not allowed"
     ]
    }
   ],
   "source": [
    "a.resize((3, -1)) #resize 에는 -1 불가. (튜플로 넣어라.)"
   ]
  },
  {
   "cell_type": "code",
   "execution_count": 146,
   "metadata": {
    "ExecuteTime": {
     "end_time": "2021-03-04T06:56:38.237980Z",
     "start_time": "2021-03-04T06:56:38.234988Z"
    }
   },
   "outputs": [],
   "source": [
    "# 로또번호 6개(1~45)를 구해서 sort하여 1차원 배열에 넣기."
   ]
  },
  {
   "cell_type": "code",
   "execution_count": 147,
   "metadata": {
    "ExecuteTime": {
     "end_time": "2021-03-04T06:57:23.864174Z",
     "start_time": "2021-03-04T06:57:23.859213Z"
    }
   },
   "outputs": [
    {
     "data": {
      "text/plain": [
       "array([12.35780577, 10.29911287, 44.36543934, 32.83948157, 18.25683333,\n",
       "       17.94972021])"
      ]
     },
     "execution_count": 147,
     "metadata": {},
     "output_type": "execute_result"
    }
   ],
   "source": [
    "45*np.random.random(6)  #0부터 45미만의 실수 생성."
   ]
  },
  {
   "cell_type": "code",
   "execution_count": 156,
   "metadata": {
    "ExecuteTime": {
     "end_time": "2021-03-04T07:02:27.599303Z",
     "start_time": "2021-03-04T07:02:27.594340Z"
    }
   },
   "outputs": [
    {
     "name": "stdout",
     "output_type": "stream",
     "text": [
      "[19. 24. 28. 35. 38. 40.]\n"
     ]
    }
   ],
   "source": [
    "while True:\n",
    "    a = np.floor(45*np.random.random(6))+1 # a 는 0~45사이의 실수 생성\n",
    "    a.sort() #sort 정렬.\n",
    "    # 리스트컨플리헨션. + set(중복떨어지고) + len(6개가 나오게끔.)\n",
    "    if len(set([int(data) for data in a]))==6: \n",
    "        print(a)\n",
    "        break;"
   ]
  },
  {
   "cell_type": "code",
   "execution_count": 159,
   "metadata": {
    "ExecuteTime": {
     "end_time": "2021-03-04T07:03:20.999650Z",
     "start_time": "2021-03-04T07:03:20.994644Z"
    }
   },
   "outputs": [
    {
     "data": {
      "text/plain": [
       "array([['1', '2'],\n",
       "       ['2.0', '1']], dtype='<U32')"
      ]
     },
     "execution_count": 159,
     "metadata": {},
     "output_type": "execute_result"
    }
   ],
   "source": [
    "np.array([[1,2],[2.0,'1']]) #모두 문자형으로 바뀜."
   ]
  },
  {
   "cell_type": "markdown",
   "metadata": {},
   "source": [
    "## 2.5 배열 인쇄"
   ]
  },
  {
   "cell_type": "code",
   "execution_count": 160,
   "metadata": {
    "ExecuteTime": {
     "end_time": "2021-03-04T07:05:34.793043Z",
     "start_time": "2021-03-04T07:05:34.790038Z"
    }
   },
   "outputs": [
    {
     "name": "stdout",
     "output_type": "stream",
     "text": [
      "[    0     1     2 ... 99997 99998 99999]\n"
     ]
    }
   ],
   "source": [
    "# 배열이 너무 커서 인쇄할 수 없는 경우,\n",
    "print(np.arange(100000))"
   ]
  },
  {
   "cell_type": "code",
   "execution_count": 163,
   "metadata": {
    "ExecuteTime": {
     "end_time": "2021-03-04T07:07:22.757379Z",
     "start_time": "2021-03-04T07:07:22.753390Z"
    }
   },
   "outputs": [
    {
     "name": "stdout",
     "output_type": "stream",
     "text": [
      "[[   0    1    2 ...  997  998  999]\n",
      " [1000 1001 1002 ... 1997 1998 1999]\n",
      " [2000 2001 2002 ... 2997 2998 2999]\n",
      " ...\n",
      " [7000 7001 7002 ... 7997 7998 7999]\n",
      " [8000 8001 8002 ... 8997 8998 8999]\n",
      " [9000 9001 9002 ... 9997 9998 9999]]\n"
     ]
    }
   ],
   "source": [
    "print(np.arange(10000).reshape(10,1000))"
   ]
  },
  {
   "cell_type": "markdown",
   "metadata": {},
   "source": [
    "<pre>\n",
    "- 상단의 예제처럼, 배열을 출력할때 배열이 너무 커서\n",
    "- 행이나 열이 너무 길때, 생략된것을 나오게끔 자동으로 건너뛰고 모서리만 인쇄.\n",
    "- 이동작을 비활성화하고 넘파이가 전체 배열을 인쇄하도록 하려면.\n",
    "- 인쇄 옵션을 변경. threshold값을 큰 값으로\n",
    "</pre>"
   ]
  },
  {
   "cell_type": "code",
   "execution_count": 167,
   "metadata": {
    "ExecuteTime": {
     "end_time": "2021-03-04T07:12:59.165581Z",
     "start_time": "2021-03-04T07:12:59.162614Z"
    }
   },
   "outputs": [],
   "source": [
    "# np.inf = 무한대\n",
    "# import sys => sys.maxsize 사용할때 임폴트.\n",
    "# np.set_printoptions(threshold=sys.maxsize)\n",
    "np.set_printoptions(threshold=10000)\n",
    "#내 시스템에서의 sys.maxsize "
   ]
  },
  {
   "cell_type": "code",
   "execution_count": 168,
   "metadata": {
    "ExecuteTime": {
     "end_time": "2021-03-04T07:13:00.503421Z",
     "start_time": "2021-03-04T07:13:00.482478Z"
    }
   },
   "outputs": [
    {
     "name": "stdout",
     "output_type": "stream",
     "text": [
      "[[   0    1    2    3    4    5    6    7    8    9   10   11   12   13\n",
      "    14   15   16   17   18   19   20   21   22   23   24   25   26   27\n",
      "    28   29   30   31   32   33   34   35   36   37   38   39   40   41\n",
      "    42   43   44   45   46   47   48   49   50   51   52   53   54   55\n",
      "    56   57   58   59   60   61   62   63   64   65   66   67   68   69\n",
      "    70   71   72   73   74   75   76   77   78   79   80   81   82   83\n",
      "    84   85   86   87   88   89   90   91   92   93   94   95   96   97\n",
      "    98   99  100  101  102  103  104  105  106  107  108  109  110  111\n",
      "   112  113  114  115  116  117  118  119  120  121  122  123  124  125\n",
      "   126  127  128  129  130  131  132  133  134  135  136  137  138  139\n",
      "   140  141  142  143  144  145  146  147  148  149  150  151  152  153\n",
      "   154  155  156  157  158  159  160  161  162  163  164  165  166  167\n",
      "   168  169  170  171  172  173  174  175  176  177  178  179  180  181\n",
      "   182  183  184  185  186  187  188  189  190  191  192  193  194  195\n",
      "   196  197  198  199  200  201  202  203  204  205  206  207  208  209\n",
      "   210  211  212  213  214  215  216  217  218  219  220  221  222  223\n",
      "   224  225  226  227  228  229  230  231  232  233  234  235  236  237\n",
      "   238  239  240  241  242  243  244  245  246  247  248  249  250  251\n",
      "   252  253  254  255  256  257  258  259  260  261  262  263  264  265\n",
      "   266  267  268  269  270  271  272  273  274  275  276  277  278  279\n",
      "   280  281  282  283  284  285  286  287  288  289  290  291  292  293\n",
      "   294  295  296  297  298  299  300  301  302  303  304  305  306  307\n",
      "   308  309  310  311  312  313  314  315  316  317  318  319  320  321\n",
      "   322  323  324  325  326  327  328  329  330  331  332  333  334  335\n",
      "   336  337  338  339  340  341  342  343  344  345  346  347  348  349\n",
      "   350  351  352  353  354  355  356  357  358  359  360  361  362  363\n",
      "   364  365  366  367  368  369  370  371  372  373  374  375  376  377\n",
      "   378  379  380  381  382  383  384  385  386  387  388  389  390  391\n",
      "   392  393  394  395  396  397  398  399  400  401  402  403  404  405\n",
      "   406  407  408  409  410  411  412  413  414  415  416  417  418  419\n",
      "   420  421  422  423  424  425  426  427  428  429  430  431  432  433\n",
      "   434  435  436  437  438  439  440  441  442  443  444  445  446  447\n",
      "   448  449  450  451  452  453  454  455  456  457  458  459  460  461\n",
      "   462  463  464  465  466  467  468  469  470  471  472  473  474  475\n",
      "   476  477  478  479  480  481  482  483  484  485  486  487  488  489\n",
      "   490  491  492  493  494  495  496  497  498  499  500  501  502  503\n",
      "   504  505  506  507  508  509  510  511  512  513  514  515  516  517\n",
      "   518  519  520  521  522  523  524  525  526  527  528  529  530  531\n",
      "   532  533  534  535  536  537  538  539  540  541  542  543  544  545\n",
      "   546  547  548  549  550  551  552  553  554  555  556  557  558  559\n",
      "   560  561  562  563  564  565  566  567  568  569  570  571  572  573\n",
      "   574  575  576  577  578  579  580  581  582  583  584  585  586  587\n",
      "   588  589  590  591  592  593  594  595  596  597  598  599  600  601\n",
      "   602  603  604  605  606  607  608  609  610  611  612  613  614  615\n",
      "   616  617  618  619  620  621  622  623  624  625  626  627  628  629\n",
      "   630  631  632  633  634  635  636  637  638  639  640  641  642  643\n",
      "   644  645  646  647  648  649  650  651  652  653  654  655  656  657\n",
      "   658  659  660  661  662  663  664  665  666  667  668  669  670  671\n",
      "   672  673  674  675  676  677  678  679  680  681  682  683  684  685\n",
      "   686  687  688  689  690  691  692  693  694  695  696  697  698  699\n",
      "   700  701  702  703  704  705  706  707  708  709  710  711  712  713\n",
      "   714  715  716  717  718  719  720  721  722  723  724  725  726  727\n",
      "   728  729  730  731  732  733  734  735  736  737  738  739  740  741\n",
      "   742  743  744  745  746  747  748  749  750  751  752  753  754  755\n",
      "   756  757  758  759  760  761  762  763  764  765  766  767  768  769\n",
      "   770  771  772  773  774  775  776  777  778  779  780  781  782  783\n",
      "   784  785  786  787  788  789  790  791  792  793  794  795  796  797\n",
      "   798  799  800  801  802  803  804  805  806  807  808  809  810  811\n",
      "   812  813  814  815  816  817  818  819  820  821  822  823  824  825\n",
      "   826  827  828  829  830  831  832  833  834  835  836  837  838  839\n",
      "   840  841  842  843  844  845  846  847  848  849  850  851  852  853\n",
      "   854  855  856  857  858  859  860  861  862  863  864  865  866  867\n",
      "   868  869  870  871  872  873  874  875  876  877  878  879  880  881\n",
      "   882  883  884  885  886  887  888  889  890  891  892  893  894  895\n",
      "   896  897  898  899  900  901  902  903  904  905  906  907  908  909\n",
      "   910  911  912  913  914  915  916  917  918  919  920  921  922  923\n",
      "   924  925  926  927  928  929  930  931  932  933  934  935  936  937\n",
      "   938  939  940  941  942  943  944  945  946  947  948  949  950  951\n",
      "   952  953  954  955  956  957  958  959  960  961  962  963  964  965\n",
      "   966  967  968  969  970  971  972  973  974  975  976  977  978  979\n",
      "   980  981  982  983  984  985  986  987  988  989  990  991  992  993\n",
      "   994  995  996  997  998  999]\n",
      " [1000 1001 1002 1003 1004 1005 1006 1007 1008 1009 1010 1011 1012 1013\n",
      "  1014 1015 1016 1017 1018 1019 1020 1021 1022 1023 1024 1025 1026 1027\n",
      "  1028 1029 1030 1031 1032 1033 1034 1035 1036 1037 1038 1039 1040 1041\n",
      "  1042 1043 1044 1045 1046 1047 1048 1049 1050 1051 1052 1053 1054 1055\n",
      "  1056 1057 1058 1059 1060 1061 1062 1063 1064 1065 1066 1067 1068 1069\n",
      "  1070 1071 1072 1073 1074 1075 1076 1077 1078 1079 1080 1081 1082 1083\n",
      "  1084 1085 1086 1087 1088 1089 1090 1091 1092 1093 1094 1095 1096 1097\n",
      "  1098 1099 1100 1101 1102 1103 1104 1105 1106 1107 1108 1109 1110 1111\n",
      "  1112 1113 1114 1115 1116 1117 1118 1119 1120 1121 1122 1123 1124 1125\n",
      "  1126 1127 1128 1129 1130 1131 1132 1133 1134 1135 1136 1137 1138 1139\n",
      "  1140 1141 1142 1143 1144 1145 1146 1147 1148 1149 1150 1151 1152 1153\n",
      "  1154 1155 1156 1157 1158 1159 1160 1161 1162 1163 1164 1165 1166 1167\n",
      "  1168 1169 1170 1171 1172 1173 1174 1175 1176 1177 1178 1179 1180 1181\n",
      "  1182 1183 1184 1185 1186 1187 1188 1189 1190 1191 1192 1193 1194 1195\n",
      "  1196 1197 1198 1199 1200 1201 1202 1203 1204 1205 1206 1207 1208 1209\n",
      "  1210 1211 1212 1213 1214 1215 1216 1217 1218 1219 1220 1221 1222 1223\n",
      "  1224 1225 1226 1227 1228 1229 1230 1231 1232 1233 1234 1235 1236 1237\n",
      "  1238 1239 1240 1241 1242 1243 1244 1245 1246 1247 1248 1249 1250 1251\n",
      "  1252 1253 1254 1255 1256 1257 1258 1259 1260 1261 1262 1263 1264 1265\n",
      "  1266 1267 1268 1269 1270 1271 1272 1273 1274 1275 1276 1277 1278 1279\n",
      "  1280 1281 1282 1283 1284 1285 1286 1287 1288 1289 1290 1291 1292 1293\n",
      "  1294 1295 1296 1297 1298 1299 1300 1301 1302 1303 1304 1305 1306 1307\n",
      "  1308 1309 1310 1311 1312 1313 1314 1315 1316 1317 1318 1319 1320 1321\n",
      "  1322 1323 1324 1325 1326 1327 1328 1329 1330 1331 1332 1333 1334 1335\n",
      "  1336 1337 1338 1339 1340 1341 1342 1343 1344 1345 1346 1347 1348 1349\n",
      "  1350 1351 1352 1353 1354 1355 1356 1357 1358 1359 1360 1361 1362 1363\n",
      "  1364 1365 1366 1367 1368 1369 1370 1371 1372 1373 1374 1375 1376 1377\n",
      "  1378 1379 1380 1381 1382 1383 1384 1385 1386 1387 1388 1389 1390 1391\n",
      "  1392 1393 1394 1395 1396 1397 1398 1399 1400 1401 1402 1403 1404 1405\n",
      "  1406 1407 1408 1409 1410 1411 1412 1413 1414 1415 1416 1417 1418 1419\n",
      "  1420 1421 1422 1423 1424 1425 1426 1427 1428 1429 1430 1431 1432 1433\n",
      "  1434 1435 1436 1437 1438 1439 1440 1441 1442 1443 1444 1445 1446 1447\n",
      "  1448 1449 1450 1451 1452 1453 1454 1455 1456 1457 1458 1459 1460 1461\n",
      "  1462 1463 1464 1465 1466 1467 1468 1469 1470 1471 1472 1473 1474 1475\n",
      "  1476 1477 1478 1479 1480 1481 1482 1483 1484 1485 1486 1487 1488 1489\n",
      "  1490 1491 1492 1493 1494 1495 1496 1497 1498 1499 1500 1501 1502 1503\n",
      "  1504 1505 1506 1507 1508 1509 1510 1511 1512 1513 1514 1515 1516 1517\n",
      "  1518 1519 1520 1521 1522 1523 1524 1525 1526 1527 1528 1529 1530 1531\n",
      "  1532 1533 1534 1535 1536 1537 1538 1539 1540 1541 1542 1543 1544 1545\n",
      "  1546 1547 1548 1549 1550 1551 1552 1553 1554 1555 1556 1557 1558 1559\n",
      "  1560 1561 1562 1563 1564 1565 1566 1567 1568 1569 1570 1571 1572 1573\n",
      "  1574 1575 1576 1577 1578 1579 1580 1581 1582 1583 1584 1585 1586 1587\n",
      "  1588 1589 1590 1591 1592 1593 1594 1595 1596 1597 1598 1599 1600 1601\n",
      "  1602 1603 1604 1605 1606 1607 1608 1609 1610 1611 1612 1613 1614 1615\n",
      "  1616 1617 1618 1619 1620 1621 1622 1623 1624 1625 1626 1627 1628 1629\n",
      "  1630 1631 1632 1633 1634 1635 1636 1637 1638 1639 1640 1641 1642 1643\n",
      "  1644 1645 1646 1647 1648 1649 1650 1651 1652 1653 1654 1655 1656 1657\n",
      "  1658 1659 1660 1661 1662 1663 1664 1665 1666 1667 1668 1669 1670 1671\n",
      "  1672 1673 1674 1675 1676 1677 1678 1679 1680 1681 1682 1683 1684 1685\n",
      "  1686 1687 1688 1689 1690 1691 1692 1693 1694 1695 1696 1697 1698 1699\n",
      "  1700 1701 1702 1703 1704 1705 1706 1707 1708 1709 1710 1711 1712 1713\n",
      "  1714 1715 1716 1717 1718 1719 1720 1721 1722 1723 1724 1725 1726 1727\n",
      "  1728 1729 1730 1731 1732 1733 1734 1735 1736 1737 1738 1739 1740 1741\n",
      "  1742 1743 1744 1745 1746 1747 1748 1749 1750 1751 1752 1753 1754 1755\n",
      "  1756 1757 1758 1759 1760 1761 1762 1763 1764 1765 1766 1767 1768 1769\n",
      "  1770 1771 1772 1773 1774 1775 1776 1777 1778 1779 1780 1781 1782 1783\n",
      "  1784 1785 1786 1787 1788 1789 1790 1791 1792 1793 1794 1795 1796 1797\n",
      "  1798 1799 1800 1801 1802 1803 1804 1805 1806 1807 1808 1809 1810 1811\n",
      "  1812 1813 1814 1815 1816 1817 1818 1819 1820 1821 1822 1823 1824 1825\n",
      "  1826 1827 1828 1829 1830 1831 1832 1833 1834 1835 1836 1837 1838 1839\n",
      "  1840 1841 1842 1843 1844 1845 1846 1847 1848 1849 1850 1851 1852 1853\n",
      "  1854 1855 1856 1857 1858 1859 1860 1861 1862 1863 1864 1865 1866 1867\n",
      "  1868 1869 1870 1871 1872 1873 1874 1875 1876 1877 1878 1879 1880 1881\n",
      "  1882 1883 1884 1885 1886 1887 1888 1889 1890 1891 1892 1893 1894 1895\n",
      "  1896 1897 1898 1899 1900 1901 1902 1903 1904 1905 1906 1907 1908 1909\n",
      "  1910 1911 1912 1913 1914 1915 1916 1917 1918 1919 1920 1921 1922 1923\n",
      "  1924 1925 1926 1927 1928 1929 1930 1931 1932 1933 1934 1935 1936 1937\n",
      "  1938 1939 1940 1941 1942 1943 1944 1945 1946 1947 1948 1949 1950 1951\n",
      "  1952 1953 1954 1955 1956 1957 1958 1959 1960 1961 1962 1963 1964 1965\n",
      "  1966 1967 1968 1969 1970 1971 1972 1973 1974 1975 1976 1977 1978 1979\n",
      "  1980 1981 1982 1983 1984 1985 1986 1987 1988 1989 1990 1991 1992 1993\n",
      "  1994 1995 1996 1997 1998 1999]\n",
      " [2000 2001 2002 2003 2004 2005 2006 2007 2008 2009 2010 2011 2012 2013\n",
      "  2014 2015 2016 2017 2018 2019 2020 2021 2022 2023 2024 2025 2026 2027\n",
      "  2028 2029 2030 2031 2032 2033 2034 2035 2036 2037 2038 2039 2040 2041\n",
      "  2042 2043 2044 2045 2046 2047 2048 2049 2050 2051 2052 2053 2054 2055\n",
      "  2056 2057 2058 2059 2060 2061 2062 2063 2064 2065 2066 2067 2068 2069\n",
      "  2070 2071 2072 2073 2074 2075 2076 2077 2078 2079 2080 2081 2082 2083\n",
      "  2084 2085 2086 2087 2088 2089 2090 2091 2092 2093 2094 2095 2096 2097\n",
      "  2098 2099 2100 2101 2102 2103 2104 2105 2106 2107 2108 2109 2110 2111\n",
      "  2112 2113 2114 2115 2116 2117 2118 2119 2120 2121 2122 2123 2124 2125\n",
      "  2126 2127 2128 2129 2130 2131 2132 2133 2134 2135 2136 2137 2138 2139\n",
      "  2140 2141 2142 2143 2144 2145 2146 2147 2148 2149 2150 2151 2152 2153\n",
      "  2154 2155 2156 2157 2158 2159 2160 2161 2162 2163 2164 2165 2166 2167\n",
      "  2168 2169 2170 2171 2172 2173 2174 2175 2176 2177 2178 2179 2180 2181\n",
      "  2182 2183 2184 2185 2186 2187 2188 2189 2190 2191 2192 2193 2194 2195\n",
      "  2196 2197 2198 2199 2200 2201 2202 2203 2204 2205 2206 2207 2208 2209\n",
      "  2210 2211 2212 2213 2214 2215 2216 2217 2218 2219 2220 2221 2222 2223\n",
      "  2224 2225 2226 2227 2228 2229 2230 2231 2232 2233 2234 2235 2236 2237\n",
      "  2238 2239 2240 2241 2242 2243 2244 2245 2246 2247 2248 2249 2250 2251\n",
      "  2252 2253 2254 2255 2256 2257 2258 2259 2260 2261 2262 2263 2264 2265\n",
      "  2266 2267 2268 2269 2270 2271 2272 2273 2274 2275 2276 2277 2278 2279\n",
      "  2280 2281 2282 2283 2284 2285 2286 2287 2288 2289 2290 2291 2292 2293\n",
      "  2294 2295 2296 2297 2298 2299 2300 2301 2302 2303 2304 2305 2306 2307\n",
      "  2308 2309 2310 2311 2312 2313 2314 2315 2316 2317 2318 2319 2320 2321\n",
      "  2322 2323 2324 2325 2326 2327 2328 2329 2330 2331 2332 2333 2334 2335\n",
      "  2336 2337 2338 2339 2340 2341 2342 2343 2344 2345 2346 2347 2348 2349\n",
      "  2350 2351 2352 2353 2354 2355 2356 2357 2358 2359 2360 2361 2362 2363\n",
      "  2364 2365 2366 2367 2368 2369 2370 2371 2372 2373 2374 2375 2376 2377\n",
      "  2378 2379 2380 2381 2382 2383 2384 2385 2386 2387 2388 2389 2390 2391\n",
      "  2392 2393 2394 2395 2396 2397 2398 2399 2400 2401 2402 2403 2404 2405\n",
      "  2406 2407 2408 2409 2410 2411 2412 2413 2414 2415 2416 2417 2418 2419\n",
      "  2420 2421 2422 2423 2424 2425 2426 2427 2428 2429 2430 2431 2432 2433\n",
      "  2434 2435 2436 2437 2438 2439 2440 2441 2442 2443 2444 2445 2446 2447\n",
      "  2448 2449 2450 2451 2452 2453 2454 2455 2456 2457 2458 2459 2460 2461\n",
      "  2462 2463 2464 2465 2466 2467 2468 2469 2470 2471 2472 2473 2474 2475\n",
      "  2476 2477 2478 2479 2480 2481 2482 2483 2484 2485 2486 2487 2488 2489\n",
      "  2490 2491 2492 2493 2494 2495 2496 2497 2498 2499 2500 2501 2502 2503\n",
      "  2504 2505 2506 2507 2508 2509 2510 2511 2512 2513 2514 2515 2516 2517\n",
      "  2518 2519 2520 2521 2522 2523 2524 2525 2526 2527 2528 2529 2530 2531\n",
      "  2532 2533 2534 2535 2536 2537 2538 2539 2540 2541 2542 2543 2544 2545\n",
      "  2546 2547 2548 2549 2550 2551 2552 2553 2554 2555 2556 2557 2558 2559\n",
      "  2560 2561 2562 2563 2564 2565 2566 2567 2568 2569 2570 2571 2572 2573\n",
      "  2574 2575 2576 2577 2578 2579 2580 2581 2582 2583 2584 2585 2586 2587\n",
      "  2588 2589 2590 2591 2592 2593 2594 2595 2596 2597 2598 2599 2600 2601\n",
      "  2602 2603 2604 2605 2606 2607 2608 2609 2610 2611 2612 2613 2614 2615\n",
      "  2616 2617 2618 2619 2620 2621 2622 2623 2624 2625 2626 2627 2628 2629\n",
      "  2630 2631 2632 2633 2634 2635 2636 2637 2638 2639 2640 2641 2642 2643\n",
      "  2644 2645 2646 2647 2648 2649 2650 2651 2652 2653 2654 2655 2656 2657\n",
      "  2658 2659 2660 2661 2662 2663 2664 2665 2666 2667 2668 2669 2670 2671\n",
      "  2672 2673 2674 2675 2676 2677 2678 2679 2680 2681 2682 2683 2684 2685\n",
      "  2686 2687 2688 2689 2690 2691 2692 2693 2694 2695 2696 2697 2698 2699\n",
      "  2700 2701 2702 2703 2704 2705 2706 2707 2708 2709 2710 2711 2712 2713\n",
      "  2714 2715 2716 2717 2718 2719 2720 2721 2722 2723 2724 2725 2726 2727\n",
      "  2728 2729 2730 2731 2732 2733 2734 2735 2736 2737 2738 2739 2740 2741\n",
      "  2742 2743 2744 2745 2746 2747 2748 2749 2750 2751 2752 2753 2754 2755\n",
      "  2756 2757 2758 2759 2760 2761 2762 2763 2764 2765 2766 2767 2768 2769\n",
      "  2770 2771 2772 2773 2774 2775 2776 2777 2778 2779 2780 2781 2782 2783\n",
      "  2784 2785 2786 2787 2788 2789 2790 2791 2792 2793 2794 2795 2796 2797\n",
      "  2798 2799 2800 2801 2802 2803 2804 2805 2806 2807 2808 2809 2810 2811\n",
      "  2812 2813 2814 2815 2816 2817 2818 2819 2820 2821 2822 2823 2824 2825\n",
      "  2826 2827 2828 2829 2830 2831 2832 2833 2834 2835 2836 2837 2838 2839\n",
      "  2840 2841 2842 2843 2844 2845 2846 2847 2848 2849 2850 2851 2852 2853\n",
      "  2854 2855 2856 2857 2858 2859 2860 2861 2862 2863 2864 2865 2866 2867\n",
      "  2868 2869 2870 2871 2872 2873 2874 2875 2876 2877 2878 2879 2880 2881\n",
      "  2882 2883 2884 2885 2886 2887 2888 2889 2890 2891 2892 2893 2894 2895\n",
      "  2896 2897 2898 2899 2900 2901 2902 2903 2904 2905 2906 2907 2908 2909\n",
      "  2910 2911 2912 2913 2914 2915 2916 2917 2918 2919 2920 2921 2922 2923\n",
      "  2924 2925 2926 2927 2928 2929 2930 2931 2932 2933 2934 2935 2936 2937\n",
      "  2938 2939 2940 2941 2942 2943 2944 2945 2946 2947 2948 2949 2950 2951\n",
      "  2952 2953 2954 2955 2956 2957 2958 2959 2960 2961 2962 2963 2964 2965\n",
      "  2966 2967 2968 2969 2970 2971 2972 2973 2974 2975 2976 2977 2978 2979\n",
      "  2980 2981 2982 2983 2984 2985 2986 2987 2988 2989 2990 2991 2992 2993\n",
      "  2994 2995 2996 2997 2998 2999]\n",
      " [3000 3001 3002 3003 3004 3005 3006 3007 3008 3009 3010 3011 3012 3013\n",
      "  3014 3015 3016 3017 3018 3019 3020 3021 3022 3023 3024 3025 3026 3027\n",
      "  3028 3029 3030 3031 3032 3033 3034 3035 3036 3037 3038 3039 3040 3041\n",
      "  3042 3043 3044 3045 3046 3047 3048 3049 3050 3051 3052 3053 3054 3055\n",
      "  3056 3057 3058 3059 3060 3061 3062 3063 3064 3065 3066 3067 3068 3069\n",
      "  3070 3071 3072 3073 3074 3075 3076 3077 3078 3079 3080 3081 3082 3083\n",
      "  3084 3085 3086 3087 3088 3089 3090 3091 3092 3093 3094 3095 3096 3097\n",
      "  3098 3099 3100 3101 3102 3103 3104 3105 3106 3107 3108 3109 3110 3111\n",
      "  3112 3113 3114 3115 3116 3117 3118 3119 3120 3121 3122 3123 3124 3125\n",
      "  3126 3127 3128 3129 3130 3131 3132 3133 3134 3135 3136 3137 3138 3139\n",
      "  3140 3141 3142 3143 3144 3145 3146 3147 3148 3149 3150 3151 3152 3153\n",
      "  3154 3155 3156 3157 3158 3159 3160 3161 3162 3163 3164 3165 3166 3167\n",
      "  3168 3169 3170 3171 3172 3173 3174 3175 3176 3177 3178 3179 3180 3181\n",
      "  3182 3183 3184 3185 3186 3187 3188 3189 3190 3191 3192 3193 3194 3195\n",
      "  3196 3197 3198 3199 3200 3201 3202 3203 3204 3205 3206 3207 3208 3209\n",
      "  3210 3211 3212 3213 3214 3215 3216 3217 3218 3219 3220 3221 3222 3223\n",
      "  3224 3225 3226 3227 3228 3229 3230 3231 3232 3233 3234 3235 3236 3237\n",
      "  3238 3239 3240 3241 3242 3243 3244 3245 3246 3247 3248 3249 3250 3251\n",
      "  3252 3253 3254 3255 3256 3257 3258 3259 3260 3261 3262 3263 3264 3265\n",
      "  3266 3267 3268 3269 3270 3271 3272 3273 3274 3275 3276 3277 3278 3279\n",
      "  3280 3281 3282 3283 3284 3285 3286 3287 3288 3289 3290 3291 3292 3293\n",
      "  3294 3295 3296 3297 3298 3299 3300 3301 3302 3303 3304 3305 3306 3307\n",
      "  3308 3309 3310 3311 3312 3313 3314 3315 3316 3317 3318 3319 3320 3321\n",
      "  3322 3323 3324 3325 3326 3327 3328 3329 3330 3331 3332 3333 3334 3335\n",
      "  3336 3337 3338 3339 3340 3341 3342 3343 3344 3345 3346 3347 3348 3349\n",
      "  3350 3351 3352 3353 3354 3355 3356 3357 3358 3359 3360 3361 3362 3363\n",
      "  3364 3365 3366 3367 3368 3369 3370 3371 3372 3373 3374 3375 3376 3377\n",
      "  3378 3379 3380 3381 3382 3383 3384 3385 3386 3387 3388 3389 3390 3391\n",
      "  3392 3393 3394 3395 3396 3397 3398 3399 3400 3401 3402 3403 3404 3405\n",
      "  3406 3407 3408 3409 3410 3411 3412 3413 3414 3415 3416 3417 3418 3419\n",
      "  3420 3421 3422 3423 3424 3425 3426 3427 3428 3429 3430 3431 3432 3433\n",
      "  3434 3435 3436 3437 3438 3439 3440 3441 3442 3443 3444 3445 3446 3447\n",
      "  3448 3449 3450 3451 3452 3453 3454 3455 3456 3457 3458 3459 3460 3461\n",
      "  3462 3463 3464 3465 3466 3467 3468 3469 3470 3471 3472 3473 3474 3475\n",
      "  3476 3477 3478 3479 3480 3481 3482 3483 3484 3485 3486 3487 3488 3489\n",
      "  3490 3491 3492 3493 3494 3495 3496 3497 3498 3499 3500 3501 3502 3503\n",
      "  3504 3505 3506 3507 3508 3509 3510 3511 3512 3513 3514 3515 3516 3517\n",
      "  3518 3519 3520 3521 3522 3523 3524 3525 3526 3527 3528 3529 3530 3531\n",
      "  3532 3533 3534 3535 3536 3537 3538 3539 3540 3541 3542 3543 3544 3545\n",
      "  3546 3547 3548 3549 3550 3551 3552 3553 3554 3555 3556 3557 3558 3559\n",
      "  3560 3561 3562 3563 3564 3565 3566 3567 3568 3569 3570 3571 3572 3573\n",
      "  3574 3575 3576 3577 3578 3579 3580 3581 3582 3583 3584 3585 3586 3587\n",
      "  3588 3589 3590 3591 3592 3593 3594 3595 3596 3597 3598 3599 3600 3601\n",
      "  3602 3603 3604 3605 3606 3607 3608 3609 3610 3611 3612 3613 3614 3615\n",
      "  3616 3617 3618 3619 3620 3621 3622 3623 3624 3625 3626 3627 3628 3629\n",
      "  3630 3631 3632 3633 3634 3635 3636 3637 3638 3639 3640 3641 3642 3643\n",
      "  3644 3645 3646 3647 3648 3649 3650 3651 3652 3653 3654 3655 3656 3657\n",
      "  3658 3659 3660 3661 3662 3663 3664 3665 3666 3667 3668 3669 3670 3671\n",
      "  3672 3673 3674 3675 3676 3677 3678 3679 3680 3681 3682 3683 3684 3685\n",
      "  3686 3687 3688 3689 3690 3691 3692 3693 3694 3695 3696 3697 3698 3699\n",
      "  3700 3701 3702 3703 3704 3705 3706 3707 3708 3709 3710 3711 3712 3713\n",
      "  3714 3715 3716 3717 3718 3719 3720 3721 3722 3723 3724 3725 3726 3727\n",
      "  3728 3729 3730 3731 3732 3733 3734 3735 3736 3737 3738 3739 3740 3741\n",
      "  3742 3743 3744 3745 3746 3747 3748 3749 3750 3751 3752 3753 3754 3755\n",
      "  3756 3757 3758 3759 3760 3761 3762 3763 3764 3765 3766 3767 3768 3769\n",
      "  3770 3771 3772 3773 3774 3775 3776 3777 3778 3779 3780 3781 3782 3783\n",
      "  3784 3785 3786 3787 3788 3789 3790 3791 3792 3793 3794 3795 3796 3797\n",
      "  3798 3799 3800 3801 3802 3803 3804 3805 3806 3807 3808 3809 3810 3811\n",
      "  3812 3813 3814 3815 3816 3817 3818 3819 3820 3821 3822 3823 3824 3825\n",
      "  3826 3827 3828 3829 3830 3831 3832 3833 3834 3835 3836 3837 3838 3839\n",
      "  3840 3841 3842 3843 3844 3845 3846 3847 3848 3849 3850 3851 3852 3853\n",
      "  3854 3855 3856 3857 3858 3859 3860 3861 3862 3863 3864 3865 3866 3867\n",
      "  3868 3869 3870 3871 3872 3873 3874 3875 3876 3877 3878 3879 3880 3881\n",
      "  3882 3883 3884 3885 3886 3887 3888 3889 3890 3891 3892 3893 3894 3895\n",
      "  3896 3897 3898 3899 3900 3901 3902 3903 3904 3905 3906 3907 3908 3909\n",
      "  3910 3911 3912 3913 3914 3915 3916 3917 3918 3919 3920 3921 3922 3923\n",
      "  3924 3925 3926 3927 3928 3929 3930 3931 3932 3933 3934 3935 3936 3937\n",
      "  3938 3939 3940 3941 3942 3943 3944 3945 3946 3947 3948 3949 3950 3951\n",
      "  3952 3953 3954 3955 3956 3957 3958 3959 3960 3961 3962 3963 3964 3965\n",
      "  3966 3967 3968 3969 3970 3971 3972 3973 3974 3975 3976 3977 3978 3979\n",
      "  3980 3981 3982 3983 3984 3985 3986 3987 3988 3989 3990 3991 3992 3993\n",
      "  3994 3995 3996 3997 3998 3999]\n",
      " [4000 4001 4002 4003 4004 4005 4006 4007 4008 4009 4010 4011 4012 4013\n",
      "  4014 4015 4016 4017 4018 4019 4020 4021 4022 4023 4024 4025 4026 4027\n",
      "  4028 4029 4030 4031 4032 4033 4034 4035 4036 4037 4038 4039 4040 4041\n",
      "  4042 4043 4044 4045 4046 4047 4048 4049 4050 4051 4052 4053 4054 4055\n",
      "  4056 4057 4058 4059 4060 4061 4062 4063 4064 4065 4066 4067 4068 4069\n",
      "  4070 4071 4072 4073 4074 4075 4076 4077 4078 4079 4080 4081 4082 4083\n",
      "  4084 4085 4086 4087 4088 4089 4090 4091 4092 4093 4094 4095 4096 4097\n",
      "  4098 4099 4100 4101 4102 4103 4104 4105 4106 4107 4108 4109 4110 4111\n",
      "  4112 4113 4114 4115 4116 4117 4118 4119 4120 4121 4122 4123 4124 4125\n",
      "  4126 4127 4128 4129 4130 4131 4132 4133 4134 4135 4136 4137 4138 4139\n",
      "  4140 4141 4142 4143 4144 4145 4146 4147 4148 4149 4150 4151 4152 4153\n",
      "  4154 4155 4156 4157 4158 4159 4160 4161 4162 4163 4164 4165 4166 4167\n",
      "  4168 4169 4170 4171 4172 4173 4174 4175 4176 4177 4178 4179 4180 4181\n",
      "  4182 4183 4184 4185 4186 4187 4188 4189 4190 4191 4192 4193 4194 4195\n",
      "  4196 4197 4198 4199 4200 4201 4202 4203 4204 4205 4206 4207 4208 4209\n",
      "  4210 4211 4212 4213 4214 4215 4216 4217 4218 4219 4220 4221 4222 4223\n",
      "  4224 4225 4226 4227 4228 4229 4230 4231 4232 4233 4234 4235 4236 4237\n",
      "  4238 4239 4240 4241 4242 4243 4244 4245 4246 4247 4248 4249 4250 4251\n",
      "  4252 4253 4254 4255 4256 4257 4258 4259 4260 4261 4262 4263 4264 4265\n",
      "  4266 4267 4268 4269 4270 4271 4272 4273 4274 4275 4276 4277 4278 4279\n",
      "  4280 4281 4282 4283 4284 4285 4286 4287 4288 4289 4290 4291 4292 4293\n",
      "  4294 4295 4296 4297 4298 4299 4300 4301 4302 4303 4304 4305 4306 4307\n",
      "  4308 4309 4310 4311 4312 4313 4314 4315 4316 4317 4318 4319 4320 4321\n",
      "  4322 4323 4324 4325 4326 4327 4328 4329 4330 4331 4332 4333 4334 4335\n",
      "  4336 4337 4338 4339 4340 4341 4342 4343 4344 4345 4346 4347 4348 4349\n",
      "  4350 4351 4352 4353 4354 4355 4356 4357 4358 4359 4360 4361 4362 4363\n",
      "  4364 4365 4366 4367 4368 4369 4370 4371 4372 4373 4374 4375 4376 4377\n",
      "  4378 4379 4380 4381 4382 4383 4384 4385 4386 4387 4388 4389 4390 4391\n",
      "  4392 4393 4394 4395 4396 4397 4398 4399 4400 4401 4402 4403 4404 4405\n",
      "  4406 4407 4408 4409 4410 4411 4412 4413 4414 4415 4416 4417 4418 4419\n",
      "  4420 4421 4422 4423 4424 4425 4426 4427 4428 4429 4430 4431 4432 4433\n",
      "  4434 4435 4436 4437 4438 4439 4440 4441 4442 4443 4444 4445 4446 4447\n",
      "  4448 4449 4450 4451 4452 4453 4454 4455 4456 4457 4458 4459 4460 4461\n",
      "  4462 4463 4464 4465 4466 4467 4468 4469 4470 4471 4472 4473 4474 4475\n",
      "  4476 4477 4478 4479 4480 4481 4482 4483 4484 4485 4486 4487 4488 4489\n",
      "  4490 4491 4492 4493 4494 4495 4496 4497 4498 4499 4500 4501 4502 4503\n",
      "  4504 4505 4506 4507 4508 4509 4510 4511 4512 4513 4514 4515 4516 4517\n",
      "  4518 4519 4520 4521 4522 4523 4524 4525 4526 4527 4528 4529 4530 4531\n",
      "  4532 4533 4534 4535 4536 4537 4538 4539 4540 4541 4542 4543 4544 4545\n",
      "  4546 4547 4548 4549 4550 4551 4552 4553 4554 4555 4556 4557 4558 4559\n",
      "  4560 4561 4562 4563 4564 4565 4566 4567 4568 4569 4570 4571 4572 4573\n",
      "  4574 4575 4576 4577 4578 4579 4580 4581 4582 4583 4584 4585 4586 4587\n",
      "  4588 4589 4590 4591 4592 4593 4594 4595 4596 4597 4598 4599 4600 4601\n",
      "  4602 4603 4604 4605 4606 4607 4608 4609 4610 4611 4612 4613 4614 4615\n",
      "  4616 4617 4618 4619 4620 4621 4622 4623 4624 4625 4626 4627 4628 4629\n",
      "  4630 4631 4632 4633 4634 4635 4636 4637 4638 4639 4640 4641 4642 4643\n",
      "  4644 4645 4646 4647 4648 4649 4650 4651 4652 4653 4654 4655 4656 4657\n",
      "  4658 4659 4660 4661 4662 4663 4664 4665 4666 4667 4668 4669 4670 4671\n",
      "  4672 4673 4674 4675 4676 4677 4678 4679 4680 4681 4682 4683 4684 4685\n",
      "  4686 4687 4688 4689 4690 4691 4692 4693 4694 4695 4696 4697 4698 4699\n",
      "  4700 4701 4702 4703 4704 4705 4706 4707 4708 4709 4710 4711 4712 4713\n",
      "  4714 4715 4716 4717 4718 4719 4720 4721 4722 4723 4724 4725 4726 4727\n",
      "  4728 4729 4730 4731 4732 4733 4734 4735 4736 4737 4738 4739 4740 4741\n",
      "  4742 4743 4744 4745 4746 4747 4748 4749 4750 4751 4752 4753 4754 4755\n",
      "  4756 4757 4758 4759 4760 4761 4762 4763 4764 4765 4766 4767 4768 4769\n",
      "  4770 4771 4772 4773 4774 4775 4776 4777 4778 4779 4780 4781 4782 4783\n",
      "  4784 4785 4786 4787 4788 4789 4790 4791 4792 4793 4794 4795 4796 4797\n",
      "  4798 4799 4800 4801 4802 4803 4804 4805 4806 4807 4808 4809 4810 4811\n",
      "  4812 4813 4814 4815 4816 4817 4818 4819 4820 4821 4822 4823 4824 4825\n",
      "  4826 4827 4828 4829 4830 4831 4832 4833 4834 4835 4836 4837 4838 4839\n",
      "  4840 4841 4842 4843 4844 4845 4846 4847 4848 4849 4850 4851 4852 4853\n",
      "  4854 4855 4856 4857 4858 4859 4860 4861 4862 4863 4864 4865 4866 4867\n",
      "  4868 4869 4870 4871 4872 4873 4874 4875 4876 4877 4878 4879 4880 4881\n",
      "  4882 4883 4884 4885 4886 4887 4888 4889 4890 4891 4892 4893 4894 4895\n",
      "  4896 4897 4898 4899 4900 4901 4902 4903 4904 4905 4906 4907 4908 4909\n",
      "  4910 4911 4912 4913 4914 4915 4916 4917 4918 4919 4920 4921 4922 4923\n",
      "  4924 4925 4926 4927 4928 4929 4930 4931 4932 4933 4934 4935 4936 4937\n",
      "  4938 4939 4940 4941 4942 4943 4944 4945 4946 4947 4948 4949 4950 4951\n",
      "  4952 4953 4954 4955 4956 4957 4958 4959 4960 4961 4962 4963 4964 4965\n",
      "  4966 4967 4968 4969 4970 4971 4972 4973 4974 4975 4976 4977 4978 4979\n",
      "  4980 4981 4982 4983 4984 4985 4986 4987 4988 4989 4990 4991 4992 4993\n",
      "  4994 4995 4996 4997 4998 4999]\n",
      " [5000 5001 5002 5003 5004 5005 5006 5007 5008 5009 5010 5011 5012 5013\n",
      "  5014 5015 5016 5017 5018 5019 5020 5021 5022 5023 5024 5025 5026 5027\n",
      "  5028 5029 5030 5031 5032 5033 5034 5035 5036 5037 5038 5039 5040 5041\n",
      "  5042 5043 5044 5045 5046 5047 5048 5049 5050 5051 5052 5053 5054 5055\n",
      "  5056 5057 5058 5059 5060 5061 5062 5063 5064 5065 5066 5067 5068 5069\n",
      "  5070 5071 5072 5073 5074 5075 5076 5077 5078 5079 5080 5081 5082 5083\n",
      "  5084 5085 5086 5087 5088 5089 5090 5091 5092 5093 5094 5095 5096 5097\n",
      "  5098 5099 5100 5101 5102 5103 5104 5105 5106 5107 5108 5109 5110 5111\n",
      "  5112 5113 5114 5115 5116 5117 5118 5119 5120 5121 5122 5123 5124 5125\n",
      "  5126 5127 5128 5129 5130 5131 5132 5133 5134 5135 5136 5137 5138 5139\n",
      "  5140 5141 5142 5143 5144 5145 5146 5147 5148 5149 5150 5151 5152 5153\n",
      "  5154 5155 5156 5157 5158 5159 5160 5161 5162 5163 5164 5165 5166 5167\n",
      "  5168 5169 5170 5171 5172 5173 5174 5175 5176 5177 5178 5179 5180 5181\n",
      "  5182 5183 5184 5185 5186 5187 5188 5189 5190 5191 5192 5193 5194 5195\n",
      "  5196 5197 5198 5199 5200 5201 5202 5203 5204 5205 5206 5207 5208 5209\n",
      "  5210 5211 5212 5213 5214 5215 5216 5217 5218 5219 5220 5221 5222 5223\n",
      "  5224 5225 5226 5227 5228 5229 5230 5231 5232 5233 5234 5235 5236 5237\n",
      "  5238 5239 5240 5241 5242 5243 5244 5245 5246 5247 5248 5249 5250 5251\n",
      "  5252 5253 5254 5255 5256 5257 5258 5259 5260 5261 5262 5263 5264 5265\n",
      "  5266 5267 5268 5269 5270 5271 5272 5273 5274 5275 5276 5277 5278 5279\n",
      "  5280 5281 5282 5283 5284 5285 5286 5287 5288 5289 5290 5291 5292 5293\n",
      "  5294 5295 5296 5297 5298 5299 5300 5301 5302 5303 5304 5305 5306 5307\n",
      "  5308 5309 5310 5311 5312 5313 5314 5315 5316 5317 5318 5319 5320 5321\n",
      "  5322 5323 5324 5325 5326 5327 5328 5329 5330 5331 5332 5333 5334 5335\n",
      "  5336 5337 5338 5339 5340 5341 5342 5343 5344 5345 5346 5347 5348 5349\n",
      "  5350 5351 5352 5353 5354 5355 5356 5357 5358 5359 5360 5361 5362 5363\n",
      "  5364 5365 5366 5367 5368 5369 5370 5371 5372 5373 5374 5375 5376 5377\n",
      "  5378 5379 5380 5381 5382 5383 5384 5385 5386 5387 5388 5389 5390 5391\n",
      "  5392 5393 5394 5395 5396 5397 5398 5399 5400 5401 5402 5403 5404 5405\n",
      "  5406 5407 5408 5409 5410 5411 5412 5413 5414 5415 5416 5417 5418 5419\n",
      "  5420 5421 5422 5423 5424 5425 5426 5427 5428 5429 5430 5431 5432 5433\n",
      "  5434 5435 5436 5437 5438 5439 5440 5441 5442 5443 5444 5445 5446 5447\n",
      "  5448 5449 5450 5451 5452 5453 5454 5455 5456 5457 5458 5459 5460 5461\n",
      "  5462 5463 5464 5465 5466 5467 5468 5469 5470 5471 5472 5473 5474 5475\n",
      "  5476 5477 5478 5479 5480 5481 5482 5483 5484 5485 5486 5487 5488 5489\n",
      "  5490 5491 5492 5493 5494 5495 5496 5497 5498 5499 5500 5501 5502 5503\n",
      "  5504 5505 5506 5507 5508 5509 5510 5511 5512 5513 5514 5515 5516 5517\n",
      "  5518 5519 5520 5521 5522 5523 5524 5525 5526 5527 5528 5529 5530 5531\n",
      "  5532 5533 5534 5535 5536 5537 5538 5539 5540 5541 5542 5543 5544 5545\n",
      "  5546 5547 5548 5549 5550 5551 5552 5553 5554 5555 5556 5557 5558 5559\n",
      "  5560 5561 5562 5563 5564 5565 5566 5567 5568 5569 5570 5571 5572 5573\n",
      "  5574 5575 5576 5577 5578 5579 5580 5581 5582 5583 5584 5585 5586 5587\n",
      "  5588 5589 5590 5591 5592 5593 5594 5595 5596 5597 5598 5599 5600 5601\n",
      "  5602 5603 5604 5605 5606 5607 5608 5609 5610 5611 5612 5613 5614 5615\n",
      "  5616 5617 5618 5619 5620 5621 5622 5623 5624 5625 5626 5627 5628 5629\n",
      "  5630 5631 5632 5633 5634 5635 5636 5637 5638 5639 5640 5641 5642 5643\n",
      "  5644 5645 5646 5647 5648 5649 5650 5651 5652 5653 5654 5655 5656 5657\n",
      "  5658 5659 5660 5661 5662 5663 5664 5665 5666 5667 5668 5669 5670 5671\n",
      "  5672 5673 5674 5675 5676 5677 5678 5679 5680 5681 5682 5683 5684 5685\n",
      "  5686 5687 5688 5689 5690 5691 5692 5693 5694 5695 5696 5697 5698 5699\n",
      "  5700 5701 5702 5703 5704 5705 5706 5707 5708 5709 5710 5711 5712 5713\n",
      "  5714 5715 5716 5717 5718 5719 5720 5721 5722 5723 5724 5725 5726 5727\n",
      "  5728 5729 5730 5731 5732 5733 5734 5735 5736 5737 5738 5739 5740 5741\n",
      "  5742 5743 5744 5745 5746 5747 5748 5749 5750 5751 5752 5753 5754 5755\n",
      "  5756 5757 5758 5759 5760 5761 5762 5763 5764 5765 5766 5767 5768 5769\n",
      "  5770 5771 5772 5773 5774 5775 5776 5777 5778 5779 5780 5781 5782 5783\n",
      "  5784 5785 5786 5787 5788 5789 5790 5791 5792 5793 5794 5795 5796 5797\n",
      "  5798 5799 5800 5801 5802 5803 5804 5805 5806 5807 5808 5809 5810 5811\n",
      "  5812 5813 5814 5815 5816 5817 5818 5819 5820 5821 5822 5823 5824 5825\n",
      "  5826 5827 5828 5829 5830 5831 5832 5833 5834 5835 5836 5837 5838 5839\n",
      "  5840 5841 5842 5843 5844 5845 5846 5847 5848 5849 5850 5851 5852 5853\n",
      "  5854 5855 5856 5857 5858 5859 5860 5861 5862 5863 5864 5865 5866 5867\n",
      "  5868 5869 5870 5871 5872 5873 5874 5875 5876 5877 5878 5879 5880 5881\n",
      "  5882 5883 5884 5885 5886 5887 5888 5889 5890 5891 5892 5893 5894 5895\n",
      "  5896 5897 5898 5899 5900 5901 5902 5903 5904 5905 5906 5907 5908 5909\n",
      "  5910 5911 5912 5913 5914 5915 5916 5917 5918 5919 5920 5921 5922 5923\n",
      "  5924 5925 5926 5927 5928 5929 5930 5931 5932 5933 5934 5935 5936 5937\n",
      "  5938 5939 5940 5941 5942 5943 5944 5945 5946 5947 5948 5949 5950 5951\n",
      "  5952 5953 5954 5955 5956 5957 5958 5959 5960 5961 5962 5963 5964 5965\n",
      "  5966 5967 5968 5969 5970 5971 5972 5973 5974 5975 5976 5977 5978 5979\n",
      "  5980 5981 5982 5983 5984 5985 5986 5987 5988 5989 5990 5991 5992 5993\n",
      "  5994 5995 5996 5997 5998 5999]\n",
      " [6000 6001 6002 6003 6004 6005 6006 6007 6008 6009 6010 6011 6012 6013\n",
      "  6014 6015 6016 6017 6018 6019 6020 6021 6022 6023 6024 6025 6026 6027\n",
      "  6028 6029 6030 6031 6032 6033 6034 6035 6036 6037 6038 6039 6040 6041\n",
      "  6042 6043 6044 6045 6046 6047 6048 6049 6050 6051 6052 6053 6054 6055\n",
      "  6056 6057 6058 6059 6060 6061 6062 6063 6064 6065 6066 6067 6068 6069\n",
      "  6070 6071 6072 6073 6074 6075 6076 6077 6078 6079 6080 6081 6082 6083\n",
      "  6084 6085 6086 6087 6088 6089 6090 6091 6092 6093 6094 6095 6096 6097\n",
      "  6098 6099 6100 6101 6102 6103 6104 6105 6106 6107 6108 6109 6110 6111\n",
      "  6112 6113 6114 6115 6116 6117 6118 6119 6120 6121 6122 6123 6124 6125\n",
      "  6126 6127 6128 6129 6130 6131 6132 6133 6134 6135 6136 6137 6138 6139\n",
      "  6140 6141 6142 6143 6144 6145 6146 6147 6148 6149 6150 6151 6152 6153\n",
      "  6154 6155 6156 6157 6158 6159 6160 6161 6162 6163 6164 6165 6166 6167\n",
      "  6168 6169 6170 6171 6172 6173 6174 6175 6176 6177 6178 6179 6180 6181\n",
      "  6182 6183 6184 6185 6186 6187 6188 6189 6190 6191 6192 6193 6194 6195\n",
      "  6196 6197 6198 6199 6200 6201 6202 6203 6204 6205 6206 6207 6208 6209\n",
      "  6210 6211 6212 6213 6214 6215 6216 6217 6218 6219 6220 6221 6222 6223\n",
      "  6224 6225 6226 6227 6228 6229 6230 6231 6232 6233 6234 6235 6236 6237\n",
      "  6238 6239 6240 6241 6242 6243 6244 6245 6246 6247 6248 6249 6250 6251\n",
      "  6252 6253 6254 6255 6256 6257 6258 6259 6260 6261 6262 6263 6264 6265\n",
      "  6266 6267 6268 6269 6270 6271 6272 6273 6274 6275 6276 6277 6278 6279\n",
      "  6280 6281 6282 6283 6284 6285 6286 6287 6288 6289 6290 6291 6292 6293\n",
      "  6294 6295 6296 6297 6298 6299 6300 6301 6302 6303 6304 6305 6306 6307\n",
      "  6308 6309 6310 6311 6312 6313 6314 6315 6316 6317 6318 6319 6320 6321\n",
      "  6322 6323 6324 6325 6326 6327 6328 6329 6330 6331 6332 6333 6334 6335\n",
      "  6336 6337 6338 6339 6340 6341 6342 6343 6344 6345 6346 6347 6348 6349\n",
      "  6350 6351 6352 6353 6354 6355 6356 6357 6358 6359 6360 6361 6362 6363\n",
      "  6364 6365 6366 6367 6368 6369 6370 6371 6372 6373 6374 6375 6376 6377\n",
      "  6378 6379 6380 6381 6382 6383 6384 6385 6386 6387 6388 6389 6390 6391\n",
      "  6392 6393 6394 6395 6396 6397 6398 6399 6400 6401 6402 6403 6404 6405\n",
      "  6406 6407 6408 6409 6410 6411 6412 6413 6414 6415 6416 6417 6418 6419\n",
      "  6420 6421 6422 6423 6424 6425 6426 6427 6428 6429 6430 6431 6432 6433\n",
      "  6434 6435 6436 6437 6438 6439 6440 6441 6442 6443 6444 6445 6446 6447\n",
      "  6448 6449 6450 6451 6452 6453 6454 6455 6456 6457 6458 6459 6460 6461\n",
      "  6462 6463 6464 6465 6466 6467 6468 6469 6470 6471 6472 6473 6474 6475\n",
      "  6476 6477 6478 6479 6480 6481 6482 6483 6484 6485 6486 6487 6488 6489\n",
      "  6490 6491 6492 6493 6494 6495 6496 6497 6498 6499 6500 6501 6502 6503\n",
      "  6504 6505 6506 6507 6508 6509 6510 6511 6512 6513 6514 6515 6516 6517\n",
      "  6518 6519 6520 6521 6522 6523 6524 6525 6526 6527 6528 6529 6530 6531\n",
      "  6532 6533 6534 6535 6536 6537 6538 6539 6540 6541 6542 6543 6544 6545\n",
      "  6546 6547 6548 6549 6550 6551 6552 6553 6554 6555 6556 6557 6558 6559\n",
      "  6560 6561 6562 6563 6564 6565 6566 6567 6568 6569 6570 6571 6572 6573\n",
      "  6574 6575 6576 6577 6578 6579 6580 6581 6582 6583 6584 6585 6586 6587\n",
      "  6588 6589 6590 6591 6592 6593 6594 6595 6596 6597 6598 6599 6600 6601\n",
      "  6602 6603 6604 6605 6606 6607 6608 6609 6610 6611 6612 6613 6614 6615\n",
      "  6616 6617 6618 6619 6620 6621 6622 6623 6624 6625 6626 6627 6628 6629\n",
      "  6630 6631 6632 6633 6634 6635 6636 6637 6638 6639 6640 6641 6642 6643\n",
      "  6644 6645 6646 6647 6648 6649 6650 6651 6652 6653 6654 6655 6656 6657\n",
      "  6658 6659 6660 6661 6662 6663 6664 6665 6666 6667 6668 6669 6670 6671\n",
      "  6672 6673 6674 6675 6676 6677 6678 6679 6680 6681 6682 6683 6684 6685\n",
      "  6686 6687 6688 6689 6690 6691 6692 6693 6694 6695 6696 6697 6698 6699\n",
      "  6700 6701 6702 6703 6704 6705 6706 6707 6708 6709 6710 6711 6712 6713\n",
      "  6714 6715 6716 6717 6718 6719 6720 6721 6722 6723 6724 6725 6726 6727\n",
      "  6728 6729 6730 6731 6732 6733 6734 6735 6736 6737 6738 6739 6740 6741\n",
      "  6742 6743 6744 6745 6746 6747 6748 6749 6750 6751 6752 6753 6754 6755\n",
      "  6756 6757 6758 6759 6760 6761 6762 6763 6764 6765 6766 6767 6768 6769\n",
      "  6770 6771 6772 6773 6774 6775 6776 6777 6778 6779 6780 6781 6782 6783\n",
      "  6784 6785 6786 6787 6788 6789 6790 6791 6792 6793 6794 6795 6796 6797\n",
      "  6798 6799 6800 6801 6802 6803 6804 6805 6806 6807 6808 6809 6810 6811\n",
      "  6812 6813 6814 6815 6816 6817 6818 6819 6820 6821 6822 6823 6824 6825\n",
      "  6826 6827 6828 6829 6830 6831 6832 6833 6834 6835 6836 6837 6838 6839\n",
      "  6840 6841 6842 6843 6844 6845 6846 6847 6848 6849 6850 6851 6852 6853\n",
      "  6854 6855 6856 6857 6858 6859 6860 6861 6862 6863 6864 6865 6866 6867\n",
      "  6868 6869 6870 6871 6872 6873 6874 6875 6876 6877 6878 6879 6880 6881\n",
      "  6882 6883 6884 6885 6886 6887 6888 6889 6890 6891 6892 6893 6894 6895\n",
      "  6896 6897 6898 6899 6900 6901 6902 6903 6904 6905 6906 6907 6908 6909\n",
      "  6910 6911 6912 6913 6914 6915 6916 6917 6918 6919 6920 6921 6922 6923\n",
      "  6924 6925 6926 6927 6928 6929 6930 6931 6932 6933 6934 6935 6936 6937\n",
      "  6938 6939 6940 6941 6942 6943 6944 6945 6946 6947 6948 6949 6950 6951\n",
      "  6952 6953 6954 6955 6956 6957 6958 6959 6960 6961 6962 6963 6964 6965\n",
      "  6966 6967 6968 6969 6970 6971 6972 6973 6974 6975 6976 6977 6978 6979\n",
      "  6980 6981 6982 6983 6984 6985 6986 6987 6988 6989 6990 6991 6992 6993\n",
      "  6994 6995 6996 6997 6998 6999]\n",
      " [7000 7001 7002 7003 7004 7005 7006 7007 7008 7009 7010 7011 7012 7013\n",
      "  7014 7015 7016 7017 7018 7019 7020 7021 7022 7023 7024 7025 7026 7027\n",
      "  7028 7029 7030 7031 7032 7033 7034 7035 7036 7037 7038 7039 7040 7041\n",
      "  7042 7043 7044 7045 7046 7047 7048 7049 7050 7051 7052 7053 7054 7055\n",
      "  7056 7057 7058 7059 7060 7061 7062 7063 7064 7065 7066 7067 7068 7069\n",
      "  7070 7071 7072 7073 7074 7075 7076 7077 7078 7079 7080 7081 7082 7083\n",
      "  7084 7085 7086 7087 7088 7089 7090 7091 7092 7093 7094 7095 7096 7097\n",
      "  7098 7099 7100 7101 7102 7103 7104 7105 7106 7107 7108 7109 7110 7111\n",
      "  7112 7113 7114 7115 7116 7117 7118 7119 7120 7121 7122 7123 7124 7125\n",
      "  7126 7127 7128 7129 7130 7131 7132 7133 7134 7135 7136 7137 7138 7139\n",
      "  7140 7141 7142 7143 7144 7145 7146 7147 7148 7149 7150 7151 7152 7153\n",
      "  7154 7155 7156 7157 7158 7159 7160 7161 7162 7163 7164 7165 7166 7167\n",
      "  7168 7169 7170 7171 7172 7173 7174 7175 7176 7177 7178 7179 7180 7181\n",
      "  7182 7183 7184 7185 7186 7187 7188 7189 7190 7191 7192 7193 7194 7195\n",
      "  7196 7197 7198 7199 7200 7201 7202 7203 7204 7205 7206 7207 7208 7209\n",
      "  7210 7211 7212 7213 7214 7215 7216 7217 7218 7219 7220 7221 7222 7223\n",
      "  7224 7225 7226 7227 7228 7229 7230 7231 7232 7233 7234 7235 7236 7237\n",
      "  7238 7239 7240 7241 7242 7243 7244 7245 7246 7247 7248 7249 7250 7251\n",
      "  7252 7253 7254 7255 7256 7257 7258 7259 7260 7261 7262 7263 7264 7265\n",
      "  7266 7267 7268 7269 7270 7271 7272 7273 7274 7275 7276 7277 7278 7279\n",
      "  7280 7281 7282 7283 7284 7285 7286 7287 7288 7289 7290 7291 7292 7293\n",
      "  7294 7295 7296 7297 7298 7299 7300 7301 7302 7303 7304 7305 7306 7307\n",
      "  7308 7309 7310 7311 7312 7313 7314 7315 7316 7317 7318 7319 7320 7321\n",
      "  7322 7323 7324 7325 7326 7327 7328 7329 7330 7331 7332 7333 7334 7335\n",
      "  7336 7337 7338 7339 7340 7341 7342 7343 7344 7345 7346 7347 7348 7349\n",
      "  7350 7351 7352 7353 7354 7355 7356 7357 7358 7359 7360 7361 7362 7363\n",
      "  7364 7365 7366 7367 7368 7369 7370 7371 7372 7373 7374 7375 7376 7377\n",
      "  7378 7379 7380 7381 7382 7383 7384 7385 7386 7387 7388 7389 7390 7391\n",
      "  7392 7393 7394 7395 7396 7397 7398 7399 7400 7401 7402 7403 7404 7405\n",
      "  7406 7407 7408 7409 7410 7411 7412 7413 7414 7415 7416 7417 7418 7419\n",
      "  7420 7421 7422 7423 7424 7425 7426 7427 7428 7429 7430 7431 7432 7433\n",
      "  7434 7435 7436 7437 7438 7439 7440 7441 7442 7443 7444 7445 7446 7447\n",
      "  7448 7449 7450 7451 7452 7453 7454 7455 7456 7457 7458 7459 7460 7461\n",
      "  7462 7463 7464 7465 7466 7467 7468 7469 7470 7471 7472 7473 7474 7475\n",
      "  7476 7477 7478 7479 7480 7481 7482 7483 7484 7485 7486 7487 7488 7489\n",
      "  7490 7491 7492 7493 7494 7495 7496 7497 7498 7499 7500 7501 7502 7503\n",
      "  7504 7505 7506 7507 7508 7509 7510 7511 7512 7513 7514 7515 7516 7517\n",
      "  7518 7519 7520 7521 7522 7523 7524 7525 7526 7527 7528 7529 7530 7531\n",
      "  7532 7533 7534 7535 7536 7537 7538 7539 7540 7541 7542 7543 7544 7545\n",
      "  7546 7547 7548 7549 7550 7551 7552 7553 7554 7555 7556 7557 7558 7559\n",
      "  7560 7561 7562 7563 7564 7565 7566 7567 7568 7569 7570 7571 7572 7573\n",
      "  7574 7575 7576 7577 7578 7579 7580 7581 7582 7583 7584 7585 7586 7587\n",
      "  7588 7589 7590 7591 7592 7593 7594 7595 7596 7597 7598 7599 7600 7601\n",
      "  7602 7603 7604 7605 7606 7607 7608 7609 7610 7611 7612 7613 7614 7615\n",
      "  7616 7617 7618 7619 7620 7621 7622 7623 7624 7625 7626 7627 7628 7629\n",
      "  7630 7631 7632 7633 7634 7635 7636 7637 7638 7639 7640 7641 7642 7643\n",
      "  7644 7645 7646 7647 7648 7649 7650 7651 7652 7653 7654 7655 7656 7657\n",
      "  7658 7659 7660 7661 7662 7663 7664 7665 7666 7667 7668 7669 7670 7671\n",
      "  7672 7673 7674 7675 7676 7677 7678 7679 7680 7681 7682 7683 7684 7685\n",
      "  7686 7687 7688 7689 7690 7691 7692 7693 7694 7695 7696 7697 7698 7699\n",
      "  7700 7701 7702 7703 7704 7705 7706 7707 7708 7709 7710 7711 7712 7713\n",
      "  7714 7715 7716 7717 7718 7719 7720 7721 7722 7723 7724 7725 7726 7727\n",
      "  7728 7729 7730 7731 7732 7733 7734 7735 7736 7737 7738 7739 7740 7741\n",
      "  7742 7743 7744 7745 7746 7747 7748 7749 7750 7751 7752 7753 7754 7755\n",
      "  7756 7757 7758 7759 7760 7761 7762 7763 7764 7765 7766 7767 7768 7769\n",
      "  7770 7771 7772 7773 7774 7775 7776 7777 7778 7779 7780 7781 7782 7783\n",
      "  7784 7785 7786 7787 7788 7789 7790 7791 7792 7793 7794 7795 7796 7797\n",
      "  7798 7799 7800 7801 7802 7803 7804 7805 7806 7807 7808 7809 7810 7811\n",
      "  7812 7813 7814 7815 7816 7817 7818 7819 7820 7821 7822 7823 7824 7825\n",
      "  7826 7827 7828 7829 7830 7831 7832 7833 7834 7835 7836 7837 7838 7839\n",
      "  7840 7841 7842 7843 7844 7845 7846 7847 7848 7849 7850 7851 7852 7853\n",
      "  7854 7855 7856 7857 7858 7859 7860 7861 7862 7863 7864 7865 7866 7867\n",
      "  7868 7869 7870 7871 7872 7873 7874 7875 7876 7877 7878 7879 7880 7881\n",
      "  7882 7883 7884 7885 7886 7887 7888 7889 7890 7891 7892 7893 7894 7895\n",
      "  7896 7897 7898 7899 7900 7901 7902 7903 7904 7905 7906 7907 7908 7909\n",
      "  7910 7911 7912 7913 7914 7915 7916 7917 7918 7919 7920 7921 7922 7923\n",
      "  7924 7925 7926 7927 7928 7929 7930 7931 7932 7933 7934 7935 7936 7937\n",
      "  7938 7939 7940 7941 7942 7943 7944 7945 7946 7947 7948 7949 7950 7951\n",
      "  7952 7953 7954 7955 7956 7957 7958 7959 7960 7961 7962 7963 7964 7965\n",
      "  7966 7967 7968 7969 7970 7971 7972 7973 7974 7975 7976 7977 7978 7979\n",
      "  7980 7981 7982 7983 7984 7985 7986 7987 7988 7989 7990 7991 7992 7993\n",
      "  7994 7995 7996 7997 7998 7999]\n",
      " [8000 8001 8002 8003 8004 8005 8006 8007 8008 8009 8010 8011 8012 8013\n",
      "  8014 8015 8016 8017 8018 8019 8020 8021 8022 8023 8024 8025 8026 8027\n",
      "  8028 8029 8030 8031 8032 8033 8034 8035 8036 8037 8038 8039 8040 8041\n",
      "  8042 8043 8044 8045 8046 8047 8048 8049 8050 8051 8052 8053 8054 8055\n",
      "  8056 8057 8058 8059 8060 8061 8062 8063 8064 8065 8066 8067 8068 8069\n",
      "  8070 8071 8072 8073 8074 8075 8076 8077 8078 8079 8080 8081 8082 8083\n",
      "  8084 8085 8086 8087 8088 8089 8090 8091 8092 8093 8094 8095 8096 8097\n",
      "  8098 8099 8100 8101 8102 8103 8104 8105 8106 8107 8108 8109 8110 8111\n",
      "  8112 8113 8114 8115 8116 8117 8118 8119 8120 8121 8122 8123 8124 8125\n",
      "  8126 8127 8128 8129 8130 8131 8132 8133 8134 8135 8136 8137 8138 8139\n",
      "  8140 8141 8142 8143 8144 8145 8146 8147 8148 8149 8150 8151 8152 8153\n",
      "  8154 8155 8156 8157 8158 8159 8160 8161 8162 8163 8164 8165 8166 8167\n",
      "  8168 8169 8170 8171 8172 8173 8174 8175 8176 8177 8178 8179 8180 8181\n",
      "  8182 8183 8184 8185 8186 8187 8188 8189 8190 8191 8192 8193 8194 8195\n",
      "  8196 8197 8198 8199 8200 8201 8202 8203 8204 8205 8206 8207 8208 8209\n",
      "  8210 8211 8212 8213 8214 8215 8216 8217 8218 8219 8220 8221 8222 8223\n",
      "  8224 8225 8226 8227 8228 8229 8230 8231 8232 8233 8234 8235 8236 8237\n",
      "  8238 8239 8240 8241 8242 8243 8244 8245 8246 8247 8248 8249 8250 8251\n",
      "  8252 8253 8254 8255 8256 8257 8258 8259 8260 8261 8262 8263 8264 8265\n",
      "  8266 8267 8268 8269 8270 8271 8272 8273 8274 8275 8276 8277 8278 8279\n",
      "  8280 8281 8282 8283 8284 8285 8286 8287 8288 8289 8290 8291 8292 8293\n",
      "  8294 8295 8296 8297 8298 8299 8300 8301 8302 8303 8304 8305 8306 8307\n",
      "  8308 8309 8310 8311 8312 8313 8314 8315 8316 8317 8318 8319 8320 8321\n",
      "  8322 8323 8324 8325 8326 8327 8328 8329 8330 8331 8332 8333 8334 8335\n",
      "  8336 8337 8338 8339 8340 8341 8342 8343 8344 8345 8346 8347 8348 8349\n",
      "  8350 8351 8352 8353 8354 8355 8356 8357 8358 8359 8360 8361 8362 8363\n",
      "  8364 8365 8366 8367 8368 8369 8370 8371 8372 8373 8374 8375 8376 8377\n",
      "  8378 8379 8380 8381 8382 8383 8384 8385 8386 8387 8388 8389 8390 8391\n",
      "  8392 8393 8394 8395 8396 8397 8398 8399 8400 8401 8402 8403 8404 8405\n",
      "  8406 8407 8408 8409 8410 8411 8412 8413 8414 8415 8416 8417 8418 8419\n",
      "  8420 8421 8422 8423 8424 8425 8426 8427 8428 8429 8430 8431 8432 8433\n",
      "  8434 8435 8436 8437 8438 8439 8440 8441 8442 8443 8444 8445 8446 8447\n",
      "  8448 8449 8450 8451 8452 8453 8454 8455 8456 8457 8458 8459 8460 8461\n",
      "  8462 8463 8464 8465 8466 8467 8468 8469 8470 8471 8472 8473 8474 8475\n",
      "  8476 8477 8478 8479 8480 8481 8482 8483 8484 8485 8486 8487 8488 8489\n",
      "  8490 8491 8492 8493 8494 8495 8496 8497 8498 8499 8500 8501 8502 8503\n",
      "  8504 8505 8506 8507 8508 8509 8510 8511 8512 8513 8514 8515 8516 8517\n",
      "  8518 8519 8520 8521 8522 8523 8524 8525 8526 8527 8528 8529 8530 8531\n",
      "  8532 8533 8534 8535 8536 8537 8538 8539 8540 8541 8542 8543 8544 8545\n",
      "  8546 8547 8548 8549 8550 8551 8552 8553 8554 8555 8556 8557 8558 8559\n",
      "  8560 8561 8562 8563 8564 8565 8566 8567 8568 8569 8570 8571 8572 8573\n",
      "  8574 8575 8576 8577 8578 8579 8580 8581 8582 8583 8584 8585 8586 8587\n",
      "  8588 8589 8590 8591 8592 8593 8594 8595 8596 8597 8598 8599 8600 8601\n",
      "  8602 8603 8604 8605 8606 8607 8608 8609 8610 8611 8612 8613 8614 8615\n",
      "  8616 8617 8618 8619 8620 8621 8622 8623 8624 8625 8626 8627 8628 8629\n",
      "  8630 8631 8632 8633 8634 8635 8636 8637 8638 8639 8640 8641 8642 8643\n",
      "  8644 8645 8646 8647 8648 8649 8650 8651 8652 8653 8654 8655 8656 8657\n",
      "  8658 8659 8660 8661 8662 8663 8664 8665 8666 8667 8668 8669 8670 8671\n",
      "  8672 8673 8674 8675 8676 8677 8678 8679 8680 8681 8682 8683 8684 8685\n",
      "  8686 8687 8688 8689 8690 8691 8692 8693 8694 8695 8696 8697 8698 8699\n",
      "  8700 8701 8702 8703 8704 8705 8706 8707 8708 8709 8710 8711 8712 8713\n",
      "  8714 8715 8716 8717 8718 8719 8720 8721 8722 8723 8724 8725 8726 8727\n",
      "  8728 8729 8730 8731 8732 8733 8734 8735 8736 8737 8738 8739 8740 8741\n",
      "  8742 8743 8744 8745 8746 8747 8748 8749 8750 8751 8752 8753 8754 8755\n",
      "  8756 8757 8758 8759 8760 8761 8762 8763 8764 8765 8766 8767 8768 8769\n",
      "  8770 8771 8772 8773 8774 8775 8776 8777 8778 8779 8780 8781 8782 8783\n",
      "  8784 8785 8786 8787 8788 8789 8790 8791 8792 8793 8794 8795 8796 8797\n",
      "  8798 8799 8800 8801 8802 8803 8804 8805 8806 8807 8808 8809 8810 8811\n",
      "  8812 8813 8814 8815 8816 8817 8818 8819 8820 8821 8822 8823 8824 8825\n",
      "  8826 8827 8828 8829 8830 8831 8832 8833 8834 8835 8836 8837 8838 8839\n",
      "  8840 8841 8842 8843 8844 8845 8846 8847 8848 8849 8850 8851 8852 8853\n",
      "  8854 8855 8856 8857 8858 8859 8860 8861 8862 8863 8864 8865 8866 8867\n",
      "  8868 8869 8870 8871 8872 8873 8874 8875 8876 8877 8878 8879 8880 8881\n",
      "  8882 8883 8884 8885 8886 8887 8888 8889 8890 8891 8892 8893 8894 8895\n",
      "  8896 8897 8898 8899 8900 8901 8902 8903 8904 8905 8906 8907 8908 8909\n",
      "  8910 8911 8912 8913 8914 8915 8916 8917 8918 8919 8920 8921 8922 8923\n",
      "  8924 8925 8926 8927 8928 8929 8930 8931 8932 8933 8934 8935 8936 8937\n",
      "  8938 8939 8940 8941 8942 8943 8944 8945 8946 8947 8948 8949 8950 8951\n",
      "  8952 8953 8954 8955 8956 8957 8958 8959 8960 8961 8962 8963 8964 8965\n",
      "  8966 8967 8968 8969 8970 8971 8972 8973 8974 8975 8976 8977 8978 8979\n",
      "  8980 8981 8982 8983 8984 8985 8986 8987 8988 8989 8990 8991 8992 8993\n",
      "  8994 8995 8996 8997 8998 8999]\n",
      " [9000 9001 9002 9003 9004 9005 9006 9007 9008 9009 9010 9011 9012 9013\n",
      "  9014 9015 9016 9017 9018 9019 9020 9021 9022 9023 9024 9025 9026 9027\n",
      "  9028 9029 9030 9031 9032 9033 9034 9035 9036 9037 9038 9039 9040 9041\n",
      "  9042 9043 9044 9045 9046 9047 9048 9049 9050 9051 9052 9053 9054 9055\n",
      "  9056 9057 9058 9059 9060 9061 9062 9063 9064 9065 9066 9067 9068 9069\n",
      "  9070 9071 9072 9073 9074 9075 9076 9077 9078 9079 9080 9081 9082 9083\n",
      "  9084 9085 9086 9087 9088 9089 9090 9091 9092 9093 9094 9095 9096 9097\n",
      "  9098 9099 9100 9101 9102 9103 9104 9105 9106 9107 9108 9109 9110 9111\n",
      "  9112 9113 9114 9115 9116 9117 9118 9119 9120 9121 9122 9123 9124 9125\n",
      "  9126 9127 9128 9129 9130 9131 9132 9133 9134 9135 9136 9137 9138 9139\n",
      "  9140 9141 9142 9143 9144 9145 9146 9147 9148 9149 9150 9151 9152 9153\n",
      "  9154 9155 9156 9157 9158 9159 9160 9161 9162 9163 9164 9165 9166 9167\n",
      "  9168 9169 9170 9171 9172 9173 9174 9175 9176 9177 9178 9179 9180 9181\n",
      "  9182 9183 9184 9185 9186 9187 9188 9189 9190 9191 9192 9193 9194 9195\n",
      "  9196 9197 9198 9199 9200 9201 9202 9203 9204 9205 9206 9207 9208 9209\n",
      "  9210 9211 9212 9213 9214 9215 9216 9217 9218 9219 9220 9221 9222 9223\n",
      "  9224 9225 9226 9227 9228 9229 9230 9231 9232 9233 9234 9235 9236 9237\n",
      "  9238 9239 9240 9241 9242 9243 9244 9245 9246 9247 9248 9249 9250 9251\n",
      "  9252 9253 9254 9255 9256 9257 9258 9259 9260 9261 9262 9263 9264 9265\n",
      "  9266 9267 9268 9269 9270 9271 9272 9273 9274 9275 9276 9277 9278 9279\n",
      "  9280 9281 9282 9283 9284 9285 9286 9287 9288 9289 9290 9291 9292 9293\n",
      "  9294 9295 9296 9297 9298 9299 9300 9301 9302 9303 9304 9305 9306 9307\n",
      "  9308 9309 9310 9311 9312 9313 9314 9315 9316 9317 9318 9319 9320 9321\n",
      "  9322 9323 9324 9325 9326 9327 9328 9329 9330 9331 9332 9333 9334 9335\n",
      "  9336 9337 9338 9339 9340 9341 9342 9343 9344 9345 9346 9347 9348 9349\n",
      "  9350 9351 9352 9353 9354 9355 9356 9357 9358 9359 9360 9361 9362 9363\n",
      "  9364 9365 9366 9367 9368 9369 9370 9371 9372 9373 9374 9375 9376 9377\n",
      "  9378 9379 9380 9381 9382 9383 9384 9385 9386 9387 9388 9389 9390 9391\n",
      "  9392 9393 9394 9395 9396 9397 9398 9399 9400 9401 9402 9403 9404 9405\n",
      "  9406 9407 9408 9409 9410 9411 9412 9413 9414 9415 9416 9417 9418 9419\n",
      "  9420 9421 9422 9423 9424 9425 9426 9427 9428 9429 9430 9431 9432 9433\n",
      "  9434 9435 9436 9437 9438 9439 9440 9441 9442 9443 9444 9445 9446 9447\n",
      "  9448 9449 9450 9451 9452 9453 9454 9455 9456 9457 9458 9459 9460 9461\n",
      "  9462 9463 9464 9465 9466 9467 9468 9469 9470 9471 9472 9473 9474 9475\n",
      "  9476 9477 9478 9479 9480 9481 9482 9483 9484 9485 9486 9487 9488 9489\n",
      "  9490 9491 9492 9493 9494 9495 9496 9497 9498 9499 9500 9501 9502 9503\n",
      "  9504 9505 9506 9507 9508 9509 9510 9511 9512 9513 9514 9515 9516 9517\n",
      "  9518 9519 9520 9521 9522 9523 9524 9525 9526 9527 9528 9529 9530 9531\n",
      "  9532 9533 9534 9535 9536 9537 9538 9539 9540 9541 9542 9543 9544 9545\n",
      "  9546 9547 9548 9549 9550 9551 9552 9553 9554 9555 9556 9557 9558 9559\n",
      "  9560 9561 9562 9563 9564 9565 9566 9567 9568 9569 9570 9571 9572 9573\n",
      "  9574 9575 9576 9577 9578 9579 9580 9581 9582 9583 9584 9585 9586 9587\n",
      "  9588 9589 9590 9591 9592 9593 9594 9595 9596 9597 9598 9599 9600 9601\n",
      "  9602 9603 9604 9605 9606 9607 9608 9609 9610 9611 9612 9613 9614 9615\n",
      "  9616 9617 9618 9619 9620 9621 9622 9623 9624 9625 9626 9627 9628 9629\n",
      "  9630 9631 9632 9633 9634 9635 9636 9637 9638 9639 9640 9641 9642 9643\n",
      "  9644 9645 9646 9647 9648 9649 9650 9651 9652 9653 9654 9655 9656 9657\n",
      "  9658 9659 9660 9661 9662 9663 9664 9665 9666 9667 9668 9669 9670 9671\n",
      "  9672 9673 9674 9675 9676 9677 9678 9679 9680 9681 9682 9683 9684 9685\n",
      "  9686 9687 9688 9689 9690 9691 9692 9693 9694 9695 9696 9697 9698 9699\n",
      "  9700 9701 9702 9703 9704 9705 9706 9707 9708 9709 9710 9711 9712 9713\n",
      "  9714 9715 9716 9717 9718 9719 9720 9721 9722 9723 9724 9725 9726 9727\n",
      "  9728 9729 9730 9731 9732 9733 9734 9735 9736 9737 9738 9739 9740 9741\n",
      "  9742 9743 9744 9745 9746 9747 9748 9749 9750 9751 9752 9753 9754 9755\n",
      "  9756 9757 9758 9759 9760 9761 9762 9763 9764 9765 9766 9767 9768 9769\n",
      "  9770 9771 9772 9773 9774 9775 9776 9777 9778 9779 9780 9781 9782 9783\n",
      "  9784 9785 9786 9787 9788 9789 9790 9791 9792 9793 9794 9795 9796 9797\n",
      "  9798 9799 9800 9801 9802 9803 9804 9805 9806 9807 9808 9809 9810 9811\n",
      "  9812 9813 9814 9815 9816 9817 9818 9819 9820 9821 9822 9823 9824 9825\n",
      "  9826 9827 9828 9829 9830 9831 9832 9833 9834 9835 9836 9837 9838 9839\n",
      "  9840 9841 9842 9843 9844 9845 9846 9847 9848 9849 9850 9851 9852 9853\n",
      "  9854 9855 9856 9857 9858 9859 9860 9861 9862 9863 9864 9865 9866 9867\n",
      "  9868 9869 9870 9871 9872 9873 9874 9875 9876 9877 9878 9879 9880 9881\n",
      "  9882 9883 9884 9885 9886 9887 9888 9889 9890 9891 9892 9893 9894 9895\n",
      "  9896 9897 9898 9899 9900 9901 9902 9903 9904 9905 9906 9907 9908 9909\n",
      "  9910 9911 9912 9913 9914 9915 9916 9917 9918 9919 9920 9921 9922 9923\n",
      "  9924 9925 9926 9927 9928 9929 9930 9931 9932 9933 9934 9935 9936 9937\n",
      "  9938 9939 9940 9941 9942 9943 9944 9945 9946 9947 9948 9949 9950 9951\n",
      "  9952 9953 9954 9955 9956 9957 9958 9959 9960 9961 9962 9963 9964 9965\n",
      "  9966 9967 9968 9969 9970 9971 9972 9973 9974 9975 9976 9977 9978 9979\n",
      "  9980 9981 9982 9983 9984 9985 9986 9987 9988 9989 9990 9991 9992 9993\n",
      "  9994 9995 9996 9997 9998 9999]]\n"
     ]
    }
   ],
   "source": [
    "print(np.arange(10000).reshape(10,1000))"
   ]
  },
  {
   "cell_type": "code",
   "execution_count": 171,
   "metadata": {
    "ExecuteTime": {
     "end_time": "2021-03-04T07:14:21.781913Z",
     "start_time": "2021-03-04T07:14:21.777924Z"
    }
   },
   "outputs": [],
   "source": [
    "np.set_printoptions(threshold=100) # 작은값으로 돌리면."
   ]
  },
  {
   "cell_type": "code",
   "execution_count": 172,
   "metadata": {
    "ExecuteTime": {
     "end_time": "2021-03-04T07:14:31.998855Z",
     "start_time": "2021-03-04T07:14:31.994891Z"
    }
   },
   "outputs": [
    {
     "name": "stdout",
     "output_type": "stream",
     "text": [
      "[[   0    1    2 ...  997  998  999]\n",
      " [1000 1001 1002 ... 1997 1998 1999]\n",
      " [2000 2001 2002 ... 2997 2998 2999]\n",
      " ...\n",
      " [7000 7001 7002 ... 7997 7998 7999]\n",
      " [8000 8001 8002 ... 8997 8998 8999]\n",
      " [9000 9001 9002 ... 9997 9998 9999]]\n"
     ]
    }
   ],
   "source": [
    "print(np.arange(10000).reshape(10,1000)) # 다시 ... 생략된다."
   ]
  },
  {
   "cell_type": "markdown",
   "metadata": {},
   "source": [
    " ## 2.6 기본연산 동작\n",
    " ### 1)배열의 요소별 연산"
   ]
  },
  {
   "cell_type": "code",
   "execution_count": 173,
   "metadata": {
    "ExecuteTime": {
     "end_time": "2021-03-04T07:15:51.687501Z",
     "start_time": "2021-03-04T07:15:51.682514Z"
    }
   },
   "outputs": [
    {
     "name": "stdout",
     "output_type": "stream",
     "text": [
      "[20 30 40 50]\n",
      "[0 1 2 3]\n"
     ]
    }
   ],
   "source": [
    "a = np.array([20,30,40,50])\n",
    "b = np.arange(4)\n",
    "print(a)\n",
    "print(b)"
   ]
  },
  {
   "cell_type": "code",
   "execution_count": 174,
   "metadata": {
    "ExecuteTime": {
     "end_time": "2021-03-04T07:16:25.286753Z",
     "start_time": "2021-03-04T07:16:25.282765Z"
    }
   },
   "outputs": [
    {
     "data": {
      "text/plain": [
       "array([20, 31, 42, 53])"
      ]
     },
     "execution_count": 174,
     "metadata": {},
     "output_type": "execute_result"
    }
   ],
   "source": [
    "a + b # 요소별로. 0번째끼리 + , 1번째끼리. 즉, 인덱스별로 연산 한다."
   ]
  },
  {
   "cell_type": "code",
   "execution_count": 175,
   "metadata": {
    "ExecuteTime": {
     "end_time": "2021-03-04T07:16:32.719217Z",
     "start_time": "2021-03-04T07:16:32.714229Z"
    }
   },
   "outputs": [
    {
     "data": {
      "text/plain": [
       "array([20, 29, 38, 47])"
      ]
     },
     "execution_count": 175,
     "metadata": {},
     "output_type": "execute_result"
    }
   ],
   "source": [
    "a - b"
   ]
  },
  {
   "cell_type": "code",
   "execution_count": 178,
   "metadata": {
    "ExecuteTime": {
     "end_time": "2021-03-04T07:17:47.761006Z",
     "start_time": "2021-03-04T07:17:47.755047Z"
    }
   },
   "outputs": [
    {
     "name": "stderr",
     "output_type": "stream",
     "text": [
      "<ipython-input-178-391d9b585a83>:1: RuntimeWarning: divide by zero encountered in true_divide\n",
      "  a / b # 0에 가까운 무한대같은 0.0000~ 으로 나오는게 있어서 오류메세지처럼 나온다.\n"
     ]
    },
    {
     "data": {
      "text/plain": [
       "array([        inf, 30.        , 20.        , 16.66666667])"
      ]
     },
     "execution_count": 178,
     "metadata": {},
     "output_type": "execute_result"
    }
   ],
   "source": [
    "a / b # 0에 가까운 무한대같은 0.0000~ 으로 나오는게 있어서 오류메세지처럼 나온다."
   ]
  },
  {
   "cell_type": "code",
   "execution_count": 185,
   "metadata": {
    "ExecuteTime": {
     "end_time": "2021-03-04T07:20:08.030781Z",
     "start_time": "2021-03-04T07:20:08.026813Z"
    }
   },
   "outputs": [
    {
     "data": {
      "text/plain": [
       "array([  0,  30,  80, 150])"
      ]
     },
     "execution_count": 185,
     "metadata": {},
     "output_type": "execute_result"
    }
   ],
   "source": [
    "a * b # 요소별 연산."
   ]
  },
  {
   "cell_type": "code",
   "execution_count": 179,
   "metadata": {
    "ExecuteTime": {
     "end_time": "2021-03-04T07:17:58.221765Z",
     "start_time": "2021-03-04T07:17:58.217776Z"
    }
   },
   "outputs": [],
   "source": [
    "a = np.array([20,30,40,50])"
   ]
  },
  {
   "cell_type": "code",
   "execution_count": 180,
   "metadata": {
    "ExecuteTime": {
     "end_time": "2021-03-04T07:18:10.260028Z",
     "start_time": "2021-03-04T07:18:10.255052Z"
    }
   },
   "outputs": [
    {
     "data": {
      "text/plain": [
       "array([ True,  True, False, False])"
      ]
     },
     "execution_count": 180,
     "metadata": {},
     "output_type": "execute_result"
    }
   ],
   "source": [
    "a < 35 # 요소별 연산"
   ]
  },
  {
   "cell_type": "code",
   "execution_count": 183,
   "metadata": {
    "ExecuteTime": {
     "end_time": "2021-03-04T07:19:08.528189Z",
     "start_time": "2021-03-04T07:19:08.523212Z"
    }
   },
   "outputs": [
    {
     "data": {
      "text/plain": [
       "array([20, 30])"
      ]
     },
     "execution_count": 183,
     "metadata": {},
     "output_type": "execute_result"
    }
   ],
   "source": [
    "# a 배열에서 35보다 작은값들만 추출.\n",
    "a[a<35] # True 값들만 나오고 False 값은 안나온다."
   ]
  },
  {
   "cell_type": "markdown",
   "metadata": {},
   "source": [
    "### 2) 행렬의 곱  = > (@)  \n",
    "         요소별 곱 ' * '"
   ]
  },
  {
   "cell_type": "code",
   "execution_count": 190,
   "metadata": {
    "ExecuteTime": {
     "end_time": "2021-03-04T07:21:49.359799Z",
     "start_time": "2021-03-04T07:21:49.344060Z"
    }
   },
   "outputs": [],
   "source": [
    "A = np.array([[1,1],[0,1]]) #2차원"
   ]
  },
  {
   "cell_type": "code",
   "execution_count": 191,
   "metadata": {
    "ExecuteTime": {
     "end_time": "2021-03-04T07:21:55.893741Z",
     "start_time": "2021-03-04T07:21:55.890747Z"
    }
   },
   "outputs": [],
   "source": [
    "B = np.array([[2,0],[3,4]]) #2차원"
   ]
  },
  {
   "cell_type": "code",
   "execution_count": 189,
   "metadata": {
    "ExecuteTime": {
     "end_time": "2021-03-04T07:21:43.686803Z",
     "start_time": "2021-03-04T07:21:43.681839Z"
    }
   },
   "outputs": [
    {
     "data": {
      "text/plain": [
       "(array([[1, 1],\n",
       "        [0, 1]]),\n",
       " array([[2, 0],\n",
       "        [3, 4]]))"
      ]
     },
     "execution_count": 189,
     "metadata": {},
     "output_type": "execute_result"
    }
   ],
   "source": [
    "A, B"
   ]
  },
  {
   "cell_type": "code",
   "execution_count": 196,
   "metadata": {
    "ExecuteTime": {
     "end_time": "2021-03-04T07:36:38.351215Z",
     "start_time": "2021-03-04T07:36:38.345222Z"
    }
   },
   "outputs": [
    {
     "name": "stdout",
     "output_type": "stream",
     "text": [
      "요소별 곱 A*B = \n",
      "[[2 0]\n",
      " [0 4]]\n",
      "행렬 곱 A@B = \n",
      "[[5 4]\n",
      " [3 4]]\n",
      "행렬 곱 A.dot(B) = \n",
      "[[5 4]\n",
      " [3 4]]\n"
     ]
    }
   ],
   "source": [
    "print(\"요소별 곱 A*B = \", A*B, sep='\\n')\n",
    "print(\"행렬 곱 A@B = \", A@B, sep='\\n')\n",
    "print(\"행렬 곱 A.dot(B) = \", A.dot(B), sep='\\n') #내적."
   ]
  },
  {
   "cell_type": "markdown",
   "metadata": {},
   "source": [
    "### 3) 복합대입 연산자 사용 (+=, -=, *=, ...  )\n"
   ]
  },
  {
   "cell_type": "code",
   "execution_count": 208,
   "metadata": {
    "ExecuteTime": {
     "end_time": "2021-03-04T07:44:35.895038Z",
     "start_time": "2021-03-04T07:44:35.890063Z"
    }
   },
   "outputs": [
    {
     "data": {
      "text/plain": [
       "array([[1, 1, 1],\n",
       "       [1, 1, 1]])"
      ]
     },
     "execution_count": 208,
     "metadata": {},
     "output_type": "execute_result"
    }
   ],
   "source": [
    "a = np.ones((2,3), dtype=int) #2차원 2행3열 배열. int32 형.\n",
    "a"
   ]
  },
  {
   "cell_type": "code",
   "execution_count": 198,
   "metadata": {
    "ExecuteTime": {
     "end_time": "2021-03-04T07:38:03.110547Z",
     "start_time": "2021-03-04T07:38:03.105550Z"
    }
   },
   "outputs": [
    {
     "data": {
      "text/plain": [
       "dtype('int32')"
      ]
     },
     "execution_count": 198,
     "metadata": {},
     "output_type": "execute_result"
    }
   ],
   "source": [
    "a.dtype"
   ]
  },
  {
   "cell_type": "code",
   "execution_count": 199,
   "metadata": {
    "ExecuteTime": {
     "end_time": "2021-03-04T07:38:39.527197Z",
     "start_time": "2021-03-04T07:38:39.521212Z"
    }
   },
   "outputs": [
    {
     "data": {
      "text/plain": [
       "array([[0.45117744, 0.99401978, 0.34709338],\n",
       "       [0.6976518 , 0.86263433, 0.23973237]])"
      ]
     },
     "execution_count": 199,
     "metadata": {},
     "output_type": "execute_result"
    }
   ],
   "source": [
    "b = np.random.random((2,3)) #2차원 2행3열 배열. float64형.\n",
    "b"
   ]
  },
  {
   "cell_type": "code",
   "execution_count": 200,
   "metadata": {
    "ExecuteTime": {
     "end_time": "2021-03-04T07:38:44.841351Z",
     "start_time": "2021-03-04T07:38:44.825568Z"
    }
   },
   "outputs": [
    {
     "data": {
      "text/plain": [
       "dtype('float64')"
      ]
     },
     "execution_count": 200,
     "metadata": {},
     "output_type": "execute_result"
    }
   ],
   "source": [
    "b.dtype"
   ]
  },
  {
   "cell_type": "code",
   "execution_count": 201,
   "metadata": {
    "ExecuteTime": {
     "end_time": "2021-03-04T07:39:44.134706Z",
     "start_time": "2021-03-04T07:39:44.129720Z"
    }
   },
   "outputs": [
    {
     "data": {
      "text/plain": [
       "array([[4, 4, 4],\n",
       "       [4, 4, 4]])"
      ]
     },
     "execution_count": 201,
     "metadata": {},
     "output_type": "execute_result"
    }
   ],
   "source": [
    "a += 3\n",
    "a"
   ]
  },
  {
   "cell_type": "code",
   "execution_count": 202,
   "metadata": {
    "ExecuteTime": {
     "end_time": "2021-03-04T07:39:52.390132Z",
     "start_time": "2021-03-04T07:39:52.386133Z"
    }
   },
   "outputs": [
    {
     "data": {
      "text/plain": [
       "array([[4.45117744, 4.99401978, 4.34709338],\n",
       "       [4.6976518 , 4.86263433, 4.23973237]])"
      ]
     },
     "execution_count": 202,
     "metadata": {},
     "output_type": "execute_result"
    }
   ],
   "source": [
    "b += a\n",
    "b"
   ]
  },
  {
   "cell_type": "code",
   "execution_count": 204,
   "metadata": {
    "ExecuteTime": {
     "end_time": "2021-03-04T07:41:19.599324Z",
     "start_time": "2021-03-04T07:41:19.592349Z"
    }
   },
   "outputs": [
    {
     "ename": "UFuncTypeError",
     "evalue": "Cannot cast ufunc 'add' output from dtype('float64') to dtype('int32') with casting rule 'same_kind'",
     "output_type": "error",
     "traceback": [
      "\u001b[1;31m---------------------------------------------------------------------------\u001b[0m",
      "\u001b[1;31mUFuncTypeError\u001b[0m                            Traceback (most recent call last)",
      "\u001b[1;32m<ipython-input-204-60fe35cc2e62>\u001b[0m in \u001b[0;36m<module>\u001b[1;34m\u001b[0m\n\u001b[1;32m----> 1\u001b[1;33m \u001b[0ma\u001b[0m \u001b[1;33m+=\u001b[0m \u001b[0mb\u001b[0m \u001b[1;31m# b(float64) 라서 a+b 는 float64 로 된다.\u001b[0m\u001b[1;33m\u001b[0m\u001b[1;33m\u001b[0m\u001b[0m\n\u001b[0m\u001b[0;32m      2\u001b[0m \u001b[1;31m# 즉, 64비트가 32비트 안에 안들어간다는 오류가 나온다.\u001b[0m\u001b[1;33m\u001b[0m\u001b[1;33m\u001b[0m\u001b[1;33m\u001b[0m\u001b[0m\n",
      "\u001b[1;31mUFuncTypeError\u001b[0m: Cannot cast ufunc 'add' output from dtype('float64') to dtype('int32') with casting rule 'same_kind'"
     ]
    }
   ],
   "source": [
    "a += b # b(float64) 라서 a+b 는 float64 로 된다.\n",
    "# 즉, 64비트가 32비트 안에 안들어간다는 오류가 나온다."
   ]
  },
  {
   "cell_type": "code",
   "execution_count": 206,
   "metadata": {
    "ExecuteTime": {
     "end_time": "2021-03-04T07:43:58.703507Z",
     "start_time": "2021-03-04T07:43:58.698541Z"
    }
   },
   "outputs": [
    {
     "name": "stdout",
     "output_type": "stream",
     "text": [
      "[1 1 1]\n",
      "[0.         1.57079633 3.14159265]\n"
     ]
    }
   ],
   "source": [
    "a = np.ones(3 , dtype= np.int16) #데이터가 3개 들어간 1차원 .\n",
    "b = np.linspace(0, np.pi,3) # 0부터 3까지 의 pi값. 1차원.\n",
    "print(a)\n",
    "print(b)"
   ]
  },
  {
   "cell_type": "code",
   "execution_count": 207,
   "metadata": {
    "ExecuteTime": {
     "end_time": "2021-03-04T07:44:19.047232Z",
     "start_time": "2021-03-04T07:44:19.042245Z"
    }
   },
   "outputs": [
    {
     "name": "stdout",
     "output_type": "stream",
     "text": [
      "[1.         2.57079633 4.14159265]\n",
      "float64\n"
     ]
    }
   ],
   "source": [
    "c = a + b\n",
    "print(c)\n",
    "print(c.dtype)"
   ]
  },
  {
   "cell_type": "code",
   "execution_count": 209,
   "metadata": {
    "ExecuteTime": {
     "end_time": "2021-03-04T07:44:55.391319Z",
     "start_time": "2021-03-04T07:44:55.386353Z"
    }
   },
   "outputs": [
    {
     "data": {
      "text/plain": [
       "array([[1.+0.j        , 1.+1.57079633j, 1.+3.14159265j],\n",
       "       [1.+0.j        , 1.+1.57079633j, 1.+3.14159265j]])"
      ]
     },
     "execution_count": 209,
     "metadata": {},
     "output_type": "execute_result"
    }
   ],
   "source": [
    "c = a + b*1j\n",
    "c"
   ]
  },
  {
   "cell_type": "code",
   "execution_count": 211,
   "metadata": {
    "ExecuteTime": {
     "end_time": "2021-03-04T07:45:13.054900Z",
     "start_time": "2021-03-04T07:45:13.049933Z"
    }
   },
   "outputs": [
    {
     "data": {
      "text/plain": [
       "dtype('complex128')"
      ]
     },
     "execution_count": 211,
     "metadata": {},
     "output_type": "execute_result"
    }
   ],
   "source": [
    "c.dtype # 복소수."
   ]
  },
  {
   "cell_type": "markdown",
   "metadata": {},
   "source": [
    "### 4) 배열 요소별 집계 => 배열요소 전체의 sum, min, ..."
   ]
  },
  {
   "cell_type": "code",
   "execution_count": 212,
   "metadata": {
    "ExecuteTime": {
     "end_time": "2021-03-04T07:47:27.783862Z",
     "start_time": "2021-03-04T07:47:27.777897Z"
    }
   },
   "outputs": [
    {
     "data": {
      "text/plain": [
       "array([[0.12464593, 0.81518812, 0.37554532],\n",
       "       [0.05811119, 0.95538323, 0.4741911 ]])"
      ]
     },
     "execution_count": 212,
     "metadata": {},
     "output_type": "execute_result"
    }
   ],
   "source": [
    "a = np.random.random((2, 3))\n",
    "a"
   ]
  },
  {
   "cell_type": "code",
   "execution_count": 217,
   "metadata": {
    "ExecuteTime": {
     "end_time": "2021-03-04T07:49:52.006993Z",
     "start_time": "2021-03-04T07:49:52.003027Z"
    }
   },
   "outputs": [
    {
     "data": {
      "text/plain": [
       "array([[2, 2, 2, 4],\n",
       "       [4, 3, 2, 1]])"
      ]
     },
     "execution_count": 217,
     "metadata": {},
     "output_type": "execute_result"
    }
   ],
   "source": [
    "a = np.array([[2,2,2,4],\n",
    "             [4,3,2,1]])\n",
    "a"
   ]
  },
  {
   "cell_type": "code",
   "execution_count": 218,
   "metadata": {
    "ExecuteTime": {
     "end_time": "2021-03-04T07:49:54.918962Z",
     "start_time": "2021-03-04T07:49:54.914971Z"
    }
   },
   "outputs": [
    {
     "name": "stdout",
     "output_type": "stream",
     "text": [
      "a 배열 요소들 전체의 합 :  20\n",
      "a 배열 요소들 전체의 최소 :  1\n",
      "a 배열 요소들 전체의 최대 :  4\n"
     ]
    }
   ],
   "source": [
    "print('a 배열 요소들 전체의 합 : ',a.sum())\n",
    "print('a 배열 요소들 전체의 최소 : ',a.min())\n",
    "print('a 배열 요소들 전체의 최대 : ',a.max())"
   ]
  },
  {
   "cell_type": "markdown",
   "metadata": {},
   "source": [
    "### 5) 배열 축 별 집계 => 행별 sum, min, ... / 열별 sum, min, ..."
   ]
  },
  {
   "cell_type": "code",
   "execution_count": 219,
   "metadata": {
    "ExecuteTime": {
     "end_time": "2021-03-04T07:50:11.815392Z",
     "start_time": "2021-03-04T07:50:11.809428Z"
    }
   },
   "outputs": [
    {
     "data": {
      "text/plain": [
       "array([[2, 2, 2, 4],\n",
       "       [4, 3, 2, 1]])"
      ]
     },
     "execution_count": 219,
     "metadata": {},
     "output_type": "execute_result"
    }
   ],
   "source": [
    "a = np.array([[2,2,2,4],\n",
    "             [4,3,2,1]])\n",
    "a"
   ]
  },
  {
   "cell_type": "code",
   "execution_count": 221,
   "metadata": {
    "ExecuteTime": {
     "end_time": "2021-03-04T07:52:09.902562Z",
     "start_time": "2021-03-04T07:52:09.898599Z"
    }
   },
   "outputs": [
    {
     "name": "stdout",
     "output_type": "stream",
     "text": [
      "a 배열의 행별 합(2열짜리 배열) :  [10 10]\n"
     ]
    }
   ],
   "source": [
    "print(\"a 배열의 행별 합(2열짜리 배열) : \",a.sum(axis=1)) # axis=1 축 수= 1"
   ]
  },
  {
   "cell_type": "code",
   "execution_count": 222,
   "metadata": {
    "ExecuteTime": {
     "end_time": "2021-03-04T07:52:16.470341Z",
     "start_time": "2021-03-04T07:52:16.466374Z"
    }
   },
   "outputs": [
    {
     "name": "stdout",
     "output_type": "stream",
     "text": [
      "a 배열의 열별 합(4열짜리 배열) :  [6 5 4 5]\n"
     ]
    }
   ],
   "source": [
    "print(\"a 배열의 열별 합(4열짜리 배열) : \",a.sum(axis=0)) #axis =0 행 고정."
   ]
  },
  {
   "cell_type": "code",
   "execution_count": 223,
   "metadata": {
    "ExecuteTime": {
     "end_time": "2021-03-04T07:53:14.876194Z",
     "start_time": "2021-03-04T07:53:14.871207Z"
    }
   },
   "outputs": [
    {
     "name": "stdout",
     "output_type": "stream",
     "text": [
      "a 배열의 행별 최솟값 :  [2 1]\n",
      "a 배열의 열별 최솟값 :  [2 2 2 1]\n"
     ]
    }
   ],
   "source": [
    "print(\"a 배열의 행별 최솟값 : \",a.min(axis=1))\n",
    "print(\"a 배열의 열별 최솟값 : \",a.min(axis=0))"
   ]
  },
  {
   "cell_type": "code",
   "execution_count": 224,
   "metadata": {
    "ExecuteTime": {
     "end_time": "2021-03-04T07:53:23.990268Z",
     "start_time": "2021-03-04T07:53:23.985282Z"
    }
   },
   "outputs": [
    {
     "name": "stdout",
     "output_type": "stream",
     "text": [
      "a 배열의 행별 최솟값 :  [4 4]\n",
      "a 배열의 열별 최솟값 :  [4 3 2 4]\n"
     ]
    }
   ],
   "source": [
    "print(\"a 배열의 행별 최솟값 : \",a.max(axis=1))\n",
    "print(\"a 배열의 열별 최솟값 : \",a.max(axis=0))"
   ]
  },
  {
   "cell_type": "code",
   "execution_count": 228,
   "metadata": {
    "ExecuteTime": {
     "end_time": "2021-03-04T07:57:18.087210Z",
     "start_time": "2021-03-04T07:57:18.082233Z"
    }
   },
   "outputs": [
    {
     "name": "stdout",
     "output_type": "stream",
     "text": [
      "[[2 2 2 4]\n",
      " [4 3 2 1]]\n"
     ]
    },
    {
     "data": {
      "text/plain": [
       "array([[ 2,  4,  6, 10],\n",
       "       [ 4,  7,  9, 10]], dtype=int32)"
      ]
     },
     "execution_count": 228,
     "metadata": {},
     "output_type": "execute_result"
    }
   ],
   "source": [
    "# 누적합\n",
    "print(a)\n",
    "a.cumsum(axis=1) # 행별로 누적합\n",
    "# 2, 4(2+2), 6(4+2), 10(6+4)\n",
    "# 4, 7(4+3), 9(7+2), 10(9+1)"
   ]
  },
  {
   "cell_type": "code",
   "execution_count": 227,
   "metadata": {
    "ExecuteTime": {
     "end_time": "2021-03-04T07:55:33.975392Z",
     "start_time": "2021-03-04T07:55:33.970425Z"
    }
   },
   "outputs": [
    {
     "name": "stdout",
     "output_type": "stream",
     "text": [
      "[[2 2 2 4]\n",
      " [4 3 2 1]]\n"
     ]
    },
    {
     "data": {
      "text/plain": [
       "array([[2, 2, 2, 4],\n",
       "       [6, 5, 4, 5]], dtype=int32)"
      ]
     },
     "execution_count": 227,
     "metadata": {},
     "output_type": "execute_result"
    }
   ],
   "source": [
    "print(a)\n",
    "a.cumsum(axis=0) # 열별로 누적합."
   ]
  },
  {
   "cell_type": "code",
   "execution_count": 230,
   "metadata": {
    "ExecuteTime": {
     "end_time": "2021-03-04T07:58:04.606430Z",
     "start_time": "2021-03-04T07:58:04.601443Z"
    }
   },
   "outputs": [
    {
     "data": {
      "text/plain": [
       "array([[[ 0,  1,  2,  3],\n",
       "        [ 4,  5,  6,  7],\n",
       "        [ 8,  9, 10, 11]],\n",
       "\n",
       "       [[12, 13, 14, 15],\n",
       "        [16, 17, 18, 19],\n",
       "        [20, 21, 22, 23]]])"
      ]
     },
     "execution_count": 230,
     "metadata": {},
     "output_type": "execute_result"
    }
   ],
   "source": [
    "b = np.arange(24).reshape(2,3,4) # 2*3*4 =24 가 되어야 에러가 안뜬다.\n",
    "b"
   ]
  },
  {
   "cell_type": "code",
   "execution_count": 231,
   "metadata": {
    "ExecuteTime": {
     "end_time": "2021-03-04T07:58:59.942409Z",
     "start_time": "2021-03-04T07:58:59.937422Z"
    }
   },
   "outputs": [
    {
     "data": {
      "text/plain": [
       "(9, 9)"
      ]
     },
     "execution_count": 231,
     "metadata": {},
     "output_type": "execute_result"
    }
   ],
   "source": [
    "b[0,2,1],b[0][2][1]"
   ]
  },
  {
   "cell_type": "code",
   "execution_count": 232,
   "metadata": {
    "ExecuteTime": {
     "end_time": "2021-03-04T07:59:34.430461Z",
     "start_time": "2021-03-04T07:59:34.425474Z"
    }
   },
   "outputs": [
    {
     "data": {
      "text/plain": [
       "(276, 0, 23)"
      ]
     },
     "execution_count": 232,
     "metadata": {},
     "output_type": "execute_result"
    }
   ],
   "source": [
    "b.sum(), b.min(),b.max()"
   ]
  },
  {
   "cell_type": "code",
   "execution_count": 236,
   "metadata": {
    "ExecuteTime": {
     "end_time": "2021-03-04T08:01:55.551431Z",
     "start_time": "2021-03-04T08:01:55.546445Z"
    }
   },
   "outputs": [
    {
     "data": {
      "text/plain": [
       "array([[12, 14, 16, 18],\n",
       "       [20, 22, 24, 26],\n",
       "       [28, 30, 32, 34]])"
      ]
     },
     "execution_count": 236,
     "metadata": {},
     "output_type": "execute_result"
    }
   ],
   "source": [
    "#b = np.arange(24).reshape(2,3,4)\n",
    "b.sum(axis=0) #면은 빼고, 같은 행과 열끼지 sum\n",
    "# 0+12 , 1+13, 2+14 ~~"
   ]
  },
  {
   "cell_type": "code",
   "execution_count": 242,
   "metadata": {
    "ExecuteTime": {
     "end_time": "2021-03-04T08:08:58.079664Z",
     "start_time": "2021-03-04T08:08:58.074677Z"
    }
   },
   "outputs": [
    {
     "data": {
      "text/plain": [
       "array([[12, 15, 18, 21],\n",
       "       [48, 51, 54, 57]])"
      ]
     },
     "execution_count": 242,
     "metadata": {},
     "output_type": "execute_result"
    }
   ],
   "source": [
    "b.sum(axis=1) #행을 뺴고, 같은면, 같은 열 끼리 sum.\n",
    "# 0+4+8 = 12 , 1+5+9=15 , 2+6+10=18, 3+7+11 = 21 , ..."
   ]
  },
  {
   "cell_type": "code",
   "execution_count": 238,
   "metadata": {
    "ExecuteTime": {
     "end_time": "2021-03-04T08:04:14.654168Z",
     "start_time": "2021-03-04T08:04:14.649180Z"
    }
   },
   "outputs": [
    {
     "data": {
      "text/plain": [
       "array([[ 6, 22, 38],\n",
       "       [54, 70, 86]])"
      ]
     },
     "execution_count": 238,
     "metadata": {},
     "output_type": "execute_result"
    }
   ],
   "source": [
    "b.sum(axis=2) # 열을 빼고 같은면, 같은 행끼리 sum"
   ]
  },
  {
   "cell_type": "code",
   "execution_count": 239,
   "metadata": {
    "ExecuteTime": {
     "end_time": "2021-03-04T08:06:44.082226Z",
     "start_time": "2021-03-04T08:06:44.077265Z"
    }
   },
   "outputs": [
    {
     "data": {
      "text/plain": [
       "276"
      ]
     },
     "execution_count": 239,
     "metadata": {},
     "output_type": "execute_result"
    }
   ],
   "source": [
    "np.sum(b) #요소들 전체 합"
   ]
  },
  {
   "cell_type": "code",
   "execution_count": 240,
   "metadata": {
    "ExecuteTime": {
     "end_time": "2021-03-04T08:06:44.782510Z",
     "start_time": "2021-03-04T08:06:44.777512Z"
    }
   },
   "outputs": [
    {
     "data": {
      "text/plain": [
       "11.5"
      ]
     },
     "execution_count": 240,
     "metadata": {},
     "output_type": "execute_result"
    }
   ],
   "source": [
    "np.mean(b) #요소들 전체 평균"
   ]
  },
  {
   "cell_type": "code",
   "execution_count": 241,
   "metadata": {
    "ExecuteTime": {
     "end_time": "2021-03-04T08:06:45.294131Z",
     "start_time": "2021-03-04T08:06:45.289145Z"
    }
   },
   "outputs": [
    {
     "data": {
      "text/plain": [
       "6.922186552431729"
      ]
     },
     "execution_count": 241,
     "metadata": {},
     "output_type": "execute_result"
    }
   ],
   "source": [
    "np.std(b) #요소들 전체 표준편차"
   ]
  },
  {
   "cell_type": "code",
   "execution_count": 243,
   "metadata": {
    "ExecuteTime": {
     "end_time": "2021-03-04T08:09:24.605028Z",
     "start_time": "2021-03-04T08:09:24.600042Z"
    }
   },
   "outputs": [
    {
     "data": {
      "text/plain": [
       "47.916666666666664"
      ]
     },
     "execution_count": 243,
     "metadata": {},
     "output_type": "execute_result"
    }
   ],
   "source": [
    "np.var(b) # 분산"
   ]
  },
  {
   "cell_type": "code",
   "execution_count": 245,
   "metadata": {
    "ExecuteTime": {
     "end_time": "2021-03-04T08:10:12.999260Z",
     "start_time": "2021-03-04T08:10:12.994273Z"
    }
   },
   "outputs": [
    {
     "data": {
      "text/plain": [
       "47.916666666666664"
      ]
     },
     "execution_count": 245,
     "metadata": {},
     "output_type": "execute_result"
    }
   ],
   "source": [
    "np.std(b) * np.std(b)"
   ]
  },
  {
   "cell_type": "code",
   "execution_count": 246,
   "metadata": {
    "ExecuteTime": {
     "end_time": "2021-03-04T08:11:05.203730Z",
     "start_time": "2021-03-04T08:11:05.198743Z"
    }
   },
   "outputs": [
    {
     "data": {
      "text/plain": [
       "6.922186552431729"
      ]
     },
     "execution_count": 246,
     "metadata": {},
     "output_type": "execute_result"
    }
   ],
   "source": [
    "np.sqrt(np.var(b))\n",
    "# np.sqrt()의 매개변수에는 스칼라변수, 배열변수 모두 가능"
   ]
  },
  {
   "cell_type": "code",
   "execution_count": 247,
   "metadata": {
    "ExecuteTime": {
     "end_time": "2021-03-04T08:11:20.377835Z",
     "start_time": "2021-03-04T08:11:20.372850Z"
    }
   },
   "outputs": [
    {
     "data": {
      "text/plain": [
       "6.922186552431729"
      ]
     },
     "execution_count": 247,
     "metadata": {},
     "output_type": "execute_result"
    }
   ],
   "source": [
    "import math\n",
    "math.sqrt(np.var(b))\n",
    "#math.sqrt() 의 매개변수는 스칼라변수만."
   ]
  },
  {
   "cell_type": "markdown",
   "metadata": {},
   "source": [
    "## 2.7 그외 함수들"
   ]
  },
  {
   "cell_type": "code",
   "execution_count": 250,
   "metadata": {
    "ExecuteTime": {
     "end_time": "2021-03-04T08:12:46.207592Z",
     "start_time": "2021-03-04T08:12:46.202604Z"
    }
   },
   "outputs": [
    {
     "data": {
      "text/plain": [
       "array([0.        , 1.        , 1.41421356])"
      ]
     },
     "execution_count": 250,
     "metadata": {},
     "output_type": "execute_result"
    }
   ],
   "source": [
    "a = np.arange(3)\n",
    "np.sqrt(a) #a에 루트씌운다."
   ]
  },
  {
   "cell_type": "code",
   "execution_count": 251,
   "metadata": {
    "ExecuteTime": {
     "end_time": "2021-03-04T08:12:56.214540Z",
     "start_time": "2021-03-04T08:12:56.209574Z"
    }
   },
   "outputs": [
    {
     "data": {
      "text/plain": [
       "array([1.        , 2.71828183, 7.3890561 ])"
      ]
     },
     "execution_count": 251,
     "metadata": {},
     "output_type": "execute_result"
    }
   ],
   "source": [
    "np.exp(a) #지수 e의 0승,1승,2승"
   ]
  },
  {
   "cell_type": "code",
   "execution_count": 252,
   "metadata": {
    "ExecuteTime": {
     "end_time": "2021-03-04T08:14:23.096025Z",
     "start_time": "2021-03-04T08:14:23.091038Z"
    }
   },
   "outputs": [
    {
     "data": {
      "text/plain": [
       "array([0, 1, 2])"
      ]
     },
     "execution_count": 252,
     "metadata": {},
     "output_type": "execute_result"
    }
   ],
   "source": [
    "a"
   ]
  },
  {
   "cell_type": "code",
   "execution_count": 254,
   "metadata": {
    "ExecuteTime": {
     "end_time": "2021-03-04T08:15:11.906226Z",
     "start_time": "2021-03-04T08:15:11.900262Z"
    }
   },
   "outputs": [
    {
     "data": {
      "text/plain": [
       "array([10, 12, 14])"
      ]
     },
     "execution_count": 254,
     "metadata": {},
     "output_type": "execute_result"
    }
   ],
   "source": [
    "b = np.array([10,11,12])\n",
    "np.add(a,b) # a와 b를 더한다. (메모리를 절약하면서.)"
   ]
  },
  {
   "cell_type": "code",
   "execution_count": 257,
   "metadata": {
    "ExecuteTime": {
     "end_time": "2021-03-04T08:21:45.448728Z",
     "start_time": "2021-03-04T08:21:42.281973Z"
    }
   },
   "outputs": [],
   "source": [
    "# 메모리 사용량 측정(메모리 프로파일러.)를 로드하고 임의의 데이터 생성후 np.add\n",
    "# 아나콘다 프롬프트에서 (! pip install memory_profiler) (! ~~) 는 현재 이 코드에서 실행시킨다.\n",
    "#(! ~~) => 추천하지 않는 방법.\n",
    "\n",
    "%load_ext memory_profiler\n",
    "A = np.random.random(100000000)\n",
    "B = np.random.random(100000000)\n",
    "C = np.random.random(100000000)"
   ]
  },
  {
   "cell_type": "code",
   "execution_count": 256,
   "metadata": {
    "ExecuteTime": {
     "end_time": "2021-03-04T08:21:08.702736Z",
     "start_time": "2021-03-04T08:21:08.697789Z"
    }
   },
   "outputs": [
    {
     "data": {
      "text/plain": [
       "array([0.56496623, 0.0604869 , 0.46233097, 0.06389969, 0.83204324,\n",
       "       0.69018051, 0.82633152, 0.58714504, 0.58001789, 0.61254801])"
      ]
     },
     "execution_count": 256,
     "metadata": {},
     "output_type": "execute_result"
    }
   ],
   "source": [
    "np.random.random(10) #10개의 실수 생성."
   ]
  },
  {
   "cell_type": "code",
   "execution_count": 260,
   "metadata": {
    "ExecuteTime": {
     "end_time": "2021-03-04T08:25:35.468850Z",
     "start_time": "2021-03-04T08:25:35.465858Z"
    }
   },
   "outputs": [],
   "source": [
    "# %%사용시 주석과 같이 사용불가.\n",
    "# $$time : 셀을 실행할때 소요시간 출력.\n",
    "# %memit : 메모리 사용량 출력.\n",
    "# increment: 1434.30 MiB 사용 메모리.\n",
    "# Wall time: 2.21 s  걸린시간."
   ]
  },
  {
   "cell_type": "code",
   "execution_count": 258,
   "metadata": {
    "ExecuteTime": {
     "end_time": "2021-03-04T08:23:42.344395Z",
     "start_time": "2021-03-04T08:23:40.105313Z"
    }
   },
   "outputs": [
    {
     "name": "stdout",
     "output_type": "stream",
     "text": [
      "peak memory: 3904.46 MiB, increment: 1434.30 MiB\n",
      "6\n",
      "Wall time: 2.21 s\n"
     ]
    }
   ],
   "source": [
    "%%time\n",
    "%memit G = A * B + C\n",
    "print(6)"
   ]
  },
  {
   "cell_type": "code",
   "execution_count": 259,
   "metadata": {
    "ExecuteTime": {
     "end_time": "2021-03-04T08:24:57.854157Z",
     "start_time": "2021-03-04T08:24:55.658016Z"
    }
   },
   "outputs": [
    {
     "name": "stdout",
     "output_type": "stream",
     "text": [
      "peak memory: 4751.79 MiB, increment: 1517.02 MiB\n",
      "6\n",
      "Wall time: 2.18 s\n"
     ]
    }
   ],
   "source": [
    "%%time\n",
    "%memit T= A*B; G=T+C; del T\n",
    "print(6)"
   ]
  },
  {
   "cell_type": "code",
   "execution_count": 261,
   "metadata": {
    "ExecuteTime": {
     "end_time": "2021-03-04T08:25:58.691970Z",
     "start_time": "2021-03-04T08:25:56.986745Z"
    }
   },
   "outputs": [
    {
     "name": "stdout",
     "output_type": "stream",
     "text": [
      "peak memory: 3997.72 MiB, increment: 762.94 MiB\n",
      "[0.74955376 0.40928517 0.86222376 ... 1.12182581 1.20194882 1.32749091]\n",
      "Wall time: 1.7 s\n"
     ]
    }
   ],
   "source": [
    "%%time\n",
    "%memit T= A*B; T+=C\n",
    "print(T)"
   ]
  },
  {
   "cell_type": "code",
   "execution_count": 262,
   "metadata": {
    "ExecuteTime": {
     "end_time": "2021-03-04T08:26:35.502528Z",
     "start_time": "2021-03-04T08:26:35.498539Z"
    }
   },
   "outputs": [],
   "source": [
    "# 상단의 문법은 메모리 사용량 더욱 감소와 작동시간 감소 "
   ]
  },
  {
   "cell_type": "code",
   "execution_count": 264,
   "metadata": {
    "ExecuteTime": {
     "end_time": "2021-03-04T08:27:23.413987Z",
     "start_time": "2021-03-04T08:27:23.409997Z"
    }
   },
   "outputs": [],
   "source": [
    "# np.add() 경우 배열별 연산을 할 경우 메모리 절약."
   ]
  },
  {
   "cell_type": "code",
   "execution_count": 263,
   "metadata": {
    "ExecuteTime": {
     "end_time": "2021-03-04T08:27:01.921786Z",
     "start_time": "2021-03-04T08:27:00.153775Z"
    }
   },
   "outputs": [
    {
     "name": "stdout",
     "output_type": "stream",
     "text": [
      "peak memory: 4663.25 MiB, increment: 675.29 MiB\n",
      "[0.74955376 0.40928517 0.86222376 ... 1.12182581 1.20194882 1.32749091]\n",
      "Wall time: 1.76 s\n"
     ]
    }
   ],
   "source": [
    "%%time\n",
    "%memit T= A*B; np.add(T, C, T)\n",
    "print(T)"
   ]
  },
  {
   "cell_type": "code",
   "execution_count": null,
   "metadata": {},
   "outputs": [],
   "source": [
    "# ===== 여기까지 행과 열 수 가 같을경우 ========="
   ]
  },
  {
   "cell_type": "markdown",
   "metadata": {},
   "source": [
    "## 2.8 브로드캐스팅"
   ]
  },
  {
   "cell_type": "code",
   "execution_count": 266,
   "metadata": {
    "ExecuteTime": {
     "end_time": "2021-03-04T08:43:48.716271Z",
     "start_time": "2021-03-04T08:43:48.711305Z"
    }
   },
   "outputs": [
    {
     "data": {
      "text/plain": [
       "array([[11, 12, 13]])"
      ]
     },
     "execution_count": 266,
     "metadata": {},
     "output_type": "execute_result"
    }
   ],
   "source": [
    "from numpy import array\n",
    "a = array([[1,2,3]]) # 1차원 경우의 브로드캐스팅. 10+1 , 10+2, 10+3\n",
    "b = array([[10,20,30]])\n",
    "np.add(a, 10)"
   ]
  },
  {
   "cell_type": "code",
   "execution_count": 267,
   "metadata": {
    "ExecuteTime": {
     "end_time": "2021-03-04T08:45:35.704689Z",
     "start_time": "2021-03-04T08:45:35.697728Z"
    }
   },
   "outputs": [
    {
     "data": {
      "text/plain": [
       "array([[ 5.,  5.,  5.],\n",
       "       [15., 15., 15.],\n",
       "       [25., 25., 25.],\n",
       "       [35., 35., 35.]])"
      ]
     },
     "execution_count": 267,
     "metadata": {},
     "output_type": "execute_result"
    }
   ],
   "source": [
    "# 2차원 배열의 경우,  두배열의 후미 축(열)의 크기가 동일해야한다.\n",
    "a = array([[0.,0,0], #4행 3열.\n",
    "           [10.,10,10],\n",
    "           [20,20,20],\n",
    "           [30,30,30]])\n",
    "b = array([[5,5,5]])\n",
    "np.add(a, b)      # 5,5,5 + 0,0,0 . 5,5,5+10,10,10. ~~"
   ]
  },
  {
   "cell_type": "code",
   "execution_count": 268,
   "metadata": {
    "ExecuteTime": {
     "end_time": "2021-03-04T08:45:46.879602Z",
     "start_time": "2021-03-04T08:45:46.874642Z"
    }
   },
   "outputs": [
    {
     "data": {
      "text/plain": [
       "array([[  0.,   0.,   0.],\n",
       "       [ 50.,  50.,  50.],\n",
       "       [100., 100., 100.],\n",
       "       [150., 150., 150.]])"
      ]
     },
     "execution_count": 268,
     "metadata": {},
     "output_type": "execute_result"
    }
   ],
   "source": [
    "np.multiply(a,b)"
   ]
  },
  {
   "cell_type": "code",
   "execution_count": 269,
   "metadata": {
    "ExecuteTime": {
     "end_time": "2021-03-04T08:48:22.927866Z",
     "start_time": "2021-03-04T08:48:22.912907Z"
    }
   },
   "outputs": [
    {
     "ename": "ValueError",
     "evalue": "operands could not be broadcast together with shapes (4,) (3,) ",
     "output_type": "error",
     "traceback": [
      "\u001b[1;31m---------------------------------------------------------------------------\u001b[0m",
      "\u001b[1;31mValueError\u001b[0m                                Traceback (most recent call last)",
      "\u001b[1;32m<ipython-input-269-2c2e09d179d2>\u001b[0m in \u001b[0;36m<module>\u001b[1;34m\u001b[0m\n\u001b[0;32m      4\u001b[0m \u001b[0ma\u001b[0m \u001b[1;33m=\u001b[0m \u001b[0marray\u001b[0m\u001b[1;33m(\u001b[0m\u001b[1;33m[\u001b[0m\u001b[1;36m0\u001b[0m\u001b[1;33m,\u001b[0m\u001b[1;36m10\u001b[0m\u001b[1;33m,\u001b[0m\u001b[1;36m20\u001b[0m\u001b[1;33m,\u001b[0m\u001b[1;36m30\u001b[0m\u001b[1;33m]\u001b[0m\u001b[1;33m)\u001b[0m\u001b[1;33m\u001b[0m\u001b[1;33m\u001b[0m\u001b[0m\n\u001b[0;32m      5\u001b[0m \u001b[0mb\u001b[0m \u001b[1;33m=\u001b[0m \u001b[0marray\u001b[0m\u001b[1;33m(\u001b[0m\u001b[1;33m[\u001b[0m\u001b[1;36m1\u001b[0m\u001b[1;33m,\u001b[0m\u001b[1;36m2\u001b[0m\u001b[1;33m,\u001b[0m\u001b[1;36m3\u001b[0m\u001b[1;33m]\u001b[0m\u001b[1;33m)\u001b[0m\u001b[1;33m\u001b[0m\u001b[1;33m\u001b[0m\u001b[0m\n\u001b[1;32m----> 6\u001b[1;33m \u001b[0mnp\u001b[0m\u001b[1;33m.\u001b[0m\u001b[0madd\u001b[0m\u001b[1;33m(\u001b[0m\u001b[0ma\u001b[0m\u001b[1;33m,\u001b[0m\u001b[0mb\u001b[0m\u001b[1;33m)\u001b[0m\u001b[1;33m\u001b[0m\u001b[1;33m\u001b[0m\u001b[0m\n\u001b[0m",
      "\u001b[1;31mValueError\u001b[0m: operands could not be broadcast together with shapes (4,) (3,) "
     ]
    }
   ],
   "source": [
    "# 열 갯수가 다를때.\n",
    "from numpy import array, newaxis\n",
    "a = array([0,10,20,30])\n",
    "b = array([1,2,3])\n",
    "np.add(a,b)\n",
    "# a+ b 도 불가."
   ]
  },
  {
   "cell_type": "code",
   "execution_count": 271,
   "metadata": {
    "ExecuteTime": {
     "end_time": "2021-03-04T08:51:16.725435Z",
     "start_time": "2021-03-04T08:51:16.721463Z"
    }
   },
   "outputs": [
    {
     "data": {
      "text/plain": [
       "array([[ 0],\n",
       "       [10],\n",
       "       [20],\n",
       "       [30]])"
      ]
     },
     "execution_count": 271,
     "metadata": {},
     "output_type": "execute_result"
    }
   ],
   "source": [
    "#newaxis ?\n",
    "a[:,newaxis] # 배열의 새로운 축을 추가. 2차원인 4x1 로 생성."
   ]
  },
  {
   "cell_type": "code",
   "execution_count": 273,
   "metadata": {
    "ExecuteTime": {
     "end_time": "2021-03-04T08:52:38.134588Z",
     "start_time": "2021-03-04T08:52:38.129602Z"
    }
   },
   "outputs": [
    {
     "data": {
      "text/plain": [
       "array([[ 1,  2,  3],\n",
       "       [11, 12, 13],\n",
       "       [21, 22, 23],\n",
       "       [31, 32, 33]])"
      ]
     },
     "execution_count": 273,
     "metadata": {},
     "output_type": "execute_result"
    }
   ],
   "source": [
    "# 4행1열 배열 + 1행 4열 연산.\n",
    "x = np.add(a[:,newaxis],b)\n",
    "x"
   ]
  },
  {
   "cell_type": "code",
   "execution_count": 274,
   "metadata": {
    "ExecuteTime": {
     "end_time": "2021-03-04T08:53:13.190550Z",
     "start_time": "2021-03-04T08:53:13.177584Z"
    }
   },
   "outputs": [
    {
     "data": {
      "text/plain": [
       "True"
      ]
     },
     "execution_count": 274,
     "metadata": {},
     "output_type": "execute_result"
    }
   ],
   "source": [
    "a[0]+b[1] == x[0,1]\n",
    "a[1]+b[2] == x[1,2]"
   ]
  },
  {
   "cell_type": "markdown",
   "metadata": {},
   "source": [
    "# 3절. 배열 합치기/분할하기"
   ]
  },
  {
   "cell_type": "code",
   "execution_count": 275,
   "metadata": {
    "ExecuteTime": {
     "end_time": "2021-03-04T08:55:45.342965Z",
     "start_time": "2021-03-04T08:55:45.337978Z"
    }
   },
   "outputs": [
    {
     "data": {
      "text/plain": [
       "array([ 0,  3,  6,  9, 12, 15, 18, 21, 24, 27])"
      ]
     },
     "execution_count": 275,
     "metadata": {},
     "output_type": "execute_result"
    }
   ],
   "source": [
    "a = np.arange(10)*3\n",
    "a"
   ]
  },
  {
   "cell_type": "markdown",
   "metadata": {},
   "source": [
    "## 3.1 인덱싱과 슬라이싱."
   ]
  },
  {
   "cell_type": "code",
   "execution_count": 277,
   "metadata": {
    "ExecuteTime": {
     "end_time": "2021-03-04T08:56:37.630354Z",
     "start_time": "2021-03-04T08:56:37.626365Z"
    }
   },
   "outputs": [
    {
     "data": {
      "text/plain": [
       "6"
      ]
     },
     "execution_count": 277,
     "metadata": {},
     "output_type": "execute_result"
    }
   ],
   "source": [
    "#인덱싱.\n",
    "a[2]"
   ]
  },
  {
   "cell_type": "code",
   "execution_count": 278,
   "metadata": {
    "ExecuteTime": {
     "end_time": "2021-03-04T08:56:48.766937Z",
     "start_time": "2021-03-04T08:56:48.761950Z"
    }
   },
   "outputs": [
    {
     "data": {
      "text/plain": [
       "27"
      ]
     },
     "execution_count": 278,
     "metadata": {},
     "output_type": "execute_result"
    }
   ],
   "source": [
    "a[-1]"
   ]
  },
  {
   "cell_type": "code",
   "execution_count": 280,
   "metadata": {
    "ExecuteTime": {
     "end_time": "2021-03-04T08:57:12.534837Z",
     "start_time": "2021-03-04T08:57:12.526861Z"
    }
   },
   "outputs": [
    {
     "ename": "IndexError",
     "evalue": "index 10 is out of bounds for axis 0 with size 10",
     "output_type": "error",
     "traceback": [
      "\u001b[1;31m---------------------------------------------------------------------------\u001b[0m",
      "\u001b[1;31mIndexError\u001b[0m                                Traceback (most recent call last)",
      "\u001b[1;32m<ipython-input-280-2201a504fbf0>\u001b[0m in \u001b[0;36m<module>\u001b[1;34m\u001b[0m\n\u001b[1;32m----> 1\u001b[1;33m \u001b[0ma\u001b[0m\u001b[1;33m[\u001b[0m\u001b[1;36m10\u001b[0m\u001b[1;33m]\u001b[0m \u001b[1;31m# 없는 인덱싱은 에러.\u001b[0m\u001b[1;33m\u001b[0m\u001b[1;33m\u001b[0m\u001b[0m\n\u001b[0m",
      "\u001b[1;31mIndexError\u001b[0m: index 10 is out of bounds for axis 0 with size 10"
     ]
    }
   ],
   "source": [
    "a[10] # 없는 인덱싱은 에러."
   ]
  },
  {
   "cell_type": "code",
   "execution_count": 281,
   "metadata": {
    "ExecuteTime": {
     "end_time": "2021-03-04T08:57:52.517917Z",
     "start_time": "2021-03-04T08:57:52.512957Z"
    }
   },
   "outputs": [
    {
     "data": {
      "text/plain": [
       "array([ 6,  9, 12])"
      ]
     },
     "execution_count": 281,
     "metadata": {},
     "output_type": "execute_result"
    }
   ],
   "source": [
    "# 2) 슬라이싱\n",
    "a[2:5] #2번째 인덱스부터 5앞까지"
   ]
  },
  {
   "cell_type": "code",
   "execution_count": 283,
   "metadata": {
    "ExecuteTime": {
     "end_time": "2021-03-04T08:58:34.734466Z",
     "start_time": "2021-03-04T08:58:34.730497Z"
    }
   },
   "outputs": [
    {
     "data": {
      "text/plain": [
       "array([ 0,  6, 12, 18, 24])"
      ]
     },
     "execution_count": 283,
     "metadata": {},
     "output_type": "execute_result"
    }
   ],
   "source": [
    "a[0:11:2]  # from , by 생략 가능.\n",
    "# 슬라이싱은 벗어난 인덱스 값도 가능."
   ]
  },
  {
   "cell_type": "code",
   "execution_count": 284,
   "metadata": {
    "ExecuteTime": {
     "end_time": "2021-03-04T08:58:42.630857Z",
     "start_time": "2021-03-04T08:58:42.625897Z"
    }
   },
   "outputs": [
    {
     "data": {
      "text/plain": [
       "array([27, 24, 21, 18, 15, 12,  9,  6,  3,  0])"
      ]
     },
     "execution_count": 284,
     "metadata": {},
     "output_type": "execute_result"
    }
   ],
   "source": [
    "a[::-1] #끝부터 처음까지 거꾸로. => a배열을 거꾸로 출력."
   ]
  },
  {
   "cell_type": "code",
   "execution_count": 286,
   "metadata": {
    "ExecuteTime": {
     "end_time": "2021-03-04T09:00:12.846322Z",
     "start_time": "2021-03-04T09:00:12.841335Z"
    }
   },
   "outputs": [
    {
     "data": {
      "text/plain": [
       "array([-99,   3, -99,   9, -99,  15,  18,  21,  24,  27])"
      ]
     },
     "execution_count": 286,
     "metadata": {},
     "output_type": "execute_result"
    }
   ],
   "source": [
    "a[:6:2] = -99 # [-99,-99,-99] 를 -99로 가능.\n",
    "a"
   ]
  },
  {
   "cell_type": "markdown",
   "metadata": {},
   "source": [
    "### 도움말 문서들\n",
    "- 인덱싱 : https://docs.scipy.org/doc/numpy/user/basics.indexing.html\n",
    "- 배열 인덱싱 : https://docs.scipy.org/doc/numpy/reference/arrays.indexing.html\n",
    "- newaxis : https://docs.scipy.org/doc/numpy/reference/constants.html#numpy.newaxis\n"
   ]
  },
  {
   "cell_type": "code",
   "execution_count": 287,
   "metadata": {
    "ExecuteTime": {
     "end_time": "2021-03-04T09:01:03.435032Z",
     "start_time": "2021-03-04T09:01:03.433011Z"
    }
   },
   "outputs": [],
   "source": [
    "# 3) 다차원 인덱싱."
   ]
  },
  {
   "cell_type": "code",
   "execution_count": 1,
   "metadata": {
    "ExecuteTime": {
     "end_time": "2021-03-05T00:39:55.329622Z",
     "start_time": "2021-03-05T00:39:55.326650Z"
    }
   },
   "outputs": [],
   "source": [
    "def f(x ,y):\n",
    "    return 10*x+y"
   ]
  },
  {
   "cell_type": "code",
   "execution_count": 2,
   "metadata": {
    "ExecuteTime": {
     "end_time": "2021-03-05T00:40:33.780565Z",
     "start_time": "2021-03-05T00:40:33.771570Z"
    }
   },
   "outputs": [
    {
     "data": {
      "text/plain": [
       "23"
      ]
     },
     "execution_count": 2,
     "metadata": {},
     "output_type": "execute_result"
    }
   ],
   "source": [
    "f(2,3)"
   ]
  },
  {
   "cell_type": "code",
   "execution_count": 4,
   "metadata": {
    "ExecuteTime": {
     "end_time": "2021-03-05T00:43:06.776447Z",
     "start_time": "2021-03-05T00:43:06.770463Z"
    }
   },
   "outputs": [
    {
     "data": {
      "text/plain": [
       "array([[ 0,  1,  2,  3],\n",
       "       [10, 11, 12, 13],\n",
       "       [20, 21, 22, 23],\n",
       "       [30, 31, 32, 33],\n",
       "       [40, 41, 42, 43]], dtype=int16)"
      ]
     },
     "execution_count": 4,
     "metadata": {},
     "output_type": "execute_result"
    }
   ],
   "source": [
    "import numpy as np # int(4bit) \n",
    "#(5,4)= 5행4열 짜리 2차원 넘파이배열을 int16type으로 만듬(그 안의 데이터는 f함수에 의해.)\n",
    "a = np.fromfunction(f, (5,4), dtype=np.int16) \n",
    "a"
   ]
  },
  {
   "cell_type": "code",
   "execution_count": 6,
   "metadata": {
    "ExecuteTime": {
     "end_time": "2021-03-05T00:45:05.526871Z",
     "start_time": "2021-03-05T00:45:05.522899Z"
    }
   },
   "outputs": [
    {
     "data": {
      "text/plain": [
       "array([[ 0,  1,  2,  3],\n",
       "       [10, 11, 12, 13],\n",
       "       [20, 21, 22, 23],\n",
       "       [30, 31, 32, 33],\n",
       "       [40, 41, 42, 43]])"
      ]
     },
     "execution_count": 6,
     "metadata": {},
     "output_type": "execute_result"
    }
   ],
   "source": [
    "import numpy as np # int(32bit) \n",
    "#(5,4)= 5행4열 짜리 2차원 넘파이배열을 int16type으로 만듬(그 안의 데이터는 f함수에 의해.)\n",
    "#람다함수 이용.\n",
    "a = np.fromfunction(lambda x, y : 10*x+y, (5,4), dtype=np.int) \n",
    "a"
   ]
  },
  {
   "cell_type": "code",
   "execution_count": 7,
   "metadata": {
    "ExecuteTime": {
     "end_time": "2021-03-05T00:45:14.239611Z",
     "start_time": "2021-03-05T00:45:14.234624Z"
    }
   },
   "outputs": [
    {
     "data": {
      "text/plain": [
       "23"
      ]
     },
     "execution_count": 7,
     "metadata": {},
     "output_type": "execute_result"
    }
   ],
   "source": [
    "a[2,3]"
   ]
  },
  {
   "cell_type": "code",
   "execution_count": 8,
   "metadata": {
    "ExecuteTime": {
     "end_time": "2021-03-05T00:45:47.768875Z",
     "start_time": "2021-03-05T00:45:47.763912Z"
    }
   },
   "outputs": [
    {
     "data": {
      "text/plain": [
       "33"
      ]
     },
     "execution_count": 8,
     "metadata": {},
     "output_type": "execute_result"
    }
   ],
   "source": [
    "a[-2,-1] # 인덱스는 음수 가능. 음수인덱스는 마지막부터 n번째."
   ]
  },
  {
   "cell_type": "code",
   "execution_count": 9,
   "metadata": {
    "ExecuteTime": {
     "end_time": "2021-03-05T00:48:06.843472Z",
     "start_time": "2021-03-05T00:48:06.627206Z"
    }
   },
   "outputs": [
    {
     "ename": "IndexError",
     "evalue": "index 5 is out of bounds for axis 0 with size 5",
     "output_type": "error",
     "traceback": [
      "\u001b[1;31m---------------------------------------------------------------------------\u001b[0m",
      "\u001b[1;31mIndexError\u001b[0m                                Traceback (most recent call last)",
      "\u001b[1;32m<ipython-input-9-056068d966b5>\u001b[0m in \u001b[0;36m<module>\u001b[1;34m\u001b[0m\n\u001b[1;32m----> 1\u001b[1;33m \u001b[0ma\u001b[0m\u001b[1;33m[\u001b[0m\u001b[1;36m5\u001b[0m\u001b[1;33m,\u001b[0m\u001b[1;36m0\u001b[0m\u001b[1;33m]\u001b[0m \u001b[1;31m#벗어난 인덱스를 인덱싱 하면 오류.\u001b[0m\u001b[1;33m\u001b[0m\u001b[1;33m\u001b[0m\u001b[0m\n\u001b[0m",
      "\u001b[1;31mIndexError\u001b[0m: index 5 is out of bounds for axis 0 with size 5"
     ]
    }
   ],
   "source": [
    "a[5,0] #벗어난 인덱스를 인덱싱 하면 오류."
   ]
  },
  {
   "cell_type": "code",
   "execution_count": 11,
   "metadata": {
    "ExecuteTime": {
     "end_time": "2021-03-05T00:51:07.960035Z",
     "start_time": "2021-03-05T00:51:07.955072Z"
    }
   },
   "outputs": [
    {
     "data": {
      "text/plain": [
       "array([ 3, 13, 23, 33, 43])"
      ]
     },
     "execution_count": 11,
     "metadata": {},
     "output_type": "execute_result"
    }
   ],
   "source": [
    "a[0:10,-1]#마지막 열들만 출력(0행부터 9행까지)"
   ]
  },
  {
   "cell_type": "code",
   "execution_count": 13,
   "metadata": {
    "ExecuteTime": {
     "end_time": "2021-03-05T00:51:25.000210Z",
     "start_time": "2021-03-05T00:51:24.996203Z"
    }
   },
   "outputs": [
    {
     "data": {
      "text/plain": [
       "array([[ 0,  1,  2,  3],\n",
       "       [10, 11, 12, 13],\n",
       "       [20, 21, 22, 23],\n",
       "       [30, 31, 32, 33],\n",
       "       [40, 41, 42, 43]])"
      ]
     },
     "execution_count": 13,
     "metadata": {},
     "output_type": "execute_result"
    }
   ],
   "source": [
    "a # a의 생김새 확인."
   ]
  },
  {
   "cell_type": "code",
   "execution_count": 14,
   "metadata": {
    "ExecuteTime": {
     "end_time": "2021-03-05T00:52:12.128949Z",
     "start_time": "2021-03-05T00:52:12.123988Z"
    }
   },
   "outputs": [
    {
     "data": {
      "text/plain": [
       "array([[10, 11],\n",
       "       [20, 21],\n",
       "       [30, 31]])"
      ]
     },
     "execution_count": 14,
     "metadata": {},
     "output_type": "execute_result"
    }
   ],
   "source": [
    "a[1:4, 0:2] #1~3행 출력. 0~1열까지 출력."
   ]
  },
  {
   "cell_type": "code",
   "execution_count": 25,
   "metadata": {
    "ExecuteTime": {
     "end_time": "2021-03-05T00:57:11.798653Z",
     "start_time": "2021-03-05T00:57:11.794684Z"
    }
   },
   "outputs": [
    {
     "data": {
      "text/plain": [
       "array([[10, 11, 12, 13],\n",
       "       [20, 21, 22, 23],\n",
       "       [30, 31, 32, 33]])"
      ]
     },
     "execution_count": 25,
     "metadata": {},
     "output_type": "execute_result"
    }
   ],
   "source": [
    "a[1:4, :] # 1~3행 모든열.(마지막 축(열)인덱스 생략 가능)"
   ]
  },
  {
   "cell_type": "code",
   "execution_count": 26,
   "metadata": {
    "ExecuteTime": {
     "end_time": "2021-03-05T00:57:12.057960Z",
     "start_time": "2021-03-05T00:57:12.052973Z"
    }
   },
   "outputs": [
    {
     "data": {
      "text/plain": [
       "array([[10, 11, 12, 13],\n",
       "       [20, 21, 22, 23],\n",
       "       [30, 31, 32, 33]])"
      ]
     },
     "execution_count": 26,
     "metadata": {},
     "output_type": "execute_result"
    }
   ],
   "source": [
    "a[1:4, ] # 1~3행 모든열.(마지막 축(열)인덱스 생략 가능)"
   ]
  },
  {
   "cell_type": "code",
   "execution_count": 27,
   "metadata": {
    "ExecuteTime": {
     "end_time": "2021-03-05T00:57:12.322253Z",
     "start_time": "2021-03-05T00:57:12.317288Z"
    }
   },
   "outputs": [
    {
     "data": {
      "text/plain": [
       "array([[10, 11, 12, 13],\n",
       "       [20, 21, 22, 23],\n",
       "       [30, 31, 32, 33]])"
      ]
     },
     "execution_count": 27,
     "metadata": {},
     "output_type": "execute_result"
    }
   ],
   "source": [
    "a[1:4, ...] # 1~3행 모든열 (마지막 축(열)인덱스 생략 가능) => ...  누락된 인덱스의 전체를 의미."
   ]
  },
  {
   "cell_type": "code",
   "execution_count": 28,
   "metadata": {
    "ExecuteTime": {
     "end_time": "2021-03-05T00:57:13.161800Z",
     "start_time": "2021-03-05T00:57:13.156813Z"
    }
   },
   "outputs": [
    {
     "data": {
      "text/plain": [
       "array([[10, 11, 12, 13],\n",
       "       [20, 21, 22, 23],\n",
       "       [30, 31, 32, 33]])"
      ]
     },
     "execution_count": 28,
     "metadata": {},
     "output_type": "execute_result"
    }
   ],
   "source": [
    "a[1:4] # 1~3행 모든열 (마지막 축(열)인덱스 생략 가능)"
   ]
  },
  {
   "cell_type": "code",
   "execution_count": 29,
   "metadata": {
    "ExecuteTime": {
     "end_time": "2021-03-05T00:59:12.408048Z",
     "start_time": "2021-03-05T00:59:12.403060Z"
    }
   },
   "outputs": [
    {
     "data": {
      "text/plain": [
       "array([ 3, 13, 23, 33, 43])"
      ]
     },
     "execution_count": 29,
     "metadata": {},
     "output_type": "execute_result"
    }
   ],
   "source": [
    "a[:, -1:] #모든 행에 마지막열.  "
   ]
  },
  {
   "cell_type": "code",
   "execution_count": 30,
   "metadata": {
    "ExecuteTime": {
     "end_time": "2021-03-05T01:00:37.750145Z",
     "start_time": "2021-03-05T01:00:37.746173Z"
    }
   },
   "outputs": [
    {
     "data": {
      "text/plain": [
       "array([[ 3,  2],\n",
       "       [13, 12],\n",
       "       [23, 22],\n",
       "       [33, 32],\n",
       "       [43, 42]])"
      ]
     },
     "execution_count": 30,
     "metadata": {},
     "output_type": "execute_result"
    }
   ],
   "source": [
    "a[:, -1:-3:-1] # 모든행에 마지막 열, 마지막 전열. # from to by => -1:-3:-1"
   ]
  },
  {
   "cell_type": "code",
   "execution_count": 31,
   "metadata": {
    "ExecuteTime": {
     "end_time": "2021-03-05T01:01:12.119113Z",
     "start_time": "2021-03-05T01:01:12.115136Z"
    }
   },
   "outputs": [
    {
     "data": {
      "text/plain": [
       "array([[ 3,  2],\n",
       "       [13, 12],\n",
       "       [23, 22],\n",
       "       [33, 32],\n",
       "       [43, 42]])"
      ]
     },
     "execution_count": 31,
     "metadata": {},
     "output_type": "execute_result"
    }
   ],
   "source": [
    "a[... , -1:-3:-1] # 모든행에 마지막 열, 마지막 전열."
   ]
  },
  {
   "cell_type": "code",
   "execution_count": 33,
   "metadata": {
    "ExecuteTime": {
     "end_time": "2021-03-05T01:02:32.031672Z",
     "start_time": "2021-03-05T01:02:32.026675Z"
    }
   },
   "outputs": [
    {
     "data": {
      "text/plain": [
       "array([[[ 0,  1,  2,  3],\n",
       "        [ 4,  5,  6,  7],\n",
       "        [ 8,  9, 10, 11]],\n",
       "\n",
       "       [[12, 13, 14, 15],\n",
       "        [16, 17, 18, 19],\n",
       "        [20, 21, 22, 23]]])"
      ]
     },
     "execution_count": 33,
     "metadata": {},
     "output_type": "execute_result"
    }
   ],
   "source": [
    "b = np.arange(24).reshape(2,3,4) #2면 3행 4열 3차원\n",
    "b"
   ]
  },
  {
   "cell_type": "code",
   "execution_count": 34,
   "metadata": {
    "ExecuteTime": {
     "end_time": "2021-03-05T01:03:08.222965Z",
     "start_time": "2021-03-05T01:03:08.207317Z"
    }
   },
   "outputs": [
    {
     "data": {
      "text/plain": [
       "12"
      ]
     },
     "execution_count": 34,
     "metadata": {},
     "output_type": "execute_result"
    }
   ],
   "source": [
    "b[1, 0, 0] #1면 0행 0열"
   ]
  },
  {
   "cell_type": "code",
   "execution_count": 46,
   "metadata": {
    "ExecuteTime": {
     "end_time": "2021-03-05T01:07:56.933757Z",
     "start_time": "2021-03-05T01:07:56.929767Z"
    }
   },
   "outputs": [],
   "source": [
    "# 0면 모두 출력."
   ]
  },
  {
   "cell_type": "code",
   "execution_count": 40,
   "metadata": {
    "ExecuteTime": {
     "end_time": "2021-03-05T01:06:14.040465Z",
     "start_time": "2021-03-05T01:06:14.035500Z"
    }
   },
   "outputs": [
    {
     "data": {
      "text/plain": [
       "array([[ 0,  1,  2,  3],\n",
       "       [ 4,  5,  6,  7],\n",
       "       [ 8,  9, 10, 11]])"
      ]
     },
     "execution_count": 40,
     "metadata": {},
     "output_type": "execute_result"
    }
   ],
   "source": [
    "b[0] # 첫번째 축만 쓸 경우.  ,:,: 생략 가능 "
   ]
  },
  {
   "cell_type": "code",
   "execution_count": 45,
   "metadata": {
    "ExecuteTime": {
     "end_time": "2021-03-05T01:07:55.285678Z",
     "start_time": "2021-03-05T01:07:55.282687Z"
    }
   },
   "outputs": [],
   "source": [
    "# 1면 모두 출력."
   ]
  },
  {
   "cell_type": "code",
   "execution_count": 35,
   "metadata": {
    "ExecuteTime": {
     "end_time": "2021-03-05T01:04:54.855559Z",
     "start_time": "2021-03-05T01:04:54.850572Z"
    }
   },
   "outputs": [
    {
     "data": {
      "text/plain": [
       "array([[12, 13, 14, 15],\n",
       "       [16, 17, 18, 19],\n",
       "       [20, 21, 22, 23]])"
      ]
     },
     "execution_count": 35,
     "metadata": {},
     "output_type": "execute_result"
    }
   ],
   "source": [
    "b[1, :, :] #1면에, :모든행, :모든열"
   ]
  },
  {
   "cell_type": "code",
   "execution_count": 37,
   "metadata": {
    "ExecuteTime": {
     "end_time": "2021-03-05T01:05:49.431513Z",
     "start_time": "2021-03-05T01:05:49.427525Z"
    }
   },
   "outputs": [
    {
     "data": {
      "text/plain": [
       "array([[12, 13, 14, 15],\n",
       "       [16, 17, 18, 19],\n",
       "       [20, 21, 22, 23]])"
      ]
     },
     "execution_count": 37,
     "metadata": {},
     "output_type": "execute_result"
    }
   ],
   "source": [
    "b[1] # 첫번째 축만 쓸 경우.  ,:,: 생략 가능 "
   ]
  },
  {
   "cell_type": "code",
   "execution_count": 44,
   "metadata": {
    "ExecuteTime": {
     "end_time": "2021-03-05T01:07:53.469162Z",
     "start_time": "2021-03-05T01:07:53.467161Z"
    }
   },
   "outputs": [],
   "source": [
    "# 1행들 모두 출력"
   ]
  },
  {
   "cell_type": "code",
   "execution_count": 41,
   "metadata": {
    "ExecuteTime": {
     "end_time": "2021-03-05T01:06:42.310162Z",
     "start_time": "2021-03-05T01:06:42.306163Z"
    }
   },
   "outputs": [
    {
     "data": {
      "text/plain": [
       "array([[ 4,  5,  6,  7],\n",
       "       [16, 17, 18, 19]])"
      ]
     },
     "execution_count": 41,
     "metadata": {},
     "output_type": "execute_result"
    }
   ],
   "source": [
    "b[:, 1, :]"
   ]
  },
  {
   "cell_type": "code",
   "execution_count": 42,
   "metadata": {
    "ExecuteTime": {
     "end_time": "2021-03-05T01:07:27.383114Z",
     "start_time": "2021-03-05T01:07:27.378128Z"
    }
   },
   "outputs": [
    {
     "data": {
      "text/plain": [
       "array([[ 4,  5,  6,  7],\n",
       "       [16, 17, 18, 19]])"
      ]
     },
     "execution_count": 42,
     "metadata": {},
     "output_type": "execute_result"
    }
   ],
   "source": [
    "b[:, 1, ... ] "
   ]
  },
  {
   "cell_type": "code",
   "execution_count": 43,
   "metadata": {
    "ExecuteTime": {
     "end_time": "2021-03-05T01:07:41.847123Z",
     "start_time": "2021-03-05T01:07:41.842136Z"
    }
   },
   "outputs": [
    {
     "data": {
      "text/plain": [
       "array([[ 4,  5,  6,  7],\n",
       "       [16, 17, 18, 19]])"
      ]
     },
     "execution_count": 43,
     "metadata": {},
     "output_type": "execute_result"
    }
   ],
   "source": [
    "b[:, 1]"
   ]
  },
  {
   "cell_type": "code",
   "execution_count": 47,
   "metadata": {
    "ExecuteTime": {
     "end_time": "2021-03-05T01:07:59.916944Z",
     "start_time": "2021-03-05T01:07:59.913951Z"
    }
   },
   "outputs": [],
   "source": [
    "# 1열들 모두 출력"
   ]
  },
  {
   "cell_type": "code",
   "execution_count": 48,
   "metadata": {
    "ExecuteTime": {
     "end_time": "2021-03-05T01:08:12.103004Z",
     "start_time": "2021-03-05T01:08:12.098018Z"
    }
   },
   "outputs": [
    {
     "data": {
      "text/plain": [
       "array([[ 1,  5,  9],\n",
       "       [13, 17, 21]])"
      ]
     },
     "execution_count": 48,
     "metadata": {},
     "output_type": "execute_result"
    }
   ],
   "source": [
    "b[:,:,1]"
   ]
  },
  {
   "cell_type": "code",
   "execution_count": 50,
   "metadata": {
    "ExecuteTime": {
     "end_time": "2021-03-05T01:08:58.922513Z",
     "start_time": "2021-03-05T01:08:58.916531Z"
    }
   },
   "outputs": [
    {
     "data": {
      "text/plain": [
       "array([[ 1,  5,  9],\n",
       "       [13, 17, 21]])"
      ]
     },
     "execution_count": 50,
     "metadata": {},
     "output_type": "execute_result"
    }
   ],
   "source": [
    "b[... , 1]  # ... 은 맨앞이나 맨뒤 둘중 하나만 위치."
   ]
  },
  {
   "cell_type": "code",
   "execution_count": 51,
   "metadata": {
    "ExecuteTime": {
     "end_time": "2021-03-05T01:09:29.247210Z",
     "start_time": "2021-03-05T01:09:29.242224Z"
    }
   },
   "outputs": [
    {
     "data": {
      "text/plain": [
       "array([[[ 0,  1,  2,  3],\n",
       "        [ 4,  5,  6,  7],\n",
       "        [ 8,  9, 10, 11]],\n",
       "\n",
       "       [[12, 13, 14, 15],\n",
       "        [16, 17, 18, 19],\n",
       "        [20, 21, 22, 23]]])"
      ]
     },
     "execution_count": 51,
     "metadata": {},
     "output_type": "execute_result"
    }
   ],
   "source": [
    "b"
   ]
  },
  {
   "cell_type": "code",
   "execution_count": 53,
   "metadata": {
    "ExecuteTime": {
     "end_time": "2021-03-05T01:12:19.509822Z",
     "start_time": "2021-03-05T01:12:19.503839Z"
    }
   },
   "outputs": [
    {
     "name": "stdout",
     "output_type": "stream",
     "text": [
      "0면 0행 0열 : 0\t0면 0행 1열 : 1\t0면 0행 2열 : 2\t0면 0행 3열 : 3\t\n",
      "0면 1행 0열 : 4\t0면 1행 1열 : 5\t0면 1행 2열 : 6\t0면 1행 3열 : 7\t\n",
      "0면 2행 0열 : 8\t0면 2행 1열 : 9\t0면 2행 2열 : 10\t0면 2행 3열 : 11\t\n",
      "\n",
      "1면 0행 0열 : 12\t1면 0행 1열 : 13\t1면 0행 2열 : 14\t1면 0행 3열 : 15\t\n",
      "1면 1행 0열 : 16\t1면 1행 1열 : 17\t1면 1행 2열 : 18\t1면 1행 3열 : 19\t\n",
      "1면 2행 0열 : 20\t1면 2행 1열 : 21\t1면 2행 2열 : 22\t1면 2행 3열 : 23\t\n",
      "\n"
     ]
    }
   ],
   "source": [
    "for i, data in enumerate(b):  # i = 면\n",
    "    for j , row in enumerate(data): # j = 행\n",
    "        for k, item in enumerate(row): # k = 열 , item = data\n",
    "            print(\"{}면 {}행 {}열 : {}\".format(i,j,k, item),end='\\t')\n",
    "        print()\n",
    "    print()"
   ]
  },
  {
   "cell_type": "code",
   "execution_count": 55,
   "metadata": {
    "ExecuteTime": {
     "end_time": "2021-03-05T01:13:29.694456Z",
     "start_time": "2021-03-05T01:13:29.688454Z"
    }
   },
   "outputs": [
    {
     "name": "stdout",
     "output_type": "stream",
     "text": [
      "0 1 2 3 4 5 6 7 8 9 10 11 12 13 14 15 16 17 18 19 20 21 22 23 "
     ]
    }
   ],
   "source": [
    "for i, data in enumerate(b):  # i = 면\n",
    "    for j , row in enumerate(data): # j = 행\n",
    "        for k, item in enumerate(row): # k = 열 , item = data\n",
    "            print(item, end=' ') # 한줄로 주르륵. 이렇게 사용안한다."
   ]
  },
  {
   "cell_type": "code",
   "execution_count": 57,
   "metadata": {
    "ExecuteTime": {
     "end_time": "2021-03-05T01:15:08.134226Z",
     "start_time": "2021-03-05T01:15:08.131233Z"
    }
   },
   "outputs": [
    {
     "name": "stdout",
     "output_type": "stream",
     "text": [
      "[0, 1, 2, 3, 4, 5, 6, 7, 8, 9, 10, 11, 12, 13, 14, 15, 16, 17, 18, 19, 20, 21, 22, 23]\n"
     ]
    }
   ],
   "source": [
    "print(list(b.flat))"
   ]
  },
  {
   "cell_type": "code",
   "execution_count": 62,
   "metadata": {
    "ExecuteTime": {
     "end_time": "2021-03-05T01:16:33.366304Z",
     "start_time": "2021-03-05T01:16:33.362315Z"
    }
   },
   "outputs": [],
   "source": [
    "# 도움말. b.flat??"
   ]
  },
  {
   "cell_type": "code",
   "execution_count": 63,
   "metadata": {
    "ExecuteTime": {
     "end_time": "2021-03-05T01:16:34.368265Z",
     "start_time": "2021-03-05T01:16:34.361258Z"
    }
   },
   "outputs": [],
   "source": [
    "b.flat??"
   ]
  },
  {
   "cell_type": "code",
   "execution_count": 58,
   "metadata": {
    "ExecuteTime": {
     "end_time": "2021-03-05T01:15:45.407338Z",
     "start_time": "2021-03-05T01:15:45.402353Z"
    }
   },
   "outputs": [
    {
     "name": "stdout",
     "output_type": "stream",
     "text": [
      "0 1 2 3 4 5 6 7 8 9 10 11 12 13 14 15 16 17 18 19 20 21 22 23 "
     ]
    }
   ],
   "source": [
    "for item in b.flat:\n",
    "    print(item, end=' ')"
   ]
  },
  {
   "cell_type": "markdown",
   "metadata": {},
   "source": [
    "## 3.2 두 배열을 쌓아 합치기\n",
    "**- vstack(tup) : 아래에 추가하는 방식으로 쌓아서 합침.  * 반드시 tup(튜플)** <br>\n",
    "**- hstack(tup) : 옆으로 추가하는 방식으로 쌓아서 합침. * 반드시 tup(튜플)** <br>\n",
    "**- dstack(tup) : 마지막 축(열)을 쌓아 합침. 0열들 끼리 쌓고, 1열끼리 쌓고.** <br>"
   ]
  },
  {
   "cell_type": "code",
   "execution_count": 64,
   "metadata": {
    "ExecuteTime": {
     "end_time": "2021-03-05T01:34:24.602346Z",
     "start_time": "2021-03-05T01:34:24.598357Z"
    }
   },
   "outputs": [
    {
     "data": {
      "text/plain": [
       "array([[[ 0,  1,  2,  3],\n",
       "        [ 4,  5,  6,  7],\n",
       "        [ 8,  9, 10, 11]],\n",
       "\n",
       "       [[12, 13, 14, 15],\n",
       "        [16, 17, 18, 19],\n",
       "        [20, 21, 22, 23]]])"
      ]
     },
     "execution_count": 64,
     "metadata": {},
     "output_type": "execute_result"
    }
   ],
   "source": [
    "c = np.arange(24).reshape(2,3,4)\n",
    "c"
   ]
  },
  {
   "cell_type": "code",
   "execution_count": 66,
   "metadata": {
    "ExecuteTime": {
     "end_time": "2021-03-05T01:35:02.087012Z",
     "start_time": "2021-03-05T01:35:02.083022Z"
    }
   },
   "outputs": [],
   "source": [
    "a, b = c[0], c[1] # 0면 = a , 1면 = b"
   ]
  },
  {
   "cell_type": "code",
   "execution_count": 67,
   "metadata": {
    "ExecuteTime": {
     "end_time": "2021-03-05T01:35:09.273128Z",
     "start_time": "2021-03-05T01:35:09.268141Z"
    }
   },
   "outputs": [
    {
     "data": {
      "text/plain": [
       "array([[ 0,  1,  2,  3],\n",
       "       [ 4,  5,  6,  7],\n",
       "       [ 8,  9, 10, 11]])"
      ]
     },
     "execution_count": 67,
     "metadata": {},
     "output_type": "execute_result"
    }
   ],
   "source": [
    "a"
   ]
  },
  {
   "cell_type": "code",
   "execution_count": 68,
   "metadata": {
    "ExecuteTime": {
     "end_time": "2021-03-05T01:35:10.001061Z",
     "start_time": "2021-03-05T01:35:09.996062Z"
    }
   },
   "outputs": [
    {
     "data": {
      "text/plain": [
       "array([[12, 13, 14, 15],\n",
       "       [16, 17, 18, 19],\n",
       "       [20, 21, 22, 23]])"
      ]
     },
     "execution_count": 68,
     "metadata": {},
     "output_type": "execute_result"
    }
   ],
   "source": [
    "b"
   ]
  },
  {
   "cell_type": "code",
   "execution_count": 71,
   "metadata": {
    "ExecuteTime": {
     "end_time": "2021-03-05T01:36:59.991576Z",
     "start_time": "2021-03-05T01:36:59.986590Z"
    }
   },
   "outputs": [
    {
     "data": {
      "text/plain": [
       "array([[ 0,  1,  2,  3],\n",
       "       [ 4,  5,  6,  7],\n",
       "       [ 8,  9, 10, 11],\n",
       "       [12, 13, 14, 15],\n",
       "       [16, 17, 18, 19],\n",
       "       [20, 21, 22, 23]])"
      ]
     },
     "execution_count": 71,
     "metadata": {},
     "output_type": "execute_result"
    }
   ],
   "source": [
    "np.vstack( (a,b) ) # 수직쌓기. (튜플만 들어감)"
   ]
  },
  {
   "cell_type": "code",
   "execution_count": 73,
   "metadata": {
    "ExecuteTime": {
     "end_time": "2021-03-05T01:37:24.902180Z",
     "start_time": "2021-03-05T01:37:24.886559Z"
    }
   },
   "outputs": [
    {
     "data": {
      "text/plain": [
       "array([[ 0,  1,  2,  3, 12, 13, 14, 15],\n",
       "       [ 4,  5,  6,  7, 16, 17, 18, 19],\n",
       "       [ 8,  9, 10, 11, 20, 21, 22, 23]])"
      ]
     },
     "execution_count": 73,
     "metadata": {},
     "output_type": "execute_result"
    }
   ],
   "source": [
    "np.hstack( (a,b) ) #수평(열) 합치기"
   ]
  },
  {
   "cell_type": "code",
   "execution_count": 75,
   "metadata": {
    "ExecuteTime": {
     "end_time": "2021-03-05T01:38:54.432066Z",
     "start_time": "2021-03-05T01:38:54.427079Z"
    }
   },
   "outputs": [
    {
     "data": {
      "text/plain": [
       "array([[[ 0, 12],\n",
       "        [ 1, 13],\n",
       "        [ 2, 14],\n",
       "        [ 3, 15]],\n",
       "\n",
       "       [[ 4, 16],\n",
       "        [ 5, 17],\n",
       "        [ 6, 18],\n",
       "        [ 7, 19]],\n",
       "\n",
       "       [[ 8, 20],\n",
       "        [ 9, 21],\n",
       "        [10, 22],\n",
       "        [11, 23]]])"
      ]
     },
     "execution_count": 75,
     "metadata": {},
     "output_type": "execute_result"
    }
   ],
   "source": [
    "np.dstack((a,b)) #0열끼리, 0면에, 1열끼리 1면, 2열끼리 2면 ~~"
   ]
  },
  {
   "cell_type": "markdown",
   "metadata": {},
   "source": [
    "**- column_stack(tup) : 1차원 배열을 열단위로 배열하여 2차원 배열로 만든다.** "
   ]
  },
  {
   "cell_type": "code",
   "execution_count": 76,
   "metadata": {
    "ExecuteTime": {
     "end_time": "2021-03-05T01:42:40.784259Z",
     "start_time": "2021-03-05T01:42:40.778275Z"
    }
   },
   "outputs": [
    {
     "data": {
      "text/plain": [
       "array([[ 1,  5,  9],\n",
       "       [ 2,  6, 10],\n",
       "       [ 3,  7, 11],\n",
       "       [ 4,  8, 12]])"
      ]
     },
     "execution_count": 76,
     "metadata": {},
     "output_type": "execute_result"
    }
   ],
   "source": [
    "a = np.array([1,2,3,4])\n",
    "b = np.array([5,6,7,8])\n",
    "c = np.array([9,10,11,12])\n",
    "np.column_stack( (a,b,c) )"
   ]
  },
  {
   "cell_type": "code",
   "execution_count": 77,
   "metadata": {
    "ExecuteTime": {
     "end_time": "2021-03-05T01:43:53.158877Z",
     "start_time": "2021-03-05T01:43:53.154912Z"
    }
   },
   "outputs": [
    {
     "data": {
      "text/plain": [
       "array([[1, 2, 3, 4],\n",
       "       [5, 6, 7, 8]])"
      ]
     },
     "execution_count": 77,
     "metadata": {},
     "output_type": "execute_result"
    }
   ],
   "source": [
    "np.vstack( (a,b) )"
   ]
  },
  {
   "cell_type": "code",
   "execution_count": 78,
   "metadata": {
    "ExecuteTime": {
     "end_time": "2021-03-05T01:44:14.414836Z",
     "start_time": "2021-03-05T01:44:14.409850Z"
    }
   },
   "outputs": [
    {
     "data": {
      "text/plain": [
       "array([1, 2, 3, 4, 5, 6, 7, 8])"
      ]
     },
     "execution_count": 78,
     "metadata": {},
     "output_type": "execute_result"
    }
   ],
   "source": [
    "np.hstack( (a,b) )"
   ]
  },
  {
   "cell_type": "code",
   "execution_count": 79,
   "metadata": {
    "ExecuteTime": {
     "end_time": "2021-03-05T01:46:07.431362Z",
     "start_time": "2021-03-05T01:46:07.426375Z"
    }
   },
   "outputs": [
    {
     "data": {
      "text/plain": [
       "array([[1],\n",
       "       [2],\n",
       "       [3],\n",
       "       [4]])"
      ]
     },
     "execution_count": 79,
     "metadata": {},
     "output_type": "execute_result"
    }
   ],
   "source": [
    "a[:,np.newaxis]"
   ]
  },
  {
   "cell_type": "code",
   "execution_count": 82,
   "metadata": {
    "ExecuteTime": {
     "end_time": "2021-03-05T01:48:37.798786Z",
     "start_time": "2021-03-05T01:48:37.793781Z"
    }
   },
   "outputs": [
    {
     "data": {
      "text/plain": [
       "array([[ 1,  5,  9],\n",
       "       [ 2,  6, 10],\n",
       "       [ 3,  7, 11],\n",
       "       [ 4,  8, 12]])"
      ]
     },
     "execution_count": 82,
     "metadata": {},
     "output_type": "execute_result"
    }
   ],
   "source": [
    "np.hstack((a[:, np.newaxis], b[:, np.newaxis], c[:, np.newaxis]))\n",
    "# np.column_stack( (a,b) ) 와 같다."
   ]
  },
  {
   "cell_type": "code",
   "execution_count": 81,
   "metadata": {
    "ExecuteTime": {
     "end_time": "2021-03-05T01:48:34.750517Z",
     "start_time": "2021-03-05T01:48:34.745552Z"
    }
   },
   "outputs": [
    {
     "data": {
      "text/plain": [
       "array([[ 1,  5,  9],\n",
       "       [ 2,  6, 10],\n",
       "       [ 3,  7, 11],\n",
       "       [ 4,  8, 12]])"
      ]
     },
     "execution_count": 81,
     "metadata": {},
     "output_type": "execute_result"
    }
   ],
   "source": [
    "np.column_stack( (a,b,c) )"
   ]
  },
  {
   "cell_type": "markdown",
   "metadata": {},
   "source": [
    "**- row_stack(tup) : vstack() 과 같음. 행단위로 쌓아준다.**"
   ]
  },
  {
   "cell_type": "code",
   "execution_count": 83,
   "metadata": {
    "ExecuteTime": {
     "end_time": "2021-03-05T01:50:09.679294Z",
     "start_time": "2021-03-05T01:50:09.674307Z"
    }
   },
   "outputs": [
    {
     "data": {
      "text/plain": [
       "array([[ 1,  2,  3,  4],\n",
       "       [ 5,  6,  7,  8],\n",
       "       [ 9, 10, 11, 12]])"
      ]
     },
     "execution_count": 83,
     "metadata": {},
     "output_type": "execute_result"
    }
   ],
   "source": [
    "np.row_stack( (a,b,c) )"
   ]
  },
  {
   "cell_type": "code",
   "execution_count": 84,
   "metadata": {
    "ExecuteTime": {
     "end_time": "2021-03-05T01:50:33.032948Z",
     "start_time": "2021-03-05T01:50:33.027962Z"
    }
   },
   "outputs": [
    {
     "data": {
      "text/plain": [
       "array([[ 1,  2,  3,  4],\n",
       "       [ 5,  6,  7,  8],\n",
       "       [ 9, 10, 11, 12]])"
      ]
     },
     "execution_count": 84,
     "metadata": {},
     "output_type": "execute_result"
    }
   ],
   "source": [
    "np.vstack( (a,b,c) )"
   ]
  },
  {
   "cell_type": "markdown",
   "metadata": {},
   "source": [
    "**- stack(arr_tup, axis = 0) : axis 속성에 따라 넘파이 배열을 합친다.** <br>\n",
    "**- arr_tup : 합칠 배열의 모음 (어레이튜플.)** <br>\n",
    "**- axis =0 : 첫번째 차원 , axis = -1 이면 마지막 차원이 된다.** <br>"
   ]
  },
  {
   "cell_type": "code",
   "execution_count": 85,
   "metadata": {
    "ExecuteTime": {
     "end_time": "2021-03-05T01:56:03.698533Z",
     "start_time": "2021-03-05T01:56:03.693578Z"
    }
   },
   "outputs": [
    {
     "data": {
      "text/plain": [
       "array([[ 0,  1,  2,  3],\n",
       "       [ 4,  5,  6,  7],\n",
       "       [ 8,  9, 10, 11]])"
      ]
     },
     "execution_count": 85,
     "metadata": {},
     "output_type": "execute_result"
    }
   ],
   "source": [
    "a = np.arange(12).reshape(3,4)\n",
    "a"
   ]
  },
  {
   "cell_type": "code",
   "execution_count": 86,
   "metadata": {
    "ExecuteTime": {
     "end_time": "2021-03-05T01:56:20.310625Z",
     "start_time": "2021-03-05T01:56:20.305620Z"
    }
   },
   "outputs": [
    {
     "data": {
      "text/plain": [
       "array([[12, 13, 14, 15],\n",
       "       [16, 17, 18, 19],\n",
       "       [20, 21, 22, 23]])"
      ]
     },
     "execution_count": 86,
     "metadata": {},
     "output_type": "execute_result"
    }
   ],
   "source": [
    "b = np.arange(12, 24).reshape(3,4)\n",
    "b"
   ]
  },
  {
   "cell_type": "code",
   "execution_count": 89,
   "metadata": {
    "ExecuteTime": {
     "end_time": "2021-03-05T01:58:14.297511Z",
     "start_time": "2021-03-05T01:58:14.281888Z"
    }
   },
   "outputs": [
    {
     "data": {
      "text/plain": [
       "array([[[ 0,  1,  2,  3],\n",
       "        [ 4,  5,  6,  7],\n",
       "        [ 8,  9, 10, 11]],\n",
       "\n",
       "       [[12, 13, 14, 15],\n",
       "        [16, 17, 18, 19],\n",
       "        [20, 21, 22, 23]]])"
      ]
     },
     "execution_count": 89,
     "metadata": {},
     "output_type": "execute_result"
    }
   ],
   "source": [
    "np.stack( (a,b), axis=0 ) # a,b를 차원이 다르게 합친다.(면으로 합침) 결국 2면이 된다."
   ]
  },
  {
   "cell_type": "code",
   "execution_count": 91,
   "metadata": {
    "ExecuteTime": {
     "end_time": "2021-03-05T01:59:32.568015Z",
     "start_time": "2021-03-05T01:59:32.563027Z"
    }
   },
   "outputs": [
    {
     "data": {
      "text/plain": [
       "array([[[ 0,  1,  2,  3],\n",
       "        [12, 13, 14, 15]],\n",
       "\n",
       "       [[ 4,  5,  6,  7],\n",
       "        [16, 17, 18, 19]],\n",
       "\n",
       "       [[ 8,  9, 10, 11],\n",
       "        [20, 21, 22, 23]]])"
      ]
     },
     "execution_count": 91,
     "metadata": {},
     "output_type": "execute_result"
    }
   ],
   "source": [
    "np.stack( (a,b),axis=1 ) # a,b를 차원이 다르게 행끼리 합침."
   ]
  },
  {
   "cell_type": "code",
   "execution_count": 93,
   "metadata": {
    "ExecuteTime": {
     "end_time": "2021-03-05T02:00:15.344991Z",
     "start_time": "2021-03-05T02:00:15.339006Z"
    }
   },
   "outputs": [
    {
     "data": {
      "text/plain": [
       "array([[[ 0, 12],\n",
       "        [ 1, 13],\n",
       "        [ 2, 14],\n",
       "        [ 3, 15]],\n",
       "\n",
       "       [[ 4, 16],\n",
       "        [ 5, 17],\n",
       "        [ 6, 18],\n",
       "        [ 7, 19]],\n",
       "\n",
       "       [[ 8, 20],\n",
       "        [ 9, 21],\n",
       "        [10, 22],\n",
       "        [11, 23]]])"
      ]
     },
     "execution_count": 93,
     "metadata": {},
     "output_type": "execute_result"
    }
   ],
   "source": [
    "np.stack( (a,b),axis=2 ) # 행들을 열로 바꾸고 열끼리 합친다."
   ]
  },
  {
   "cell_type": "code",
   "execution_count": 94,
   "metadata": {
    "ExecuteTime": {
     "end_time": "2021-03-05T02:00:49.150719Z",
     "start_time": "2021-03-05T02:00:49.145731Z"
    }
   },
   "outputs": [
    {
     "data": {
      "text/plain": [
       "array([[[ 0, 12],\n",
       "        [ 1, 13],\n",
       "        [ 2, 14],\n",
       "        [ 3, 15]],\n",
       "\n",
       "       [[ 4, 16],\n",
       "        [ 5, 17],\n",
       "        [ 6, 18],\n",
       "        [ 7, 19]],\n",
       "\n",
       "       [[ 8, 20],\n",
       "        [ 9, 21],\n",
       "        [10, 22],\n",
       "        [11, 23]]])"
      ]
     },
     "execution_count": 94,
     "metadata": {},
     "output_type": "execute_result"
    }
   ],
   "source": [
    "np.stack( (a,b),axis = -1 ) # 마지막 차원으로 합친다."
   ]
  },
  {
   "cell_type": "markdown",
   "metadata": {},
   "source": [
    "## 3.3 r_, c_ "
   ]
  },
  {
   "cell_type": "code",
   "execution_count": 95,
   "metadata": {
    "ExecuteTime": {
     "end_time": "2021-03-05T02:03:11.118057Z",
     "start_time": "2021-03-05T02:03:11.114069Z"
    }
   },
   "outputs": [],
   "source": [
    "a = np.array([1,2,3,4])\n",
    "b = np.array([5,6,7,8])\n",
    "c = np.array([9,10,11,12])"
   ]
  },
  {
   "cell_type": "code",
   "execution_count": 97,
   "metadata": {
    "ExecuteTime": {
     "end_time": "2021-03-05T02:03:41.998536Z",
     "start_time": "2021-03-05T02:03:41.993549Z"
    }
   },
   "outputs": [
    {
     "data": {
      "text/plain": [
       "array([ 1,  2,  3,  4,  5,  6,  7,  8,  9, 10, 11, 12])"
      ]
     },
     "execution_count": 97,
     "metadata": {},
     "output_type": "execute_result"
    }
   ],
   "source": [
    "np.r_[a,b,c]"
   ]
  },
  {
   "cell_type": "code",
   "execution_count": 98,
   "metadata": {
    "ExecuteTime": {
     "end_time": "2021-03-05T02:03:52.024191Z",
     "start_time": "2021-03-05T02:03:52.019204Z"
    }
   },
   "outputs": [
    {
     "data": {
      "text/plain": [
       "array([[ 1,  5,  9],\n",
       "       [ 2,  6, 10],\n",
       "       [ 3,  7, 11],\n",
       "       [ 4,  8, 12]])"
      ]
     },
     "execution_count": 98,
     "metadata": {},
     "output_type": "execute_result"
    }
   ],
   "source": [
    "np.c_[a,b,c]"
   ]
  },
  {
   "cell_type": "code",
   "execution_count": 99,
   "metadata": {
    "ExecuteTime": {
     "end_time": "2021-03-05T02:04:48.471117Z",
     "start_time": "2021-03-05T02:04:48.466118Z"
    }
   },
   "outputs": [
    {
     "data": {
      "text/plain": [
       "array([[ 1,  2,  3,  4],\n",
       "       [ 5,  6,  7,  8],\n",
       "       [ 9, 10, 11, 12]])"
      ]
     },
     "execution_count": 99,
     "metadata": {},
     "output_type": "execute_result"
    }
   ],
   "source": [
    "# 2차원 으로\n",
    "np.r_[[a],[b],[c]]"
   ]
  },
  {
   "cell_type": "markdown",
   "metadata": {},
   "source": [
    "## 3.4 하나의 배열을 여러개 작은 배열로 분할하기\n",
    "**- hsplit(arry, indices_or_section) : 두번째 축(2차원의 경우 세로축)을 따라 분할** <br>\n",
    "**- vsplit(arry, indices_or_section) : 첫번째 축(2차원의 경우 가로축)을 따라 분할** <br>\n",
    "**- dsplit(arry, indices_or_section) : 3번째 차원을 나눔** <br>\n",
    "* arry : 분할할 배열\n",
    "* indices_or_section : 정수 또는 1차원 배열 형식 -> 정수의 경우 분할할 배열의 수, \n",
    "                        [2,5,7] 분할 되어질 인덱스를 의미"
   ]
  },
  {
   "cell_type": "code",
   "execution_count": 103,
   "metadata": {
    "ExecuteTime": {
     "end_time": "2021-03-05T02:12:47.504362Z",
     "start_time": "2021-03-05T02:12:47.499375Z"
    }
   },
   "outputs": [
    {
     "data": {
      "text/plain": [
       "array([[ 0,  1,  2,  3],\n",
       "       [ 4,  5,  6,  7],\n",
       "       [ 8,  9, 10, 11]])"
      ]
     },
     "execution_count": 103,
     "metadata": {},
     "output_type": "execute_result"
    }
   ],
   "source": [
    "a = np.arange(12).reshape(3,4)\n",
    "a"
   ]
  },
  {
   "cell_type": "code",
   "execution_count": 119,
   "metadata": {
    "ExecuteTime": {
     "end_time": "2021-03-05T02:17:21.785871Z",
     "start_time": "2021-03-05T02:17:21.780884Z"
    }
   },
   "outputs": [
    {
     "data": {
      "text/plain": [
       "[array([[0, 1, 2, 3]]), array([[4, 5, 6, 7]]), array([[ 8,  9, 10, 11]])]"
      ]
     },
     "execution_count": 119,
     "metadata": {},
     "output_type": "execute_result"
    }
   ],
   "source": [
    "a_vsplit = np.vsplit(a, 3) #분할된것을 리스트로 출력.\n",
    "a_vsplit # 가로 축을 따라서 3개의 배열로 출력."
   ]
  },
  {
   "cell_type": "code",
   "execution_count": 108,
   "metadata": {
    "ExecuteTime": {
     "end_time": "2021-03-05T02:14:23.199239Z",
     "start_time": "2021-03-05T02:14:23.194247Z"
    }
   },
   "outputs": [
    {
     "data": {
      "text/plain": [
       "list"
      ]
     },
     "execution_count": 108,
     "metadata": {},
     "output_type": "execute_result"
    }
   ],
   "source": [
    "type(a_vsplit)"
   ]
  },
  {
   "cell_type": "code",
   "execution_count": 109,
   "metadata": {
    "ExecuteTime": {
     "end_time": "2021-03-05T02:14:40.678159Z",
     "start_time": "2021-03-05T02:14:40.673160Z"
    }
   },
   "outputs": [
    {
     "data": {
      "text/plain": [
       "array([[0, 1, 2, 3]])"
      ]
     },
     "execution_count": 109,
     "metadata": {},
     "output_type": "execute_result"
    }
   ],
   "source": [
    "a_vsplit[0]"
   ]
  },
  {
   "cell_type": "code",
   "execution_count": 106,
   "metadata": {
    "ExecuteTime": {
     "end_time": "2021-03-05T02:13:33.381577Z",
     "start_time": "2021-03-05T02:13:33.366619Z"
    }
   },
   "outputs": [
    {
     "ename": "ValueError",
     "evalue": "array split does not result in an equal division",
     "output_type": "error",
     "traceback": [
      "\u001b[1;31m---------------------------------------------------------------------------\u001b[0m",
      "\u001b[1;31mTypeError\u001b[0m                                 Traceback (most recent call last)",
      "\u001b[1;32m~\\anaconda3\\lib\\site-packages\\numpy\\lib\\shape_base.py\u001b[0m in \u001b[0;36msplit\u001b[1;34m(ary, indices_or_sections, axis)\u001b[0m\n\u001b[0;32m    866\u001b[0m     \u001b[1;32mtry\u001b[0m\u001b[1;33m:\u001b[0m\u001b[1;33m\u001b[0m\u001b[1;33m\u001b[0m\u001b[0m\n\u001b[1;32m--> 867\u001b[1;33m         \u001b[0mlen\u001b[0m\u001b[1;33m(\u001b[0m\u001b[0mindices_or_sections\u001b[0m\u001b[1;33m)\u001b[0m\u001b[1;33m\u001b[0m\u001b[1;33m\u001b[0m\u001b[0m\n\u001b[0m\u001b[0;32m    868\u001b[0m     \u001b[1;32mexcept\u001b[0m \u001b[0mTypeError\u001b[0m\u001b[1;33m:\u001b[0m\u001b[1;33m\u001b[0m\u001b[1;33m\u001b[0m\u001b[0m\n",
      "\u001b[1;31mTypeError\u001b[0m: object of type 'int' has no len()",
      "\nDuring handling of the above exception, another exception occurred:\n",
      "\u001b[1;31mValueError\u001b[0m                                Traceback (most recent call last)",
      "\u001b[1;32m<ipython-input-106-ded50e1e63a8>\u001b[0m in \u001b[0;36m<module>\u001b[1;34m\u001b[0m\n\u001b[1;32m----> 1\u001b[1;33m \u001b[0mnp\u001b[0m\u001b[1;33m.\u001b[0m\u001b[0mvsplit\u001b[0m\u001b[1;33m(\u001b[0m\u001b[0ma\u001b[0m\u001b[1;33m,\u001b[0m \u001b[1;36m2\u001b[0m\u001b[1;33m)\u001b[0m \u001b[1;31m# 에러.\u001b[0m\u001b[1;33m\u001b[0m\u001b[1;33m\u001b[0m\u001b[0m\n\u001b[0m",
      "\u001b[1;32m<__array_function__ internals>\u001b[0m in \u001b[0;36mvsplit\u001b[1;34m(*args, **kwargs)\u001b[0m\n",
      "\u001b[1;32m~\\anaconda3\\lib\\site-packages\\numpy\\lib\\shape_base.py\u001b[0m in \u001b[0;36mvsplit\u001b[1;34m(ary, indices_or_sections)\u001b[0m\n\u001b[0;32m    989\u001b[0m     \u001b[1;32mif\u001b[0m \u001b[0m_nx\u001b[0m\u001b[1;33m.\u001b[0m\u001b[0mndim\u001b[0m\u001b[1;33m(\u001b[0m\u001b[0mary\u001b[0m\u001b[1;33m)\u001b[0m \u001b[1;33m<\u001b[0m \u001b[1;36m2\u001b[0m\u001b[1;33m:\u001b[0m\u001b[1;33m\u001b[0m\u001b[1;33m\u001b[0m\u001b[0m\n\u001b[0;32m    990\u001b[0m         \u001b[1;32mraise\u001b[0m \u001b[0mValueError\u001b[0m\u001b[1;33m(\u001b[0m\u001b[1;34m'vsplit only works on arrays of 2 or more dimensions'\u001b[0m\u001b[1;33m)\u001b[0m\u001b[1;33m\u001b[0m\u001b[1;33m\u001b[0m\u001b[0m\n\u001b[1;32m--> 991\u001b[1;33m     \u001b[1;32mreturn\u001b[0m \u001b[0msplit\u001b[0m\u001b[1;33m(\u001b[0m\u001b[0mary\u001b[0m\u001b[1;33m,\u001b[0m \u001b[0mindices_or_sections\u001b[0m\u001b[1;33m,\u001b[0m \u001b[1;36m0\u001b[0m\u001b[1;33m)\u001b[0m\u001b[1;33m\u001b[0m\u001b[1;33m\u001b[0m\u001b[0m\n\u001b[0m\u001b[0;32m    992\u001b[0m \u001b[1;33m\u001b[0m\u001b[0m\n\u001b[0;32m    993\u001b[0m \u001b[1;33m\u001b[0m\u001b[0m\n",
      "\u001b[1;32m<__array_function__ internals>\u001b[0m in \u001b[0;36msplit\u001b[1;34m(*args, **kwargs)\u001b[0m\n",
      "\u001b[1;32m~\\anaconda3\\lib\\site-packages\\numpy\\lib\\shape_base.py\u001b[0m in \u001b[0;36msplit\u001b[1;34m(ary, indices_or_sections, axis)\u001b[0m\n\u001b[0;32m    870\u001b[0m         \u001b[0mN\u001b[0m \u001b[1;33m=\u001b[0m \u001b[0mary\u001b[0m\u001b[1;33m.\u001b[0m\u001b[0mshape\u001b[0m\u001b[1;33m[\u001b[0m\u001b[0maxis\u001b[0m\u001b[1;33m]\u001b[0m\u001b[1;33m\u001b[0m\u001b[1;33m\u001b[0m\u001b[0m\n\u001b[0;32m    871\u001b[0m         \u001b[1;32mif\u001b[0m \u001b[0mN\u001b[0m \u001b[1;33m%\u001b[0m \u001b[0msections\u001b[0m\u001b[1;33m:\u001b[0m\u001b[1;33m\u001b[0m\u001b[1;33m\u001b[0m\u001b[0m\n\u001b[1;32m--> 872\u001b[1;33m             raise ValueError(\n\u001b[0m\u001b[0;32m    873\u001b[0m                 'array split does not result in an equal division')\n\u001b[0;32m    874\u001b[0m     \u001b[1;32mreturn\u001b[0m \u001b[0marray_split\u001b[0m\u001b[1;33m(\u001b[0m\u001b[0mary\u001b[0m\u001b[1;33m,\u001b[0m \u001b[0mindices_or_sections\u001b[0m\u001b[1;33m,\u001b[0m \u001b[0maxis\u001b[0m\u001b[1;33m)\u001b[0m\u001b[1;33m\u001b[0m\u001b[1;33m\u001b[0m\u001b[0m\n",
      "\u001b[1;31mValueError\u001b[0m: array split does not result in an equal division"
     ]
    }
   ],
   "source": [
    "np.vsplit(a, 2) # 에러."
   ]
  },
  {
   "cell_type": "code",
   "execution_count": 116,
   "metadata": {
    "ExecuteTime": {
     "end_time": "2021-03-05T02:16:20.423503Z",
     "start_time": "2021-03-05T02:16:20.417518Z"
    }
   },
   "outputs": [
    {
     "data": {
      "text/plain": [
       "[array([[0],\n",
       "        [4],\n",
       "        [8]]),\n",
       " array([[1],\n",
       "        [5],\n",
       "        [9]]),\n",
       " array([[ 2],\n",
       "        [ 6],\n",
       "        [10]]),\n",
       " array([[ 3],\n",
       "        [ 7],\n",
       "        [11]])]"
      ]
     },
     "execution_count": 116,
     "metadata": {},
     "output_type": "execute_result"
    }
   ],
   "source": [
    "a_hsplit = np.hsplit(a, 4) # 세로 축을 따라 배열로.\n",
    "a_hsplit"
   ]
  },
  {
   "cell_type": "code",
   "execution_count": 117,
   "metadata": {
    "ExecuteTime": {
     "end_time": "2021-03-05T02:16:33.375259Z",
     "start_time": "2021-03-05T02:16:33.370273Z"
    }
   },
   "outputs": [
    {
     "data": {
      "text/plain": [
       "(3, 1)"
      ]
     },
     "execution_count": 117,
     "metadata": {},
     "output_type": "execute_result"
    }
   ],
   "source": [
    "a_hsplit[0].shape"
   ]
  },
  {
   "cell_type": "code",
   "execution_count": 121,
   "metadata": {
    "ExecuteTime": {
     "end_time": "2021-03-05T02:18:03.113548Z",
     "start_time": "2021-03-05T02:18:03.108562Z"
    }
   },
   "outputs": [
    {
     "data": {
      "text/plain": [
       "array([[[ 0,  1,  2,  3],\n",
       "        [ 4,  5,  6,  7],\n",
       "        [ 8,  9, 10, 11]],\n",
       "\n",
       "       [[12, 13, 14, 15],\n",
       "        [16, 17, 18, 19],\n",
       "        [20, 21, 22, 23]]])"
      ]
     },
     "execution_count": 121,
     "metadata": {},
     "output_type": "execute_result"
    }
   ],
   "source": [
    "b = np.arange(24).reshape(2,3,4)\n",
    "b"
   ]
  },
  {
   "cell_type": "code",
   "execution_count": 126,
   "metadata": {
    "ExecuteTime": {
     "end_time": "2021-03-05T02:21:43.051275Z",
     "start_time": "2021-03-05T02:21:43.046310Z"
    }
   },
   "outputs": [
    {
     "data": {
      "text/plain": [
       "[array([[[ 0,  1,  2,  3]],\n",
       " \n",
       "        [[12, 13, 14, 15]]]),\n",
       " array([[[ 4,  5,  6,  7]],\n",
       " \n",
       "        [[16, 17, 18, 19]]]),\n",
       " array([[[ 8,  9, 10, 11]],\n",
       " \n",
       "        [[20, 21, 22, 23]]])]"
      ]
     },
     "execution_count": 126,
     "metadata": {},
     "output_type": "execute_result"
    }
   ],
   "source": [
    "b_split = np.hsplit(b, 3) # 두번째 축(행)을 이용해서 split\n",
    "b_split                   # 3차원배열 b를 3개의 3차원 배열로 split"
   ]
  },
  {
   "cell_type": "code",
   "execution_count": 125,
   "metadata": {
    "ExecuteTime": {
     "end_time": "2021-03-05T02:20:34.502736Z",
     "start_time": "2021-03-05T02:20:34.497750Z"
    }
   },
   "outputs": [
    {
     "data": {
      "text/plain": [
       "(2, 1, 4)"
      ]
     },
     "execution_count": 125,
     "metadata": {},
     "output_type": "execute_result"
    }
   ],
   "source": [
    "b_split[0].shape"
   ]
  },
  {
   "cell_type": "code",
   "execution_count": 129,
   "metadata": {
    "ExecuteTime": {
     "end_time": "2021-03-05T02:35:52.253832Z",
     "start_time": "2021-03-05T02:35:52.248844Z"
    }
   },
   "outputs": [
    {
     "data": {
      "text/plain": [
       "[array([[[ 0,  1,  2,  3],\n",
       "         [ 4,  5,  6,  7],\n",
       "         [ 8,  9, 10, 11]]]),\n",
       " array([[[12, 13, 14, 15],\n",
       "         [16, 17, 18, 19],\n",
       "         [20, 21, 22, 23]]])]"
      ]
     },
     "execution_count": 129,
     "metadata": {},
     "output_type": "execute_result"
    }
   ],
   "source": [
    "b_vsplit = np.vsplit(b, 2) # 3차원 배열 b를 첫번째 축을 기반으로 나눠서 2개의 배열로 분할.\n",
    "b_vsplit"
   ]
  },
  {
   "cell_type": "code",
   "execution_count": 131,
   "metadata": {
    "ExecuteTime": {
     "end_time": "2021-03-05T02:37:02.216493Z",
     "start_time": "2021-03-05T02:37:02.211507Z"
    }
   },
   "outputs": [
    {
     "data": {
      "text/plain": [
       "(1, 3, 4)"
      ]
     },
     "execution_count": 131,
     "metadata": {},
     "output_type": "execute_result"
    }
   ],
   "source": [
    "b_vsplit[0].shape"
   ]
  },
  {
   "cell_type": "code",
   "execution_count": 139,
   "metadata": {
    "ExecuteTime": {
     "end_time": "2021-03-05T02:39:55.346537Z",
     "start_time": "2021-03-05T02:39:55.341550Z"
    }
   },
   "outputs": [
    {
     "data": {
      "text/plain": [
       "[array([[[ 0,  1],\n",
       "         [ 4,  5],\n",
       "         [ 8,  9]],\n",
       " \n",
       "        [[12, 13],\n",
       "         [16, 17],\n",
       "         [20, 21]]]),\n",
       " array([[[ 2,  3],\n",
       "         [ 6,  7],\n",
       "         [10, 11]],\n",
       " \n",
       "        [[14, 15],\n",
       "         [18, 19],\n",
       "         [22, 23]]])]"
      ]
     },
     "execution_count": 139,
     "metadata": {},
     "output_type": "execute_result"
    }
   ],
   "source": [
    "b_dsplit = np.dsplit(b, 2) # 3번째 차원을 기준으로 2개의 3차원 배열로 나눔\n",
    "b_dsplit # 0~9 와 12~21 사이가 떨어진 이유는 서로 면 이라서 떨어진것이다."
   ]
  },
  {
   "cell_type": "code",
   "execution_count": 140,
   "metadata": {
    "ExecuteTime": {
     "end_time": "2021-03-05T02:39:55.509104Z",
     "start_time": "2021-03-05T02:39:55.504116Z"
    }
   },
   "outputs": [
    {
     "data": {
      "text/plain": [
       "(2, 3, 2)"
      ]
     },
     "execution_count": 140,
     "metadata": {},
     "output_type": "execute_result"
    }
   ],
   "source": [
    "b_dsplit[0].shape"
   ]
  },
  {
   "cell_type": "markdown",
   "metadata": {},
   "source": [
    "**- split(arry, indices_or_section, axis=? )\n",
    " * axis= 0 : vsplit() 과 동일\n",
    " * axis= 1 : hsplit() 과 동일\n",
    " * axis= 2 : 3차원이상에서 동작하며, dsplit() 과 동일\n",
    " \n",
    "- 2개를 1개씩 나누거나 , 6개를 3개로 나누거나 딱딱 맞아야함.\n",
    "  6을 4로 나눠라 불가."
   ]
  },
  {
   "cell_type": "code",
   "execution_count": 141,
   "metadata": {
    "ExecuteTime": {
     "end_time": "2021-03-05T02:46:09.425026Z",
     "start_time": "2021-03-05T02:46:09.420039Z"
    }
   },
   "outputs": [
    {
     "data": {
      "text/plain": [
       "array([[ 0,  1,  2,  3,  4,  5,  6,  7,  8,  9],\n",
       "       [10, 11, 12, 13, 14, 15, 16, 17, 18, 19]])"
      ]
     },
     "execution_count": 141,
     "metadata": {},
     "output_type": "execute_result"
    }
   ],
   "source": [
    "a = np.arange(20).reshape(2,10)\n",
    "a"
   ]
  },
  {
   "cell_type": "code",
   "execution_count": 144,
   "metadata": {
    "ExecuteTime": {
     "end_time": "2021-03-05T02:48:56.172812Z",
     "start_time": "2021-03-05T02:48:56.160845Z"
    }
   },
   "outputs": [
    {
     "ename": "ValueError",
     "evalue": "array split does not result in an equal division",
     "output_type": "error",
     "traceback": [
      "\u001b[1;31m---------------------------------------------------------------------------\u001b[0m",
      "\u001b[1;31mTypeError\u001b[0m                                 Traceback (most recent call last)",
      "\u001b[1;32m~\\anaconda3\\lib\\site-packages\\numpy\\lib\\shape_base.py\u001b[0m in \u001b[0;36msplit\u001b[1;34m(ary, indices_or_sections, axis)\u001b[0m\n\u001b[0;32m    866\u001b[0m     \u001b[1;32mtry\u001b[0m\u001b[1;33m:\u001b[0m\u001b[1;33m\u001b[0m\u001b[1;33m\u001b[0m\u001b[0m\n\u001b[1;32m--> 867\u001b[1;33m         \u001b[0mlen\u001b[0m\u001b[1;33m(\u001b[0m\u001b[0mindices_or_sections\u001b[0m\u001b[1;33m)\u001b[0m\u001b[1;33m\u001b[0m\u001b[1;33m\u001b[0m\u001b[0m\n\u001b[0m\u001b[0;32m    868\u001b[0m     \u001b[1;32mexcept\u001b[0m \u001b[0mTypeError\u001b[0m\u001b[1;33m:\u001b[0m\u001b[1;33m\u001b[0m\u001b[1;33m\u001b[0m\u001b[0m\n",
      "\u001b[1;31mTypeError\u001b[0m: object of type 'int' has no len()",
      "\nDuring handling of the above exception, another exception occurred:\n",
      "\u001b[1;31mValueError\u001b[0m                                Traceback (most recent call last)",
      "\u001b[1;32m<ipython-input-144-af5bc89a22e3>\u001b[0m in \u001b[0;36m<module>\u001b[1;34m\u001b[0m\n\u001b[1;32m----> 1\u001b[1;33m \u001b[0mnp\u001b[0m\u001b[1;33m.\u001b[0m\u001b[0msplit\u001b[0m\u001b[1;33m(\u001b[0m\u001b[0ma\u001b[0m\u001b[1;33m,\u001b[0m \u001b[1;36m3\u001b[0m\u001b[1;33m,\u001b[0m \u001b[0maxis\u001b[0m\u001b[1;33m=\u001b[0m\u001b[1;36m1\u001b[0m\u001b[1;33m)\u001b[0m \u001b[1;31m#에러. 아래와 같은 방법으로 해결가능.\u001b[0m\u001b[1;33m\u001b[0m\u001b[1;33m\u001b[0m\u001b[0m\n\u001b[0m",
      "\u001b[1;32m<__array_function__ internals>\u001b[0m in \u001b[0;36msplit\u001b[1;34m(*args, **kwargs)\u001b[0m\n",
      "\u001b[1;32m~\\anaconda3\\lib\\site-packages\\numpy\\lib\\shape_base.py\u001b[0m in \u001b[0;36msplit\u001b[1;34m(ary, indices_or_sections, axis)\u001b[0m\n\u001b[0;32m    870\u001b[0m         \u001b[0mN\u001b[0m \u001b[1;33m=\u001b[0m \u001b[0mary\u001b[0m\u001b[1;33m.\u001b[0m\u001b[0mshape\u001b[0m\u001b[1;33m[\u001b[0m\u001b[0maxis\u001b[0m\u001b[1;33m]\u001b[0m\u001b[1;33m\u001b[0m\u001b[1;33m\u001b[0m\u001b[0m\n\u001b[0;32m    871\u001b[0m         \u001b[1;32mif\u001b[0m \u001b[0mN\u001b[0m \u001b[1;33m%\u001b[0m \u001b[0msections\u001b[0m\u001b[1;33m:\u001b[0m\u001b[1;33m\u001b[0m\u001b[1;33m\u001b[0m\u001b[0m\n\u001b[1;32m--> 872\u001b[1;33m             raise ValueError(\n\u001b[0m\u001b[0;32m    873\u001b[0m                 'array split does not result in an equal division')\n\u001b[0;32m    874\u001b[0m     \u001b[1;32mreturn\u001b[0m \u001b[0marray_split\u001b[0m\u001b[1;33m(\u001b[0m\u001b[0mary\u001b[0m\u001b[1;33m,\u001b[0m \u001b[0mindices_or_sections\u001b[0m\u001b[1;33m,\u001b[0m \u001b[0maxis\u001b[0m\u001b[1;33m)\u001b[0m\u001b[1;33m\u001b[0m\u001b[1;33m\u001b[0m\u001b[0m\n",
      "\u001b[1;31mValueError\u001b[0m: array split does not result in an equal division"
     ]
    }
   ],
   "source": [
    "np.split(a, 3, axis=1) #에러. 아래와 같은 방법으로 해결가능."
   ]
  },
  {
   "cell_type": "code",
   "execution_count": 143,
   "metadata": {
    "ExecuteTime": {
     "end_time": "2021-03-05T02:48:30.223331Z",
     "start_time": "2021-03-05T02:48:30.218326Z"
    }
   },
   "outputs": [
    {
     "data": {
      "text/plain": [
       "[array([[ 0,  1,  2],\n",
       "        [10, 11, 12]]),\n",
       " array([[ 3,  4,  5],\n",
       "        [13, 14, 15]]),\n",
       " array([[ 6,  7,  8,  9],\n",
       "        [16, 17, 18, 19]])]"
      ]
     },
     "execution_count": 143,
     "metadata": {},
     "output_type": "execute_result"
    }
   ],
   "source": [
    "np.split(a, [3, 6], axis=1) # [리스트] or (튜플) 가능.\n",
    "# [3,6] 나누고자 하는 인덱스."
   ]
  },
  {
   "cell_type": "code",
   "execution_count": 147,
   "metadata": {
    "ExecuteTime": {
     "end_time": "2021-03-05T02:49:56.304263Z",
     "start_time": "2021-03-05T02:49:56.289312Z"
    }
   },
   "outputs": [
    {
     "ename": "ValueError",
     "evalue": "array split does not result in an equal division",
     "output_type": "error",
     "traceback": [
      "\u001b[1;31m---------------------------------------------------------------------------\u001b[0m",
      "\u001b[1;31mTypeError\u001b[0m                                 Traceback (most recent call last)",
      "\u001b[1;32m~\\anaconda3\\lib\\site-packages\\numpy\\lib\\shape_base.py\u001b[0m in \u001b[0;36msplit\u001b[1;34m(ary, indices_or_sections, axis)\u001b[0m\n\u001b[0;32m    866\u001b[0m     \u001b[1;32mtry\u001b[0m\u001b[1;33m:\u001b[0m\u001b[1;33m\u001b[0m\u001b[1;33m\u001b[0m\u001b[0m\n\u001b[1;32m--> 867\u001b[1;33m         \u001b[0mlen\u001b[0m\u001b[1;33m(\u001b[0m\u001b[0mindices_or_sections\u001b[0m\u001b[1;33m)\u001b[0m\u001b[1;33m\u001b[0m\u001b[1;33m\u001b[0m\u001b[0m\n\u001b[0m\u001b[0;32m    868\u001b[0m     \u001b[1;32mexcept\u001b[0m \u001b[0mTypeError\u001b[0m\u001b[1;33m:\u001b[0m\u001b[1;33m\u001b[0m\u001b[1;33m\u001b[0m\u001b[0m\n",
      "\u001b[1;31mTypeError\u001b[0m: object of type 'int' has no len()",
      "\nDuring handling of the above exception, another exception occurred:\n",
      "\u001b[1;31mValueError\u001b[0m                                Traceback (most recent call last)",
      "\u001b[1;32m<ipython-input-147-3b1a69aaa378>\u001b[0m in \u001b[0;36m<module>\u001b[1;34m\u001b[0m\n\u001b[1;32m----> 1\u001b[1;33m \u001b[0mnp\u001b[0m\u001b[1;33m.\u001b[0m\u001b[0mhsplit\u001b[0m\u001b[1;33m(\u001b[0m\u001b[0ma\u001b[0m\u001b[1;33m,\u001b[0m \u001b[1;36m3\u001b[0m\u001b[1;33m)\u001b[0m \u001b[1;31m# 에러, 아래와 같은 방법으로 해결가능.\u001b[0m\u001b[1;33m\u001b[0m\u001b[1;33m\u001b[0m\u001b[0m\n\u001b[0m",
      "\u001b[1;32m<__array_function__ internals>\u001b[0m in \u001b[0;36mhsplit\u001b[1;34m(*args, **kwargs)\u001b[0m\n",
      "\u001b[1;32m~\\anaconda3\\lib\\site-packages\\numpy\\lib\\shape_base.py\u001b[0m in \u001b[0;36mhsplit\u001b[1;34m(ary, indices_or_sections)\u001b[0m\n\u001b[0;32m    938\u001b[0m         \u001b[1;32mraise\u001b[0m \u001b[0mValueError\u001b[0m\u001b[1;33m(\u001b[0m\u001b[1;34m'hsplit only works on arrays of 1 or more dimensions'\u001b[0m\u001b[1;33m)\u001b[0m\u001b[1;33m\u001b[0m\u001b[1;33m\u001b[0m\u001b[0m\n\u001b[0;32m    939\u001b[0m     \u001b[1;32mif\u001b[0m \u001b[0mary\u001b[0m\u001b[1;33m.\u001b[0m\u001b[0mndim\u001b[0m \u001b[1;33m>\u001b[0m \u001b[1;36m1\u001b[0m\u001b[1;33m:\u001b[0m\u001b[1;33m\u001b[0m\u001b[1;33m\u001b[0m\u001b[0m\n\u001b[1;32m--> 940\u001b[1;33m         \u001b[1;32mreturn\u001b[0m \u001b[0msplit\u001b[0m\u001b[1;33m(\u001b[0m\u001b[0mary\u001b[0m\u001b[1;33m,\u001b[0m \u001b[0mindices_or_sections\u001b[0m\u001b[1;33m,\u001b[0m \u001b[1;36m1\u001b[0m\u001b[1;33m)\u001b[0m\u001b[1;33m\u001b[0m\u001b[1;33m\u001b[0m\u001b[0m\n\u001b[0m\u001b[0;32m    941\u001b[0m     \u001b[1;32melse\u001b[0m\u001b[1;33m:\u001b[0m\u001b[1;33m\u001b[0m\u001b[1;33m\u001b[0m\u001b[0m\n\u001b[0;32m    942\u001b[0m         \u001b[1;32mreturn\u001b[0m \u001b[0msplit\u001b[0m\u001b[1;33m(\u001b[0m\u001b[0mary\u001b[0m\u001b[1;33m,\u001b[0m \u001b[0mindices_or_sections\u001b[0m\u001b[1;33m,\u001b[0m \u001b[1;36m0\u001b[0m\u001b[1;33m)\u001b[0m\u001b[1;33m\u001b[0m\u001b[1;33m\u001b[0m\u001b[0m\n",
      "\u001b[1;32m<__array_function__ internals>\u001b[0m in \u001b[0;36msplit\u001b[1;34m(*args, **kwargs)\u001b[0m\n",
      "\u001b[1;32m~\\anaconda3\\lib\\site-packages\\numpy\\lib\\shape_base.py\u001b[0m in \u001b[0;36msplit\u001b[1;34m(ary, indices_or_sections, axis)\u001b[0m\n\u001b[0;32m    870\u001b[0m         \u001b[0mN\u001b[0m \u001b[1;33m=\u001b[0m \u001b[0mary\u001b[0m\u001b[1;33m.\u001b[0m\u001b[0mshape\u001b[0m\u001b[1;33m[\u001b[0m\u001b[0maxis\u001b[0m\u001b[1;33m]\u001b[0m\u001b[1;33m\u001b[0m\u001b[1;33m\u001b[0m\u001b[0m\n\u001b[0;32m    871\u001b[0m         \u001b[1;32mif\u001b[0m \u001b[0mN\u001b[0m \u001b[1;33m%\u001b[0m \u001b[0msections\u001b[0m\u001b[1;33m:\u001b[0m\u001b[1;33m\u001b[0m\u001b[1;33m\u001b[0m\u001b[0m\n\u001b[1;32m--> 872\u001b[1;33m             raise ValueError(\n\u001b[0m\u001b[0;32m    873\u001b[0m                 'array split does not result in an equal division')\n\u001b[0;32m    874\u001b[0m     \u001b[1;32mreturn\u001b[0m \u001b[0marray_split\u001b[0m\u001b[1;33m(\u001b[0m\u001b[0mary\u001b[0m\u001b[1;33m,\u001b[0m \u001b[0mindices_or_sections\u001b[0m\u001b[1;33m,\u001b[0m \u001b[0maxis\u001b[0m\u001b[1;33m)\u001b[0m\u001b[1;33m\u001b[0m\u001b[1;33m\u001b[0m\u001b[0m\n",
      "\u001b[1;31mValueError\u001b[0m: array split does not result in an equal division"
     ]
    }
   ],
   "source": [
    "np.hsplit(a, 3) # 에러, 아래와 같은 방법으로 해결가능."
   ]
  },
  {
   "cell_type": "code",
   "execution_count": 146,
   "metadata": {
    "ExecuteTime": {
     "end_time": "2021-03-05T02:49:35.086222Z",
     "start_time": "2021-03-05T02:49:35.081237Z"
    }
   },
   "outputs": [
    {
     "data": {
      "text/plain": [
       "[array([[ 0,  1,  2],\n",
       "        [10, 11, 12]]),\n",
       " array([[ 3,  4,  5],\n",
       "        [13, 14, 15]]),\n",
       " array([[ 6,  7,  8,  9],\n",
       "        [16, 17, 18, 19]])]"
      ]
     },
     "execution_count": 146,
     "metadata": {},
     "output_type": "execute_result"
    }
   ],
   "source": [
    "np.hsplit(a, [3,6]) # => 정확하게 반반으로 나누기 싫을때."
   ]
  },
  {
   "cell_type": "code",
   "execution_count": 148,
   "metadata": {
    "ExecuteTime": {
     "end_time": "2021-03-05T02:50:11.705587Z",
     "start_time": "2021-03-05T02:50:11.690035Z"
    }
   },
   "outputs": [
    {
     "data": {
      "text/plain": [
       "[array([[0, 1, 2, 3, 4, 5, 6, 7, 8, 9]]),\n",
       " array([[10, 11, 12, 13, 14, 15, 16, 17, 18, 19]])]"
      ]
     },
     "execution_count": 148,
     "metadata": {},
     "output_type": "execute_result"
    }
   ],
   "source": [
    "np.vsplit(a, 2)"
   ]
  },
  {
   "cell_type": "code",
   "execution_count": 149,
   "metadata": {
    "ExecuteTime": {
     "end_time": "2021-03-05T02:51:20.870848Z",
     "start_time": "2021-03-05T02:51:20.865862Z"
    }
   },
   "outputs": [
    {
     "data": {
      "text/plain": [
       "[array([[0, 1, 2, 3, 4, 5, 6, 7, 8, 9]]),\n",
       " array([[10, 11, 12, 13, 14, 15, 16, 17, 18, 19]])]"
      ]
     },
     "execution_count": 149,
     "metadata": {},
     "output_type": "execute_result"
    }
   ],
   "source": [
    "np.split(a, 2, axis=0)"
   ]
  },
  {
   "cell_type": "markdown",
   "metadata": {},
   "source": [
    "**- array_split(arry, indices_or_section, axis=0)** <br>\n",
    " * split() 과 유일한 차이점은 축을 똑같이 나눌 수 없는 정수도 가능.\n",
    " \n",
    " - 6을 4로 나눠라 가능."
   ]
  },
  {
   "cell_type": "code",
   "execution_count": 150,
   "metadata": {
    "ExecuteTime": {
     "end_time": "2021-03-05T02:52:47.711203Z",
     "start_time": "2021-03-05T02:52:47.706216Z"
    }
   },
   "outputs": [
    {
     "data": {
      "text/plain": [
       "[array([[ 0,  1,  2,  3],\n",
       "        [10, 11, 12, 13]]),\n",
       " array([[ 4,  5,  6],\n",
       "        [14, 15, 16]]),\n",
       " array([[ 7,  8,  9],\n",
       "        [17, 18, 19]])]"
      ]
     },
     "execution_count": 150,
     "metadata": {},
     "output_type": "execute_result"
    }
   ],
   "source": [
    "np.array_split(a, 3, axis = 1)"
   ]
  },
  {
   "cell_type": "code",
   "execution_count": 151,
   "metadata": {
    "ExecuteTime": {
     "end_time": "2021-03-05T02:53:15.150341Z",
     "start_time": "2021-03-05T02:53:15.145355Z"
    }
   },
   "outputs": [
    {
     "data": {
      "text/plain": [
       "[array([[0, 1, 2, 3, 4, 5, 6, 7, 8, 9]]),\n",
       " array([[10, 11, 12, 13, 14, 15, 16, 17, 18, 19]])]"
      ]
     },
     "execution_count": 151,
     "metadata": {},
     "output_type": "execute_result"
    }
   ],
   "source": [
    "np.array_split(a, 2, axis = 0)"
   ]
  },
  {
   "cell_type": "code",
   "execution_count": null,
   "metadata": {},
   "outputs": [],
   "source": []
  },
  {
   "cell_type": "code",
   "execution_count": null,
   "metadata": {},
   "outputs": [],
   "source": []
  }
 ],
 "metadata": {
  "kernelspec": {
   "display_name": "Python 3",
   "language": "python",
   "name": "python3"
  },
  "language_info": {
   "codemirror_mode": {
    "name": "ipython",
    "version": 3
   },
   "file_extension": ".py",
   "mimetype": "text/x-python",
   "name": "python",
   "nbconvert_exporter": "python",
   "pygments_lexer": "ipython3",
   "version": "3.8.5"
  },
  "toc": {
   "base_numbering": 1,
   "nav_menu": {},
   "number_sections": false,
   "sideBar": false,
   "skip_h1_title": false,
   "title_cell": "Table of Contents",
   "title_sidebar": "Contents",
   "toc_cell": false,
   "toc_position": {
    "height": "386px",
    "left": "1169.61px",
    "top": "204px",
    "width": "230.391px"
   },
   "toc_section_display": true,
   "toc_window_display": true
  },
  "varInspector": {
   "cols": {
    "lenName": 16,
    "lenType": 16,
    "lenVar": 40
   },
   "kernels_config": {
    "python": {
     "delete_cmd_postfix": "",
     "delete_cmd_prefix": "del ",
     "library": "var_list.py",
     "varRefreshCmd": "print(var_dic_list())"
    },
    "r": {
     "delete_cmd_postfix": ") ",
     "delete_cmd_prefix": "rm(",
     "library": "var_list.r",
     "varRefreshCmd": "cat(var_dic_list()) "
    }
   },
   "types_to_exclude": [
    "module",
    "function",
    "builtin_function_or_method",
    "instance",
    "_Feature"
   ],
   "window_display": false
  }
 },
 "nbformat": 4,
 "nbformat_minor": 4
}
