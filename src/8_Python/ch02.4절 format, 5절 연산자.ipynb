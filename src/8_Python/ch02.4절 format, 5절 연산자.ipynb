{
 "cells": [
  {
   "cell_type": "markdown",
   "metadata": {},
   "source": [
    "# 4절. 포맷팅"
   ]
  },
  {
   "cell_type": "markdown",
   "metadata": {},
   "source": [
    "- 포맷팅이란 문자, 숫자, 날짜 데이터에 형식을 지정하는것.\n",
    "- 변수와 텍스트를 결합해서 보기 좋은 형식의 새로운 텍스트를 만들때 사용."
   ]
  },
  {
   "cell_type": "markdown",
   "metadata": {},
   "source": [
    "## 4.1 문자열에 형식지정"
   ]
  },
  {
   "cell_type": "code",
   "execution_count": 1,
   "metadata": {
    "ExecuteTime": {
     "end_time": "2021-02-22T13:01:38.646054Z",
     "start_time": "2021-02-22T13:01:38.633089Z"
    }
   },
   "outputs": [
    {
     "name": "stdout",
     "output_type": "stream",
     "text": [
      "홍길동 님의 나이는  30 살 입니다.\n",
      "홍길동님의 나이는 30살 입니다.\n"
     ]
    }
   ],
   "source": [
    "name = \"홍길동\"\n",
    "age = 30\n",
    "print(name, '님의 나이는 ',age, '살 입니다.') # name, 으로 하면 스페이스로 구분이 나눠진다.\n",
    "# +age 같이 할려면 => +str(age) 또는\n",
    "print(name, '님의 나이는 ',age, '살 입니다.',sep='')\n",
    "#변수와 텍스트를 번갈아 사용해서 형식을 지정하는 것은 가독성이 떨어지며, 코드를 작성하기 불편."
   ]
  },
  {
   "cell_type": "code",
   "execution_count": 2,
   "metadata": {
    "ExecuteTime": {
     "end_time": "2021-02-22T13:01:38.676970Z",
     "start_time": "2021-02-22T13:01:38.649047Z"
    }
   },
   "outputs": [
    {
     "data": {
      "text/plain": [
       "'홍길동님의 나이는 30살 입니다'"
      ]
     },
     "execution_count": 2,
     "metadata": {},
     "output_type": "execute_result"
    }
   ],
   "source": [
    "# 이전 스타일\n",
    "# java = %s : 문자열 , %c : 문자, %d : 정수, %f 실수 , \n",
    "# %x : 16진수(cc :11001100), %o : 8진수, %% 문자% 사용가능.\n",
    "\"%s님의 나이는 %d살 입니다\"%(name, age)\n",
    "#print(\"%s님의 나이는 %d살 입니다\"%(name, age))"
   ]
  },
  {
   "cell_type": "code",
   "execution_count": 3,
   "metadata": {
    "ExecuteTime": {
     "end_time": "2021-02-22T13:01:38.708885Z",
     "start_time": "2021-02-22T13:01:38.680960Z"
    }
   },
   "outputs": [
    {
     "data": {
      "text/plain": [
       "'홍길동님의 나이는 30살 입니다.'"
      ]
     },
     "execution_count": 3,
     "metadata": {},
     "output_type": "execute_result"
    }
   ],
   "source": [
    "#새로운 스타일\n",
    "\"{}님의 나이는 {}살 입니다.\".format(name, age)"
   ]
  },
  {
   "cell_type": "code",
   "execution_count": 4,
   "metadata": {
    "ExecuteTime": {
     "end_time": "2021-02-22T13:01:38.724845Z",
     "start_time": "2021-02-22T13:01:38.710880Z"
    }
   },
   "outputs": [
    {
     "data": {
      "text/plain": [
       "'홍길동님의 나이는 30살 입니다.'"
      ]
     },
     "execution_count": 4,
     "metadata": {},
     "output_type": "execute_result"
    }
   ],
   "source": [
    "\"{1}님의 나이는 {0}살 입니다.\".format(age, name)\n",
    "#{} 안에 0번(인데스) 부터 넣을수 있는데 순서를 바꿔서 해도 가능"
   ]
  },
  {
   "cell_type": "markdown",
   "metadata": {},
   "source": [
    "## 4.2 format( ) 함수 문법"
   ]
  },
  {
   "cell_type": "markdown",
   "metadata": {
    "ExecuteTime": {
     "end_time": "2021-02-22T01:00:40.175807Z",
     "start_time": "2021-02-22T01:00:40.166856Z"
    }
   },
   "source": [
    "'{[인덱스]:[공백대체문자][정렬방법][자릿수][타입]}'.format(변수명)"
   ]
  },
  {
   "cell_type": "code",
   "execution_count": 5,
   "metadata": {
    "ExecuteTime": {
     "end_time": "2021-02-22T13:01:38.740799Z",
     "start_time": "2021-02-22T13:01:38.726838Z"
    }
   },
   "outputs": [],
   "source": [
    "# 인덱스 : 출력할 인수의 인덱스(순서)\n",
    "# 정렬방법 : < (기호) : 왼쪽정렬,  >(기호) : 오른쪽정렬, ^ (기호) : 가운데 정렬\n",
    "# 자릿수 : 출력할 자릿수 지정. 변수보다 적은 자릿수가 지정될 경우, 무시되고 변수가 다 출력.\n",
    "# 타입 : d : 10진수 , f : 실수 , s : 문자 , b : 2진수, o : 8진수, x : 16진수"
   ]
  },
  {
   "cell_type": "code",
   "execution_count": 6,
   "metadata": {
    "ExecuteTime": {
     "end_time": "2021-02-22T13:01:49.343830Z",
     "start_time": "2021-02-22T13:01:38.744790Z"
    }
   },
   "outputs": [
    {
     "name": "stdout",
     "output_type": "stream",
     "text": [
      "이름은 ?홍길동\n",
      "나이는 ?20\n",
      "홍길동님의 나이는 20입니다.\n",
      "홍길동님의 나이는 20입니다.\n"
     ]
    }
   ],
   "source": [
    "name = input('이름은 ?')\n",
    "age = int(input('나이는 ?'))\n",
    "print(\"{}님의 나이는 {}입니다.\".format(name,age))\n",
    "print(\"{1}님의 나이는 {0}입니다.\".format(age, name)) #인덱스는 순서지정."
   ]
  },
  {
   "cell_type": "code",
   "execution_count": 7,
   "metadata": {
    "ExecuteTime": {
     "end_time": "2021-02-22T13:01:49.359786Z",
     "start_time": "2021-02-22T13:01:49.346822Z"
    }
   },
   "outputs": [
    {
     "name": "stdout",
     "output_type": "stream",
     "text": [
      "20살 홍길동님은 20살이 참 졸은걸 알려나.\n"
     ]
    }
   ],
   "source": [
    "print(\"{0}살 {1}님은 {0}살이 참 졸은걸 알려나.\".format(age, name))"
   ]
  },
  {
   "cell_type": "code",
   "execution_count": 8,
   "metadata": {
    "ExecuteTime": {
     "end_time": "2021-02-22T13:01:49.578168Z",
     "start_time": "2021-02-22T13:01:49.361782Z"
    }
   },
   "outputs": [
    {
     "ename": "IndexError",
     "evalue": "Replacement index 2 out of range for positional args tuple",
     "output_type": "error",
     "traceback": [
      "\u001b[1;31m---------------------------------------------------------------------------\u001b[0m",
      "\u001b[1;31mIndexError\u001b[0m                                Traceback (most recent call last)",
      "\u001b[1;32m<ipython-input-8-ade89c7b19ac>\u001b[0m in \u001b[0;36m<module>\u001b[1;34m\u001b[0m\n\u001b[0;32m      2\u001b[0m \u001b[0ma\u001b[0m\u001b[1;33m,\u001b[0m \u001b[0mb\u001b[0m \u001b[1;33m=\u001b[0m \u001b[1;36m10\u001b[0m\u001b[1;33m,\u001b[0m \u001b[1;36m20\u001b[0m\u001b[1;33m\u001b[0m\u001b[1;33m\u001b[0m\u001b[0m\n\u001b[0;32m      3\u001b[0m \u001b[1;33m\u001b[0m\u001b[0m\n\u001b[1;32m----> 4\u001b[1;33m \u001b[0mprint\u001b[0m\u001b[1;33m(\u001b[0m\u001b[1;34m\"출력 : {}, {}, {} \"\u001b[0m\u001b[1;33m.\u001b[0m\u001b[0mformat\u001b[0m\u001b[1;33m(\u001b[0m\u001b[0ma\u001b[0m\u001b[1;33m,\u001b[0m\u001b[0mb\u001b[0m\u001b[1;33m)\u001b[0m\u001b[1;33m)\u001b[0m\u001b[1;33m\u001b[0m\u001b[1;33m\u001b[0m\u001b[0m\n\u001b[0m",
      "\u001b[1;31mIndexError\u001b[0m: Replacement index 2 out of range for positional args tuple"
     ]
    }
   ],
   "source": [
    "#{} 만 쓸 경우 변수의 수와 갯수가 맞지 않으면 오류.\n",
    "a, b = 10, 20\n",
    "\n",
    "print(\"출력 : {}, {}, {} \".format(a,b))"
   ]
  },
  {
   "cell_type": "code",
   "execution_count": 63,
   "metadata": {
    "ExecuteTime": {
     "end_time": "2021-02-22T13:07:04.077346Z",
     "start_time": "2021-02-22T13:07:04.061389Z"
    }
   },
   "outputs": [
    {
     "name": "stdout",
     "output_type": "stream",
     "text": [
      "출력 : [12345], [12345], [12345]\n",
      "출력 : [12345], [12345], [12345]\n",
      "출력 : [12345], [     12345], [12345]\n",
      "출력 : [Hello], [Hello     ], [Hello]\n"
     ]
    }
   ],
   "source": [
    "# 자릿수 지정\n",
    "# 숫자의 경우 , 출력할 변수보다 큰 자릿수를 지정하면 오른쪽 정렬(기본값.)\n",
    "# 문자의 경우, 출력할 변수보다 큰 지릿수를 지정하면 왼쪽 정렬(기본값.)\n",
    "\n",
    "#변수보다 작은 자릿수를 지정하면 자리수 지정이 무시되고 다 출력.\n",
    "a = 12345\n",
    "s = \"Hello\"\n",
    "print(\"출력 : [{}], [{}], [{}]\".format(a,a,a))\n",
    "print(\"출력 : [{0}], [{0}], [{0}]\".format(a,a,a))\n",
    "print(\"출력 : [{}], [{:10}], [{:3}]\".format(a,a,a)) #같은 인덱스라 0 생략 가능.\n",
    "print(\"출력 : [{}], [{:10}], [{:3}]\".format(s,s,s)) #같은 인덱스라 생략 가능."
   ]
  },
  {
   "cell_type": "code",
   "execution_count": 62,
   "metadata": {
    "ExecuteTime": {
     "end_time": "2021-02-22T13:07:03.498120Z",
     "start_time": "2021-02-22T13:07:03.490583Z"
    }
   },
   "outputs": [
    {
     "name": "stdout",
     "output_type": "stream",
     "text": [
      "출력\n",
      "정수(10진수) - 12345, 실수 - 12345.0, 2진수 - 11000000111001, 8진수 - 30071, 16진수 - 3039\n"
     ]
    }
   ],
   "source": [
    "a = 12345 #숫자의 경우 다양한 진수로 표현.\n",
    "print(\"\"\"출력\n",
    "정수(10진수) - {:d}, 실수 - {:7.1f}, 2진수 - {:b}, 8진수 - {:o}, 16진수 - {:x}\"\"\".\\\n",
    "      format(a,a,a,a,a))"
   ]
  },
  {
   "cell_type": "code",
   "execution_count": 61,
   "metadata": {
    "ExecuteTime": {
     "end_time": "2021-02-22T13:07:02.638867Z",
     "start_time": "2021-02-22T13:07:02.621915Z"
    }
   },
   "outputs": [
    {
     "name": "stdout",
     "output_type": "stream",
     "text": [
      "출력 : [    10], [20    ], [  3   ]\n"
     ]
    }
   ],
   "source": [
    "# 정렬 방법 < , > ,^    ^(가운데 정렬을 할때 정확하게 가운데가 안되면 하나 왼쪽으로 치우쳐진다.) \n",
    "# '{[인덱스]:[공백대체문자][정렬방법][자릿수][타입]}'.format(변수명) 이렇게 다 쓸 경우 순서를 지켜야함.\n",
    "a, b, c = 10, 20, 3\n",
    "print(\"출력 : [{:>6d}], [{:<6d}], [{:^6d}]\".format(a,b,c))"
   ]
  },
  {
   "cell_type": "code",
   "execution_count": 60,
   "metadata": {
    "ExecuteTime": {
     "end_time": "2021-02-22T13:07:01.749920Z",
     "start_time": "2021-02-22T13:07:01.732970Z"
    }
   },
   "outputs": [
    {
     "name": "stdout",
     "output_type": "stream",
     "text": [
      "출력 : [$$$$$$$$10], [Hello***************], [Hel_______]\n"
     ]
    }
   ],
   "source": [
    "# 인덱스 : 공백대체문자 정렬방법 자릿수 타입\n",
    "a = 10\n",
    "s = \"Hello\"\n",
    "print(\"출력 : [{0:$>10}], [{1:*<20}], [{1:_<10.3}]\".format(a,s))\n",
    "# [{1:_<10.3}] 전체 10자리 확보, 변수는 3자리만 출력, 공백은 _ 로 대체."
   ]
  },
  {
   "cell_type": "code",
   "execution_count": 59,
   "metadata": {
    "ExecuteTime": {
     "end_time": "2021-02-22T13:07:01.188839Z",
     "start_time": "2021-02-22T13:07:01.158398Z"
    }
   },
   "outputs": [
    {
     "ename": "ValueError",
     "evalue": "Invalid format specifier",
     "output_type": "error",
     "traceback": [
      "\u001b[1;31m---------------------------------------------------------------------------\u001b[0m",
      "\u001b[1;31mValueError\u001b[0m                                Traceback (most recent call last)",
      "\u001b[1;32m<ipython-input-59-3f98bcd234bc>\u001b[0m in \u001b[0;36m<module>\u001b[1;34m\u001b[0m\n\u001b[0;32m      1\u001b[0m \u001b[1;31m# 주의점 : 공백대체문자를 지정할때는 반드시 정렬방법, 자릿수를 표현해야 한다.\u001b[0m\u001b[1;33m\u001b[0m\u001b[1;33m\u001b[0m\u001b[1;33m\u001b[0m\u001b[0m\n\u001b[1;32m----> 2\u001b[1;33m \u001b[0mprint\u001b[0m\u001b[1;33m(\u001b[0m\u001b[1;34m\"{0:$10} / {1:*20}\"\u001b[0m\u001b[1;33m.\u001b[0m\u001b[0mformat\u001b[0m\u001b[1;33m(\u001b[0m\u001b[0ma\u001b[0m\u001b[1;33m,\u001b[0m\u001b[0ms\u001b[0m\u001b[1;33m)\u001b[0m\u001b[1;33m)\u001b[0m \u001b[1;31m#오류가 나는 상황.\u001b[0m\u001b[1;33m\u001b[0m\u001b[1;33m\u001b[0m\u001b[0m\n\u001b[0m",
      "\u001b[1;31mValueError\u001b[0m: Invalid format specifier"
     ]
    }
   ],
   "source": [
    "# 주의점 : 공백대체문자를 지정할때는 반드시 정렬방법, 자릿수를 표현해야 한다.\n",
    "print(\"{0:$10} / {1:*20}\".format(a,s)) #오류가 나는 상황."
   ]
  },
  {
   "cell_type": "code",
   "execution_count": 58,
   "metadata": {
    "ExecuteTime": {
     "end_time": "2021-02-22T13:07:00.672932Z",
     "start_time": "2021-02-22T13:07:00.665955Z"
    }
   },
   "outputs": [
    {
     "name": "stdout",
     "output_type": "stream",
     "text": [
      "출력 : [      -123], [      +123], [      +123]\n",
      "출력 : [-      123], [       123], [       123]\n",
      "출력 : [-      123], [+      123], [+      123]\n",
      "출력 : [-      123], [       123], [0000000123]\n",
      "출력 : [-ㅁㅁㅁㅁㅁㅁ123], [bbbbbbb123], [_______123]\n"
     ]
    }
   ],
   "source": [
    "# + : 양수,음수 상관없이 숫자앞에 부호가 나타난다.\n",
    "# = 를 붙이면 전체 자리수만큼 출력하는 문자의 맨앞에 부호 표시(양수는 부호 안나온다.)\n",
    "# =+ 를 하면 양수일때도 부호가 나타난다.\n",
    "# 자리수 앞에 0을 채우면 빈자리에 0을 채워진다.\n",
    "# 공백대체문자 는 = 앞에 0을 붙이는것을 같이 하면 0이 무시된다.\n",
    "# (공백대체문자와 자리수 앞 0은 공백대체문자가 우선순위가 높다.)\n",
    "a, b = 123, -123\n",
    "print(\"출력 : [{:+10}], [{:+10}], [{:+10}]\".format(b,a,a))\n",
    "print(\"출력 : [{:=10}], [{:=10}], [{:=10}]\".format(b,a,a))\n",
    "print(\"출력 : [{:=+10}], [{:=+10}], [{:=+10}]\".format(b,a,a))\n",
    "print(\"출력 : [{:=10}], [{:=10}], [{:=010}]\".format(b,a,a))\n",
    "print(\"출력 : [{:ㅁ=10}], [{:b=10}], [{:_=010}]\".format(b,a,a))"
   ]
  },
  {
   "cell_type": "code",
   "execution_count": 57,
   "metadata": {
    "ExecuteTime": {
     "end_time": "2021-02-22T13:06:59.731019Z",
     "start_time": "2021-02-22T13:06:59.717027Z"
    }
   },
   "outputs": [
    {
     "name": "stdout",
     "output_type": "stream",
     "text": [
      "    [0123456789]\n",
      "a = [       2.8]\n",
      "s = [        He]\n"
     ]
    }
   ],
   "source": [
    "# 자리수. 표현 될 자리수\n",
    "a = 2.785\n",
    "s = \"Hello\"\n",
    "print(\"    [0123456789]\")\n",
    "print(\"a = [{:>10.2}]\".format(a))\n",
    "print(\"s = [{:>10.2}]\".format(s))"
   ]
  },
  {
   "cell_type": "code",
   "execution_count": 56,
   "metadata": {
    "ExecuteTime": {
     "end_time": "2021-02-22T13:06:59.197986Z",
     "start_time": "2021-02-22T13:06:59.192452Z"
    }
   },
   "outputs": [
    {
     "name": "stdout",
     "output_type": "stream",
     "text": [
      "a = [ 2.8]\n"
     ]
    }
   ],
   "source": [
    "# 전체 자리수. 소수점자리수f ㅁㅁ.ㅁ   전체 자리수에는 소수점 포함.\n",
    "print(\"a = [{:4.1f}]\".format(a))  #ㅁㅁ.ㅁ 왜 _2.8 인것은 전체 자리수가 4개 이기 때문."
   ]
  },
  {
   "cell_type": "code",
   "execution_count": 55,
   "metadata": {
    "ExecuteTime": {
     "end_time": "2021-02-22T13:06:55.960220Z",
     "start_time": "2021-02-22T13:06:55.948252Z"
    }
   },
   "outputs": [
    {
     "name": "stdout",
     "output_type": "stream",
     "text": [
      "출력 : [0123456789]\n",
      "출력 : [      2.79]\n",
      "출력 : [      2.79]\n"
     ]
    }
   ],
   "source": [
    "# format 함수의 매개변수에 출력format\n",
    "a = 2.785\n",
    "print(\"출력 : [0123456789]\")\n",
    "print(\"출력 : [{:>10.3}]\".format(a))\n",
    "print(\"출력 : [{:{}{}.{}}]\".format(a, '>', 10,3))"
   ]
  },
  {
   "cell_type": "code",
   "execution_count": 54,
   "metadata": {
    "ExecuteTime": {
     "end_time": "2021-02-22T13:06:55.463314Z",
     "start_time": "2021-02-22T13:06:55.457334Z"
    }
   },
   "outputs": [
    {
     "name": "stdout",
     "output_type": "stream",
     "text": [
      "출력 : [0123456789]\n",
      "출력 : [     +2.79]\n",
      "출력 : [     +2.79]\n"
     ]
    }
   ],
   "source": [
    "a = 2.785\n",
    "print(\"출력 : [0123456789]\")\n",
    "print(\"출력 : [{:>+10.3}]\".format(a))\n",
    "print(\"출력 : [{:{}{}{}.{}}]\".format(a, '>','+',10,3))"
   ]
  },
  {
   "cell_type": "code",
   "execution_count": 53,
   "metadata": {
    "ExecuteTime": {
     "end_time": "2021-02-22T13:06:54.457379Z",
     "start_time": "2021-02-22T13:06:54.437435Z"
    }
   },
   "outputs": [
    {
     "name": "stdout",
     "output_type": "stream",
     "text": [
      "출력 : [0123456789]\n",
      "출력 : [     +2.79]\n",
      "출력 : [     +2.79]\n"
     ]
    }
   ],
   "source": [
    "# 가독성을 높이고자 포맷인자에 이름을 부여.\n",
    "a = 2.785\n",
    "print(\"출력 : [0123456789]\")\n",
    "print(\"출력 : [{:>+10.3}]\".format(a))\n",
    "print(\"출력 : [{:{dir}{sign}{width}.{precision}}]\".format(a, dir='>',sign='+',width=10,precision=3))"
   ]
  },
  {
   "cell_type": "code",
   "execution_count": 52,
   "metadata": {
    "ExecuteTime": {
     "end_time": "2021-02-22T13:06:53.955261Z",
     "start_time": "2021-02-22T13:06:53.936318Z"
    }
   },
   "outputs": [
    {
     "name": "stdout",
     "output_type": "stream",
     "text": [
      "10진수 : [      15]\n",
      "2진수 : [00001111]\n",
      "8진수 : [00000017]\n",
      "16진수 : [0f]\n"
     ]
    }
   ],
   "source": [
    "a = 15\n",
    "print(\"10진수 : [{:8d}]\".format(a))\n",
    "print(\"2진수 : [{:08b}]\".format(a))\n",
    "print(\"8진수 : [{:08o}]\".format(a))\n",
    "print(\"16진수 : [{:02x}]\".format(a))"
   ]
  },
  {
   "cell_type": "markdown",
   "metadata": {},
   "source": [
    "## 4.3 날짜 출력"
   ]
  },
  {
   "cell_type": "code",
   "execution_count": 51,
   "metadata": {
    "ExecuteTime": {
     "end_time": "2021-02-22T13:06:53.313733Z",
     "start_time": "2021-02-22T13:06:53.307748Z"
    }
   },
   "outputs": [
    {
     "data": {
      "text/plain": [
       "time.struct_time(tm_year=2021, tm_mon=2, tm_mday=22, tm_hour=22, tm_min=6, tm_sec=53, tm_wday=0, tm_yday=53, tm_isdst=0)"
      ]
     },
     "execution_count": 51,
     "metadata": {},
     "output_type": "execute_result"
    }
   ],
   "source": [
    "# %Y : 년도 4자리, %y : 년도 2자리, %m : 월, %d : 일\n",
    "# %H : 24시간, %h : 12시간, %p PM 또는 AM, %M : 분, %s : 초\n",
    "from time import localtime #time : 패키지. \n",
    "#time 패키지에서 localtime 이라는 함수를 사용 하겠다. 라는 뜻.\n",
    "now = localtime()\n",
    "now #현재 날짜와 시간."
   ]
  },
  {
   "cell_type": "code",
   "execution_count": 50,
   "metadata": {
    "ExecuteTime": {
     "end_time": "2021-02-22T13:06:51.882540Z",
     "start_time": "2021-02-22T13:06:51.868549Z"
    }
   },
   "outputs": [
    {
     "ename": "NameError",
     "evalue": "name 'now' is not defined",
     "output_type": "error",
     "traceback": [
      "\u001b[1;31m---------------------------------------------------------------------------\u001b[0m",
      "\u001b[1;31mNameError\u001b[0m                                 Traceback (most recent call last)",
      "\u001b[1;32m<ipython-input-50-3aa1482da0b7>\u001b[0m in \u001b[0;36m<module>\u001b[1;34m\u001b[0m\n\u001b[0;32m      1\u001b[0m \u001b[1;31m# 날짜를 문자열로 출력하기위해 format 보다 strftime() 함수를 이용.\u001b[0m\u001b[1;33m\u001b[0m\u001b[1;33m\u001b[0m\u001b[1;33m\u001b[0m\u001b[0m\n\u001b[0;32m      2\u001b[0m \u001b[1;32mfrom\u001b[0m \u001b[0mtime\u001b[0m \u001b[1;32mimport\u001b[0m \u001b[0mstrftime\u001b[0m\u001b[1;33m\u001b[0m\u001b[1;33m\u001b[0m\u001b[0m\n\u001b[1;32m----> 3\u001b[1;33m \u001b[0mprint\u001b[0m\u001b[1;33m(\u001b[0m\u001b[0mstrftime\u001b[0m\u001b[1;33m(\u001b[0m\u001b[1;34m\"%Y년 - %m월 - %d일 %H:%M:%S\"\u001b[0m\u001b[1;33m,\u001b[0m\u001b[0mnow\u001b[0m\u001b[1;33m)\u001b[0m\u001b[1;33m)\u001b[0m\u001b[1;33m\u001b[0m\u001b[1;33m\u001b[0m\u001b[0m\n\u001b[0m\u001b[0;32m      4\u001b[0m \u001b[0mprint\u001b[0m\u001b[1;33m(\u001b[0m\u001b[0mstrftime\u001b[0m\u001b[1;33m(\u001b[0m\u001b[1;34m\"%Y년 - %m월 - %d일 %p %I:%M:%S\"\u001b[0m\u001b[1;33m,\u001b[0m\u001b[0mnow\u001b[0m\u001b[1;33m)\u001b[0m\u001b[1;33m)\u001b[0m\u001b[1;33m\u001b[0m\u001b[1;33m\u001b[0m\u001b[0m\n",
      "\u001b[1;31mNameError\u001b[0m: name 'now' is not defined"
     ]
    }
   ],
   "source": [
    "# 날짜를 문자열로 출력하기위해 format 보다 strftime() 함수를 이용.\n",
    "from time import strftime\n",
    "print(strftime(\"%Y년 - %m월 - %d일 %H:%M:%S\",now))\n",
    "print(strftime(\"%Y년 - %m월 - %d일 %p %I:%M:%S\",now))"
   ]
  },
  {
   "cell_type": "code",
   "execution_count": 49,
   "metadata": {
    "ExecuteTime": {
     "end_time": "2021-02-22T13:06:51.331418Z",
     "start_time": "2021-02-22T13:06:51.317950Z"
    }
   },
   "outputs": [
    {
     "data": {
      "text/plain": [
       "datetime.datetime(2021, 4, 30, 18, 20)"
      ]
     },
     "execution_count": 49,
     "metadata": {},
     "output_type": "execute_result"
    }
   ],
   "source": [
    "#format 함수 이용\n",
    "from datetime import datetime\n",
    "thatday = datetime(2021, 4, 30, 18, 20, 0)\n",
    "thatday"
   ]
  },
  {
   "cell_type": "code",
   "execution_count": 48,
   "metadata": {
    "ExecuteTime": {
     "end_time": "2021-02-22T13:06:50.234110Z",
     "start_time": "2021-02-22T13:06:50.223167Z"
    }
   },
   "outputs": [
    {
     "ename": "NameError",
     "evalue": "name 'thatday' is not defined",
     "output_type": "error",
     "traceback": [
      "\u001b[1;31m---------------------------------------------------------------------------\u001b[0m",
      "\u001b[1;31mNameError\u001b[0m                                 Traceback (most recent call last)",
      "\u001b[1;32m<ipython-input-48-b40b53666411>\u001b[0m in \u001b[0;36m<module>\u001b[1;34m\u001b[0m\n\u001b[1;32m----> 1\u001b[1;33m \u001b[0mprint\u001b[0m\u001b[1;33m(\u001b[0m\u001b[1;34m\"{:%Y년 %m월 %d일 %H시 %M분 %S초}\"\u001b[0m\u001b[1;33m.\u001b[0m\u001b[0mformat\u001b[0m\u001b[1;33m(\u001b[0m\u001b[0mthatday\u001b[0m\u001b[1;33m)\u001b[0m\u001b[1;33m)\u001b[0m\u001b[1;33m\u001b[0m\u001b[1;33m\u001b[0m\u001b[0m\n\u001b[0m\u001b[0;32m      2\u001b[0m \u001b[0mprint\u001b[0m\u001b[1;33m(\u001b[0m\u001b[1;34m\"{:%Y년 %m월 %d일 %p %I시 %M분 %S초}\"\u001b[0m\u001b[1;33m.\u001b[0m\u001b[0mformat\u001b[0m\u001b[1;33m(\u001b[0m\u001b[0mthatday\u001b[0m\u001b[1;33m)\u001b[0m\u001b[1;33m)\u001b[0m\u001b[1;33m\u001b[0m\u001b[1;33m\u001b[0m\u001b[0m\n",
      "\u001b[1;31mNameError\u001b[0m: name 'thatday' is not defined"
     ]
    }
   ],
   "source": [
    "print(\"{:%Y년 %m월 %d일 %H시 %M분 %S초}\".format(thatday))\n",
    "print(\"{:%Y년 %m월 %d일 %p %I시 %M분 %S초}\".format(thatday))"
   ]
  },
  {
   "cell_type": "code",
   "execution_count": 47,
   "metadata": {
    "ExecuteTime": {
     "end_time": "2021-02-22T13:06:49.668249Z",
     "start_time": "2021-02-22T13:06:49.661711Z"
    }
   },
   "outputs": [
    {
     "name": "stdout",
     "output_type": "stream",
     "text": [
      "Hello, 홍길동. You are 30 years old\n",
      "Hello, 홍길동. You are 30 years old\n",
      "Hello, 홍길동. You are 30 years old\n"
     ]
    }
   ],
   "source": [
    "name = \"홍길동\"\n",
    "age = 30\n",
    "print(f\"Hello, {name}. You are {age} years old\")\n",
    "print(\"Hello, %s. You are %d years old\"%(name,age))\n",
    "print(\"Hello, {}. You are {} years old\".format(name,age))"
   ]
  },
  {
   "cell_type": "markdown",
   "metadata": {},
   "source": [
    "# 5절. 연산자"
   ]
  },
  {
   "cell_type": "markdown",
   "metadata": {},
   "source": [
    "## 5.1 산술연산자"
   ]
  },
  {
   "cell_type": "code",
   "execution_count": 46,
   "metadata": {
    "ExecuteTime": {
     "end_time": "2021-02-22T13:06:48.730049Z",
     "start_time": "2021-02-22T13:06:48.723068Z"
    }
   },
   "outputs": [
    {
     "name": "stdout",
     "output_type": "stream",
     "text": [
      "1000\n",
      "3\n",
      "3.3333333333333335\n",
      "3.0\n"
     ]
    }
   ],
   "source": [
    "a = 10\n",
    "print(a ** 3) #a 의 3제곱\n",
    "print(a // 3) #a 나누기 3의 몫\n",
    "print(a/3) # 3.33333333~\n",
    "print(9/3) # 3.0\n",
    "# (파이썬에서의 나눗셈의 결과는 항상 실수로 나온다.)"
   ]
  },
  {
   "cell_type": "code",
   "execution_count": 45,
   "metadata": {
    "ExecuteTime": {
     "end_time": "2021-02-22T13:06:47.432836Z",
     "start_time": "2021-02-22T13:06:47.418872Z"
    }
   },
   "outputs": [
    {
     "name": "stdout",
     "output_type": "stream",
     "text": [
      "1.0\n"
     ]
    }
   ],
   "source": [
    "print(10.0 % 3.0) #실수 끼리 나머지 연산."
   ]
  },
  {
   "cell_type": "code",
   "execution_count": 44,
   "metadata": {
    "ExecuteTime": {
     "end_time": "2021-02-22T13:06:46.683647Z",
     "start_time": "2021-02-22T13:06:46.677664Z"
    }
   },
   "outputs": [
    {
     "name": "stdout",
     "output_type": "stream",
     "text": [
      "0.19999999999999996\n"
     ]
    }
   ],
   "source": [
    "print(3.8 % 1.2) #실수끼리 나머지 연산시 결과가 다소 오차가 존재할 수 있음."
   ]
  },
  {
   "cell_type": "markdown",
   "metadata": {},
   "source": [
    "## 5.2 대입 (할당)연산자\n",
    "-  +=, -=, *=, **=, /=, //=, %= 등"
   ]
  },
  {
   "cell_type": "code",
   "execution_count": 43,
   "metadata": {
    "ExecuteTime": {
     "end_time": "2021-02-22T13:06:45.822922Z",
     "start_time": "2021-02-22T13:06:45.813891Z"
    }
   },
   "outputs": [
    {
     "data": {
      "text/plain": [
       "5"
      ]
     },
     "execution_count": 43,
     "metadata": {},
     "output_type": "execute_result"
    }
   ],
   "source": [
    "a = 10\n",
    "a //= 2  # a = a//2\n",
    "a"
   ]
  },
  {
   "cell_type": "markdown",
   "metadata": {},
   "source": [
    "# 5.3 논리 연산자\n",
    "- &, |, not, and, or "
   ]
  },
  {
   "cell_type": "code",
   "execution_count": 38,
   "metadata": {
    "ExecuteTime": {
     "end_time": "2021-02-22T13:06:38.314309Z",
     "start_time": "2021-02-22T13:06:38.302347Z"
    }
   },
   "outputs": [
    {
     "name": "stdout",
     "output_type": "stream",
     "text": [
      "True\n",
      "1\n",
      "0\n",
      "True\n"
     ]
    }
   ],
   "source": [
    "print((10>3) & (10>5)) #=> 논리연산자. [True & True]\n",
    "print(15 & 1) #비트 연산 => 1111 & 0001\n",
    "print(12 & 1) #비트 연산 => 1100 & 0001\n",
    "print(5 < 8 < 10) # 논리연산자를 삼항, 사항, ... 연산자 가능."
   ]
  },
  {
   "cell_type": "code",
   "execution_count": 39,
   "metadata": {
    "ExecuteTime": {
     "end_time": "2021-02-22T13:06:39.752754Z",
     "start_time": "2021-02-22T13:06:39.737794Z"
    }
   },
   "outputs": [
    {
     "name": "stdout",
     "output_type": "stream",
     "text": [
      "False\n"
     ]
    }
   ],
   "source": [
    "print(10>3 & 10>5) # 연산자 우선순위 : 비트연산자가 논리연산자 보다 높다.\n",
    "#       0011 & 1010 = 0010(결과가 2 라 나온다.)\n",
    "# print(10 > 2 > 5)"
   ]
  },
  {
   "cell_type": "code",
   "execution_count": 40,
   "metadata": {
    "ExecuteTime": {
     "end_time": "2021-02-22T13:06:41.163299Z",
     "start_time": "2021-02-22T13:06:41.148479Z"
    }
   },
   "outputs": [
    {
     "name": "stdout",
     "output_type": "stream",
     "text": [
      "빈스트링은 FALSE 인가\n"
     ]
    }
   ],
   "source": [
    "# 논리연산자에 문자열이 오면\n",
    "#''(빈 스트링)은 FALSE로 , 그외는 TRUE.\n",
    "if '':\n",
    "    print('빈스트링은 TRUE 인가')\n",
    "else:\n",
    "    print('빈스트링은 FALSE 인가')"
   ]
  },
  {
   "cell_type": "code",
   "execution_count": 41,
   "metadata": {
    "ExecuteTime": {
     "end_time": "2021-02-22T13:06:41.778185Z",
     "start_time": "2021-02-22T13:06:41.763223Z"
    }
   },
   "outputs": [
    {
     "ename": "TypeError",
     "evalue": "unsupported operand type(s) for |: 'bool' and 'str'",
     "output_type": "error",
     "traceback": [
      "\u001b[1;31m---------------------------------------------------------------------------\u001b[0m",
      "\u001b[1;31mTypeError\u001b[0m                                 Traceback (most recent call last)",
      "\u001b[1;32m<ipython-input-41-720a0f9399ef>\u001b[0m in \u001b[0;36m<module>\u001b[1;34m\u001b[0m\n\u001b[0;32m      1\u001b[0m \u001b[1;31m# 논리연산자에 문자열이 오면 에러\u001b[0m\u001b[1;33m\u001b[0m\u001b[1;33m\u001b[0m\u001b[1;33m\u001b[0m\u001b[0m\n\u001b[1;32m----> 2\u001b[1;33m \u001b[1;32mTrue\u001b[0m \u001b[1;33m|\u001b[0m \u001b[1;34m''\u001b[0m\u001b[1;33m\u001b[0m\u001b[1;33m\u001b[0m\u001b[0m\n\u001b[0m",
      "\u001b[1;31mTypeError\u001b[0m: unsupported operand type(s) for |: 'bool' and 'str'"
     ]
    }
   ],
   "source": [
    "# 논리연산자에 문자열이 오면 에러\n",
    "True | ''"
   ]
  },
  {
   "cell_type": "code",
   "execution_count": 42,
   "metadata": {
    "ExecuteTime": {
     "end_time": "2021-02-22T13:06:43.522203Z",
     "start_time": "2021-02-22T13:06:43.508240Z"
    }
   },
   "outputs": [
    {
     "data": {
      "text/plain": [
       "True"
      ]
     },
     "execution_count": 42,
     "metadata": {},
     "output_type": "execute_result"
    }
   ],
   "source": [
    "True | bool('') #이렇게 하면 True."
   ]
  },
  {
   "cell_type": "code",
   "execution_count": 9,
   "metadata": {
    "ExecuteTime": {
     "end_time": "2021-02-22T13:02:57.087798Z",
     "start_time": "2021-02-22T13:02:57.038334Z"
    }
   },
   "outputs": [
    {
     "name": "stdout",
     "output_type": "stream",
     "text": [
      " C 드라이브의 볼륨에는 이름이 없습니다.\n",
      " 볼륨 일련 번호: 9C7A-1AB6\n",
      "\n",
      " C:\\Users\\V3RITaS\\Desktop\\WDS\\src\\8_Python 디렉터리\n",
      "\n",
      "2021-02-22  오후 10:02    <DIR>          .\n",
      "2021-02-22  오후 10:02    <DIR>          ..\n",
      "2021-02-22  오후 10:02    <DIR>          .ipynb_checkpoints\n",
      "2021-02-19  오후 02:54               219 1.py\n",
      "2021-02-19  오후 04:01             3,907 ch01 파이썬 개요 및 개발환경 구성.ipynb\n",
      "2021-02-20  오후 03:49            43,215 ch02 1절 변수, 2절 화면 입출력, 3절 기본자료형.ipynb\n",
      "2021-02-22  오후 10:02            35,239 ch02 4절 format, 5절 연산자.ipynb\n",
      "2021-02-22  오후 06:00            34,442 ch03 데이터 구조.ipynb\n",
      "2021-02-22  오후 04:10            47,167 Untitled.ipynb\n",
      "               6개 파일             164,189 바이트\n",
      "               3개 디렉터리  40,375,459,840 바이트 남음\n"
     ]
    }
   ],
   "source": [
    "# 주피터 노트북에서 ! : 명령행을 실행 시킬 수 있다.\n",
    "!dir"
   ]
  },
  {
   "cell_type": "code",
   "execution_count": 10,
   "metadata": {
    "ExecuteTime": {
     "end_time": "2021-02-22T13:03:57.904115Z",
     "start_time": "2021-02-22T13:03:57.890153Z"
    }
   },
   "outputs": [],
   "source": [
    "#논리의 반전은 ! 가 아니라 not. 으로 써야한다."
   ]
  },
  {
   "cell_type": "code",
   "execution_count": 11,
   "metadata": {
    "ExecuteTime": {
     "end_time": "2021-02-22T13:03:58.959036Z",
     "start_time": "2021-02-22T13:03:58.940085Z"
    }
   },
   "outputs": [
    {
     "data": {
      "text/plain": [
       "False"
      ]
     },
     "execution_count": 11,
     "metadata": {},
     "output_type": "execute_result"
    }
   ],
   "source": [
    "not True"
   ]
  },
  {
   "cell_type": "code",
   "execution_count": 12,
   "metadata": {
    "ExecuteTime": {
     "end_time": "2021-02-22T13:04:01.029573Z",
     "start_time": "2021-02-22T13:04:01.014614Z"
    }
   },
   "outputs": [
    {
     "data": {
      "text/plain": [
       "True"
      ]
     },
     "execution_count": 12,
     "metadata": {},
     "output_type": "execute_result"
    }
   ],
   "source": [
    "not 0 # 0은 False. 그외 숫자는 True"
   ]
  },
  {
   "cell_type": "code",
   "execution_count": 13,
   "metadata": {
    "ExecuteTime": {
     "end_time": "2021-02-22T13:04:02.150104Z",
     "start_time": "2021-02-22T13:04:02.130157Z"
    }
   },
   "outputs": [
    {
     "data": {
      "text/plain": [
       "False"
      ]
     },
     "execution_count": 13,
     "metadata": {},
     "output_type": "execute_result"
    }
   ],
   "source": [
    "not -999"
   ]
  },
  {
   "cell_type": "code",
   "execution_count": 14,
   "metadata": {
    "ExecuteTime": {
     "end_time": "2021-02-22T13:04:05.248724Z",
     "start_time": "2021-02-22T13:04:05.234990Z"
    }
   },
   "outputs": [
    {
     "name": "stdout",
     "output_type": "stream",
     "text": [
      "False\n"
     ]
    }
   ],
   "source": [
    "a = False\n",
    "if not a:\n",
    "    print(a)"
   ]
  },
  {
   "cell_type": "code",
   "execution_count": 15,
   "metadata": {
    "ExecuteTime": {
     "end_time": "2021-02-22T13:04:21.593296Z",
     "start_time": "2021-02-22T13:04:21.582328Z"
    }
   },
   "outputs": [
    {
     "name": "stdout",
     "output_type": "stream",
     "text": [
      "두 수는 다르다\n"
     ]
    }
   ],
   "source": [
    "a,b = 15,16\n",
    "if a != b:\n",
    "    print('두 수는 다르다')"
   ]
  },
  {
   "cell_type": "code",
   "execution_count": 16,
   "metadata": {
    "ExecuteTime": {
     "end_time": "2021-02-22T13:04:22.791026Z",
     "start_time": "2021-02-22T13:04:22.776069Z"
    }
   },
   "outputs": [
    {
     "name": "stdout",
     "output_type": "stream",
     "text": [
      "0\n",
      "True\n"
     ]
    }
   ],
   "source": [
    "# and 연산자 : 거짓으로 판별되는 첫번째 항의 결과가 반환.\n",
    "#              모든 항이 참이면 마지막 항의 결과 반환.\n",
    "print(True and 3 and 0) #0 거짓인 0이 반환.\n",
    "print(True and 3 and True) # 모두 참이면 마지막 항이 반환."
   ]
  },
  {
   "cell_type": "code",
   "execution_count": 17,
   "metadata": {
    "ExecuteTime": {
     "end_time": "2021-02-22T13:04:24.113509Z",
     "start_time": "2021-02-22T13:04:24.107524Z"
    }
   },
   "outputs": [
    {
     "name": "stdout",
     "output_type": "stream",
     "text": [
      "2\n"
     ]
    }
   ],
   "source": [
    "print(3 and 2)"
   ]
  },
  {
   "cell_type": "code",
   "execution_count": 18,
   "metadata": {
    "ExecuteTime": {
     "end_time": "2021-02-22T13:04:24.859012Z",
     "start_time": "2021-02-22T13:04:24.843084Z"
    }
   },
   "outputs": [
    {
     "name": "stdout",
     "output_type": "stream",
     "text": [
      "0\n"
     ]
    }
   ],
   "source": [
    "print(3 and 5.4 and True and 0 and 'Python')"
   ]
  },
  {
   "cell_type": "code",
   "execution_count": 19,
   "metadata": {
    "ExecuteTime": {
     "end_time": "2021-02-22T13:04:26.420399Z",
     "start_time": "2021-02-22T13:04:26.402450Z"
    }
   },
   "outputs": [
    {
     "name": "stdout",
     "output_type": "stream",
     "text": [
      "0\n",
      "100\n"
     ]
    }
   ],
   "source": [
    "# or 연산자 : 참을 판별되는 첫번째 항의 결과가 반환.\n",
    "#             모든 항이 거짓이면 마지막 항의 결과 반환.\n",
    "print('' or False or None or 0)\n",
    "print('' or 100 or None or False)"
   ]
  },
  {
   "cell_type": "markdown",
   "metadata": {},
   "source": [
    "## 5.4 비교연산자\n",
    "- < , > , <= , >= , == , !="
   ]
  },
  {
   "cell_type": "code",
   "execution_count": 20,
   "metadata": {
    "ExecuteTime": {
     "end_time": "2021-02-22T13:04:27.651120Z",
     "start_time": "2021-02-22T13:04:27.636162Z"
    }
   },
   "outputs": [
    {
     "data": {
      "text/plain": [
       "False"
      ]
     },
     "execution_count": 20,
     "metadata": {},
     "output_type": "execute_result"
    }
   ],
   "source": [
    "# 문자는 ASCII 코드 순으로 비교 : 특수문자 < 숫자문자 < 대문자 < 소문자 < 한글\n",
    "'아' > '하' "
   ]
  },
  {
   "cell_type": "code",
   "execution_count": 21,
   "metadata": {
    "ExecuteTime": {
     "end_time": "2021-02-22T13:04:28.559863Z",
     "start_time": "2021-02-22T13:04:28.542882Z"
    }
   },
   "outputs": [
    {
     "data": {
      "text/plain": [
       "True"
      ]
     },
     "execution_count": 21,
     "metadata": {},
     "output_type": "execute_result"
    }
   ],
   "source": [
    "'1' < 'a'"
   ]
  },
  {
   "cell_type": "code",
   "execution_count": 22,
   "metadata": {
    "ExecuteTime": {
     "end_time": "2021-02-22T13:04:29.514244Z",
     "start_time": "2021-02-22T13:04:29.507264Z"
    }
   },
   "outputs": [
    {
     "data": {
      "text/plain": [
       "True"
      ]
     },
     "execution_count": 22,
     "metadata": {},
     "output_type": "execute_result"
    }
   ],
   "source": [
    "True > False  # T : 1 , F : 0."
   ]
  },
  {
   "cell_type": "code",
   "execution_count": 23,
   "metadata": {
    "ExecuteTime": {
     "end_time": "2021-02-22T13:04:30.239544Z",
     "start_time": "2021-02-22T13:04:30.223617Z"
    }
   },
   "outputs": [
    {
     "data": {
      "text/plain": [
       "(1, 0)"
      ]
     },
     "execution_count": 23,
     "metadata": {},
     "output_type": "execute_result"
    }
   ],
   "source": [
    "int(True), int(False)"
   ]
  },
  {
   "cell_type": "code",
   "execution_count": 24,
   "metadata": {
    "ExecuteTime": {
     "end_time": "2021-02-22T13:04:31.013490Z",
     "start_time": "2021-02-22T13:04:31.008503Z"
    }
   },
   "outputs": [
    {
     "data": {
      "text/plain": [
       "(False, True)"
      ]
     },
     "execution_count": 24,
     "metadata": {},
     "output_type": "execute_result"
    }
   ],
   "source": [
    "bool(0), bool(-9)"
   ]
  },
  {
   "cell_type": "code",
   "execution_count": 27,
   "metadata": {
    "ExecuteTime": {
     "end_time": "2021-02-22T13:05:30.503302Z",
     "start_time": "2021-02-22T13:05:29.140371Z"
    }
   },
   "outputs": [
    {
     "name": "stdout",
     "output_type": "stream",
     "text": [
      "점수를 입력하세요 >9\n",
      "불합격\n"
     ]
    }
   ],
   "source": [
    "jumsu = int(input('점수를 입력하세요 >')) # input 함수는 문자로 반환.\n",
    "if jumsu >= (60):\n",
    "    print('합격')\n",
    "else:\n",
    "    print('불합격')"
   ]
  },
  {
   "cell_type": "markdown",
   "metadata": {},
   "source": [
    "### 5.5 비트 연산자"
   ]
  },
  {
   "cell_type": "code",
   "execution_count": 28,
   "metadata": {
    "ExecuteTime": {
     "end_time": "2021-02-22T13:05:43.543124Z",
     "start_time": "2021-02-22T13:05:43.539133Z"
    }
   },
   "outputs": [],
   "source": [
    "a = '''\n",
    "x  y x&y x|y x^y(XOR)\n",
    "0  0  0   0   0\n",
    "0  1  0   1   1\n",
    "1  0  0   1   1\n",
    "1  1  1   1   0\n",
    "\n",
    "'''"
   ]
  },
  {
   "cell_type": "code",
   "execution_count": 29,
   "metadata": {
    "ExecuteTime": {
     "end_time": "2021-02-22T13:05:44.823824Z",
     "start_time": "2021-02-22T13:05:44.815850Z"
    }
   },
   "outputs": [
    {
     "name": "stdout",
     "output_type": "stream",
     "text": [
      "[00001111]\n",
      "[00000010]\n",
      "2\n",
      "15\n",
      "13\n"
     ]
    }
   ],
   "source": [
    "a = 15 # 0 0 0 0 1 1 1 1 \n",
    "b = 2 # 0 0 0 0 0 0 1 0\n",
    "#비트연산으로 : \n",
    "#                   2 \n",
    "print(\"[{:08b}]\".format(a))\n",
    "print(\"[{:08b}]\".format(b))\n",
    "print(a & b) # 0 0 0 0 0 0 1 0 (2)\n",
    "print(a | b)# 0 0 0 0 1 1 1 1 (15)\n",
    "print(a ^ b)# 0 0 0 0 1 1 0 1  (12)"
   ]
  },
  {
   "cell_type": "code",
   "execution_count": 30,
   "metadata": {
    "ExecuteTime": {
     "end_time": "2021-02-22T13:05:46.271121Z",
     "start_time": "2021-02-22T13:05:46.257157Z"
    }
   },
   "outputs": [
    {
     "name": "stdout",
     "output_type": "stream",
     "text": [
      "3\n",
      "60\n",
      "-16\n"
     ]
    }
   ],
   "source": [
    "# shift\n",
    "# a >> b : a 를 b bit 오른쪽으로 이동 (a 를 2의 b 승으로 나누는 결과)\n",
    "# a << b : a 를 b bit 왼쪽으로 이동(a 를 2의 b 승으로 곱하는 결과)\n",
    "a = 15 # 0 0 0 0 1 1 1 1\n",
    "print(a >> 2) # a 를 오른쪽으로 2bit 이동.  (2의 2승으로 나눈것과 같다.)\n",
    "print(a << 2)\n",
    "# not 논리연산의 반전.   ' ~' 비트연산의 반전\n",
    "print(~a) # 0 0 0 0 1 1 1 1 => 1 1 1 1 0 0 0 0 (음수는 2의 보수 취함)"
   ]
  },
  {
   "cell_type": "markdown",
   "metadata": {},
   "source": [
    "## 5.6 isinstance\n",
    "- isinstance(data, type); 스칼라 데이터나 객체의 유형을 확인하는 함수. 어떤 값이 특정 유형인지를 확인."
   ]
  },
  {
   "cell_type": "code",
   "execution_count": 31,
   "metadata": {
    "ExecuteTime": {
     "end_time": "2021-02-22T13:05:47.321017Z",
     "start_time": "2021-02-22T13:05:47.307052Z"
    }
   },
   "outputs": [
    {
     "data": {
      "text/plain": [
       "True"
      ]
     },
     "execution_count": 31,
     "metadata": {},
     "output_type": "execute_result"
    }
   ],
   "source": [
    "isinstance(3.5, float) #3.5 가 float 형인가? T or F"
   ]
  },
  {
   "cell_type": "markdown",
   "metadata": {},
   "source": [
    "## 8절. 연습문제"
   ]
  },
  {
   "cell_type": "code",
   "execution_count": 32,
   "metadata": {
    "ExecuteTime": {
     "end_time": "2021-02-22T13:05:49.263903Z",
     "start_time": "2021-02-22T13:05:49.255924Z"
    }
   },
   "outputs": [
    {
     "name": "stdout",
     "output_type": "stream",
     "text": [
      "출력 형식 : 홍길동님의 나이는 20살 입니다.\n"
     ]
    }
   ],
   "source": [
    "#1. 이름과 나이 변수를 다음 형식으로 출력하도록 format() 함수를 이용해 형식화하세요\n",
    "#[출력형식 : 홍길동님의 나이는 23살입니다]\n",
    "name = \"홍길동\"\n",
    "age = 20\n",
    "print(\"출력 형식 : {}님의 나이는 {}살 입니다.\".format(name,age))\n"
   ]
  },
  {
   "cell_type": "code",
   "execution_count": 33,
   "metadata": {
    "ExecuteTime": {
     "end_time": "2021-02-22T13:05:56.392432Z",
     "start_time": "2021-02-22T13:05:49.866989Z"
    }
   },
   "outputs": [
    {
     "name": "stdout",
     "output_type": "stream",
     "text": [
      "입력할 숫자는?20\n",
      "입력할 숫자는?2\n",
      "두 수의 덧셈은 22\n",
      "두 수의 뺄셈은 18\n",
      "두 수의 곱셈은 40\n",
      "두 수의 나눗셈은 10.0\n",
      "두 수의 몫은 10\n",
      "두 수의 나머지는 0\n"
     ]
    }
   ],
   "source": [
    "#2. 두 정수를 입력받아 두 수의 덧셈, 뺄셈, 곱셈, 나눗셈, 몫, 나머지를 출력하세요\n",
    "a = input(\"입력할 숫자는?\")\n",
    "b = input(\"입력할 숫자는?\")\n",
    "print('두 수의 덧셈은', (int(a)+int(b)))\n",
    "print('두 수의 뺄셈은', (int(a)-int(b)))\n",
    "print('두 수의 곱셈은', (int(a)*int(b)))\n",
    "try:\n",
    "    print('두 수의 나눗셈은', (int(a)/int(b)))\n",
    "    print('두 수의 몫은', (int(a)//int(b)))\n",
    "    print('두 수의 나머지는', (int(a)%int(b)))\n",
    "except Exception :\n",
    "    print('두번째 수에 0을 입력하여 나누기 연산이 불가하다.')"
   ]
  },
  {
   "cell_type": "code",
   "execution_count": 34,
   "metadata": {
    "ExecuteTime": {
     "end_time": "2021-02-22T13:05:58.303740Z",
     "start_time": "2021-02-22T13:05:58.293766Z"
    }
   },
   "outputs": [
    {
     "name": "stdout",
     "output_type": "stream",
     "text": [
      "world Hello\n"
     ]
    }
   ],
   "source": [
    "#3. 문자열의 분리하기와 합치기 기능을 이용하여 ‘Hello World’를 ‘World Hello’로 출력하세요\n",
    "# 일단 보류 (슬라이싱..?)\n",
    "str = \"Hello world\"\n",
    "print(str[-5:],str[:5])"
   ]
  },
  {
   "cell_type": "code",
   "execution_count": 35,
   "metadata": {
    "ExecuteTime": {
     "end_time": "2021-02-22T13:06:16.583786Z",
     "start_time": "2021-02-22T13:06:16.575813Z"
    }
   },
   "outputs": [
    {
     "name": "stdout",
     "output_type": "stream",
     "text": [
      "bcdefa\n",
      "bcdefa\n"
     ]
    }
   ],
   "source": [
    "#4. x = 'abcdef＇를 이용하여 ‘bcdefa’로 출력하세요(문자 슬라이싱이용).\n",
    "x ='abcdef'\n",
    "print(x[1:]+x[0])\n",
    "print(x[1:],x[0],sep='')"
   ]
  },
  {
   "cell_type": "code",
   "execution_count": 36,
   "metadata": {
    "ExecuteTime": {
     "end_time": "2021-02-22T13:06:17.460131Z",
     "start_time": "2021-02-22T13:06:17.443206Z"
    }
   },
   "outputs": [
    {
     "name": "stdout",
     "output_type": "stream",
     "text": [
      "fedcba\n"
     ]
    }
   ],
   "source": [
    "#5. x = ‘abcdef’를 이용하여 ‘fedcba’로 출력하세요\n",
    "x = 'abcdef'\n",
    "print(x[::-1])"
   ]
  },
  {
   "cell_type": "code",
   "execution_count": 37,
   "metadata": {
    "ExecuteTime": {
     "end_time": "2021-02-22T13:06:22.303647Z",
     "start_time": "2021-02-22T13:06:18.462807Z"
    }
   },
   "outputs": [
    {
     "name": "stdout",
     "output_type": "stream",
     "text": [
      "섭씨 온도를 입력하세요12.3\n",
      "섭씨 12.3도는 화씨온도로 바꾸면 54.14도 입니다.\n"
     ]
    }
   ],
   "source": [
    "#6. 오늘의 온도를 섭씨온도로 입력받아 화씨 온도로 변환하는 프로그램을 작성하세요. \n",
    "#화씨 온도는 소수점  두번째 자리까지 출려되어야 합니다\n",
    "#(다음은 섭씨와 화씨의 변환 공식입니다. C는 섭씨, F는 화씨)\n",
    "c = float(input('섭씨 온도를 입력하세요'))\n",
    "f = (c*1.8) + 32\n",
    "if c == round(c):\n",
    "    print(\"섭씨 {:.0f}도는 화씨온도로 바꾸면 {:.2f}도 입니다.\".format(c, f))\n",
    "else:\n",
    "    print(\"섭씨 {}도는 화씨온도로 바꾸면 {:.2f}도 입니다.\".format(c,f))"
   ]
  },
  {
   "cell_type": "code",
   "execution_count": null,
   "metadata": {},
   "outputs": [],
   "source": []
  },
  {
   "cell_type": "code",
   "execution_count": null,
   "metadata": {},
   "outputs": [],
   "source": []
  },
  {
   "cell_type": "code",
   "execution_count": null,
   "metadata": {},
   "outputs": [],
   "source": []
  },
  {
   "cell_type": "code",
   "execution_count": null,
   "metadata": {},
   "outputs": [],
   "source": []
  },
  {
   "cell_type": "code",
   "execution_count": null,
   "metadata": {},
   "outputs": [],
   "source": []
  },
  {
   "cell_type": "code",
   "execution_count": null,
   "metadata": {},
   "outputs": [],
   "source": []
  },
  {
   "cell_type": "code",
   "execution_count": null,
   "metadata": {},
   "outputs": [],
   "source": []
  },
  {
   "cell_type": "code",
   "execution_count": null,
   "metadata": {},
   "outputs": [],
   "source": []
  },
  {
   "cell_type": "code",
   "execution_count": null,
   "metadata": {},
   "outputs": [],
   "source": []
  },
  {
   "cell_type": "code",
   "execution_count": null,
   "metadata": {},
   "outputs": [],
   "source": []
  },
  {
   "cell_type": "code",
   "execution_count": null,
   "metadata": {},
   "outputs": [],
   "source": []
  }
 ],
 "metadata": {
  "kernelspec": {
   "display_name": "Python 3",
   "language": "python",
   "name": "python3"
  },
  "language_info": {
   "codemirror_mode": {
    "name": "ipython",
    "version": 3
   },
   "file_extension": ".py",
   "mimetype": "text/x-python",
   "name": "python",
   "nbconvert_exporter": "python",
   "pygments_lexer": "ipython3",
   "version": "3.8.5"
  },
  "toc": {
   "base_numbering": 1,
   "nav_menu": {},
   "number_sections": false,
   "sideBar": true,
   "skip_h1_title": false,
   "title_cell": "Table of Contents",
   "title_sidebar": "Contents",
   "toc_cell": false,
   "toc_position": {
    "height": "calc(100% - 180px)",
    "left": "10px",
    "top": "150px",
    "width": "228.182px"
   },
   "toc_section_display": true,
   "toc_window_display": true
  },
  "varInspector": {
   "cols": {
    "lenName": 16,
    "lenType": 16,
    "lenVar": 40
   },
   "kernels_config": {
    "python": {
     "delete_cmd_postfix": "",
     "delete_cmd_prefix": "del ",
     "library": "var_list.py",
     "varRefreshCmd": "print(var_dic_list())"
    },
    "r": {
     "delete_cmd_postfix": ") ",
     "delete_cmd_prefix": "rm(",
     "library": "var_list.r",
     "varRefreshCmd": "cat(var_dic_list()) "
    }
   },
   "types_to_exclude": [
    "module",
    "function",
    "builtin_function_or_method",
    "instance",
    "_Feature"
   ],
   "window_display": false
  }
 },
 "nbformat": 4,
 "nbformat_minor": 4
}
