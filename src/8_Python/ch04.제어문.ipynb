{
 "cells": [
  {
   "cell_type": "markdown",
   "metadata": {},
   "source": [
    "**<font size=5: color=\"red\">ch04. 제어문</font>**\n",
    "- if, for-in문 , while, 중첩가능, 중첩for문 안에서의 break(중첩루프 탈출)"
   ]
  },
  {
   "cell_type": "markdown",
   "metadata": {},
   "source": [
    "# 1절. 조건문"
   ]
  },
  {
   "cell_type": "code",
   "execution_count": 1,
   "metadata": {
    "ExecuteTime": {
     "end_time": "2021-02-23T05:38:51.250189Z",
     "start_time": "2021-02-23T05:38:47.902968Z"
    }
   },
   "outputs": [
    {
     "name": "stdout",
     "output_type": "stream",
     "text": [
      "Enter your score >80\n",
      "분발하세요\n",
      "점수를 입력받아 잘한 사람에게 메세지를 출력함\n"
     ]
    }
   ],
   "source": [
    "score = int(input('Enter your score >'))\n",
    "if score>=90 :\n",
    "    print('참 잘했어요')\n",
    "    print('다음에도 기대할께요')\n",
    "else:\n",
    "    print('분발하세요')\n",
    "    \n",
    "print('점수를 입력받아 잘한 사람에게 메세지를 출력함')"
   ]
  },
  {
   "cell_type": "code",
   "execution_count": 6,
   "metadata": {
    "ExecuteTime": {
     "end_time": "2021-02-23T05:55:41.598555Z",
     "start_time": "2021-02-23T05:55:40.581232Z"
    }
   },
   "outputs": [
    {
     "name": "stdout",
     "output_type": "stream",
     "text": [
      "Enter your score >90\n",
      "입력한 점수는 90이고 A등급\n"
     ]
    }
   ],
   "source": [
    "score = int(input('Enter your score >'))\n",
    "if 90 <= score <= 100:\n",
    "    grade ='A' #java와 다르게 if블럭 벗어나도 사용가능.\n",
    "elif 80 <= score < 90:\n",
    "    grade ='B'\n",
    "elif 70 <= score < 80:\n",
    "    grade = 'C'\n",
    "elif 60 <= score < 70:\n",
    "    grade = 'D'\n",
    "elif 0 <= score < 60:\n",
    "    grade ='F'\n",
    "else :\n",
    "    grade = '유효하지 않는 점수'\n",
    "print('입력한 점수는 {}이고 {}등급'.format(score, grade))"
   ]
  },
  {
   "cell_type": "markdown",
   "metadata": {},
   "source": [
    "# 2절. 반복문"
   ]
  },
  {
   "cell_type": "markdown",
   "metadata": {},
   "source": [
    "## 2.1 for-in\n",
    "- for 변수 in 나열 가능한자료:\n",
    "    반복할 문장1\n",
    "    반복할 문장2\n",
    "    ..\n",
    "else :\n",
    "    변수에 값이 할당되지 않을때 한번 실행할 문장.\n",
    "- else 구문은 선택사항"
   ]
  },
  {
   "cell_type": "code",
   "execution_count": 7,
   "metadata": {
    "ExecuteTime": {
     "end_time": "2021-02-23T06:17:04.326532Z",
     "start_time": "2021-02-23T06:17:04.321543Z"
    }
   },
   "outputs": [
    {
     "name": "stdout",
     "output_type": "stream",
     "text": [
      "0\t1\t2\t3\t4\t5\t6\t7\t8\t9\tDONE\n"
     ]
    }
   ],
   "source": [
    "for i in range(10): # 또는 range(1,10,2): \n",
    "    print(i,end='\\t')\n",
    "else:\n",
    "    print('DONE')"
   ]
  },
  {
   "cell_type": "markdown",
   "metadata": {},
   "source": [
    "## 2.2 while\n",
    "- while 조건 : \n",
    "    반복할 문장1\n",
    "    반복할 문장2\n",
    "    ...\n",
    "else:\n",
    "    조건이 거짓일 경우 실행할 문장.\n",
    "- else 구문은 선택사항.\n",
    "- 무한 반복문에 빠지지 않도록 조건식이 바뀔수 있는 변수값을 수정하는 코드 필요"
   ]
  },
  {
   "cell_type": "code",
   "execution_count": 9,
   "metadata": {
    "ExecuteTime": {
     "end_time": "2021-02-23T06:22:50.641455Z",
     "start_time": "2021-02-23T06:22:50.636469Z"
    }
   },
   "outputs": [
    {
     "name": "stdout",
     "output_type": "stream",
     "text": [
      "0\t1\t2\t3\t4\t5\t6\t7\t8\t9\ti값이 10이라서 빠져나감\n"
     ]
    }
   ],
   "source": [
    "# 셀 옆에 In[*] 라고 뜰텐데 계속 실행중 이라고 한다.\n",
    "i = 0\n",
    "while i < 10 :\n",
    "    print(i, end='\\t')\n",
    "    i += 1\n",
    "else:\n",
    "    print(\"i값이 {}이라서 빠져나감\".format(i))"
   ]
  },
  {
   "cell_type": "code",
   "execution_count": 10,
   "metadata": {
    "ExecuteTime": {
     "end_time": "2021-02-23T06:37:14.147695Z",
     "start_time": "2021-02-23T06:37:14.143705Z"
    }
   },
   "outputs": [
    {
     "name": "stdout",
     "output_type": "stream",
     "text": [
      "1부터 100까지 짝수의 합은 2550\n"
     ]
    }
   ],
   "source": [
    "# 1~100 까지의 짝수의 합.\n",
    "sum = 0\n",
    "i = 1\n",
    "while i <= 100 :\n",
    "    if i%2 == 0:\n",
    "        sum += i\n",
    "    i += 1\n",
    "else :\n",
    "    print(\"1부터 100까지 짝수의 합은\", sum)"
   ]
  },
  {
   "cell_type": "markdown",
   "metadata": {},
   "source": [
    "## 2.3 break, continue"
   ]
  },
  {
   "cell_type": "code",
   "execution_count": 11,
   "metadata": {
    "ExecuteTime": {
     "end_time": "2021-02-23T06:39:46.225389Z",
     "start_time": "2021-02-23T06:39:46.221399Z"
    }
   },
   "outputs": [
    {
     "name": "stdout",
     "output_type": "stream",
     "text": [
      "1\t2\t3\t4\t"
     ]
    }
   ],
   "source": [
    "num = 0\n",
    "while num <= 10:\n",
    "    num += 1\n",
    "    if num == 5:\n",
    "        break; #현재 반복문 탈출.\n",
    "    print(num, end='\\t')"
   ]
  },
  {
   "cell_type": "code",
   "execution_count": 13,
   "metadata": {
    "ExecuteTime": {
     "end_time": "2021-02-23T06:40:31.993039Z",
     "start_time": "2021-02-23T06:40:31.989048Z"
    }
   },
   "outputs": [
    {
     "name": "stdout",
     "output_type": "stream",
     "text": [
      "1\t2\t3\t4\t6\t7\t8\t9\t10\t11\t"
     ]
    }
   ],
   "source": [
    "num = 0\n",
    "while num <= 10: #(2)이쪽으로 올라온다.\n",
    "    num += 1\n",
    "    if num == 5:\n",
    "        continue; #(1)반복문의 조건으로 감.\n",
    "    print(num, end='\\t')"
   ]
  },
  {
   "cell_type": "code",
   "execution_count": 18,
   "metadata": {
    "ExecuteTime": {
     "end_time": "2021-02-23T06:47:02.808846Z",
     "start_time": "2021-02-23T06:47:02.803880Z"
    }
   },
   "outputs": [
    {
     "data": {
      "text/plain": [
       "16"
      ]
     },
     "execution_count": 18,
     "metadata": {},
     "output_type": "execute_result"
    }
   ],
   "source": [
    "# 숫자 찾기 게임.\n",
    "\"\"\"\n",
    "1~ 100 사이의 숫자를 맞추는 프로그램을 제작하시오.\n",
    "(프로그램 안에서 임의의 숫자가 만들어지고, 숫자를 맞추도록 한다.\n",
    "방법1.숫자가 틀리면 up, down으로 알려주고 숫자를 맞추면 종료한다.\n",
    "방법2.숫자가 틀리면 min~max 사이의 수 라고 알려주고 숫자를 맞추면 종료한다.)\n",
    "\"\"\"\n",
    "import random\n",
    "# random.seed(1) # 랜덤수를 고정.\n",
    "random.randint(1, 100) #1~100 랜덤픽.\n",
    "\n",
    "num = random.randint(1,100)\n",
    "num"
   ]
  },
  {
   "cell_type": "code",
   "execution_count": null,
   "metadata": {},
   "outputs": [],
   "source": [
    "\"\"\" 방법1.\n",
    "min = 1\n",
    "max = 100\n",
    "randomNum = random.randint(min, max)\n",
    "inputNum =0\n",
    "while randomNum != inputNum:\n",
    "    print(min, '~', max, '사이의 컴퓨터가 선택한 특정 수를 맞춰보세요 : ')\n",
    "    inputNum = int(input())\n",
    "    if randomNum < inputNum:\n",
    "        max = inputNum -1\n",
    "        print('당신이 입력한 수보다 작은 수 입니다.')\n",
    "        \n",
    "\"\"\""
   ]
  },
  {
   "cell_type": "code",
   "execution_count": null,
   "metadata": {},
   "outputs": [],
   "source": [
    "\"\"\"\n",
    "방법2.\n",
    "\n",
    "\"\"\""
   ]
  },
  {
   "cell_type": "markdown",
   "metadata": {},
   "source": [
    "## 3절. 중첩루프 : 반복문 안에 반복문.\n",
    "- 2차원 이상의 데이터 구조의 모든 항목들을 처리하기 위해 사용"
   ]
  },
  {
   "cell_type": "code",
   "execution_count": 19,
   "metadata": {
    "ExecuteTime": {
     "end_time": "2021-02-23T07:05:13.099128Z",
     "start_time": "2021-02-23T07:05:13.096126Z"
    }
   },
   "outputs": [
    {
     "name": "stdout",
     "output_type": "stream",
     "text": [
      "[[1, 2, 3, 4, 5], [10, 20, 30, 40], [11, 22, 33, 44]]\n"
     ]
    }
   ],
   "source": [
    "list_2d = [[1,2,3,4,5],[10,20,30,40],[11,22,33,44]]\n",
    "print(list_2d) "
   ]
  },
  {
   "cell_type": "code",
   "execution_count": 22,
   "metadata": {
    "ExecuteTime": {
     "end_time": "2021-02-23T07:08:05.619355Z",
     "start_time": "2021-02-23T07:08:05.615365Z"
    }
   },
   "outputs": [
    {
     "name": "stdout",
     "output_type": "stream",
     "text": [
      "0행 0열 : 1\t0행 1열 : 2\t0행 2열 : 3\t0행 3열 : 4\t0행 4열 : 5\t\n",
      "1행 0열 : 10\t1행 1열 : 20\t1행 2열 : 30\t1행 3열 : 40\t\n",
      "2행 0열 : 11\t2행 1열 : 22\t2행 2열 : 33\t2행 3열 : 44\t\n"
     ]
    }
   ],
   "source": [
    "for i in range(len(list_2d)):\n",
    "    for j in range(len(list_2d[i])):\n",
    "        print(\"{}행 {}열 : {}\".format(i, j, list_2d[i][j]), end='\\t')\n",
    "    print()"
   ]
  },
  {
   "cell_type": "code",
   "execution_count": 23,
   "metadata": {
    "ExecuteTime": {
     "end_time": "2021-02-23T07:09:50.517756Z",
     "start_time": "2021-02-23T07:09:50.512742Z"
    }
   },
   "outputs": [
    {
     "name": "stdout",
     "output_type": "stream",
     "text": [
      "0행 0열 : 1\t0행 1열 : 2\t0행 2열 : 3\t0행 3열 : 4\t0행 4열 : 5\t\n",
      "1행 0열 : 10\t1행 1열 : 20\t1행 2열 : 30\t1행 3열 : 40\t\n",
      "2행 0열 : 11\t2행 1열 : 22\t2행 2열 : 33\t2행 3열 : 44\t\n"
     ]
    }
   ],
   "source": [
    "for i, row in enumerate(list_2d):\n",
    "    for j , data in enumerate(row):\n",
    "        print(\"{}행 {}열 : {}\".format(i,j,data), end='\\t')\n",
    "    print()"
   ]
  },
  {
   "cell_type": "code",
   "execution_count": null,
   "metadata": {},
   "outputs": [],
   "source": [
    "# 2~9 단 까지 구구단 전체 출력하라.\n",
    "'''\n",
    "2*1 = 2 , 3*1 = 3, 4*1 = 4 5*1 = 5 , ... 9*1 = 9\n",
    "2*2 = 4 , 3*2 = 6, 4*2 = 8 5*2 = 10 , ... 9*2 = 18\n",
    "\n",
    "    ...\n",
    "    \n",
    "2*9 = 18 , 3*9 = 27, 4*9 = 36 5*9 = 45 , ... 9*9 = 81\n",
    "'''"
   ]
  },
  {
   "cell_type": "code",
   "execution_count": 27,
   "metadata": {
    "ExecuteTime": {
     "end_time": "2021-02-23T07:17:38.602909Z",
     "start_time": "2021-02-23T07:17:38.596953Z"
    }
   },
   "outputs": [
    {
     "name": "stdout",
     "output_type": "stream",
     "text": [
      "1 * 2 =  2\t1 * 3 =  3\t1 * 4 =  4\t1 * 5 =  5\t1 * 6 =  6\t1 * 7 =  7\t1 * 8 =  8\t1 * 9 =  9\t\n",
      "2 * 2 =  4\t2 * 3 =  6\t2 * 4 =  8\t2 * 5 = 10\t2 * 6 = 12\t2 * 7 = 14\t2 * 8 = 16\t2 * 9 = 18\t\n",
      "3 * 2 =  6\t3 * 3 =  9\t3 * 4 = 12\t3 * 5 = 15\t3 * 6 = 18\t3 * 7 = 21\t3 * 8 = 24\t3 * 9 = 27\t\n",
      "4 * 2 =  8\t4 * 3 = 12\t4 * 4 = 16\t4 * 5 = 20\t4 * 6 = 24\t4 * 7 = 28\t4 * 8 = 32\t4 * 9 = 36\t\n",
      "5 * 2 = 10\t5 * 3 = 15\t5 * 4 = 20\t5 * 5 = 25\t5 * 6 = 30\t5 * 7 = 35\t5 * 8 = 40\t5 * 9 = 45\t\n",
      "6 * 2 = 12\t6 * 3 = 18\t6 * 4 = 24\t6 * 5 = 30\t6 * 6 = 36\t6 * 7 = 42\t6 * 8 = 48\t6 * 9 = 54\t\n",
      "7 * 2 = 14\t7 * 3 = 21\t7 * 4 = 28\t7 * 5 = 35\t7 * 6 = 42\t7 * 7 = 49\t7 * 8 = 56\t7 * 9 = 63\t\n",
      "8 * 2 = 16\t8 * 3 = 24\t8 * 4 = 32\t8 * 5 = 40\t8 * 6 = 48\t8 * 7 = 56\t8 * 8 = 64\t8 * 9 = 72\t\n",
      "9 * 2 = 18\t9 * 3 = 27\t9 * 4 = 36\t9 * 5 = 45\t9 * 6 = 54\t9 * 7 = 63\t9 * 8 = 72\t9 * 9 = 81\t\n"
     ]
    }
   ],
   "source": [
    "for i in range(1,10):\n",
    "    for j in range(2,10):\n",
    "        print(\"{} * {} = {:>2}\".format(i,j,i*j), end='\\t')\n",
    "    print()"
   ]
  },
  {
   "cell_type": "markdown",
   "metadata": {},
   "source": [
    "# 4절. 중첩루프 탈출."
   ]
  },
  {
   "cell_type": "code",
   "execution_count": 28,
   "metadata": {
    "ExecuteTime": {
     "end_time": "2021-02-23T07:20:23.586384Z",
     "start_time": "2021-02-23T07:20:23.581397Z"
    }
   },
   "outputs": [
    {
     "name": "stdout",
     "output_type": "stream",
     "text": [
      "0 1\n",
      "0 2\n",
      "2 1\n"
     ]
    }
   ],
   "source": [
    " #이 예제에서의 break는 안쪽 반복문을 빠져나옴.\n",
    "for a in range(0,3): #a =0, 1, 2\n",
    "    for b in range(1,3): #b =1, 2\n",
    "        if a==b:\n",
    "            break;\n",
    "        print(a,b)"
   ]
  },
  {
   "cell_type": "code",
   "execution_count": 31,
   "metadata": {
    "ExecuteTime": {
     "end_time": "2021-02-23T07:38:10.393019Z",
     "start_time": "2021-02-23T07:38:10.388058Z"
    }
   },
   "outputs": [
    {
     "name": "stdout",
     "output_type": "stream",
     "text": [
      "0 1\n",
      "0 2\n"
     ]
    }
   ],
   "source": [
    "# break를 만나면 바깥쪽 반복문 까지 탈출, 방법1. 플래그 변수 이용.\n",
    "break_out_flag = False\n",
    "for a in range(3):\n",
    "    for b in range(1,3):\n",
    "        if a == b:\n",
    "            break_out_flag =True\n",
    "            break;\n",
    "        print(a, b)\n",
    "    if break_out_flag:\n",
    "        break;"
   ]
  },
  {
   "cell_type": "code",
   "execution_count": 32,
   "metadata": {
    "ExecuteTime": {
     "end_time": "2021-02-23T07:40:23.912064Z",
     "start_time": "2021-02-23T07:40:23.909071Z"
    }
   },
   "outputs": [],
   "source": [
    "# break 를 만나면 바깥쪽 반복문까지 탈출, 방법2 : Exception 이용.(에러 메세지 안뿌리는.)"
   ]
  },
  {
   "cell_type": "code",
   "execution_count": 33,
   "metadata": {
    "ExecuteTime": {
     "end_time": "2021-02-23T07:42:10.736843Z",
     "start_time": "2021-02-23T07:42:10.732854Z"
    }
   },
   "outputs": [],
   "source": [
    "class BreakOutLoop(Exception):  #class 생성 = class BreakOutLoop:\n",
    "    pass #아무것도 수행하지 않는다. class에 아무것도 없으면 에러 발생."
   ]
  },
  {
   "cell_type": "code",
   "execution_count": 39,
   "metadata": {
    "ExecuteTime": {
     "end_time": "2021-02-23T07:45:04.736478Z",
     "start_time": "2021-02-23T07:45:04.731482Z"
    }
   },
   "outputs": [
    {
     "name": "stdout",
     "output_type": "stream",
     "text": [
      "0 1\n",
      "0 2\n"
     ]
    }
   ],
   "source": [
    "for a in range(3): #0~2까지 \n",
    "    try:\n",
    "        for b in range(1,3):\n",
    "            if a == b:\n",
    "                raise BreakOutLoop\n",
    "            print(a, b)\n",
    "    except BreakOutLoop :\n",
    "        break;\n",
    "# 들여쓰기 조심."
   ]
  },
  {
   "cell_type": "code",
   "execution_count": 40,
   "metadata": {
    "ExecuteTime": {
     "end_time": "2021-02-23T07:46:44.473930Z",
     "start_time": "2021-02-23T07:46:44.468944Z"
    }
   },
   "outputs": [
    {
     "name": "stdout",
     "output_type": "stream",
     "text": [
      "0 1\n",
      "0 2\n",
      "a와 b가 같아지면 break\n"
     ]
    }
   ],
   "source": [
    "try:\n",
    "    for a in range(3):\n",
    "        for b in range(1,3):\n",
    "            if a == b:\n",
    "                raise BreakOutLoop\n",
    "            print(a, b)\n",
    "except BreakOutLoop :\n",
    "    print('a와 b가 같아지면 break')"
   ]
  },
  {
   "cell_type": "markdown",
   "metadata": {},
   "source": [
    "### 2. 연습 문제"
   ]
  },
  {
   "cell_type": "code",
   "execution_count": null,
   "metadata": {},
   "outputs": [],
   "source": [
    "# 1. 양의 정수를 입력 받아 홀수인지 짝수인지를 판별하는 프로그램을 작성하세요.\n",
    "# 양의 정수가 아니면 숫자를 다시 입력 받아야 합니다.\n",
    "num = 0\n",
    "while num <= 10:\n",
    "    if num%2 == 1:\n",
    "        print(num, end='\\t')\n",
    "    num += 1\n",
    "\n",
    "\n",
    "num = 0\n",
    "while num \n",
    "if num%2 == 0:\n",
    "    print('짝수 = ',num)\n",
    "else :\n",
    "    print('홀수 = ', num)\n",
    "        "
   ]
  },
  {
   "cell_type": "code",
   "execution_count": 2,
   "metadata": {
    "ExecuteTime": {
     "end_time": "2021-03-10T13:33:56.833911Z",
     "start_time": "2021-03-10T13:33:55.310639Z"
    }
   },
   "outputs": [
    {
     "name": "stdout",
     "output_type": "stream",
     "text": [
      "양의 정수를 입력하세요5\n",
      "5를 입력하셨네요. 홀수입니다\n"
     ]
    }
   ],
   "source": [
    "# 실습형 연습문제 1\n",
    "num = -1\n",
    "while(num<=0):\n",
    "    num = int(input('양의 정수를 입력하세요'))\n",
    "    if(num>0) and (num%2==0):\n",
    "        print(\"{}를 입력하셨네요. 짝수입니다\".format(num))\n",
    "    elif (num>0) and (num%2 ==1):\n",
    "        print(\"{}를 입력하셨네요. 홀수입니다\".format(num))\n",
    "    else:\n",
    "        print(\"양수\")"
   ]
  },
  {
   "cell_type": "code",
   "execution_count": 3,
   "metadata": {
    "ExecuteTime": {
     "end_time": "2021-03-10T13:34:42.717955Z",
     "start_time": "2021-03-10T13:34:40.707321Z"
    }
   },
   "outputs": [
    {
     "name": "stdout",
     "output_type": "stream",
     "text": [
      "양수를 입력 : 21\n",
      "홀수\n"
     ]
    }
   ],
   "source": [
    "while(True):\n",
    "    num = int(input('양수를 입력 : '))\n",
    "    if(num>=0):\n",
    "        if num%2==0:\n",
    "            print(\"짝수\")\n",
    "        else:\n",
    "            print(\"홀수\")\n",
    "        break\n",
    "    else:\n",
    "        print(\"양수를 입력해\")"
   ]
  },
  {
   "cell_type": "code",
   "execution_count": 53,
   "metadata": {
    "ExecuteTime": {
     "end_time": "2021-02-23T08:16:26.703296Z",
     "start_time": "2021-02-23T08:16:26.687674Z"
    }
   },
   "outputs": [
    {
     "name": "stdout",
     "output_type": "stream",
     "text": [
      "408\n"
     ]
    }
   ],
   "source": [
    "# 2. 1~50까지 자연수 중 3의 배수의 총합을 출력하는 프로그램을 작성하세요\n",
    "sum = 0\n",
    "for i in range(1,51):\n",
    "    if i%3 == 0:\n",
    "        sum = sum + i\n",
    "    else:\n",
    "        pass\n",
    "print(sum) "
   ]
  },
  {
   "cell_type": "code",
   "execution_count": 4,
   "metadata": {
    "ExecuteTime": {
     "end_time": "2021-03-10T13:35:18.045128Z",
     "start_time": "2021-03-10T13:35:18.027663Z"
    }
   },
   "outputs": [
    {
     "name": "stdout",
     "output_type": "stream",
     "text": [
      "a\n",
      "*****\n",
      "*****\n",
      "*****\n",
      "*****\n",
      "*****\n",
      "b\n",
      "*\n",
      "**\n",
      "***\n",
      "****\n",
      "*****\n"
     ]
    }
   ],
   "source": [
    "print('a')\n",
    "for i in range(5):\n",
    "    for j in range(5):\n",
    "        print('*', end='')\n",
    "    print()\n",
    "print('b')\n",
    "for i in range(5):\n",
    "    for j in range(i+1):\n",
    "        print('*', end='')\n",
    "    print()"
   ]
  },
  {
   "cell_type": "code",
   "execution_count": 5,
   "metadata": {
    "ExecuteTime": {
     "end_time": "2021-03-10T13:35:32.335035Z",
     "start_time": "2021-03-10T13:35:32.315091Z"
    }
   },
   "outputs": [
    {
     "name": "stdout",
     "output_type": "stream",
     "text": [
      "c\n",
      "*****\n",
      "****\n",
      "***\n",
      "**\n",
      "*\n"
     ]
    }
   ],
   "source": [
    "print('c')\n",
    "for i in range(5, 0, -1):\n",
    "    for j in range(i):\n",
    "        print('*', end='')\n",
    "    print()"
   ]
  },
  {
   "cell_type": "code",
   "execution_count": 6,
   "metadata": {
    "ExecuteTime": {
     "end_time": "2021-03-10T13:35:38.622937Z",
     "start_time": "2021-03-10T13:35:38.604990Z"
    }
   },
   "outputs": [
    {
     "name": "stdout",
     "output_type": "stream",
     "text": [
      "d\n",
      "    *\n",
      "   **\n",
      "  ***\n",
      " ****\n",
      "*****\n"
     ]
    }
   ],
   "source": [
    "print('d')\n",
    "for j in range(1,6):\n",
    "    for i in range(5-j):\n",
    "        print(' ', end='')\n",
    "    for i in range(j):\n",
    "        print('*', end='')\n",
    "    print()"
   ]
  },
  {
   "cell_type": "code",
   "execution_count": 7,
   "metadata": {
    "ExecuteTime": {
     "end_time": "2021-03-10T13:35:47.060766Z",
     "start_time": "2021-03-10T13:35:47.052791Z"
    }
   },
   "outputs": [
    {
     "name": "stdout",
     "output_type": "stream",
     "text": [
      "d\n",
      "    *\n",
      "   **\n",
      "  ***\n",
      " ****\n",
      "*****\n"
     ]
    }
   ],
   "source": [
    "print('d')\n",
    "for j in range(1,6):\n",
    "    start = ''\n",
    "    for i in range(5-j):\n",
    "        start += ' '\n",
    "    for i in range(j):\n",
    "        start += '*'\n",
    "    print(start)"
   ]
  },
  {
   "cell_type": "code",
   "execution_count": 8,
   "metadata": {
    "ExecuteTime": {
     "end_time": "2021-03-10T13:35:55.258649Z",
     "start_time": "2021-03-10T13:35:55.239676Z"
    }
   },
   "outputs": [
    {
     "name": "stdout",
     "output_type": "stream",
     "text": [
      "e\n",
      "*****\n",
      " ****\n",
      "  ***\n",
      "   **\n",
      "    *\n"
     ]
    }
   ],
   "source": [
    "print('e')\n",
    "for i in range(5,0, -1):\n",
    "    for k in range(5-i):\n",
    "        print(' ', end='')\n",
    "    for j in range(i):\n",
    "        print('*', end='')\n",
    "    print()"
   ]
  },
  {
   "cell_type": "markdown",
   "metadata": {},
   "source": [
    "### 3. 연습문제"
   ]
  },
  {
   "cell_type": "code",
   "execution_count": 44,
   "metadata": {
    "ExecuteTime": {
     "end_time": "2021-02-23T08:04:35.130416Z",
     "start_time": "2021-02-23T08:04:35.126427Z"
    }
   },
   "outputs": [
    {
     "name": "stdout",
     "output_type": "stream",
     "text": [
      "165\n"
     ]
    }
   ],
   "source": [
    "# 1. 다음 코드는 1부터 30까지(30포함) 자연수 중에서 3의 배수의 총 합을 출력하는 프로그램입니다. 빈칸의 코드를 완성하시오.\n",
    "sum = 0\n",
    "for i in range(1,31):\n",
    "    if i%3 == 0:\n",
    "        sum = sum + i\n",
    "    else:\n",
    "        pass\n",
    "print(sum) "
   ]
  },
  {
   "cell_type": "code",
   "execution_count": 43,
   "metadata": {
    "ExecuteTime": {
     "end_time": "2021-02-23T07:58:04.272026Z",
     "start_time": "2021-02-23T07:58:04.267040Z"
    }
   },
   "outputs": [
    {
     "name": "stdout",
     "output_type": "stream",
     "text": [
      "1\t3\t5\t7\t9\t"
     ]
    }
   ],
   "source": [
    "# 2. 다음 코드의 실행결과가 “1 3 5 7 9”가 되도록 빈칸을 완성하시오\n",
    "num = 0\n",
    "while num <= 10:\n",
    "    if num%2 == 1:\n",
    "        print(num, end='\\t')\n",
    "    num += 1"
   ]
  },
  {
   "cell_type": "code",
   "execution_count": 46,
   "metadata": {
    "ExecuteTime": {
     "end_time": "2021-02-23T08:09:59.439451Z",
     "start_time": "2021-02-23T08:09:59.435461Z"
    }
   },
   "outputs": [
    {
     "name": "stdout",
     "output_type": "stream",
     "text": [
      "1\t2\t3\t\n",
      "4\t5\t6\t7\t\n",
      "8\t9\t\n"
     ]
    }
   ],
   "source": [
    "# 3. 다음 2차원 리스트의 모든 값을 출력하는 코드입니다. 빈칸을 완성하시오.\n",
    "list2d = [ [1,2,3],[4,5,6,7],[8,9]]\n",
    "for row in list2d:\n",
    "    for data in row:\n",
    "        print(data, end='\\t')\n",
    "    print() \n",
    "\n",
    "# 결과 :\n",
    "# 1 2 3\n",
    "# 4 5 6 7\n",
    "# 8 9\n"
   ]
  },
  {
   "cell_type": "code",
   "execution_count": 9,
   "metadata": {
    "ExecuteTime": {
     "end_time": "2021-03-10T13:37:26.779912Z",
     "start_time": "2021-03-10T13:37:26.765945Z"
    }
   },
   "outputs": [
    {
     "name": "stdout",
     "output_type": "stream",
     "text": [
      "0 apple\n",
      "1 banana\n"
     ]
    }
   ],
   "source": [
    "# 4. 다음 빈칸에 들어갈 함수 이름은?\n",
    "colors = {\"red\":'apple', \"yellow\":'banana'}\n",
    "for i, v in enumerate(colors.values()):\n",
    "    print(i, v)\n",
    "\n",
    "# 0 apple\n",
    "# 1 banana\n"
   ]
  },
  {
   "cell_type": "code",
   "execution_count": 48,
   "metadata": {
    "ExecuteTime": {
     "end_time": "2021-02-23T08:14:09.375912Z",
     "start_time": "2021-02-23T08:14:09.370921Z"
    }
   },
   "outputs": [
    {
     "name": "stdout",
     "output_type": "stream",
     "text": [
      "1 0\n"
     ]
    }
   ],
   "source": [
    "# 5. 다음 코드의 실행결과는?\n",
    "for i in range(0, 2):\n",
    "    for j in range(0,2):\n",
    "        if i==j:\n",
    "            break\n",
    "        print(i, j)"
   ]
  },
  {
   "cell_type": "code",
   "execution_count": 51,
   "metadata": {
    "ExecuteTime": {
     "end_time": "2021-02-23T08:14:45.583310Z",
     "start_time": "2021-02-23T08:14:45.579320Z"
    }
   },
   "outputs": [
    {
     "name": "stdout",
     "output_type": "stream",
     "text": [
      "0 0\n",
      "0 1\n",
      "1 0\n",
      "1 1\n"
     ]
    }
   ],
   "source": [
    "# 6. 다음 코드의 실행 결과로 출력될 수 없는 것은?\n",
    "for i in range(0, 2):\n",
    "    for j in range(0,2):\n",
    "        print(i, j)\n",
    "    if i==j:\n",
    "        break\n",
    "# ① 0 0 ② 0 1 ③ 1 0 ④ 1 1"
   ]
  },
  {
   "cell_type": "code",
   "execution_count": 52,
   "metadata": {
    "ExecuteTime": {
     "end_time": "2021-02-23T08:15:01.394252Z",
     "start_time": "2021-02-23T08:15:01.388270Z"
    }
   },
   "outputs": [
    {
     "name": "stdout",
     "output_type": "stream",
     "text": [
      "3\t5\t7\t9\t"
     ]
    }
   ],
   "source": [
    "# 7. 다음 코드의 실행결과는?\n",
    "L = [3, 4, 5, 6, 7, 8, 9, 10]\n",
    "for i, data in enumerate(L):\n",
    "    if (i%2 == 0):\n",
    "        print(data, end='\\t')\n"
   ]
  },
  {
   "cell_type": "code",
   "execution_count": null,
   "metadata": {},
   "outputs": [],
   "source": []
  },
  {
   "cell_type": "code",
   "execution_count": null,
   "metadata": {},
   "outputs": [],
   "source": []
  },
  {
   "cell_type": "code",
   "execution_count": null,
   "metadata": {},
   "outputs": [],
   "source": []
  },
  {
   "cell_type": "code",
   "execution_count": null,
   "metadata": {},
   "outputs": [],
   "source": []
  },
  {
   "cell_type": "code",
   "execution_count": null,
   "metadata": {},
   "outputs": [],
   "source": []
  },
  {
   "cell_type": "code",
   "execution_count": null,
   "metadata": {},
   "outputs": [],
   "source": []
  },
  {
   "cell_type": "code",
   "execution_count": null,
   "metadata": {},
   "outputs": [],
   "source": []
  },
  {
   "cell_type": "code",
   "execution_count": null,
   "metadata": {},
   "outputs": [],
   "source": []
  },
  {
   "cell_type": "code",
   "execution_count": null,
   "metadata": {},
   "outputs": [],
   "source": []
  },
  {
   "cell_type": "code",
   "execution_count": null,
   "metadata": {},
   "outputs": [],
   "source": []
  },
  {
   "cell_type": "code",
   "execution_count": null,
   "metadata": {},
   "outputs": [],
   "source": []
  },
  {
   "cell_type": "code",
   "execution_count": null,
   "metadata": {},
   "outputs": [],
   "source": []
  },
  {
   "cell_type": "code",
   "execution_count": null,
   "metadata": {},
   "outputs": [],
   "source": []
  },
  {
   "cell_type": "code",
   "execution_count": null,
   "metadata": {},
   "outputs": [],
   "source": []
  },
  {
   "cell_type": "code",
   "execution_count": null,
   "metadata": {},
   "outputs": [],
   "source": []
  },
  {
   "cell_type": "code",
   "execution_count": null,
   "metadata": {},
   "outputs": [],
   "source": []
  },
  {
   "cell_type": "code",
   "execution_count": null,
   "metadata": {},
   "outputs": [],
   "source": []
  },
  {
   "cell_type": "code",
   "execution_count": null,
   "metadata": {},
   "outputs": [],
   "source": []
  },
  {
   "cell_type": "code",
   "execution_count": null,
   "metadata": {},
   "outputs": [],
   "source": []
  },
  {
   "cell_type": "code",
   "execution_count": null,
   "metadata": {},
   "outputs": [],
   "source": []
  },
  {
   "cell_type": "code",
   "execution_count": null,
   "metadata": {},
   "outputs": [],
   "source": []
  },
  {
   "cell_type": "code",
   "execution_count": null,
   "metadata": {},
   "outputs": [],
   "source": []
  },
  {
   "cell_type": "code",
   "execution_count": null,
   "metadata": {},
   "outputs": [],
   "source": []
  },
  {
   "cell_type": "code",
   "execution_count": null,
   "metadata": {},
   "outputs": [],
   "source": []
  }
 ],
 "metadata": {
  "kernelspec": {
   "display_name": "Python 3",
   "language": "python",
   "name": "python3"
  },
  "language_info": {
   "codemirror_mode": {
    "name": "ipython",
    "version": 3
   },
   "file_extension": ".py",
   "mimetype": "text/x-python",
   "name": "python",
   "nbconvert_exporter": "python",
   "pygments_lexer": "ipython3",
   "version": "3.8.5"
  },
  "toc": {
   "base_numbering": 1,
   "nav_menu": {},
   "number_sections": false,
   "sideBar": false,
   "skip_h1_title": false,
   "title_cell": "Table of Contents",
   "title_sidebar": "Contents",
   "toc_cell": false,
   "toc_position": {
    "height": "700.906px",
    "left": "1532.33px",
    "top": "190.125px",
    "width": "349.078px"
   },
   "toc_section_display": true,
   "toc_window_display": true
  },
  "varInspector": {
   "cols": {
    "lenName": 16,
    "lenType": 16,
    "lenVar": 40
   },
   "kernels_config": {
    "python": {
     "delete_cmd_postfix": "",
     "delete_cmd_prefix": "del ",
     "library": "var_list.py",
     "varRefreshCmd": "print(var_dic_list())"
    },
    "r": {
     "delete_cmd_postfix": ") ",
     "delete_cmd_prefix": "rm(",
     "library": "var_list.r",
     "varRefreshCmd": "cat(var_dic_list()) "
    }
   },
   "types_to_exclude": [
    "module",
    "function",
    "builtin_function_or_method",
    "instance",
    "_Feature"
   ],
   "window_display": false
  }
 },
 "nbformat": 4,
 "nbformat_minor": 4
}
