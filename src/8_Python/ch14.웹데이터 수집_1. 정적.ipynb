{
 "cells": [
  {
   "cell_type": "markdown",
   "metadata": {
    "ExecuteTime": {
     "end_time": "2021-03-17T00:36:27.575330Z",
     "start_time": "2021-03-17T00:36:27.571340Z"
    }
   },
   "source": [
    "**<b><font color=\"red\">ch14. 웹데이터 수집</font><b>**"
   ]
  },
  {
   "cell_type": "markdown",
   "metadata": {},
   "source": [
    "# 1절. BeautifulSoup 과 parser\n",
    "- 'pip install beautifulsoup4' -> 아나콘다 설치하면 자동 설치되는 패키지 7500개에 포함.\n",
    "- 'pip install requests_file'\n",
    "- 공식사이트 : https://www.crummy.com/software/BeautifulSoup/"
   ]
  },
  {
   "cell_type": "code",
   "execution_count": 1,
   "metadata": {
    "ExecuteTime": {
     "end_time": "2021-03-17T12:28:38.289394Z",
     "start_time": "2021-03-17T12:28:38.156110Z"
    }
   },
   "outputs": [],
   "source": [
    "import requests\n",
    "from requests_file import FileAdapter"
   ]
  },
  {
   "cell_type": "code",
   "execution_count": 2,
   "metadata": {
    "ExecuteTime": {
     "end_time": "2021-03-17T12:29:50.320653Z",
     "start_time": "2021-03-17T12:29:50.301707Z"
    }
   },
   "outputs": [
    {
     "data": {
      "text/plain": [
       "<Response [200]>"
      ]
     },
     "execution_count": 2,
     "metadata": {},
     "output_type": "execute_result"
    }
   ],
   "source": [
    "s = requests.Session()\n",
    "s.mount(\"file://\",FileAdapter())\n",
    "#response = s.get(\"file:///WDS/BigDataUI/data/src/08.Python/ch14.sample.html\")\n",
    "response = s.get(\"file:///C:/Users/V3RITaS/Desktop/WDS/src/8_Python/ch14.sample.html\")\n",
    "# E:/WDS/BigDataUI/data/src/08.Python/ch14.sample.html\n",
    "response #<Response [200]> 정상적인 상태. 404 -> 경로 오류"
   ]
  },
  {
   "cell_type": "code",
   "execution_count": 3,
   "metadata": {
    "ExecuteTime": {
     "end_time": "2021-03-17T12:29:54.600987Z",
     "start_time": "2021-03-17T12:29:54.585005Z"
    }
   },
   "outputs": [
    {
     "name": "stdout",
     "output_type": "stream",
     "text": [
      "success!\n"
     ]
    }
   ],
   "source": [
    "if response.status_code == 200:\n",
    "    print(\"success!\")\n",
    "elif response.status_code == 404:\n",
    "    print(\"Not found\")"
   ]
  },
  {
   "cell_type": "code",
   "execution_count": 4,
   "metadata": {
    "ExecuteTime": {
     "end_time": "2021-03-17T12:29:55.938947Z",
     "start_time": "2021-03-17T12:29:55.920030Z"
    }
   },
   "outputs": [
    {
     "name": "stdout",
     "output_type": "stream",
     "text": [
      "success!\n"
     ]
    }
   ],
   "source": [
    "if response :\n",
    "    print(\"success!\")\n",
    "else :\n",
    "    print(\"Not found\")"
   ]
  },
  {
   "cell_type": "code",
   "execution_count": 5,
   "metadata": {
    "ExecuteTime": {
     "end_time": "2021-03-17T12:29:57.699180Z",
     "start_time": "2021-03-17T12:29:57.680203Z"
    },
    "scrolled": false
   },
   "outputs": [
    {
     "data": {
      "text/plain": [
       "b'<html>\\r\\n   <head>\\r\\n      <title>HTMLsample</title>\\r\\n      <style>\\r\\n          span {color:red;}\\r\\n      </style>\\r\\n   </head>\\r\\n   <body>\\r\\n      <h1 class=\"greeting css\">Hello CSS</h1> \\r\\n      <h1 class=\"css\">Hi CSS</h1>\\r\\n      <div id=\"subject\">\\xec\\x84\\xa0\\xed\\x83\\x9d\\xec\\x9e\\x90</div>\\r\\n      <p>CSS \\xec\\x84\\xa0\\xed\\x83\\x9d\\xec\\x9e\\x90\\xeb\\x8a\\x94 \\xeb\\x8b\\xa4\\xec\\x96\\x91\\xed\\x95\\x9c \\xea\\xb3\\xb3\\xec\\x97\\x90 \\xed\\x99\\x9c\\xec\\x9a\\xa9\\xeb\\x90\\xa9\\xeb\\x8b\\x88\\xeb\\x8b\\xa4.</p>\\r\\n      <div class=\"contents\">\\xec\\x84\\xa0\\xed\\x83\\x9d\\xec\\x9e\\x90\\xeb\\xa5\\xbc \\xec\\x96\\xb4\\xeb\\x96\\xbb\\xea\\xb2\\x8c \\xec\\x9e\\x91\\xec\\x84\\xb1\\xed\\x95\\x98\\xeb\\x8a\\x90\\xeb\\x83\\x90\\xec\\x97\\x90 \\xeb\\x94\\xb0\\xeb\\x9d\\xbc\\r\\n             <span>\\xeb\\x8b\\xa4\\xeb\\xa5\\xb8 <b>\\xec\\x9a\\x94\\xec\\x86\\x8c\\xea\\xb0\\x80 \\xeb\\xb0\\x98\\xed\\x99\\x98</b></span>\\xeb\\x90\\xa9\\xeb\\x8b\\x88\\xeb\\x8b\\xa4.\\r\\n      </div>\\r\\n      <div>CSS \\xec\\x84\\xa0\\xed\\x83\\x9d\\xec\\x9e\\x90\\xeb\\x8a\\x94 \\xeb\\x8b\\xa4\\xec\\x96\\x91\\xed\\x95\\x9c \\xea\\xb3\\xb3\\xec\\x97\\x90 <b>\\xed\\x99\\x9c\\xec\\x9a\\xa9</b>\\xeb\\x90\\xa9\\xeb\\x8b\\x88\\xeb\\x8b\\xa4</div>\\r\\n      <input type=\"text\" name=\"passwd\" id=\"passwd\">\\r\\n   </body>\\r\\n\\t\\r\\n</html>'"
      ]
     },
     "execution_count": 5,
     "metadata": {},
     "output_type": "execute_result"
    }
   ],
   "source": [
    "# 한글은 깨지고 엔터와 스페이스바 도 출력된다.\n",
    "response.content"
   ]
  },
  {
   "cell_type": "code",
   "execution_count": 6,
   "metadata": {
    "ExecuteTime": {
     "end_time": "2021-03-17T12:30:01.189396Z",
     "start_time": "2021-03-17T12:30:00.910369Z"
    }
   },
   "outputs": [
    {
     "data": {
      "text/plain": [
       "<html>\n",
       "<head>\n",
       "<title>HTMLsample</title>\n",
       "<style>\n",
       "          span {color:red;}\n",
       "      </style>\n",
       "</head>\n",
       "<body>\n",
       "<h1 class=\"greeting css\">Hello CSS</h1>\n",
       "<h1 class=\"css\">Hi CSS</h1>\n",
       "<div id=\"subject\">선택자</div>\n",
       "<p>CSS 선택자는 다양한 곳에 활용됩니다.</p>\n",
       "<div class=\"contents\">선택자를 어떻게 작성하느냐에 따라\n",
       "             <span>다른 <b>요소가 반환</b></span>됩니다.\n",
       "      </div>\n",
       "<div>CSS 선택자는 다양한 곳에 <b>활용</b>됩니다</div>\n",
       "<input id=\"passwd\" name=\"passwd\" type=\"text\"/>\n",
       "</body>\n",
       "</html>"
      ]
     },
     "execution_count": 6,
     "metadata": {},
     "output_type": "execute_result"
    }
   ],
   "source": [
    "# html 문서 파싱 작업.\n",
    "from bs4 import BeautifulSoup\n",
    "soup = BeautifulSoup(response.content, \"html.parser\")\n",
    "soup"
   ]
  },
  {
   "cell_type": "code",
   "execution_count": 7,
   "metadata": {
    "ExecuteTime": {
     "end_time": "2021-03-17T12:30:04.644716Z",
     "start_time": "2021-03-17T12:30:04.631724Z"
    }
   },
   "outputs": [
    {
     "name": "stdout",
     "output_type": "stream",
     "text": [
      "el =  <h1 class=\"greeting css\">Hello CSS</h1>\n",
      "el.text = Hello CSS\n",
      "el.string = Hello CSS\n",
      "el.attrs = {'class': ['greeting', 'css']}\n",
      "el 의 class속성 = ['greeting', 'css']\n",
      "el.name =  h1\n"
     ]
    }
   ],
   "source": [
    "# (html선택자)  .select_one 하나만 가져와라.  class => .greeting\n",
    "# select => 모든 html선택자 다 가져온다.\n",
    "el = soup.select_one(\"h1\")\n",
    "print(\"el = \", el)\n",
    "print(\"el.text =\", el.text) # 또는 el.string\n",
    "print(\"el.string =\", el.string)\n",
    "print(\"el.attrs =\", el.attrs) # 속성\n",
    "print(\"el 의 class속성 =\", el.attrs['class'])\n",
    "print(\"el.name = \", el.name)"
   ]
  },
  {
   "cell_type": "code",
   "execution_count": 8,
   "metadata": {
    "ExecuteTime": {
     "end_time": "2021-03-17T12:30:06.921025Z",
     "start_time": "2021-03-17T12:30:06.907553Z"
    }
   },
   "outputs": [
    {
     "data": {
      "text/plain": [
       "[<h1 class=\"greeting css\">Hello CSS</h1>, <h1 class=\"css\">Hi CSS</h1>]"
      ]
     },
     "execution_count": 8,
     "metadata": {},
     "output_type": "execute_result"
    }
   ],
   "source": [
    "el = soup.select(\"h1\") #  id -> #\" \" ,  class -> .\" \"\n",
    "el # 리스트로 들어온다."
   ]
  },
  {
   "cell_type": "code",
   "execution_count": 9,
   "metadata": {
    "ExecuteTime": {
     "end_time": "2021-03-17T12:30:08.729358Z",
     "start_time": "2021-03-17T12:30:08.708331Z"
    }
   },
   "outputs": [
    {
     "data": {
      "text/plain": [
       "[<h1 class=\"greeting css\">Hello CSS</h1>]"
      ]
     },
     "execution_count": 9,
     "metadata": {},
     "output_type": "execute_result"
    }
   ],
   "source": [
    "el = soup.select(\".greeting\") #  id -> #\" \" ,  class -> .\" \"\n",
    "el # 무조건 리스트로 들어온다. "
   ]
  },
  {
   "cell_type": "code",
   "execution_count": 10,
   "metadata": {
    "ExecuteTime": {
     "end_time": "2021-03-17T12:30:10.505111Z",
     "start_time": "2021-03-17T12:30:10.494170Z"
    }
   },
   "outputs": [
    {
     "name": "stdout",
     "output_type": "stream",
     "text": [
      "el =  [<h1 class=\"greeting css\">Hello CSS</h1>, <h1 class=\"css\">Hi CSS</h1>]\n",
      "el.text =  ['Hello CSS', 'Hi CSS']\n",
      "el의 string들 =  ['Hello CSS', 'Hi CSS']\n",
      "el의 속성들 =  [{'class': ['greeting', 'css']}, {'class': ['css']}]\n",
      "el의 class =  [['greeting', 'css'], ['css']]\n"
     ]
    }
   ],
   "source": [
    "el = soup.select(\"h1\") #  id -> #\" \" ,  class -> .\" \"\n",
    "print(\"el = \",el) # 리스트로 들어온다.\n",
    "print(\"el.text = \", [e.text for e in el]) # [e.text for e in el] 리스트컴플리헨션.\n",
    "print(\"el의 string들 = \", [e.string for e in el])\n",
    "print(\"el의 속성들 = \", [e.attrs for e in el])\n",
    "print(\"el의 class = \", [e.attrs['class'] for e in el]) \n",
    "# e.attrs['class'] 딕셔너리의 키값"
   ]
  },
  {
   "cell_type": "code",
   "execution_count": 11,
   "metadata": {
    "ExecuteTime": {
     "end_time": "2021-03-17T12:30:11.855357Z",
     "start_time": "2021-03-17T12:30:11.840398Z"
    }
   },
   "outputs": [
    {
     "data": {
      "text/plain": [
       "[<h1 class=\"greeting css\">Hello CSS</h1>,\n",
       " <h1 class=\"css\">Hi CSS</h1>,\n",
       " <p>CSS 선택자는 다양한 곳에 활용됩니다.</p>]"
      ]
     },
     "execution_count": 11,
     "metadata": {},
     "output_type": "execute_result"
    }
   ],
   "source": [
    "soup.select(\"h1, p\") # h1,p 둘다 가져온다"
   ]
  },
  {
   "cell_type": "code",
   "execution_count": 12,
   "metadata": {
    "ExecuteTime": {
     "end_time": "2021-03-17T12:30:13.291429Z",
     "start_time": "2021-03-17T12:30:13.273478Z"
    }
   },
   "outputs": [
    {
     "data": {
      "text/plain": [
       "<h1 class=\"greeting css\">Hello CSS</h1>"
      ]
     },
     "execution_count": 12,
     "metadata": {},
     "output_type": "execute_result"
    }
   ],
   "source": [
    "soup.select_one(\"h1, p\") # 첫번째 하나만 가져온다\n",
    "\n",
    "# select, select_one 에 들어가는 모든 html 선택자들이 들어간다."
   ]
  },
  {
   "cell_type": "code",
   "execution_count": 13,
   "metadata": {
    "ExecuteTime": {
     "end_time": "2021-03-17T12:30:14.934363Z",
     "start_time": "2021-03-17T12:30:14.920369Z"
    }
   },
   "outputs": [
    {
     "data": {
      "text/plain": [
       "<html>\n",
       "<head>\n",
       "<title>HTMLsample</title>\n",
       "<style>\n",
       "          span {color:red;}\n",
       "      </style>\n",
       "</head>\n",
       "<body>\n",
       "<h1 class=\"greeting css\">Hello CSS</h1>\n",
       "<h1 class=\"css\">Hi CSS</h1>\n",
       "<div id=\"subject\">선택자</div>\n",
       "<p>CSS 선택자는 다양한 곳에 활용됩니다.</p>\n",
       "<div class=\"contents\">선택자를 어떻게 작성하느냐에 따라\n",
       "             <span>다른 <b>요소가 반환</b></span>됩니다.\n",
       "      </div>\n",
       "<div>CSS 선택자는 다양한 곳에 <b>활용</b>됩니다</div>\n",
       "<input id=\"passwd\" name=\"passwd\" type=\"text\"/>\n",
       "</body>\n",
       "</html>"
      ]
     },
     "execution_count": 13,
     "metadata": {},
     "output_type": "execute_result"
    }
   ],
   "source": [
    "soup"
   ]
  },
  {
   "cell_type": "code",
   "execution_count": 14,
   "metadata": {
    "ExecuteTime": {
     "end_time": "2021-03-17T12:30:16.274386Z",
     "start_time": "2021-03-17T12:30:16.265412Z"
    }
   },
   "outputs": [
    {
     "data": {
      "text/plain": [
       "[<b>요소가 반환</b>, <b>활용</b>]"
      ]
     },
     "execution_count": 14,
     "metadata": {},
     "output_type": "execute_result"
    }
   ],
   "source": [
    "soup.select(\"div b\") #\" div 밑에 있는 후손선택자들(b) \" 모두 들어간다."
   ]
  },
  {
   "cell_type": "code",
   "execution_count": 15,
   "metadata": {
    "ExecuteTime": {
     "end_time": "2021-03-17T12:30:18.014653Z",
     "start_time": "2021-03-17T12:30:18.006679Z"
    }
   },
   "outputs": [
    {
     "data": {
      "text/plain": [
       "[<b>활용</b>]"
      ]
     },
     "execution_count": 15,
     "metadata": {},
     "output_type": "execute_result"
    }
   ],
   "source": [
    "soup.select(\"div > b\") # 자손선택자 : div 바로 밑에 있는 b만\n",
    "# => div 밑 span밑 b."
   ]
  },
  {
   "cell_type": "code",
   "execution_count": 16,
   "metadata": {
    "ExecuteTime": {
     "end_time": "2021-03-17T12:30:19.610551Z",
     "start_time": "2021-03-17T12:30:19.596587Z"
    }
   },
   "outputs": [
    {
     "data": {
      "text/plain": [
       "[<div class=\"contents\">선택자를 어떻게 작성하느냐에 따라\n",
       "              <span>다른 <b>요소가 반환</b></span>됩니다.\n",
       "       </div>]"
      ]
     },
     "execution_count": 16,
     "metadata": {},
     "output_type": "execute_result"
    }
   ],
   "source": [
    "soup.select(\"div.contents\") # div의 contents"
   ]
  },
  {
   "cell_type": "code",
   "execution_count": 17,
   "metadata": {
    "ExecuteTime": {
     "end_time": "2021-03-17T12:30:22.794836Z",
     "start_time": "2021-03-17T12:30:22.782869Z"
    }
   },
   "outputs": [
    {
     "data": {
      "text/plain": [
       "[<h1 class=\"greeting css\">Hello CSS</h1>]"
      ]
     },
     "execution_count": 17,
     "metadata": {},
     "output_type": "execute_result"
    }
   ],
   "source": [
    "#soup.select(\"h1.greetinh css\") => greeting 밑 css(후손선택자로) 따라서 잘못 가져온다.\n",
    "soup.select(\"h1.greeting.css\") # 이렇게 해야 한다."
   ]
  },
  {
   "cell_type": "code",
   "execution_count": 18,
   "metadata": {
    "ExecuteTime": {
     "end_time": "2021-03-17T12:30:24.221282Z",
     "start_time": "2021-03-17T12:30:24.202303Z"
    }
   },
   "outputs": [
    {
     "data": {
      "text/plain": [
       "<h1 class=\"greeting css\">Hello CSS</h1>"
      ]
     },
     "execution_count": 18,
     "metadata": {},
     "output_type": "execute_result"
    }
   ],
   "source": [
    "soup.select(\"h1.greeting.css\")[0]"
   ]
  },
  {
   "cell_type": "code",
   "execution_count": 19,
   "metadata": {
    "ExecuteTime": {
     "end_time": "2021-03-17T12:30:25.791325Z",
     "start_time": "2021-03-17T12:30:25.776367Z"
    }
   },
   "outputs": [
    {
     "data": {
      "text/plain": [
       "<h1 class=\"greeting css\">Hello CSS</h1>"
      ]
     },
     "execution_count": 19,
     "metadata": {},
     "output_type": "execute_result"
    }
   ],
   "source": [
    "soup.select_one(\"h1.greeting.css\")"
   ]
  },
  {
   "cell_type": "code",
   "execution_count": 20,
   "metadata": {
    "ExecuteTime": {
     "end_time": "2021-03-17T12:30:26.941154Z",
     "start_time": "2021-03-17T12:30:26.922208Z"
    }
   },
   "outputs": [
    {
     "data": {
      "text/plain": [
       "[<h1 class=\"greeting css\">Hello CSS</h1>, <h1 class=\"css\">Hi CSS</h1>]"
      ]
     },
     "execution_count": 20,
     "metadata": {},
     "output_type": "execute_result"
    }
   ],
   "source": [
    "soup.select(\"h1.css\")"
   ]
  },
  {
   "cell_type": "markdown",
   "metadata": {},
   "source": [
    "# 2절. 정적 웹데이터 수집(정적 웹크롤링)"
   ]
  },
  {
   "cell_type": "markdown",
   "metadata": {},
   "source": [
    "## 2.1 requests 모듈 (GET 요청)"
   ]
  },
  {
   "cell_type": "code",
   "execution_count": 21,
   "metadata": {
    "ExecuteTime": {
     "end_time": "2021-03-17T12:30:28.706591Z",
     "start_time": "2021-03-17T12:30:28.583807Z"
    }
   },
   "outputs": [
    {
     "data": {
      "text/plain": [
       "<Response [200]>"
      ]
     },
     "execution_count": 21,
     "metadata": {},
     "output_type": "execute_result"
    }
   ],
   "source": [
    "import requests\n",
    "response = requests.get(\"http://api.github.com\")\n",
    "response"
   ]
  },
  {
   "cell_type": "code",
   "execution_count": 22,
   "metadata": {
    "ExecuteTime": {
     "end_time": "2021-03-17T12:30:30.084878Z",
     "start_time": "2021-03-17T12:30:30.072912Z"
    }
   },
   "outputs": [
    {
     "name": "stdout",
     "output_type": "stream",
     "text": [
      "success!\n"
     ]
    }
   ],
   "source": [
    "if response.status_code == 200:\n",
    "    print(\"success!\")\n",
    "elif response.status_code == 404:\n",
    "    print(\"존재하지 않는 URL 입니다.\")\n",
    "elif response.status_code == 406:\n",
    "    print(\"파이썬 자동화 접근은 허용 안 됨\")"
   ]
  },
  {
   "cell_type": "code",
   "execution_count": 23,
   "metadata": {
    "ExecuteTime": {
     "end_time": "2021-03-17T12:30:32.554642Z",
     "start_time": "2021-03-17T12:30:32.544696Z"
    }
   },
   "outputs": [
    {
     "name": "stdout",
     "output_type": "stream",
     "text": [
      "success!\n"
     ]
    }
   ],
   "source": [
    "if response :\n",
    "    print(\"success!\")\n",
    "else :\n",
    "    print(\"An error has occurred\")"
   ]
  },
  {
   "cell_type": "code",
   "execution_count": 24,
   "metadata": {
    "ExecuteTime": {
     "end_time": "2021-03-17T12:30:33.814250Z",
     "start_time": "2021-03-17T12:30:33.799669Z"
    }
   },
   "outputs": [
    {
     "data": {
      "text/plain": [
       "b'{\\n  \"current_user_url\": \"https://api.github.com/user\",\\n  \"current_user_authorizations_html_url\": \"https://github.com/settings/connections/applications{/client_id}\",\\n  \"authorizations_url\": \"https://api.github.com/authorizations\",\\n  \"code_search_url\": \"https://api.github.com/search/code?q={query}{&page,per_page,sort,order}\",\\n  \"commit_search_url\": \"https://api.github.com/search/commits?q={query}{&page,per_page,sort,order}\",\\n  \"emails_url\": \"https://api.github.com/user/emails\",\\n  \"emojis_url\": \"https://api.github.com/emojis\",\\n  \"events_url\": \"https://api.github.com/events\",\\n  \"feeds_url\": \"https://api.github.com/feeds\",\\n  \"followers_url\": \"https://api.github.com/user/followers\",\\n  \"following_url\": \"https://api.github.com/user/following{/target}\",\\n  \"gists_url\": \"https://api.github.com/gists{/gist_id}\",\\n  \"hub_url\": \"https://api.github.com/hub\",\\n  \"issue_search_url\": \"https://api.github.com/search/issues?q={query}{&page,per_page,sort,order}\",\\n  \"issues_url\": \"https://api.github.com/issues\",\\n  \"keys_url\": \"https://api.github.com/user/keys\",\\n  \"label_search_url\": \"https://api.github.com/search/labels?q={query}&repository_id={repository_id}{&page,per_page}\",\\n  \"notifications_url\": \"https://api.github.com/notifications\",\\n  \"organization_url\": \"https://api.github.com/orgs/{org}\",\\n  \"organization_repositories_url\": \"https://api.github.com/orgs/{org}/repos{?type,page,per_page,sort}\",\\n  \"organization_teams_url\": \"https://api.github.com/orgs/{org}/teams\",\\n  \"public_gists_url\": \"https://api.github.com/gists/public\",\\n  \"rate_limit_url\": \"https://api.github.com/rate_limit\",\\n  \"repository_url\": \"https://api.github.com/repos/{owner}/{repo}\",\\n  \"repository_search_url\": \"https://api.github.com/search/repositories?q={query}{&page,per_page,sort,order}\",\\n  \"current_user_repositories_url\": \"https://api.github.com/user/repos{?type,page,per_page,sort}\",\\n  \"starred_url\": \"https://api.github.com/user/starred{/owner}{/repo}\",\\n  \"starred_gists_url\": \"https://api.github.com/gists/starred\",\\n  \"user_url\": \"https://api.github.com/users/{user}\",\\n  \"user_organizations_url\": \"https://api.github.com/user/orgs\",\\n  \"user_repositories_url\": \"https://api.github.com/users/{user}/repos{?type,page,per_page,sort}\",\\n  \"user_search_url\": \"https://api.github.com/search/users?q={query}{&page,per_page,sort,order}\"\\n}\\n'"
      ]
     },
     "execution_count": 24,
     "metadata": {},
     "output_type": "execute_result"
    }
   ],
   "source": [
    "response.content # row데이터가 그대로. "
   ]
  },
  {
   "cell_type": "code",
   "execution_count": 25,
   "metadata": {
    "ExecuteTime": {
     "end_time": "2021-03-17T12:30:35.501343Z",
     "start_time": "2021-03-17T12:30:35.484393Z"
    }
   },
   "outputs": [
    {
     "data": {
      "text/plain": [
       "{'current_user_url': 'https://api.github.com/user',\n",
       " 'current_user_authorizations_html_url': 'https://github.com/settings/connections/applications{/client_id}',\n",
       " 'authorizations_url': 'https://api.github.com/authorizations',\n",
       " 'code_search_url': 'https://api.github.com/search/code?q={query}{&page,per_page,sort,order}',\n",
       " 'commit_search_url': 'https://api.github.com/search/commits?q={query}{&page,per_page,sort,order}',\n",
       " 'emails_url': 'https://api.github.com/user/emails',\n",
       " 'emojis_url': 'https://api.github.com/emojis',\n",
       " 'events_url': 'https://api.github.com/events',\n",
       " 'feeds_url': 'https://api.github.com/feeds',\n",
       " 'followers_url': 'https://api.github.com/user/followers',\n",
       " 'following_url': 'https://api.github.com/user/following{/target}',\n",
       " 'gists_url': 'https://api.github.com/gists{/gist_id}',\n",
       " 'hub_url': 'https://api.github.com/hub',\n",
       " 'issue_search_url': 'https://api.github.com/search/issues?q={query}{&page,per_page,sort,order}',\n",
       " 'issues_url': 'https://api.github.com/issues',\n",
       " 'keys_url': 'https://api.github.com/user/keys',\n",
       " 'label_search_url': 'https://api.github.com/search/labels?q={query}&repository_id={repository_id}{&page,per_page}',\n",
       " 'notifications_url': 'https://api.github.com/notifications',\n",
       " 'organization_url': 'https://api.github.com/orgs/{org}',\n",
       " 'organization_repositories_url': 'https://api.github.com/orgs/{org}/repos{?type,page,per_page,sort}',\n",
       " 'organization_teams_url': 'https://api.github.com/orgs/{org}/teams',\n",
       " 'public_gists_url': 'https://api.github.com/gists/public',\n",
       " 'rate_limit_url': 'https://api.github.com/rate_limit',\n",
       " 'repository_url': 'https://api.github.com/repos/{owner}/{repo}',\n",
       " 'repository_search_url': 'https://api.github.com/search/repositories?q={query}{&page,per_page,sort,order}',\n",
       " 'current_user_repositories_url': 'https://api.github.com/user/repos{?type,page,per_page,sort}',\n",
       " 'starred_url': 'https://api.github.com/user/starred{/owner}{/repo}',\n",
       " 'starred_gists_url': 'https://api.github.com/gists/starred',\n",
       " 'user_url': 'https://api.github.com/users/{user}',\n",
       " 'user_organizations_url': 'https://api.github.com/user/orgs',\n",
       " 'user_repositories_url': 'https://api.github.com/users/{user}/repos{?type,page,per_page,sort}',\n",
       " 'user_search_url': 'https://api.github.com/search/users?q={query}{&page,per_page,sort,order}'}"
      ]
     },
     "execution_count": 25,
     "metadata": {},
     "output_type": "execute_result"
    }
   ],
   "source": [
    "response.json() # json 형태는 이렇게."
   ]
  },
  {
   "cell_type": "markdown",
   "metadata": {},
   "source": [
    "## 2.2 BeautifulSoup 모듈을 활용한 웹데이터 수집.\n",
    "- 파일이 HTML, XML 등은 Markup 언어를 crawling 하기 위한 대표적인 모듈.\n",
    "- 링크"
   ]
  },
  {
   "cell_type": "markdown",
   "metadata": {},
   "source": [
    "**1) 환율정보 가져오기 (네이버금융 > 시장지표) **"
   ]
  },
  {
   "cell_type": "code",
   "execution_count": 26,
   "metadata": {
    "ExecuteTime": {
     "end_time": "2021-03-17T12:30:41.593806Z",
     "start_time": "2021-03-17T12:30:41.006620Z"
    },
    "scrolled": true
   },
   "outputs": [
    {
     "name": "stdout",
     "output_type": "stream",
     "text": [
      "<span class=\"value\">1,129.50</span>\n",
      "1,129.50\n",
      "<class 'str'>\n",
      "1129.5\n"
     ]
    }
   ],
   "source": [
    "import requests\n",
    "from bs4 import BeautifulSoup\n",
    "from numpy import round\n",
    "url = \"https://finance.naver.com/marketindex/\"\n",
    "marketindex = requests.get(url)\n",
    "# marketindex.content\n",
    "# marketindex\n",
    "soup = BeautifulSoup(marketindex.content, \"html.parser\")\n",
    "# soup\n",
    "price = soup.select_one(\"div.head_info > span.value\")\n",
    "print(price)\n",
    "print(price.text)\n",
    "print(type(price.text)) # , 와 str 이다. 즉 int로 형변환 할려면 여러가지 방법을 써야한다.\n",
    "print(round(float(price.text.split(',')[0] + price.text.split(',')[-1]),1))"
   ]
  },
  {
   "cell_type": "code",
   "execution_count": 27,
   "metadata": {
    "ExecuteTime": {
     "end_time": "2021-03-17T12:30:45.721453Z",
     "start_time": "2021-03-17T12:30:45.707490Z"
    }
   },
   "outputs": [
    {
     "name": "stdout",
     "output_type": "stream",
     "text": [
      "1,129.50\t1,035.24\t1,345.40\t173.63\t108.8900\t1.1908\t1.3889\t91.8800\t64.8\t1520.36\t1730.6\t62966.7\t\n",
      "1,129.50\t1,035.24\t1,345.40\t173.63\t108.8900\t1.1908\t1.3889\t91.8800\t64.8\t1520.36\t1730.6\t62966.7\t"
     ]
    }
   ],
   "source": [
    "price = soup.select(\"div.head_info > span.value\")\n",
    "# price\n",
    "for p in price: \n",
    "    print(p.text, end='\\t')  \n",
    "print()\n",
    "for i in range(len(price)):\n",
    "    print(price[i].text, end='\\t')"
   ]
  },
  {
   "cell_type": "code",
   "execution_count": 28,
   "metadata": {
    "ExecuteTime": {
     "end_time": "2021-03-17T12:30:50.764357Z",
     "start_time": "2021-03-17T12:30:50.752366Z"
    }
   },
   "outputs": [
    {
     "data": {
      "text/plain": [
       "12"
      ]
     },
     "execution_count": 28,
     "metadata": {},
     "output_type": "execute_result"
    }
   ],
   "source": [
    "len(price)"
   ]
  },
  {
   "cell_type": "code",
   "execution_count": 29,
   "metadata": {
    "ExecuteTime": {
     "end_time": "2021-03-17T12:30:52.460335Z",
     "start_time": "2021-03-17T12:30:52.432414Z"
    }
   },
   "outputs": [
    {
     "name": "stdout",
     "output_type": "stream",
     "text": [
      "미국 USD : 1,129.50\n",
      "일본 JPY(100엔) : 1,035.24\n",
      "유럽연합 EUR : 1,345.40\n",
      "중국 CNY : 173.63\n",
      "일본 엔/달러 : 108.8900\n",
      "달러/유로 : 1.1908\n",
      "달러/영국파운드 : 1.3889\n",
      "달러인덱스 : 91.8800\n",
      "WTI : 64.8\n",
      "휘발유 : 1520.36\n",
      "국제 금 : 1730.6\n",
      "국내 금 : 62966.7\n"
     ]
    }
   ],
   "source": [
    "title = soup.select(\"h3.h_lst > span.blind\")\n",
    "# title\n",
    "for i in range(len(price)):\n",
    "    print(\"{} : {}\".format(title[i].text,price[i].text))"
   ]
  },
  {
   "cell_type": "code",
   "execution_count": 30,
   "metadata": {
    "ExecuteTime": {
     "end_time": "2021-03-17T12:30:56.859779Z",
     "start_time": "2021-03-17T12:30:56.829860Z"
    }
   },
   "outputs": [
    {
     "data": {
      "text/plain": [
       "['원', '원', '원', '원', '엔', '달러', '달러', '달러', '원', '달러', '원']"
      ]
     },
     "execution_count": 30,
     "metadata": {},
     "output_type": "execute_result"
    }
   ],
   "source": [
    "unit = soup.select(\"div.head_info > span > span.blind\")\n",
    "# len(unit) # -> 달러 인덱스에는 단위가 없기때문에 11로 나온다.\n",
    "unit = [u.text for u in unit]\n",
    "unit"
   ]
  },
  {
   "cell_type": "code",
   "execution_count": 31,
   "metadata": {
    "ExecuteTime": {
     "end_time": "2021-03-17T12:30:58.910431Z",
     "start_time": "2021-03-17T12:30:58.893478Z"
    }
   },
   "outputs": [],
   "source": [
    "# 7번 인덱스 : 달러인덱스 의 인덱스번호.\n",
    "# 7번 인덱스에 ''추가.\n",
    "unit.insert(7, '')"
   ]
  },
  {
   "cell_type": "code",
   "execution_count": 32,
   "metadata": {
    "ExecuteTime": {
     "end_time": "2021-03-17T12:30:59.874370Z",
     "start_time": "2021-03-17T12:30:59.863399Z"
    }
   },
   "outputs": [
    {
     "data": {
      "text/plain": [
       "['원', '원', '원', '원', '엔', '달러', '달러', '', '달러', '원', '달러', '원']"
      ]
     },
     "execution_count": 32,
     "metadata": {},
     "output_type": "execute_result"
    }
   ],
   "source": [
    "unit"
   ]
  },
  {
   "cell_type": "code",
   "execution_count": 33,
   "metadata": {
    "ExecuteTime": {
     "end_time": "2021-03-17T12:31:02.361049Z",
     "start_time": "2021-03-17T12:31:02.344094Z"
    }
   },
   "outputs": [
    {
     "data": {
      "text/plain": [
       "['하락', '하락', '하락', '하락', '하락', '하락', '하락', '상승', '하락', '상승', '상승', '하락']"
      ]
     },
     "execution_count": 33,
     "metadata": {},
     "output_type": "execute_result"
    }
   ],
   "source": [
    "status = soup.select(\"div.head_info > span.blind\")\n",
    "#status\n",
    "[s.text for s in status]"
   ]
  },
  {
   "cell_type": "code",
   "execution_count": 34,
   "metadata": {
    "ExecuteTime": {
     "end_time": "2021-03-17T12:31:08.928958Z",
     "start_time": "2021-03-17T12:31:08.921402Z"
    }
   },
   "outputs": [
    {
     "name": "stdout",
     "output_type": "stream",
     "text": [
      "미국 USD : 1,129.50원 - 하락\n",
      "일본 JPY(100엔) : 1,035.24원 - 하락\n",
      "유럽연합 EUR : 1,345.40원 - 하락\n",
      "중국 CNY : 173.63원 - 하락\n",
      "일본 엔/달러 : 108.8900엔 - 하락\n",
      "달러/유로 : 1.1908달러 - 하락\n",
      "달러/영국파운드 : 1.3889달러 - 하락\n",
      "달러인덱스 : 91.8800 - 상승\n",
      "WTI : 64.8달러 - 하락\n",
      "휘발유 : 1520.36원 - 상승\n",
      "국제 금 : 1730.6달러 - 상승\n",
      "국내 금 : 62966.7원 - 하락\n"
     ]
    }
   ],
   "source": [
    "for idx in range(len(price)):\n",
    "    print(\"{} : {}{} - {}\".format(title[idx].text,price[idx].text\n",
    "                                  ,unit[idx],status[idx].text))"
   ]
  },
  {
   "cell_type": "markdown",
   "metadata": {},
   "source": [
    "**2) 네이버 영화 랭킹 출력**\n",
    "<pre>\n",
    "'1위 영화제목 - 영화소개url\n",
    "감독 및 배우\n",
    "아무개:감독 / 저무개:주연 / 이무개:주연'\n",
    "</pre>"
   ]
  },
  {
   "cell_type": "code",
   "execution_count": 37,
   "metadata": {
    "ExecuteTime": {
     "end_time": "2021-03-17T13:01:18.514073Z",
     "start_time": "2021-03-17T13:00:56.153826Z"
    },
    "scrolled": true
   },
   "outputs": [
    {
     "name": "stdout",
     "output_type": "stream",
     "text": [
      " 1위  미나리\n",
      " 감독 및 배우 \n",
      "정이삭 : 감독  / 스티븐 연 : 주연  / 한예리 : 주연  / 윤여정 : 주연  / 앨런 김 : 주연  / 노엘 조 : 주연  / \n",
      "\n",
      " 2위  극장판 귀멸의 칼날: 무한열차편\n",
      " 감독 및 배우 \n",
      "소토자키 하루오 : 감독  / 하나에 나츠키 : 주연  / 키토 아카리 : 주연  / 시모노 히로 : 조연  / 마츠오카 요시츠구 : 조연  / 히노 사토시 : 조연  / \n",
      "\n",
      " 3위  라야와 마지막 드래곤\n",
      " 감독 및 배우 \n",
      "돈 홀 : 감독  / 켈리 마리 트란 : 주연  / 아콰피나 : 주연  / 산드라 오 : 주연  / 대니얼 대 킴 : 주연  / 젬마 찬 : 주연  / \n",
      "\n",
      " 4위  미션 파서블\n",
      " 감독 및 배우 \n",
      "김형주 : 감독  / 김영광 : 주연  / 이선빈 : 주연  / 오대환 : 조연  / 서현철 : 조연  / 최병모 : 조연  / \n",
      "\n",
      " 5위  리스타트\n",
      " 감독 및 배우 \n",
      "조 카나한 : 감독  / 프랭크 그릴로 : 주연  / 멜 깁슨 : 주연  / 나오미 왓츠 : 주연  / 양자경 : 주연  / 켄 정 : 주연  / \n",
      "\n",
      " 6위  반지의 제왕: 반지 원정대\n",
      " 감독 및 배우 \n",
      "피터 잭슨 : 감독  / 일라이저 우드 : 주연  / 이안 맥켈런 : 주연  / 리브 타일러 : 주연  / 비고 모텐슨 : 주연  / 숀 애스틴 : 주연  / \n",
      "\n",
      " 7위  소울\n",
      " 감독 및 배우 \n",
      "피트 닥터 : 감독  / 제이미 폭스 : 주연  / 티나 페이 : 주연  / 다비드 딕스 : 주연  / 필리샤 라샤드 : 조연  / 아미어-칼리브 톰슨 : 조연  / \n",
      "\n",
      " 8위  중경삼림\n",
      " 감독 및 배우 \n",
      "왕가위 : 감독  / 임청하 : 주연  / 양조위 : 주연  / 왕페이 : 주연  / 금성무 : 주연  / 주가령 : 조연  / \n",
      "\n",
      " 9위  카오스 워킹\n",
      " 감독 및 배우 \n",
      "더그 라이만 : 감독  / 톰 홀랜드 : 주연  / 데이지 리들리 : 주연  / 매즈 미켈슨 : 주연  / 데이빗 오예로워 : 조연  / 데미안 비쉬어 : 조연  / \n",
      "\n",
      "10위  아이 씨 유\n",
      " 감독 및 배우 \n",
      "아담 랜달 : 감독  / 헬렌 헌트 : 주연  / 존 테니 : 주연  / 주다 루이스 : 주연  / 오웬 티그 : 주연  / 리베 바러 : 주연  / \n",
      "\n",
      "11위  암모나이트\n",
      " 감독 및 배우 \n",
      "프란시스 리 : 감독  / 시얼샤 로넌 : 주연  / 케이트 윈슬렛 : 주연  / 피오나 쇼우 : 조연  / 젬마 존스 : 조연  / 클레어 러시브룩 : 조연  / \n",
      "\n",
      "12위  웨이 다운\n",
      " 감독 및 배우 \n",
      "자움 발라구에로 : 감독  / 프레디 하이모어 : 주연  / 리암 커닝햄 : 주연  / 샘 라일리 : 주연  / 아스트리드 베흐제 프리스베 : 주연  / 팜케 얀센 : 주연  / \n",
      "\n",
      "13위  포제서\n",
      " 감독 및 배우 \n",
      "브랜든 크로넨버그 : 감독  / 제니퍼 제이슨 리 : 주연  / 숀 빈 : 주연  / 튜펜스 미들턴 : 조연  / 크리스토퍼 애봇 : 조연  / 카니에티오 혼 : 조연  / \n",
      "\n",
      "14위  톰과 제리\n",
      " 감독 및 배우 \n",
      "팀 스토리 : 감독  / 클로이 모레츠 : 주연  / 마이클 페나 : 주연  / 켄 정 : 주연  / 카밀라 아프웨드슨 : 조연  / 롭 딜레이니 : 조연  / \n",
      "\n",
      "15위  고질라 VS. 콩\n",
      " 감독 및 배우 \n",
      "애덤 윈가드 : 감독  / 알렉산더 스카스가드 : 주연  / 밀리 바비 브라운 : 주연  / 레베카 홀 : 조연  / 카일 챈들러 : 조연  / 오구리 슌 : 조연  / \n",
      "\n",
      "16위  모리타니안\n",
      " 감독 및 배우 \n",
      "캐빈 맥도널드 : 감독  / 베네딕트 컴버배치 : 주연  / 조디 포스터 : 주연  / 쉐일린 우들리 : 주연  / 타하르 라힘 : 주연  / 제커리 레비 : 조연  / \n",
      "\n",
      "17위  더 레이서\n",
      " 감독 및 배우 \n",
      "키에론 J. 월쉬 : 감독  / 루이스 탈페 : 주연  / 마테오 시모니 : 주연  / 이아인 글렌 : 주연  / 타라 리 : 주연  / \n",
      "\n",
      "18위  아수라도\n",
      " 감독 및 배우 \n",
      "윤여창 : 감독  / 이설구 : 주연  / 장광 : 주연  / 이원종 : 주연  / 이달형 : 조연  / 정미남 : 조연  / \n",
      "\n",
      "19위  퍼펙트 케어\n",
      " 감독 및 배우 \n",
      "J 블레이크슨 : 감독  / 로자먼드 파이크 : 주연  / 에이사 곤살레스 : 주연  / 다이앤 위스트 : 주연  / 알리시아 위트 : 주연  / 피터 딘클리지 : 주연  / \n",
      "\n",
      "20위  허트 로커\n",
      " 감독 및 배우 \n",
      "캐서린 비글로우 : 감독  / 제레미 레너 : 주연  / 안소니 마키 : 주연  / 브라이언 게라그티 : 주연  / 크리스찬 카마고 : 주연  / 슈헤일 엘다바치 : 조연  / \n",
      "\n",
      "21위  마리오네트\n",
      " 감독 및 배우 \n",
      "엘버트 반 스트리엔 : 감독  / 테크라 레우텐 : 주연  / 피터 뮬란 : 주연  / 엘리야 울프 : 주연  / \n",
      "\n",
      "22위  아이\n",
      " 감독 및 배우 \n",
      "김현탁 : 감독  / 김향기 : 주연  / 류현경 : 주연  / 염혜란 : 주연  / 탁지안 : 조연  / 탁지온 : 조연  / \n",
      "\n",
      "23위  파이터\n",
      " 감독 및 배우 \n",
      "윤재호 : 감독  / 임성미 : 주연  / 백서빈 : 주연  / 오광록 : 주연  / \n",
      "\n",
      "24위  유어 아이즈 텔\n",
      " 감독 및 배우 \n",
      "미키 타카히로 : 감독  / 요시타카 유리코 : 주연  / 요코하마 류세이 : 주연  / 마치다 케이타 : 주연  / 야베 쿄스케 : 조연  / 타야마 료세이 : 조연  / \n",
      "\n",
      "25위  반지의 제왕: 왕의 귀환\n",
      " 감독 및 배우 \n",
      "피터 잭슨 : 감독  / 일라이저 우드 : 주연  / 숀 애스틴 : 주연  / 앤디 서키스 : 주연  / 이안 맥켈런 : 주연  / 리브 타일러 : 주연  / \n",
      "\n",
      "26위  그녀가 사라졌다\n",
      " 감독 및 배우 \n",
      "루크 이브 : 감독  / 브렌튼 스웨이츠 : 주연  / 릴리 설리반 : 주연  / 조엘 잭슨 : 주연  / \n",
      "\n",
      "27위  러빙 빈센트\n",
      " 감독 및 배우 \n",
      "도로타 코비엘라 : 감독  / 더글러스 부스 : 주연  / 시얼샤 로넌 : 주연  / 제롬 플린 : 주연  / 에이단 터너 : 주연  / 헬렌 맥크로리 : 조연  / \n",
      "\n",
      "28위  쁘떼뜨\n",
      " 감독 및 배우 \n",
      "마틴 슈라이어 : 감독  / 에밀리아 슐레 : 주연  / 데니스 모옌 : 주연  / 마이클 귀스덱 : 주연  / \n",
      "\n",
      "29위  태극기 휘날리며\n",
      " 감독 및 배우 \n",
      "강제규 : 감독  / 장동건 : 주연  / 원빈 : 주연  / 이은주 : 주연  / 공형진 : 조연  / 장민호 : 조연  / \n",
      "\n",
      "30위  낙원의 밤\n",
      " 감독 및 배우 \n",
      "박훈정 : 감독  / 엄태구 : 주연  / 전여빈 : 주연  / 차승원 : 주연  / \n",
      "\n",
      "31위  정말 먼 곳\n",
      " 감독 및 배우 \n",
      "박근영 : 감독  / 강길우 : 주연  / 홍경 : 주연  / 이상희 : 주연  / 기주봉 : 주연  / 기도영 : 주연  / \n",
      "\n",
      "32위  반지의 제왕: 두 개의 탑\n",
      " 감독 및 배우 \n",
      "피터 잭슨 : 감독  / 일라이저 우드 : 주연  / 이안 맥켈런 : 주연  / 비고 모텐슨 : 주연  / 리브 타일러 : 조연  / 숀 애스틴 : 조연  / \n",
      "\n",
      "33위  새해전야\n",
      " 감독 및 배우 \n",
      "홍지영 : 감독  / 김강우 : 주연  / 유인나 : 주연  / 유연석 : 주연  / 이연희 : 주연  / 이동휘 : 주연  / \n",
      "\n",
      "34위  아홉수 로맨스\n",
      " 감독 및 배우 \n",
      "이새별 : 감독  / 조한나 : 주연  / 이다해 : 주연  / 강나리 : 주연  / 이새별 : 주연  / 양지원 : 주연  / \n",
      "\n",
      "35위  스파이의 아내\n",
      " 감독 및 배우 \n",
      "구로사와 기요시 : 감독  / 아오이 유우 : 주연  / 타카하시 잇세이 : 주연  / 히가시데 마사히로 : 주연  / 반도 류타 : 주연  / 츠네마츠 유리 : 조연  / \n",
      "\n",
      "36위  최면\n",
      " 감독 및 배우 \n",
      "최재훈 : 감독  / 이다윗 : 주연  / 조현 : 주연  / 김도훈 : 주연  / 남민우 : 주연  / 김남우 : 주연  / \n",
      "\n",
      "37위  아무도 없는 곳\n",
      " 감독 및 배우 \n",
      "김종관 : 감독  / 연우진 : 주연  / 김상호 : 주연  / 아이유 : 주연  / 이주영 : 주연  / 윤혜리 : 주연  / \n",
      "\n",
      "38위  어른들은 몰라요\n",
      " 감독 및 배우 \n",
      "이환 : 감독  / 이유미 : 주연  / 하니 : 주연  / 신햇빛 : 주연  / 이환 : 주연  / \n",
      "\n",
      "39위  모탈 컴뱃\n",
      " 감독 및 배우 \n",
      "사이먼 맥쿼이드 : 감독  / 루이스 탄 : 주연  / 조 타슬림 : 주연  / 루디 린 : 주연  / 제시카 맥나미 : 주연  / 사나다 히로유키 : 주연  / \n",
      "\n",
      "40위  빛과 철\n",
      " 감독 및 배우 \n",
      "배종대 : 감독  / 염혜란 : 주연  / 김시은 : 주연  / 박지후 : 주연  / 이주원 : 조연  / 강진아 : 조연  / \n",
      "\n",
      "41위  그린 북\n",
      " 감독 및 배우 \n",
      "피터 패럴리 : 감독  / 비고 모텐슨 : 주연  / 마허샬라 알리 : 주연  / 린다 카델리니 : 조연  / 세바스찬 매니스캘코 : 조연  / 디미터 D. 마리노프 : 조연  / \n",
      "\n",
      "42위  너의 얼굴은\n",
      " 감독 및 배우 \n",
      "켈렌 무어 : 감독  / 브랜든 플린 : 주연  / 줄리아 골다니 텔레스 : 주연  / 이기홍 : 주연  / \n",
      "\n",
      "43위  브레이브 언더 파이어\n",
      " 감독 및 배우 \n",
      "알렉세이 누즈니 : 감독  / 콘스탄틴 카벤스키 : 주연  / 이반 얀콥스키 : 주연  / \n",
      "\n",
      "44위  극장판 바이올렛 에버가든\n",
      " 감독 및 배우 \n",
      "이시다테 타이치 : 감독  / 이시카와 유이 : 주연  / 나미카와 다이스케 : 주연  / \n",
      "\n",
      "45위  승리호\n",
      " 감독 및 배우 \n",
      "조성희 : 감독  / 송중기 : 주연  / 김태리 : 주연  / 진선규 : 주연  / 유해진 : 주연  / 리처드 아미티지 : 조연  / \n",
      "\n",
      "46위  세자매\n",
      " 감독 및 배우 \n",
      "이승원 : 감독  / 문소리 : 주연  / 김선영 : 주연  / 장윤주 : 주연  / 조한철 : 조연  / 현봉식 : 조연  / \n",
      "\n",
      "47위  검객\n",
      " 감독 및 배우 \n",
      "최재훈 : 감독  / 장혁 : 주연  / 김현수 : 주연  / 조 타슬림 : 주연  / 정만식 : 주연  / 이나경 : 주연  / \n",
      "\n",
      "48위  서복\n",
      " 감독 및 배우 \n",
      "이용주 : 감독  / 공유 : 주연  / 박보검 : 주연  / 조우진 : 주연  / 장영남 : 조연  / 박병은 : 조연  / \n",
      "\n",
      "49위  라스트 레터\n",
      " 감독 및 배우 \n",
      "이와이 슌지 : 감독  / 마츠 다카코 : 주연  / 히로세 스즈 : 주연  / 안노 히데아키 : 주연  / 카미키 류노스케 : 주연  / 모리 나나 : 조연  / \n",
      "\n",
      "50위  원더 우먼 1984\n",
      " 감독 및 배우 \n",
      "패티 젠킨스 : 감독  / 갤 가돗 : 주연  / 크리스 파인 : 주연  / 크리스틴 위그 : 주연  / 페드로 파스칼 : 주연  / 로빈 라이트 : 조연  / \n",
      "\n"
     ]
    }
   ],
   "source": [
    "import requests\n",
    "from bs4 import BeautifulSoup\n",
    "url = \"https://movie.naver.com/movie/sdb/rank/rmovie.nhn\"\n",
    "movie_ranking = requests.get(url)\n",
    "# movie_ranking -> 200이 나오는지 확인.\n",
    "soup = BeautifulSoup(movie_ranking.content, \"html.parser\")\n",
    "# soup\n",
    "title_list = soup.select(\"td.title div.tit3 > a\")\n",
    "# len(title_list) # 50개 들어왔는지 확인.\n",
    "\n",
    "for idx in range(len(title_list)):\n",
    "    # {:2d} 두자리 차지.(자리맞춤할려고)\n",
    "    print(\"{:2d}위  {}\".format(idx+1, title_list[idx].text))\n",
    "    #title_list[idx].attrs['title = print(title_list[0])\n",
    "    link = url + title_list[idx].attrs['href']\n",
    "    page = requests.get(link)\n",
    "    s = BeautifulSoup(page.content, \"html.parser\")\n",
    "   # s = BeautifulSoup(requests.get(link).content, \"html.parser\")\n",
    "    people = s.select(\"li a.tx_people\")\n",
    "    staffs = s.select(\"dl.staff > dt\")\n",
    "    print(\" 감독 및 배우 \")\n",
    "    for i in range(len(people)):\n",
    "            print(\"{} : {} \".format(people[i].text, staffs[i].text),\n",
    "                                          end=' / ')\n",
    "    print('\\n')"
   ]
  },
  {
   "cell_type": "markdown",
   "metadata": {},
   "source": [
    "**3) 이번주 로또번호 출력 **\n",
    "- 구글에서 로또로 검색\n",
    "' 954회\n",
    "당첨번호 : 1 5 6 8 4 5\n",
    "보너스번호 : 40 '"
   ]
  },
  {
   "cell_type": "code",
   "execution_count": 38,
   "metadata": {
    "ExecuteTime": {
     "end_time": "2021-03-17T13:01:29.871932Z",
     "start_time": "2021-03-17T13:01:29.069572Z"
    },
    "scrolled": true
   },
   "outputs": [
    {
     "name": "stdout",
     "output_type": "stream",
     "text": [
      "954회\n",
      "당첨번호 :  [1, 9, 26, 28, 30, 41]\n",
      "보너스 번호 : 32\n"
     ]
    }
   ],
   "source": [
    "from urllib.request import urlopen\n",
    "from bs4 import BeautifulSoup\n",
    "url = \"https://dhlottery.co.kr/gameResult.do?method=byWin\"\n",
    "html = urlopen(url)\n",
    "soup = BeautifulSoup(html, \"html.parser\")\n",
    "\n",
    "hoisu = soup.select_one(\"div.win_result h4 > strong\")\n",
    "print(hoisu.text)\n",
    "lotto_numbers = soup.select(\"div.num.win p > span.ball_645.lrg\")\n",
    "print(\"당첨번호 : \",[int(number.string) for number in lotto_numbers])\n",
    "bonus_number = soup.select_one(\"div.num.bonus > p > span\").string\n",
    "print('보너스 번호 :', bonus_number)"
   ]
  },
  {
   "cell_type": "markdown",
   "metadata": {},
   "source": [
    "**4) 크롤링을 막아 높은 사이트 크롤링**"
   ]
  },
  {
   "cell_type": "code",
   "execution_count": 39,
   "metadata": {
    "ExecuteTime": {
     "end_time": "2021-03-17T13:01:33.597261Z",
     "start_time": "2021-03-17T13:01:33.257385Z"
    }
   },
   "outputs": [
    {
     "ename": "HTTPError",
     "evalue": "HTTP Error 406: Not Acceptable",
     "output_type": "error",
     "traceback": [
      "\u001b[1;31m---------------------------------------------------------------------------\u001b[0m",
      "\u001b[1;31mHTTPError\u001b[0m                                 Traceback (most recent call last)",
      "\u001b[1;32m<ipython-input-39-3f89209c8d56>\u001b[0m in \u001b[0;36m<module>\u001b[1;34m\u001b[0m\n\u001b[0;32m      1\u001b[0m \u001b[0murl\u001b[0m \u001b[1;33m=\u001b[0m \u001b[1;34m\"https://www.melon.com/chart/index.htm\"\u001b[0m\u001b[1;33m\u001b[0m\u001b[1;33m\u001b[0m\u001b[0m\n\u001b[1;32m----> 2\u001b[1;33m \u001b[0mhtml\u001b[0m \u001b[1;33m=\u001b[0m \u001b[0murlopen\u001b[0m\u001b[1;33m(\u001b[0m\u001b[0murl\u001b[0m\u001b[1;33m)\u001b[0m\u001b[1;33m\u001b[0m\u001b[1;33m\u001b[0m\u001b[0m\n\u001b[0m\u001b[0;32m      3\u001b[0m \u001b[0mhtml\u001b[0m\u001b[1;33m\u001b[0m\u001b[1;33m\u001b[0m\u001b[0m\n",
      "\u001b[1;32m~\\anaconda3\\lib\\urllib\\request.py\u001b[0m in \u001b[0;36murlopen\u001b[1;34m(url, data, timeout, cafile, capath, cadefault, context)\u001b[0m\n\u001b[0;32m    220\u001b[0m     \u001b[1;32melse\u001b[0m\u001b[1;33m:\u001b[0m\u001b[1;33m\u001b[0m\u001b[1;33m\u001b[0m\u001b[0m\n\u001b[0;32m    221\u001b[0m         \u001b[0mopener\u001b[0m \u001b[1;33m=\u001b[0m \u001b[0m_opener\u001b[0m\u001b[1;33m\u001b[0m\u001b[1;33m\u001b[0m\u001b[0m\n\u001b[1;32m--> 222\u001b[1;33m     \u001b[1;32mreturn\u001b[0m \u001b[0mopener\u001b[0m\u001b[1;33m.\u001b[0m\u001b[0mopen\u001b[0m\u001b[1;33m(\u001b[0m\u001b[0murl\u001b[0m\u001b[1;33m,\u001b[0m \u001b[0mdata\u001b[0m\u001b[1;33m,\u001b[0m \u001b[0mtimeout\u001b[0m\u001b[1;33m)\u001b[0m\u001b[1;33m\u001b[0m\u001b[1;33m\u001b[0m\u001b[0m\n\u001b[0m\u001b[0;32m    223\u001b[0m \u001b[1;33m\u001b[0m\u001b[0m\n\u001b[0;32m    224\u001b[0m \u001b[1;32mdef\u001b[0m \u001b[0minstall_opener\u001b[0m\u001b[1;33m(\u001b[0m\u001b[0mopener\u001b[0m\u001b[1;33m)\u001b[0m\u001b[1;33m:\u001b[0m\u001b[1;33m\u001b[0m\u001b[1;33m\u001b[0m\u001b[0m\n",
      "\u001b[1;32m~\\anaconda3\\lib\\urllib\\request.py\u001b[0m in \u001b[0;36mopen\u001b[1;34m(self, fullurl, data, timeout)\u001b[0m\n\u001b[0;32m    529\u001b[0m         \u001b[1;32mfor\u001b[0m \u001b[0mprocessor\u001b[0m \u001b[1;32min\u001b[0m \u001b[0mself\u001b[0m\u001b[1;33m.\u001b[0m\u001b[0mprocess_response\u001b[0m\u001b[1;33m.\u001b[0m\u001b[0mget\u001b[0m\u001b[1;33m(\u001b[0m\u001b[0mprotocol\u001b[0m\u001b[1;33m,\u001b[0m \u001b[1;33m[\u001b[0m\u001b[1;33m]\u001b[0m\u001b[1;33m)\u001b[0m\u001b[1;33m:\u001b[0m\u001b[1;33m\u001b[0m\u001b[1;33m\u001b[0m\u001b[0m\n\u001b[0;32m    530\u001b[0m             \u001b[0mmeth\u001b[0m \u001b[1;33m=\u001b[0m \u001b[0mgetattr\u001b[0m\u001b[1;33m(\u001b[0m\u001b[0mprocessor\u001b[0m\u001b[1;33m,\u001b[0m \u001b[0mmeth_name\u001b[0m\u001b[1;33m)\u001b[0m\u001b[1;33m\u001b[0m\u001b[1;33m\u001b[0m\u001b[0m\n\u001b[1;32m--> 531\u001b[1;33m             \u001b[0mresponse\u001b[0m \u001b[1;33m=\u001b[0m \u001b[0mmeth\u001b[0m\u001b[1;33m(\u001b[0m\u001b[0mreq\u001b[0m\u001b[1;33m,\u001b[0m \u001b[0mresponse\u001b[0m\u001b[1;33m)\u001b[0m\u001b[1;33m\u001b[0m\u001b[1;33m\u001b[0m\u001b[0m\n\u001b[0m\u001b[0;32m    532\u001b[0m \u001b[1;33m\u001b[0m\u001b[0m\n\u001b[0;32m    533\u001b[0m         \u001b[1;32mreturn\u001b[0m \u001b[0mresponse\u001b[0m\u001b[1;33m\u001b[0m\u001b[1;33m\u001b[0m\u001b[0m\n",
      "\u001b[1;32m~\\anaconda3\\lib\\urllib\\request.py\u001b[0m in \u001b[0;36mhttp_response\u001b[1;34m(self, request, response)\u001b[0m\n\u001b[0;32m    638\u001b[0m         \u001b[1;31m# request was successfully received, understood, and accepted.\u001b[0m\u001b[1;33m\u001b[0m\u001b[1;33m\u001b[0m\u001b[1;33m\u001b[0m\u001b[0m\n\u001b[0;32m    639\u001b[0m         \u001b[1;32mif\u001b[0m \u001b[1;32mnot\u001b[0m \u001b[1;33m(\u001b[0m\u001b[1;36m200\u001b[0m \u001b[1;33m<=\u001b[0m \u001b[0mcode\u001b[0m \u001b[1;33m<\u001b[0m \u001b[1;36m300\u001b[0m\u001b[1;33m)\u001b[0m\u001b[1;33m:\u001b[0m\u001b[1;33m\u001b[0m\u001b[1;33m\u001b[0m\u001b[0m\n\u001b[1;32m--> 640\u001b[1;33m             response = self.parent.error(\n\u001b[0m\u001b[0;32m    641\u001b[0m                 'http', request, response, code, msg, hdrs)\n\u001b[0;32m    642\u001b[0m \u001b[1;33m\u001b[0m\u001b[0m\n",
      "\u001b[1;32m~\\anaconda3\\lib\\urllib\\request.py\u001b[0m in \u001b[0;36merror\u001b[1;34m(self, proto, *args)\u001b[0m\n\u001b[0;32m    567\u001b[0m         \u001b[1;32mif\u001b[0m \u001b[0mhttp_err\u001b[0m\u001b[1;33m:\u001b[0m\u001b[1;33m\u001b[0m\u001b[1;33m\u001b[0m\u001b[0m\n\u001b[0;32m    568\u001b[0m             \u001b[0margs\u001b[0m \u001b[1;33m=\u001b[0m \u001b[1;33m(\u001b[0m\u001b[0mdict\u001b[0m\u001b[1;33m,\u001b[0m \u001b[1;34m'default'\u001b[0m\u001b[1;33m,\u001b[0m \u001b[1;34m'http_error_default'\u001b[0m\u001b[1;33m)\u001b[0m \u001b[1;33m+\u001b[0m \u001b[0morig_args\u001b[0m\u001b[1;33m\u001b[0m\u001b[1;33m\u001b[0m\u001b[0m\n\u001b[1;32m--> 569\u001b[1;33m             \u001b[1;32mreturn\u001b[0m \u001b[0mself\u001b[0m\u001b[1;33m.\u001b[0m\u001b[0m_call_chain\u001b[0m\u001b[1;33m(\u001b[0m\u001b[1;33m*\u001b[0m\u001b[0margs\u001b[0m\u001b[1;33m)\u001b[0m\u001b[1;33m\u001b[0m\u001b[1;33m\u001b[0m\u001b[0m\n\u001b[0m\u001b[0;32m    570\u001b[0m \u001b[1;33m\u001b[0m\u001b[0m\n\u001b[0;32m    571\u001b[0m \u001b[1;31m# XXX probably also want an abstract factory that knows when it makes\u001b[0m\u001b[1;33m\u001b[0m\u001b[1;33m\u001b[0m\u001b[1;33m\u001b[0m\u001b[0m\n",
      "\u001b[1;32m~\\anaconda3\\lib\\urllib\\request.py\u001b[0m in \u001b[0;36m_call_chain\u001b[1;34m(self, chain, kind, meth_name, *args)\u001b[0m\n\u001b[0;32m    500\u001b[0m         \u001b[1;32mfor\u001b[0m \u001b[0mhandler\u001b[0m \u001b[1;32min\u001b[0m \u001b[0mhandlers\u001b[0m\u001b[1;33m:\u001b[0m\u001b[1;33m\u001b[0m\u001b[1;33m\u001b[0m\u001b[0m\n\u001b[0;32m    501\u001b[0m             \u001b[0mfunc\u001b[0m \u001b[1;33m=\u001b[0m \u001b[0mgetattr\u001b[0m\u001b[1;33m(\u001b[0m\u001b[0mhandler\u001b[0m\u001b[1;33m,\u001b[0m \u001b[0mmeth_name\u001b[0m\u001b[1;33m)\u001b[0m\u001b[1;33m\u001b[0m\u001b[1;33m\u001b[0m\u001b[0m\n\u001b[1;32m--> 502\u001b[1;33m             \u001b[0mresult\u001b[0m \u001b[1;33m=\u001b[0m \u001b[0mfunc\u001b[0m\u001b[1;33m(\u001b[0m\u001b[1;33m*\u001b[0m\u001b[0margs\u001b[0m\u001b[1;33m)\u001b[0m\u001b[1;33m\u001b[0m\u001b[1;33m\u001b[0m\u001b[0m\n\u001b[0m\u001b[0;32m    503\u001b[0m             \u001b[1;32mif\u001b[0m \u001b[0mresult\u001b[0m \u001b[1;32mis\u001b[0m \u001b[1;32mnot\u001b[0m \u001b[1;32mNone\u001b[0m\u001b[1;33m:\u001b[0m\u001b[1;33m\u001b[0m\u001b[1;33m\u001b[0m\u001b[0m\n\u001b[0;32m    504\u001b[0m                 \u001b[1;32mreturn\u001b[0m \u001b[0mresult\u001b[0m\u001b[1;33m\u001b[0m\u001b[1;33m\u001b[0m\u001b[0m\n",
      "\u001b[1;32m~\\anaconda3\\lib\\urllib\\request.py\u001b[0m in \u001b[0;36mhttp_error_default\u001b[1;34m(self, req, fp, code, msg, hdrs)\u001b[0m\n\u001b[0;32m    647\u001b[0m \u001b[1;32mclass\u001b[0m \u001b[0mHTTPDefaultErrorHandler\u001b[0m\u001b[1;33m(\u001b[0m\u001b[0mBaseHandler\u001b[0m\u001b[1;33m)\u001b[0m\u001b[1;33m:\u001b[0m\u001b[1;33m\u001b[0m\u001b[1;33m\u001b[0m\u001b[0m\n\u001b[0;32m    648\u001b[0m     \u001b[1;32mdef\u001b[0m \u001b[0mhttp_error_default\u001b[0m\u001b[1;33m(\u001b[0m\u001b[0mself\u001b[0m\u001b[1;33m,\u001b[0m \u001b[0mreq\u001b[0m\u001b[1;33m,\u001b[0m \u001b[0mfp\u001b[0m\u001b[1;33m,\u001b[0m \u001b[0mcode\u001b[0m\u001b[1;33m,\u001b[0m \u001b[0mmsg\u001b[0m\u001b[1;33m,\u001b[0m \u001b[0mhdrs\u001b[0m\u001b[1;33m)\u001b[0m\u001b[1;33m:\u001b[0m\u001b[1;33m\u001b[0m\u001b[1;33m\u001b[0m\u001b[0m\n\u001b[1;32m--> 649\u001b[1;33m         \u001b[1;32mraise\u001b[0m \u001b[0mHTTPError\u001b[0m\u001b[1;33m(\u001b[0m\u001b[0mreq\u001b[0m\u001b[1;33m.\u001b[0m\u001b[0mfull_url\u001b[0m\u001b[1;33m,\u001b[0m \u001b[0mcode\u001b[0m\u001b[1;33m,\u001b[0m \u001b[0mmsg\u001b[0m\u001b[1;33m,\u001b[0m \u001b[0mhdrs\u001b[0m\u001b[1;33m,\u001b[0m \u001b[0mfp\u001b[0m\u001b[1;33m)\u001b[0m\u001b[1;33m\u001b[0m\u001b[1;33m\u001b[0m\u001b[0m\n\u001b[0m\u001b[0;32m    650\u001b[0m \u001b[1;33m\u001b[0m\u001b[0m\n\u001b[0;32m    651\u001b[0m \u001b[1;32mclass\u001b[0m \u001b[0mHTTPRedirectHandler\u001b[0m\u001b[1;33m(\u001b[0m\u001b[0mBaseHandler\u001b[0m\u001b[1;33m)\u001b[0m\u001b[1;33m:\u001b[0m\u001b[1;33m\u001b[0m\u001b[1;33m\u001b[0m\u001b[0m\n",
      "\u001b[1;31mHTTPError\u001b[0m: HTTP Error 406: Not Acceptable"
     ]
    }
   ],
   "source": [
    "url = \"https://www.melon.com/chart/index.htm\"\n",
    "html = urlopen(url)\n",
    "html"
   ]
  },
  {
   "cell_type": "code",
   "execution_count": 40,
   "metadata": {
    "ExecuteTime": {
     "end_time": "2021-03-17T13:01:35.264925Z",
     "start_time": "2021-03-17T13:01:34.732450Z"
    },
    "scrolled": true
   },
   "outputs": [
    {
     "name": "stdout",
     "output_type": "stream",
     "text": [
      "  1위 | 롤린 (Rollin') | 브레이브걸스\n",
      "  2위 | Celebrity | 아이유\n",
      "  3위 | On The Ground | 로제 (ROSÉ)\n",
      "  4위 | LOVE DAY (2021) (바른연애 길잡이 X 양요섭, 정은지) | 양요섭, 정은지\n",
      "  5위 | Dynamite | 방탄소년단\n",
      "  6위 | 밤하늘의 별을(2020) | 경서\n",
      "  7위 | Gone | 로제 (ROSÉ)\n",
      "  8위 | 밝게 빛나는 별이 되어 비춰줄게 | 송이한\n",
      "  9위 | 내 손을 잡아 | 아이유\n",
      " 10위 | VVS (Feat. JUSTHIS) (Prod. GroovyRoom) | 미란이 (Mirani), 먼치맨(MUNCHMAN), Khundi Panda, 머쉬베놈 (MUSHVENOM)\n",
      " 11위 | 잠이 오질 않네요 | 장범준\n",
      " 12위 | Lovesick Girls | BLACKPINK\n",
      " 13위 | 취기를 빌려 (취향저격 그녀 X 산들) | 산들\n",
      " 14위 | 이 밤을 빌려 말해요 (바른연애 길잡이 X 10CM) | 10CM\n",
      " 15위 | 나랑 같이 걸을래 (바른연애 길잡이 X 적재) | 적재\n",
      " 16위 | 에잇(Prod.&Feat. SUGA of BTS) | 아이유\n",
      " 17위 | Blueming | 아이유\n",
      " 18위 | 흔들리는 꽃들 속에서 네 샴푸향이 느껴진거야 | 장범준\n",
      " 19위 | 그날에 나는 맘이 편했을까 | 이예준\n",
      " 20위 | 오래된 노래 | 스탠딩 에그\n",
      " 21위 | 힘든 건 사랑이 아니다 | 임창정\n",
      " 22위 | 그 한마디 (바른연애 길잡이 X 이하이) | 이하이\n",
      " 23위 | 어떻게 이별까지 사랑하겠어, 널 사랑하는 거지 | AKMU (악동뮤지션)\n",
      " 24위 | 고백 (바른연애 길잡이 X 허각) | 허각\n",
      " 25위 | 사실 나는 (Feat.전건호) | 경서예지\n",
      " 26위 | Savage Love (Laxed - Siren Beat) (BTS Remix) | Jawsh 685, Jason Derulo, 방탄소년단\n",
      " 27위 | Life Goes On | 방탄소년단\n",
      " 28위 | 모든 날, 모든 순간 (Every day, Every Moment) | 폴킴\n",
      " 29위 | METEOR | 창모 (CHANGMO)\n",
      " 30위 | 내 마음이 움찔했던 순간 (취향저격 그녀 X 규현) | 규현 (KYUHYUN)\n",
      " 31위 | Dolphin | 오마이걸 (OH MY GIRL)\n",
      " 32위 | I'm Not Cool | 현아\n",
      " 33위 | 어떻게 지내 (Prod. By VAN.C) | 오반 (OVAN)\n",
      " 34위 | 2002 | Anne-Marie\n",
      " 35위 | How You Like That | BLACKPINK\n",
      " 36위 | 늦은 밤 너의 집 앞 골목길에서 | 노을\n",
      " 37위 | 아로하 | 조정석\n",
      " 38위 | 함께 했는데 이별은 나 혼자인 거야 | 소정 (레이디스 코드)\n",
      " 39위 | 오늘도 빛나는 너에게 (To You My Light) (Feat.이라온) | 마크툽 (MAKTUB)\n",
      " 40위 | 혼술하고 싶은 밤 | 벤\n",
      " 41위 | 너의 번호를 누르고 (Prod. 영화처럼) | #안녕\n",
      " 42위 | 봄날 | 방탄소년단\n",
      " 43위 | 내일이 오면 (Feat. 기리보이, BIG Naughty (서동현)) | 릴보이 (lIlBOI)\n",
      " 44위 | 마음을 드려요 | 아이유\n",
      " 45위 | When We Disco (Duet with 선미) | 박진영\n",
      " 46위 | 작은 것들을 위한 시 (Boy With Luv) (Feat. Halsey) | 방탄소년단\n",
      " 47위 | 추억은 만남보다 이별에 남아 | 정동하\n",
      " 48위 | Memories | Maroon 5\n",
      " 49위 | 꼬리 (TAIL) | 선미\n",
      " 50위 | 되풀이 | 임창정\n",
      " 51위 | 서면역에서 | 순순희\n",
      " 52위 | 너를 만나 | 폴킴\n",
      " 53위 | 술 한잔 해요 | 경서 (경서예지), MJ (써니사이드)\n",
      " 54위 | 살짝 설렜어 (Nonstop) | 오마이걸 (OH MY GIRL)\n",
      " 55위 | Don't Call Me | SHINee (샤이니)\n",
      " 56위 | 시작 | 가호 (Gaho)\n",
      " 57위 | 12:45 (Stripped) | Etham\n",
      " 58위 | 이제 나만 믿어요 | 임영웅\n",
      " 59위 | 우리 왜 헤어져야 해 | 신예영\n",
      " 60위 | Dance Monkey | Tones And I\n",
      " 61위 | 거짓말이라도 해서 널 보고싶어 | 백지영\n",
      " 62위 | 좋은 이별이 있을 리가 없잖아 (Feat. 조현아 Of 어반자카파) | MC몽\n",
      " 63위 | Love poem | 아이유\n",
      " 64위 | 우린 어쩌다 헤어진 걸까 | 허각\n",
      " 65위 | 안녕 | 폴킴\n",
      " 66위 | 이렇게 좋아해 본 적이 없어요 | CHEEZE (치즈)\n",
      " 67위 | Downtown Baby | 블루 (BLOO)\n",
      " 68위 | 딩가딩가 (Dingga) | 마마무 (Mamamoo)\n",
      " 69위 | 마리아 (Maria) | 화사 (Hwa Sa)\n",
      " 70위 | 사랑하는 당신께 | 폴킴\n",
      " 71위 | 사랑은 지날수록 더욱 선명하게 남아 | 전상근\n",
      " 72위 | 화(火花) | (여자)아이들\n",
      " 73위 | Paris In The Rain | Lauv\n",
      " 74위 | Panorama | IZ*ONE (아이즈원)\n",
      " 75위 | Don't Start Now | Dua Lipa\n",
      " 76위 | I CAN’T STOP ME | TWICE (트와이스)\n",
      " 77위 | 홀로 | 이하이\n",
      " 78위 | CREDIT (Feat. 염따, 기리보이, Zion.T) | 릴보이 (lIlBOI)\n",
      " 79위 | 서른 밤째 (바른연애 길잡이 X 윤하 (YOUNHA)) | 윤하 (YOUNHA)\n",
      " 80위 | 다시 만날까 봐 (Prod.V.O.S) | 이예준\n",
      " 81위 | 소확행 | 임창정\n",
      " 82위 | 아무노래 | 지코 (ZICO)\n",
      " 83위 | 사랑 못해, 남들 쉽게 다 하는 거 | 먼데이 키즈 (Monday Kiz)\n",
      " 84위 | DON'T TOUCH ME | 환불원정대\n",
      " 85위 | 처음처럼 | 엠씨더맥스 (M.C the MAX)\n",
      " 86위 | Maniac | Conan Gray\n",
      " 87위 | 눈누난나 (NUNU NANA) | 제시 (Jessi)\n",
      " 88위 | 비로소 너에게 도착했다 (Full Bloom) | 마크툽 (MAKTUB)\n",
      " 89위 | Bad Boy | 청하, Christopher\n",
      " 90위 | 사랑하게 될 줄 알았어 | 전미도\n",
      " 91위 | 별빛 같은 나의 사랑아 | 임영웅\n",
      " 92위 | FLYING HIGH WITH U | 빈첸\n",
      " 93위 | 멜로디 | ASH ISLAND\n",
      " 94위 | 별을 담은 시 (Ode To The Stars) | 마크툽 (MAKTUB), 이라온\n",
      " 95위 | What Do I Call You | 태연 (TAEYEON)\n",
      " 96위 | Achoo (Feat. pH-1, HAON) (Prod. GroovyRoom) | 미란이 (Mirani)\n",
      " 97위 | 한잔이면 지워질까 | 황인욱\n",
      " 98위 | 가을밤에 든 생각 | 잔나비\n",
      " 99위 | Freak (Prod. Slom) | 릴보이 (lIlBOI), 원슈타인, Chillin Homie, 스카이민혁 (Skyminhyuk)\n",
      "100위 | 뿌리 (Feat. JUSTHIS) (Prod. GroovyRoom) | Khundi Panda\n"
     ]
    }
   ],
   "source": [
    "import requests\n",
    "from bs4 import BeautifulSoup\n",
    "\n",
    "url = \"https://www.melon.com/chart/index.htm\" # 크롤링을 막음.\n",
    "headers = {\"User-agent\":\"Mozilla/5.0\"}\n",
    "html = requests.get(url, headers=headers)\n",
    "# html # 에러메세지만 안나올뿐 406으로 나온다.\n",
    "soup = BeautifulSoup(html.content, \"html.parser\")\n",
    "# soup # 에러메세지만 안나올뿐 아무적도 나오지 않는다.\n",
    "titles = soup.select(\"div.wrap_song_info > div.ellipsis.rank01 > span > a\")\n",
    "# titles # 406 에러 코드때문에 계속 [] 으로 나온다. 하지만 상단의 headers 를 설정해주면 된다.\n",
    "singers = soup.select(\"div.ellipsis.rank02 > span\")\n",
    "# len(titles), len(titles) #100개씩 들어오는지확인\n",
    "for idx in range(len(titles)):\n",
    "    print(\"{:3d}위 | {} | {}\".format(idx+1, titles[idx].text, singers[idx].text))"
   ]
  },
  {
   "cell_type": "code",
   "execution_count": null,
   "metadata": {},
   "outputs": [],
   "source": []
  },
  {
   "cell_type": "markdown",
   "metadata": {},
   "source": [
    "## 2.3 정규표현식을 활용한 웹데이터 수집."
   ]
  },
  {
   "cell_type": "markdown",
   "metadata": {},
   "source": [
    "### 정규표현식 참조 : \n",
    "- https://goo.gl/HLntbd\n",
    "- https://www.nextree.co.kr/p4327\n",
    "- 정규표현식 연습장 : https://regexr.com\n",
    "\n",
    "### 간략문법\n",
    "<pre>\n",
    "\\d (숫자와 매치, [0-9] 동일)\n",
    "\\D (숫자가 아닌것)\n",
    "\\s (whitespace)\n",
    "\\w (영문자나 숫자)\n",
    "\\W (영문자나 숫자가 아닌것)\n",
    ".   (문자 아무거나 하나)\n",
    "+  (1번 이상 반복)\n",
    "*  (0번 이상 반복)\n",
    "{2,3} (2~3회 반복)\n",
    "?  ({0,1} 0번이나 1번을 의미)\n",
    "</pre>\n",
    "### 정규표현식 예\n",
    "- 메일 정규표현식 =  \\w+@\\w+\\.\\w+[\\.\\w+]*\n",
    "- 전화번호 전규표현식 =  .?\\d{2,3}.?\\d{3,4}.?\\d{4}\n",
    "- ip주소 정규표현식 = [0-9]{1,3}.[0-9]{1,3}.[0-9]{1,3}.[0-9]{1,3}\n",
    "- 주민등록번호 정규표현식 =  [0-9]{2}[0-1][0-9][0-31][0-9]-[1-4]\\d{6}"
   ]
  },
  {
   "cell_type": "code",
   "execution_count": 41,
   "metadata": {
    "ExecuteTime": {
     "end_time": "2021-03-17T13:01:39.422689Z",
     "start_time": "2021-03-17T13:01:39.404708Z"
    }
   },
   "outputs": [
    {
     "name": "stdout",
     "output_type": "stream",
     "text": [
      "hello\\nWorld\n",
      "hello\n",
      "World\n"
     ]
    }
   ],
   "source": [
    "print(r\"hello\\nWorld\")\n",
    "print(\"hello\\nWorld\")"
   ]
  },
  {
   "cell_type": "code",
   "execution_count": 42,
   "metadata": {
    "ExecuteTime": {
     "end_time": "2021-03-17T13:01:40.566877Z",
     "start_time": "2021-03-17T13:01:40.560921Z"
    }
   },
   "outputs": [],
   "source": [
    "import re\n",
    "parsing_string = \"\"\"010-9999-9999\n",
    "01-1234-5678\n",
    "(02)716-4066\n",
    "01-65478\n",
    "dong@naver.com\n",
    "dong@naver.co.kr\n",
    "<html>\n",
    "    <tag>abc</tag>\n",
    "</html>\n",
    "\"\"\""
   ]
  },
  {
   "cell_type": "code",
   "execution_count": 43,
   "metadata": {
    "ExecuteTime": {
     "end_time": "2021-03-17T13:01:42.272176Z",
     "start_time": "2021-03-17T13:01:42.265626Z"
    }
   },
   "outputs": [
    {
     "data": {
      "text/plain": [
       "['dong@naver.com', 'dong@naver.co.kr']"
      ]
     },
     "execution_count": 43,
     "metadata": {},
     "output_type": "execute_result"
    }
   ],
   "source": [
    "mail_result = re.findall(r\"\\w+@\\w+.\\w+[.\\w+]*\", parsing_string)\n",
    "mail_result"
   ]
  },
  {
   "cell_type": "code",
   "execution_count": 44,
   "metadata": {
    "ExecuteTime": {
     "end_time": "2021-03-17T13:01:43.706412Z",
     "start_time": "2021-03-17T13:01:43.693442Z"
    }
   },
   "outputs": [
    {
     "data": {
      "text/plain": [
       "['010-9999-9999', '01-1234-5678', '(02)716-4066']"
      ]
     },
     "execution_count": 44,
     "metadata": {},
     "output_type": "execute_result"
    }
   ],
   "source": [
    "tel_result = re.findall(r\".?\\d{2,3}.?\\d{3,4}.?\\d{4}\", parsing_string)\n",
    "tel_result # for문을 이용해서 뽑을때."
   ]
  },
  {
   "cell_type": "code",
   "execution_count": 45,
   "metadata": {
    "ExecuteTime": {
     "end_time": "2021-03-17T13:01:44.976138Z",
     "start_time": "2021-03-17T13:01:44.962178Z"
    }
   },
   "outputs": [
    {
     "data": {
      "text/plain": [
       "'abc'"
      ]
     },
     "execution_count": 45,
     "metadata": {},
     "output_type": "execute_result"
    }
   ],
   "source": [
    "tag_text = re.search(r\"<tag>(.+)</tag>\",parsing_string)\n",
    "tag_text.group(1) # 하나씩 뽑고싶을때."
   ]
  },
  {
   "cell_type": "markdown",
   "metadata": {},
   "source": [
    "**예제) 전국날씨 RSS 데이터 가져오기기**"
   ]
  },
  {
   "cell_type": "code",
   "execution_count": 46,
   "metadata": {
    "ExecuteTime": {
     "end_time": "2021-03-17T13:01:46.387265Z",
     "start_time": "2021-03-17T13:01:46.199893Z"
    },
    "scrolled": true
   },
   "outputs": [
    {
     "name": "stdout",
     "output_type": "stream",
     "text": [
      "서울ㆍ인천ㆍ경기도 지역의  서울\n",
      "\t날짜시간:2021-03-20 00:00, 날씨:흐림, 최저:8도, 최고:14도\n",
      "\t날짜시간:2021-03-20 12:00, 날씨:흐리고 비, 최저:8도, 최고:14도\n",
      "\t날짜시간:2021-03-21 00:00, 날씨:구름많음, 최저:5도, 최고:10도\n",
      "\t날짜시간:2021-03-21 12:00, 날씨:맑음, 최저:5도, 최고:10도\n",
      "\t날짜시간:2021-03-22 00:00, 날씨:맑음, 최저:1도, 최고:10도\n",
      "\t날짜시간:2021-03-22 12:00, 날씨:맑음, 최저:1도, 최고:10도\n",
      "\t날짜시간:2021-03-23 00:00, 날씨:맑음, 최저:4도, 최고:14도\n",
      "\t날짜시간:2021-03-23 12:00, 날씨:맑음, 최저:4도, 최고:14도\n",
      "\t날짜시간:2021-03-24 00:00, 날씨:맑음, 최저:5도, 최고:15도\n",
      "\t날짜시간:2021-03-24 12:00, 날씨:맑음, 최저:5도, 최고:15도\n",
      "\t날짜시간:2021-03-25 00:00, 날씨:구름많음, 최저:6도, 최고:16도\n",
      "\t날짜시간:2021-03-26 00:00, 날씨:구름많음, 최저:6도, 최고:15도\n",
      "\t날짜시간:2021-03-27 00:00, 날씨:구름많음, 최저:7도, 최고:16도\n",
      "서울ㆍ인천ㆍ경기도 지역의  인천\n",
      "\t날짜시간:2021-03-20 00:00, 날씨:흐림, 최저:8도, 최고:12도\n",
      "\t날짜시간:2021-03-20 12:00, 날씨:흐리고 비, 최저:8도, 최고:12도\n",
      "\t날짜시간:2021-03-21 00:00, 날씨:구름많음, 최저:5도, 최고:8도\n",
      "\t날짜시간:2021-03-21 12:00, 날씨:맑음, 최저:5도, 최고:8도\n",
      "\t날짜시간:2021-03-22 00:00, 날씨:맑음, 최저:3도, 최고:9도\n",
      "\t날짜시간:2021-03-22 12:00, 날씨:맑음, 최저:3도, 최고:9도\n",
      "\t날짜시간:2021-03-23 00:00, 날씨:맑음, 최저:4도, 최고:12도\n",
      "\t날짜시간:2021-03-23 12:00, 날씨:맑음, 최저:4도, 최고:12도\n",
      "\t날짜시간:2021-03-24 00:00, 날씨:맑음, 최저:6도, 최고:13도\n",
      "\t날짜시간:2021-03-24 12:00, 날씨:맑음, 최저:6도, 최고:13도\n",
      "\t날짜시간:2021-03-25 00:00, 날씨:구름많음, 최저:6도, 최고:13도\n",
      "\t날짜시간:2021-03-26 00:00, 날씨:구름많음, 최저:6도, 최고:14도\n",
      "\t날짜시간:2021-03-27 00:00, 날씨:구름많음, 최저:7도, 최고:14도\n",
      "서울ㆍ인천ㆍ경기도 지역의  수원\n",
      "\t날짜시간:2021-03-20 00:00, 날씨:흐림, 최저:7도, 최고:14도\n",
      "\t날짜시간:2021-03-20 12:00, 날씨:흐리고 비, 최저:7도, 최고:14도\n",
      "\t날짜시간:2021-03-21 00:00, 날씨:구름많음, 최저:5도, 최고:10도\n",
      "\t날짜시간:2021-03-21 12:00, 날씨:맑음, 최저:5도, 최고:10도\n",
      "\t날짜시간:2021-03-22 00:00, 날씨:맑음, 최저:1도, 최고:10도\n",
      "\t날짜시간:2021-03-22 12:00, 날씨:맑음, 최저:1도, 최고:10도\n",
      "\t날짜시간:2021-03-23 00:00, 날씨:맑음, 최저:2도, 최고:15도\n",
      "\t날짜시간:2021-03-23 12:00, 날씨:맑음, 최저:2도, 최고:15도\n",
      "\t날짜시간:2021-03-24 00:00, 날씨:맑음, 최저:3도, 최고:16도\n",
      "\t날짜시간:2021-03-24 12:00, 날씨:맑음, 최저:3도, 최고:16도\n",
      "\t날짜시간:2021-03-25 00:00, 날씨:구름많음, 최저:4도, 최고:15도\n",
      "\t날짜시간:2021-03-26 00:00, 날씨:구름많음, 최저:4도, 최고:15도\n",
      "\t날짜시간:2021-03-27 00:00, 날씨:구름많음, 최저:5도, 최고:16도\n",
      "서울ㆍ인천ㆍ경기도 지역의  파주\n",
      "\t날짜시간:2021-03-20 00:00, 날씨:흐림, 최저:5도, 최고:13도\n",
      "\t날짜시간:2021-03-20 12:00, 날씨:흐리고 비, 최저:5도, 최고:13도\n",
      "\t날짜시간:2021-03-21 00:00, 날씨:구름많음, 최저:4도, 최고:11도\n",
      "\t날짜시간:2021-03-21 12:00, 날씨:맑음, 최저:4도, 최고:11도\n",
      "\t날짜시간:2021-03-22 00:00, 날씨:맑음, 최저:-2도, 최고:12도\n",
      "\t날짜시간:2021-03-22 12:00, 날씨:맑음, 최저:-2도, 최고:12도\n",
      "\t날짜시간:2021-03-23 00:00, 날씨:맑음, 최저:-1도, 최고:14도\n",
      "\t날짜시간:2021-03-23 12:00, 날씨:맑음, 최저:-1도, 최고:14도\n",
      "\t날짜시간:2021-03-24 00:00, 날씨:맑음, 최저:2도, 최고:15도\n",
      "\t날짜시간:2021-03-24 12:00, 날씨:맑음, 최저:2도, 최고:15도\n",
      "\t날짜시간:2021-03-25 00:00, 날씨:구름많음, 최저:3도, 최고:15도\n",
      "\t날짜시간:2021-03-26 00:00, 날씨:구름많음, 최저:3도, 최고:15도\n",
      "\t날짜시간:2021-03-27 00:00, 날씨:구름많음, 최저:3도, 최고:16도\n",
      "서울ㆍ인천ㆍ경기도 지역의  이천\n",
      "\t날짜시간:2021-03-20 00:00, 날씨:흐림, 최저:4도, 최고:13도\n",
      "\t날짜시간:2021-03-20 12:00, 날씨:흐리고 비, 최저:4도, 최고:13도\n",
      "\t날짜시간:2021-03-21 00:00, 날씨:구름많음, 최저:5도, 최고:12도\n",
      "\t날짜시간:2021-03-21 12:00, 날씨:맑음, 최저:5도, 최고:12도\n",
      "\t날짜시간:2021-03-22 00:00, 날씨:맑음, 최저:0도, 최고:12도\n",
      "\t날짜시간:2021-03-22 12:00, 날씨:맑음, 최저:0도, 최고:12도\n",
      "\t날짜시간:2021-03-23 00:00, 날씨:맑음, 최저:0도, 최고:15도\n",
      "\t날짜시간:2021-03-23 12:00, 날씨:맑음, 최저:0도, 최고:15도\n",
      "\t날짜시간:2021-03-24 00:00, 날씨:맑음, 최저:1도, 최고:17도\n",
      "\t날짜시간:2021-03-24 12:00, 날씨:맑음, 최저:1도, 최고:17도\n",
      "\t날짜시간:2021-03-25 00:00, 날씨:구름많음, 최저:3도, 최고:16도\n",
      "\t날짜시간:2021-03-26 00:00, 날씨:구름많음, 최저:3도, 최고:16도\n",
      "\t날짜시간:2021-03-27 00:00, 날씨:구름많음, 최저:3도, 최고:16도\n",
      "서울ㆍ인천ㆍ경기도 지역의  평택\n",
      "\t날짜시간:2021-03-20 00:00, 날씨:흐림, 최저:6도, 최고:14도\n",
      "\t날짜시간:2021-03-20 12:00, 날씨:흐리고 비, 최저:6도, 최고:14도\n",
      "\t날짜시간:2021-03-21 00:00, 날씨:구름많음, 최저:5도, 최고:10도\n",
      "\t날짜시간:2021-03-21 12:00, 날씨:맑음, 최저:5도, 최고:10도\n",
      "\t날짜시간:2021-03-22 00:00, 날씨:맑음, 최저:2도, 최고:12도\n",
      "\t날짜시간:2021-03-22 12:00, 날씨:맑음, 최저:2도, 최고:12도\n",
      "\t날짜시간:2021-03-23 00:00, 날씨:맑음, 최저:2도, 최고:15도\n",
      "\t날짜시간:2021-03-23 12:00, 날씨:맑음, 최저:2도, 최고:15도\n",
      "\t날짜시간:2021-03-24 00:00, 날씨:맑음, 최저:4도, 최고:16도\n",
      "\t날짜시간:2021-03-24 12:00, 날씨:맑음, 최저:4도, 최고:16도\n",
      "\t날짜시간:2021-03-25 00:00, 날씨:구름많음, 최저:4도, 최고:16도\n",
      "\t날짜시간:2021-03-26 00:00, 날씨:구름많음, 최저:4도, 최고:16도\n",
      "\t날짜시간:2021-03-27 00:00, 날씨:구름많음, 최저:5도, 최고:16도\n",
      "강원도영서 지역의  춘천\n",
      "\t날짜시간:2021-03-20 00:00, 날씨:흐림, 최저:4도, 최고:13도\n",
      "\t날짜시간:2021-03-20 12:00, 날씨:흐리고 비, 최저:4도, 최고:13도\n",
      "\t날짜시간:2021-03-21 00:00, 날씨:흐림, 최저:5도, 최고:12도\n",
      "\t날짜시간:2021-03-21 12:00, 날씨:맑음, 최저:5도, 최고:12도\n",
      "\t날짜시간:2021-03-22 00:00, 날씨:맑음, 최저:-2도, 최고:11도\n",
      "\t날짜시간:2021-03-22 12:00, 날씨:맑음, 최저:-2도, 최고:11도\n",
      "\t날짜시간:2021-03-23 00:00, 날씨:맑음, 최저:-1도, 최고:15도\n",
      "\t날짜시간:2021-03-23 12:00, 날씨:맑음, 최저:-1도, 최고:15도\n",
      "\t날짜시간:2021-03-24 00:00, 날씨:맑음, 최저:1도, 최고:16도\n",
      "\t날짜시간:2021-03-24 12:00, 날씨:구름많음, 최저:1도, 최고:16도\n",
      "\t날짜시간:2021-03-25 00:00, 날씨:흐림, 최저:4도, 최고:16도\n",
      "\t날짜시간:2021-03-26 00:00, 날씨:구름많음, 최저:4도, 최고:16도\n",
      "\t날짜시간:2021-03-27 00:00, 날씨:구름많음, 최저:4도, 최고:16도\n",
      "강원도영서 지역의  원주\n",
      "\t날짜시간:2021-03-20 00:00, 날씨:흐림, 최저:6도, 최고:15도\n",
      "\t날짜시간:2021-03-20 12:00, 날씨:흐리고 비, 최저:6도, 최고:15도\n",
      "\t날짜시간:2021-03-21 00:00, 날씨:흐림, 최저:7도, 최고:12도\n",
      "\t날짜시간:2021-03-21 12:00, 날씨:맑음, 최저:7도, 최고:12도\n",
      "\t날짜시간:2021-03-22 00:00, 날씨:맑음, 최저:-1도, 최고:10도\n",
      "\t날짜시간:2021-03-22 12:00, 날씨:맑음, 최저:-1도, 최고:10도\n",
      "\t날짜시간:2021-03-23 00:00, 날씨:맑음, 최저:0도, 최고:15도\n",
      "\t날짜시간:2021-03-23 12:00, 날씨:맑음, 최저:0도, 최고:15도\n",
      "\t날짜시간:2021-03-24 00:00, 날씨:맑음, 최저:2도, 최고:16도\n",
      "\t날짜시간:2021-03-24 12:00, 날씨:구름많음, 최저:2도, 최고:16도\n",
      "\t날짜시간:2021-03-25 00:00, 날씨:흐림, 최저:4도, 최고:16도\n",
      "\t날짜시간:2021-03-26 00:00, 날씨:구름많음, 최저:5도, 최고:15도\n",
      "\t날짜시간:2021-03-27 00:00, 날씨:구름많음, 최저:5도, 최고:16도\n",
      "강원도영동 지역의  강릉\n",
      "\t날짜시간:2021-03-20 00:00, 날씨:흐림, 최저:6도, 최고:12도\n",
      "\t날짜시간:2021-03-20 12:00, 날씨:흐리고 비, 최저:6도, 최고:12도\n",
      "\t날짜시간:2021-03-21 00:00, 날씨:흐리고 비, 최저:7도, 최고:15도\n",
      "\t날짜시간:2021-03-21 12:00, 날씨:맑음, 최저:7도, 최고:15도\n",
      "\t날짜시간:2021-03-22 00:00, 날씨:맑음, 최저:4도, 최고:12도\n",
      "\t날짜시간:2021-03-22 12:00, 날씨:맑음, 최저:4도, 최고:12도\n",
      "\t날짜시간:2021-03-23 00:00, 날씨:맑음, 최저:6도, 최고:17도\n",
      "\t날짜시간:2021-03-23 12:00, 날씨:맑음, 최저:6도, 최고:17도\n",
      "\t날짜시간:2021-03-24 00:00, 날씨:맑음, 최저:8도, 최고:17도\n",
      "\t날짜시간:2021-03-24 12:00, 날씨:맑음, 최저:8도, 최고:17도\n",
      "\t날짜시간:2021-03-25 00:00, 날씨:구름많음, 최저:7도, 최고:16도\n",
      "\t날짜시간:2021-03-26 00:00, 날씨:맑음, 최저:7도, 최고:15도\n",
      "\t날짜시간:2021-03-27 00:00, 날씨:구름많음, 최저:7도, 최고:15도\n",
      "대전ㆍ세종ㆍ충청남도 지역의  대전\n",
      "\t날짜시간:2021-03-20 00:00, 날씨:흐림, 최저:8도, 최고:11도\n",
      "\t날짜시간:2021-03-20 12:00, 날씨:흐리고 비, 최저:8도, 최고:11도\n",
      "\t날짜시간:2021-03-21 00:00, 날씨:흐림, 최저:7도, 최고:13도\n",
      "\t날짜시간:2021-03-21 12:00, 날씨:구름많음, 최저:7도, 최고:13도\n",
      "\t날짜시간:2021-03-22 00:00, 날씨:맑음, 최저:1도, 최고:12도\n",
      "\t날짜시간:2021-03-22 12:00, 날씨:맑음, 최저:1도, 최고:12도\n",
      "\t날짜시간:2021-03-23 00:00, 날씨:맑음, 최저:2도, 최고:16도\n",
      "\t날짜시간:2021-03-23 12:00, 날씨:맑음, 최저:2도, 최고:16도\n",
      "\t날짜시간:2021-03-24 00:00, 날씨:맑음, 최저:4도, 최고:17도\n",
      "\t날짜시간:2021-03-24 12:00, 날씨:맑음, 최저:4도, 최고:17도\n",
      "\t날짜시간:2021-03-25 00:00, 날씨:구름많음, 최저:5도, 최고:17도\n",
      "\t날짜시간:2021-03-26 00:00, 날씨:구름많음, 최저:5도, 최고:17도\n",
      "\t날짜시간:2021-03-27 00:00, 날씨:구름많음, 최저:5도, 최고:17도\n",
      "대전ㆍ세종ㆍ충청남도 지역의  세종\n",
      "\t날짜시간:2021-03-20 00:00, 날씨:흐림, 최저:7도, 최고:11도\n",
      "\t날짜시간:2021-03-20 12:00, 날씨:흐리고 비, 최저:7도, 최고:11도\n",
      "\t날짜시간:2021-03-21 00:00, 날씨:흐림, 최저:7도, 최고:12도\n",
      "\t날짜시간:2021-03-21 12:00, 날씨:구름많음, 최저:7도, 최고:12도\n",
      "\t날짜시간:2021-03-22 00:00, 날씨:맑음, 최저:1도, 최고:12도\n",
      "\t날짜시간:2021-03-22 12:00, 날씨:맑음, 최저:1도, 최고:12도\n",
      "\t날짜시간:2021-03-23 00:00, 날씨:맑음, 최저:2도, 최고:16도\n",
      "\t날짜시간:2021-03-23 12:00, 날씨:맑음, 최저:2도, 최고:16도\n",
      "\t날짜시간:2021-03-24 00:00, 날씨:맑음, 최저:3도, 최고:16도\n",
      "\t날짜시간:2021-03-24 12:00, 날씨:맑음, 최저:3도, 최고:16도\n",
      "\t날짜시간:2021-03-25 00:00, 날씨:구름많음, 최저:4도, 최고:16도\n",
      "\t날짜시간:2021-03-26 00:00, 날씨:구름많음, 최저:5도, 최고:17도\n",
      "\t날짜시간:2021-03-27 00:00, 날씨:구름많음, 최저:4도, 최고:17도\n",
      "대전ㆍ세종ㆍ충청남도 지역의  홍성\n",
      "\t날짜시간:2021-03-20 00:00, 날씨:흐림, 최저:6도, 최고:12도\n",
      "\t날짜시간:2021-03-20 12:00, 날씨:흐리고 비, 최저:6도, 최고:12도\n",
      "\t날짜시간:2021-03-21 00:00, 날씨:흐림, 최저:6도, 최고:12도\n",
      "\t날짜시간:2021-03-21 12:00, 날씨:구름많음, 최저:6도, 최고:12도\n",
      "\t날짜시간:2021-03-22 00:00, 날씨:맑음, 최저:1도, 최고:12도\n",
      "\t날짜시간:2021-03-22 12:00, 날씨:맑음, 최저:1도, 최고:12도\n",
      "\t날짜시간:2021-03-23 00:00, 날씨:맑음, 최저:1도, 최고:15도\n",
      "\t날짜시간:2021-03-23 12:00, 날씨:맑음, 최저:1도, 최고:15도\n",
      "\t날짜시간:2021-03-24 00:00, 날씨:맑음, 최저:4도, 최고:15도\n",
      "\t날짜시간:2021-03-24 12:00, 날씨:맑음, 최저:4도, 최고:15도\n",
      "\t날짜시간:2021-03-25 00:00, 날씨:구름많음, 최저:5도, 최고:16도\n",
      "\t날짜시간:2021-03-26 00:00, 날씨:구름많음, 최저:5도, 최고:16도\n",
      "\t날짜시간:2021-03-27 00:00, 날씨:구름많음, 최저:5도, 최고:16도\n",
      "충청북도 지역의  청주\n",
      "\t날짜시간:2021-03-20 00:00, 날씨:흐림, 최저:7도, 최고:12도\n",
      "\t날짜시간:2021-03-20 12:00, 날씨:흐리고 비, 최저:7도, 최고:12도\n",
      "\t날짜시간:2021-03-21 00:00, 날씨:흐림, 최저:7도, 최고:12도\n",
      "\t날짜시간:2021-03-21 12:00, 날씨:맑음, 최저:7도, 최고:12도\n",
      "\t날짜시간:2021-03-22 00:00, 날씨:맑음, 최저:2도, 최고:12도\n",
      "\t날짜시간:2021-03-22 12:00, 날씨:맑음, 최저:2도, 최고:12도\n",
      "\t날짜시간:2021-03-23 00:00, 날씨:맑음, 최저:3도, 최고:16도\n",
      "\t날짜시간:2021-03-23 12:00, 날씨:맑음, 최저:3도, 최고:16도\n",
      "\t날짜시간:2021-03-24 00:00, 날씨:맑음, 최저:4도, 최고:17도\n",
      "\t날짜시간:2021-03-24 12:00, 날씨:구름많음, 최저:4도, 최고:17도\n",
      "\t날짜시간:2021-03-25 00:00, 날씨:구름많음, 최저:5도, 최고:17도\n",
      "\t날짜시간:2021-03-26 00:00, 날씨:구름많음, 최저:5도, 최고:17도\n",
      "\t날짜시간:2021-03-27 00:00, 날씨:구름많음, 최저:5도, 최고:17도\n",
      "충청북도 지역의  충주\n",
      "\t날짜시간:2021-03-20 00:00, 날씨:흐림, 최저:5도, 최고:13도\n",
      "\t날짜시간:2021-03-20 12:00, 날씨:흐리고 비, 최저:5도, 최고:13도\n",
      "\t날짜시간:2021-03-21 00:00, 날씨:흐림, 최저:6도, 최고:12도\n",
      "\t날짜시간:2021-03-21 12:00, 날씨:맑음, 최저:6도, 최고:12도\n",
      "\t날짜시간:2021-03-22 00:00, 날씨:맑음, 최저:0도, 최고:11도\n",
      "\t날짜시간:2021-03-22 12:00, 날씨:맑음, 최저:0도, 최고:11도\n",
      "\t날짜시간:2021-03-23 00:00, 날씨:맑음, 최저:-1도, 최고:15도\n",
      "\t날짜시간:2021-03-23 12:00, 날씨:맑음, 최저:-1도, 최고:15도\n",
      "\t날짜시간:2021-03-24 00:00, 날씨:맑음, 최저:2도, 최고:16도\n",
      "\t날짜시간:2021-03-24 12:00, 날씨:구름많음, 최저:2도, 최고:16도\n",
      "\t날짜시간:2021-03-25 00:00, 날씨:구름많음, 최저:3도, 최고:16도\n",
      "\t날짜시간:2021-03-26 00:00, 날씨:구름많음, 최저:4도, 최고:16도\n",
      "\t날짜시간:2021-03-27 00:00, 날씨:구름많음, 최저:4도, 최고:16도\n",
      "충청북도 지역의  영동\n",
      "\t날짜시간:2021-03-20 00:00, 날씨:흐림, 최저:6도, 최고:12도\n",
      "\t날짜시간:2021-03-20 12:00, 날씨:흐리고 비, 최저:6도, 최고:12도\n",
      "\t날짜시간:2021-03-21 00:00, 날씨:흐림, 최저:7도, 최고:13도\n",
      "\t날짜시간:2021-03-21 12:00, 날씨:맑음, 최저:7도, 최고:13도\n",
      "\t날짜시간:2021-03-22 00:00, 날씨:맑음, 최저:0도, 최고:12도\n",
      "\t날짜시간:2021-03-22 12:00, 날씨:맑음, 최저:0도, 최고:12도\n",
      "\t날짜시간:2021-03-23 00:00, 날씨:맑음, 최저:1도, 최고:16도\n",
      "\t날짜시간:2021-03-23 12:00, 날씨:맑음, 최저:1도, 최고:16도\n",
      "\t날짜시간:2021-03-24 00:00, 날씨:맑음, 최저:2도, 최고:17도\n",
      "\t날짜시간:2021-03-24 12:00, 날씨:구름많음, 최저:2도, 최고:17도\n",
      "\t날짜시간:2021-03-25 00:00, 날씨:구름많음, 최저:3도, 최고:17도\n",
      "\t날짜시간:2021-03-26 00:00, 날씨:구름많음, 최저:3도, 최고:17도\n",
      "\t날짜시간:2021-03-27 00:00, 날씨:구름많음, 최저:4도, 최고:17도\n",
      "광주ㆍ전라남도 지역의  광주\n",
      "\t날짜시간:2021-03-20 00:00, 날씨:흐리고 비, 최저:9도, 최고:14도\n",
      "\t날짜시간:2021-03-20 12:00, 날씨:흐리고 비, 최저:9도, 최고:14도\n",
      "\t날짜시간:2021-03-21 00:00, 날씨:구름많음, 최저:8도, 최고:12도\n",
      "\t날짜시간:2021-03-21 12:00, 날씨:구름많음, 최저:8도, 최고:12도\n",
      "\t날짜시간:2021-03-22 00:00, 날씨:맑음, 최저:3도, 최고:12도\n",
      "\t날짜시간:2021-03-22 12:00, 날씨:맑음, 최저:3도, 최고:12도\n",
      "\t날짜시간:2021-03-23 00:00, 날씨:맑음, 최저:4도, 최고:16도\n",
      "\t날짜시간:2021-03-23 12:00, 날씨:맑음, 최저:4도, 최고:16도\n",
      "\t날짜시간:2021-03-24 00:00, 날씨:맑음, 최저:5도, 최고:17도\n",
      "\t날짜시간:2021-03-24 12:00, 날씨:맑음, 최저:5도, 최고:17도\n",
      "\t날짜시간:2021-03-25 00:00, 날씨:구름많음, 최저:6도, 최고:18도\n",
      "\t날짜시간:2021-03-26 00:00, 날씨:구름많음, 최저:6도, 최고:17도\n",
      "\t날짜시간:2021-03-27 00:00, 날씨:흐림, 최저:7도, 최고:18도\n",
      "광주ㆍ전라남도 지역의  목포\n",
      "\t날짜시간:2021-03-20 00:00, 날씨:흐리고 비, 최저:9도, 최고:13도\n",
      "\t날짜시간:2021-03-20 12:00, 날씨:흐리고 비, 최저:9도, 최고:13도\n",
      "\t날짜시간:2021-03-21 00:00, 날씨:구름많음, 최저:7도, 최고:10도\n",
      "\t날짜시간:2021-03-21 12:00, 날씨:구름많음, 최저:7도, 최고:10도\n",
      "\t날짜시간:2021-03-22 00:00, 날씨:맑음, 최저:4도, 최고:11도\n",
      "\t날짜시간:2021-03-22 12:00, 날씨:맑음, 최저:4도, 최고:11도\n",
      "\t날짜시간:2021-03-23 00:00, 날씨:맑음, 최저:6도, 최고:14도\n",
      "\t날짜시간:2021-03-23 12:00, 날씨:맑음, 최저:6도, 최고:14도\n",
      "\t날짜시간:2021-03-24 00:00, 날씨:맑음, 최저:7도, 최고:14도\n",
      "\t날짜시간:2021-03-24 12:00, 날씨:맑음, 최저:7도, 최고:14도\n",
      "\t날짜시간:2021-03-25 00:00, 날씨:구름많음, 최저:7도, 최고:15도\n",
      "\t날짜시간:2021-03-26 00:00, 날씨:구름많음, 최저:7도, 최고:15도\n",
      "\t날짜시간:2021-03-27 00:00, 날씨:흐림, 최저:7도, 최고:15도\n",
      "광주ㆍ전라남도 지역의  여수\n",
      "\t날짜시간:2021-03-20 00:00, 날씨:흐리고 비, 최저:9도, 최고:12도\n",
      "\t날짜시간:2021-03-20 12:00, 날씨:흐리고 비, 최저:9도, 최고:12도\n",
      "\t날짜시간:2021-03-21 00:00, 날씨:구름많음, 최저:10도, 최고:14도\n",
      "\t날짜시간:2021-03-21 12:00, 날씨:구름많음, 최저:10도, 최고:14도\n",
      "\t날짜시간:2021-03-22 00:00, 날씨:맑음, 최저:4도, 최고:12도\n",
      "\t날짜시간:2021-03-22 12:00, 날씨:맑음, 최저:4도, 최고:12도\n",
      "\t날짜시간:2021-03-23 00:00, 날씨:맑음, 최저:5도, 최고:15도\n",
      "\t날짜시간:2021-03-23 12:00, 날씨:맑음, 최저:5도, 최고:15도\n",
      "\t날짜시간:2021-03-24 00:00, 날씨:맑음, 최저:7도, 최고:14도\n",
      "\t날짜시간:2021-03-24 12:00, 날씨:맑음, 최저:7도, 최고:14도\n",
      "\t날짜시간:2021-03-25 00:00, 날씨:구름많음, 최저:8도, 최고:15도\n",
      "\t날짜시간:2021-03-26 00:00, 날씨:구름많음, 최저:8도, 최고:15도\n",
      "\t날짜시간:2021-03-27 00:00, 날씨:흐림, 최저:9도, 최고:15도\n",
      "광주ㆍ전라남도 지역의  순천\n",
      "\t날짜시간:2021-03-20 00:00, 날씨:흐리고 비, 최저:9도, 최고:13도\n",
      "\t날짜시간:2021-03-20 12:00, 날씨:흐리고 비, 최저:9도, 최고:13도\n",
      "\t날짜시간:2021-03-21 00:00, 날씨:구름많음, 최저:10도, 최고:15도\n",
      "\t날짜시간:2021-03-21 12:00, 날씨:구름많음, 최저:10도, 최고:15도\n",
      "\t날짜시간:2021-03-22 00:00, 날씨:맑음, 최저:3도, 최고:13도\n",
      "\t날짜시간:2021-03-22 12:00, 날씨:맑음, 최저:3도, 최고:13도\n",
      "\t날짜시간:2021-03-23 00:00, 날씨:맑음, 최저:4도, 최고:17도\n",
      "\t날짜시간:2021-03-23 12:00, 날씨:맑음, 최저:4도, 최고:17도\n",
      "\t날짜시간:2021-03-24 00:00, 날씨:맑음, 최저:5도, 최고:16도\n",
      "\t날짜시간:2021-03-24 12:00, 날씨:맑음, 최저:5도, 최고:16도\n",
      "\t날짜시간:2021-03-25 00:00, 날씨:구름많음, 최저:6도, 최고:17도\n",
      "\t날짜시간:2021-03-26 00:00, 날씨:구름많음, 최저:6도, 최고:18도\n",
      "\t날짜시간:2021-03-27 00:00, 날씨:흐림, 최저:7도, 최고:17도\n",
      "광주ㆍ전라남도 지역의  광양\n",
      "\t날짜시간:2021-03-20 00:00, 날씨:흐리고 비, 최저:9도, 최고:12도\n",
      "\t날짜시간:2021-03-20 12:00, 날씨:흐리고 비, 최저:9도, 최고:12도\n",
      "\t날짜시간:2021-03-21 00:00, 날씨:구름많음, 최저:10도, 최고:15도\n",
      "\t날짜시간:2021-03-21 12:00, 날씨:구름많음, 최저:10도, 최고:15도\n",
      "\t날짜시간:2021-03-22 00:00, 날씨:맑음, 최저:3도, 최고:13도\n",
      "\t날짜시간:2021-03-22 12:00, 날씨:맑음, 최저:3도, 최고:13도\n",
      "\t날짜시간:2021-03-23 00:00, 날씨:맑음, 최저:4도, 최고:17도\n",
      "\t날짜시간:2021-03-23 12:00, 날씨:맑음, 최저:4도, 최고:17도\n",
      "\t날짜시간:2021-03-24 00:00, 날씨:맑음, 최저:6도, 최고:16도\n",
      "\t날짜시간:2021-03-24 12:00, 날씨:맑음, 최저:6도, 최고:16도\n",
      "\t날짜시간:2021-03-25 00:00, 날씨:구름많음, 최저:7도, 최고:18도\n",
      "\t날짜시간:2021-03-26 00:00, 날씨:구름많음, 최저:7도, 최고:17도\n",
      "\t날짜시간:2021-03-27 00:00, 날씨:흐림, 최저:8도, 최고:17도\n",
      "광주ㆍ전라남도 지역의  나주\n",
      "\t날짜시간:2021-03-20 00:00, 날씨:흐리고 비, 최저:8도, 최고:13도\n",
      "\t날짜시간:2021-03-20 12:00, 날씨:흐리고 비, 최저:8도, 최고:13도\n",
      "\t날짜시간:2021-03-21 00:00, 날씨:구름많음, 최저:7도, 최고:12도\n",
      "\t날짜시간:2021-03-21 12:00, 날씨:구름많음, 최저:7도, 최고:12도\n",
      "\t날짜시간:2021-03-22 00:00, 날씨:맑음, 최저:2도, 최고:12도\n",
      "\t날짜시간:2021-03-22 12:00, 날씨:맑음, 최저:2도, 최고:12도\n",
      "\t날짜시간:2021-03-23 00:00, 날씨:맑음, 최저:2도, 최고:16도\n",
      "\t날짜시간:2021-03-23 12:00, 날씨:맑음, 최저:2도, 최고:16도\n",
      "\t날짜시간:2021-03-24 00:00, 날씨:맑음, 최저:3도, 최고:17도\n",
      "\t날짜시간:2021-03-24 12:00, 날씨:맑음, 최저:3도, 최고:17도\n",
      "\t날짜시간:2021-03-25 00:00, 날씨:구름많음, 최저:4도, 최고:18도\n",
      "\t날짜시간:2021-03-26 00:00, 날씨:구름많음, 최저:4도, 최고:18도\n",
      "\t날짜시간:2021-03-27 00:00, 날씨:흐림, 최저:5도, 최고:18도\n",
      "전라북도 지역의  전주\n",
      "\t날짜시간:2021-03-20 00:00, 날씨:흐림, 최저:8도, 최고:15도\n",
      "\t날짜시간:2021-03-20 12:00, 날씨:흐리고 비, 최저:8도, 최고:15도\n",
      "\t날짜시간:2021-03-21 00:00, 날씨:흐림, 최저:8도, 최고:12도\n",
      "\t날짜시간:2021-03-21 12:00, 날씨:구름많음, 최저:8도, 최고:12도\n",
      "\t날짜시간:2021-03-22 00:00, 날씨:맑음, 최저:2도, 최고:12도\n",
      "\t날짜시간:2021-03-22 12:00, 날씨:맑음, 최저:2도, 최고:12도\n",
      "\t날짜시간:2021-03-23 00:00, 날씨:맑음, 최저:2도, 최고:16도\n",
      "\t날짜시간:2021-03-23 12:00, 날씨:맑음, 최저:2도, 최고:16도\n",
      "\t날짜시간:2021-03-24 00:00, 날씨:맑음, 최저:5도, 최고:17도\n",
      "\t날짜시간:2021-03-24 12:00, 날씨:맑음, 최저:5도, 최고:17도\n",
      "\t날짜시간:2021-03-25 00:00, 날씨:구름많음, 최저:5도, 최고:18도\n",
      "\t날짜시간:2021-03-26 00:00, 날씨:구름많음, 최저:6도, 최고:17도\n",
      "\t날짜시간:2021-03-27 00:00, 날씨:구름많음, 최저:6도, 최고:17도\n",
      "전라북도 지역의  군산\n",
      "\t날짜시간:2021-03-20 00:00, 날씨:흐림, 최저:8도, 최고:13도\n",
      "\t날짜시간:2021-03-20 12:00, 날씨:흐리고 비, 최저:8도, 최고:13도\n",
      "\t날짜시간:2021-03-21 00:00, 날씨:흐림, 최저:7도, 최고:10도\n",
      "\t날짜시간:2021-03-21 12:00, 날씨:구름많음, 최저:7도, 최고:10도\n",
      "\t날짜시간:2021-03-22 00:00, 날씨:맑음, 최저:3도, 최고:11도\n",
      "\t날짜시간:2021-03-22 12:00, 날씨:맑음, 최저:3도, 최고:11도\n",
      "\t날짜시간:2021-03-23 00:00, 날씨:맑음, 최저:3도, 최고:14도\n",
      "\t날짜시간:2021-03-23 12:00, 날씨:맑음, 최저:3도, 최고:14도\n",
      "\t날짜시간:2021-03-24 00:00, 날씨:맑음, 최저:4도, 최고:15도\n",
      "\t날짜시간:2021-03-24 12:00, 날씨:맑음, 최저:4도, 최고:15도\n",
      "\t날짜시간:2021-03-25 00:00, 날씨:구름많음, 최저:5도, 최고:15도\n",
      "\t날짜시간:2021-03-26 00:00, 날씨:구름많음, 최저:5도, 최고:16도\n",
      "\t날짜시간:2021-03-27 00:00, 날씨:구름많음, 최저:5도, 최고:17도\n",
      "전라북도 지역의  정읍\n",
      "\t날짜시간:2021-03-20 00:00, 날씨:흐림, 최저:7도, 최고:14도\n",
      "\t날짜시간:2021-03-20 12:00, 날씨:흐리고 비, 최저:7도, 최고:14도\n",
      "\t날짜시간:2021-03-21 00:00, 날씨:흐림, 최저:6도, 최고:11도\n",
      "\t날짜시간:2021-03-21 12:00, 날씨:구름많음, 최저:6도, 최고:11도\n",
      "\t날짜시간:2021-03-22 00:00, 날씨:맑음, 최저:1도, 최고:11도\n",
      "\t날짜시간:2021-03-22 12:00, 날씨:맑음, 최저:1도, 최고:11도\n",
      "\t날짜시간:2021-03-23 00:00, 날씨:맑음, 최저:2도, 최고:15도\n",
      "\t날짜시간:2021-03-23 12:00, 날씨:맑음, 최저:2도, 최고:15도\n",
      "\t날짜시간:2021-03-24 00:00, 날씨:맑음, 최저:3도, 최고:16도\n",
      "\t날짜시간:2021-03-24 12:00, 날씨:맑음, 최저:3도, 최고:16도\n",
      "\t날짜시간:2021-03-25 00:00, 날씨:구름많음, 최저:4도, 최고:17도\n",
      "\t날짜시간:2021-03-26 00:00, 날씨:구름많음, 최저:5도, 최고:17도\n",
      "\t날짜시간:2021-03-27 00:00, 날씨:구름많음, 최저:5도, 최고:17도\n",
      "전라북도 지역의  남원\n",
      "\t날짜시간:2021-03-20 00:00, 날씨:흐림, 최저:7도, 최고:14도\n",
      "\t날짜시간:2021-03-20 12:00, 날씨:흐리고 비, 최저:7도, 최고:14도\n",
      "\t날짜시간:2021-03-21 00:00, 날씨:흐림, 최저:8도, 최고:12도\n",
      "\t날짜시간:2021-03-21 12:00, 날씨:구름많음, 최저:8도, 최고:12도\n",
      "\t날짜시간:2021-03-22 00:00, 날씨:맑음, 최저:1도, 최고:11도\n",
      "\t날짜시간:2021-03-22 12:00, 날씨:맑음, 최저:1도, 최고:11도\n",
      "\t날짜시간:2021-03-23 00:00, 날씨:맑음, 최저:1도, 최고:16도\n",
      "\t날짜시간:2021-03-23 12:00, 날씨:맑음, 최저:1도, 최고:16도\n",
      "\t날짜시간:2021-03-24 00:00, 날씨:맑음, 최저:3도, 최고:17도\n",
      "\t날짜시간:2021-03-24 12:00, 날씨:맑음, 최저:3도, 최고:17도\n",
      "\t날짜시간:2021-03-25 00:00, 날씨:구름많음, 최저:4도, 최고:18도\n",
      "\t날짜시간:2021-03-26 00:00, 날씨:구름많음, 최저:5도, 최고:17도\n",
      "\t날짜시간:2021-03-27 00:00, 날씨:구름많음, 최저:5도, 최고:17도\n",
      "전라북도 지역의  고창\n",
      "\t날짜시간:2021-03-20 00:00, 날씨:흐림, 최저:7도, 최고:13도\n",
      "\t날짜시간:2021-03-20 12:00, 날씨:흐리고 비, 최저:7도, 최고:13도\n",
      "\t날짜시간:2021-03-21 00:00, 날씨:흐림, 최저:6도, 최고:11도\n",
      "\t날짜시간:2021-03-21 12:00, 날씨:구름많음, 최저:6도, 최고:11도\n",
      "\t날짜시간:2021-03-22 00:00, 날씨:맑음, 최저:2도, 최고:11도\n",
      "\t날짜시간:2021-03-22 12:00, 날씨:맑음, 최저:2도, 최고:11도\n",
      "\t날짜시간:2021-03-23 00:00, 날씨:맑음, 최저:2도, 최고:15도\n",
      "\t날짜시간:2021-03-23 12:00, 날씨:맑음, 최저:2도, 최고:15도\n",
      "\t날짜시간:2021-03-24 00:00, 날씨:맑음, 최저:4도, 최고:15도\n",
      "\t날짜시간:2021-03-24 12:00, 날씨:맑음, 최저:4도, 최고:15도\n",
      "\t날짜시간:2021-03-25 00:00, 날씨:구름많음, 최저:5도, 최고:16도\n",
      "\t날짜시간:2021-03-26 00:00, 날씨:구름많음, 최저:5도, 최고:16도\n",
      "\t날짜시간:2021-03-27 00:00, 날씨:구름많음, 최저:5도, 최고:17도\n",
      "전라북도 지역의  무주\n",
      "\t날짜시간:2021-03-20 00:00, 날씨:흐림, 최저:6도, 최고:12도\n",
      "\t날짜시간:2021-03-20 12:00, 날씨:흐리고 비, 최저:6도, 최고:12도\n",
      "\t날짜시간:2021-03-21 00:00, 날씨:흐림, 최저:7도, 최고:12도\n",
      "\t날짜시간:2021-03-21 12:00, 날씨:구름많음, 최저:7도, 최고:12도\n",
      "\t날짜시간:2021-03-22 00:00, 날씨:맑음, 최저:0도, 최고:11도\n",
      "\t날짜시간:2021-03-22 12:00, 날씨:맑음, 최저:0도, 최고:11도\n",
      "\t날짜시간:2021-03-23 00:00, 날씨:맑음, 최저:1도, 최고:15도\n",
      "\t날짜시간:2021-03-23 12:00, 날씨:맑음, 최저:1도, 최고:15도\n",
      "\t날짜시간:2021-03-24 00:00, 날씨:맑음, 최저:2도, 최고:16도\n",
      "\t날짜시간:2021-03-24 12:00, 날씨:맑음, 최저:2도, 최고:16도\n",
      "\t날짜시간:2021-03-25 00:00, 날씨:구름많음, 최저:3도, 최고:17도\n",
      "\t날짜시간:2021-03-26 00:00, 날씨:구름많음, 최저:3도, 최고:16도\n",
      "\t날짜시간:2021-03-27 00:00, 날씨:구름많음, 최저:4도, 최고:16도\n",
      "부산ㆍ울산ㆍ경상남도 지역의  부산\n",
      "\t날짜시간:2021-03-20 00:00, 날씨:흐리고 비, 최저:10도, 최고:14도\n",
      "\t날짜시간:2021-03-20 12:00, 날씨:흐리고 비, 최저:10도, 최고:14도\n",
      "\t날짜시간:2021-03-21 00:00, 날씨:흐리고 비, 최저:11도, 최고:17도\n",
      "\t날짜시간:2021-03-21 12:00, 날씨:구름많음, 최저:11도, 최고:17도\n",
      "\t날짜시간:2021-03-22 00:00, 날씨:맑음, 최저:4도, 최고:14도\n",
      "\t날짜시간:2021-03-22 12:00, 날씨:맑음, 최저:4도, 최고:14도\n",
      "\t날짜시간:2021-03-23 00:00, 날씨:맑음, 최저:6도, 최고:16도\n",
      "\t날짜시간:2021-03-23 12:00, 날씨:맑음, 최저:6도, 최고:16도\n",
      "\t날짜시간:2021-03-24 00:00, 날씨:맑음, 최저:8도, 최고:16도\n",
      "\t날짜시간:2021-03-24 12:00, 날씨:맑음, 최저:8도, 최고:16도\n",
      "\t날짜시간:2021-03-25 00:00, 날씨:맑음, 최저:9도, 최고:17도\n",
      "\t날짜시간:2021-03-26 00:00, 날씨:구름많음, 최저:9도, 최고:17도\n",
      "\t날짜시간:2021-03-27 00:00, 날씨:흐림, 최저:9도, 최고:17도\n",
      "부산ㆍ울산ㆍ경상남도 지역의  울산\n",
      "\t날짜시간:2021-03-20 00:00, 날씨:흐리고 비, 최저:8도, 최고:13도\n",
      "\t날짜시간:2021-03-20 12:00, 날씨:흐리고 비, 최저:8도, 최고:13도\n",
      "\t날짜시간:2021-03-21 00:00, 날씨:흐리고 비, 최저:9도, 최고:16도\n",
      "\t날짜시간:2021-03-21 12:00, 날씨:구름많음, 최저:9도, 최고:16도\n",
      "\t날짜시간:2021-03-22 00:00, 날씨:맑음, 최저:3도, 최고:14도\n",
      "\t날짜시간:2021-03-22 12:00, 날씨:맑음, 최저:3도, 최고:14도\n",
      "\t날짜시간:2021-03-23 00:00, 날씨:맑음, 최저:3도, 최고:17도\n",
      "\t날짜시간:2021-03-23 12:00, 날씨:맑음, 최저:3도, 최고:17도\n",
      "\t날짜시간:2021-03-24 00:00, 날씨:맑음, 최저:6도, 최고:17도\n",
      "\t날짜시간:2021-03-24 12:00, 날씨:맑음, 최저:6도, 최고:17도\n",
      "\t날짜시간:2021-03-25 00:00, 날씨:맑음, 최저:6도, 최고:18도\n",
      "\t날짜시간:2021-03-26 00:00, 날씨:구름많음, 최저:7도, 최고:18도\n",
      "\t날짜시간:2021-03-27 00:00, 날씨:흐림, 최저:7도, 최고:17도\n",
      "부산ㆍ울산ㆍ경상남도 지역의  창원\n",
      "\t날짜시간:2021-03-20 00:00, 날씨:흐리고 비, 최저:8도, 최고:13도\n",
      "\t날짜시간:2021-03-20 12:00, 날씨:흐리고 비, 최저:8도, 최고:13도\n",
      "\t날짜시간:2021-03-21 00:00, 날씨:흐리고 비, 최저:10도, 최고:16도\n",
      "\t날짜시간:2021-03-21 12:00, 날씨:구름많음, 최저:10도, 최고:16도\n",
      "\t날짜시간:2021-03-22 00:00, 날씨:맑음, 최저:3도, 최고:13도\n",
      "\t날짜시간:2021-03-22 12:00, 날씨:맑음, 최저:3도, 최고:13도\n",
      "\t날짜시간:2021-03-23 00:00, 날씨:맑음, 최저:4도, 최고:16도\n",
      "\t날짜시간:2021-03-23 12:00, 날씨:맑음, 최저:4도, 최고:16도\n",
      "\t날짜시간:2021-03-24 00:00, 날씨:맑음, 최저:6도, 최고:16도\n",
      "\t날짜시간:2021-03-24 12:00, 날씨:맑음, 최저:6도, 최고:16도\n",
      "\t날짜시간:2021-03-25 00:00, 날씨:맑음, 최저:7도, 최고:17도\n",
      "\t날짜시간:2021-03-26 00:00, 날씨:구름많음, 최저:7도, 최고:17도\n",
      "\t날짜시간:2021-03-27 00:00, 날씨:흐림, 최저:8도, 최고:16도\n",
      "부산ㆍ울산ㆍ경상남도 지역의  진주\n",
      "\t날짜시간:2021-03-20 00:00, 날씨:흐리고 비, 최저:7도, 최고:12도\n",
      "\t날짜시간:2021-03-20 12:00, 날씨:흐리고 비, 최저:7도, 최고:12도\n",
      "\t날짜시간:2021-03-21 00:00, 날씨:흐리고 비, 최저:9도, 최고:16도\n",
      "\t날짜시간:2021-03-21 12:00, 날씨:구름많음, 최저:9도, 최고:16도\n",
      "\t날짜시간:2021-03-22 00:00, 날씨:맑음, 최저:1도, 최고:13도\n",
      "\t날짜시간:2021-03-22 12:00, 날씨:맑음, 최저:1도, 최고:13도\n",
      "\t날짜시간:2021-03-23 00:00, 날씨:맑음, 최저:1도, 최고:17도\n",
      "\t날짜시간:2021-03-23 12:00, 날씨:맑음, 최저:1도, 최고:17도\n",
      "\t날짜시간:2021-03-24 00:00, 날씨:맑음, 최저:2도, 최고:17도\n",
      "\t날짜시간:2021-03-24 12:00, 날씨:맑음, 최저:2도, 최고:17도\n",
      "\t날짜시간:2021-03-25 00:00, 날씨:맑음, 최저:4도, 최고:18도\n",
      "\t날짜시간:2021-03-26 00:00, 날씨:구름많음, 최저:4도, 최고:18도\n",
      "\t날짜시간:2021-03-27 00:00, 날씨:흐림, 최저:5도, 최고:17도\n",
      "부산ㆍ울산ㆍ경상남도 지역의  거창\n",
      "\t날짜시간:2021-03-20 00:00, 날씨:흐리고 비, 최저:4도, 최고:11도\n",
      "\t날짜시간:2021-03-20 12:00, 날씨:흐리고 비, 최저:4도, 최고:11도\n",
      "\t날짜시간:2021-03-21 00:00, 날씨:흐리고 비, 최저:7도, 최고:13도\n",
      "\t날짜시간:2021-03-21 12:00, 날씨:구름많음, 최저:7도, 최고:13도\n",
      "\t날짜시간:2021-03-22 00:00, 날씨:맑음, 최저:0도, 최고:11도\n",
      "\t날짜시간:2021-03-22 12:00, 날씨:맑음, 최저:0도, 최고:11도\n",
      "\t날짜시간:2021-03-23 00:00, 날씨:맑음, 최저:0도, 최고:16도\n",
      "\t날짜시간:2021-03-23 12:00, 날씨:맑음, 최저:0도, 최고:16도\n",
      "\t날짜시간:2021-03-24 00:00, 날씨:맑음, 최저:1도, 최고:17도\n",
      "\t날짜시간:2021-03-24 12:00, 날씨:맑음, 최저:1도, 최고:17도\n",
      "\t날짜시간:2021-03-25 00:00, 날씨:맑음, 최저:2도, 최고:17도\n",
      "\t날짜시간:2021-03-26 00:00, 날씨:구름많음, 최저:3도, 최고:17도\n",
      "\t날짜시간:2021-03-27 00:00, 날씨:흐림, 최저:4도, 최고:17도\n",
      "부산ㆍ울산ㆍ경상남도 지역의  통영\n",
      "\t날짜시간:2021-03-20 00:00, 날씨:흐리고 비, 최저:9도, 최고:14도\n",
      "\t날짜시간:2021-03-20 12:00, 날씨:흐리고 비, 최저:9도, 최고:14도\n",
      "\t날짜시간:2021-03-21 00:00, 날씨:흐리고 비, 최저:10도, 최고:16도\n",
      "\t날짜시간:2021-03-21 12:00, 날씨:구름많음, 최저:10도, 최고:16도\n",
      "\t날짜시간:2021-03-22 00:00, 날씨:맑음, 최저:4도, 최고:13도\n",
      "\t날짜시간:2021-03-22 12:00, 날씨:맑음, 최저:4도, 최고:13도\n",
      "\t날짜시간:2021-03-23 00:00, 날씨:맑음, 최저:5도, 최고:15도\n",
      "\t날짜시간:2021-03-23 12:00, 날씨:맑음, 최저:5도, 최고:15도\n",
      "\t날짜시간:2021-03-24 00:00, 날씨:맑음, 최저:8도, 최고:15도\n",
      "\t날짜시간:2021-03-24 12:00, 날씨:맑음, 최저:8도, 최고:15도\n",
      "\t날짜시간:2021-03-25 00:00, 날씨:맑음, 최저:8도, 최고:16도\n",
      "\t날짜시간:2021-03-26 00:00, 날씨:구름많음, 최저:8도, 최고:16도\n",
      "\t날짜시간:2021-03-27 00:00, 날씨:흐림, 최저:8도, 최고:15도\n",
      "대구ㆍ경상북도 지역의  대구\n",
      "\t날짜시간:2021-03-20 00:00, 날씨:흐림, 최저:7도, 최고:14도\n",
      "\t날짜시간:2021-03-20 12:00, 날씨:흐리고 비, 최저:7도, 최고:14도\n",
      "\t날짜시간:2021-03-21 00:00, 날씨:흐리고 비, 최저:9도, 최고:15도\n",
      "\t날짜시간:2021-03-21 12:00, 날씨:구름많음, 최저:9도, 최고:15도\n",
      "\t날짜시간:2021-03-22 00:00, 날씨:맑음, 최저:2도, 최고:13도\n",
      "\t날짜시간:2021-03-22 12:00, 날씨:맑음, 최저:2도, 최고:13도\n",
      "\t날짜시간:2021-03-23 00:00, 날씨:맑음, 최저:2도, 최고:18도\n",
      "\t날짜시간:2021-03-23 12:00, 날씨:맑음, 최저:2도, 최고:18도\n",
      "\t날짜시간:2021-03-24 00:00, 날씨:맑음, 최저:5도, 최고:18도\n",
      "\t날짜시간:2021-03-24 12:00, 날씨:맑음, 최저:5도, 최고:18도\n",
      "\t날짜시간:2021-03-25 00:00, 날씨:구름많음, 최저:6도, 최고:18도\n",
      "\t날짜시간:2021-03-26 00:00, 날씨:구름많음, 최저:6도, 최고:18도\n",
      "\t날짜시간:2021-03-27 00:00, 날씨:구름많음, 최저:5도, 최고:18도\n",
      "대구ㆍ경상북도 지역의  안동\n",
      "\t날짜시간:2021-03-20 00:00, 날씨:흐림, 최저:5도, 최고:13도\n",
      "\t날짜시간:2021-03-20 12:00, 날씨:흐리고 비, 최저:5도, 최고:13도\n",
      "\t날짜시간:2021-03-21 00:00, 날씨:흐리고 비, 최저:6도, 최고:14도\n",
      "\t날짜시간:2021-03-21 12:00, 날씨:구름많음, 최저:6도, 최고:14도\n",
      "\t날짜시간:2021-03-22 00:00, 날씨:맑음, 최저:0도, 최고:11도\n",
      "\t날짜시간:2021-03-22 12:00, 날씨:맑음, 최저:0도, 최고:11도\n",
      "\t날짜시간:2021-03-23 00:00, 날씨:맑음, 최저:0도, 최고:16도\n",
      "\t날짜시간:2021-03-23 12:00, 날씨:맑음, 최저:0도, 최고:16도\n",
      "\t날짜시간:2021-03-24 00:00, 날씨:맑음, 최저:2도, 최고:17도\n",
      "\t날짜시간:2021-03-24 12:00, 날씨:맑음, 최저:2도, 최고:17도\n",
      "\t날짜시간:2021-03-25 00:00, 날씨:구름많음, 최저:4도, 최고:17도\n",
      "\t날짜시간:2021-03-26 00:00, 날씨:구름많음, 최저:3도, 최고:17도\n",
      "\t날짜시간:2021-03-27 00:00, 날씨:구름많음, 최저:3도, 최고:17도\n",
      "대구ㆍ경상북도 지역의  포항\n",
      "\t날짜시간:2021-03-20 00:00, 날씨:흐림, 최저:9도, 최고:14도\n",
      "\t날짜시간:2021-03-20 12:00, 날씨:흐리고 비, 최저:9도, 최고:14도\n",
      "\t날짜시간:2021-03-21 00:00, 날씨:흐리고 비, 최저:9도, 최고:16도\n",
      "\t날짜시간:2021-03-21 12:00, 날씨:구름많음, 최저:9도, 최고:16도\n",
      "\t날짜시간:2021-03-22 00:00, 날씨:맑음, 최저:3도, 최고:13도\n",
      "\t날짜시간:2021-03-22 12:00, 날씨:맑음, 최저:3도, 최고:13도\n",
      "\t날짜시간:2021-03-23 00:00, 날씨:맑음, 최저:4도, 최고:18도\n",
      "\t날짜시간:2021-03-23 12:00, 날씨:맑음, 최저:4도, 최고:18도\n",
      "\t날짜시간:2021-03-24 00:00, 날씨:맑음, 최저:7도, 최고:18도\n",
      "\t날짜시간:2021-03-24 12:00, 날씨:맑음, 최저:7도, 최고:18도\n",
      "\t날짜시간:2021-03-25 00:00, 날씨:구름많음, 최저:8도, 최고:17도\n",
      "\t날짜시간:2021-03-26 00:00, 날씨:구름많음, 최저:7도, 최고:17도\n",
      "\t날짜시간:2021-03-27 00:00, 날씨:구름많음, 최저:7도, 최고:16도\n",
      "대구ㆍ경상북도 지역의  경주\n",
      "\t날짜시간:2021-03-20 00:00, 날씨:흐림, 최저:6도, 최고:13도\n",
      "\t날짜시간:2021-03-20 12:00, 날씨:흐리고 비, 최저:6도, 최고:13도\n",
      "\t날짜시간:2021-03-21 00:00, 날씨:흐리고 비, 최저:8도, 최고:15도\n",
      "\t날짜시간:2021-03-21 12:00, 날씨:구름많음, 최저:8도, 최고:15도\n",
      "\t날짜시간:2021-03-22 00:00, 날씨:맑음, 최저:1도, 최고:13도\n",
      "\t날짜시간:2021-03-22 12:00, 날씨:맑음, 최저:1도, 최고:13도\n",
      "\t날짜시간:2021-03-23 00:00, 날씨:맑음, 최저:1도, 최고:18도\n",
      "\t날짜시간:2021-03-23 12:00, 날씨:맑음, 최저:1도, 최고:18도\n",
      "\t날짜시간:2021-03-24 00:00, 날씨:맑음, 최저:3도, 최고:18도\n",
      "\t날짜시간:2021-03-24 12:00, 날씨:맑음, 최저:3도, 최고:18도\n",
      "\t날짜시간:2021-03-25 00:00, 날씨:구름많음, 최저:4도, 최고:18도\n",
      "\t날짜시간:2021-03-26 00:00, 날씨:구름많음, 최저:4도, 최고:17도\n",
      "\t날짜시간:2021-03-27 00:00, 날씨:구름많음, 최저:4도, 최고:18도\n",
      "대구ㆍ경상북도 지역의  울진\n",
      "\t날짜시간:2021-03-20 00:00, 날씨:흐림, 최저:6도, 최고:10도\n",
      "\t날짜시간:2021-03-20 12:00, 날씨:흐리고 비, 최저:6도, 최고:10도\n",
      "\t날짜시간:2021-03-21 00:00, 날씨:흐리고 비, 최저:7도, 최고:14도\n",
      "\t날짜시간:2021-03-21 12:00, 날씨:구름많음, 최저:7도, 최고:14도\n",
      "\t날짜시간:2021-03-22 00:00, 날씨:맑음, 최저:2도, 최고:12도\n",
      "\t날짜시간:2021-03-22 12:00, 날씨:맑음, 최저:2도, 최고:12도\n",
      "\t날짜시간:2021-03-23 00:00, 날씨:맑음, 최저:3도, 최고:16도\n",
      "\t날짜시간:2021-03-23 12:00, 날씨:맑음, 최저:3도, 최고:16도\n",
      "\t날짜시간:2021-03-24 00:00, 날씨:맑음, 최저:7도, 최고:16도\n",
      "\t날짜시간:2021-03-24 12:00, 날씨:맑음, 최저:7도, 최고:16도\n",
      "\t날짜시간:2021-03-25 00:00, 날씨:구름많음, 최저:6도, 최고:16도\n",
      "\t날짜시간:2021-03-26 00:00, 날씨:구름많음, 최저:6도, 최고:15도\n",
      "\t날짜시간:2021-03-27 00:00, 날씨:구름많음, 최저:6도, 최고:14도\n",
      "대구ㆍ경상북도 지역의  울릉도\n",
      "\t날짜시간:2021-03-20 00:00, 날씨:흐림, 최저:6도, 최고:10도\n",
      "\t날짜시간:2021-03-20 12:00, 날씨:흐리고 비, 최저:6도, 최고:10도\n",
      "\t날짜시간:2021-03-21 00:00, 날씨:흐리고 비, 최저:7도, 최고:11도\n",
      "\t날짜시간:2021-03-21 12:00, 날씨:구름많음, 최저:7도, 최고:11도\n",
      "\t날짜시간:2021-03-22 00:00, 날씨:맑음, 최저:4도, 최고:9도\n",
      "\t날짜시간:2021-03-22 12:00, 날씨:맑음, 최저:4도, 최고:9도\n",
      "\t날짜시간:2021-03-23 00:00, 날씨:맑음, 최저:6도, 최고:12도\n",
      "\t날짜시간:2021-03-23 12:00, 날씨:맑음, 최저:6도, 최고:12도\n",
      "\t날짜시간:2021-03-24 00:00, 날씨:맑음, 최저:8도, 최고:13도\n",
      "\t날짜시간:2021-03-24 12:00, 날씨:맑음, 최저:8도, 최고:13도\n",
      "\t날짜시간:2021-03-25 00:00, 날씨:구름많음, 최저:8도, 최고:13도\n",
      "\t날짜시간:2021-03-26 00:00, 날씨:구름많음, 최저:8도, 최고:12도\n",
      "\t날짜시간:2021-03-27 00:00, 날씨:구름많음, 최저:7도, 최고:11도\n",
      "제주도 지역의  제주\n",
      "\t날짜시간:2021-03-20 00:00, 날씨:흐리고 비, 최저:13도, 최고:19도\n",
      "\t날짜시간:2021-03-20 12:00, 날씨:흐리고 비, 최저:13도, 최고:19도\n",
      "\t날짜시간:2021-03-21 00:00, 날씨:흐리고 비, 최저:10도, 최고:12도\n",
      "\t날짜시간:2021-03-21 12:00, 날씨:구름많음, 최저:10도, 최고:12도\n",
      "\t날짜시간:2021-03-22 00:00, 날씨:맑음, 최저:7도, 최고:12도\n",
      "\t날짜시간:2021-03-22 12:00, 날씨:맑음, 최저:7도, 최고:12도\n",
      "\t날짜시간:2021-03-23 00:00, 날씨:맑음, 최저:8도, 최고:16도\n",
      "\t날짜시간:2021-03-23 12:00, 날씨:맑음, 최저:8도, 최고:16도\n",
      "\t날짜시간:2021-03-24 00:00, 날씨:맑음, 최저:9도, 최고:17도\n",
      "\t날짜시간:2021-03-24 12:00, 날씨:맑음, 최저:9도, 최고:17도\n",
      "\t날짜시간:2021-03-25 00:00, 날씨:맑음, 최저:10도, 최고:17도\n",
      "\t날짜시간:2021-03-26 00:00, 날씨:구름많음, 최저:10도, 최고:16도\n",
      "\t날짜시간:2021-03-27 00:00, 날씨:흐림, 최저:10도, 최고:17도\n",
      "제주도 지역의  서귀포\n",
      "\t날짜시간:2021-03-20 00:00, 날씨:흐리고 비, 최저:13도, 최고:17도\n",
      "\t날짜시간:2021-03-20 12:00, 날씨:흐리고 비, 최저:13도, 최고:17도\n",
      "\t날짜시간:2021-03-21 00:00, 날씨:흐리고 비, 최저:11도, 최고:15도\n",
      "\t날짜시간:2021-03-21 12:00, 날씨:구름많음, 최저:11도, 최고:15도\n",
      "\t날짜시간:2021-03-22 00:00, 날씨:맑음, 최저:6도, 최고:13도\n",
      "\t날짜시간:2021-03-22 12:00, 날씨:맑음, 최저:6도, 최고:13도\n",
      "\t날짜시간:2021-03-23 00:00, 날씨:맑음, 최저:8도, 최고:16도\n",
      "\t날짜시간:2021-03-23 12:00, 날씨:맑음, 최저:8도, 최고:16도\n",
      "\t날짜시간:2021-03-24 00:00, 날씨:맑음, 최저:10도, 최고:16도\n",
      "\t날짜시간:2021-03-24 12:00, 날씨:맑음, 최저:10도, 최고:16도\n",
      "\t날짜시간:2021-03-25 00:00, 날씨:맑음, 최저:11도, 최고:17도\n",
      "\t날짜시간:2021-03-26 00:00, 날씨:구름많음, 최저:11도, 최고:17도\n",
      "\t날짜시간:2021-03-27 00:00, 날씨:흐림, 최저:12도, 최고:17도\n"
     ]
    }
   ],
   "source": [
    "import re, urllib.request\n",
    "url = \"http://www.weather.go.kr/weather/forecast/mid-term-rss3.jsp?stnId=108\"\n",
    "target = urllib.request.urlopen(url)\n",
    "contents = target.read().decode('utf8') # .decode('utf8') 해줘야 한글이 안깨진다.\n",
    "# contents\n",
    "# re.DOTALL 은 정규표현식의  .  이 줄바꿈 문자를 포함한다.\n",
    "locations = re.findall(r'<location wl_ver=\"3\">.+?</location>',contents,\n",
    "                        re.DOTALL)\n",
    "# len(locations) #location 이라는것이 41개.\n",
    "for loc in locations:\n",
    "    # <province>서울ㆍ인천ㆍ경기도</province> 안의 글자만 (.+) 가져오게끔.\n",
    "    province = re.search(r'<province>(.+)</province>', loc)\n",
    "    city = re.search(r'<city>(.+)</city>', loc)\n",
    "    # <city>(.+)</city> 상단의 province 내역의 것들중 해당하는 도시명.\n",
    "    print(province.group(1),'지역의 ',city.group(1))\n",
    "    data = re.findall(r'<data>.+?</data>', loc, re.DOTALL)\n",
    "  #  print(len(data))\n",
    "    for item in data:\n",
    "        #print(item)  # (.+) 그룹함수 쓸거라서 () 한다.\n",
    "        tmEf = re.search(r'<tmEf>(.+)</tmEf>',item).group(1)\n",
    "        wf = re.search(r'<wf>(.+)</wf>', item).group(1)\n",
    "        tmn = re.search(r'<tmn>(.+)</tmn>', item).group(1)\n",
    "        tmx = re.search(r'<tmx>(.+)</tmx>', item).group(1)\n",
    "        print(\"\\t날짜시간:{}, 날씨:{}, 최저:{}도, 최고:{}도\".\\\n",
    "               format(tmEf,wf,tmn,tmx))"
   ]
  },
  {
   "cell_type": "code",
   "execution_count": 47,
   "metadata": {
    "ExecuteTime": {
     "end_time": "2021-03-17T13:01:48.646078Z",
     "start_time": "2021-03-17T13:01:48.144807Z"
    }
   },
   "outputs": [],
   "source": [
    "# urllib.request.urlopen(url) 방식.\n",
    "import urllib.request\n",
    "from bs4 import BeautifulSoup\n",
    "url = \"http://www.weather.go.kr/weather/forecast/mid-term-rss3.jsp?stnId=108\"\n",
    "target = urllib.request.urlopen(url)\n",
    "soup = BeautifulSoup(html.content, \"html.parser\")\n",
    "\n",
    "#정규표현식을 안쓰고 하는방법\n",
    "locations = soup.select('location')\n",
    "for loc in locations:\n",
    "    province = loc.select_one('province').text\n",
    "    city = loc.select_one('city').string\n",
    "    print(province, '지역의 ',city)\n",
    "    data = loc.select('data') #data안에 태그는 많아서 select.\n",
    "    ampm = \"오전\"\n",
    "    for item in data:  # '2021-03-20 ' 10자리 앞까지.\n",
    "        tmEf = item.select_one('tmEf').text[:10] # tmEf 대소문자 구분 없음.\n",
    "        wf = item.select_one('wf').text\n",
    "        tmn = item.select_one('tmn').text\n",
    "        tmx = item.select_one('tmx').text\n",
    "        print(\"\\t{} {}, 날씨:{}, 기온:{}도~{}도\".format(tmEf,ampm,wf,tmn,tmx))\n",
    "        \n",
    "        if ampm == \"오전\":\n",
    "            ampm = \"오후\"\n",
    "        else:\n",
    "            ampm = \"오전\""
   ]
  },
  {
   "cell_type": "code",
   "execution_count": 48,
   "metadata": {
    "ExecuteTime": {
     "end_time": "2021-03-17T13:01:52.072538Z",
     "start_time": "2021-03-17T13:01:51.233064Z"
    }
   },
   "outputs": [
    {
     "name": "stdout",
     "output_type": "stream",
     "text": [
      "서울ㆍ인천ㆍ경기도 지역의  서울\n",
      "\t2021-03-20 오전, 날씨:흐림, 기온:8도~14도\n",
      "\t2021-03-20 오후, 날씨:흐리고 비, 기온:8도~14도\n",
      "\t2021-03-21 오전, 날씨:구름많음, 기온:5도~10도\n",
      "\t2021-03-21 오후, 날씨:맑음, 기온:5도~10도\n",
      "\t2021-03-22 오전, 날씨:맑음, 기온:1도~10도\n",
      "\t2021-03-22 오후, 날씨:맑음, 기온:1도~10도\n",
      "\t2021-03-23 오전, 날씨:맑음, 기온:4도~14도\n",
      "\t2021-03-23 오후, 날씨:맑음, 기온:4도~14도\n",
      "\t2021-03-24 오전, 날씨:맑음, 기온:5도~15도\n",
      "\t2021-03-24 오후, 날씨:맑음, 기온:5도~15도\n",
      "\t2021-03-25 오전, 날씨:구름많음, 기온:6도~16도\n",
      "\t2021-03-26 오후, 날씨:구름많음, 기온:6도~15도\n",
      "\t2021-03-27 오전, 날씨:구름많음, 기온:7도~16도\n",
      "서울ㆍ인천ㆍ경기도 지역의  인천\n",
      "\t2021-03-20 오전, 날씨:흐림, 기온:8도~12도\n",
      "\t2021-03-20 오후, 날씨:흐리고 비, 기온:8도~12도\n",
      "\t2021-03-21 오전, 날씨:구름많음, 기온:5도~8도\n",
      "\t2021-03-21 오후, 날씨:맑음, 기온:5도~8도\n",
      "\t2021-03-22 오전, 날씨:맑음, 기온:3도~9도\n",
      "\t2021-03-22 오후, 날씨:맑음, 기온:3도~9도\n",
      "\t2021-03-23 오전, 날씨:맑음, 기온:4도~12도\n",
      "\t2021-03-23 오후, 날씨:맑음, 기온:4도~12도\n",
      "\t2021-03-24 오전, 날씨:맑음, 기온:6도~13도\n",
      "\t2021-03-24 오후, 날씨:맑음, 기온:6도~13도\n",
      "\t2021-03-25 오전, 날씨:구름많음, 기온:6도~13도\n",
      "\t2021-03-26 오후, 날씨:구름많음, 기온:6도~14도\n",
      "\t2021-03-27 오전, 날씨:구름많음, 기온:7도~14도\n",
      "서울ㆍ인천ㆍ경기도 지역의  수원\n",
      "\t2021-03-20 오전, 날씨:흐림, 기온:7도~14도\n",
      "\t2021-03-20 오후, 날씨:흐리고 비, 기온:7도~14도\n",
      "\t2021-03-21 오전, 날씨:구름많음, 기온:5도~10도\n",
      "\t2021-03-21 오후, 날씨:맑음, 기온:5도~10도\n",
      "\t2021-03-22 오전, 날씨:맑음, 기온:1도~10도\n",
      "\t2021-03-22 오후, 날씨:맑음, 기온:1도~10도\n",
      "\t2021-03-23 오전, 날씨:맑음, 기온:2도~15도\n",
      "\t2021-03-23 오후, 날씨:맑음, 기온:2도~15도\n",
      "\t2021-03-24 오전, 날씨:맑음, 기온:3도~16도\n",
      "\t2021-03-24 오후, 날씨:맑음, 기온:3도~16도\n",
      "\t2021-03-25 오전, 날씨:구름많음, 기온:4도~15도\n",
      "\t2021-03-26 오후, 날씨:구름많음, 기온:4도~15도\n",
      "\t2021-03-27 오전, 날씨:구름많음, 기온:5도~16도\n",
      "서울ㆍ인천ㆍ경기도 지역의  파주\n",
      "\t2021-03-20 오전, 날씨:흐림, 기온:5도~13도\n",
      "\t2021-03-20 오후, 날씨:흐리고 비, 기온:5도~13도\n",
      "\t2021-03-21 오전, 날씨:구름많음, 기온:4도~11도\n",
      "\t2021-03-21 오후, 날씨:맑음, 기온:4도~11도\n",
      "\t2021-03-22 오전, 날씨:맑음, 기온:-2도~12도\n",
      "\t2021-03-22 오후, 날씨:맑음, 기온:-2도~12도\n",
      "\t2021-03-23 오전, 날씨:맑음, 기온:-1도~14도\n",
      "\t2021-03-23 오후, 날씨:맑음, 기온:-1도~14도\n",
      "\t2021-03-24 오전, 날씨:맑음, 기온:2도~15도\n",
      "\t2021-03-24 오후, 날씨:맑음, 기온:2도~15도\n",
      "\t2021-03-25 오전, 날씨:구름많음, 기온:3도~15도\n",
      "\t2021-03-26 오후, 날씨:구름많음, 기온:3도~15도\n",
      "\t2021-03-27 오전, 날씨:구름많음, 기온:3도~16도\n",
      "서울ㆍ인천ㆍ경기도 지역의  이천\n",
      "\t2021-03-20 오전, 날씨:흐림, 기온:4도~13도\n",
      "\t2021-03-20 오후, 날씨:흐리고 비, 기온:4도~13도\n",
      "\t2021-03-21 오전, 날씨:구름많음, 기온:5도~12도\n",
      "\t2021-03-21 오후, 날씨:맑음, 기온:5도~12도\n",
      "\t2021-03-22 오전, 날씨:맑음, 기온:0도~12도\n",
      "\t2021-03-22 오후, 날씨:맑음, 기온:0도~12도\n",
      "\t2021-03-23 오전, 날씨:맑음, 기온:0도~15도\n",
      "\t2021-03-23 오후, 날씨:맑음, 기온:0도~15도\n",
      "\t2021-03-24 오전, 날씨:맑음, 기온:1도~17도\n",
      "\t2021-03-24 오후, 날씨:맑음, 기온:1도~17도\n",
      "\t2021-03-25 오전, 날씨:구름많음, 기온:3도~16도\n",
      "\t2021-03-26 오후, 날씨:구름많음, 기온:3도~16도\n",
      "\t2021-03-27 오전, 날씨:구름많음, 기온:3도~16도\n",
      "서울ㆍ인천ㆍ경기도 지역의  평택\n",
      "\t2021-03-20 오전, 날씨:흐림, 기온:6도~14도\n",
      "\t2021-03-20 오후, 날씨:흐리고 비, 기온:6도~14도\n",
      "\t2021-03-21 오전, 날씨:구름많음, 기온:5도~10도\n",
      "\t2021-03-21 오후, 날씨:맑음, 기온:5도~10도\n",
      "\t2021-03-22 오전, 날씨:맑음, 기온:2도~12도\n",
      "\t2021-03-22 오후, 날씨:맑음, 기온:2도~12도\n",
      "\t2021-03-23 오전, 날씨:맑음, 기온:2도~15도\n",
      "\t2021-03-23 오후, 날씨:맑음, 기온:2도~15도\n",
      "\t2021-03-24 오전, 날씨:맑음, 기온:4도~16도\n",
      "\t2021-03-24 오후, 날씨:맑음, 기온:4도~16도\n",
      "\t2021-03-25 오전, 날씨:구름많음, 기온:4도~16도\n",
      "\t2021-03-26 오후, 날씨:구름많음, 기온:4도~16도\n",
      "\t2021-03-27 오전, 날씨:구름많음, 기온:5도~16도\n",
      "강원도영서 지역의  춘천\n",
      "\t2021-03-20 오전, 날씨:흐림, 기온:4도~13도\n",
      "\t2021-03-20 오후, 날씨:흐리고 비, 기온:4도~13도\n",
      "\t2021-03-21 오전, 날씨:흐림, 기온:5도~12도\n",
      "\t2021-03-21 오후, 날씨:맑음, 기온:5도~12도\n",
      "\t2021-03-22 오전, 날씨:맑음, 기온:-2도~11도\n",
      "\t2021-03-22 오후, 날씨:맑음, 기온:-2도~11도\n",
      "\t2021-03-23 오전, 날씨:맑음, 기온:-1도~15도\n",
      "\t2021-03-23 오후, 날씨:맑음, 기온:-1도~15도\n",
      "\t2021-03-24 오전, 날씨:맑음, 기온:1도~16도\n",
      "\t2021-03-24 오후, 날씨:구름많음, 기온:1도~16도\n",
      "\t2021-03-25 오전, 날씨:흐림, 기온:4도~16도\n",
      "\t2021-03-26 오후, 날씨:구름많음, 기온:4도~16도\n",
      "\t2021-03-27 오전, 날씨:구름많음, 기온:4도~16도\n",
      "강원도영서 지역의  원주\n",
      "\t2021-03-20 오전, 날씨:흐림, 기온:6도~15도\n",
      "\t2021-03-20 오후, 날씨:흐리고 비, 기온:6도~15도\n",
      "\t2021-03-21 오전, 날씨:흐림, 기온:7도~12도\n",
      "\t2021-03-21 오후, 날씨:맑음, 기온:7도~12도\n",
      "\t2021-03-22 오전, 날씨:맑음, 기온:-1도~10도\n",
      "\t2021-03-22 오후, 날씨:맑음, 기온:-1도~10도\n",
      "\t2021-03-23 오전, 날씨:맑음, 기온:0도~15도\n",
      "\t2021-03-23 오후, 날씨:맑음, 기온:0도~15도\n",
      "\t2021-03-24 오전, 날씨:맑음, 기온:2도~16도\n",
      "\t2021-03-24 오후, 날씨:구름많음, 기온:2도~16도\n",
      "\t2021-03-25 오전, 날씨:흐림, 기온:4도~16도\n",
      "\t2021-03-26 오후, 날씨:구름많음, 기온:5도~15도\n",
      "\t2021-03-27 오전, 날씨:구름많음, 기온:5도~16도\n",
      "강원도영동 지역의  강릉\n",
      "\t2021-03-20 오전, 날씨:흐림, 기온:6도~12도\n",
      "\t2021-03-20 오후, 날씨:흐리고 비, 기온:6도~12도\n",
      "\t2021-03-21 오전, 날씨:흐리고 비, 기온:7도~15도\n",
      "\t2021-03-21 오후, 날씨:맑음, 기온:7도~15도\n",
      "\t2021-03-22 오전, 날씨:맑음, 기온:4도~12도\n",
      "\t2021-03-22 오후, 날씨:맑음, 기온:4도~12도\n",
      "\t2021-03-23 오전, 날씨:맑음, 기온:6도~17도\n",
      "\t2021-03-23 오후, 날씨:맑음, 기온:6도~17도\n",
      "\t2021-03-24 오전, 날씨:맑음, 기온:8도~17도\n",
      "\t2021-03-24 오후, 날씨:맑음, 기온:8도~17도\n",
      "\t2021-03-25 오전, 날씨:구름많음, 기온:7도~16도\n",
      "\t2021-03-26 오후, 날씨:맑음, 기온:7도~15도\n",
      "\t2021-03-27 오전, 날씨:구름많음, 기온:7도~15도\n",
      "대전ㆍ세종ㆍ충청남도 지역의  대전\n",
      "\t2021-03-20 오전, 날씨:흐림, 기온:8도~11도\n",
      "\t2021-03-20 오후, 날씨:흐리고 비, 기온:8도~11도\n",
      "\t2021-03-21 오전, 날씨:흐림, 기온:7도~13도\n",
      "\t2021-03-21 오후, 날씨:구름많음, 기온:7도~13도\n",
      "\t2021-03-22 오전, 날씨:맑음, 기온:1도~12도\n",
      "\t2021-03-22 오후, 날씨:맑음, 기온:1도~12도\n",
      "\t2021-03-23 오전, 날씨:맑음, 기온:2도~16도\n",
      "\t2021-03-23 오후, 날씨:맑음, 기온:2도~16도\n",
      "\t2021-03-24 오전, 날씨:맑음, 기온:4도~17도\n",
      "\t2021-03-24 오후, 날씨:맑음, 기온:4도~17도\n",
      "\t2021-03-25 오전, 날씨:구름많음, 기온:5도~17도\n",
      "\t2021-03-26 오후, 날씨:구름많음, 기온:5도~17도\n",
      "\t2021-03-27 오전, 날씨:구름많음, 기온:5도~17도\n",
      "대전ㆍ세종ㆍ충청남도 지역의  세종\n",
      "\t2021-03-20 오전, 날씨:흐림, 기온:7도~11도\n",
      "\t2021-03-20 오후, 날씨:흐리고 비, 기온:7도~11도\n",
      "\t2021-03-21 오전, 날씨:흐림, 기온:7도~12도\n",
      "\t2021-03-21 오후, 날씨:구름많음, 기온:7도~12도\n",
      "\t2021-03-22 오전, 날씨:맑음, 기온:1도~12도\n",
      "\t2021-03-22 오후, 날씨:맑음, 기온:1도~12도\n",
      "\t2021-03-23 오전, 날씨:맑음, 기온:2도~16도\n",
      "\t2021-03-23 오후, 날씨:맑음, 기온:2도~16도\n",
      "\t2021-03-24 오전, 날씨:맑음, 기온:3도~16도\n",
      "\t2021-03-24 오후, 날씨:맑음, 기온:3도~16도\n",
      "\t2021-03-25 오전, 날씨:구름많음, 기온:4도~16도\n",
      "\t2021-03-26 오후, 날씨:구름많음, 기온:5도~17도\n",
      "\t2021-03-27 오전, 날씨:구름많음, 기온:4도~17도\n",
      "대전ㆍ세종ㆍ충청남도 지역의  홍성\n",
      "\t2021-03-20 오전, 날씨:흐림, 기온:6도~12도\n",
      "\t2021-03-20 오후, 날씨:흐리고 비, 기온:6도~12도\n",
      "\t2021-03-21 오전, 날씨:흐림, 기온:6도~12도\n",
      "\t2021-03-21 오후, 날씨:구름많음, 기온:6도~12도\n",
      "\t2021-03-22 오전, 날씨:맑음, 기온:1도~12도\n",
      "\t2021-03-22 오후, 날씨:맑음, 기온:1도~12도\n",
      "\t2021-03-23 오전, 날씨:맑음, 기온:1도~15도\n",
      "\t2021-03-23 오후, 날씨:맑음, 기온:1도~15도\n",
      "\t2021-03-24 오전, 날씨:맑음, 기온:4도~15도\n",
      "\t2021-03-24 오후, 날씨:맑음, 기온:4도~15도\n",
      "\t2021-03-25 오전, 날씨:구름많음, 기온:5도~16도\n",
      "\t2021-03-26 오후, 날씨:구름많음, 기온:5도~16도\n",
      "\t2021-03-27 오전, 날씨:구름많음, 기온:5도~16도\n",
      "충청북도 지역의  청주\n",
      "\t2021-03-20 오전, 날씨:흐림, 기온:7도~12도\n",
      "\t2021-03-20 오후, 날씨:흐리고 비, 기온:7도~12도\n",
      "\t2021-03-21 오전, 날씨:흐림, 기온:7도~12도\n",
      "\t2021-03-21 오후, 날씨:맑음, 기온:7도~12도\n",
      "\t2021-03-22 오전, 날씨:맑음, 기온:2도~12도\n",
      "\t2021-03-22 오후, 날씨:맑음, 기온:2도~12도\n",
      "\t2021-03-23 오전, 날씨:맑음, 기온:3도~16도\n",
      "\t2021-03-23 오후, 날씨:맑음, 기온:3도~16도\n",
      "\t2021-03-24 오전, 날씨:맑음, 기온:4도~17도\n",
      "\t2021-03-24 오후, 날씨:구름많음, 기온:4도~17도\n",
      "\t2021-03-25 오전, 날씨:구름많음, 기온:5도~17도\n",
      "\t2021-03-26 오후, 날씨:구름많음, 기온:5도~17도\n",
      "\t2021-03-27 오전, 날씨:구름많음, 기온:5도~17도\n",
      "충청북도 지역의  충주\n",
      "\t2021-03-20 오전, 날씨:흐림, 기온:5도~13도\n",
      "\t2021-03-20 오후, 날씨:흐리고 비, 기온:5도~13도\n",
      "\t2021-03-21 오전, 날씨:흐림, 기온:6도~12도\n",
      "\t2021-03-21 오후, 날씨:맑음, 기온:6도~12도\n",
      "\t2021-03-22 오전, 날씨:맑음, 기온:0도~11도\n",
      "\t2021-03-22 오후, 날씨:맑음, 기온:0도~11도\n",
      "\t2021-03-23 오전, 날씨:맑음, 기온:-1도~15도\n",
      "\t2021-03-23 오후, 날씨:맑음, 기온:-1도~15도\n",
      "\t2021-03-24 오전, 날씨:맑음, 기온:2도~16도\n",
      "\t2021-03-24 오후, 날씨:구름많음, 기온:2도~16도\n",
      "\t2021-03-25 오전, 날씨:구름많음, 기온:3도~16도\n",
      "\t2021-03-26 오후, 날씨:구름많음, 기온:4도~16도\n",
      "\t2021-03-27 오전, 날씨:구름많음, 기온:4도~16도\n",
      "충청북도 지역의  영동\n",
      "\t2021-03-20 오전, 날씨:흐림, 기온:6도~12도\n",
      "\t2021-03-20 오후, 날씨:흐리고 비, 기온:6도~12도\n",
      "\t2021-03-21 오전, 날씨:흐림, 기온:7도~13도\n",
      "\t2021-03-21 오후, 날씨:맑음, 기온:7도~13도\n",
      "\t2021-03-22 오전, 날씨:맑음, 기온:0도~12도\n",
      "\t2021-03-22 오후, 날씨:맑음, 기온:0도~12도\n",
      "\t2021-03-23 오전, 날씨:맑음, 기온:1도~16도\n",
      "\t2021-03-23 오후, 날씨:맑음, 기온:1도~16도\n",
      "\t2021-03-24 오전, 날씨:맑음, 기온:2도~17도\n",
      "\t2021-03-24 오후, 날씨:구름많음, 기온:2도~17도\n",
      "\t2021-03-25 오전, 날씨:구름많음, 기온:3도~17도\n",
      "\t2021-03-26 오후, 날씨:구름많음, 기온:3도~17도\n",
      "\t2021-03-27 오전, 날씨:구름많음, 기온:4도~17도\n",
      "광주ㆍ전라남도 지역의  광주\n",
      "\t2021-03-20 오전, 날씨:흐리고 비, 기온:9도~14도\n",
      "\t2021-03-20 오후, 날씨:흐리고 비, 기온:9도~14도\n",
      "\t2021-03-21 오전, 날씨:구름많음, 기온:8도~12도\n",
      "\t2021-03-21 오후, 날씨:구름많음, 기온:8도~12도\n",
      "\t2021-03-22 오전, 날씨:맑음, 기온:3도~12도\n",
      "\t2021-03-22 오후, 날씨:맑음, 기온:3도~12도\n",
      "\t2021-03-23 오전, 날씨:맑음, 기온:4도~16도\n",
      "\t2021-03-23 오후, 날씨:맑음, 기온:4도~16도\n",
      "\t2021-03-24 오전, 날씨:맑음, 기온:5도~17도\n",
      "\t2021-03-24 오후, 날씨:맑음, 기온:5도~17도\n",
      "\t2021-03-25 오전, 날씨:구름많음, 기온:6도~18도\n",
      "\t2021-03-26 오후, 날씨:구름많음, 기온:6도~17도\n",
      "\t2021-03-27 오전, 날씨:흐림, 기온:7도~18도\n",
      "광주ㆍ전라남도 지역의  목포\n",
      "\t2021-03-20 오전, 날씨:흐리고 비, 기온:9도~13도\n",
      "\t2021-03-20 오후, 날씨:흐리고 비, 기온:9도~13도\n",
      "\t2021-03-21 오전, 날씨:구름많음, 기온:7도~10도\n",
      "\t2021-03-21 오후, 날씨:구름많음, 기온:7도~10도\n",
      "\t2021-03-22 오전, 날씨:맑음, 기온:4도~11도\n",
      "\t2021-03-22 오후, 날씨:맑음, 기온:4도~11도\n",
      "\t2021-03-23 오전, 날씨:맑음, 기온:6도~14도\n",
      "\t2021-03-23 오후, 날씨:맑음, 기온:6도~14도\n",
      "\t2021-03-24 오전, 날씨:맑음, 기온:7도~14도\n",
      "\t2021-03-24 오후, 날씨:맑음, 기온:7도~14도\n",
      "\t2021-03-25 오전, 날씨:구름많음, 기온:7도~15도\n",
      "\t2021-03-26 오후, 날씨:구름많음, 기온:7도~15도\n",
      "\t2021-03-27 오전, 날씨:흐림, 기온:7도~15도\n",
      "광주ㆍ전라남도 지역의  여수\n",
      "\t2021-03-20 오전, 날씨:흐리고 비, 기온:9도~12도\n",
      "\t2021-03-20 오후, 날씨:흐리고 비, 기온:9도~12도\n",
      "\t2021-03-21 오전, 날씨:구름많음, 기온:10도~14도\n",
      "\t2021-03-21 오후, 날씨:구름많음, 기온:10도~14도\n",
      "\t2021-03-22 오전, 날씨:맑음, 기온:4도~12도\n",
      "\t2021-03-22 오후, 날씨:맑음, 기온:4도~12도\n",
      "\t2021-03-23 오전, 날씨:맑음, 기온:5도~15도\n",
      "\t2021-03-23 오후, 날씨:맑음, 기온:5도~15도\n",
      "\t2021-03-24 오전, 날씨:맑음, 기온:7도~14도\n",
      "\t2021-03-24 오후, 날씨:맑음, 기온:7도~14도\n",
      "\t2021-03-25 오전, 날씨:구름많음, 기온:8도~15도\n",
      "\t2021-03-26 오후, 날씨:구름많음, 기온:8도~15도\n",
      "\t2021-03-27 오전, 날씨:흐림, 기온:9도~15도\n",
      "광주ㆍ전라남도 지역의  순천\n",
      "\t2021-03-20 오전, 날씨:흐리고 비, 기온:9도~13도\n",
      "\t2021-03-20 오후, 날씨:흐리고 비, 기온:9도~13도\n",
      "\t2021-03-21 오전, 날씨:구름많음, 기온:10도~15도\n",
      "\t2021-03-21 오후, 날씨:구름많음, 기온:10도~15도\n",
      "\t2021-03-22 오전, 날씨:맑음, 기온:3도~13도\n",
      "\t2021-03-22 오후, 날씨:맑음, 기온:3도~13도\n",
      "\t2021-03-23 오전, 날씨:맑음, 기온:4도~17도\n",
      "\t2021-03-23 오후, 날씨:맑음, 기온:4도~17도\n",
      "\t2021-03-24 오전, 날씨:맑음, 기온:5도~16도\n",
      "\t2021-03-24 오후, 날씨:맑음, 기온:5도~16도\n",
      "\t2021-03-25 오전, 날씨:구름많음, 기온:6도~17도\n",
      "\t2021-03-26 오후, 날씨:구름많음, 기온:6도~18도\n",
      "\t2021-03-27 오전, 날씨:흐림, 기온:7도~17도\n",
      "광주ㆍ전라남도 지역의  광양\n",
      "\t2021-03-20 오전, 날씨:흐리고 비, 기온:9도~12도\n",
      "\t2021-03-20 오후, 날씨:흐리고 비, 기온:9도~12도\n",
      "\t2021-03-21 오전, 날씨:구름많음, 기온:10도~15도\n",
      "\t2021-03-21 오후, 날씨:구름많음, 기온:10도~15도\n",
      "\t2021-03-22 오전, 날씨:맑음, 기온:3도~13도\n",
      "\t2021-03-22 오후, 날씨:맑음, 기온:3도~13도\n",
      "\t2021-03-23 오전, 날씨:맑음, 기온:4도~17도\n",
      "\t2021-03-23 오후, 날씨:맑음, 기온:4도~17도\n",
      "\t2021-03-24 오전, 날씨:맑음, 기온:6도~16도\n",
      "\t2021-03-24 오후, 날씨:맑음, 기온:6도~16도\n",
      "\t2021-03-25 오전, 날씨:구름많음, 기온:7도~18도\n",
      "\t2021-03-26 오후, 날씨:구름많음, 기온:7도~17도\n",
      "\t2021-03-27 오전, 날씨:흐림, 기온:8도~17도\n",
      "광주ㆍ전라남도 지역의  나주\n",
      "\t2021-03-20 오전, 날씨:흐리고 비, 기온:8도~13도\n",
      "\t2021-03-20 오후, 날씨:흐리고 비, 기온:8도~13도\n",
      "\t2021-03-21 오전, 날씨:구름많음, 기온:7도~12도\n",
      "\t2021-03-21 오후, 날씨:구름많음, 기온:7도~12도\n",
      "\t2021-03-22 오전, 날씨:맑음, 기온:2도~12도\n",
      "\t2021-03-22 오후, 날씨:맑음, 기온:2도~12도\n",
      "\t2021-03-23 오전, 날씨:맑음, 기온:2도~16도\n",
      "\t2021-03-23 오후, 날씨:맑음, 기온:2도~16도\n",
      "\t2021-03-24 오전, 날씨:맑음, 기온:3도~17도\n",
      "\t2021-03-24 오후, 날씨:맑음, 기온:3도~17도\n",
      "\t2021-03-25 오전, 날씨:구름많음, 기온:4도~18도\n",
      "\t2021-03-26 오후, 날씨:구름많음, 기온:4도~18도\n",
      "\t2021-03-27 오전, 날씨:흐림, 기온:5도~18도\n",
      "전라북도 지역의  전주\n",
      "\t2021-03-20 오전, 날씨:흐림, 기온:8도~15도\n",
      "\t2021-03-20 오후, 날씨:흐리고 비, 기온:8도~15도\n",
      "\t2021-03-21 오전, 날씨:흐림, 기온:8도~12도\n",
      "\t2021-03-21 오후, 날씨:구름많음, 기온:8도~12도\n",
      "\t2021-03-22 오전, 날씨:맑음, 기온:2도~12도\n",
      "\t2021-03-22 오후, 날씨:맑음, 기온:2도~12도\n",
      "\t2021-03-23 오전, 날씨:맑음, 기온:2도~16도\n",
      "\t2021-03-23 오후, 날씨:맑음, 기온:2도~16도\n",
      "\t2021-03-24 오전, 날씨:맑음, 기온:5도~17도\n",
      "\t2021-03-24 오후, 날씨:맑음, 기온:5도~17도\n"
     ]
    },
    {
     "name": "stdout",
     "output_type": "stream",
     "text": [
      "\t2021-03-25 오전, 날씨:구름많음, 기온:5도~18도\n",
      "\t2021-03-26 오후, 날씨:구름많음, 기온:6도~17도\n",
      "\t2021-03-27 오전, 날씨:구름많음, 기온:6도~17도\n",
      "전라북도 지역의  군산\n",
      "\t2021-03-20 오전, 날씨:흐림, 기온:8도~13도\n",
      "\t2021-03-20 오후, 날씨:흐리고 비, 기온:8도~13도\n",
      "\t2021-03-21 오전, 날씨:흐림, 기온:7도~10도\n",
      "\t2021-03-21 오후, 날씨:구름많음, 기온:7도~10도\n",
      "\t2021-03-22 오전, 날씨:맑음, 기온:3도~11도\n",
      "\t2021-03-22 오후, 날씨:맑음, 기온:3도~11도\n",
      "\t2021-03-23 오전, 날씨:맑음, 기온:3도~14도\n",
      "\t2021-03-23 오후, 날씨:맑음, 기온:3도~14도\n",
      "\t2021-03-24 오전, 날씨:맑음, 기온:4도~15도\n",
      "\t2021-03-24 오후, 날씨:맑음, 기온:4도~15도\n",
      "\t2021-03-25 오전, 날씨:구름많음, 기온:5도~15도\n",
      "\t2021-03-26 오후, 날씨:구름많음, 기온:5도~16도\n",
      "\t2021-03-27 오전, 날씨:구름많음, 기온:5도~17도\n",
      "전라북도 지역의  정읍\n",
      "\t2021-03-20 오전, 날씨:흐림, 기온:7도~14도\n",
      "\t2021-03-20 오후, 날씨:흐리고 비, 기온:7도~14도\n",
      "\t2021-03-21 오전, 날씨:흐림, 기온:6도~11도\n",
      "\t2021-03-21 오후, 날씨:구름많음, 기온:6도~11도\n",
      "\t2021-03-22 오전, 날씨:맑음, 기온:1도~11도\n",
      "\t2021-03-22 오후, 날씨:맑음, 기온:1도~11도\n",
      "\t2021-03-23 오전, 날씨:맑음, 기온:2도~15도\n",
      "\t2021-03-23 오후, 날씨:맑음, 기온:2도~15도\n",
      "\t2021-03-24 오전, 날씨:맑음, 기온:3도~16도\n",
      "\t2021-03-24 오후, 날씨:맑음, 기온:3도~16도\n",
      "\t2021-03-25 오전, 날씨:구름많음, 기온:4도~17도\n",
      "\t2021-03-26 오후, 날씨:구름많음, 기온:5도~17도\n",
      "\t2021-03-27 오전, 날씨:구름많음, 기온:5도~17도\n",
      "전라북도 지역의  남원\n",
      "\t2021-03-20 오전, 날씨:흐림, 기온:7도~14도\n",
      "\t2021-03-20 오후, 날씨:흐리고 비, 기온:7도~14도\n",
      "\t2021-03-21 오전, 날씨:흐림, 기온:8도~12도\n",
      "\t2021-03-21 오후, 날씨:구름많음, 기온:8도~12도\n",
      "\t2021-03-22 오전, 날씨:맑음, 기온:1도~11도\n",
      "\t2021-03-22 오후, 날씨:맑음, 기온:1도~11도\n",
      "\t2021-03-23 오전, 날씨:맑음, 기온:1도~16도\n",
      "\t2021-03-23 오후, 날씨:맑음, 기온:1도~16도\n",
      "\t2021-03-24 오전, 날씨:맑음, 기온:3도~17도\n",
      "\t2021-03-24 오후, 날씨:맑음, 기온:3도~17도\n",
      "\t2021-03-25 오전, 날씨:구름많음, 기온:4도~18도\n",
      "\t2021-03-26 오후, 날씨:구름많음, 기온:5도~17도\n",
      "\t2021-03-27 오전, 날씨:구름많음, 기온:5도~17도\n",
      "전라북도 지역의  고창\n",
      "\t2021-03-20 오전, 날씨:흐림, 기온:7도~13도\n",
      "\t2021-03-20 오후, 날씨:흐리고 비, 기온:7도~13도\n",
      "\t2021-03-21 오전, 날씨:흐림, 기온:6도~11도\n",
      "\t2021-03-21 오후, 날씨:구름많음, 기온:6도~11도\n",
      "\t2021-03-22 오전, 날씨:맑음, 기온:2도~11도\n",
      "\t2021-03-22 오후, 날씨:맑음, 기온:2도~11도\n",
      "\t2021-03-23 오전, 날씨:맑음, 기온:2도~15도\n",
      "\t2021-03-23 오후, 날씨:맑음, 기온:2도~15도\n",
      "\t2021-03-24 오전, 날씨:맑음, 기온:4도~15도\n",
      "\t2021-03-24 오후, 날씨:맑음, 기온:4도~15도\n",
      "\t2021-03-25 오전, 날씨:구름많음, 기온:5도~16도\n",
      "\t2021-03-26 오후, 날씨:구름많음, 기온:5도~16도\n",
      "\t2021-03-27 오전, 날씨:구름많음, 기온:5도~17도\n",
      "전라북도 지역의  무주\n",
      "\t2021-03-20 오전, 날씨:흐림, 기온:6도~12도\n",
      "\t2021-03-20 오후, 날씨:흐리고 비, 기온:6도~12도\n",
      "\t2021-03-21 오전, 날씨:흐림, 기온:7도~12도\n",
      "\t2021-03-21 오후, 날씨:구름많음, 기온:7도~12도\n",
      "\t2021-03-22 오전, 날씨:맑음, 기온:0도~11도\n",
      "\t2021-03-22 오후, 날씨:맑음, 기온:0도~11도\n",
      "\t2021-03-23 오전, 날씨:맑음, 기온:1도~15도\n",
      "\t2021-03-23 오후, 날씨:맑음, 기온:1도~15도\n",
      "\t2021-03-24 오전, 날씨:맑음, 기온:2도~16도\n",
      "\t2021-03-24 오후, 날씨:맑음, 기온:2도~16도\n",
      "\t2021-03-25 오전, 날씨:구름많음, 기온:3도~17도\n",
      "\t2021-03-26 오후, 날씨:구름많음, 기온:3도~16도\n",
      "\t2021-03-27 오전, 날씨:구름많음, 기온:4도~16도\n",
      "부산ㆍ울산ㆍ경상남도 지역의  부산\n",
      "\t2021-03-20 오전, 날씨:흐리고 비, 기온:10도~14도\n",
      "\t2021-03-20 오후, 날씨:흐리고 비, 기온:10도~14도\n",
      "\t2021-03-21 오전, 날씨:흐리고 비, 기온:11도~17도\n",
      "\t2021-03-21 오후, 날씨:구름많음, 기온:11도~17도\n",
      "\t2021-03-22 오전, 날씨:맑음, 기온:4도~14도\n",
      "\t2021-03-22 오후, 날씨:맑음, 기온:4도~14도\n",
      "\t2021-03-23 오전, 날씨:맑음, 기온:6도~16도\n",
      "\t2021-03-23 오후, 날씨:맑음, 기온:6도~16도\n",
      "\t2021-03-24 오전, 날씨:맑음, 기온:8도~16도\n",
      "\t2021-03-24 오후, 날씨:맑음, 기온:8도~16도\n",
      "\t2021-03-25 오전, 날씨:맑음, 기온:9도~17도\n",
      "\t2021-03-26 오후, 날씨:구름많음, 기온:9도~17도\n",
      "\t2021-03-27 오전, 날씨:흐림, 기온:9도~17도\n",
      "부산ㆍ울산ㆍ경상남도 지역의  울산\n",
      "\t2021-03-20 오전, 날씨:흐리고 비, 기온:8도~13도\n",
      "\t2021-03-20 오후, 날씨:흐리고 비, 기온:8도~13도\n",
      "\t2021-03-21 오전, 날씨:흐리고 비, 기온:9도~16도\n",
      "\t2021-03-21 오후, 날씨:구름많음, 기온:9도~16도\n",
      "\t2021-03-22 오전, 날씨:맑음, 기온:3도~14도\n",
      "\t2021-03-22 오후, 날씨:맑음, 기온:3도~14도\n",
      "\t2021-03-23 오전, 날씨:맑음, 기온:3도~17도\n",
      "\t2021-03-23 오후, 날씨:맑음, 기온:3도~17도\n",
      "\t2021-03-24 오전, 날씨:맑음, 기온:6도~17도\n",
      "\t2021-03-24 오후, 날씨:맑음, 기온:6도~17도\n",
      "\t2021-03-25 오전, 날씨:맑음, 기온:6도~18도\n",
      "\t2021-03-26 오후, 날씨:구름많음, 기온:7도~18도\n",
      "\t2021-03-27 오전, 날씨:흐림, 기온:7도~17도\n",
      "부산ㆍ울산ㆍ경상남도 지역의  창원\n",
      "\t2021-03-20 오전, 날씨:흐리고 비, 기온:8도~13도\n",
      "\t2021-03-20 오후, 날씨:흐리고 비, 기온:8도~13도\n",
      "\t2021-03-21 오전, 날씨:흐리고 비, 기온:10도~16도\n",
      "\t2021-03-21 오후, 날씨:구름많음, 기온:10도~16도\n",
      "\t2021-03-22 오전, 날씨:맑음, 기온:3도~13도\n",
      "\t2021-03-22 오후, 날씨:맑음, 기온:3도~13도\n",
      "\t2021-03-23 오전, 날씨:맑음, 기온:4도~16도\n",
      "\t2021-03-23 오후, 날씨:맑음, 기온:4도~16도\n",
      "\t2021-03-24 오전, 날씨:맑음, 기온:6도~16도\n",
      "\t2021-03-24 오후, 날씨:맑음, 기온:6도~16도\n",
      "\t2021-03-25 오전, 날씨:맑음, 기온:7도~17도\n",
      "\t2021-03-26 오후, 날씨:구름많음, 기온:7도~17도\n",
      "\t2021-03-27 오전, 날씨:흐림, 기온:8도~16도\n",
      "부산ㆍ울산ㆍ경상남도 지역의  진주\n",
      "\t2021-03-20 오전, 날씨:흐리고 비, 기온:7도~12도\n",
      "\t2021-03-20 오후, 날씨:흐리고 비, 기온:7도~12도\n",
      "\t2021-03-21 오전, 날씨:흐리고 비, 기온:9도~16도\n",
      "\t2021-03-21 오후, 날씨:구름많음, 기온:9도~16도\n",
      "\t2021-03-22 오전, 날씨:맑음, 기온:1도~13도\n",
      "\t2021-03-22 오후, 날씨:맑음, 기온:1도~13도\n",
      "\t2021-03-23 오전, 날씨:맑음, 기온:1도~17도\n",
      "\t2021-03-23 오후, 날씨:맑음, 기온:1도~17도\n",
      "\t2021-03-24 오전, 날씨:맑음, 기온:2도~17도\n",
      "\t2021-03-24 오후, 날씨:맑음, 기온:2도~17도\n",
      "\t2021-03-25 오전, 날씨:맑음, 기온:4도~18도\n",
      "\t2021-03-26 오후, 날씨:구름많음, 기온:4도~18도\n",
      "\t2021-03-27 오전, 날씨:흐림, 기온:5도~17도\n",
      "부산ㆍ울산ㆍ경상남도 지역의  거창\n",
      "\t2021-03-20 오전, 날씨:흐리고 비, 기온:4도~11도\n",
      "\t2021-03-20 오후, 날씨:흐리고 비, 기온:4도~11도\n",
      "\t2021-03-21 오전, 날씨:흐리고 비, 기온:7도~13도\n",
      "\t2021-03-21 오후, 날씨:구름많음, 기온:7도~13도\n",
      "\t2021-03-22 오전, 날씨:맑음, 기온:0도~11도\n",
      "\t2021-03-22 오후, 날씨:맑음, 기온:0도~11도\n",
      "\t2021-03-23 오전, 날씨:맑음, 기온:0도~16도\n",
      "\t2021-03-23 오후, 날씨:맑음, 기온:0도~16도\n",
      "\t2021-03-24 오전, 날씨:맑음, 기온:1도~17도\n",
      "\t2021-03-24 오후, 날씨:맑음, 기온:1도~17도\n",
      "\t2021-03-25 오전, 날씨:맑음, 기온:2도~17도\n",
      "\t2021-03-26 오후, 날씨:구름많음, 기온:3도~17도\n",
      "\t2021-03-27 오전, 날씨:흐림, 기온:4도~17도\n",
      "부산ㆍ울산ㆍ경상남도 지역의  통영\n",
      "\t2021-03-20 오전, 날씨:흐리고 비, 기온:9도~14도\n",
      "\t2021-03-20 오후, 날씨:흐리고 비, 기온:9도~14도\n",
      "\t2021-03-21 오전, 날씨:흐리고 비, 기온:10도~16도\n",
      "\t2021-03-21 오후, 날씨:구름많음, 기온:10도~16도\n",
      "\t2021-03-22 오전, 날씨:맑음, 기온:4도~13도\n",
      "\t2021-03-22 오후, 날씨:맑음, 기온:4도~13도\n",
      "\t2021-03-23 오전, 날씨:맑음, 기온:5도~15도\n",
      "\t2021-03-23 오후, 날씨:맑음, 기온:5도~15도\n",
      "\t2021-03-24 오전, 날씨:맑음, 기온:8도~15도\n",
      "\t2021-03-24 오후, 날씨:맑음, 기온:8도~15도\n",
      "\t2021-03-25 오전, 날씨:맑음, 기온:8도~16도\n",
      "\t2021-03-26 오후, 날씨:구름많음, 기온:8도~16도\n",
      "\t2021-03-27 오전, 날씨:흐림, 기온:8도~15도\n",
      "대구ㆍ경상북도 지역의  대구\n",
      "\t2021-03-20 오전, 날씨:흐림, 기온:7도~14도\n",
      "\t2021-03-20 오후, 날씨:흐리고 비, 기온:7도~14도\n",
      "\t2021-03-21 오전, 날씨:흐리고 비, 기온:9도~15도\n",
      "\t2021-03-21 오후, 날씨:구름많음, 기온:9도~15도\n",
      "\t2021-03-22 오전, 날씨:맑음, 기온:2도~13도\n",
      "\t2021-03-22 오후, 날씨:맑음, 기온:2도~13도\n",
      "\t2021-03-23 오전, 날씨:맑음, 기온:2도~18도\n",
      "\t2021-03-23 오후, 날씨:맑음, 기온:2도~18도\n",
      "\t2021-03-24 오전, 날씨:맑음, 기온:5도~18도\n",
      "\t2021-03-24 오후, 날씨:맑음, 기온:5도~18도\n",
      "\t2021-03-25 오전, 날씨:구름많음, 기온:6도~18도\n",
      "\t2021-03-26 오후, 날씨:구름많음, 기온:6도~18도\n",
      "\t2021-03-27 오전, 날씨:구름많음, 기온:5도~18도\n",
      "대구ㆍ경상북도 지역의  안동\n",
      "\t2021-03-20 오전, 날씨:흐림, 기온:5도~13도\n",
      "\t2021-03-20 오후, 날씨:흐리고 비, 기온:5도~13도\n",
      "\t2021-03-21 오전, 날씨:흐리고 비, 기온:6도~14도\n",
      "\t2021-03-21 오후, 날씨:구름많음, 기온:6도~14도\n",
      "\t2021-03-22 오전, 날씨:맑음, 기온:0도~11도\n",
      "\t2021-03-22 오후, 날씨:맑음, 기온:0도~11도\n",
      "\t2021-03-23 오전, 날씨:맑음, 기온:0도~16도\n",
      "\t2021-03-23 오후, 날씨:맑음, 기온:0도~16도\n",
      "\t2021-03-24 오전, 날씨:맑음, 기온:2도~17도\n",
      "\t2021-03-24 오후, 날씨:맑음, 기온:2도~17도\n",
      "\t2021-03-25 오전, 날씨:구름많음, 기온:4도~17도\n",
      "\t2021-03-26 오후, 날씨:구름많음, 기온:3도~17도\n",
      "\t2021-03-27 오전, 날씨:구름많음, 기온:3도~17도\n",
      "대구ㆍ경상북도 지역의  포항\n",
      "\t2021-03-20 오전, 날씨:흐림, 기온:9도~14도\n",
      "\t2021-03-20 오후, 날씨:흐리고 비, 기온:9도~14도\n",
      "\t2021-03-21 오전, 날씨:흐리고 비, 기온:9도~16도\n",
      "\t2021-03-21 오후, 날씨:구름많음, 기온:9도~16도\n",
      "\t2021-03-22 오전, 날씨:맑음, 기온:3도~13도\n",
      "\t2021-03-22 오후, 날씨:맑음, 기온:3도~13도\n",
      "\t2021-03-23 오전, 날씨:맑음, 기온:4도~18도\n",
      "\t2021-03-23 오후, 날씨:맑음, 기온:4도~18도\n",
      "\t2021-03-24 오전, 날씨:맑음, 기온:7도~18도\n",
      "\t2021-03-24 오후, 날씨:맑음, 기온:7도~18도\n",
      "\t2021-03-25 오전, 날씨:구름많음, 기온:8도~17도\n",
      "\t2021-03-26 오후, 날씨:구름많음, 기온:7도~17도\n",
      "\t2021-03-27 오전, 날씨:구름많음, 기온:7도~16도\n",
      "대구ㆍ경상북도 지역의  경주\n",
      "\t2021-03-20 오전, 날씨:흐림, 기온:6도~13도\n",
      "\t2021-03-20 오후, 날씨:흐리고 비, 기온:6도~13도\n",
      "\t2021-03-21 오전, 날씨:흐리고 비, 기온:8도~15도\n",
      "\t2021-03-21 오후, 날씨:구름많음, 기온:8도~15도\n",
      "\t2021-03-22 오전, 날씨:맑음, 기온:1도~13도\n",
      "\t2021-03-22 오후, 날씨:맑음, 기온:1도~13도\n",
      "\t2021-03-23 오전, 날씨:맑음, 기온:1도~18도\n",
      "\t2021-03-23 오후, 날씨:맑음, 기온:1도~18도\n",
      "\t2021-03-24 오전, 날씨:맑음, 기온:3도~18도\n",
      "\t2021-03-24 오후, 날씨:맑음, 기온:3도~18도\n",
      "\t2021-03-25 오전, 날씨:구름많음, 기온:4도~18도\n",
      "\t2021-03-26 오후, 날씨:구름많음, 기온:4도~17도\n",
      "\t2021-03-27 오전, 날씨:구름많음, 기온:4도~18도\n",
      "대구ㆍ경상북도 지역의  울진\n",
      "\t2021-03-20 오전, 날씨:흐림, 기온:6도~10도\n",
      "\t2021-03-20 오후, 날씨:흐리고 비, 기온:6도~10도\n",
      "\t2021-03-21 오전, 날씨:흐리고 비, 기온:7도~14도\n",
      "\t2021-03-21 오후, 날씨:구름많음, 기온:7도~14도\n",
      "\t2021-03-22 오전, 날씨:맑음, 기온:2도~12도\n",
      "\t2021-03-22 오후, 날씨:맑음, 기온:2도~12도\n",
      "\t2021-03-23 오전, 날씨:맑음, 기온:3도~16도\n",
      "\t2021-03-23 오후, 날씨:맑음, 기온:3도~16도\n",
      "\t2021-03-24 오전, 날씨:맑음, 기온:7도~16도\n",
      "\t2021-03-24 오후, 날씨:맑음, 기온:7도~16도\n",
      "\t2021-03-25 오전, 날씨:구름많음, 기온:6도~16도\n",
      "\t2021-03-26 오후, 날씨:구름많음, 기온:6도~15도\n",
      "\t2021-03-27 오전, 날씨:구름많음, 기온:6도~14도\n",
      "대구ㆍ경상북도 지역의  울릉도\n",
      "\t2021-03-20 오전, 날씨:흐림, 기온:6도~10도\n",
      "\t2021-03-20 오후, 날씨:흐리고 비, 기온:6도~10도\n",
      "\t2021-03-21 오전, 날씨:흐리고 비, 기온:7도~11도\n",
      "\t2021-03-21 오후, 날씨:구름많음, 기온:7도~11도\n",
      "\t2021-03-22 오전, 날씨:맑음, 기온:4도~9도\n",
      "\t2021-03-22 오후, 날씨:맑음, 기온:4도~9도\n",
      "\t2021-03-23 오전, 날씨:맑음, 기온:6도~12도\n",
      "\t2021-03-23 오후, 날씨:맑음, 기온:6도~12도\n",
      "\t2021-03-24 오전, 날씨:맑음, 기온:8도~13도\n",
      "\t2021-03-24 오후, 날씨:맑음, 기온:8도~13도\n",
      "\t2021-03-25 오전, 날씨:구름많음, 기온:8도~13도\n",
      "\t2021-03-26 오후, 날씨:구름많음, 기온:8도~12도\n",
      "\t2021-03-27 오전, 날씨:구름많음, 기온:7도~11도\n",
      "제주도 지역의  제주\n",
      "\t2021-03-20 오전, 날씨:흐리고 비, 기온:13도~19도\n",
      "\t2021-03-20 오후, 날씨:흐리고 비, 기온:13도~19도\n",
      "\t2021-03-21 오전, 날씨:흐리고 비, 기온:10도~12도\n",
      "\t2021-03-21 오후, 날씨:구름많음, 기온:10도~12도\n",
      "\t2021-03-22 오전, 날씨:맑음, 기온:7도~12도\n",
      "\t2021-03-22 오후, 날씨:맑음, 기온:7도~12도\n",
      "\t2021-03-23 오전, 날씨:맑음, 기온:8도~16도\n",
      "\t2021-03-23 오후, 날씨:맑음, 기온:8도~16도\n",
      "\t2021-03-24 오전, 날씨:맑음, 기온:9도~17도\n",
      "\t2021-03-24 오후, 날씨:맑음, 기온:9도~17도\n",
      "\t2021-03-25 오전, 날씨:맑음, 기온:10도~17도\n",
      "\t2021-03-26 오후, 날씨:구름많음, 기온:10도~16도\n",
      "\t2021-03-27 오전, 날씨:흐림, 기온:10도~17도\n",
      "제주도 지역의  서귀포\n",
      "\t2021-03-20 오전, 날씨:흐리고 비, 기온:13도~17도\n",
      "\t2021-03-20 오후, 날씨:흐리고 비, 기온:13도~17도\n",
      "\t2021-03-21 오전, 날씨:흐리고 비, 기온:11도~15도\n",
      "\t2021-03-21 오후, 날씨:구름많음, 기온:11도~15도\n",
      "\t2021-03-22 오전, 날씨:맑음, 기온:6도~13도\n",
      "\t2021-03-22 오후, 날씨:맑음, 기온:6도~13도\n",
      "\t2021-03-23 오전, 날씨:맑음, 기온:8도~16도\n",
      "\t2021-03-23 오후, 날씨:맑음, 기온:8도~16도\n",
      "\t2021-03-24 오전, 날씨:맑음, 기온:10도~16도\n",
      "\t2021-03-24 오후, 날씨:맑음, 기온:10도~16도\n",
      "\t2021-03-25 오전, 날씨:맑음, 기온:11도~17도\n",
      "\t2021-03-26 오후, 날씨:구름많음, 기온:11도~17도\n",
      "\t2021-03-27 오전, 날씨:흐림, 기온:12도~17도\n"
     ]
    }
   ],
   "source": [
    "# requests.get(url) 방식.\n",
    "import requests\n",
    "from bs4 import BeautifulSoup\n",
    "url = \"http://www.weather.go.kr/weather/forecast/mid-term-rss3.jsp?stnId=108\"\n",
    "target = requests.get(url)\n",
    "soup = BeautifulSoup(target.content, \"html.parser\")\n",
    "\n",
    "#정규표현식을 안쓰고 하는방법\n",
    "locations = soup.select('location')\n",
    "for loc in locations:\n",
    "    province = loc.select_one('province').text\n",
    "    city = loc.select_one('city').string\n",
    "    print(province, '지역의 ',city)\n",
    "    data = loc.select('data') #data안에 태그는 많아서 select.\n",
    "    ampm = \"오전\"\n",
    "    for item in data:  # '2021-03-20 ' 10자리 앞까지.\n",
    "        tmEf = item.select_one('tmEf').text[:10] # tmEf 대소문자 구분 없음.\n",
    "        wf = item.select_one('wf').text\n",
    "        tmn = item.select_one('tmn').text\n",
    "        tmx = item.select_one('tmx').text\n",
    "        print(\"\\t{} {}, 날씨:{}, 기온:{}도~{}도\".format(tmEf,ampm,wf,tmn,tmx))\n",
    "        \n",
    "        if ampm == \"오전\":\n",
    "            ampm = \"오후\"\n",
    "        else:\n",
    "            ampm = \"오전\""
   ]
  },
  {
   "cell_type": "code",
   "execution_count": null,
   "metadata": {},
   "outputs": [],
   "source": []
  },
  {
   "cell_type": "code",
   "execution_count": null,
   "metadata": {},
   "outputs": [],
   "source": []
  }
 ],
 "metadata": {
  "kernelspec": {
   "display_name": "Python 3",
   "language": "python",
   "name": "python3"
  },
  "language_info": {
   "codemirror_mode": {
    "name": "ipython",
    "version": 3
   },
   "file_extension": ".py",
   "mimetype": "text/x-python",
   "name": "python",
   "nbconvert_exporter": "python",
   "pygments_lexer": "ipython3",
   "version": "3.8.5"
  },
  "toc": {
   "base_numbering": 1,
   "nav_menu": {},
   "number_sections": true,
   "sideBar": true,
   "skip_h1_title": false,
   "title_cell": "Table of Contents",
   "title_sidebar": "Contents",
   "toc_cell": false,
   "toc_position": {},
   "toc_section_display": true,
   "toc_window_display": false
  },
  "varInspector": {
   "cols": {
    "lenName": 16,
    "lenType": 16,
    "lenVar": 40
   },
   "kernels_config": {
    "python": {
     "delete_cmd_postfix": "",
     "delete_cmd_prefix": "del ",
     "library": "var_list.py",
     "varRefreshCmd": "print(var_dic_list())"
    },
    "r": {
     "delete_cmd_postfix": ") ",
     "delete_cmd_prefix": "rm(",
     "library": "var_list.r",
     "varRefreshCmd": "cat(var_dic_list()) "
    }
   },
   "types_to_exclude": [
    "module",
    "function",
    "builtin_function_or_method",
    "instance",
    "_Feature"
   ],
   "window_display": false
  }
 },
 "nbformat": 4,
 "nbformat_minor": 4
}
