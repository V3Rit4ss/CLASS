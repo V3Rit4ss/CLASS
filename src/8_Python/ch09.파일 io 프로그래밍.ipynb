{
 "cells": [
  {
   "cell_type": "markdown",
   "metadata": {},
   "source": [
    "**<b><font color=\"red\">ch09. 파일 i/o 프로그래밍</font><b>**"
   ]
  },
  {
   "cell_type": "markdown",
   "metadata": {},
   "source": [
    "# 1절. 파일에 데이터 저장하고 불러오기"
   ]
  },
  {
   "cell_type": "code",
   "execution_count": 11,
   "metadata": {
    "ExecuteTime": {
     "end_time": "2021-02-26T14:40:07.603082Z",
     "start_time": "2021-02-26T14:40:07.598093Z"
    }
   },
   "outputs": [
    {
     "name": "stdout",
     "output_type": "stream",
     "text": [
      "True\n"
     ]
    }
   ],
   "source": [
    "f = open('data/ch09.sample.txt', 'w') #기본값은 , 'r' (읽기모드)\n",
    "print(f.writable()) # 가능한지 확인."
   ]
  },
  {
   "cell_type": "code",
   "execution_count": 12,
   "metadata": {
    "ExecuteTime": {
     "end_time": "2021-02-26T14:40:10.320822Z",
     "start_time": "2021-02-26T14:40:10.300841Z"
    }
   },
   "outputs": [
    {
     "data": {
      "text/plain": [
       "24"
      ]
     },
     "execution_count": 12,
     "metadata": {},
     "output_type": "execute_result"
    }
   ],
   "source": [
    "f.write('Hello\\nWorld\\nHello\\nPython') #이것만 해봤자 저장이 안된다."
   ]
  },
  {
   "cell_type": "code",
   "execution_count": 13,
   "metadata": {
    "ExecuteTime": {
     "end_time": "2021-02-26T14:40:12.006820Z",
     "start_time": "2021-02-26T14:40:11.991859Z"
    }
   },
   "outputs": [],
   "source": [
    "f.close() #그래서 close() 를 해줘야한다."
   ]
  },
  {
   "cell_type": "code",
   "execution_count": 14,
   "metadata": {
    "ExecuteTime": {
     "end_time": "2021-02-26T14:40:13.496479Z",
     "start_time": "2021-02-26T14:40:13.487502Z"
    }
   },
   "outputs": [
    {
     "name": "stdout",
     "output_type": "stream",
     "text": [
      "True\n"
     ]
    }
   ],
   "source": [
    "# 따라서 with 구문을 이용하면 파일을 열어 사용한 후 매번 닫아주는 코드를 작성하지 않아도 됨\n",
    "with open('data/ch09.sample.txt', 'w') as f: # 'w' 전에있던 내용에 덮어씌워지기때문에 조심.\n",
    "    print(f.writable())\n",
    "    f.write('Python is easy.\\nPython is smart.')"
   ]
  },
  {
   "cell_type": "code",
   "execution_count": 15,
   "metadata": {
    "ExecuteTime": {
     "end_time": "2021-02-26T14:40:15.452021Z",
     "start_time": "2021-02-26T14:40:15.448032Z"
    }
   },
   "outputs": [],
   "source": [
    "with open('data/ch09.sample.txt', 'a') as f: # 'a' 기존 내용 다음에 내용이 추가가 된다.\n",
    "    print(\"print 함수로 파일 쓰기가 가능합니다.\", file = f) #end='\\n'(기본값) 포함해서."
   ]
  },
  {
   "cell_type": "code",
   "execution_count": 16,
   "metadata": {
    "ExecuteTime": {
     "end_time": "2021-02-26T14:40:16.597443Z",
     "start_time": "2021-02-26T14:40:16.577496Z"
    }
   },
   "outputs": [],
   "source": [
    "with open('data/ch09.sample.txt', 'a') as f:\n",
    "    f.write('1.방법. Hello\\nWorld\\n')\n",
    "    textlist = ['Python is easy.','R is easy.','Java is easy.']\n",
    "    f.write('2.방법. ')\n",
    "    for line in textlist:\n",
    "        f.write(line+'\\n')\n",
    "    f.write('3.방법. ')\n",
    "    f.writelines(textlist)"
   ]
  },
  {
   "cell_type": "code",
   "execution_count": 17,
   "metadata": {
    "ExecuteTime": {
     "end_time": "2021-02-26T14:40:18.073143Z",
     "start_time": "2021-02-26T14:40:18.055190Z"
    }
   },
   "outputs": [
    {
     "name": "stdout",
     "output_type": "stream",
     "text": [
      "['Python is easy.\\n', 'Python is smart.print 함수로 파일 쓰기가 가능합니다.\\n', '1.방법. Hello\\n', 'World\\n', '2.방법. Python is easy.\\n', 'R is easy.\\n', 'Java is easy.\\n', '3.방법. Python is easy.R is easy.Java is easy.']\n"
     ]
    }
   ],
   "source": [
    "#txtfile 는 내가 지정한 변수라 변수이름은 자유롭게.\n",
    "with open('data/ch09.sample.txt', 'r') as txtfile:\n",
    "    lines = txtfile.readlines() #한번에 모든 txt내용 읽기.\n",
    "    print(lines) "
   ]
  },
  {
   "cell_type": "code",
   "execution_count": 18,
   "metadata": {
    "ExecuteTime": {
     "end_time": "2021-02-26T14:40:20.335261Z",
     "start_time": "2021-02-26T14:40:20.322296Z"
    }
   },
   "outputs": [
    {
     "name": "stdout",
     "output_type": "stream",
     "text": [
      "Python is easy.\n",
      "Python is smart.print 함수로 파일 쓰기가 가능합니다.\n",
      "1.방법. Hello\n",
      "World\n",
      "2.방법. Python is easy.\n",
      "R is easy.\n",
      "Java is easy.\n",
      "3.방법. Python is easy.R is easy.Java is easy.\n"
     ]
    }
   ],
   "source": [
    "with open('data/ch09.sample.txt', 'r') as f:\n",
    "    lines = f.readlines() # 파일을 통채로 읽어서 한줄씩 출력.\n",
    "    for line in lines:\n",
    "        #print(line, end='') 아래방법이나 이 방법이나 결과는 같다.\n",
    "        print(line.strip()) # \\n 삭제"
   ]
  },
  {
   "cell_type": "code",
   "execution_count": 19,
   "metadata": {
    "ExecuteTime": {
     "end_time": "2021-02-26T14:40:21.216223Z",
     "start_time": "2021-02-26T14:40:21.202262Z"
    }
   },
   "outputs": [
    {
     "name": "stdout",
     "output_type": "stream",
     "text": [
      "Python is easy.\n",
      "Python is smart.print 함수로 파일 쓰기가 가능합니다.\n",
      "1.방법. Hello\n",
      "World\n",
      "2.방법. Python is easy.\n",
      "R is easy.\n",
      "Java is easy.\n",
      "3.방법. Python is easy.R is easy.Java is easy."
     ]
    }
   ],
   "source": [
    "# 파일을 한줄 읽고, 한줄 출력하고를 반복을 끝날때 까지 하는.\n",
    "with open('data/ch09.sample.txt', 'r') as f:\n",
    "    line = f.readline() # 파일을 한줄 읽고, 한줄 출력\n",
    "    while line != '': #line 이 빈스트링이 아닐때까지~\n",
    "        print(line, end='') # 출력.\n",
    "#        print(line.strip()) # \\n 삭제\n",
    "        line = f.readline()"
   ]
  },
  {
   "cell_type": "markdown",
   "metadata": {},
   "source": [
    "# 2절. 피클을 이용한 객체 저장 및 불러오기"
   ]
  },
  {
   "cell_type": "markdown",
   "metadata": {},
   "source": [
    "# 2.1 형식이 있는 텍스트 데이터"
   ]
  },
  {
   "cell_type": "code",
   "execution_count": 21,
   "metadata": {
    "ExecuteTime": {
     "end_time": "2021-02-26T14:41:44.583772Z",
     "start_time": "2021-02-26T14:41:44.562829Z"
    }
   },
   "outputs": [
    {
     "name": "stdout",
     "output_type": "stream",
     "text": [
      "이름:홍길동\t나이:20\t메일:kildong@tjoeun.co.kr\t주소:서울시 강동구\n",
      "이름:홍길순\t나이:22\t메일:kilsun@tjoeun.co.kr\t주소:서울시 마포구\n"
     ]
    }
   ],
   "source": [
    "#encoding = 'UTF8' 한글깨짐 방지.\n",
    "with open('data/ch09.member.txt', 'r', encoding = 'UTF8') as f: \n",
    "    lines = f.readlines()\n",
    "    for line in lines:\n",
    "        data = line.strip().split(',')\n",
    "        name = data[0]\n",
    "        age = int(data[1].strip())\n",
    "        email = data[2].strip()\n",
    "        address = data[3].strip()\n",
    "        print(\"이름:{}\\t나이:{}\\t메일:{}\\t주소:{}\".format(name, age, email, address))"
   ]
  },
  {
   "cell_type": "markdown",
   "metadata": {},
   "source": [
    "# 2.2 피클링 \n",
    "- 파일을 가져와서 객체에 담는것."
   ]
  },
  {
   "cell_type": "code",
   "execution_count": 22,
   "metadata": {
    "ExecuteTime": {
     "end_time": "2021-02-26T14:41:46.663857Z",
     "start_time": "2021-02-26T14:41:46.648870Z"
    }
   },
   "outputs": [],
   "source": [
    "class Memder:\n",
    "    def __init__(self,name, age, email, address):\n",
    "        self.name = name\n",
    "        self.age = age\n",
    "        self.email = email\n",
    "        self.address = address\n",
    "    def __str__(self):\n",
    "        return \"이름:{}\\t나이:{}\\t메일:{}\\t주소:{}\".format(self.name, self.age, \n",
    "                                                  self.email, self.address)"
   ]
  },
  {
   "cell_type": "code",
   "execution_count": 23,
   "metadata": {
    "ExecuteTime": {
     "end_time": "2021-02-26T14:41:48.403564Z",
     "start_time": "2021-02-26T14:41:48.388604Z"
    }
   },
   "outputs": [],
   "source": [
    "user1 = Memder(\"홍길동\", 20, \"hong@hong.com\",\"서울\")\n",
    "user2 = Memder(\"김길동\", 30, \"hong@hong.com\",\"부산\")\n",
    "user3 = Memder(\"박길동\", 40, \"hong@hong.com\",\"창원\")\n",
    "user_list = [user1,user2,user3]"
   ]
  },
  {
   "cell_type": "code",
   "execution_count": 24,
   "metadata": {
    "ExecuteTime": {
     "end_time": "2021-02-26T14:41:49.289596Z",
     "start_time": "2021-02-26T14:41:49.278625Z"
    }
   },
   "outputs": [
    {
     "name": "stdout",
     "output_type": "stream",
     "text": [
      "이름:홍길동\t나이:20\t메일:hong@hong.com\t주소:서울\n",
      "이름:김길동\t나이:30\t메일:hong@hong.com\t주소:부산\n",
      "이름:박길동\t나이:40\t메일:hong@hong.com\t주소:창원\n"
     ]
    }
   ],
   "source": [
    "for user in user_list:\n",
    "    print(user)"
   ]
  },
  {
   "cell_type": "code",
   "execution_count": 25,
   "metadata": {
    "ExecuteTime": {
     "end_time": "2021-02-26T14:41:50.832703Z",
     "start_time": "2021-02-26T14:41:50.812757Z"
    }
   },
   "outputs": [],
   "source": [
    "with open('data/ch09.member.data','wb') as f:\n",
    "    import pickle\n",
    "    pickle.dump(user_list,f)"
   ]
  },
  {
   "cell_type": "code",
   "execution_count": 36,
   "metadata": {
    "ExecuteTime": {
     "end_time": "2021-02-26T14:44:55.149711Z",
     "start_time": "2021-02-26T14:44:55.137744Z"
    }
   },
   "outputs": [],
   "source": [
    "with open('data/ch09.member.data','rb') as f:\n",
    "    ul = pickle.load(f)"
   ]
  },
  {
   "cell_type": "code",
   "execution_count": 37,
   "metadata": {
    "ExecuteTime": {
     "end_time": "2021-02-26T14:44:57.029663Z",
     "start_time": "2021-02-26T14:44:57.010714Z"
    }
   },
   "outputs": [
    {
     "name": "stdout",
     "output_type": "stream",
     "text": [
      "이름:홍길동\t나이:20\t메일:hong@hong.com\t주소:서울\n",
      "이름:김길동\t나이:30\t메일:hong@hong.com\t주소:부산\n",
      "이름:박길동\t나이:40\t메일:hong@hong.com\t주소:창원\n"
     ]
    }
   ],
   "source": [
    "for user in ul:\n",
    "    print(user)"
   ]
  },
  {
   "cell_type": "code",
   "execution_count": null,
   "metadata": {},
   "outputs": [],
   "source": []
  },
  {
   "cell_type": "code",
   "execution_count": null,
   "metadata": {},
   "outputs": [],
   "source": []
  }
 ],
 "metadata": {
  "kernelspec": {
   "display_name": "Python 3",
   "language": "python",
   "name": "python3"
  },
  "language_info": {
   "codemirror_mode": {
    "name": "ipython",
    "version": 3
   },
   "file_extension": ".py",
   "mimetype": "text/x-python",
   "name": "python",
   "nbconvert_exporter": "python",
   "pygments_lexer": "ipython3",
   "version": "3.8.5"
  },
  "toc": {
   "base_numbering": 1,
   "nav_menu": {},
   "number_sections": false,
   "sideBar": false,
   "skip_h1_title": false,
   "title_cell": "Table of Contents",
   "title_sidebar": "Contents",
   "toc_cell": false,
   "toc_position": {
    "height": "47px",
    "left": "1435px",
    "top": "506px",
    "width": "158.406px"
   },
   "toc_section_display": false,
   "toc_window_display": true
  },
  "varInspector": {
   "cols": {
    "lenName": 16,
    "lenType": 16,
    "lenVar": 40
   },
   "kernels_config": {
    "python": {
     "delete_cmd_postfix": "",
     "delete_cmd_prefix": "del ",
     "library": "var_list.py",
     "varRefreshCmd": "print(var_dic_list())"
    },
    "r": {
     "delete_cmd_postfix": ") ",
     "delete_cmd_prefix": "rm(",
     "library": "var_list.r",
     "varRefreshCmd": "cat(var_dic_list()) "
    }
   },
   "types_to_exclude": [
    "module",
    "function",
    "builtin_function_or_method",
    "instance",
    "_Feature"
   ],
   "window_display": false
  }
 },
 "nbformat": 4,
 "nbformat_minor": 4
}
