{
 "cells": [
  {
   "cell_type": "markdown",
   "metadata": {
    "ExecuteTime": {
     "end_time": "2021-02-25T08:14:22.835905Z",
     "start_time": "2021-02-25T08:14:22.830945Z"
    }
   },
   "source": [
    "**<b><font color=\"red\">ch07. 객체지향 프로그래밍</font><b>**"
   ]
  },
  {
   "cell_type": "markdown",
   "metadata": {},
   "source": [
    "# 1절. 객체와 클래스\n",
    "<pre>\n",
    "class 클래스명(상속받을 클래스명):\n",
    "    함수나 변수들 선언.\n",
    "\n",
    "\n",
    "-java.\n",
    "class ClassName{\n",
    "    ~~\n",
    "}\n",
    "</pre>"
   ]
  },
  {
   "cell_type": "code",
   "execution_count": 2,
   "metadata": {
    "ExecuteTime": {
     "end_time": "2021-02-25T08:20:48.472679Z",
     "start_time": "2021-02-25T08:20:48.468714Z"
    }
   },
   "outputs": [],
   "source": [
    "class Person:\n",
    "    \"Person 클래스\"\n",
    "    pass\n",
    "p1 = Person()# 객체 생성 #p1= new Person() <=[Java]"
   ]
  },
  {
   "cell_type": "code",
   "execution_count": 3,
   "metadata": {
    "ExecuteTime": {
     "end_time": "2021-02-25T08:20:55.243617Z",
     "start_time": "2021-02-25T08:20:55.234653Z"
    }
   },
   "outputs": [
    {
     "data": {
      "text/plain": [
       "__main__.Person"
      ]
     },
     "execution_count": 3,
     "metadata": {},
     "output_type": "execute_result"
    }
   ],
   "source": [
    "type(p1)"
   ]
  },
  {
   "cell_type": "code",
   "execution_count": 4,
   "metadata": {
    "ExecuteTime": {
     "end_time": "2021-02-25T08:21:06.669523Z",
     "start_time": "2021-02-25T08:21:06.666552Z"
    }
   },
   "outputs": [
    {
     "name": "stdout",
     "output_type": "stream",
     "text": [
      "<__main__.Person object at 0x0000023A87ADE850>\n"
     ]
    }
   ],
   "source": [
    "print(p1)"
   ]
  },
  {
   "cell_type": "code",
   "execution_count": 5,
   "metadata": {
    "ExecuteTime": {
     "end_time": "2021-02-25T08:21:52.591521Z",
     "start_time": "2021-02-25T08:21:52.586520Z"
    }
   },
   "outputs": [
    {
     "data": {
      "text/plain": [
       "True"
      ]
     },
     "execution_count": 5,
     "metadata": {},
     "output_type": "execute_result"
    }
   ],
   "source": [
    "isinstance(p1, Person)"
   ]
  },
  {
   "cell_type": "code",
   "execution_count": 6,
   "metadata": {
    "ExecuteTime": {
     "end_time": "2021-02-25T08:22:06.246363Z",
     "start_time": "2021-02-25T08:22:06.242395Z"
    }
   },
   "outputs": [
    {
     "name": "stdout",
     "output_type": "stream",
     "text": [
      "Person 클래스\n"
     ]
    }
   ],
   "source": [
    "print(p1.__doc__) #doc 스트링 출력."
   ]
  },
  {
   "cell_type": "markdown",
   "metadata": {},
   "source": [
    "# 2절. 변수와 메소드\n",
    "- 일반변수, static변수, 일반메소드, static메소드, 클래스메소드."
   ]
  },
  {
   "cell_type": "code",
   "execution_count": 7,
   "metadata": {
    "ExecuteTime": {
     "end_time": "2021-02-25T08:35:30.788044Z",
     "start_time": "2021-02-25T08:35:30.783044Z"
    }
   },
   "outputs": [
    {
     "name": "stdout",
     "output_type": "stream",
     "text": [
      "홍길동 남자\n"
     ]
    }
   ],
   "source": [
    "# 변수 추가\n",
    "class Person:\n",
    "    name = \"홍길동\"\n",
    "    gender = \"남자\"\n",
    "p1 = Person()\n",
    "print(p1.name, p1.gender)"
   ]
  },
  {
   "cell_type": "code",
   "execution_count": 8,
   "metadata": {
    "ExecuteTime": {
     "end_time": "2021-02-25T08:36:38.119259Z",
     "start_time": "2021-02-25T08:36:38.114286Z"
    }
   },
   "outputs": [
    {
     "name": "stdout",
     "output_type": "stream",
     "text": [
      "이순신 남자\n"
     ]
    }
   ],
   "source": [
    "p2 = Person()\n",
    "p2.name = \"이순신\"\n",
    "print(p2.name,p2.gender) #데이터를 안바꾸면 class 의 데이터를 계속 참조하고있다."
   ]
  },
  {
   "cell_type": "code",
   "execution_count": 10,
   "metadata": {
    "ExecuteTime": {
     "end_time": "2021-02-25T08:40:41.334025Z",
     "start_time": "2021-02-25T08:40:41.331051Z"
    }
   },
   "outputs": [],
   "source": [
    "Person.name = \"리사\"\n",
    "Person.gender = \"여자\" # class 의 성별 데이터를 바꾸면."
   ]
  },
  {
   "cell_type": "code",
   "execution_count": 11,
   "metadata": {
    "ExecuteTime": {
     "end_time": "2021-02-25T08:40:42.583681Z",
     "start_time": "2021-02-25T08:40:42.579717Z"
    }
   },
   "outputs": [
    {
     "name": "stdout",
     "output_type": "stream",
     "text": [
      "리사 여자\n",
      "이순신 여자\n"
     ]
    }
   ],
   "source": [
    "print(p1.name,p1.gender)\n",
    "print(p2.name,p2.gender) #이순신의 성별이 바뀐 성별로 참조한다. "
   ]
  },
  {
   "cell_type": "code",
   "execution_count": 12,
   "metadata": {
    "ExecuteTime": {
     "end_time": "2021-02-25T08:43:18.337230Z",
     "start_time": "2021-02-25T08:43:18.332244Z"
    }
   },
   "outputs": [
    {
     "name": "stdout",
     "output_type": "stream",
     "text": [
      "리사 여자\n",
      "신길동 남자\n",
      "이순신 여자\n"
     ]
    }
   ],
   "source": [
    "p1.name = \"신길동\"\n",
    "p1.gender = \"남자\"\n",
    "print(Person.name, Person.gender)\n",
    "print(p1.name,p1.gender)\n",
    "print(p2.name,p2.gender)"
   ]
  },
  {
   "cell_type": "code",
   "execution_count": 13,
   "metadata": {
    "ExecuteTime": {
     "end_time": "2021-02-25T08:46:39.624050Z",
     "start_time": "2021-02-25T08:46:39.619062Z"
    }
   },
   "outputs": [
    {
     "name": "stdout",
     "output_type": "stream",
     "text": [
      "홍길동 남자\n",
      "Person 메소드입니다.\n"
     ]
    }
   ],
   "source": [
    "# 메소드 추가\n",
    "class Person:\n",
    "    name = \"홍길동\"\n",
    "    gender = \"남자\"\n",
    "    def print_into():  #p1에 들어가지는 않지만, ()안에 무언가를 넣으면 들어갈수 있다.\n",
    "        print(\"Person 메소드입니다.\")\n",
    "print(Person.name, Person.gender)\n",
    "Person.print_into()"
   ]
  },
  {
   "cell_type": "code",
   "execution_count": 14,
   "metadata": {
    "ExecuteTime": {
     "end_time": "2021-02-25T08:49:00.079452Z",
     "start_time": "2021-02-25T08:49:00.074487Z"
    }
   },
   "outputs": [
    {
     "name": "stdout",
     "output_type": "stream",
     "text": [
      "이순신 남자\n",
      "홍길동 남자\n"
     ]
    }
   ],
   "source": [
    "p1 = Person()\n",
    "p1.name = \"이순신\"\n",
    "print(p1.name, p1.gender)\n",
    "print(Person.name, Person.gender)"
   ]
  },
  {
   "cell_type": "code",
   "execution_count": 15,
   "metadata": {
    "ExecuteTime": {
     "end_time": "2021-02-25T08:52:15.662444Z",
     "start_time": "2021-02-25T08:52:15.658445Z"
    }
   },
   "outputs": [
    {
     "name": "stdout",
     "output_type": "stream",
     "text": [
      "Person 메소드입니다.\n"
     ]
    }
   ],
   "source": [
    "Person.print_into()"
   ]
  },
  {
   "cell_type": "code",
   "execution_count": 16,
   "metadata": {
    "ExecuteTime": {
     "end_time": "2021-02-25T08:52:30.314258Z",
     "start_time": "2021-02-25T08:52:30.100824Z"
    }
   },
   "outputs": [
    {
     "ename": "TypeError",
     "evalue": "print_into() takes 0 positional arguments but 1 was given",
     "output_type": "error",
     "traceback": [
      "\u001b[1;31m---------------------------------------------------------------------------\u001b[0m",
      "\u001b[1;31mTypeError\u001b[0m                                 Traceback (most recent call last)",
      "\u001b[1;32m<ipython-input-16-a8a4e6a2baf0>\u001b[0m in \u001b[0;36m<module>\u001b[1;34m\u001b[0m\n\u001b[1;32m----> 1\u001b[1;33m \u001b[0mp1\u001b[0m\u001b[1;33m.\u001b[0m\u001b[0mprint_into\u001b[0m\u001b[1;33m(\u001b[0m\u001b[1;33m)\u001b[0m\u001b[1;33m\u001b[0m\u001b[1;33m\u001b[0m\u001b[0m\n\u001b[0m",
      "\u001b[1;31mTypeError\u001b[0m: print_into() takes 0 positional arguments but 1 was given"
     ]
    }
   ],
   "source": [
    "p1.print_into() # 자동완성에는 뜨지만 막상 하려면 불가.\n",
    "# arguments but 1 was given => arguments 에 무언가 하나가 와야한다.\n",
    "# def print_into(): ()안에 self 를 넣으면 된다."
   ]
  },
  {
   "cell_type": "code",
   "execution_count": 22,
   "metadata": {
    "ExecuteTime": {
     "end_time": "2021-02-25T09:01:25.943925Z",
     "start_time": "2021-02-25T09:01:25.937962Z"
    }
   },
   "outputs": [
    {
     "name": "stdout",
     "output_type": "stream",
     "text": [
      "홍길동 남자\n",
      "리사는 30살이고, 여자입니다.\n"
     ]
    }
   ],
   "source": [
    "# 인스턴스 메소드\n",
    "class Person:   \n",
    "    name = \"홍길동\"\n",
    "    gender = \"남자\"      #self => java 에서의 this. 라 생각하면 된다\n",
    "    age = 30\n",
    "    def print_into(self):#객체만 실행가능한 메소드 = 인스턴스 메소드\n",
    "        print(\"{}는 {}살이고, {}입니다.\".format(self.name, self.age, self.gender))\n",
    "print(Person.name, Person.gender)\n",
    "p1 = Person()\n",
    "p1.name = \"리사\"\n",
    "p1.gender = \"여자\"\n",
    "p1.print_into()"
   ]
  },
  {
   "cell_type": "code",
   "execution_count": 23,
   "metadata": {
    "ExecuteTime": {
     "end_time": "2021-02-25T09:02:08.330606Z",
     "start_time": "2021-02-25T09:02:08.322599Z"
    }
   },
   "outputs": [
    {
     "ename": "TypeError",
     "evalue": "print_into() missing 1 required positional argument: 'self'",
     "output_type": "error",
     "traceback": [
      "\u001b[1;31m---------------------------------------------------------------------------\u001b[0m",
      "\u001b[1;31mTypeError\u001b[0m                                 Traceback (most recent call last)",
      "\u001b[1;32m<ipython-input-23-8da13767b1c5>\u001b[0m in \u001b[0;36m<module>\u001b[1;34m\u001b[0m\n\u001b[1;32m----> 1\u001b[1;33m \u001b[0mPerson\u001b[0m\u001b[1;33m.\u001b[0m\u001b[0mprint_into\u001b[0m\u001b[1;33m(\u001b[0m\u001b[1;33m)\u001b[0m\u001b[1;33m\u001b[0m\u001b[1;33m\u001b[0m\u001b[0m\n\u001b[0m",
      "\u001b[1;31mTypeError\u001b[0m: print_into() missing 1 required positional argument: 'self'"
     ]
    }
   ],
   "source": [
    "Person.print_into()"
   ]
  },
  {
   "cell_type": "code",
   "execution_count": 25,
   "metadata": {
    "ExecuteTime": {
     "end_time": "2021-02-25T09:04:30.847470Z",
     "start_time": "2021-02-25T09:04:30.842483Z"
    }
   },
   "outputs": [
    {
     "data": {
      "text/plain": [
       "('리사', 30, '여자')"
      ]
     },
     "execution_count": 25,
     "metadata": {},
     "output_type": "execute_result"
    }
   ],
   "source": [
    "p1.name, p1.age, p1.gender"
   ]
  },
  {
   "cell_type": "code",
   "execution_count": 26,
   "metadata": {
    "ExecuteTime": {
     "end_time": "2021-02-25T09:04:42.454451Z",
     "start_time": "2021-02-25T09:04:42.450442Z"
    }
   },
   "outputs": [
    {
     "data": {
      "text/plain": [
       "['__class__',\n",
       " '__delattr__',\n",
       " '__dict__',\n",
       " '__dir__',\n",
       " '__doc__',\n",
       " '__eq__',\n",
       " '__format__',\n",
       " '__ge__',\n",
       " '__getattribute__',\n",
       " '__gt__',\n",
       " '__hash__',\n",
       " '__init__',\n",
       " '__init_subclass__',\n",
       " '__le__',\n",
       " '__lt__',\n",
       " '__module__',\n",
       " '__ne__',\n",
       " '__new__',\n",
       " '__reduce__',\n",
       " '__reduce_ex__',\n",
       " '__repr__',\n",
       " '__setattr__',\n",
       " '__sizeof__',\n",
       " '__str__',\n",
       " '__subclasshook__',\n",
       " '__weakref__',\n",
       " 'age',\n",
       " 'gender',\n",
       " 'name',\n",
       " 'print_into']"
      ]
     },
     "execution_count": 26,
     "metadata": {},
     "output_type": "execute_result"
    }
   ],
   "source": [
    "dir(p1) #__xx__ 내가 만든게 아님. __ 없는게 내가 만든것."
   ]
  },
  {
   "cell_type": "markdown",
   "metadata": {},
   "source": [
    "<pre>\n",
    "**파이썬은 클래스와 인스턴스(객체)의 이름 공간이 분리되어 있음.**\n",
    "**클래스와 인스턴스의 변수명이 다를 수 있다.**\n",
    "**동적으로 인스턴스(객체)에 멤버 추가 가능**\n",
    "</pre>"
   ]
  },
  {
   "cell_type": "code",
   "execution_count": 29,
   "metadata": {
    "ExecuteTime": {
     "end_time": "2021-02-25T09:07:48.405247Z",
     "start_time": "2021-02-25T09:07:48.402255Z"
    }
   },
   "outputs": [],
   "source": [
    "# 멤버 추가\n",
    "p1.address = '마포구, 신촌'\n",
    "p1.nickname = '곰돌이푸'"
   ]
  },
  {
   "cell_type": "code",
   "execution_count": 28,
   "metadata": {
    "ExecuteTime": {
     "end_time": "2021-02-25T09:07:33.956897Z",
     "start_time": "2021-02-25T09:07:33.953892Z"
    }
   },
   "outputs": [
    {
     "name": "stdout",
     "output_type": "stream",
     "text": [
      "리사는 30살이고, 여자입니다.\n"
     ]
    }
   ],
   "source": [
    "p1.print_into() # 추가한것은 나오지 않는다."
   ]
  },
  {
   "cell_type": "markdown",
   "metadata": {
    "ExecuteTime": {
     "end_time": "2021-02-26T00:35:44.596019Z",
     "start_time": "2021-02-26T00:35:44.593047Z"
    }
   },
   "source": [
    "**클래스메소드 VS static 메소드**\n",
    "1. 인스턴스 메소드 : 반드시 첫번째 인자에 self를 기입. 객체를 통해서 호출할 메소드\n",
    "2. 클래스 메소드 : @classmethod를  통해서 선언한 메소드. 첫 인자에 cls,(clazz)를 꼭 기입.\n",
    "3. static 메소드 : @staticmethod를 통해서 선언한 메소드."
   ]
  },
  {
   "cell_type": "code",
   "execution_count": 12,
   "metadata": {
    "ExecuteTime": {
     "end_time": "2021-02-26T00:59:27.789773Z",
     "start_time": "2021-02-26T00:59:27.784806Z"
    }
   },
   "outputs": [],
   "source": [
    "# 인스턴스메소드 VS 클래스메소드 VS static 메소드\n",
    "\n",
    "class Person: #object 를 상속하고있다.\n",
    "    name = \"홍길동\" #클래스변수들.\n",
    "    gender = \"남자\"\n",
    "    age = 30\n",
    "    def print_info(self): #인스턴스 메소드.(인자에 self)\n",
    "        print(\"일반(인스턴스=객체)메소드 = {}는 {}살 {}입니다.\".format(self.name,\n",
    "                                                              self.age, self.gender))\n",
    "    @classmethod\n",
    "    def do_(cls): # 클래스메소드(인자에 cls or clazz)\n",
    "        cls.name = \"신사임당\"\n",
    "        cls.gender = \"여자\"\n",
    "        cls.age = 517\n",
    "        print(\"클래스 메소드 - {}는 {}살 {}입니다\".format(cls.name, cls.age, cls.gender))\n",
    "    @staticmethod\n",
    "    def that_(): # static 메소드(인자가 없음)\n",
    "        print(\"static 메소드 - {}는 {}살 {}입니다.\".format(Person.name, Person.age,\n",
    "                                                          Person.gender))"
   ]
  },
  {
   "cell_type": "code",
   "execution_count": 13,
   "metadata": {
    "ExecuteTime": {
     "end_time": "2021-02-26T00:59:29.859136Z",
     "start_time": "2021-02-26T00:59:29.855147Z"
    }
   },
   "outputs": [
    {
     "name": "stdout",
     "output_type": "stream",
     "text": [
      "일반(인스턴스=객체)메소드 = 홍길동는 30살 남자입니다.\n",
      "일반(인스턴스=객체)메소드 = 홍길동는 30살 남자입니다.\n"
     ]
    }
   ],
   "source": [
    "p1 = Person()\n",
    "p2 = Person()\n",
    "p1.print_info()\n",
    "p2.print_info()"
   ]
  },
  {
   "cell_type": "code",
   "execution_count": 14,
   "metadata": {
    "ExecuteTime": {
     "end_time": "2021-02-26T00:59:30.796658Z",
     "start_time": "2021-02-26T00:59:30.791671Z"
    }
   },
   "outputs": [
    {
     "name": "stdout",
     "output_type": "stream",
     "text": [
      "일반(인스턴스=객체)메소드 = 김말동는 31살 남자입니다.\n",
      "일반(인스턴스=객체)메소드 = 홍길동는 30살 남자입니다.\n",
      "static 메소드 - 홍길동는 30살 남자입니다.\n",
      "static 메소드 - 홍길동는 30살 남자입니다.\n"
     ]
    }
   ],
   "source": [
    "p1.name = '김말동'\n",
    "p1.age += 1\n",
    "p1.print_info()\n",
    "p2.print_info()\n",
    "p2.that_() #static 메소드는 객체를 통해서도, 클래스를 통해서도 호출가능\n",
    "Person.that_() #static 메소드"
   ]
  },
  {
   "cell_type": "code",
   "execution_count": 15,
   "metadata": {
    "ExecuteTime": {
     "end_time": "2021-02-26T00:59:32.596596Z",
     "start_time": "2021-02-26T00:59:32.592606Z"
    }
   },
   "outputs": [
    {
     "name": "stdout",
     "output_type": "stream",
     "text": [
      "클래스 메소드 - 신사임당는 517살 여자입니다\n"
     ]
    }
   ],
   "source": [
    "Person.do_() #클래스 메소드"
   ]
  },
  {
   "cell_type": "code",
   "execution_count": 16,
   "metadata": {
    "ExecuteTime": {
     "end_time": "2021-02-26T00:59:33.204179Z",
     "start_time": "2021-02-26T00:59:33.200207Z"
    }
   },
   "outputs": [
    {
     "name": "stdout",
     "output_type": "stream",
     "text": [
      "일반(인스턴스=객체)메소드 = 김말동는 31살 여자입니다.\n",
      "일반(인스턴스=객체)메소드 = 신사임당는 517살 여자입니다.\n"
     ]
    }
   ],
   "source": [
    "p1.print_info()\n",
    "p2.print_info()"
   ]
  },
  {
   "cell_type": "code",
   "execution_count": 17,
   "metadata": {
    "ExecuteTime": {
     "end_time": "2021-02-26T00:59:33.844292Z",
     "start_time": "2021-02-26T00:59:33.839305Z"
    }
   },
   "outputs": [
    {
     "name": "stdout",
     "output_type": "stream",
     "text": [
      "일반(인스턴스=객체)메소드 = 김말동는 31살 남자입니다.\n",
      "일반(인스턴스=객체)메소드 = 이순신는 477살 남자입니다.\n"
     ]
    }
   ],
   "source": [
    "Person.name = \"이순신\"\n",
    "Person.gender = \"남자\"\n",
    "Person.age = 477\n",
    "p1.print_info()\n",
    "p2.print_info()"
   ]
  },
  {
   "cell_type": "markdown",
   "metadata": {},
   "source": [
    "# 3절 생성자 ( _ _init_ _ ())와 소멸자( _ _del_ _ ())\n",
    "#### (마크다운에서 _ _ 연결해서 쓰면 사라짐, 그래서 구별하기쉽게 표현함)\n",
    "- 생성자 함수 : _ _ init _ _ (self[,매개변수1, ...]) 객체가 생성될때 자동 실행.\n",
    "            생성시 필요한 코드(객체멤버의 초기화)를 포함.\n",
    "- 소멸자 함수 : _ _ del _ _(self) 객체가 소멸될 떄 자동 실행.\n",
    "            소멸시 필요한 코드를 포함\n",
    "            인스턴스 객체의 레퍼런스 카운트가 0이 될때 실행."
   ]
  },
  {
   "cell_type": "code",
   "execution_count": 18,
   "metadata": {
    "ExecuteTime": {
     "end_time": "2021-02-26T01:13:23.572631Z",
     "start_time": "2021-02-26T01:13:23.568662Z"
    }
   },
   "outputs": [],
   "source": [
    "class Person:\n",
    "    def __init__(self): #생성자 함수\n",
    "        print(\"Person 객체를 생성합니다.\")\n",
    "        self.name = \"홍길동\" #일반 변수.\n",
    "        self.gender = \"남자\" \n",
    "    def __del__(self): # 소멸자 함수\n",
    "        print(\"Person 객체를 소멸시킵니다.\")\n",
    "    def print_info(self):\n",
    "        print(\"일반메소드 - {}님은 {}입니다\".format(self.name, self.gender))"
   ]
  },
  {
   "cell_type": "code",
   "execution_count": 19,
   "metadata": {
    "ExecuteTime": {
     "end_time": "2021-02-26T01:15:05.628735Z",
     "start_time": "2021-02-26T01:15:05.624727Z"
    }
   },
   "outputs": [
    {
     "name": "stdout",
     "output_type": "stream",
     "text": [
      "Person 객체를 생성합니다.\n",
      "일반메소드 - 홍길동님은 남자입니다\n"
     ]
    }
   ],
   "source": [
    "p1 = Person() #(\"홍길동\") 하면 오류나옴.\n",
    "p1.print_info()"
   ]
  },
  {
   "cell_type": "code",
   "execution_count": 20,
   "metadata": {
    "ExecuteTime": {
     "end_time": "2021-02-26T01:16:10.826376Z",
     "start_time": "2021-02-26T01:16:10.823371Z"
    }
   },
   "outputs": [
    {
     "name": "stdout",
     "output_type": "stream",
     "text": [
      "일반메소드 - 김길동님은 남자입니다\n"
     ]
    }
   ],
   "source": [
    "p1.name = \"김길동\" # 홍길동이라는 데이터를 바꾸고싶으면 이렇게.\n",
    "p1.print_info()"
   ]
  },
  {
   "cell_type": "code",
   "execution_count": 21,
   "metadata": {
    "ExecuteTime": {
     "end_time": "2021-02-26T01:16:57.168401Z",
     "start_time": "2021-02-26T01:16:57.159425Z"
    }
   },
   "outputs": [
    {
     "data": {
      "text/plain": [
       "(__main__.Person, True)"
      ]
     },
     "execution_count": 21,
     "metadata": {},
     "output_type": "execute_result"
    }
   ],
   "source": [
    "type(p1), isinstance(p1, Person) "
   ]
  },
  {
   "cell_type": "code",
   "execution_count": 22,
   "metadata": {
    "ExecuteTime": {
     "end_time": "2021-02-26T01:18:04.975947Z",
     "start_time": "2021-02-26T01:18:04.959242Z"
    }
   },
   "outputs": [],
   "source": [
    "del p1 #객체 소멸."
   ]
  },
  {
   "cell_type": "code",
   "execution_count": 24,
   "metadata": {
    "ExecuteTime": {
     "end_time": "2021-02-26T01:18:38.835485Z",
     "start_time": "2021-02-26T01:18:38.831496Z"
    }
   },
   "outputs": [
    {
     "name": "stdout",
     "output_type": "stream",
     "text": [
      "Person 객체를 생성합니다.\n",
      "Person 객체를 소멸시킵니다.\n"
     ]
    }
   ],
   "source": [
    "p1 = Person() # 전에 있던 객체가 없어져야해서 소멸자 함수 실행."
   ]
  },
  {
   "cell_type": "code",
   "execution_count": 25,
   "metadata": {
    "ExecuteTime": {
     "end_time": "2021-02-26T01:20:32.635271Z",
     "start_time": "2021-02-26T01:20:32.631281Z"
    }
   },
   "outputs": [],
   "source": [
    "# 인스턴스 객체의 레퍼런스 카운트가 현재 2.\n",
    "p2 = p1 # p1주소를 p2 에 넣음 , 따라서 둘다 같은 주소.\n",
    "# p1 을 지웠다고해서 객체 전체가 사라지지는 않는다. 둘다 없어야 객체가 사라진다.\n",
    "# 이말이 인스턴스 객체의 레퍼런스 카운트가 0이 될때 실행."
   ]
  },
  {
   "cell_type": "code",
   "execution_count": 27,
   "metadata": {
    "ExecuteTime": {
     "end_time": "2021-02-26T01:22:39.570828Z",
     "start_time": "2021-02-26T01:22:39.566860Z"
    }
   },
   "outputs": [],
   "source": [
    "del p1"
   ]
  },
  {
   "cell_type": "code",
   "execution_count": 28,
   "metadata": {
    "ExecuteTime": {
     "end_time": "2021-02-26T01:22:42.086869Z",
     "start_time": "2021-02-26T01:22:42.071020Z"
    }
   },
   "outputs": [],
   "source": [
    "del p2"
   ]
  },
  {
   "cell_type": "markdown",
   "metadata": {},
   "source": [
    "**★ 생성자 함수를 통한 멤버변수의 초기화 ★** <br>\n",
    "**★ 파이썬은 함수를 (똑같은 함수를)중복정의(오버로딩) 불가. ★** <br>\n",
    "**★ 생성자 함수도 중복정의 불가 ★** <br>"
   ]
  },
  {
   "cell_type": "code",
   "execution_count": 1,
   "metadata": {
    "ExecuteTime": {
     "end_time": "2021-02-26T01:53:03.892588Z",
     "start_time": "2021-02-26T01:53:03.887602Z"
    }
   },
   "outputs": [],
   "source": [
    "class Person:\n",
    "#     def __init__(self): #매개변수 없는 생성자 함수  ctl +/ : 드래그 전체 주석\n",
    "#         print(\"Person 객체를 생성합니다.\")\n",
    "#         self.name = \"홍길동\"  \n",
    "#         self.gender = \"남자\"\n",
    "#     def __init__(self, name): #매개변수 1개로 호출될 생성자 함수\n",
    "#         print(\"Person 객체를 생성합니다.\")\n",
    "#         self.name = name  # java => this.name = name.\n",
    "#         self.gender = \"남자\"\n",
    "    def __init__(self, name=\"홍길동\", gender=\"남자\"): #매개변수 2개로 호출될 생성자 함수\n",
    "        print(\"Person 객체를 생성합니다.\")\n",
    "        self.name = name  # java => this.name = name.\n",
    "        self.gender = gender\n",
    "    def __del__(self): # 소멸자 함수\n",
    "        print(\"Person 객체를 소멸시킵니다.\")\n",
    "    def print_info(self):\n",
    "        print(\"일반메소드 - {}님은 {}입니다\".format(self.name, self.gender))\n",
    "    def __str__(self):\n",
    "        return \"일반메소드 - {}님은 {}입니다\".format(self.name, self.gender)"
   ]
  },
  {
   "cell_type": "code",
   "execution_count": 2,
   "metadata": {
    "ExecuteTime": {
     "end_time": "2021-02-26T01:53:07.724391Z",
     "start_time": "2021-02-26T01:53:07.720422Z"
    }
   },
   "outputs": [
    {
     "name": "stdout",
     "output_type": "stream",
     "text": [
      "Person 객체를 생성합니다.\n",
      "Person 객체를 생성합니다.\n",
      "Person 객체를 생성합니다.\n"
     ]
    }
   ],
   "source": [
    "p1 = Person(\"김길동\",\"남자\")\n",
    "p2 = Person(name = \"박길동\")\n",
    "p3 = Person()"
   ]
  },
  {
   "cell_type": "code",
   "execution_count": 4,
   "metadata": {
    "ExecuteTime": {
     "end_time": "2021-02-26T01:53:19.201974Z",
     "start_time": "2021-02-26T01:53:19.186337Z"
    }
   },
   "outputs": [
    {
     "name": "stdout",
     "output_type": "stream",
     "text": [
      "일반메소드 - 김길동님은 남자입니다\n",
      "일반메소드 - 김길동님은 남자입니다\n"
     ]
    }
   ],
   "source": [
    "print(p1)\n",
    "p1.print_info()"
   ]
  },
  {
   "cell_type": "code",
   "execution_count": 5,
   "metadata": {
    "ExecuteTime": {
     "end_time": "2021-02-26T01:55:59.554676Z",
     "start_time": "2021-02-26T01:55:59.551672Z"
    }
   },
   "outputs": [
    {
     "name": "stdout",
     "output_type": "stream",
     "text": [
      "일반메소드 - 박길동님은 남자입니다\n",
      "일반메소드 - 홍길동님은 남자입니다\n"
     ]
    }
   ],
   "source": [
    "print(p2)\n",
    "print(p3)"
   ]
  },
  {
   "cell_type": "markdown",
   "metadata": {},
   "source": [
    "# 4절. 상속과 재정의"
   ]
  },
  {
   "cell_type": "code",
   "execution_count": 1,
   "metadata": {
    "ExecuteTime": {
     "end_time": "2021-02-26T02:04:32.464361Z",
     "start_time": "2021-02-26T02:04:32.459376Z"
    }
   },
   "outputs": [],
   "source": [
    "class Person:\n",
    "    def __init__(self, name=\"홍길동\", gender=\"남자\"): #매개변수 2개로 호출될 생성자 함수\n",
    "        print(\"Person 객체를 생성합니다.\")\n",
    "        self.name = name  # java => this.name = name.\n",
    "        self.gender = gender\n",
    "    def __del__(self): # 소멸자 함수\n",
    "        print(\"Person 객체를 소멸시킵니다.\")\n",
    "    def print_info(self):\n",
    "        print(\"일반메소드 - {}님은 {}입니다\".format(self.name, self.gender))\n",
    "    def __str__(self):\n",
    "        return \"일반메소드 - {}님은 {}입니다\".format(self.name, self.gender)"
   ]
  },
  {
   "cell_type": "code",
   "execution_count": 2,
   "metadata": {
    "ExecuteTime": {
     "end_time": "2021-02-26T02:04:33.305272Z",
     "start_time": "2021-02-26T02:04:33.302268Z"
    }
   },
   "outputs": [
    {
     "name": "stdout",
     "output_type": "stream",
     "text": [
      "Person 객체를 생성합니다.\n"
     ]
    }
   ],
   "source": [
    "p1 = Person(\"홍길동\", \"남자\") #매개변수 없으면 오류나옴."
   ]
  },
  {
   "cell_type": "code",
   "execution_count": 3,
   "metadata": {
    "ExecuteTime": {
     "end_time": "2021-02-26T02:04:34.162339Z",
     "start_time": "2021-02-26T02:04:34.158363Z"
    }
   },
   "outputs": [],
   "source": [
    "class Student(Person): #(Person) 상속받을 class.\n",
    "    pass"
   ]
  },
  {
   "cell_type": "code",
   "execution_count": 4,
   "metadata": {
    "ExecuteTime": {
     "end_time": "2021-02-26T02:04:35.175947Z",
     "start_time": "2021-02-26T02:04:35.166971Z"
    }
   },
   "outputs": [
    {
     "data": {
      "text/plain": [
       "True"
      ]
     },
     "execution_count": 4,
     "metadata": {},
     "output_type": "execute_result"
    }
   ],
   "source": [
    "issubclass(Student, Person)"
   ]
  },
  {
   "cell_type": "code",
   "execution_count": 6,
   "metadata": {
    "ExecuteTime": {
     "end_time": "2021-02-26T02:04:53.259818Z",
     "start_time": "2021-02-26T02:04:53.255854Z"
    }
   },
   "outputs": [
    {
     "name": "stdout",
     "output_type": "stream",
     "text": [
      "Person 객체를 생성합니다.\n",
      "Person 객체를 소멸시킵니다.\n"
     ]
    }
   ],
   "source": [
    "s1 = Student() # super 클래스의 init 까지 상속."
   ]
  },
  {
   "cell_type": "code",
   "execution_count": 8,
   "metadata": {
    "ExecuteTime": {
     "end_time": "2021-02-26T02:05:06.426543Z",
     "start_time": "2021-02-26T02:05:06.423551Z"
    }
   },
   "outputs": [
    {
     "name": "stdout",
     "output_type": "stream",
     "text": [
      "Person 객체를 생성합니다.\n"
     ]
    }
   ],
   "source": [
    "s1 = Student(\"이순신\",\"남자\")"
   ]
  },
  {
   "cell_type": "code",
   "execution_count": 9,
   "metadata": {
    "ExecuteTime": {
     "end_time": "2021-02-26T02:05:07.578729Z",
     "start_time": "2021-02-26T02:05:07.574739Z"
    }
   },
   "outputs": [
    {
     "name": "stdout",
     "output_type": "stream",
     "text": [
      "일반메소드 - 이순신님은 남자입니다\n"
     ]
    }
   ],
   "source": [
    "s1.print_info()"
   ]
  },
  {
   "cell_type": "code",
   "execution_count": 11,
   "metadata": {
    "ExecuteTime": {
     "end_time": "2021-02-26T02:06:07.595978Z",
     "start_time": "2021-02-26T02:06:07.590991Z"
    }
   },
   "outputs": [],
   "source": [
    "class Person:\n",
    "    \"name 과 gender를 갖는 Person 타입\"\n",
    "    def __init__(self, name=\"홍길동\", gender=\"남자\"): #매개변수 2개로 호출될 생성자 함수\n",
    "        print(\"Person 객체를 생성합니다.\")\n",
    "        self.name = name  # java => this.name = name.\n",
    "        self.gender = gender\n",
    "    def __del__(self): # 소멸자 함수\n",
    "        print(\"Person 객체를 소멸시킵니다.\")\n",
    "    def print_info(self):\n",
    "        print(\"일반메소드 - {}님은 {}입니다\".format(self.name, self.gender))\n",
    "    def __str__(self):\n",
    "        return \"일반메소드 - {}님은 {}입니다\".format(self.name, self.gender)"
   ]
  },
  {
   "cell_type": "code",
   "execution_count": 13,
   "metadata": {
    "ExecuteTime": {
     "end_time": "2021-02-26T02:14:47.219808Z",
     "start_time": "2021-02-26T02:14:47.214840Z"
    }
   },
   "outputs": [],
   "source": [
    "class Student(Person): # 전체를 재정의 했다.\n",
    "    \"name 과 gender 에 major 변수를 갖는 Student 타입\"\n",
    "    def __init__(self, name, gender, major):\n",
    "        self.name = name\n",
    "        self.gender = gender\n",
    "        self.major = major\n",
    "    def __del__(self):\n",
    "        pass\n",
    "    def print_info(self): #재정의.\n",
    "        print(\" %s님은 전공 %s에 %s입니다\"% (self.name, self.major, self.gender))\n",
    "    def __str__(self):\n",
    "        return \" %s님은 전공 %s에 %s입니다\"% (self.name, self.major, self.gender)"
   ]
  },
  {
   "cell_type": "code",
   "execution_count": 15,
   "metadata": {
    "ExecuteTime": {
     "end_time": "2021-02-26T02:15:55.763485Z",
     "start_time": "2021-02-26T02:15:55.759496Z"
    }
   },
   "outputs": [
    {
     "name": "stdout",
     "output_type": "stream",
     "text": [
      " 홍길동님은 전공 빅데이터분석에 남자입니다\n",
      " 홍길동님은 전공 빅데이터분석에 남자입니다\n"
     ]
    }
   ],
   "source": [
    "s1 = Student(\"홍길동\", \"남자\", \"빅데이터분석\")\n",
    "print(s1)\n",
    "print(s1.__str__()) #위와 같은 기능."
   ]
  },
  {
   "cell_type": "code",
   "execution_count": 18,
   "metadata": {
    "ExecuteTime": {
     "end_time": "2021-02-26T02:17:18.127653Z",
     "start_time": "2021-02-26T02:17:18.110865Z"
    }
   },
   "outputs": [
    {
     "data": {
      "text/plain": [
       "True"
      ]
     },
     "execution_count": 18,
     "metadata": {},
     "output_type": "execute_result"
    }
   ],
   "source": [
    "isinstance(s1, Student) #s1이 Student 타입이냐\n",
    "isinstance(s1, Person) # s1이 Person 타입이냐"
   ]
  },
  {
   "cell_type": "code",
   "execution_count": null,
   "metadata": {},
   "outputs": [],
   "source": [
    "# super()사용"
   ]
  },
  {
   "cell_type": "code",
   "execution_count": 1,
   "metadata": {
    "ExecuteTime": {
     "end_time": "2021-02-26T02:53:09.036070Z",
     "start_time": "2021-02-26T02:53:09.031083Z"
    }
   },
   "outputs": [],
   "source": [
    "class Person:\n",
    "    \"name 과 gender를 갖는 Person 타입\"\n",
    "    def __init__(self, name, gender): #매개변수 2개로 호출될 생성자 함수\n",
    "        print(\"Person 객체를 생성합니다.\")\n",
    "        self.name = name  # java => this.name = name.\n",
    "        self.gender = gender\n",
    "    def __del__(self): # 소멸자 함수\n",
    "        print(\"Person 객체를 소멸시킵니다.\")\n",
    "    def print_info(self):\n",
    "        print(\"일반메소드 - {}님은 {}입니다\".format(self.name, self.gender))\n",
    "    def __str__(self):\n",
    "        return \"일반메소드 - {}님은 {}입니다\".format(self.name, self.gender)"
   ]
  },
  {
   "cell_type": "code",
   "execution_count": 2,
   "metadata": {
    "ExecuteTime": {
     "end_time": "2021-02-26T02:53:10.578987Z",
     "start_time": "2021-02-26T02:53:10.574000Z"
    }
   },
   "outputs": [],
   "source": [
    "class Student(Person): # 전체를 재정의 했다.\n",
    "    \"name 과 gender 에 major 변수를 갖는 Student 타입\"\n",
    "    def __init__(self, name, gender, major):\n",
    "        #부모 클래스의 생성자를 호출하여 자식클래스의 생성자를 쉽게.\n",
    "        Person.__init__(self, name, gender) # 클래스이름을 넣을시\n",
    "        self.major = major                 #  __init__(self, name, gender) 똑같이 기입. \n",
    "    def __del__(self):\n",
    "        pass\n",
    "    def print_info(self): #재정의.\n",
    "        print(\" %s님은 전공 %s에 %s입니다\"% (self.name, self.major, self.gender))\n",
    "    def __str__(self):\n",
    "        return super().__str__() + \" 전공은 {}입니다\".format(self.major)\n",
    "        #return Person.__str__(self) + \"전공은 {}입니다\".format(self.major)"
   ]
  },
  {
   "cell_type": "code",
   "execution_count": 30,
   "metadata": {
    "ExecuteTime": {
     "end_time": "2021-02-26T02:27:08.082301Z",
     "start_time": "2021-02-26T02:27:08.078312Z"
    }
   },
   "outputs": [
    {
     "name": "stdout",
     "output_type": "stream",
     "text": [
      "Person 객체를 생성합니다.\n",
      "일반메소드 - 김철수님은 남자입니다 전공은 통계입니다\n"
     ]
    }
   ],
   "source": [
    "s1 = Student(\"김철수\",\"남자\",\"통계\")\n",
    "print(s1)"
   ]
  },
  {
   "cell_type": "markdown",
   "metadata": {},
   "source": [
    "**static 변수 : 여러객체들 사이에 데이터를 공유하고 싶을 때 사용.**\n",
    "- 클래스변수이름 앞에 under score 2개(__)붙이면 내부적으로 클래스명._클래스명 변수 이름으로 참조"
   ]
  },
  {
   "cell_type": "code",
   "execution_count": 3,
   "metadata": {
    "ExecuteTime": {
     "end_time": "2021-02-26T02:53:13.379907Z",
     "start_time": "2021-02-26T02:53:13.373922Z"
    }
   },
   "outputs": [],
   "source": [
    "class Student(Person): # 전체를 재정의 했다.\n",
    "    \"name 과 gender 에 major 변수를 갖는 Student 타입(객체 갯수도 포함)\"\n",
    "    __count = 0; # (정적변수) static 변수\n",
    "    def __init__(self, name, gender, major):\n",
    "        #부모 클래스의 생성자를 호출하여 자식클래스의 생성자를 쉽게.\n",
    "        Student._Student__count += 1 #인스턴스가 생성 될때 마다, 카운트 갯수 1씩 증가.\n",
    "        Person.__init__(self, name, gender) # 클래스이름을 넣을시\n",
    "        self.major = major                 #  __init__(self, name, gender) 똑같이 기입. \n",
    "    def __del__(self):\n",
    "        Student._Student__count -= 1 #객체가 소멸 될때 마다, 카운트 갯수 1씩 감소.\n",
    "    def print_info(self): #재정의.\n",
    "        print(\" %s님은 전공 %s에 %s입니다\"% (self.name, self.major, self.gender))\n",
    "    def __str__(self):\n",
    "        return super().__str__() + \" 전공은 {}입니다\".format(self.major)\n",
    "        #return Person.__str__(self) + \"전공은 {}입니다\".format(self.major)\n",
    "    @classmethod\n",
    "    def get_count(cls):\n",
    "        return Student._Student__count"
   ]
  },
  {
   "cell_type": "code",
   "execution_count": 4,
   "metadata": {
    "ExecuteTime": {
     "end_time": "2021-02-26T02:53:15.713705Z",
     "start_time": "2021-02-26T02:53:15.709716Z"
    }
   },
   "outputs": [
    {
     "name": "stdout",
     "output_type": "stream",
     "text": [
      "Person 객체를 생성합니다.\n",
      "일반메소드 - 홍길동님은 남자입니다 전공은 빅데이터입니다\n",
      "객체 갯수 :  1\n"
     ]
    }
   ],
   "source": [
    "s1 = Student(\"홍길동\",\"남자\",\"빅데이터\")\n",
    "print(s1)\n",
    "print(\"객체 갯수 : \",Student.get_count())"
   ]
  },
  {
   "cell_type": "code",
   "execution_count": 5,
   "metadata": {
    "ExecuteTime": {
     "end_time": "2021-02-26T02:53:17.482330Z",
     "start_time": "2021-02-26T02:53:17.478341Z"
    }
   },
   "outputs": [
    {
     "name": "stdout",
     "output_type": "stream",
     "text": [
      "Person 객체를 생성합니다.\n",
      " 홍길순님은 전공 통계에 여자입니다\n",
      "객체 갯수 :  2\n"
     ]
    }
   ],
   "source": [
    "s2 = Student(\"홍길순\",\"여자\",\"통계\")\n",
    "s2.print_info()\n",
    "print('객체 갯수 : ',s2.get_count())"
   ]
  },
  {
   "cell_type": "code",
   "execution_count": 6,
   "metadata": {
    "ExecuteTime": {
     "end_time": "2021-02-26T02:53:23.202710Z",
     "start_time": "2021-02-26T02:53:23.197748Z"
    }
   },
   "outputs": [
    {
     "name": "stdout",
     "output_type": "stream",
     "text": [
      "Person 객체를 생성합니다.\n",
      " 홍길순님은 전공 통계에 여자입니다\n",
      "객체 갯수 :  3\n",
      "객체 갯수 :  3\n",
      "객체 갯수 :  3\n"
     ]
    }
   ],
   "source": [
    "s3 = Student(\"홍길순\",\"여자\",\"통계\")\n",
    "s3.print_info()\n",
    "print('객체 갯수 : ',s2.get_count())\n",
    "print('객체 갯수 : ',s3.get_count())\n",
    "print('객체 갯수 : ',Student.get_count()) #get_count 공유."
   ]
  },
  {
   "cell_type": "code",
   "execution_count": 7,
   "metadata": {
    "ExecuteTime": {
     "end_time": "2021-02-26T02:53:30.378957Z",
     "start_time": "2021-02-26T02:53:30.374987Z"
    }
   },
   "outputs": [
    {
     "name": "stdout",
     "output_type": "stream",
     "text": [
      "객체 갯수 :  2\n"
     ]
    }
   ],
   "source": [
    "del s3\n",
    "print('객체 갯수 : ',Student.get_count())"
   ]
  },
  {
   "cell_type": "markdown",
   "metadata": {},
   "source": [
    "### 연습문제(실습형)\n",
    "<pre>\n",
    "- 1. 다음조건을 만족하는 클래스를 작성.\n",
    "- 도형(shape)클래스와 삼각형(Triangle) 클래스를 생성.\n",
    "- 도형 클래스는 생성자를 통해 x,y 좌표를 정할 수 있다. x,y 좌표의 기본값은 0,0 \n",
    "- 도형 클래스는 x,y 좌표를 이동 시킬수 있어야 한다.\n",
    "- 도형 클래스는 x,y 좌표 정보를 문자열로 리턴하는 str() 메소드가 있어야한다.\n",
    "- 모든 도형 클래스는 도형의 면적을 구하는 메소드(cacl_area())가 있어야한다. 다만,\n",
    "- 도형 클래스의 메소드는 구현되어 있지 않으므로 호출하면 오류발생.\n",
    "\n",
    "- 도형 클래스에 정적 메소드를 하나이상 구현.\n",
    "- '삼각형 클래스는 도형 클래스이다' 라는 관계가 성립해야한다.\n",
    "- 삼각형 클래스는 삼각형의 밑변의 길이와 높이를 생성자를 통해 정할 수 있어야 한다.\n",
    "- 삼각형 객체를 만들때 좌표 정보x,y 는 기본값0,0 을 가질 수 있다.\n",
    "- 삼각형의 면적을 구하는 메소드를 추가해야한다.\n",
    "- 삼각형의 정보를 문자열로 반환하는 str() 메소드가 있어야한다.\n",
    "- 삼각형 객체가 몇개가 있는지 정보를 저장하는 클래스 변수를 추가하고 생성자에서,\n",
    "- 객체를 만들때마다 증가시키며, 소멸자에서도 객체를 소멸시킬때마다 감소 시켜야한다.\n",
    "</pre>"
   ]
  },
  {
   "cell_type": "code",
   "execution_count": 10,
   "metadata": {
    "ExecuteTime": {
     "end_time": "2021-02-26T13:54:20.897532Z",
     "start_time": "2021-02-26T13:54:20.877583Z"
    }
   },
   "outputs": [],
   "source": [
    "class shape:\n",
    "    def __init__(self, x = 0, y = 0):\n",
    "        self.x = x\n",
    "        self.y = y\n",
    "    def __str__(self):\n",
    "        return 'x좌표 : {}, y좌표 : {}'.format(self.x, self.y)\n",
    "    \n",
    "    def move(self, x, y):\n",
    "        self.x += x\n",
    "        self.y += y\n",
    "\n",
    "    def cacl_area(self):\n",
    "        #shape 객체는 넓이를 계산할 수 없다. Triangle 객체가 각자의 방식으로 해야한다.\n",
    "        raise Exception('이 메소드는 반드시 구현되어야한다.')\n",
    "    \n",
    "    @staticmethod\n",
    "    def staticmethod_():\n",
    "        print(\"도형 클래스 staticmethod 호출\")"
   ]
  },
  {
   "cell_type": "code",
   "execution_count": 11,
   "metadata": {
    "ExecuteTime": {
     "end_time": "2021-02-26T13:54:34.287047Z",
     "start_time": "2021-02-26T13:54:34.276105Z"
    }
   },
   "outputs": [],
   "source": [
    "class Triangle(shape):\n",
    "    __count = 0\n",
    "    def __init__(self, width, height, x = 0, y = 0 ):\n",
    "        Triangle._Triangle__count += 1\n",
    "        shape.__init__(self, x , y)\n",
    "        self.width = width\n",
    "        self.height = height\n",
    "    def __del__(self):\n",
    "        Triangle._Triangle__count -= 1\n",
    "    def __str__(self):\n",
    "#       return shape.__str__(self) + \",width:{}, height:{}\".format(self.width,\n",
    "#                                                                    self.height) \n",
    "        return super().__str__() + \", width:{}, height:{}\".format(self.width,\n",
    "                                                                   self.height)\n",
    "    def calc_area(self):\n",
    "        return (self.width*self.height)/2\n",
    "    @classmethod\n",
    "    def get_count(cls):\n",
    "        return cls.__count"
   ]
  },
  {
   "cell_type": "code",
   "execution_count": 12,
   "metadata": {
    "ExecuteTime": {
     "end_time": "2021-02-26T13:54:35.854932Z",
     "start_time": "2021-02-26T13:54:35.850943Z"
    }
   },
   "outputs": [],
   "source": [
    "s1 = shape()"
   ]
  },
  {
   "cell_type": "code",
   "execution_count": 13,
   "metadata": {
    "ExecuteTime": {
     "end_time": "2021-02-26T13:54:39.652832Z",
     "start_time": "2021-02-26T13:54:39.636877Z"
    }
   },
   "outputs": [
    {
     "ename": "Exception",
     "evalue": "이 메소드는 반드시 구현되어야한다.",
     "output_type": "error",
     "traceback": [
      "\u001b[1;31m---------------------------------------------------------------------------\u001b[0m",
      "\u001b[1;31mException\u001b[0m                                 Traceback (most recent call last)",
      "\u001b[1;32m<ipython-input-13-4c9d9284d2be>\u001b[0m in \u001b[0;36m<module>\u001b[1;34m\u001b[0m\n\u001b[1;32m----> 1\u001b[1;33m \u001b[0ms1\u001b[0m\u001b[1;33m.\u001b[0m\u001b[0mcacl_area\u001b[0m\u001b[1;33m(\u001b[0m\u001b[1;33m)\u001b[0m \u001b[1;31m#calc_area() 호출시 오류 발생\u001b[0m\u001b[1;33m\u001b[0m\u001b[1;33m\u001b[0m\u001b[0m\n\u001b[0m",
      "\u001b[1;32m<ipython-input-10-416cbc91e553>\u001b[0m in \u001b[0;36mcacl_area\u001b[1;34m(self)\u001b[0m\n\u001b[0;32m     12\u001b[0m     \u001b[1;32mdef\u001b[0m \u001b[0mcacl_area\u001b[0m\u001b[1;33m(\u001b[0m\u001b[0mself\u001b[0m\u001b[1;33m)\u001b[0m\u001b[1;33m:\u001b[0m\u001b[1;33m\u001b[0m\u001b[1;33m\u001b[0m\u001b[0m\n\u001b[0;32m     13\u001b[0m         \u001b[1;31m#shape 객체는 넓이를 계산할 수 없다. Triangle 객체가 각자의 방식으로 해야한다.\u001b[0m\u001b[1;33m\u001b[0m\u001b[1;33m\u001b[0m\u001b[1;33m\u001b[0m\u001b[0m\n\u001b[1;32m---> 14\u001b[1;33m         \u001b[1;32mraise\u001b[0m \u001b[0mException\u001b[0m\u001b[1;33m(\u001b[0m\u001b[1;34m'이 메소드는 반드시 구현되어야한다.'\u001b[0m\u001b[1;33m)\u001b[0m\u001b[1;33m\u001b[0m\u001b[1;33m\u001b[0m\u001b[0m\n\u001b[0m\u001b[0;32m     15\u001b[0m \u001b[1;33m\u001b[0m\u001b[0m\n\u001b[0;32m     16\u001b[0m     \u001b[1;33m@\u001b[0m\u001b[0mstaticmethod\u001b[0m\u001b[1;33m\u001b[0m\u001b[1;33m\u001b[0m\u001b[0m\n",
      "\u001b[1;31mException\u001b[0m: 이 메소드는 반드시 구현되어야한다."
     ]
    }
   ],
   "source": [
    "s1.cacl_area() #calc_area() 호출시 오류 발생"
   ]
  },
  {
   "cell_type": "code",
   "execution_count": 16,
   "metadata": {
    "ExecuteTime": {
     "end_time": "2021-02-26T13:57:50.328798Z",
     "start_time": "2021-02-26T13:57:50.315865Z"
    }
   },
   "outputs": [],
   "source": [
    "t1 = Triangle(10, 20)\n",
    "t2 = Triangle(3, 4, 5, 5)"
   ]
  },
  {
   "cell_type": "code",
   "execution_count": 17,
   "metadata": {
    "ExecuteTime": {
     "end_time": "2021-02-26T13:57:51.731095Z",
     "start_time": "2021-02-26T13:57:51.716135Z"
    }
   },
   "outputs": [
    {
     "name": "stdout",
     "output_type": "stream",
     "text": [
      "x좌표 : 0, y좌표 : 0, width:10, height:20\n",
      "x좌표 : 5, y좌표 : 5, width:3, height:4\n",
      "Triangle 객체 갯수 :  2\n",
      "Triangle 객체 갯수 :  2\n",
      "Triangle 객체 갯수 :  2\n"
     ]
    }
   ],
   "source": [
    "print(t1)\n",
    "print(t2)\n",
    "print(\"Triangle 객체 갯수 : \", Triangle.get_count())\n",
    "print(\"Triangle 객체 갯수 : \", t1.get_count())\n",
    "print(\"Triangle 객체 갯수 : \", t2.get_count())"
   ]
  },
  {
   "cell_type": "code",
   "execution_count": 18,
   "metadata": {
    "ExecuteTime": {
     "end_time": "2021-02-26T13:58:08.682087Z",
     "start_time": "2021-02-26T13:58:08.676132Z"
    }
   },
   "outputs": [],
   "source": [
    "t1.move(50,50)"
   ]
  },
  {
   "cell_type": "code",
   "execution_count": 19,
   "metadata": {
    "ExecuteTime": {
     "end_time": "2021-02-26T13:58:14.254535Z",
     "start_time": "2021-02-26T13:58:14.243564Z"
    }
   },
   "outputs": [
    {
     "name": "stdout",
     "output_type": "stream",
     "text": [
      "x좌표 : 50, y좌표 : 50, width:10, height:20\n"
     ]
    }
   ],
   "source": [
    "print(t1)"
   ]
  },
  {
   "cell_type": "markdown",
   "metadata": {},
   "source": [
    "### 연습문제(서술형)"
   ]
  },
  {
   "cell_type": "code",
   "execution_count": 24,
   "metadata": {
    "ExecuteTime": {
     "end_time": "2021-02-26T14:13:38.156775Z",
     "start_time": "2021-02-26T14:13:38.150792Z"
    }
   },
   "outputs": [],
   "source": [
    "#1. 다음 중 올바른 클래스 정의는? (1)\n",
    "#(1) class Person:\n",
    "#(2) class Person():\n",
    "#(3) p1 = Person()\n",
    "#(4) def Person:"
   ]
  },
  {
   "cell_type": "code",
   "execution_count": 23,
   "metadata": {
    "ExecuteTime": {
     "end_time": "2021-02-26T14:13:37.176176Z",
     "start_time": "2021-02-26T14:13:37.170194Z"
    }
   },
   "outputs": [],
   "source": [
    "#2. 다음 중 Person 클래스의 객체를 생성하는 올바른 방법은? (2)\n",
    "#(1) p1 = Person\n",
    "#(2) p1 = Person()\n",
    "#(3) Person.p1\n",
    "#(4) p1 = Person.__init__()"
   ]
  },
  {
   "cell_type": "code",
   "execution_count": 22,
   "metadata": {
    "ExecuteTime": {
     "end_time": "2021-02-26T14:13:26.697306Z",
     "start_time": "2021-02-26T14:13:26.692320Z"
    }
   },
   "outputs": [],
   "source": [
    "#3. 다음중 인스턴스 메소드를 선언하는 가장 올바른 방법은? (4)\n",
    "#(1) def print_info():\n",
    "#(2) @instancemethod\n",
    "#        def print_info():\n",
    "#(3) @method\n",
    "#        def print_info():\n",
    "#(4) def print_info(self):        \n"
   ]
  },
  {
   "cell_type": "code",
   "execution_count": 20,
   "metadata": {
    "ExecuteTime": {
     "end_time": "2021-02-26T14:11:09.562244Z",
     "start_time": "2021-02-26T14:11:09.545288Z"
    }
   },
   "outputs": [],
   "source": [
    "# 4. 다음중 생성자와 소멸자에 대해 잘 못 설명한 것은? (1)\n",
    "#(1) 생성자는 중복(Overloading) 정의해서 사용할 수 있다.\n",
    "#(2) 소멸자는 객체 참조 수가 0이면 실행된다.\n",
    "#(3) 생상자의 원형은 __init__(self) 이다.\n",
    "#(4) 생성자는 객체의 변수(또는 속성)를 초기화 하는데 사용한다."
   ]
  },
  {
   "cell_type": "code",
   "execution_count": 21,
   "metadata": {
    "ExecuteTime": {
     "end_time": "2021-02-26T14:13:22.890757Z",
     "start_time": "2021-02-26T14:13:22.876793Z"
    }
   },
   "outputs": [],
   "source": [
    "# 5. 다음중 \"Student is Person\"을 클래스 상속으로 바르게 표현한 것은? (2)\n",
    "# (1) class Person(Student):\n",
    "# (2) class Stundent(Person):\n",
    "# (3) class Person Student:\n",
    "# (4) class Student: Person:"
   ]
  },
  {
   "cell_type": "code",
   "execution_count": 25,
   "metadata": {
    "ExecuteTime": {
     "end_time": "2021-02-26T14:15:48.837409Z",
     "start_time": "2021-02-26T14:15:48.833420Z"
    }
   },
   "outputs": [],
   "source": [
    "# 6. 다음중 상속과 재정의(Overriding)에 대해 잘 못 설명한것은? (3)\n",
    "#(1) 부모클래스의 메소드를 자식클래스에서 정의하는것을 '재정의'라고 한다.\n",
    "#(2) 메소드의 재정의는 상속을 전제로 한다.\n",
    "#(3) 재정의는 메소드의 이름은 같고, 매개변수의 수는 다르게 정의해야 한다.\n",
    "#(4) super()를 이용하면 부모의 멤버를 호출할 수 있다."
   ]
  },
  {
   "cell_type": "code",
   "execution_count": 26,
   "metadata": {
    "ExecuteTime": {
     "end_time": "2021-02-26T14:17:12.884848Z",
     "start_time": "2021-02-26T14:17:12.864901Z"
    }
   },
   "outputs": [],
   "source": [
    "# 7. 다음클래스의 메소드를 호출하는 방법중 잘 못 한것은? (3)\n",
    "class SomeClass:\n",
    "    def method_a(self):\n",
    "        print(\"method_a\")\n",
    "        \n",
    "    @classmethod\n",
    "    def method_b(cls):\n",
    "        print(\"method_b\")"
   ]
  },
  {
   "cell_type": "code",
   "execution_count": 28,
   "metadata": {
    "ExecuteTime": {
     "end_time": "2021-02-26T14:18:51.676265Z",
     "start_time": "2021-02-26T14:18:51.662271Z"
    }
   },
   "outputs": [],
   "source": [
    "obj = SomeClass()\n",
    "#(1) obj.method_a()\n",
    "#(2) obj.method_b()\n",
    "#(3) SomeClass.method_a()\n",
    "#(4) SomeClass.method_b()"
   ]
  },
  {
   "cell_type": "code",
   "execution_count": 33,
   "metadata": {
    "ExecuteTime": {
     "end_time": "2021-02-26T14:23:31.136877Z",
     "start_time": "2021-02-26T14:23:31.119893Z"
    }
   },
   "outputs": [],
   "source": [
    "# 8. 두 클래스와 코드의 실행결과 다음과 같이 출력되도록 해야 한다면 빈칸 넣을 수 없는것을 고르시오.\n",
    "class Super:\n",
    "    def do_(self, a):\n",
    "        print(\"super.do_\")\n",
    "class Sub(Super):\n",
    "    def do_(self, a):\n",
    "        #Super.do_(self, a)\n",
    "        super().do_(a)\n",
    "        print(\"sub.do_\")"
   ]
  },
  {
   "cell_type": "code",
   "execution_count": 32,
   "metadata": {
    "ExecuteTime": {
     "end_time": "2021-02-26T14:22:44.448642Z",
     "start_time": "2021-02-26T14:22:44.434680Z"
    }
   },
   "outputs": [
    {
     "ename": "NameError",
     "evalue": "name 'sub' is not defined",
     "output_type": "error",
     "traceback": [
      "\u001b[1;31m---------------------------------------------------------------------------\u001b[0m",
      "\u001b[1;31mNameError\u001b[0m                                 Traceback (most recent call last)",
      "\u001b[1;32m<ipython-input-32-1551d5a28a63>\u001b[0m in \u001b[0;36m<module>\u001b[1;34m\u001b[0m\n\u001b[0;32m      1\u001b[0m \u001b[0ms1\u001b[0m \u001b[1;33m=\u001b[0m \u001b[0mSub\u001b[0m\u001b[1;33m(\u001b[0m\u001b[1;33m)\u001b[0m\u001b[1;33m\u001b[0m\u001b[1;33m\u001b[0m\u001b[0m\n\u001b[1;32m----> 2\u001b[1;33m \u001b[0msub\u001b[0m\u001b[1;33m.\u001b[0m\u001b[0mdo_\u001b[0m\u001b[1;33m(\u001b[0m\u001b[1;36m10\u001b[0m\u001b[1;33m)\u001b[0m\u001b[1;33m\u001b[0m\u001b[1;33m\u001b[0m\u001b[0m\n\u001b[0m",
      "\u001b[1;31mNameError\u001b[0m: name 'sub' is not defined"
     ]
    }
   ],
   "source": [
    "s1 = Sub()\n",
    "sub.do_(10)\n",
    "# (1) Super.do_(self, a)\n",
    "# (2) super().do_(a)\n",
    "# (3) super.do_(a)"
   ]
  },
  {
   "cell_type": "code",
   "execution_count": 34,
   "metadata": {
    "ExecuteTime": {
     "end_time": "2021-02-26T14:30:04.054031Z",
     "start_time": "2021-02-26T14:30:04.050045Z"
    }
   },
   "outputs": [],
   "source": [
    "# 9. 다음 중 파이썬의 특별할 용도로 정의되어 있는 속성과 메소드에 대한 설명중 잘못된 것은? (2)\n",
    "#(1) __dict__ 속성을 이용하면 클래스의 멤버를 확인할 수 있다.\n",
    "#(2) __str__() 메소드는 print()함수의 인자로 객체를 전달할 떄 호출되는 메소드이다.\n",
    "# 이 메소드는 매개변수를 가질수 없다.\n",
    "\n",
    "#(3) __doc__ 속성은 독스트링을 갖는다.\n",
    "#(4) __init__() 매소드는 생성자를 정의할떄 사용한다."
   ]
  },
  {
   "cell_type": "code",
   "execution_count": null,
   "metadata": {},
   "outputs": [],
   "source": [
    "# 서술형 9."
   ]
  },
  {
   "cell_type": "code",
   "execution_count": 20,
   "metadata": {
    "ExecuteTime": {
     "end_time": "2021-02-26T05:53:58.543211Z",
     "start_time": "2021-02-26T05:53:58.539242Z"
    }
   },
   "outputs": [],
   "source": [
    "class Person:\n",
    "    \"서술형 9번 문제.\"\n",
    "    def __init__(self, name=\"홍길동\", gender=\"남\"):\n",
    "        self.name = name\n",
    "        self.gender = gender\n",
    "    def __del__(self):\n",
    "        pass\n",
    "    def __str__(self):\n",
    "        return \"이름은 \"+self.name\n",
    "    def print_info(self):\n",
    "        print(self.name)"
   ]
  },
  {
   "cell_type": "code",
   "execution_count": 19,
   "metadata": {
    "ExecuteTime": {
     "end_time": "2021-02-26T05:53:37.006157Z",
     "start_time": "2021-02-26T05:53:37.002168Z"
    }
   },
   "outputs": [
    {
     "name": "stdout",
     "output_type": "stream",
     "text": [
      "이름은 홍길동\n"
     ]
    }
   ],
   "source": [
    "p = Person()\n",
    "print(p)\n"
   ]
  },
  {
   "cell_type": "code",
   "execution_count": 21,
   "metadata": {
    "ExecuteTime": {
     "end_time": "2021-02-26T05:53:59.671593Z",
     "start_time": "2021-02-26T05:53:59.666607Z"
    }
   },
   "outputs": [
    {
     "data": {
      "text/plain": [
       "{'name': '홍길동', 'gender': '남'}"
      ]
     },
     "execution_count": 21,
     "metadata": {},
     "output_type": "execute_result"
    }
   ],
   "source": [
    "p.__dict__ #클래스의 멤버들을 확인."
   ]
  },
  {
   "cell_type": "code",
   "execution_count": null,
   "metadata": {},
   "outputs": [],
   "source": []
  },
  {
   "cell_type": "code",
   "execution_count": null,
   "metadata": {},
   "outputs": [],
   "source": []
  },
  {
   "cell_type": "code",
   "execution_count": null,
   "metadata": {},
   "outputs": [],
   "source": []
  }
 ],
 "metadata": {
  "kernelspec": {
   "display_name": "Python 3",
   "language": "python",
   "name": "python3"
  },
  "language_info": {
   "codemirror_mode": {
    "name": "ipython",
    "version": 3
   },
   "file_extension": ".py",
   "mimetype": "text/x-python",
   "name": "python",
   "nbconvert_exporter": "python",
   "pygments_lexer": "ipython3",
   "version": "3.8.5"
  },
  "toc": {
   "base_numbering": 1,
   "nav_menu": {},
   "number_sections": false,
   "sideBar": false,
   "skip_h1_title": false,
   "title_cell": "Table of Contents",
   "title_sidebar": "Contents",
   "toc_cell": false,
   "toc_position": {
    "height": "599.891px",
    "left": "1497.97px",
    "top": "86px",
    "width": "349.078px"
   },
   "toc_section_display": true,
   "toc_window_display": true
  },
  "varInspector": {
   "cols": {
    "lenName": 16,
    "lenType": 16,
    "lenVar": 40
   },
   "kernels_config": {
    "python": {
     "delete_cmd_postfix": "",
     "delete_cmd_prefix": "del ",
     "library": "var_list.py",
     "varRefreshCmd": "print(var_dic_list())"
    },
    "r": {
     "delete_cmd_postfix": ") ",
     "delete_cmd_prefix": "rm(",
     "library": "var_list.r",
     "varRefreshCmd": "cat(var_dic_list()) "
    }
   },
   "types_to_exclude": [
    "module",
    "function",
    "builtin_function_or_method",
    "instance",
    "_Feature"
   ],
   "window_display": false
  }
 },
 "nbformat": 4,
 "nbformat_minor": 4
}
