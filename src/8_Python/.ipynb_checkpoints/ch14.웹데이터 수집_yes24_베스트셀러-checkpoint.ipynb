{
 "cells": [
  {
   "cell_type": "markdown",
   "metadata": {},
   "source": [
    "yes24의 베스트셀러 정보를 제공하는 사이트에서 베스트셀러 정보를\n",
    "수집해서 파일에 저장하세요."
   ]
  },
  {
   "cell_type": "code",
   "execution_count": 113,
   "metadata": {
    "ExecuteTime": {
     "end_time": "2021-03-18T06:53:41.877862Z",
     "start_time": "2021-03-18T06:53:39.560235Z"
    },
    "scrolled": true
   },
   "outputs": [],
   "source": [
    "import requests\n",
    "from bs4 import BeautifulSoup\n",
    "\n",
    "with open('data/yes24.txt', 'w', encoding='utf8') as f:\n",
    "    url = \"http://www.yes24.com/24/category/bestseller\"\n",
    "    book_ranking = requests.get(url)\n",
    "# book_ranking -> <Response [200]> 확인.\n",
    "    soup = BeautifulSoup(book_ranking.content, \"html.parser\")\n",
    "#soup -> 전체 html 가져왔는지 확인.\n",
    "    book_list = soup.select(\"ol > li\")\n",
    "#book_list\n",
    "#len(book_list)# -> 40개 들어왔는지 확인. \n",
    "\n",
    "    link = \"http://www.yes24.com/24/category/bestseller\"\n",
    "    page = requests.get(link)\n",
    "    x = BeautifulSoup(page.content, \"html.parser\")\n",
    "    book_title = x.select(\"li > p.copy > a\")\n",
    "    book_info = x.select(\"li p.aupu\")\n",
    "    book_price = x.select(\"li p.price > strong\")\n",
    "#print(type(book_price.text))\n",
    "#print(type(book_info.text))\n",
    "# print(type(book_title.text))\n",
    "\n",
    "\n",
    "#book_price[idx].string\n",
    "    for idx in range(len(book_list)):\n",
    "        result = \"{:2d}위, {} ,{}, {} \\n\".format(idx+1, book_title[idx].text,book_info[idx].text,\n",
    "                                               book_price[idx].text)\n",
    "        for line in result:\n",
    "            f.write(line)"
   ]
  },
  {
   "cell_type": "code",
   "execution_count": null,
   "metadata": {},
   "outputs": [],
   "source": []
  },
  {
   "cell_type": "code",
   "execution_count": null,
   "metadata": {},
   "outputs": [],
   "source": [
    "# text 파일로 출력\n",
    "import requests\n",
    "import codecs\n",
    "from bs4 import BeautifulSoup\n",
    "bestseller = requests.get('http://www.yes24.com/24/category/bestseller')\n",
    "soup = BeautifulSoup(bestseller.content, \"html.parser\")\n",
    "titles = soup.select(\"ol > li > p.copy > a\")\n",
    "authors = soup.select(\"ol > li > p.aupu\")\n",
    "prices = soup.select(\"ol > li > p.price > strong\")\n",
    "\n",
    "with open('data/1_yes24.txt','w',encoding=\"utf-8\") as f:\n",
    "    f.write(\"순위,책이름,저자및출판사,가격\\n\")\n",
    "    for i in range(len(titles)):\n",
    "        result = \"{}, {}, {}, {}\\n\".format(i+i, titles[i].text,\n",
    "                            authors[i].text,  prices[i].text)\n",
    "        f.write(result)"
   ]
  },
  {
   "cell_type": "code",
   "execution_count": null,
   "metadata": {},
   "outputs": [],
   "source": []
  },
  {
   "cell_type": "code",
   "execution_count": null,
   "metadata": {},
   "outputs": [],
   "source": [
    "# csv 파일로 출력(\"\")\n",
    "import requests\n",
    "import codecs\n",
    "from bs4 import BeautifulSoup\n",
    "import csv\n",
    "bestseller = requests.get('http://www.yes24.com/24/category/bestseller')\n",
    "soup = BeautifulSoup(bestseller.content, \"html.parser\")\n",
    "titles = soup.select(\"ol > li > p.copy > a\")\n",
    "authors = soup.select(\"ol > li > p.aupu\")\n",
    "prices = soup.select(\"ol > li > p.price > strong\")\n",
    "\n",
    "with open('data/1_yes24.csv','w', newline='', encoding=\"utf-8\") as f:\n",
    "    writer = csv.writer(f)\n",
    "    writer.writerow([\"순위,책이름,저자및출판사,가격\"])\n",
    "    for i in range(len(titles)):\n",
    "        result = [(i+i), titles[i].text,\n",
    "                            authors[i].text,  prices[i].text]\n",
    "        writer.writerow(result)"
   ]
  },
  {
   "cell_type": "code",
   "execution_count": null,
   "metadata": {},
   "outputs": [],
   "source": []
  },
  {
   "cell_type": "code",
   "execution_count": null,
   "metadata": {},
   "outputs": [],
   "source": [
    "# csv 파일로 출력\n",
    "import requests\n",
    "import codecs\n",
    "from bs4 import BeautifulSoup\n",
    "import csv\n",
    "bestseller = requests.get('http://www.yes24.com/24/category/bestseller')\n",
    "soup = BeautifulSoup(bestseller.content, \"html.parser\")\n",
    "titles = soup.select(\"ol > li > p.copy > a\")\n",
    "authors = soup.select(\"ol > li > p.aupu\")\n",
    "prices = soup.select(\"ol > li > p.price > strong\")\n",
    "\n",
    "with open('data/1_yes24.csv','w', newline='', encoding=\"utf-8\") as f:\n",
    "    writer = csv.DictWriter(f, fieldnames=[\"순위\",\"책이름\",\"저자및출판사\",\"가격\"])\n",
    "    writer.writeheader()\n",
    "    for i in range(len(titles)):\n",
    "        result = {'순위':i+1, '책이름':titles[i].text,\n",
    "                 '저자및출판사':authors[i].text, '가격':prices[i].text}\n",
    "        writer.writerow(result)"
   ]
  },
  {
   "cell_type": "code",
   "execution_count": null,
   "metadata": {},
   "outputs": [],
   "source": []
  }
 ],
 "metadata": {
  "kernelspec": {
   "display_name": "Python 3",
   "language": "python",
   "name": "python3"
  },
  "language_info": {
   "codemirror_mode": {
    "name": "ipython",
    "version": 3
   },
   "file_extension": ".py",
   "mimetype": "text/x-python",
   "name": "python",
   "nbconvert_exporter": "python",
   "pygments_lexer": "ipython3",
   "version": "3.8.5"
  },
  "toc": {
   "base_numbering": 1,
   "nav_menu": {},
   "number_sections": true,
   "sideBar": true,
   "skip_h1_title": false,
   "title_cell": "Table of Contents",
   "title_sidebar": "Contents",
   "toc_cell": false,
   "toc_position": {},
   "toc_section_display": true,
   "toc_window_display": false
  },
  "varInspector": {
   "cols": {
    "lenName": 16,
    "lenType": 16,
    "lenVar": 40
   },
   "kernels_config": {
    "python": {
     "delete_cmd_postfix": "",
     "delete_cmd_prefix": "del ",
     "library": "var_list.py",
     "varRefreshCmd": "print(var_dic_list())"
    },
    "r": {
     "delete_cmd_postfix": ") ",
     "delete_cmd_prefix": "rm(",
     "library": "var_list.r",
     "varRefreshCmd": "cat(var_dic_list()) "
    }
   },
   "types_to_exclude": [
    "module",
    "function",
    "builtin_function_or_method",
    "instance",
    "_Feature"
   ],
   "window_display": false
  }
 },
 "nbformat": 4,
 "nbformat_minor": 4
}
