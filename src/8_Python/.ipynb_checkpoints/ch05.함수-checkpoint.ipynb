{
 "cells": [
  {
   "cell_type": "markdown",
   "metadata": {},
   "source": [
    "- 반복해서 사용한 코드를 묶어 놓고 그것에 이름을 붙인 것.\n",
    "- 반복해서 사용할 코드는 함수를 이용하면 훨씬 구조적이고 간결한 코드를 작성할 수 있다.\n",
    "- 함수의 정의\n",
    "\n",
    "def 함수명([param1, param2,...]):\n",
    "  expressions"
   ]
  },
  {
   "cell_type": "markdown",
   "metadata": {},
   "source": [
    "# 1절. 함수의 정의 사용"
   ]
  },
  {
   "cell_type": "code",
   "execution_count": 21,
   "metadata": {
    "ExecuteTime": {
     "end_time": "2021-02-24T03:00:13.238042Z",
     "start_time": "2021-02-24T03:00:13.234073Z"
    }
   },
   "outputs": [],
   "source": [
    "def my_hello():\n",
    "    print('Hello, world')\n",
    "    print('Hello, Python')\n"
   ]
  },
  {
   "cell_type": "code",
   "execution_count": 22,
   "metadata": {
    "ExecuteTime": {
     "end_time": "2021-02-24T03:00:21.023011Z",
     "start_time": "2021-02-24T03:00:21.019020Z"
    }
   },
   "outputs": [
    {
     "data": {
      "text/plain": [
       "<function __main__.my_hello()>"
      ]
     },
     "execution_count": 22,
     "metadata": {},
     "output_type": "execute_result"
    }
   ],
   "source": [
    "my_hello"
   ]
  },
  {
   "cell_type": "code",
   "execution_count": 25,
   "metadata": {
    "ExecuteTime": {
     "end_time": "2021-02-24T03:03:03.199006Z",
     "start_time": "2021-02-24T03:03:03.195017Z"
    }
   },
   "outputs": [
    {
     "name": "stdout",
     "output_type": "stream",
     "text": [
      "Hello, world\n",
      "Hello, Python\n"
     ]
    }
   ],
   "source": [
    "if __name__== '__main__':\n",
    "    my_hello()\n"
   ]
  },
  {
   "cell_type": "code",
   "execution_count": 26,
   "metadata": {
    "ExecuteTime": {
     "end_time": "2021-02-24T03:03:24.567859Z",
     "start_time": "2021-02-24T03:03:24.562872Z"
    }
   },
   "outputs": [
    {
     "name": "stdout",
     "output_type": "stream",
     "text": [
      "90\n",
      "50\n"
     ]
    }
   ],
   "source": [
    "def my_add(num1, num2, num3=0): # 기본값을 갖는 매개변수는 뒤에\n",
    "    return num1+num2+num3\n",
    "\n",
    "print(my_add(20,30,40))\n",
    "print(my_add(20,30))"
   ]
  },
  {
   "cell_type": "markdown",
   "metadata": {},
   "source": [
    "## 1.1docstring"
   ]
  },
  {
   "cell_type": "code",
   "execution_count": 27,
   "metadata": {
    "ExecuteTime": {
     "end_time": "2021-02-24T03:04:05.595786Z",
     "start_time": "2021-02-24T03:04:05.578892Z"
    }
   },
   "outputs": [],
   "source": [
    "def my_function():\n",
    "    \"\"\"\n",
    "    함수의 첫 라인에 독스트링을 포함시킬 수 있다.\n",
    "    독스트링은 함수의 설명서를 달아주는 역할. 주석보다 더 많은 기능\n",
    "    \"\"\"\n",
    "    pass"
   ]
  },
  {
   "cell_type": "code",
   "execution_count": 28,
   "metadata": {
    "ExecuteTime": {
     "end_time": "2021-02-24T03:04:13.485939Z",
     "start_time": "2021-02-24T03:04:13.481971Z"
    }
   },
   "outputs": [
    {
     "name": "stdout",
     "output_type": "stream",
     "text": [
      "\n",
      "    함수의 첫 라인에 독스트링을 포함시킬 수 있다.\n",
      "    독스트링은 함수의 설명서를 달아주는 역할. 주석보다 더 많은 기능\n",
      "    \n"
     ]
    }
   ],
   "source": [
    "print(my_function.__doc__)\n"
   ]
  },
  {
   "cell_type": "code",
   "execution_count": 29,
   "metadata": {
    "ExecuteTime": {
     "end_time": "2021-02-24T03:04:31.023912Z",
     "start_time": "2021-02-24T03:04:31.018925Z"
    }
   },
   "outputs": [
    {
     "name": "stdout",
     "output_type": "stream",
     "text": [
      "0  1  1  2  3  5  8  \n"
     ]
    }
   ],
   "source": [
    "def fibonacci(n):\n",
    "    \"\"\"\n",
    "    매개변수로 들어온 n값 미만까지 피보나치 수열을 출력합니다.\n",
    "    \"\"\"\n",
    "    a, b = 0, 1\n",
    "    while a < n :\n",
    "        print(a, end='  ')\n",
    "        a, b = b, a+b\n",
    "    print()\n",
    "\n",
    "if __name__=='__main__':\n",
    "    fibonacci(10)"
   ]
  },
  {
   "cell_type": "markdown",
   "metadata": {},
   "source": [
    "## 1.2 지역변수와 전역변수"
   ]
  },
  {
   "cell_type": "code",
   "execution_count": 30,
   "metadata": {
    "ExecuteTime": {
     "end_time": "2021-02-24T03:05:04.933836Z",
     "start_time": "2021-02-24T03:05:04.929872Z"
    }
   },
   "outputs": [
    {
     "name": "stdout",
     "output_type": "stream",
     "text": [
      "100\n"
     ]
    }
   ],
   "source": [
    "gobal_var = 100 # 전역변수\n",
    "def func1():\n",
    "    print(gobal_var)\n",
    "\n",
    "func1()"
   ]
  },
  {
   "cell_type": "code",
   "execution_count": 31,
   "metadata": {
    "ExecuteTime": {
     "end_time": "2021-02-24T03:05:10.574453Z",
     "start_time": "2021-02-24T03:05:10.571467Z"
    }
   },
   "outputs": [
    {
     "name": "stdout",
     "output_type": "stream",
     "text": [
      "200\n"
     ]
    }
   ],
   "source": [
    "def func2():\n",
    "    local_var = 200\n",
    "    print(local_var)\n",
    "\n",
    "func2()"
   ]
  },
  {
   "cell_type": "code",
   "execution_count": 32,
   "metadata": {
    "ExecuteTime": {
     "end_time": "2021-02-24T03:05:16.161700Z",
     "start_time": "2021-02-24T03:05:16.153741Z"
    }
   },
   "outputs": [
    {
     "ename": "NameError",
     "evalue": "name 'local_var' is not defined",
     "output_type": "error",
     "traceback": [
      "\u001b[1;31m---------------------------------------------------------------------------\u001b[0m",
      "\u001b[1;31mNameError\u001b[0m                                 Traceback (most recent call last)",
      "\u001b[1;32m<ipython-input-32-8852b4c53ffd>\u001b[0m in \u001b[0;36m<module>\u001b[1;34m\u001b[0m\n\u001b[1;32m----> 1\u001b[1;33m \u001b[0mlocal_var\u001b[0m\u001b[1;33m\u001b[0m\u001b[1;33m\u001b[0m\u001b[0m\n\u001b[0m",
      "\u001b[1;31mNameError\u001b[0m: name 'local_var' is not defined"
     ]
    }
   ],
   "source": [
    "local_var"
   ]
  },
  {
   "cell_type": "code",
   "execution_count": 35,
   "metadata": {
    "ExecuteTime": {
     "end_time": "2021-02-24T03:07:18.017784Z",
     "start_time": "2021-02-24T03:07:18.005791Z"
    }
   },
   "outputs": [
    {
     "ename": "UnboundLocalError",
     "evalue": "local variable 'g_var' referenced before assignment",
     "output_type": "error",
     "traceback": [
      "\u001b[1;31m---------------------------------------------------------------------------\u001b[0m",
      "\u001b[1;31mUnboundLocalError\u001b[0m                         Traceback (most recent call last)",
      "\u001b[1;32m<ipython-input-35-f893e5de2955>\u001b[0m in \u001b[0;36m<module>\u001b[1;34m\u001b[0m\n\u001b[0;32m      5\u001b[0m     \u001b[0mg_var\u001b[0m \u001b[1;33m=\u001b[0m \u001b[1;36m200\u001b[0m \u001b[1;31m# 지역변수를 선언하면서 할당\u001b[0m\u001b[1;33m\u001b[0m\u001b[1;33m\u001b[0m\u001b[0m\n\u001b[0;32m      6\u001b[0m     \u001b[0mprint\u001b[0m\u001b[1;33m(\u001b[0m\u001b[1;34m'after'\u001b[0m\u001b[1;33m,\u001b[0m \u001b[0mg_var\u001b[0m\u001b[1;33m)\u001b[0m\u001b[1;33m\u001b[0m\u001b[1;33m\u001b[0m\u001b[0m\n\u001b[1;32m----> 7\u001b[1;33m \u001b[0mfunc3\u001b[0m\u001b[1;33m(\u001b[0m\u001b[1;33m)\u001b[0m\u001b[1;33m\u001b[0m\u001b[1;33m\u001b[0m\u001b[0m\n\u001b[0m",
      "\u001b[1;32m<ipython-input-35-f893e5de2955>\u001b[0m in \u001b[0;36mfunc3\u001b[1;34m()\u001b[0m\n\u001b[0;32m      2\u001b[0m \u001b[0mg_var\u001b[0m \u001b[1;33m=\u001b[0m \u001b[1;36m100\u001b[0m\u001b[1;33m\u001b[0m\u001b[1;33m\u001b[0m\u001b[0m\n\u001b[0;32m      3\u001b[0m \u001b[1;32mdef\u001b[0m \u001b[0mfunc3\u001b[0m\u001b[1;33m(\u001b[0m\u001b[1;33m)\u001b[0m\u001b[1;33m:\u001b[0m\u001b[1;33m\u001b[0m\u001b[1;33m\u001b[0m\u001b[0m\n\u001b[1;32m----> 4\u001b[1;33m     \u001b[0mprint\u001b[0m\u001b[1;33m(\u001b[0m\u001b[1;34m'before'\u001b[0m\u001b[1;33m,\u001b[0m \u001b[0mg_var\u001b[0m\u001b[1;33m)\u001b[0m\u001b[1;33m\u001b[0m\u001b[1;33m\u001b[0m\u001b[0m\n\u001b[0m\u001b[0;32m      5\u001b[0m     \u001b[0mg_var\u001b[0m \u001b[1;33m=\u001b[0m \u001b[1;36m200\u001b[0m \u001b[1;31m# 지역변수를 선언하면서 할당\u001b[0m\u001b[1;33m\u001b[0m\u001b[1;33m\u001b[0m\u001b[0m\n\u001b[0;32m      6\u001b[0m     \u001b[0mprint\u001b[0m\u001b[1;33m(\u001b[0m\u001b[1;34m'after'\u001b[0m\u001b[1;33m,\u001b[0m \u001b[0mg_var\u001b[0m\u001b[1;33m)\u001b[0m\u001b[1;33m\u001b[0m\u001b[1;33m\u001b[0m\u001b[0m\n",
      "\u001b[1;31mUnboundLocalError\u001b[0m: local variable 'g_var' referenced before assignment"
     ]
    }
   ],
   "source": [
    "\n",
    "# 렉시컬 특성\n",
    "g_var = 100\n",
    "def func3():\n",
    "    print('before', g_var)\n",
    "    g_var = 200 # 지역변수를 선언하면서 할당\n",
    "    print('after', g_var)\n",
    "func3()"
   ]
  },
  {
   "cell_type": "code",
   "execution_count": 36,
   "metadata": {
    "ExecuteTime": {
     "end_time": "2021-02-24T03:07:19.664186Z",
     "start_time": "2021-02-24T03:07:19.659199Z"
    }
   },
   "outputs": [
    {
     "name": "stdout",
     "output_type": "stream",
     "text": [
      "func3() 실행 전 100\n",
      "before 100\n",
      "after 200\n",
      "200\n"
     ]
    }
   ],
   "source": [
    "g_var = 100\n",
    "def func3():\n",
    "    global g_var # g_var변수는 전역변수를 쓸 거야\n",
    "    print('before', g_var)\n",
    "    g_var = 200  # 전역변수 g_var에 다시 값 할당\n",
    "    print('after', g_var)\n",
    "print('func3() 실행 전', g_var)\n",
    "func3()\n",
    "print(g_var)"
   ]
  },
  {
   "cell_type": "code",
   "execution_count": 49,
   "metadata": {
    "ExecuteTime": {
     "end_time": "2021-02-24T03:19:35.343283Z",
     "start_time": "2021-02-24T03:19:35.339293Z"
    }
   },
   "outputs": [
    {
     "name": "stdout",
     "output_type": "stream",
     "text": [
      "func1() 실행 전 global_var값 100\n",
      "200\n",
      "func1() 실행 후 global_var값 100\n"
     ]
    }
   ],
   "source": [
    "global_var = 100\n",
    "def func1():\n",
    "    global_var = 200 # 지역변수 선언\n",
    "    print(global_var) # 지역변수\n",
    "print('func1() 실행 전 global_var값', global_var)\n",
    "func1()\n",
    "print('func1() 실행 후 global_var값', global_var)"
   ]
  },
  {
   "cell_type": "code",
   "execution_count": 1,
   "metadata": {
    "ExecuteTime": {
     "end_time": "2021-03-02T14:01:15.820698Z",
     "start_time": "2021-03-02T14:01:15.811725Z"
    }
   },
   "outputs": [
    {
     "name": "stdout",
     "output_type": "stream",
     "text": [
      "func1() 실행 전 global_var값 100\n",
      "200\n",
      "func1() 실행 후 global_var값 200\n"
     ]
    }
   ],
   "source": [
    "global_var = 100\n",
    "def func1():\n",
    "    global global_var\n",
    "    global_var = 200 # 전역변수 선언\n",
    "    print(global_var) # 전역변수\n",
    "print('func1() 실행 전 global_var값', global_var)\n",
    "func1()\n",
    "print('func1() 실행 후 global_var값', global_var)"
   ]
  },
  {
   "cell_type": "markdown",
   "metadata": {},
   "source": [
    "## 1.3 값에 의한 호출\n",
    "- 함수에 인수로 전달되는 변수가 스칼라 변수(숫자, 문자, 논리)일 경우"
   ]
  },
  {
   "cell_type": "code",
   "execution_count": 51,
   "metadata": {
    "ExecuteTime": {
     "end_time": "2021-02-24T03:20:19.079648Z",
     "start_time": "2021-02-24T03:20:19.075659Z"
    }
   },
   "outputs": [
    {
     "data": {
      "text/plain": [
       "2049386626736"
      ]
     },
     "execution_count": 51,
     "metadata": {},
     "output_type": "execute_result"
    }
   ],
   "source": [
    "foo = 'a' # 전역변수\n",
    "id(foo)"
   ]
  },
  {
   "cell_type": "code",
   "execution_count": 52,
   "metadata": {
    "ExecuteTime": {
     "end_time": "2021-02-24T03:20:49.127439Z",
     "start_time": "2021-02-24T03:20:49.123450Z"
    }
   },
   "outputs": [
    {
     "name": "stdout",
     "output_type": "stream",
     "text": [
      "Before : a\n",
      "After : aaa 의 주소는 2049476391152\n"
     ]
    }
   ],
   "source": [
    "def func1(foo): # 매개변수는 지역변수\n",
    "    print('Before :', foo)\n",
    "    foo = foo * 3\n",
    "    print('After :', foo, '의 주소는', id(foo))\n",
    "func1(foo)"
   ]
  },
  {
   "cell_type": "code",
   "execution_count": 54,
   "metadata": {
    "ExecuteTime": {
     "end_time": "2021-02-24T03:20:57.062163Z",
     "start_time": "2021-02-24T03:20:57.059171Z"
    }
   },
   "outputs": [
    {
     "name": "stdout",
     "output_type": "stream",
     "text": [
      "a 2049386626736\n"
     ]
    }
   ],
   "source": [
    "print(foo, id(foo)) # 전역변수"
   ]
  },
  {
   "cell_type": "markdown",
   "metadata": {},
   "source": [
    "## 1.4 참조에 의한 호출\n",
    "- 함수에 인수로 전달되는 변수가 리스트, 딕셔너리, 셋....일 경우"
   ]
  },
  {
   "cell_type": "code",
   "execution_count": 58,
   "metadata": {
    "ExecuteTime": {
     "end_time": "2021-02-24T03:24:24.159450Z",
     "start_time": "2021-02-24T03:24:24.155441Z"
    }
   },
   "outputs": [
    {
     "data": {
      "text/plain": [
       "2049468957056"
      ]
     },
     "execution_count": 58,
     "metadata": {},
     "output_type": "execute_result"
    }
   ],
   "source": [
    "L = [1,2,3,4,5]\n",
    "id(L)"
   ]
  },
  {
   "cell_type": "code",
   "execution_count": 59,
   "metadata": {
    "ExecuteTime": {
     "end_time": "2021-02-24T03:24:30.055496Z",
     "start_time": "2021-02-24T03:24:30.050608Z"
    }
   },
   "outputs": [
    {
     "name": "stdout",
     "output_type": "stream",
     "text": [
      "before: [1, 2, 3, 4, 5] 의 주소 : 2049468957056\n",
      "after: [1, 2, 3, 4, 5, 6] 의 주소 : 2049468957056\n",
      "함수 호출 후에 L : [1, 2, 3, 4, 5, 6] 의 주소 : 2049468957056\n"
     ]
    }
   ],
   "source": [
    "def func2(foo): # foo는 지역변수\n",
    "    print('before:',foo, '의 주소 :', id(foo))\n",
    "    foo.append(6)\n",
    "    print('after:',foo,'의 주소 :', id(foo))\n",
    "func2(L)\n",
    "print('함수 호출 후에 L :', L, '의 주소 :',id(L))"
   ]
  },
  {
   "cell_type": "markdown",
   "metadata": {},
   "source": [
    "## 1.5 함수의 이름 변경\n",
    "- Python ; 함수형 언어, 객체 지향 언어"
   ]
  },
  {
   "cell_type": "code",
   "execution_count": 60,
   "metadata": {
    "ExecuteTime": {
     "end_time": "2021-02-24T03:25:07.919208Z",
     "start_time": "2021-02-24T03:25:07.914240Z"
    }
   },
   "outputs": [],
   "source": [
    "def fibonacci(n):\n",
    "    \"\"\"\n",
    "    매개변수로 들어온 n값 미만까지 피보나치 수열을 출력합니다.\n",
    "    \"\"\"\n",
    "    a, b = 0, 1\n",
    "    while a < n :\n",
    "        print(a, end='  ')\n",
    "        a, b = b, a+b\n",
    "    print()"
   ]
  },
  {
   "cell_type": "code",
   "execution_count": 62,
   "metadata": {
    "ExecuteTime": {
     "end_time": "2021-02-24T03:25:16.079948Z",
     "start_time": "2021-02-24T03:25:16.074983Z"
    }
   },
   "outputs": [
    {
     "data": {
      "text/plain": [
       "function"
      ]
     },
     "execution_count": 62,
     "metadata": {},
     "output_type": "execute_result"
    }
   ],
   "source": [
    "type(fibonacci)"
   ]
  },
  {
   "cell_type": "code",
   "execution_count": 63,
   "metadata": {
    "ExecuteTime": {
     "end_time": "2021-02-24T03:25:29.189962Z",
     "start_time": "2021-02-24T03:25:29.185979Z"
    }
   },
   "outputs": [],
   "source": [
    "fibo = fibonacci # fibonacci함수이름이 fibo로도 사용가능"
   ]
  },
  {
   "cell_type": "code",
   "execution_count": 64,
   "metadata": {
    "ExecuteTime": {
     "end_time": "2021-02-24T03:25:33.870481Z",
     "start_time": "2021-02-24T03:25:33.866493Z"
    }
   },
   "outputs": [
    {
     "name": "stdout",
     "output_type": "stream",
     "text": [
      "0  1  1  2  3  5  8  13  21  34  55  89  \n"
     ]
    }
   ],
   "source": [
    "fibo(100)"
   ]
  },
  {
   "cell_type": "markdown",
   "metadata": {},
   "source": [
    "# 2절. 함수의 실행 결과를 반환하는 return"
   ]
  },
  {
   "cell_type": "code",
   "execution_count": 67,
   "metadata": {
    "ExecuteTime": {
     "end_time": "2021-02-24T03:27:33.683443Z",
     "start_time": "2021-02-24T03:27:33.677457Z"
    }
   },
   "outputs": [],
   "source": [
    "\n",
    "def fibonacci_print(n):\n",
    "    \"\"\"\n",
    "    매개변수로 들어온 n값 미만까지 피보나치 수열을 출력합니다.\n",
    "    \"\"\"\n",
    "    a, b = 0, 1\n",
    "    while a < n :\n",
    "        print(a, end='  ')\n",
    "        a, b = b, a+b\n",
    "    print()\n",
    "def fibonacci(n):\n",
    "    \"n값 미만의 피보나치 수열을 return\"\n",
    "    result = []\n",
    "    a, b = 0, 1\n",
    "    while a < n :\n",
    "        result.append(a)\n",
    "        a, b = b, a+b\n",
    "    return result"
   ]
  },
  {
   "cell_type": "code",
   "execution_count": 68,
   "metadata": {
    "ExecuteTime": {
     "end_time": "2021-02-24T03:27:42.431048Z",
     "start_time": "2021-02-24T03:27:42.427082Z"
    }
   },
   "outputs": [
    {
     "name": "stdout",
     "output_type": "stream",
     "text": [
      "0  1  1  2  3  5  8  13  21  34  55  89  \n"
     ]
    }
   ],
   "source": [
    "x = fibonacci_print(100)"
   ]
  },
  {
   "cell_type": "code",
   "execution_count": 71,
   "metadata": {
    "ExecuteTime": {
     "end_time": "2021-02-24T03:29:41.694060Z",
     "start_time": "2021-02-24T03:29:41.691094Z"
    }
   },
   "outputs": [
    {
     "name": "stdout",
     "output_type": "stream",
     "text": [
      "None <class 'NoneType'>\n"
     ]
    }
   ],
   "source": [
    "print(x, type(x))"
   ]
  },
  {
   "cell_type": "code",
   "execution_count": 72,
   "metadata": {
    "ExecuteTime": {
     "end_time": "2021-02-24T03:29:49.606148Z",
     "start_time": "2021-02-24T03:29:49.602160Z"
    }
   },
   "outputs": [],
   "source": [
    "L = fibonacci(100)"
   ]
  },
  {
   "cell_type": "code",
   "execution_count": 74,
   "metadata": {
    "ExecuteTime": {
     "end_time": "2021-02-24T03:30:41.734819Z",
     "start_time": "2021-02-24T03:30:41.730839Z"
    }
   },
   "outputs": [
    {
     "name": "stdout",
     "output_type": "stream",
     "text": [
      "[0, 1, 1, 2, 3, 5, 8, 13, 21, 34, 55, 89] <class 'list'>\n"
     ]
    }
   ],
   "source": [
    "print(L, type(L))"
   ]
  },
  {
   "cell_type": "markdown",
   "metadata": {},
   "source": [
    "## 2.1 여러개 값 반환"
   ]
  },
  {
   "cell_type": "code",
   "execution_count": 75,
   "metadata": {
    "ExecuteTime": {
     "end_time": "2021-02-24T03:31:14.902194Z",
     "start_time": "2021-02-24T03:31:14.898230Z"
    }
   },
   "outputs": [],
   "source": [
    "def swap(a, b):\n",
    "    return b, a"
   ]
  },
  {
   "cell_type": "code",
   "execution_count": 76,
   "metadata": {
    "ExecuteTime": {
     "end_time": "2021-02-24T03:31:22.664160Z",
     "start_time": "2021-02-24T03:31:22.660175Z"
    }
   },
   "outputs": [
    {
     "name": "stdout",
     "output_type": "stream",
     "text": [
      "함수 실행 전  5 10\n",
      "함수 실행 후  10 5\n"
     ]
    }
   ],
   "source": [
    "x, y = 5 , 10\n",
    "print('함수 실행 전 ', x, y)\n",
    "x, y = swap(x, y)\n",
    "print('함수 실행 후 ', x, y)"
   ]
  },
  {
   "cell_type": "code",
   "execution_count": 77,
   "metadata": {
    "ExecuteTime": {
     "end_time": "2021-02-24T03:31:30.197732Z",
     "start_time": "2021-02-24T03:31:30.181057Z"
    }
   },
   "outputs": [
    {
     "name": "stdout",
     "output_type": "stream",
     "text": [
      "<class 'tuple'>\n",
      "(5, 10)\n"
     ]
    }
   ],
   "source": [
    "a = swap(x, y)\n",
    "print(type(a))\n",
    "print(a)"
   ]
  },
  {
   "cell_type": "markdown",
   "metadata": {},
   "source": [
    "# 3절. 함수의 매개변수 ★"
   ]
  },
  {
   "cell_type": "markdown",
   "metadata": {},
   "source": [
    "## 3.1 기본값을 갖는 매개변수"
   ]
  },
  {
   "cell_type": "code",
   "execution_count": 78,
   "metadata": {
    "ExecuteTime": {
     "end_time": "2021-02-24T03:32:00.847849Z",
     "start_time": "2021-02-24T03:32:00.843849Z"
    }
   },
   "outputs": [
    {
     "data": {
      "text/plain": [
       "'http://localhost:80'"
      ]
     },
     "execution_count": 78,
     "metadata": {},
     "output_type": "execute_result"
    }
   ],
   "source": [
    "def make_url(ip, port=80):\n",
    "    return 'http://{}:{}'.format(ip, port)\n",
    "make_url(\"localhost\",80)"
   ]
  },
  {
   "cell_type": "code",
   "execution_count": 79,
   "metadata": {
    "ExecuteTime": {
     "end_time": "2021-02-24T03:32:10.774306Z",
     "start_time": "2021-02-24T03:32:10.770299Z"
    }
   },
   "outputs": [
    {
     "data": {
      "text/plain": [
       "'http://localhost:80'"
      ]
     },
     "execution_count": 79,
     "metadata": {},
     "output_type": "execute_result"
    }
   ],
   "source": [
    "make_url(\"localhost\")"
   ]
  },
  {
   "cell_type": "markdown",
   "metadata": {},
   "source": [
    "## 3.2 기본 변수를 갖는 매개변수"
   ]
  },
  {
   "cell_type": "code",
   "execution_count": 80,
   "metadata": {
    "ExecuteTime": {
     "end_time": "2021-02-24T03:32:27.725658Z",
     "start_time": "2021-02-24T03:32:27.722659Z"
    }
   },
   "outputs": [],
   "source": [
    "i = 5\n",
    "# 기본변수가 스칼라변수일 때 :arg의 기본값은 함수가 정의되는 지점에 한번만 평가됩니다\n",
    "def func2(arg=i): \n",
    "    print('arg = ', arg)"
   ]
  },
  {
   "cell_type": "code",
   "execution_count": 81,
   "metadata": {
    "ExecuteTime": {
     "end_time": "2021-02-24T03:32:36.230637Z",
     "start_time": "2021-02-24T03:32:36.226646Z"
    }
   },
   "outputs": [
    {
     "name": "stdout",
     "output_type": "stream",
     "text": [
      "arg =  5\n"
     ]
    }
   ],
   "source": [
    "i = 6\n",
    "func2()"
   ]
  },
  {
   "cell_type": "code",
   "execution_count": 82,
   "metadata": {
    "ExecuteTime": {
     "end_time": "2021-02-24T03:32:42.574671Z",
     "start_time": "2021-02-24T03:32:42.570682Z"
    }
   },
   "outputs": [
    {
     "name": "stdout",
     "output_type": "stream",
     "text": [
      "arg =  5\n",
      "None\n"
     ]
    }
   ],
   "source": [
    "print(func2())"
   ]
  },
  {
   "cell_type": "code",
   "execution_count": 83,
   "metadata": {
    "ExecuteTime": {
     "end_time": "2021-02-24T03:32:50.512526Z",
     "start_time": "2021-02-24T03:32:50.507540Z"
    }
   },
   "outputs": [
    {
     "name": "stdout",
     "output_type": "stream",
     "text": [
      "[1]\n",
      "[1]\n"
     ]
    }
   ],
   "source": [
    "# 기본변수가 리스트, 셋, 딕셔너리 또는 객체일때 함수를 호출 후 다시 전달\n",
    "list_ = []\n",
    "def func3(a, L=list_):\n",
    "    L.append(a)\n",
    "    return L\n",
    "print(func3(1))\n",
    "print(list_)"
   ]
  },
  {
   "cell_type": "code",
   "execution_count": 84,
   "metadata": {
    "ExecuteTime": {
     "end_time": "2021-02-24T03:33:01.519297Z",
     "start_time": "2021-02-24T03:33:01.515307Z"
    }
   },
   "outputs": [
    {
     "name": "stdout",
     "output_type": "stream",
     "text": [
      "[1, 2]\n",
      "[1, 2]\n"
     ]
    }
   ],
   "source": [
    "print(func3(2))\n",
    "print(list_)"
   ]
  },
  {
   "cell_type": "code",
   "execution_count": 85,
   "metadata": {
    "ExecuteTime": {
     "end_time": "2021-02-24T03:33:13.383414Z",
     "start_time": "2021-02-24T03:33:13.379414Z"
    }
   },
   "outputs": [
    {
     "name": "stdout",
     "output_type": "stream",
     "text": [
      "[1]\n"
     ]
    }
   ],
   "source": [
    "def func(a, L=[]):\n",
    "    L.append(a)\n",
    "    return L\n",
    "print(func(1))"
   ]
  },
  {
   "cell_type": "code",
   "execution_count": 86,
   "metadata": {
    "ExecuteTime": {
     "end_time": "2021-02-24T03:33:21.294181Z",
     "start_time": "2021-02-24T03:33:21.290218Z"
    }
   },
   "outputs": [
    {
     "name": "stdout",
     "output_type": "stream",
     "text": [
      "[1, 2]\n"
     ]
    }
   ],
   "source": [
    "print(func(2))"
   ]
  },
  {
   "cell_type": "markdown",
   "metadata": {},
   "source": [
    "## 3.3순서인수와 키워드 인수\n",
    "- 순서인수와 키워드 인수(기본값을갖는인수)가 같이 올 때는 키워드 인수가 반드시 뒤에 온다\n",
    "  def function명(변수명1, 변수명2, 변수명n=기본값):\n",
    "                   순서인수        키워드인수\n"
   ]
  },
  {
   "cell_type": "code",
   "execution_count": 1,
   "metadata": {
    "ExecuteTime": {
     "end_time": "2021-02-24T02:53:30.952300Z",
     "start_time": "2021-02-24T02:53:30.942326Z"
    }
   },
   "outputs": [
    {
     "data": {
      "text/plain": [
       "[10]"
      ]
     },
     "execution_count": 1,
     "metadata": {},
     "output_type": "execute_result"
    }
   ],
   "source": [
    "def func4(a, L=None):\n",
    "    if L is None:\n",
    "        L = []\n",
    "    L.append(a)\n",
    "    return L\n",
    "func4(10)"
   ]
  },
  {
   "cell_type": "code",
   "execution_count": 2,
   "metadata": {
    "ExecuteTime": {
     "end_time": "2021-02-24T02:54:36.335025Z",
     "start_time": "2021-02-24T02:54:36.330036Z"
    }
   },
   "outputs": [
    {
     "data": {
      "text/plain": [
       "[30]"
      ]
     },
     "execution_count": 2,
     "metadata": {},
     "output_type": "execute_result"
    }
   ],
   "source": [
    "func4(30)"
   ]
  },
  {
   "cell_type": "code",
   "execution_count": 3,
   "metadata": {
    "ExecuteTime": {
     "end_time": "2021-02-24T02:54:58.582636Z",
     "start_time": "2021-02-24T02:54:58.578665Z"
    }
   },
   "outputs": [
    {
     "data": {
      "text/plain": [
       "[10]"
      ]
     },
     "execution_count": 3,
     "metadata": {},
     "output_type": "execute_result"
    }
   ],
   "source": [
    "list_ =[]\n",
    "func4(10, list_)"
   ]
  },
  {
   "cell_type": "code",
   "execution_count": 9,
   "metadata": {
    "ExecuteTime": {
     "end_time": "2021-02-24T02:55:44.253779Z",
     "start_time": "2021-02-24T02:55:44.249801Z"
    }
   },
   "outputs": [
    {
     "data": {
      "text/plain": [
       "[10, 10, 2, 2, 2, 2, 2]"
      ]
     },
     "execution_count": 9,
     "metadata": {},
     "output_type": "execute_result"
    }
   ],
   "source": [
    "func4(2, list_) # 1."
   ]
  },
  {
   "cell_type": "code",
   "execution_count": 11,
   "metadata": {
    "ExecuteTime": {
     "end_time": "2021-02-24T02:57:15.575378Z",
     "start_time": "2021-02-24T02:57:15.571390Z"
    }
   },
   "outputs": [
    {
     "data": {
      "text/plain": [
       "[10, 10, 2, 2, 2, 2, 2, 2]"
      ]
     },
     "execution_count": 11,
     "metadata": {},
     "output_type": "execute_result"
    }
   ],
   "source": [
    "func4(a = 2, L = list_) # 2."
   ]
  },
  {
   "cell_type": "code",
   "execution_count": 13,
   "metadata": {
    "ExecuteTime": {
     "end_time": "2021-02-24T02:58:07.818515Z",
     "start_time": "2021-02-24T02:58:07.802867Z"
    }
   },
   "outputs": [
    {
     "data": {
      "text/plain": [
       "[10, 10, 2, 2, 2, 2, 2, 2, 2, 2]"
      ]
     },
     "execution_count": 13,
     "metadata": {},
     "output_type": "execute_result"
    }
   ],
   "source": [
    "func4(L=list_ , a=2) # 3. 1~3번 다 같은 내용."
   ]
  },
  {
   "cell_type": "code",
   "execution_count": 15,
   "metadata": {
    "ExecuteTime": {
     "end_time": "2021-02-24T02:58:27.887193Z",
     "start_time": "2021-02-24T02:58:27.882226Z"
    }
   },
   "outputs": [
    {
     "data": {
      "text/plain": [
       "[30]"
      ]
     },
     "execution_count": 15,
     "metadata": {},
     "output_type": "execute_result"
    }
   ],
   "source": [
    "func4(a=30) #L 은 None 이니 가능."
   ]
  },
  {
   "cell_type": "code",
   "execution_count": 16,
   "metadata": {
    "ExecuteTime": {
     "end_time": "2021-02-24T02:58:41.766494Z",
     "start_time": "2021-02-24T02:58:41.474250Z"
    }
   },
   "outputs": [
    {
     "ename": "TypeError",
     "evalue": "func4() missing 1 required positional argument: 'a'",
     "output_type": "error",
     "traceback": [
      "\u001b[1;31m---------------------------------------------------------------------------\u001b[0m",
      "\u001b[1;31mTypeError\u001b[0m                                 Traceback (most recent call last)",
      "\u001b[1;32m<ipython-input-16-d5ebda09536c>\u001b[0m in \u001b[0;36m<module>\u001b[1;34m\u001b[0m\n\u001b[1;32m----> 1\u001b[1;33m \u001b[0mfunc4\u001b[0m\u001b[1;33m(\u001b[0m\u001b[1;33m)\u001b[0m \u001b[1;31m# a 값은 들어와야한다.\u001b[0m\u001b[1;33m\u001b[0m\u001b[1;33m\u001b[0m\u001b[0m\n\u001b[0m",
      "\u001b[1;31mTypeError\u001b[0m: func4() missing 1 required positional argument: 'a'"
     ]
    }
   ],
   "source": [
    "func4() # a 값은 들어와야한다."
   ]
  },
  {
   "cell_type": "code",
   "execution_count": 17,
   "metadata": {
    "ExecuteTime": {
     "end_time": "2021-02-24T02:58:55.615786Z",
     "start_time": "2021-02-24T02:58:55.602822Z"
    }
   },
   "outputs": [
    {
     "ename": "TypeError",
     "evalue": "func4() got multiple values for argument 'a'",
     "output_type": "error",
     "traceback": [
      "\u001b[1;31m---------------------------------------------------------------------------\u001b[0m",
      "\u001b[1;31mTypeError\u001b[0m                                 Traceback (most recent call last)",
      "\u001b[1;32m<ipython-input-17-9a339bdfcf54>\u001b[0m in \u001b[0;36m<module>\u001b[1;34m\u001b[0m\n\u001b[1;32m----> 1\u001b[1;33m \u001b[0mfunc4\u001b[0m\u001b[1;33m(\u001b[0m\u001b[1;36m50\u001b[0m\u001b[1;33m,\u001b[0m \u001b[0ma\u001b[0m\u001b[1;33m=\u001b[0m\u001b[1;36m30\u001b[0m\u001b[1;33m,\u001b[0m \u001b[0mL\u001b[0m\u001b[1;33m=\u001b[0m\u001b[1;33m[\u001b[0m\u001b[1;33m]\u001b[0m\u001b[1;33m)\u001b[0m\u001b[1;33m\u001b[0m\u001b[1;33m\u001b[0m\u001b[0m\n\u001b[0m",
      "\u001b[1;31mTypeError\u001b[0m: func4() got multiple values for argument 'a'"
     ]
    }
   ],
   "source": [
    "func4(50, a=30, L=[])"
   ]
  },
  {
   "cell_type": "code",
   "execution_count": 19,
   "metadata": {
    "ExecuteTime": {
     "end_time": "2021-02-24T02:59:29.743194Z",
     "start_time": "2021-02-24T02:59:29.739205Z"
    }
   },
   "outputs": [
    {
     "data": {
      "text/plain": [
       "[30]"
      ]
     },
     "execution_count": 19,
     "metadata": {},
     "output_type": "execute_result"
    }
   ],
   "source": [
    "func4(L=[], a=30) #가능."
   ]
  },
  {
   "cell_type": "code",
   "execution_count": 20,
   "metadata": {
    "ExecuteTime": {
     "end_time": "2021-02-24T03:00:00.914960Z",
     "start_time": "2021-02-24T03:00:00.907006Z"
    }
   },
   "outputs": [
    {
     "ename": "TypeError",
     "evalue": "func4() got multiple values for argument 'a'",
     "output_type": "error",
     "traceback": [
      "\u001b[1;31m---------------------------------------------------------------------------\u001b[0m",
      "\u001b[1;31mTypeError\u001b[0m                                 Traceback (most recent call last)",
      "\u001b[1;32m<ipython-input-20-6aa134cd6a05>\u001b[0m in \u001b[0;36m<module>\u001b[1;34m\u001b[0m\n\u001b[1;32m----> 1\u001b[1;33m \u001b[0mfunc4\u001b[0m\u001b[1;33m(\u001b[0m\u001b[1;33m[\u001b[0m\u001b[1;33m]\u001b[0m\u001b[1;33m,\u001b[0m \u001b[0ma\u001b[0m\u001b[1;33m=\u001b[0m\u001b[1;36m30\u001b[0m\u001b[1;33m)\u001b[0m \u001b[1;31m#이름을 안적으면 순서적으로 들어가기때문에 a가 두개라고 에러가 난다.\u001b[0m\u001b[1;33m\u001b[0m\u001b[1;33m\u001b[0m\u001b[0m\n\u001b[0m",
      "\u001b[1;31mTypeError\u001b[0m: func4() got multiple values for argument 'a'"
     ]
    }
   ],
   "source": [
    "func4([], a=30) #이름을 안적으면 순서적으로 들어가기때문에 a가 두개라고 에러가 난다."
   ]
  },
  {
   "cell_type": "code",
   "execution_count": 23,
   "metadata": {
    "ExecuteTime": {
     "end_time": "2021-02-24T03:00:48.559442Z",
     "start_time": "2021-02-24T03:00:48.554476Z"
    }
   },
   "outputs": [
    {
     "data": {
      "text/plain": [
       "[[]]"
      ]
     },
     "execution_count": 23,
     "metadata": {},
     "output_type": "execute_result"
    }
   ],
   "source": [
    "func4([]) #a에 빈스트링이 들어간다. "
   ]
  },
  {
   "cell_type": "code",
   "execution_count": 24,
   "metadata": {
    "ExecuteTime": {
     "end_time": "2021-02-24T03:02:21.734785Z",
     "start_time": "2021-02-24T03:02:21.730795Z"
    }
   },
   "outputs": [
    {
     "ename": "SyntaxError",
     "evalue": "positional argument follows keyword argument (<ipython-input-24-79b4f6d43508>, line 1)",
     "output_type": "error",
     "traceback": [
      "\u001b[1;36m  File \u001b[1;32m\"<ipython-input-24-79b4f6d43508>\"\u001b[1;36m, line \u001b[1;32m1\u001b[0m\n\u001b[1;33m    func4(L=list_, 70)\u001b[0m\n\u001b[1;37m                   ^\u001b[0m\n\u001b[1;31mSyntaxError\u001b[0m\u001b[1;31m:\u001b[0m positional argument follows keyword argument\n"
     ]
    }
   ],
   "source": [
    "func4(L=list_, 70) #a 는 순서함수라 안쓰면 순서대로 들어간다."
   ]
  },
  {
   "cell_type": "code",
   "execution_count": null,
   "metadata": {
    "ExecuteTime": {
     "end_time": "2021-02-24T03:06:20.262450Z",
     "start_time": "2021-02-24T03:06:20.250482Z"
    }
   },
   "outputs": [],
   "source": []
  },
  {
   "cell_type": "markdown",
   "metadata": {
    "ExecuteTime": {
     "end_time": "2021-02-24T03:06:41.662962Z",
     "start_time": "2021-02-24T03:06:41.657975Z"
    }
   },
   "source": [
    "## 3.4 튜플 매개변수를 이용한 가변인수 설정"
   ]
  },
  {
   "cell_type": "code",
   "execution_count": 37,
   "metadata": {
    "ExecuteTime": {
     "end_time": "2021-02-24T03:08:16.030517Z",
     "start_time": "2021-02-24T03:08:16.026553Z"
    }
   },
   "outputs": [
    {
     "name": "stdout",
     "output_type": "stream",
     "text": [
      "3\n"
     ]
    }
   ],
   "source": [
    "def add(a,b):\n",
    "    return a + b\n",
    "print(add(1,2))"
   ]
  },
  {
   "cell_type": "code",
   "execution_count": 39,
   "metadata": {
    "ExecuteTime": {
     "end_time": "2021-02-24T03:08:37.287064Z",
     "start_time": "2021-02-24T03:08:37.283074Z"
    }
   },
   "outputs": [
    {
     "name": "stdout",
     "output_type": "stream",
     "text": [
      "6\n"
     ]
    }
   ],
   "source": [
    "def add(a,b,c):\n",
    "    return a + b + c\n",
    "print(add(1,2,3))"
   ]
  },
  {
   "cell_type": "code",
   "execution_count": 40,
   "metadata": {
    "ExecuteTime": {
     "end_time": "2021-02-24T03:08:49.010070Z",
     "start_time": "2021-02-24T03:08:49.002092Z"
    }
   },
   "outputs": [
    {
     "ename": "TypeError",
     "evalue": "add() missing 1 required positional argument: 'c'",
     "output_type": "error",
     "traceback": [
      "\u001b[1;31m---------------------------------------------------------------------------\u001b[0m",
      "\u001b[1;31mTypeError\u001b[0m                                 Traceback (most recent call last)",
      "\u001b[1;32m<ipython-input-40-4554db589b65>\u001b[0m in \u001b[0;36m<module>\u001b[1;34m\u001b[0m\n\u001b[1;32m----> 1\u001b[1;33m \u001b[0mprint\u001b[0m\u001b[1;33m(\u001b[0m\u001b[0madd\u001b[0m\u001b[1;33m(\u001b[0m\u001b[1;36m10\u001b[0m\u001b[1;33m,\u001b[0m\u001b[1;36m20\u001b[0m\u001b[1;33m)\u001b[0m\u001b[1;33m)\u001b[0m\u001b[1;33m\u001b[0m\u001b[1;33m\u001b[0m\u001b[0m\n\u001b[0m",
      "\u001b[1;31mTypeError\u001b[0m: add() missing 1 required positional argument: 'c'"
     ]
    }
   ],
   "source": [
    "print(add(10,20)) #\n",
    "#파이썬은 함수의 중복(overLoading)"
   ]
  },
  {
   "cell_type": "code",
   "execution_count": 42,
   "metadata": {
    "ExecuteTime": {
     "end_time": "2021-02-24T03:13:54.169068Z",
     "start_time": "2021-02-24T03:13:54.164081Z"
    }
   },
   "outputs": [
    {
     "name": "stdout",
     "output_type": "stream",
     "text": [
      "15\n",
      "1\n",
      "66\n"
     ]
    }
   ],
   "source": [
    "# args 앞에 * => args 가 튜플로 전달.\n",
    "def add(*args): #args = (1,2,3,4,5)  , args = (1,) 하나는 이렇게 들어간다.\n",
    "    sum = 0\n",
    "    for num in args:\n",
    "        sum += num  #sum에 누적.\n",
    "    return sum\n",
    "\n",
    "print(add(1,2,3,4,5))\n",
    "print(add(1))\n",
    "print(add(1,2,3,4,5,6,7,8,9,10,11))"
   ]
  },
  {
   "cell_type": "code",
   "execution_count": 43,
   "metadata": {
    "ExecuteTime": {
     "end_time": "2021-02-24T03:15:12.062932Z",
     "start_time": "2021-02-24T03:15:12.059941Z"
    }
   },
   "outputs": [],
   "source": [
    "def concat(*args, sep):\n",
    "    return sep.join(args)"
   ]
  },
  {
   "cell_type": "code",
   "execution_count": 44,
   "metadata": {
    "ExecuteTime": {
     "end_time": "2021-02-24T03:15:45.271703Z",
     "start_time": "2021-02-24T03:15:45.267714Z"
    }
   },
   "outputs": [
    {
     "data": {
      "text/plain": [
       "'서울-부산-인천'"
      ]
     },
     "execution_count": 44,
     "metadata": {},
     "output_type": "execute_result"
    }
   ],
   "source": [
    "# cf\n",
    "city = (\"서울\",\"부산\",\"인천\")\n",
    "'-'.join(city)"
   ]
  },
  {
   "cell_type": "code",
   "execution_count": 45,
   "metadata": {
    "ExecuteTime": {
     "end_time": "2021-02-24T03:16:34.519068Z",
     "start_time": "2021-02-24T03:16:34.515079Z"
    }
   },
   "outputs": [],
   "source": [
    "def concat(*args, sep):\n",
    "    return sep.join(args)"
   ]
  },
  {
   "cell_type": "code",
   "execution_count": 48,
   "metadata": {
    "ExecuteTime": {
     "end_time": "2021-02-24T03:18:56.395893Z",
     "start_time": "2021-02-24T03:18:56.387909Z"
    }
   },
   "outputs": [
    {
     "ename": "TypeError",
     "evalue": "concat() missing 1 required keyword-only argument: 'sep'",
     "output_type": "error",
     "traceback": [
      "\u001b[1;31m---------------------------------------------------------------------------\u001b[0m",
      "\u001b[1;31mTypeError\u001b[0m                                 Traceback (most recent call last)",
      "\u001b[1;32m<ipython-input-48-b536aae14224>\u001b[0m in \u001b[0;36m<module>\u001b[1;34m\u001b[0m\n\u001b[1;32m----> 1\u001b[1;33m \u001b[0mconcat\u001b[0m\u001b[1;33m(\u001b[0m\u001b[1;34m'hello'\u001b[0m\u001b[1;33m,\u001b[0m\u001b[1;34m'world'\u001b[0m\u001b[1;33m,\u001b[0m\u001b[1;34m'/'\u001b[0m\u001b[1;33m)\u001b[0m \u001b[1;31m# args에만 들어가서 sep 의 값이 없기에 오류.\u001b[0m\u001b[1;33m\u001b[0m\u001b[1;33m\u001b[0m\u001b[0m\n\u001b[0m\u001b[0;32m      2\u001b[0m \u001b[1;31m# concat('hello','world',sep='/') # sep= 이렇게 지정해주면 sep에 값이 들어간다.\u001b[0m\u001b[1;33m\u001b[0m\u001b[1;33m\u001b[0m\u001b[1;33m\u001b[0m\u001b[0m\n",
      "\u001b[1;31mTypeError\u001b[0m: concat() missing 1 required keyword-only argument: 'sep'"
     ]
    }
   ],
   "source": [
    "concat('hello','world','/') # args에만 들어가서 sep 의 값이 없기에 오류.\n",
    "# concat('hello','world',sep='/') # sep= 이렇게 지정해주면 sep에 값이 들어간다."
   ]
  },
  {
   "cell_type": "code",
   "execution_count": null,
   "metadata": {},
   "outputs": [],
   "source": [
    "# 해결책 .1\n",
    "concat('hello','world',sep='/')"
   ]
  },
  {
   "cell_type": "code",
   "execution_count": 55,
   "metadata": {
    "ExecuteTime": {
     "end_time": "2021-02-24T03:22:24.318871Z",
     "start_time": "2021-02-24T03:22:24.314905Z"
    }
   },
   "outputs": [],
   "source": [
    "# 해결책 .2\n",
    "def concat(sep, *args): #*args와 sep 의 순서 바꿈\n",
    "    return sep.join(args)"
   ]
  },
  {
   "cell_type": "code",
   "execution_count": 57,
   "metadata": {
    "ExecuteTime": {
     "end_time": "2021-02-24T03:23:19.887365Z",
     "start_time": "2021-02-24T03:23:19.882405Z"
    }
   },
   "outputs": [
    {
     "data": {
      "text/plain": [
       "'earth/mars/venus'"
      ]
     },
     "execution_count": 57,
     "metadata": {},
     "output_type": "execute_result"
    }
   ],
   "source": [
    "concat('/','earth','mars','venus') #sep = '/' 로 들어감."
   ]
  },
  {
   "cell_type": "code",
   "execution_count": 65,
   "metadata": {
    "ExecuteTime": {
     "end_time": "2021-02-24T03:26:05.383155Z",
     "start_time": "2021-02-24T03:26:05.379165Z"
    }
   },
   "outputs": [
    {
     "data": {
      "text/plain": [
       "'marsearthvenus'"
      ]
     },
     "execution_count": 65,
     "metadata": {},
     "output_type": "execute_result"
    }
   ],
   "source": [
    "concat('earth','mars','venus') # sep = earth 로 들어감."
   ]
  },
  {
   "cell_type": "code",
   "execution_count": 69,
   "metadata": {
    "ExecuteTime": {
     "end_time": "2021-02-24T03:29:04.190548Z",
     "start_time": "2021-02-24T03:29:04.187576Z"
    }
   },
   "outputs": [],
   "source": [
    "# 해결책. 3\n",
    "def concat(*args, sep='/'): #순서 인수 > 튜플인수 > 키워드 인수(기본값받는.) => 순서도\n",
    "    return sep.join(args)"
   ]
  },
  {
   "cell_type": "code",
   "execution_count": 70,
   "metadata": {
    "ExecuteTime": {
     "end_time": "2021-02-24T03:29:21.791101Z",
     "start_time": "2021-02-24T03:29:21.787113Z"
    }
   },
   "outputs": [
    {
     "data": {
      "text/plain": [
       "'earth/mars/venus'"
      ]
     },
     "execution_count": 70,
     "metadata": {},
     "output_type": "execute_result"
    }
   ],
   "source": [
    "concat('earth','mars','venus')"
   ]
  },
  {
   "cell_type": "code",
   "execution_count": 73,
   "metadata": {
    "ExecuteTime": {
     "end_time": "2021-02-24T03:30:29.775345Z",
     "start_time": "2021-02-24T03:30:29.770379Z"
    }
   },
   "outputs": [
    {
     "data": {
      "text/plain": [
       "'Python ~ R ~ hadoop'"
      ]
     },
     "execution_count": 73,
     "metadata": {},
     "output_type": "execute_result"
    }
   ],
   "source": [
    "concat('Python','R','hadoop', sep=' ~ ')"
   ]
  },
  {
   "cell_type": "markdown",
   "metadata": {},
   "source": [
    "## 3.5 딕셔너리 매개변수\n",
    "- 순서인수 ,튜플인수, 키워드인수, 딕셔너리 인수 : 같이 사용가능.(단, 순서를 유의해서 사용)"
   ]
  },
  {
   "cell_type": "code",
   "execution_count": 87,
   "metadata": {
    "ExecuteTime": {
     "end_time": "2021-02-24T03:50:00.196575Z",
     "start_time": "2021-02-24T03:50:00.191587Z"
    }
   },
   "outputs": [
    {
     "name": "stdout",
     "output_type": "stream",
     "text": [
      "name:홍길동\n",
      "age:20\n",
      "address:서울시\n"
     ]
    }
   ],
   "source": [
    "def func5(**args):   # **args => 딕셔너리로 전달.\n",
    "             # args = {name='홍길동',age = 20, address = '서울시'} 이렇게 들어간다는것이다.\n",
    "    for key, value in args.items():\n",
    "        print(\"{}:{}\".format(key,value))\n",
    "func5(name='홍길동',age = 20, address = '서울시')"
   ]
  },
  {
   "cell_type": "code",
   "execution_count": 88,
   "metadata": {
    "ExecuteTime": {
     "end_time": "2021-02-24T03:52:51.970816Z",
     "start_time": "2021-02-24T03:52:51.966847Z"
    }
   },
   "outputs": [],
   "source": [
    "# def func6 의 순서.\n",
    "# def func6(순서인수 > 튜플인수 > 키워드 인수(없음.) > 딕셔너리 인수)\n",
    "def func6(a, *b, **c):\n",
    "    print('a = ',a)\n",
    "    print('b = ',b)\n",
    "    print('c = ',c)"
   ]
  },
  {
   "cell_type": "code",
   "execution_count": null,
   "metadata": {},
   "outputs": [],
   "source": [
    "# 10 = a,  1~5 = b,  name~~ = c 이렇게 들어간다.\n",
    "func6(10, 1,2,3,4,5, name='Kim', age=35)"
   ]
  },
  {
   "cell_type": "code",
   "execution_count": 89,
   "metadata": {
    "ExecuteTime": {
     "end_time": "2021-02-24T03:54:33.291062Z",
     "start_time": "2021-02-24T03:54:33.287074Z"
    }
   },
   "outputs": [],
   "source": [
    "# 순서를 바꿔보았다.\n",
    "def func6(*b, a, **c):\n",
    "    print('a = ',a)\n",
    "    print('b = ',b)\n",
    "    print('c = ',c)"
   ]
  },
  {
   "cell_type": "code",
   "execution_count": 91,
   "metadata": {
    "ExecuteTime": {
     "end_time": "2021-02-24T03:54:57.039346Z",
     "start_time": "2021-02-24T03:54:57.030391Z"
    }
   },
   "outputs": [
    {
     "ename": "TypeError",
     "evalue": "func6() missing 1 required keyword-only argument: 'a'",
     "output_type": "error",
     "traceback": [
      "\u001b[1;31m---------------------------------------------------------------------------\u001b[0m",
      "\u001b[1;31mTypeError\u001b[0m                                 Traceback (most recent call last)",
      "\u001b[1;32m<ipython-input-91-6c44ecf23b21>\u001b[0m in \u001b[0;36m<module>\u001b[1;34m\u001b[0m\n\u001b[1;32m----> 1\u001b[1;33m \u001b[0mfunc6\u001b[0m\u001b[1;33m(\u001b[0m\u001b[1;36m10\u001b[0m\u001b[1;33m,\u001b[0m \u001b[1;36m1\u001b[0m\u001b[1;33m,\u001b[0m\u001b[1;36m2\u001b[0m\u001b[1;33m,\u001b[0m\u001b[1;36m3\u001b[0m\u001b[1;33m,\u001b[0m\u001b[1;36m4\u001b[0m\u001b[1;33m,\u001b[0m\u001b[1;36m5\u001b[0m\u001b[1;33m,\u001b[0m \u001b[0mname\u001b[0m\u001b[1;33m=\u001b[0m\u001b[1;34m'Kim'\u001b[0m\u001b[1;33m,\u001b[0m \u001b[0mage\u001b[0m\u001b[1;33m=\u001b[0m\u001b[1;36m35\u001b[0m\u001b[1;33m)\u001b[0m \u001b[1;31m#이처럼 순서를 바꾸게 된다면 오류가 나타난다.\u001b[0m\u001b[1;33m\u001b[0m\u001b[1;33m\u001b[0m\u001b[0m\n\u001b[0m",
      "\u001b[1;31mTypeError\u001b[0m: func6() missing 1 required keyword-only argument: 'a'"
     ]
    }
   ],
   "source": [
    "func6(10, 1,2,3,4,5, name='Kim', age=35) #이처럼 순서를 바꾸게 된다면 오류가 나타난다."
   ]
  },
  {
   "cell_type": "markdown",
   "metadata": {},
   "source": [
    "## 3.6 함수 정의 시, 매개변수의 순서."
   ]
  },
  {
   "cell_type": "code",
   "execution_count": 92,
   "metadata": {
    "ExecuteTime": {
     "end_time": "2021-02-24T03:57:32.730797Z",
     "start_time": "2021-02-24T03:57:32.726807Z"
    }
   },
   "outputs": [],
   "source": [
    "#def func (순서인수 > 튜플인수 > 키워드 인수 > 딕셔너리 인수)\n",
    "def func(a, b, c, *d, e=10, **f):\n",
    "    print('a = ', a)\n",
    "    print('b = ', b)\n",
    "    print('c = ', c)\n",
    "    print('d = ', d)\n",
    "    print('e = ', e)\n",
    "    print('f = ', f)"
   ]
  },
  {
   "cell_type": "code",
   "execution_count": 94,
   "metadata": {
    "ExecuteTime": {
     "end_time": "2021-02-24T03:58:37.738460Z",
     "start_time": "2021-02-24T03:58:37.734483Z"
    }
   },
   "outputs": [
    {
     "name": "stdout",
     "output_type": "stream",
     "text": [
      "a =  10\n",
      "b =  20\n",
      "c =  30\n",
      "d =  (1, 2, 3, 4, 2, 4)\n",
      "e =  20\n",
      "f =  {'name': 'Kim', 'age': 30, 'address': '마포'}\n"
     ]
    }
   ],
   "source": [
    "func(10,20,30, 1,2,3,4,2,4, e=20, name=\"Kim\", age=30, address=\"마포\")"
   ]
  },
  {
   "cell_type": "markdown",
   "metadata": {},
   "source": [
    "## 3.7 인수의 언패킹\n",
    "**튜플언패킹"
   ]
  },
  {
   "cell_type": "code",
   "execution_count": null,
   "metadata": {},
   "outputs": [],
   "source": []
  },
  {
   "cell_type": "code",
   "execution_count": 95,
   "metadata": {
    "ExecuteTime": {
     "end_time": "2021-02-24T04:00:03.098684Z",
     "start_time": "2021-02-24T04:00:03.093724Z"
    }
   },
   "outputs": [
    {
     "data": {
      "text/plain": [
       "10"
      ]
     },
     "execution_count": 95,
     "metadata": {},
     "output_type": "execute_result"
    }
   ],
   "source": [
    "def add(*args):\n",
    "    sum = 0\n",
    "    for num in args:\n",
    "        sum += num\n",
    "    return sum\n",
    "add(1,2,3,4)"
   ]
  },
  {
   "cell_type": "code",
   "execution_count": 99,
   "metadata": {
    "ExecuteTime": {
     "end_time": "2021-02-24T04:02:45.130355Z",
     "start_time": "2021-02-24T04:02:45.126365Z"
    }
   },
   "outputs": [
    {
     "data": {
      "text/plain": [
       "10"
      ]
     },
     "execution_count": 99,
     "metadata": {},
     "output_type": "execute_result"
    }
   ],
   "source": [
    "numbers = (1,2,3,4)\n",
    "# add(numbers) 에러.\n",
    "add(*numbers) #튜플 언패킹."
   ]
  },
  {
   "cell_type": "code",
   "execution_count": 105,
   "metadata": {
    "ExecuteTime": {
     "end_time": "2021-02-24T04:04:07.082293Z",
     "start_time": "2021-02-24T04:04:07.077306Z"
    }
   },
   "outputs": [
    {
     "name": "stdout",
     "output_type": "stream",
     "text": [
      "[0, 1, 2, 3, 4, 5, 6, 7, 8, 9]\n",
      "[5, 6, 7, 8, 9]\n",
      "[5, 7, 9]\n"
     ]
    }
   ],
   "source": [
    "# range.\n",
    "print(list(range(10)))\n",
    "print(list(range(5,10)))\n",
    "print(list(range(5,10,2)))"
   ]
  },
  {
   "cell_type": "code",
   "execution_count": 109,
   "metadata": {
    "ExecuteTime": {
     "end_time": "2021-02-24T05:34:02.857723Z",
     "start_time": "2021-02-24T05:34:02.852735Z"
    }
   },
   "outputs": [
    {
     "name": "stdout",
     "output_type": "stream",
     "text": [
      "None\n",
      "None\n",
      "None\n"
     ]
    }
   ],
   "source": [
    "# 예제 : 다음과 같은 실행결과의 튜플인수를 갖는 range2\n",
    "print(range2(10))\n",
    "print(range2(5,10))\n",
    "print(range2(5,10,2))"
   ]
  },
  {
   "cell_type": "code",
   "execution_count": 115,
   "metadata": {
    "ExecuteTime": {
     "end_time": "2021-02-24T05:38:07.530918Z",
     "start_time": "2021-02-24T05:38:07.524922Z"
    }
   },
   "outputs": [
    {
     "name": "stdout",
     "output_type": "stream",
     "text": [
      "[0, 1, 2, 3, 4, 5, 6, 7, 8, 9]\n",
      "[5, 6, 7, 8, 9]\n",
      "[5, 7, 9]\n",
      "떼끼\n",
      "[]\n"
     ]
    }
   ],
   "source": [
    "def range2(*args):\n",
    "    length = len(args)\n",
    "    result = []\n",
    "    if length==0:\n",
    "        raise Exception(\"매개변수가 없으면 안됩니다.\")\n",
    "    elif length == 1:\n",
    "        for i in range(args[0]):\n",
    "            result.append(i)\n",
    "    elif length == 2:\n",
    "        for i in range(args[0],args[1]):\n",
    "            result.append(i)\n",
    "    elif length == 3:\n",
    "        for i in range(args[0],args[1],args[2]):\n",
    "            result.append(i)\n",
    "    else:\n",
    "        print(\"떼끼\")\n",
    "      #  return => []이렇게 안뜨게 하고싶으면 추가.\n",
    "    return result\n",
    "# print(range2()) # Exception: 매개변수가 없으면 안됩니다.\n",
    "print(range2(10))\n",
    "print(range2(5,10))\n",
    "print(range2(5,10,2))\n",
    "print(range2(1,2,3,4))"
   ]
  },
  {
   "cell_type": "code",
   "execution_count": 117,
   "metadata": {
    "ExecuteTime": {
     "end_time": "2021-02-24T05:39:32.756221Z",
     "start_time": "2021-02-24T05:39:32.740568Z"
    }
   },
   "outputs": [
    {
     "data": {
      "text/plain": [
       "[5, 7, 9]"
      ]
     },
     "execution_count": 117,
     "metadata": {},
     "output_type": "execute_result"
    }
   ],
   "source": [
    "t = (5,10,2)\n",
    "# range2(t) 불가.\n",
    "range2(*t) #튜플인수 언패킹."
   ]
  },
  {
   "cell_type": "markdown",
   "metadata": {},
   "source": [
    "**딕셔너리 인수 언패킹**"
   ]
  },
  {
   "cell_type": "code",
   "execution_count": 120,
   "metadata": {
    "ExecuteTime": {
     "end_time": "2021-02-24T05:42:13.696768Z",
     "start_time": "2021-02-24T05:42:13.691781Z"
    }
   },
   "outputs": [
    {
     "name": "stdout",
     "output_type": "stream",
     "text": [
      "('name', '홍길동')\n",
      "('age', 24)\n",
      "('address', '마포')\n"
     ]
    }
   ],
   "source": [
    "def func5(**data):\n",
    "    for item in data.items():\n",
    "        print(item)\n",
    "func5(name='홍길동', age=24, address='마포')"
   ]
  },
  {
   "cell_type": "code",
   "execution_count": 124,
   "metadata": {
    "ExecuteTime": {
     "end_time": "2021-02-24T05:44:50.312109Z",
     "start_time": "2021-02-24T05:44:50.308136Z"
    }
   },
   "outputs": [
    {
     "name": "stdout",
     "output_type": "stream",
     "text": [
      "('name', '홍길동')\n",
      "('age', 24)\n",
      "('address', '마포')\n"
     ]
    }
   ],
   "source": [
    "customerInfo = {'name':'홍길동', 'age':24, 'address':'마포'}\n",
    "# func5(customerInfo)\n",
    "func5(**customerInfo) #딕셔너리 언패킹 **, 튜플 언패킹 * ."
   ]
  },
  {
   "cell_type": "markdown",
   "metadata": {},
   "source": [
    "# 4절. 람다식\n",
    "- 람다식은 작은 익명함수를 의미함.\n",
    "- 실행할 문장이 한 문장만 작성 할 수 있다.\n",
    "- return 구문이 없어도 statement 결과를 반환함.\n",
    "- (+)리스트형 프리텐션 같이 참조해서 하는걸 추천.\n",
    "- filter(), map()함수 , 같이 참조해서 하는걸 추천."
   ]
  },
  {
   "cell_type": "code",
   "execution_count": 125,
   "metadata": {
    "ExecuteTime": {
     "end_time": "2021-02-24T05:48:24.345418Z",
     "start_time": "2021-02-24T05:48:24.340433Z"
    }
   },
   "outputs": [
    {
     "data": {
      "text/plain": [
       "[1, 8, 27]"
      ]
     },
     "execution_count": 125,
     "metadata": {},
     "output_type": "execute_result"
    }
   ],
   "source": [
    "l = [1,2,3]\n",
    "[x**3 for x in l]"
   ]
  },
  {
   "cell_type": "markdown",
   "metadata": {},
   "source": [
    "## 4.1 람다식 : 한줄짜리 작은 익명함수를 의미"
   ]
  },
  {
   "cell_type": "code",
   "execution_count": 126,
   "metadata": {
    "ExecuteTime": {
     "end_time": "2021-02-24T05:50:45.304721Z",
     "start_time": "2021-02-24T05:50:45.300732Z"
    }
   },
   "outputs": [
    {
     "data": {
      "text/plain": [
       "11"
      ]
     },
     "execution_count": 126,
     "metadata": {},
     "output_type": "execute_result"
    }
   ],
   "source": [
    "def add(a,b):\n",
    "    return a+b\n",
    "add(5,6)"
   ]
  },
  {
   "cell_type": "code",
   "execution_count": 130,
   "metadata": {
    "ExecuteTime": {
     "end_time": "2021-02-24T05:51:50.585173Z",
     "start_time": "2021-02-24T05:51:50.580187Z"
    }
   },
   "outputs": [
    {
     "data": {
      "text/plain": [
       "<function __main__.add(a, b)>"
      ]
     },
     "execution_count": 130,
     "metadata": {},
     "output_type": "execute_result"
    }
   ],
   "source": [
    "xx = add #add함수가 xx라는 변수이름에 들어간다.\n",
    "xx"
   ]
  },
  {
   "cell_type": "code",
   "execution_count": 128,
   "metadata": {
    "ExecuteTime": {
     "end_time": "2021-02-24T05:50:55.504408Z",
     "start_time": "2021-02-24T05:50:55.499442Z"
    }
   },
   "outputs": [
    {
     "data": {
      "text/plain": [
       "function"
      ]
     },
     "execution_count": 128,
     "metadata": {},
     "output_type": "execute_result"
    }
   ],
   "source": [
    "type(add)"
   ]
  },
  {
   "cell_type": "code",
   "execution_count": 133,
   "metadata": {
    "ExecuteTime": {
     "end_time": "2021-02-24T05:54:34.700343Z",
     "start_time": "2021-02-24T05:54:34.696355Z"
    }
   },
   "outputs": [],
   "source": [
    "add2 = lambda a,b : a+b # a,b(변수) : a+b(return값)"
   ]
  },
  {
   "cell_type": "code",
   "execution_count": 132,
   "metadata": {
    "ExecuteTime": {
     "end_time": "2021-02-24T05:54:12.247050Z",
     "start_time": "2021-02-24T05:54:12.243048Z"
    }
   },
   "outputs": [
    {
     "data": {
      "text/plain": [
       "30"
      ]
     },
     "execution_count": 132,
     "metadata": {},
     "output_type": "execute_result"
    }
   ],
   "source": [
    "add2(10,20)"
   ]
  },
  {
   "cell_type": "code",
   "execution_count": 134,
   "metadata": {
    "ExecuteTime": {
     "end_time": "2021-02-24T05:55:06.760205Z",
     "start_time": "2021-02-24T05:55:06.755240Z"
    }
   },
   "outputs": [
    {
     "data": {
      "text/plain": [
       "70"
      ]
     },
     "execution_count": 134,
     "metadata": {},
     "output_type": "execute_result"
    }
   ],
   "source": [
    "(lambda a,b : a+b)(30,40)"
   ]
  },
  {
   "cell_type": "markdown",
   "metadata": {},
   "source": [
    "## 4.2 함수의 인수에 람다식 사용."
   ]
  },
  {
   "cell_type": "code",
   "execution_count": 181,
   "metadata": {
    "ExecuteTime": {
     "end_time": "2021-02-24T06:36:24.447887Z",
     "start_time": "2021-02-24T06:36:24.443894Z"
    }
   },
   "outputs": [],
   "source": [
    "def map_template(func, L=[]):\n",
    "    result = []\n",
    "    for item in L:\n",
    "        result.append(func(item))\n",
    "    return result"
   ]
  },
  {
   "cell_type": "code",
   "execution_count": 182,
   "metadata": {
    "ExecuteTime": {
     "end_time": "2021-02-24T06:36:25.778325Z",
     "start_time": "2021-02-24T06:36:25.772341Z"
    }
   },
   "outputs": [
    {
     "data": {
      "text/plain": [
       "[2, 4, 6, 8, 10]"
      ]
     },
     "execution_count": 182,
     "metadata": {},
     "output_type": "execute_result"
    }
   ],
   "source": [
    "list_data = [1,2,3,4,5]\n",
    "def x_2(x):\n",
    "    return x*2\n",
    "map_template(x_2, list_data)"
   ]
  },
  {
   "cell_type": "code",
   "execution_count": 183,
   "metadata": {
    "ExecuteTime": {
     "end_time": "2021-02-24T06:36:27.295268Z",
     "start_time": "2021-02-24T06:36:27.291279Z"
    }
   },
   "outputs": [
    {
     "name": "stdout",
     "output_type": "stream",
     "text": [
      "[1, 2, 3, 4, 5]\n"
     ]
    },
    {
     "data": {
      "text/plain": [
       "[2, 4, 6, 8, 10]"
      ]
     },
     "execution_count": 183,
     "metadata": {},
     "output_type": "execute_result"
    }
   ],
   "source": [
    "print(list_data)\n",
    "map_template(lambda x : x*2, list_data)"
   ]
  },
  {
   "cell_type": "code",
   "execution_count": 184,
   "metadata": {
    "ExecuteTime": {
     "end_time": "2021-02-24T06:36:28.919950Z",
     "start_time": "2021-02-24T06:36:28.914938Z"
    }
   },
   "outputs": [
    {
     "data": {
      "text/plain": [
       "[2, 4, 6, 8, 10]"
      ]
     },
     "execution_count": 184,
     "metadata": {},
     "output_type": "execute_result"
    }
   ],
   "source": [
    "# map() : 함수 이용.\n",
    "list(map(lambda x:x*2, list_data))"
   ]
  },
  {
   "cell_type": "code",
   "execution_count": 185,
   "metadata": {
    "ExecuteTime": {
     "end_time": "2021-02-24T06:36:30.822835Z",
     "start_time": "2021-02-24T06:36:30.818846Z"
    }
   },
   "outputs": [
    {
     "data": {
      "text/plain": [
       "[2, 4, 6, 8, 10]"
      ]
     },
     "execution_count": 185,
     "metadata": {},
     "output_type": "execute_result"
    }
   ],
   "source": [
    "# 리스트 컴프리헨션\n",
    "[x*2 for x in list_data]"
   ]
  },
  {
   "cell_type": "code",
   "execution_count": 186,
   "metadata": {
    "ExecuteTime": {
     "end_time": "2021-02-24T06:36:33.389971Z",
     "start_time": "2021-02-24T06:36:33.385980Z"
    }
   },
   "outputs": [],
   "source": [
    "list_data = [1,2,3,4,5]\n",
    "def filter_template(func, L=[]):\n",
    "    result =[]\n",
    "    for item in L:\n",
    "        if func(item):\n",
    "            result.append(item)\n",
    "    return result"
   ]
  },
  {
   "cell_type": "code",
   "execution_count": 199,
   "metadata": {
    "ExecuteTime": {
     "end_time": "2021-02-24T06:38:38.231030Z",
     "start_time": "2021-02-24T06:38:38.228042Z"
    }
   },
   "outputs": [],
   "source": [
    "#def evenyesorno(x):\n",
    "#    if x%2==0:\n",
    "#        return True\n",
    "#    else:\n",
    "#        return False\n",
    "#filter_template(evenyesorno, list_data)"
   ]
  },
  {
   "cell_type": "code",
   "execution_count": 200,
   "metadata": {
    "ExecuteTime": {
     "end_time": "2021-02-24T06:38:42.382908Z",
     "start_time": "2021-02-24T06:38:42.378919Z"
    }
   },
   "outputs": [],
   "source": [
    "# print(evenyesorno(1))"
   ]
  },
  {
   "cell_type": "code",
   "execution_count": 201,
   "metadata": {
    "ExecuteTime": {
     "end_time": "2021-02-24T06:39:03.519851Z",
     "start_time": "2021-02-24T06:39:03.514865Z"
    }
   },
   "outputs": [
    {
     "data": {
      "text/plain": [
       "[2, 4]"
      ]
     },
     "execution_count": 201,
     "metadata": {},
     "output_type": "execute_result"
    }
   ],
   "source": [
    "def evenyesorno(x):\n",
    "    if x%2==0:\n",
    "        return True\n",
    "filter_template(evenyesorno, list_data)"
   ]
  },
  {
   "cell_type": "code",
   "execution_count": 203,
   "metadata": {
    "ExecuteTime": {
     "end_time": "2021-02-24T06:39:27.144679Z",
     "start_time": "2021-02-24T06:39:27.139689Z"
    }
   },
   "outputs": [
    {
     "data": {
      "text/plain": [
       "[2, 4]"
      ]
     },
     "execution_count": 203,
     "metadata": {},
     "output_type": "execute_result"
    }
   ],
   "source": [
    "filter_template(lambda x : x%2 ==0, list_data)"
   ]
  },
  {
   "cell_type": "code",
   "execution_count": 204,
   "metadata": {
    "ExecuteTime": {
     "end_time": "2021-02-24T06:39:35.687821Z",
     "start_time": "2021-02-24T06:39:35.682869Z"
    }
   },
   "outputs": [
    {
     "data": {
      "text/plain": [
       "[2, 4]"
      ]
     },
     "execution_count": 204,
     "metadata": {},
     "output_type": "execute_result"
    }
   ],
   "source": [
    "# filter() 함수\n",
    "list(filter(lambda x : x%2 == 0, list_data))"
   ]
  },
  {
   "cell_type": "code",
   "execution_count": 206,
   "metadata": {
    "ExecuteTime": {
     "end_time": "2021-02-24T06:40:04.607804Z",
     "start_time": "2021-02-24T06:40:04.602818Z"
    }
   },
   "outputs": [
    {
     "data": {
      "text/plain": [
       "[2, 4]"
      ]
     },
     "execution_count": 206,
     "metadata": {},
     "output_type": "execute_result"
    }
   ],
   "source": [
    "# 리스트 컴프리헨션\n",
    "[x for x in list_data if x%2==0]   "
   ]
  },
  {
   "cell_type": "markdown",
   "metadata": {},
   "source": [
    "**람다식은 함수가 실행할 문장이 한문장일 경우만 사용**\n",
    "**람다식이 가장 많이 사용되는 곳은 함수의 인수로 전달할때나 return 할때**"
   ]
  },
  {
   "cell_type": "code",
   "execution_count": 207,
   "metadata": {
    "ExecuteTime": {
     "end_time": "2021-02-24T06:43:32.279991Z",
     "start_time": "2021-02-24T06:43:32.275030Z"
    }
   },
   "outputs": [
    {
     "data": {
      "text/plain": [
       "[(1, 'one'), (2, 'two'), (3, 'three'), (4, 'four')]"
      ]
     },
     "execution_count": 207,
     "metadata": {},
     "output_type": "execute_result"
    }
   ],
   "source": [
    "pairs = [(1, 'one'), (3, 'three'), (2,'two'),(4,'four')]\n",
    "pairs.sort()\n",
    "pairs"
   ]
  },
  {
   "cell_type": "code",
   "execution_count": 210,
   "metadata": {
    "ExecuteTime": {
     "end_time": "2021-02-24T06:47:00.864137Z",
     "start_time": "2021-02-24T06:47:00.859176Z"
    }
   },
   "outputs": [
    {
     "data": {
      "text/plain": [
       "[(4, 'four'), (1, 'one'), (3, 'three'), (2, 'two')]"
      ]
     },
     "execution_count": 210,
     "metadata": {},
     "output_type": "execute_result"
    }
   ],
   "source": [
    "pairs.sort(key=lambda pair : pair[1])\n",
    "pairs"
   ]
  },
  {
   "cell_type": "code",
   "execution_count": 208,
   "metadata": {
    "ExecuteTime": {
     "end_time": "2021-02-24T06:46:20.672616Z",
     "start_time": "2021-02-24T06:46:20.667653Z"
    }
   },
   "outputs": [
    {
     "data": {
      "text/plain": [
       "20"
      ]
     },
     "execution_count": 208,
     "metadata": {},
     "output_type": "execute_result"
    }
   ],
   "source": [
    "(lambda pair : pair[1])((10,20,30)) #인덱스 1인 값만."
   ]
  },
  {
   "cell_type": "code",
   "execution_count": 211,
   "metadata": {
    "ExecuteTime": {
     "end_time": "2021-02-24T06:48:44.928276Z",
     "start_time": "2021-02-24T06:48:44.923314Z"
    }
   },
   "outputs": [
    {
     "data": {
      "text/plain": [
       "1000000"
      ]
     },
     "execution_count": 211,
     "metadata": {},
     "output_type": "execute_result"
    }
   ],
   "source": [
    "def apply(data, func=None):\n",
    "    if func==None:\n",
    "        return data\n",
    "    else:\n",
    "        return func(data)\n",
    "apply(100, lambda x : x**3)"
   ]
  },
  {
   "cell_type": "markdown",
   "metadata": {},
   "source": [
    "## 4.3 리턴문에 람다식 사용."
   ]
  },
  {
   "cell_type": "code",
   "execution_count": 212,
   "metadata": {
    "ExecuteTime": {
     "end_time": "2021-02-24T06:59:22.951118Z",
     "start_time": "2021-02-24T06:59:22.947129Z"
    }
   },
   "outputs": [],
   "source": [
    "# 함수를 return 하는 함수\n",
    "\"\"\"\n",
    "make_box((5,)) => 1차원 5열 list 를 만드는 함수 fun => fun(10) => [10,10,10,10,10]\n",
    "make_box((2,3)) => 2차원 2행3열 list 를 만드는 함수 fun => fun(10)\n",
    "                                                          => [[10,10,10],[10,10,10]]\n",
    "                                                          \n",
    "\"\"\"\n",
    "\n",
    "def make_box(shape): #튜플이나 리스트가 들어가야한다.\n",
    "    def box(init_value):\n",
    "        if len(shape)==1:\n",
    "            return [init_value] * shape[0]\n",
    "        elif len(shape)==2:\n",
    "            return [ [init_value] * shape[1] ] * shape[0]\n",
    "    return box"
   ]
  },
  {
   "cell_type": "code",
   "execution_count": 213,
   "metadata": {
    "ExecuteTime": {
     "end_time": "2021-02-24T06:59:57.286935Z",
     "start_time": "2021-02-24T06:59:57.282945Z"
    }
   },
   "outputs": [],
   "source": [
    "box1 = make_box([5,])\n",
    "type(box1)"
   ]
  },
  {
   "cell_type": "code",
   "execution_count": 215,
   "metadata": {
    "ExecuteTime": {
     "end_time": "2021-02-24T07:00:33.303382Z",
     "start_time": "2021-02-24T07:00:33.298415Z"
    }
   },
   "outputs": [
    {
     "data": {
      "text/plain": [
       "[10, 10, 10, 10, 10]"
      ]
     },
     "execution_count": 215,
     "metadata": {},
     "output_type": "execute_result"
    }
   ],
   "source": [
    "box1(10)"
   ]
  },
  {
   "cell_type": "code",
   "execution_count": 216,
   "metadata": {
    "ExecuteTime": {
     "end_time": "2021-02-24T07:01:33.367492Z",
     "start_time": "2021-02-24T07:01:33.362531Z"
    }
   },
   "outputs": [
    {
     "data": {
      "text/plain": [
       "[[10, 10, 10], [10, 10, 10]]"
      ]
     },
     "execution_count": 216,
     "metadata": {},
     "output_type": "execute_result"
    }
   ],
   "source": [
    "box2 = make_box([2,3])\n",
    "box2(10)"
   ]
  },
  {
   "cell_type": "code",
   "execution_count": 217,
   "metadata": {
    "ExecuteTime": {
     "end_time": "2021-02-24T07:04:52.655387Z",
     "start_time": "2021-02-24T07:04:52.651422Z"
    }
   },
   "outputs": [],
   "source": [
    "def make_box(shape):\n",
    "    if len(shape)==1:\n",
    "        return lambda x : [x]*shape[0]\n",
    "    elif len(shape)==2:\n",
    "        return lambda x: [ [x]*shape[1] ] * shape[0]"
   ]
  },
  {
   "cell_type": "code",
   "execution_count": 218,
   "metadata": {
    "ExecuteTime": {
     "end_time": "2021-02-24T07:05:13.082438Z",
     "start_time": "2021-02-24T07:05:13.077451Z"
    }
   },
   "outputs": [
    {
     "data": {
      "text/plain": [
       "[[5, 5], [5, 5], [5, 5]]"
      ]
     },
     "execution_count": 218,
     "metadata": {},
     "output_type": "execute_result"
    }
   ],
   "source": [
    "box1 =make_box((3,2))\n",
    "box1(5)"
   ]
  },
  {
   "cell_type": "code",
   "execution_count": 219,
   "metadata": {
    "ExecuteTime": {
     "end_time": "2021-02-24T07:05:44.191625Z",
     "start_time": "2021-02-24T07:05:44.186639Z"
    }
   },
   "outputs": [
    {
     "data": {
      "text/plain": [
       "[10, 10, 10, 10, 10, 10, 10]"
      ]
     },
     "execution_count": 219,
     "metadata": {},
     "output_type": "execute_result"
    }
   ],
   "source": [
    "box2 = make_box((7,))\n",
    "box2(10)"
   ]
  },
  {
   "cell_type": "markdown",
   "metadata": {},
   "source": [
    "# 5절. 파이썬 내장함수\n",
    "- import 하지 않고 바로 사용 가능한 함수\n",
    "- 키워드 처럼 간주되므로 식별자로 사용하는 것을 피함."
   ]
  },
  {
   "cell_type": "code",
   "execution_count": null,
   "metadata": {},
   "outputs": [],
   "source": [
    "# print = 5 이렇게 실행을 하게된다면 원래 있던 print 함수의 기능을 못쓴다."
   ]
  },
  {
   "cell_type": "code",
   "execution_count": 220,
   "metadata": {
    "ExecuteTime": {
     "end_time": "2021-02-24T07:13:04.194440Z",
     "start_time": "2021-02-24T07:13:04.190450Z"
    }
   },
   "outputs": [
    {
     "data": {
      "text/plain": [
       "1"
      ]
     },
     "execution_count": 220,
     "metadata": {},
     "output_type": "execute_result"
    }
   ],
   "source": [
    "int(\"1\")"
   ]
  },
  {
   "cell_type": "code",
   "execution_count": 221,
   "metadata": {
    "ExecuteTime": {
     "end_time": "2021-02-24T07:13:10.963364Z",
     "start_time": "2021-02-24T07:13:10.955383Z"
    }
   },
   "outputs": [
    {
     "ename": "ValueError",
     "evalue": "invalid literal for int() with base 10: '1.2'",
     "output_type": "error",
     "traceback": [
      "\u001b[1;31m---------------------------------------------------------------------------\u001b[0m",
      "\u001b[1;31mValueError\u001b[0m                                Traceback (most recent call last)",
      "\u001b[1;32m<ipython-input-221-8a24604d2f3f>\u001b[0m in \u001b[0;36m<module>\u001b[1;34m\u001b[0m\n\u001b[1;32m----> 1\u001b[1;33m \u001b[0mint\u001b[0m\u001b[1;33m(\u001b[0m\u001b[1;34m\"1.2\"\u001b[0m\u001b[1;33m)\u001b[0m\u001b[1;33m\u001b[0m\u001b[1;33m\u001b[0m\u001b[0m\n\u001b[0m",
      "\u001b[1;31mValueError\u001b[0m: invalid literal for int() with base 10: '1.2'"
     ]
    }
   ],
   "source": [
    "int(\"1.2\")"
   ]
  },
  {
   "cell_type": "code",
   "execution_count": 222,
   "metadata": {
    "ExecuteTime": {
     "end_time": "2021-02-24T07:13:26.259434Z",
     "start_time": "2021-02-24T07:13:26.254448Z"
    }
   },
   "outputs": [
    {
     "data": {
      "text/plain": [
       "1"
      ]
     },
     "execution_count": 222,
     "metadata": {},
     "output_type": "execute_result"
    }
   ],
   "source": [
    "int(float(\"1.2\"))"
   ]
  },
  {
   "cell_type": "code",
   "execution_count": 224,
   "metadata": {
    "ExecuteTime": {
     "end_time": "2021-02-24T07:15:44.512007Z",
     "start_time": "2021-02-24T07:15:44.475116Z"
    }
   },
   "outputs": [
    {
     "data": {
      "text/plain": [
       "{'__name__': '__main__',\n",
       " '__doc__': '\\nmake_box((5,)) => 1차원 5열 list 를 만드는 함수 fun => fun(10) => [10,10,10,10,10]\\nmake_box((2,3)) => 2차원 2행3열 list 를 만드는 함수 fun => fun(10)\\n                                                          => [[10,10,10],[10,10,10]]\\n                                                          \\n',\n",
       " '__package__': None,\n",
       " '__loader__': None,\n",
       " '__spec__': None,\n",
       " '__builtin__': <module 'builtins' (built-in)>,\n",
       " '__builtins__': <module 'builtins' (built-in)>,\n",
       " '_ih': ['',\n",
       "  'def func4(a, L=None):\\n    if L is None:\\n        L = []\\n    L.append(a)\\n    return L\\nfunc4(10)',\n",
       "  'func4(30)',\n",
       "  'list_ =[]\\nfunc4(10, list_)',\n",
       "  'func4(10, list_)',\n",
       "  'func4(2, list_)',\n",
       "  'func4(2, list_)',\n",
       "  'func4(2, list_)',\n",
       "  'func4(2, list_)',\n",
       "  'func4(2, list_)',\n",
       "  'func4(a = 2, list_)',\n",
       "  'func4(a = 2, L = list_)',\n",
       "  'func4(L=list_ , a=2)',\n",
       "  'func4(L=list_ , a=2) # 3. 1~3번 다 같은 내용.',\n",
       "  'func4(a=30)',\n",
       "  'func4(a=30) #L 은 None 이니 가능.',\n",
       "  'func4() # a 값은 들어와야한다.',\n",
       "  'func4(50, a=30, L=[])',\n",
       "  'func4(L=[], a=30)',\n",
       "  'func4(L=[], a=30) #가능.',\n",
       "  'func4([], a=30) #이름을 안적으면 순서적으로 들어가기때문에 a가 두개라고 에러가 난다.',\n",
       "  \"def my_hello():\\n    print('Hello, world')\\n    print('Hello, Python')\",\n",
       "  'my_hello',\n",
       "  'func4([]) #a에 빈스트링이 들어간다. ',\n",
       "  'func4(L=list_, 70)',\n",
       "  \"if __name__== '__main__':\\n    my_hello()\",\n",
       "  'def my_add(num1, num2, num3=0): # 기본값을 갖는 매개변수는 뒤에\\n    return num1+num2+num3\\n\\nprint(my_add(20,30,40))\\nprint(my_add(20,30))',\n",
       "  'def my_function():\\n    \"\"\"\\n    함수의 첫 라인에 독스트링을 포함시킬 수 있다.\\n    독스트링은 함수의 설명서를 달아주는 역할. 주석보다 더 많은 기능\\n    \"\"\"\\n    pass',\n",
       "  'print(my_function.__doc__)',\n",
       "  'def fibonacci(n):\\n    \"\"\"\\n    매개변수로 들어온 n값 미만까지 피보나치 수열을 출력합니다.\\n    \"\"\"\\n    a, b = 0, 1\\n    while a < n :\\n        print(a, end=\\'  \\')\\n        a, b = b, a+b\\n    print()\\n\\nif __name__==\\'__main__\\':\\n    fibonacci(10)',\n",
       "  'gobal_var = 100 # 전역변수\\ndef func1():\\n    print(gobal_var)\\n\\nfunc1()',\n",
       "  'def func2():\\n    local_var = 200\\n    print(local_var)\\n\\nfunc2()',\n",
       "  'local_var',\n",
       "  \"# 렉시컬 특성\\ng_var = 100\\ndef func3():\\n    print('before', g_var)\\n    g_var = 200 # 지역변수를 선언하면서 할당\\n    print('after', g_var)\\nfunc3()\",\n",
       "  \"g_var = 100\\ndef func3():\\n    global g_var # g_var변수는 전역변수를 쓸 거야\\n    print('before', g_var)\\n    g_var = 200  # 전역변수 g_var에 다시 값 할당\\n    print('after', g_var)\\nprint('func3() 실행 전', g_var)\\nfunc3()\\nprint(g_var)\",\n",
       "  \"# 렉시컬 특성\\ng_var = 100\\ndef func3():\\n    print('before', g_var)\\n    g_var = 200 # 지역변수를 선언하면서 할당\\n    print('after', g_var)\\nfunc3()\",\n",
       "  \"g_var = 100\\ndef func3():\\n    global g_var # g_var변수는 전역변수를 쓸 거야\\n    print('before', g_var)\\n    g_var = 200  # 전역변수 g_var에 다시 값 할당\\n    print('after', g_var)\\nprint('func3() 실행 전', g_var)\\nfunc3()\\nprint(g_var)\",\n",
       "  'def add(a,b):\\n    return a + b\\nprint(add(1,2))',\n",
       "  'def add(a,b):\\n    return a + b + c\\nprint(add(1,2,3))',\n",
       "  'def add(a,b,c):\\n    return a + b + c\\nprint(add(1,2,3))',\n",
       "  'print(add(10,20))',\n",
       "  '# args 앞에 * => args 가 튜플로 전달.\\ndef add(*args): #args = (1,2,3,4,5)\\n    sum = 0\\n    for num in args:\\n        sum += num  #sum에 누적.\\n    return sum\\n\\nprint(add(1,2,3,4,5))',\n",
       "  '# args 앞에 * => args 가 튜플로 전달.\\ndef add(*args): #args = (1,2,3,4,5)  , args = (1,) 하나는 이렇게 들어간다.\\n    sum = 0\\n    for num in args:\\n        sum += num  #sum에 누적.\\n    return sum\\n\\nprint(add(1,2,3,4,5))\\nprint(add(1))\\nprint(add(1,2,3,4,5,6,7,8,9,10,11))',\n",
       "  'def concat(*args, sep):\\n    return sep.join(args)',\n",
       "  'city = (\"서울\",\"부산\",\"인천\")\\n\\'-\\'.join(city)',\n",
       "  'def concat(*args, sep):\\n    return sep.join(args)',\n",
       "  \"concat('hello','world','/')\",\n",
       "  \"# concat('hello','world','/') # args에만 들어가서 sep 의 값이 없기에 오류.\\nconcat('hello','world',sep='/') # sep= 이렇게 지정해주면 sep에 값이 들어간다.\",\n",
       "  \"concat('hello','world','/') # args에만 들어가서 sep 의 값이 없기에 오류.\\n# concat('hello','world',sep='/') # sep= 이렇게 지정해주면 sep에 값이 들어간다.\",\n",
       "  \"global_var = 100\\ndef func1():\\n    global_var = 200 # 지역변수 선언\\n    print(global_var) # 지역변수\\nprint('func1() 실행 전 global_var값', global_var)\\nfunc1()\\nprint('func1() 실행 후 global_var값', global_var)\",\n",
       "  \"global_var = 100\\ndef func1():\\n    global global_var\\n    global_var = 200 # 전역변수 선언\\n    print(global_var) # 전역변수\\nprint('func1() 실행 전 global_var값', global_var)\\nfunc1()\\nprint('func1() 실행 후 global_var값', global_var)\",\n",
       "  \"foo = 'a' # 전역변수\\nid(foo)\",\n",
       "  \"def func1(foo): # 매개변수는 지역변수\\n    print('Before :', foo)\\n    foo = foo * 3\\n    print('After :', foo, '의 주소는', id(foo))\\nfunc1(foo)\",\n",
       "  'print(foo, id(foo)) # 전역변수',\n",
       "  'print(foo, id(foo)) # 전역변수',\n",
       "  '# 해결책 .2\\ndef concat(sep, *args):\\n    return sep.join(args)',\n",
       "  \"concat('/','heoll','world')\",\n",
       "  \"concat('/','earth','mars','venus')\",\n",
       "  'L = [1,2,3,4,5]\\nid(L)',\n",
       "  \"def func2(foo): # foo는 지역변수\\n    print('before:',foo, '의 주소 :', id(foo))\\n    foo.append(6)\\n    print('after:',foo,'의 주소 :', id(foo))\\nfunc2(L)\\nprint('함수 호출 후에 L :', L, '의 주소 :',id(L))\",\n",
       "  'def fibonacci(n):\\n    \"\"\"\\n    매개변수로 들어온 n값 미만까지 피보나치 수열을 출력합니다.\\n    \"\"\"\\n    a, b = 0, 1\\n    while a < n :\\n        print(a, end=\\'  \\')\\n        a, b = b, a+b\\n    print()',\n",
       "  'type(fibonacci)',\n",
       "  'type(fibonacci)',\n",
       "  'fibo = fibonacci # fibonacci함수이름이 fibo로도 사용가능',\n",
       "  'fibo(100)',\n",
       "  \"concat('earth','mars','venus')\",\n",
       "  '# 해결책. 3',\n",
       "  'def fibonacci_print(n):\\n    \"\"\"\\n    매개변수로 들어온 n값 미만까지 피보나치 수열을 출력합니다.\\n    \"\"\"\\n    a, b = 0, 1\\n    while a < n :\\n        print(a, end=\\'  \\')\\n        a, b = b, a+b\\n    print()\\ndef fibonacci(n):\\n    \"n값 미만의 피보나치 수열을 return\"\\n    result = []\\n    a, b = 0, 1\\n    while a < n :\\n        result.append(a)\\n        a, b = b, a+b\\n    return result',\n",
       "  'x = fibonacci_print(100)',\n",
       "  \"# 해결책. 3\\ndef concat(*args, sep='/'): #순서 인수 > 튜플인수 > 키워드 인수(기본값받는.) => 순서도\\n    return sep.join(args)\",\n",
       "  \"concat('earth','mars','venus')\",\n",
       "  'print(x, type(x))',\n",
       "  'L = fibonacci(100)',\n",
       "  \"concat('Python','R','hadoop', sep=' ~ ')\",\n",
       "  'print(L, type(L))',\n",
       "  'def swap(a, b):\\n    return b, a',\n",
       "  \"x, y = 5 , 10\\nprint('함수 실행 전 ', x, y)\\nx, y = swap(x, y)\\nprint('함수 실행 후 ', x, y)\",\n",
       "  'a = swap(x, y)\\nprint(type(a))\\nprint(a)',\n",
       "  'def make_url(ip, port=80):\\n    return \\'http://{}:{}\\'.format(ip, port)\\nmake_url(\"localhost\",80)',\n",
       "  'make_url(\"localhost\")',\n",
       "  \"i = 5\\n# 기본변수가 스칼라변수일 때 :arg의 기본값은 함수가 정의되는 지점에 한번만 평가됩니다\\ndef func2(arg=i): \\n    print('arg = ', arg)\",\n",
       "  'i = 6\\nfunc2()',\n",
       "  'print(func2())',\n",
       "  '# 기본변수가 리스트, 셋, 딕셔너리 또는 객체일때 함수를 호출 후 다시 전달\\nlist_ = []\\ndef func3(a, L=list_):\\n    L.append(a)\\n    return L\\nprint(func3(1))\\nprint(list_)',\n",
       "  'print(func3(2))\\nprint(list_)',\n",
       "  'def func(a, L=[]):\\n    L.append(a)\\n    return L\\nprint(func(1))',\n",
       "  'print(func(2))',\n",
       "  'def func5(**args):   # **args => 딕셔너리로 전달.\\n             # args = {name=\\'홍길동\\',age = 20, address = \\'서울시\\'} 이렇게 들어간다는것이다.\\n    for key, value in args.items():\\n        print(\"{}:{}\".format(key,value))\\nfunc5(name=\\'홍길동\\',age = 20, address = \\'서울시\\')',\n",
       "  \"# def func6 의 순서.\\n# def func6(순서인수 > 튜플인수 > 키워드 인수(없음.) > 딕셔너리 인수)\\ndef func6(a, *b, **c):\\n    print('a = ',a)\\n    print('b = ',b)\\n    print('c = ',c)\",\n",
       "  \"# 순서를 바꿔보았다.\\ndef func6(*b, a, **c):\\n    print('a = ',a)\\n    print('b = ',b)\\n    print('c = ',c)\",\n",
       "  \"func6(10, 1,2,3,4,5, name='Kim', age=35)\",\n",
       "  \"func6(10, 1,2,3,4,5, name='Kim', age=35) #이처럼 순서를 바꾸게 된다면 오류가 나타난다.\",\n",
       "  \"#def func (순서인수 > 튜플인수 > 키워드 인수 > 딕셔너리 인수)\\ndef func(a, b, c, *d, e=10, **f):\\n    print('a = ', a)\\n    print('b = ', b)\\n    print('c = ', c)\\n    print('d = ', d)\\n    print('e = ', e)\\n    print('f = ', f)\",\n",
       "  'print(10,20,30, 1,2,3,4,2,4, e=20, name=\"Kim\", age=30, address=\"마포\")',\n",
       "  'func(10,20,30, 1,2,3,4,2,4, e=20, name=\"Kim\", age=30, address=\"마포\")',\n",
       "  'def add(*args):\\n    sum = 0\\n    for num in args:\\n        sum += num\\n    return sum\\nadd(1,2,3,4)',\n",
       "  'numbers = (1,2,3,4)\\nadd(numbers)',\n",
       "  '**튜플언패킹',\n",
       "  'numbers = (1,2,3,4)\\n# add(numbers) 에러.\\nadd(*numbers)',\n",
       "  'numbers = (1,2,3,4)\\n# add(numbers) 에러.\\nadd(*numbers) #튜플 언패킹.',\n",
       "  '# 예제 : \\nrange(10)',\n",
       "  '# 예제 : \\nlist(range(10))',\n",
       "  '# 예제 : \\nprint(list(range(10)))',\n",
       "  '# 예제 : \\nprint(list(range(10)))\\nprint(list(range(5,10)))\\nprint(list(range(5,10,2)))',\n",
       "  '# 예제 : \\nprint(list(range(10)))\\nprint(list(range(5,20)))\\nprint(list(range(5,10,2)))',\n",
       "  '# 예제 : \\nprint(list(range(10)))\\nprint(list(range(5,10)))\\nprint(list(range(5,10,2)))',\n",
       "  '# 예제 : 다음과 같은 실행결과의 튜플인수를 갖는 range2\\nprint(range2(10))\\nprint(range2(5,10))\\nprint(range2(5,10,2))',\n",
       "  'def range2(*args):\\n    length = len(args)\\n    result = []\\n    if length==0:\\n        raise Exception(\"매개변수가 없으면 안됩니다.\")\\n    elif length == 1:\\n        for i in range(args[0]):\\n            result.append(i)\\n    elif length == 2:',\n",
       "  'def range2(*args):\\n    length = len(args)\\n    result = []\\n    if length==0:\\n        raise Exception(\"매개변수가 없으면 안됩니다.\")\\n    elif length == 1:\\n        for i in range(args[0]):\\n            result.append(i)\\n    elif length == 2:\\n        for i in range(args[0],args[1]):\\n            result.append(i)\\n    elif length == 3:\\n        for i in range(args[0],args[1],args[2]):\\n            result.append(i)\\n    else:\\n        print(\"떼끼\")',\n",
       "  '# 예제 : 다음과 같은 실행결과의 튜플인수를 갖는 range2\\nprint(range2(10))\\nprint(range2(5,10))\\nprint(range2(5,10,2))',\n",
       "  'def range2(*args):\\n    length = len(args)\\n    result = []\\n    if length==0:\\n        raise Exception(\"매개변수가 없으면 안됩니다.\")\\n    elif length == 1:\\n        for i in range(args[0]):\\n            result.append(i)\\n    elif length == 2:\\n        for i in range(args[0],args[1]):\\n            result.append(i)\\n    elif length == 3:\\n        for i in range(args[0],args[1],args[2]):\\n            result.append(i)\\n    else:\\n        print(\"떼끼\")\\n    return result\\nprint(range2())',\n",
       "  'def range2(*args):\\n    length = len(args)\\n    result = []\\n    if length==0:\\n        raise Exception(\"매개변수가 없으면 안됩니다.\")\\n    elif length == 1:\\n        for i in range(args[0]):\\n            result.append(i)\\n    elif length == 2:\\n        for i in range(args[0],args[1]):\\n            result.append(i)\\n    elif length == 3:\\n        for i in range(args[0],args[1],args[2]):\\n            result.append(i)\\n    else:\\n        print(\"떼끼\")\\n    return result\\nprint(range2()) # Exception: 매개변수가 없으면 안됩니다.\\nprint(range2(10))',\n",
       "  'def range2(*args):\\n    length = len(args)\\n    result = []\\n    if length==0:\\n        raise Exception(\"매개변수가 없으면 안됩니다.\")\\n    elif length == 1:\\n        for i in range(args[0]):\\n            result.append(i)\\n    elif length == 2:\\n        for i in range(args[0],args[1]):\\n            result.append(i)\\n    elif length == 3:\\n        for i in range(args[0],args[1],args[2]):\\n            result.append(i)\\n    else:\\n        print(\"떼끼\")\\n    return result\\n# print(range2()) # Exception: 매개변수가 없으면 안됩니다.\\nprint(range2(10))',\n",
       "  'def range2(*args):\\n    length = len(args)\\n    result = []\\n    if length==0:\\n        raise Exception(\"매개변수가 없으면 안됩니다.\")\\n    elif length == 1:\\n        for i in range(args[0]):\\n            result.append(i)\\n    elif length == 2:\\n        for i in range(args[0],args[1]):\\n            result.append(i)\\n    elif length == 3:\\n        for i in range(args[0],args[1],args[2]):\\n            result.append(i)\\n    else:\\n        print(\"떼끼\")\\n    return result\\n# print(range2()) # Exception: 매개변수가 없으면 안됩니다.\\nprint(range2(10))\\nprint(range2(5,10))\\nprint(range2(5,10,2))\\nprint(range2(1,2,3,4))',\n",
       "  'def range2(*args):\\n    length = len(args)\\n    result = []\\n    if length==0:\\n        raise Exception(\"매개변수가 없으면 안됩니다.\")\\n    elif length == 1:\\n        for i in range(args[0]):\\n            result.append(i)\\n    elif length == 2:\\n        for i in range(args[0],args[1]):\\n            result.append(i)\\n    elif length == 3:\\n        for i in range(args[0],args[1],args[2]):\\n            result.append(i)\\n    else:\\n        print(\"떼끼\")\\n        return\\n    return result\\n# print(range2()) # Exception: 매개변수가 없으면 안됩니다.\\nprint(range2(10))\\nprint(range2(5,10))\\nprint(range2(5,10,2))\\nprint(range2(1,2,3,4))',\n",
       "  'def range2(*args):\\n    length = len(args)\\n    result = []\\n    if length==0:\\n        raise Exception(\"매개변수가 없으면 안됩니다.\")\\n    elif length == 1:\\n        for i in range(args[0]):\\n            result.append(i)\\n    elif length == 2:\\n        for i in range(args[0],args[1]):\\n            result.append(i)\\n    elif length == 3:\\n        for i in range(args[0],args[1],args[2]):\\n            result.append(i)\\n    else:\\n        print(\"떼끼\")\\n      #  return\\n    return result\\n# print(range2()) # Exception: 매개변수가 없으면 안됩니다.\\nprint(range2(10))\\nprint(range2(5,10))\\nprint(range2(5,10,2))\\nprint(range2(1,2,3,4))',\n",
       "  't = (5,10,2)\\nrange2(t)',\n",
       "  't = (5,10,2)\\n# range2(t) 불가.\\nrange2(*t) #튜플인수 언패킹.',\n",
       "  \"def funcS(**data):\\n    for item in data.item():\\n        print(item)\\nfuncS(name='홍길동', age=24, address='마포')\",\n",
       "  \"def func5(**data):\\n    for item in data.item():\\n        print(item)\\nfunc5(name='홍길동', age=24, address='마포')\",\n",
       "  \"def func5(**data):\\n    for item in data.items():\\n        print(item)\\nfunc5(name='홍길동', age=24, address='마포')\",\n",
       "  \"customerInfo = {name='홍길동', age=24, address='마포'}\\nfunc5(customerInfo)\",\n",
       "  \"customerInfo = {name:'홍길동', age:24, address:'마포'}\\nfunc5(customerInfo)\",\n",
       "  \"customerInfo = {name:'홍길동', age:24, address:'마포'}\\n# func5(customerInfo)\\nfunc5(**customerInfo) #딕셔너리 언패킹 **, 튜플 언패킹 * .\",\n",
       "  \"customerInfo = {'name':'홍길동', 'age':24, 'address':'마포'}\\n# func5(customerInfo)\\nfunc5(**customerInfo) #딕셔너리 언패킹 **, 튜플 언패킹 * .\",\n",
       "  'l = [1,2,3]\\n[x**3 for x in l]',\n",
       "  'def add(a,b):\\n    return a+b\\nadd(5,6)',\n",
       "  'add',\n",
       "  'type(add)',\n",
       "  'xx = add #add함수가 xx라는 변수이름에 들어간다.',\n",
       "  'xx = add #add함수가 xx라는 변수이름에 들어간다.\\nxx',\n",
       "  'add2 = lambda a,b : a+b',\n",
       "  'add2(10,20)',\n",
       "  'add2 = lambda a,b : a+b # a,b(변수) : a+b(return값)',\n",
       "  '(lambda a,b : a+b)(30,40)',\n",
       "  'map_template(2배로 함수, [1,2,3]):\\n    result = []\\n    for item in L:\\n        result.append(func(item))\\n    return result',\n",
       "  'map_template(func, L=[]):\\n    result = []\\n    for item in L:\\n        result.append(func(item))\\n    return result',\n",
       "  'map_template(func, L=[]):\\n    result = []\\n    for item in L:\\n        result.append(func(item))\\n    return result',\n",
       "  'list_data = [1,2,3,4,5]\\ndef x_2(x):\\n    return x*2\\nmap_template(x_2, list_data)',\n",
       "  'map_template(rlambda x : x*2, list_data)',\n",
       "  '# map() : 함수 이용.\\nmap(lambda x:a*2, list_data)',\n",
       "  '# map() : 함수 이용.\\nlist(map(lambda x:a*2, list_data))',\n",
       "  '# map() : 함수 이용.\\nlist(map(lambda x:x*2, list_data))',\n",
       "  '# 리스트 컴프리헨션\\n[x*2 for x in list_data]',\n",
       "  'list_data = [1,2,3,4,5]\\ndef filter_templaste(func, L=[]):\\n    result =[]\\n    for item in L:\\n        if func(item):\\n            result.append(item)',\n",
       "  'def evenyyesorno(x):\\n    if x*2==0:\\n        return True\\n    else:\\n        return False\\nfilter_templaste(evenyyesorno, list_data)',\n",
       "  'def evenyesorno(x):\\n    if x*2==0:\\n        return True\\n    else:\\n        return False\\nfilter_templaste(evenyesorno, list_data)',\n",
       "  'def evenyesorno(x):\\n    if x%2==0:\\n        return True\\n    else:\\n        return False\\nfilter_templaste(evenyesorno, list_data)',\n",
       "  'print(evenyesorno(1))',\n",
       "  'list_data = [1,2,3,4,5]\\ndef filter_templaste(func, L=[]):\\n    result =[]\\n    for item in L:\\n        if func(item):\\n            result.append(item)\\n    return result',\n",
       "  'def evenyesorno(x):\\n    if x%2==0:\\n        return True\\n    else:\\n        return False\\nfilter_templaste(evenyesorno, list_data)',\n",
       "  'print(evenyesorno(1))',\n",
       "  'def evenyesorno(x):\\n    if x%2==0:\\n        return True\\nfilter_templaste(evenyesorno, list_data)',\n",
       "  'print(evenyesorno(1))',\n",
       "  'print(evenyesorno(1))',\n",
       "  'def evenyesorno(x):\\n    if x%2==0:\\n        return True\\n    else:\\n        return False\\nfilter_templaste(evenyesorno, list_data)',\n",
       "  'print(evenyesorno(1))',\n",
       "  'def evenyesorno(x):\\n    if x%2==0:\\n        return True\\nfilter_templaste(evenyesorno, list_data)',\n",
       "  'print(evenyesorno(1))',\n",
       "  'filter_templaste(lambda x : x%2 ==0)',\n",
       "  'filter_templaste(lambda x : x%2 ==0, list_data)',\n",
       "  '# filter() 함수\\nlist(filter(lambda x : x%2 == 0, list_data))',\n",
       "  '# 리스트 컴프리헨션\\n [x for in L if x%2 == 0]',\n",
       "  '# 리스트 컴프리헨션\\n [x for x in L if x%2 == 0]',\n",
       "  '# 리스트 컴프리헨션\\n [x for x in list_data if x%2 == 0]',\n",
       "  '# 리스트 컴프리헨션\\n [x for x in list_data if x%2==0]',\n",
       "  'def map_template(func, L=[]):\\n    result = []\\n    for item in L:\\n        result.append(func(item))\\n    return result',\n",
       "  'print(list_data)\\nmap_template(rlambda x : x*2, list_data)',\n",
       "  'print(list_data)\\nmap_template(lambda x : x*2, list_data)',\n",
       "  '# 리스트 컴프리헨션\\n [x for x in list_data if x%2==0]',\n",
       "  '# 리스트 컴프리헨션\\n [x for x in list_data if x%2==0]',\n",
       "  '# filter() 함수\\nlist(filter(lambda x : x%2 == 0, list_data))',\n",
       "  '# 리스트 컴프리헨션\\n [x for x in list_data if x%2==0]',\n",
       "  '# 리스트 컴프리헨션\\n[x*2 for x in list_data]',\n",
       "  'list_data = [1,2,3,4,5]\\ndef filter_templaste(func, L=[]):\\n    result =[]\\n    for item in L:\\n        if func(item):\\n            result.append(item)\\n    return result',\n",
       "  'print(evenyesorno(1))',\n",
       "  'def evenyesorno(x):\\n    if x%2==0:\\n        return True\\nfilter_templaste(evenyesorno, list_data)',\n",
       "  'print(evenyesorno(1))',\n",
       "  'filter_templaste(lambda x : x%2 ==0, list_data)',\n",
       "  '# filter() 함수\\nlist(filter(lambda x : x%2 == 0, list_data))',\n",
       "  '# 리스트 컴프리헨션\\n [x for x in list_data if x%2==0]',\n",
       "  'def map_template(func, L=[]):\\n    result = []\\n    for item in L:\\n        result.append(func(item))\\n    return result',\n",
       "  'list_data = [1,2,3,4,5]\\ndef x_2(x):\\n    return x*2\\nmap_template(x_2, list_data)',\n",
       "  'print(list_data)\\nmap_template(lambda x : x*2, list_data)',\n",
       "  '# map() : 함수 이용.\\nlist(map(lambda x:x*2, list_data))',\n",
       "  '# 리스트 컴프리헨션\\n[x*2 for x in list_data]',\n",
       "  'list_data = [1,2,3,4,5]\\ndef filter_template(func, L=[]):\\n    result =[]\\n    for item in L:\\n        if func(item):\\n            result.append(item)\\n    return result',\n",
       "  'def evenyesorno(x):\\n    if x%2==0:\\n        return True\\nfilter_template(evenyesorno, list_data)',\n",
       "  'filter_template(lambda x : x%2 ==0, list_data)',\n",
       "  '# filter() 함수\\nlist(filter(lambda x : x%2 == 0, list_data))',\n",
       "  '# 리스트 컴프리헨션\\n [x for x in list_data if x%2==0]',\n",
       "  '# 리스트 컴프리헨션\\n [x for x in list_data if x%2==0]',\n",
       "  '# 리스트 컴프리헨션\\n [x for x in list_data if x%2==0]',\n",
       "  '# 리스트 컴프리헨션\\n [x for x in list_data if x%2==0]',\n",
       "  '# 리스트 컴프리헨션\\n [x for x in list_data if x%2==0]',\n",
       "  '# 리스트 컴프리헨션\\n [x for x in list_data if x%2==0]',\n",
       "  '# 리스트 컴프리헨션\\n [x for x in list_data if x%2==0]',\n",
       "  '# 리스트 컴프리헨션\\n [x for x in list_data if x%2==0]',\n",
       "  '# 리스트 컴프리헨션\\n [x for x in list_data if x%2==0]',\n",
       "  '#def evenyesorno(x):\\n#    if x%2==0:\\n#        return True\\n#    else:\\n#        return False\\n#filter_template(evenyesorno, list_data)',\n",
       "  '# print(evenyesorno(1))',\n",
       "  'def evenyesorno(x):\\n    if x%2==0:\\n        return True\\nfilter_template(evenyesorno, list_data)',\n",
       "  'print(evenyesorno(1))',\n",
       "  'filter_template(lambda x : x%2 ==0, list_data)',\n",
       "  '# filter() 함수\\nlist(filter(lambda x : x%2 == 0, list_data))',\n",
       "  '# 리스트 컴프리헨션\\n [x for x in list_data if x%2==0]',\n",
       "  '# 리스트 컴프리헨션\\n[x for x in list_data if x%2==0]   ',\n",
       "  \"pairs = [(1, 'one'), (3, 'three'), (2,'two'),(4,'four')]\\npairs.sort()\\npairs\",\n",
       "  '(lambda pair : pair[1])((10,20,30))',\n",
       "  'pairs.sort(key=lambda pair : pair[1])',\n",
       "  'pairs.sort(key=lambda pair : pair[1])\\npairs',\n",
       "  'def apply(data, func=None):\\n    if func==None:\\n        return data\\n    else:\\n        return func(data)\\napply(100, lambda x : x**3)',\n",
       "  '# 함수를 return 하는 함수\\n\"\"\"\\nmake_box((5,)) => 1차원 5열 list 를 만드는 함수 fun => fun(10) => [10,10,10,10,10]\\nmake_box((2,3)) => 2차원 2행3열 list 를 만드는 함수 fun => fun(10)\\n                                                          => [[10,10,10],[10,10,10]]\\n                                                          \\n\"\"\"\\n\\ndef make_box(shape): #튜플이나 리스트가 들어가야한다.\\n    def box(init_value):\\n        if len(shape)==1:\\n            return [init_value] * shape[0]\\n        elif len(shape)==2:\\n            return [ [init_value] * shape[1] ] * shape[0]\\n    return box',\n",
       "  'box1 = make_box([5,]) ',\n",
       "  'type(box1)',\n",
       "  'box1(10)',\n",
       "  'box2 = make_box([2,3])\\nbox2(10)',\n",
       "  'def make_box(shape):\\n    if len(shape)==1:\\n        return lambda x : [x]*shape[0]\\n    elif len(shape)==2:\\n        return lambda x: [ [x]*shape[1] ] * shape[0]',\n",
       "  'box1 =make_box((3,2))\\nbox1(5)',\n",
       "  'box2 = make_box((7,))\\nbox2(10)',\n",
       "  'int(\"1\")',\n",
       "  'int(\"1.2\")',\n",
       "  'int(float(\"1.2\"))',\n",
       "  'globals() # 전역변수를 딕셔너리',\n",
       "  'var = 10\\nglobals() # 전역변수를 딕셔너리'],\n",
       " '_oh': {1: [10],\n",
       "  2: [30],\n",
       "  3: [10, 10, 2, 2, 2, 2, 2, 2, 2, 2],\n",
       "  4: [10, 10, 2, 2, 2, 2, 2, 2, 2, 2],\n",
       "  5: [10, 10, 2, 2, 2, 2, 2, 2, 2, 2],\n",
       "  6: [10, 10, 2, 2, 2, 2, 2, 2, 2, 2],\n",
       "  7: [10, 10, 2, 2, 2, 2, 2, 2, 2, 2],\n",
       "  8: [10, 10, 2, 2, 2, 2, 2, 2, 2, 2],\n",
       "  9: [10, 10, 2, 2, 2, 2, 2, 2, 2, 2],\n",
       "  11: [10, 10, 2, 2, 2, 2, 2, 2, 2, 2],\n",
       "  12: [10, 10, 2, 2, 2, 2, 2, 2, 2, 2],\n",
       "  13: [10, 10, 2, 2, 2, 2, 2, 2, 2, 2],\n",
       "  14: [30],\n",
       "  15: [30],\n",
       "  18: [30],\n",
       "  19: [30],\n",
       "  22: <function __main__.my_hello()>,\n",
       "  23: [[]],\n",
       "  44: '서울-부산-인천',\n",
       "  47: 'hello/world',\n",
       "  51: 2049386626736,\n",
       "  56: 'heoll/world',\n",
       "  57: 'earth/mars/venus',\n",
       "  58: 2049468957056,\n",
       "  61: function,\n",
       "  62: function,\n",
       "  65: 'marsearthvenus',\n",
       "  70: 'earth/mars/venus',\n",
       "  73: 'Python ~ R ~ hadoop',\n",
       "  78: 'http://localhost:80',\n",
       "  79: 'http://localhost:80',\n",
       "  95: 10,\n",
       "  98: 10,\n",
       "  99: 10,\n",
       "  100: range(0, 10),\n",
       "  101: [0, 1, 2, 3, 4, 5, 6, 7, 8, 9],\n",
       "  117: [5, 7, 9],\n",
       "  125: [1, 8, 27],\n",
       "  126: 11,\n",
       "  127: <function __main__.add(a, b)>,\n",
       "  128: function,\n",
       "  130: <function __main__.add(a, b)>,\n",
       "  132: 30,\n",
       "  134: 70,\n",
       "  140: <map at 0x1dd2e3acd00>,\n",
       "  141: [(5, 10, 5, 10),\n",
       "   (5, 10, 5, 10),\n",
       "   (5, 10, 5, 10),\n",
       "   (5, 10, 5, 10),\n",
       "   (5, 10, 5, 10)],\n",
       "  142: [2, 4, 6, 8, 10],\n",
       "  143: [2, 4, 6, 8, 10],\n",
       "  150: [2, 4],\n",
       "  152: [2, 4],\n",
       "  155: [2, 4],\n",
       "  157: [2, 4],\n",
       "  159: [],\n",
       "  160: [2, 4],\n",
       "  161: [2, 4],\n",
       "  168: [2, 4, 6, 8, 10],\n",
       "  171: [2, 4],\n",
       "  173: [2, 4, 6, 8, 10],\n",
       "  176: [2, 4],\n",
       "  178: [2, 4],\n",
       "  179: [2, 4],\n",
       "  182: [2, 4, 6, 8, 10],\n",
       "  183: [2, 4, 6, 8, 10],\n",
       "  184: [2, 4, 6, 8, 10],\n",
       "  185: [2, 4, 6, 8, 10],\n",
       "  187: [2, 4],\n",
       "  188: [2, 4],\n",
       "  189: [2, 4],\n",
       "  201: [2, 4],\n",
       "  203: [2, 4],\n",
       "  204: [2, 4],\n",
       "  206: [2, 4],\n",
       "  207: [(4, 'four'), (1, 'one'), (3, 'three'), (2, 'two')],\n",
       "  208: 20,\n",
       "  210: [(4, 'four'), (1, 'one'), (3, 'three'), (2, 'two')],\n",
       "  211: 1000000,\n",
       "  214: function,\n",
       "  215: [10, 10, 10, 10, 10],\n",
       "  216: [[10, 10, 10], [10, 10, 10]],\n",
       "  218: [[5, 5], [5, 5], [5, 5]],\n",
       "  219: [10, 10, 10, 10, 10, 10, 10],\n",
       "  220: 1,\n",
       "  222: 1,\n",
       "  223: {...}},\n",
       " '_dh': ['E:\\\\WDS\\\\BigDataUI\\\\data\\\\src\\\\08.Python'],\n",
       " 'In': ['',\n",
       "  'def func4(a, L=None):\\n    if L is None:\\n        L = []\\n    L.append(a)\\n    return L\\nfunc4(10)',\n",
       "  'func4(30)',\n",
       "  'list_ =[]\\nfunc4(10, list_)',\n",
       "  'func4(10, list_)',\n",
       "  'func4(2, list_)',\n",
       "  'func4(2, list_)',\n",
       "  'func4(2, list_)',\n",
       "  'func4(2, list_)',\n",
       "  'func4(2, list_)',\n",
       "  'func4(a = 2, list_)',\n",
       "  'func4(a = 2, L = list_)',\n",
       "  'func4(L=list_ , a=2)',\n",
       "  'func4(L=list_ , a=2) # 3. 1~3번 다 같은 내용.',\n",
       "  'func4(a=30)',\n",
       "  'func4(a=30) #L 은 None 이니 가능.',\n",
       "  'func4() # a 값은 들어와야한다.',\n",
       "  'func4(50, a=30, L=[])',\n",
       "  'func4(L=[], a=30)',\n",
       "  'func4(L=[], a=30) #가능.',\n",
       "  'func4([], a=30) #이름을 안적으면 순서적으로 들어가기때문에 a가 두개라고 에러가 난다.',\n",
       "  \"def my_hello():\\n    print('Hello, world')\\n    print('Hello, Python')\",\n",
       "  'my_hello',\n",
       "  'func4([]) #a에 빈스트링이 들어간다. ',\n",
       "  'func4(L=list_, 70)',\n",
       "  \"if __name__== '__main__':\\n    my_hello()\",\n",
       "  'def my_add(num1, num2, num3=0): # 기본값을 갖는 매개변수는 뒤에\\n    return num1+num2+num3\\n\\nprint(my_add(20,30,40))\\nprint(my_add(20,30))',\n",
       "  'def my_function():\\n    \"\"\"\\n    함수의 첫 라인에 독스트링을 포함시킬 수 있다.\\n    독스트링은 함수의 설명서를 달아주는 역할. 주석보다 더 많은 기능\\n    \"\"\"\\n    pass',\n",
       "  'print(my_function.__doc__)',\n",
       "  'def fibonacci(n):\\n    \"\"\"\\n    매개변수로 들어온 n값 미만까지 피보나치 수열을 출력합니다.\\n    \"\"\"\\n    a, b = 0, 1\\n    while a < n :\\n        print(a, end=\\'  \\')\\n        a, b = b, a+b\\n    print()\\n\\nif __name__==\\'__main__\\':\\n    fibonacci(10)',\n",
       "  'gobal_var = 100 # 전역변수\\ndef func1():\\n    print(gobal_var)\\n\\nfunc1()',\n",
       "  'def func2():\\n    local_var = 200\\n    print(local_var)\\n\\nfunc2()',\n",
       "  'local_var',\n",
       "  \"# 렉시컬 특성\\ng_var = 100\\ndef func3():\\n    print('before', g_var)\\n    g_var = 200 # 지역변수를 선언하면서 할당\\n    print('after', g_var)\\nfunc3()\",\n",
       "  \"g_var = 100\\ndef func3():\\n    global g_var # g_var변수는 전역변수를 쓸 거야\\n    print('before', g_var)\\n    g_var = 200  # 전역변수 g_var에 다시 값 할당\\n    print('after', g_var)\\nprint('func3() 실행 전', g_var)\\nfunc3()\\nprint(g_var)\",\n",
       "  \"# 렉시컬 특성\\ng_var = 100\\ndef func3():\\n    print('before', g_var)\\n    g_var = 200 # 지역변수를 선언하면서 할당\\n    print('after', g_var)\\nfunc3()\",\n",
       "  \"g_var = 100\\ndef func3():\\n    global g_var # g_var변수는 전역변수를 쓸 거야\\n    print('before', g_var)\\n    g_var = 200  # 전역변수 g_var에 다시 값 할당\\n    print('after', g_var)\\nprint('func3() 실행 전', g_var)\\nfunc3()\\nprint(g_var)\",\n",
       "  'def add(a,b):\\n    return a + b\\nprint(add(1,2))',\n",
       "  'def add(a,b):\\n    return a + b + c\\nprint(add(1,2,3))',\n",
       "  'def add(a,b,c):\\n    return a + b + c\\nprint(add(1,2,3))',\n",
       "  'print(add(10,20))',\n",
       "  '# args 앞에 * => args 가 튜플로 전달.\\ndef add(*args): #args = (1,2,3,4,5)\\n    sum = 0\\n    for num in args:\\n        sum += num  #sum에 누적.\\n    return sum\\n\\nprint(add(1,2,3,4,5))',\n",
       "  '# args 앞에 * => args 가 튜플로 전달.\\ndef add(*args): #args = (1,2,3,4,5)  , args = (1,) 하나는 이렇게 들어간다.\\n    sum = 0\\n    for num in args:\\n        sum += num  #sum에 누적.\\n    return sum\\n\\nprint(add(1,2,3,4,5))\\nprint(add(1))\\nprint(add(1,2,3,4,5,6,7,8,9,10,11))',\n",
       "  'def concat(*args, sep):\\n    return sep.join(args)',\n",
       "  'city = (\"서울\",\"부산\",\"인천\")\\n\\'-\\'.join(city)',\n",
       "  'def concat(*args, sep):\\n    return sep.join(args)',\n",
       "  \"concat('hello','world','/')\",\n",
       "  \"# concat('hello','world','/') # args에만 들어가서 sep 의 값이 없기에 오류.\\nconcat('hello','world',sep='/') # sep= 이렇게 지정해주면 sep에 값이 들어간다.\",\n",
       "  \"concat('hello','world','/') # args에만 들어가서 sep 의 값이 없기에 오류.\\n# concat('hello','world',sep='/') # sep= 이렇게 지정해주면 sep에 값이 들어간다.\",\n",
       "  \"global_var = 100\\ndef func1():\\n    global_var = 200 # 지역변수 선언\\n    print(global_var) # 지역변수\\nprint('func1() 실행 전 global_var값', global_var)\\nfunc1()\\nprint('func1() 실행 후 global_var값', global_var)\",\n",
       "  \"global_var = 100\\ndef func1():\\n    global global_var\\n    global_var = 200 # 전역변수 선언\\n    print(global_var) # 전역변수\\nprint('func1() 실행 전 global_var값', global_var)\\nfunc1()\\nprint('func1() 실행 후 global_var값', global_var)\",\n",
       "  \"foo = 'a' # 전역변수\\nid(foo)\",\n",
       "  \"def func1(foo): # 매개변수는 지역변수\\n    print('Before :', foo)\\n    foo = foo * 3\\n    print('After :', foo, '의 주소는', id(foo))\\nfunc1(foo)\",\n",
       "  'print(foo, id(foo)) # 전역변수',\n",
       "  'print(foo, id(foo)) # 전역변수',\n",
       "  '# 해결책 .2\\ndef concat(sep, *args):\\n    return sep.join(args)',\n",
       "  \"concat('/','heoll','world')\",\n",
       "  \"concat('/','earth','mars','venus')\",\n",
       "  'L = [1,2,3,4,5]\\nid(L)',\n",
       "  \"def func2(foo): # foo는 지역변수\\n    print('before:',foo, '의 주소 :', id(foo))\\n    foo.append(6)\\n    print('after:',foo,'의 주소 :', id(foo))\\nfunc2(L)\\nprint('함수 호출 후에 L :', L, '의 주소 :',id(L))\",\n",
       "  'def fibonacci(n):\\n    \"\"\"\\n    매개변수로 들어온 n값 미만까지 피보나치 수열을 출력합니다.\\n    \"\"\"\\n    a, b = 0, 1\\n    while a < n :\\n        print(a, end=\\'  \\')\\n        a, b = b, a+b\\n    print()',\n",
       "  'type(fibonacci)',\n",
       "  'type(fibonacci)',\n",
       "  'fibo = fibonacci # fibonacci함수이름이 fibo로도 사용가능',\n",
       "  'fibo(100)',\n",
       "  \"concat('earth','mars','venus')\",\n",
       "  '# 해결책. 3',\n",
       "  'def fibonacci_print(n):\\n    \"\"\"\\n    매개변수로 들어온 n값 미만까지 피보나치 수열을 출력합니다.\\n    \"\"\"\\n    a, b = 0, 1\\n    while a < n :\\n        print(a, end=\\'  \\')\\n        a, b = b, a+b\\n    print()\\ndef fibonacci(n):\\n    \"n값 미만의 피보나치 수열을 return\"\\n    result = []\\n    a, b = 0, 1\\n    while a < n :\\n        result.append(a)\\n        a, b = b, a+b\\n    return result',\n",
       "  'x = fibonacci_print(100)',\n",
       "  \"# 해결책. 3\\ndef concat(*args, sep='/'): #순서 인수 > 튜플인수 > 키워드 인수(기본값받는.) => 순서도\\n    return sep.join(args)\",\n",
       "  \"concat('earth','mars','venus')\",\n",
       "  'print(x, type(x))',\n",
       "  'L = fibonacci(100)',\n",
       "  \"concat('Python','R','hadoop', sep=' ~ ')\",\n",
       "  'print(L, type(L))',\n",
       "  'def swap(a, b):\\n    return b, a',\n",
       "  \"x, y = 5 , 10\\nprint('함수 실행 전 ', x, y)\\nx, y = swap(x, y)\\nprint('함수 실행 후 ', x, y)\",\n",
       "  'a = swap(x, y)\\nprint(type(a))\\nprint(a)',\n",
       "  'def make_url(ip, port=80):\\n    return \\'http://{}:{}\\'.format(ip, port)\\nmake_url(\"localhost\",80)',\n",
       "  'make_url(\"localhost\")',\n",
       "  \"i = 5\\n# 기본변수가 스칼라변수일 때 :arg의 기본값은 함수가 정의되는 지점에 한번만 평가됩니다\\ndef func2(arg=i): \\n    print('arg = ', arg)\",\n",
       "  'i = 6\\nfunc2()',\n",
       "  'print(func2())',\n",
       "  '# 기본변수가 리스트, 셋, 딕셔너리 또는 객체일때 함수를 호출 후 다시 전달\\nlist_ = []\\ndef func3(a, L=list_):\\n    L.append(a)\\n    return L\\nprint(func3(1))\\nprint(list_)',\n",
       "  'print(func3(2))\\nprint(list_)',\n",
       "  'def func(a, L=[]):\\n    L.append(a)\\n    return L\\nprint(func(1))',\n",
       "  'print(func(2))',\n",
       "  'def func5(**args):   # **args => 딕셔너리로 전달.\\n             # args = {name=\\'홍길동\\',age = 20, address = \\'서울시\\'} 이렇게 들어간다는것이다.\\n    for key, value in args.items():\\n        print(\"{}:{}\".format(key,value))\\nfunc5(name=\\'홍길동\\',age = 20, address = \\'서울시\\')',\n",
       "  \"# def func6 의 순서.\\n# def func6(순서인수 > 튜플인수 > 키워드 인수(없음.) > 딕셔너리 인수)\\ndef func6(a, *b, **c):\\n    print('a = ',a)\\n    print('b = ',b)\\n    print('c = ',c)\",\n",
       "  \"# 순서를 바꿔보았다.\\ndef func6(*b, a, **c):\\n    print('a = ',a)\\n    print('b = ',b)\\n    print('c = ',c)\",\n",
       "  \"func6(10, 1,2,3,4,5, name='Kim', age=35)\",\n",
       "  \"func6(10, 1,2,3,4,5, name='Kim', age=35) #이처럼 순서를 바꾸게 된다면 오류가 나타난다.\",\n",
       "  \"#def func (순서인수 > 튜플인수 > 키워드 인수 > 딕셔너리 인수)\\ndef func(a, b, c, *d, e=10, **f):\\n    print('a = ', a)\\n    print('b = ', b)\\n    print('c = ', c)\\n    print('d = ', d)\\n    print('e = ', e)\\n    print('f = ', f)\",\n",
       "  'print(10,20,30, 1,2,3,4,2,4, e=20, name=\"Kim\", age=30, address=\"마포\")',\n",
       "  'func(10,20,30, 1,2,3,4,2,4, e=20, name=\"Kim\", age=30, address=\"마포\")',\n",
       "  'def add(*args):\\n    sum = 0\\n    for num in args:\\n        sum += num\\n    return sum\\nadd(1,2,3,4)',\n",
       "  'numbers = (1,2,3,4)\\nadd(numbers)',\n",
       "  '**튜플언패킹',\n",
       "  'numbers = (1,2,3,4)\\n# add(numbers) 에러.\\nadd(*numbers)',\n",
       "  'numbers = (1,2,3,4)\\n# add(numbers) 에러.\\nadd(*numbers) #튜플 언패킹.',\n",
       "  '# 예제 : \\nrange(10)',\n",
       "  '# 예제 : \\nlist(range(10))',\n",
       "  '# 예제 : \\nprint(list(range(10)))',\n",
       "  '# 예제 : \\nprint(list(range(10)))\\nprint(list(range(5,10)))\\nprint(list(range(5,10,2)))',\n",
       "  '# 예제 : \\nprint(list(range(10)))\\nprint(list(range(5,20)))\\nprint(list(range(5,10,2)))',\n",
       "  '# 예제 : \\nprint(list(range(10)))\\nprint(list(range(5,10)))\\nprint(list(range(5,10,2)))',\n",
       "  '# 예제 : 다음과 같은 실행결과의 튜플인수를 갖는 range2\\nprint(range2(10))\\nprint(range2(5,10))\\nprint(range2(5,10,2))',\n",
       "  'def range2(*args):\\n    length = len(args)\\n    result = []\\n    if length==0:\\n        raise Exception(\"매개변수가 없으면 안됩니다.\")\\n    elif length == 1:\\n        for i in range(args[0]):\\n            result.append(i)\\n    elif length == 2:',\n",
       "  'def range2(*args):\\n    length = len(args)\\n    result = []\\n    if length==0:\\n        raise Exception(\"매개변수가 없으면 안됩니다.\")\\n    elif length == 1:\\n        for i in range(args[0]):\\n            result.append(i)\\n    elif length == 2:\\n        for i in range(args[0],args[1]):\\n            result.append(i)\\n    elif length == 3:\\n        for i in range(args[0],args[1],args[2]):\\n            result.append(i)\\n    else:\\n        print(\"떼끼\")',\n",
       "  '# 예제 : 다음과 같은 실행결과의 튜플인수를 갖는 range2\\nprint(range2(10))\\nprint(range2(5,10))\\nprint(range2(5,10,2))',\n",
       "  'def range2(*args):\\n    length = len(args)\\n    result = []\\n    if length==0:\\n        raise Exception(\"매개변수가 없으면 안됩니다.\")\\n    elif length == 1:\\n        for i in range(args[0]):\\n            result.append(i)\\n    elif length == 2:\\n        for i in range(args[0],args[1]):\\n            result.append(i)\\n    elif length == 3:\\n        for i in range(args[0],args[1],args[2]):\\n            result.append(i)\\n    else:\\n        print(\"떼끼\")\\n    return result\\nprint(range2())',\n",
       "  'def range2(*args):\\n    length = len(args)\\n    result = []\\n    if length==0:\\n        raise Exception(\"매개변수가 없으면 안됩니다.\")\\n    elif length == 1:\\n        for i in range(args[0]):\\n            result.append(i)\\n    elif length == 2:\\n        for i in range(args[0],args[1]):\\n            result.append(i)\\n    elif length == 3:\\n        for i in range(args[0],args[1],args[2]):\\n            result.append(i)\\n    else:\\n        print(\"떼끼\")\\n    return result\\nprint(range2()) # Exception: 매개변수가 없으면 안됩니다.\\nprint(range2(10))',\n",
       "  'def range2(*args):\\n    length = len(args)\\n    result = []\\n    if length==0:\\n        raise Exception(\"매개변수가 없으면 안됩니다.\")\\n    elif length == 1:\\n        for i in range(args[0]):\\n            result.append(i)\\n    elif length == 2:\\n        for i in range(args[0],args[1]):\\n            result.append(i)\\n    elif length == 3:\\n        for i in range(args[0],args[1],args[2]):\\n            result.append(i)\\n    else:\\n        print(\"떼끼\")\\n    return result\\n# print(range2()) # Exception: 매개변수가 없으면 안됩니다.\\nprint(range2(10))',\n",
       "  'def range2(*args):\\n    length = len(args)\\n    result = []\\n    if length==0:\\n        raise Exception(\"매개변수가 없으면 안됩니다.\")\\n    elif length == 1:\\n        for i in range(args[0]):\\n            result.append(i)\\n    elif length == 2:\\n        for i in range(args[0],args[1]):\\n            result.append(i)\\n    elif length == 3:\\n        for i in range(args[0],args[1],args[2]):\\n            result.append(i)\\n    else:\\n        print(\"떼끼\")\\n    return result\\n# print(range2()) # Exception: 매개변수가 없으면 안됩니다.\\nprint(range2(10))\\nprint(range2(5,10))\\nprint(range2(5,10,2))\\nprint(range2(1,2,3,4))',\n",
       "  'def range2(*args):\\n    length = len(args)\\n    result = []\\n    if length==0:\\n        raise Exception(\"매개변수가 없으면 안됩니다.\")\\n    elif length == 1:\\n        for i in range(args[0]):\\n            result.append(i)\\n    elif length == 2:\\n        for i in range(args[0],args[1]):\\n            result.append(i)\\n    elif length == 3:\\n        for i in range(args[0],args[1],args[2]):\\n            result.append(i)\\n    else:\\n        print(\"떼끼\")\\n        return\\n    return result\\n# print(range2()) # Exception: 매개변수가 없으면 안됩니다.\\nprint(range2(10))\\nprint(range2(5,10))\\nprint(range2(5,10,2))\\nprint(range2(1,2,3,4))',\n",
       "  'def range2(*args):\\n    length = len(args)\\n    result = []\\n    if length==0:\\n        raise Exception(\"매개변수가 없으면 안됩니다.\")\\n    elif length == 1:\\n        for i in range(args[0]):\\n            result.append(i)\\n    elif length == 2:\\n        for i in range(args[0],args[1]):\\n            result.append(i)\\n    elif length == 3:\\n        for i in range(args[0],args[1],args[2]):\\n            result.append(i)\\n    else:\\n        print(\"떼끼\")\\n      #  return\\n    return result\\n# print(range2()) # Exception: 매개변수가 없으면 안됩니다.\\nprint(range2(10))\\nprint(range2(5,10))\\nprint(range2(5,10,2))\\nprint(range2(1,2,3,4))',\n",
       "  't = (5,10,2)\\nrange2(t)',\n",
       "  't = (5,10,2)\\n# range2(t) 불가.\\nrange2(*t) #튜플인수 언패킹.',\n",
       "  \"def funcS(**data):\\n    for item in data.item():\\n        print(item)\\nfuncS(name='홍길동', age=24, address='마포')\",\n",
       "  \"def func5(**data):\\n    for item in data.item():\\n        print(item)\\nfunc5(name='홍길동', age=24, address='마포')\",\n",
       "  \"def func5(**data):\\n    for item in data.items():\\n        print(item)\\nfunc5(name='홍길동', age=24, address='마포')\",\n",
       "  \"customerInfo = {name='홍길동', age=24, address='마포'}\\nfunc5(customerInfo)\",\n",
       "  \"customerInfo = {name:'홍길동', age:24, address:'마포'}\\nfunc5(customerInfo)\",\n",
       "  \"customerInfo = {name:'홍길동', age:24, address:'마포'}\\n# func5(customerInfo)\\nfunc5(**customerInfo) #딕셔너리 언패킹 **, 튜플 언패킹 * .\",\n",
       "  \"customerInfo = {'name':'홍길동', 'age':24, 'address':'마포'}\\n# func5(customerInfo)\\nfunc5(**customerInfo) #딕셔너리 언패킹 **, 튜플 언패킹 * .\",\n",
       "  'l = [1,2,3]\\n[x**3 for x in l]',\n",
       "  'def add(a,b):\\n    return a+b\\nadd(5,6)',\n",
       "  'add',\n",
       "  'type(add)',\n",
       "  'xx = add #add함수가 xx라는 변수이름에 들어간다.',\n",
       "  'xx = add #add함수가 xx라는 변수이름에 들어간다.\\nxx',\n",
       "  'add2 = lambda a,b : a+b',\n",
       "  'add2(10,20)',\n",
       "  'add2 = lambda a,b : a+b # a,b(변수) : a+b(return값)',\n",
       "  '(lambda a,b : a+b)(30,40)',\n",
       "  'map_template(2배로 함수, [1,2,3]):\\n    result = []\\n    for item in L:\\n        result.append(func(item))\\n    return result',\n",
       "  'map_template(func, L=[]):\\n    result = []\\n    for item in L:\\n        result.append(func(item))\\n    return result',\n",
       "  'map_template(func, L=[]):\\n    result = []\\n    for item in L:\\n        result.append(func(item))\\n    return result',\n",
       "  'list_data = [1,2,3,4,5]\\ndef x_2(x):\\n    return x*2\\nmap_template(x_2, list_data)',\n",
       "  'map_template(rlambda x : x*2, list_data)',\n",
       "  '# map() : 함수 이용.\\nmap(lambda x:a*2, list_data)',\n",
       "  '# map() : 함수 이용.\\nlist(map(lambda x:a*2, list_data))',\n",
       "  '# map() : 함수 이용.\\nlist(map(lambda x:x*2, list_data))',\n",
       "  '# 리스트 컴프리헨션\\n[x*2 for x in list_data]',\n",
       "  'list_data = [1,2,3,4,5]\\ndef filter_templaste(func, L=[]):\\n    result =[]\\n    for item in L:\\n        if func(item):\\n            result.append(item)',\n",
       "  'def evenyyesorno(x):\\n    if x*2==0:\\n        return True\\n    else:\\n        return False\\nfilter_templaste(evenyyesorno, list_data)',\n",
       "  'def evenyesorno(x):\\n    if x*2==0:\\n        return True\\n    else:\\n        return False\\nfilter_templaste(evenyesorno, list_data)',\n",
       "  'def evenyesorno(x):\\n    if x%2==0:\\n        return True\\n    else:\\n        return False\\nfilter_templaste(evenyesorno, list_data)',\n",
       "  'print(evenyesorno(1))',\n",
       "  'list_data = [1,2,3,4,5]\\ndef filter_templaste(func, L=[]):\\n    result =[]\\n    for item in L:\\n        if func(item):\\n            result.append(item)\\n    return result',\n",
       "  'def evenyesorno(x):\\n    if x%2==0:\\n        return True\\n    else:\\n        return False\\nfilter_templaste(evenyesorno, list_data)',\n",
       "  'print(evenyesorno(1))',\n",
       "  'def evenyesorno(x):\\n    if x%2==0:\\n        return True\\nfilter_templaste(evenyesorno, list_data)',\n",
       "  'print(evenyesorno(1))',\n",
       "  'print(evenyesorno(1))',\n",
       "  'def evenyesorno(x):\\n    if x%2==0:\\n        return True\\n    else:\\n        return False\\nfilter_templaste(evenyesorno, list_data)',\n",
       "  'print(evenyesorno(1))',\n",
       "  'def evenyesorno(x):\\n    if x%2==0:\\n        return True\\nfilter_templaste(evenyesorno, list_data)',\n",
       "  'print(evenyesorno(1))',\n",
       "  'filter_templaste(lambda x : x%2 ==0)',\n",
       "  'filter_templaste(lambda x : x%2 ==0, list_data)',\n",
       "  '# filter() 함수\\nlist(filter(lambda x : x%2 == 0, list_data))',\n",
       "  '# 리스트 컴프리헨션\\n [x for in L if x%2 == 0]',\n",
       "  '# 리스트 컴프리헨션\\n [x for x in L if x%2 == 0]',\n",
       "  '# 리스트 컴프리헨션\\n [x for x in list_data if x%2 == 0]',\n",
       "  '# 리스트 컴프리헨션\\n [x for x in list_data if x%2==0]',\n",
       "  'def map_template(func, L=[]):\\n    result = []\\n    for item in L:\\n        result.append(func(item))\\n    return result',\n",
       "  'print(list_data)\\nmap_template(rlambda x : x*2, list_data)',\n",
       "  'print(list_data)\\nmap_template(lambda x : x*2, list_data)',\n",
       "  '# 리스트 컴프리헨션\\n [x for x in list_data if x%2==0]',\n",
       "  '# 리스트 컴프리헨션\\n [x for x in list_data if x%2==0]',\n",
       "  '# filter() 함수\\nlist(filter(lambda x : x%2 == 0, list_data))',\n",
       "  '# 리스트 컴프리헨션\\n [x for x in list_data if x%2==0]',\n",
       "  '# 리스트 컴프리헨션\\n[x*2 for x in list_data]',\n",
       "  'list_data = [1,2,3,4,5]\\ndef filter_templaste(func, L=[]):\\n    result =[]\\n    for item in L:\\n        if func(item):\\n            result.append(item)\\n    return result',\n",
       "  'print(evenyesorno(1))',\n",
       "  'def evenyesorno(x):\\n    if x%2==0:\\n        return True\\nfilter_templaste(evenyesorno, list_data)',\n",
       "  'print(evenyesorno(1))',\n",
       "  'filter_templaste(lambda x : x%2 ==0, list_data)',\n",
       "  '# filter() 함수\\nlist(filter(lambda x : x%2 == 0, list_data))',\n",
       "  '# 리스트 컴프리헨션\\n [x for x in list_data if x%2==0]',\n",
       "  'def map_template(func, L=[]):\\n    result = []\\n    for item in L:\\n        result.append(func(item))\\n    return result',\n",
       "  'list_data = [1,2,3,4,5]\\ndef x_2(x):\\n    return x*2\\nmap_template(x_2, list_data)',\n",
       "  'print(list_data)\\nmap_template(lambda x : x*2, list_data)',\n",
       "  '# map() : 함수 이용.\\nlist(map(lambda x:x*2, list_data))',\n",
       "  '# 리스트 컴프리헨션\\n[x*2 for x in list_data]',\n",
       "  'list_data = [1,2,3,4,5]\\ndef filter_template(func, L=[]):\\n    result =[]\\n    for item in L:\\n        if func(item):\\n            result.append(item)\\n    return result',\n",
       "  'def evenyesorno(x):\\n    if x%2==0:\\n        return True\\nfilter_template(evenyesorno, list_data)',\n",
       "  'filter_template(lambda x : x%2 ==0, list_data)',\n",
       "  '# filter() 함수\\nlist(filter(lambda x : x%2 == 0, list_data))',\n",
       "  '# 리스트 컴프리헨션\\n [x for x in list_data if x%2==0]',\n",
       "  '# 리스트 컴프리헨션\\n [x for x in list_data if x%2==0]',\n",
       "  '# 리스트 컴프리헨션\\n [x for x in list_data if x%2==0]',\n",
       "  '# 리스트 컴프리헨션\\n [x for x in list_data if x%2==0]',\n",
       "  '# 리스트 컴프리헨션\\n [x for x in list_data if x%2==0]',\n",
       "  '# 리스트 컴프리헨션\\n [x for x in list_data if x%2==0]',\n",
       "  '# 리스트 컴프리헨션\\n [x for x in list_data if x%2==0]',\n",
       "  '# 리스트 컴프리헨션\\n [x for x in list_data if x%2==0]',\n",
       "  '# 리스트 컴프리헨션\\n [x for x in list_data if x%2==0]',\n",
       "  '#def evenyesorno(x):\\n#    if x%2==0:\\n#        return True\\n#    else:\\n#        return False\\n#filter_template(evenyesorno, list_data)',\n",
       "  '# print(evenyesorno(1))',\n",
       "  'def evenyesorno(x):\\n    if x%2==0:\\n        return True\\nfilter_template(evenyesorno, list_data)',\n",
       "  'print(evenyesorno(1))',\n",
       "  'filter_template(lambda x : x%2 ==0, list_data)',\n",
       "  '# filter() 함수\\nlist(filter(lambda x : x%2 == 0, list_data))',\n",
       "  '# 리스트 컴프리헨션\\n [x for x in list_data if x%2==0]',\n",
       "  '# 리스트 컴프리헨션\\n[x for x in list_data if x%2==0]   ',\n",
       "  \"pairs = [(1, 'one'), (3, 'three'), (2,'two'),(4,'four')]\\npairs.sort()\\npairs\",\n",
       "  '(lambda pair : pair[1])((10,20,30))',\n",
       "  'pairs.sort(key=lambda pair : pair[1])',\n",
       "  'pairs.sort(key=lambda pair : pair[1])\\npairs',\n",
       "  'def apply(data, func=None):\\n    if func==None:\\n        return data\\n    else:\\n        return func(data)\\napply(100, lambda x : x**3)',\n",
       "  '# 함수를 return 하는 함수\\n\"\"\"\\nmake_box((5,)) => 1차원 5열 list 를 만드는 함수 fun => fun(10) => [10,10,10,10,10]\\nmake_box((2,3)) => 2차원 2행3열 list 를 만드는 함수 fun => fun(10)\\n                                                          => [[10,10,10],[10,10,10]]\\n                                                          \\n\"\"\"\\n\\ndef make_box(shape): #튜플이나 리스트가 들어가야한다.\\n    def box(init_value):\\n        if len(shape)==1:\\n            return [init_value] * shape[0]\\n        elif len(shape)==2:\\n            return [ [init_value] * shape[1] ] * shape[0]\\n    return box',\n",
       "  'box1 = make_box([5,]) ',\n",
       "  'type(box1)',\n",
       "  'box1(10)',\n",
       "  'box2 = make_box([2,3])\\nbox2(10)',\n",
       "  'def make_box(shape):\\n    if len(shape)==1:\\n        return lambda x : [x]*shape[0]\\n    elif len(shape)==2:\\n        return lambda x: [ [x]*shape[1] ] * shape[0]',\n",
       "  'box1 =make_box((3,2))\\nbox1(5)',\n",
       "  'box2 = make_box((7,))\\nbox2(10)',\n",
       "  'int(\"1\")',\n",
       "  'int(\"1.2\")',\n",
       "  'int(float(\"1.2\"))',\n",
       "  'globals() # 전역변수를 딕셔너리',\n",
       "  'var = 10\\nglobals() # 전역변수를 딕셔너리'],\n",
       " 'Out': {1: [10],\n",
       "  2: [30],\n",
       "  3: [10, 10, 2, 2, 2, 2, 2, 2, 2, 2],\n",
       "  4: [10, 10, 2, 2, 2, 2, 2, 2, 2, 2],\n",
       "  5: [10, 10, 2, 2, 2, 2, 2, 2, 2, 2],\n",
       "  6: [10, 10, 2, 2, 2, 2, 2, 2, 2, 2],\n",
       "  7: [10, 10, 2, 2, 2, 2, 2, 2, 2, 2],\n",
       "  8: [10, 10, 2, 2, 2, 2, 2, 2, 2, 2],\n",
       "  9: [10, 10, 2, 2, 2, 2, 2, 2, 2, 2],\n",
       "  11: [10, 10, 2, 2, 2, 2, 2, 2, 2, 2],\n",
       "  12: [10, 10, 2, 2, 2, 2, 2, 2, 2, 2],\n",
       "  13: [10, 10, 2, 2, 2, 2, 2, 2, 2, 2],\n",
       "  14: [30],\n",
       "  15: [30],\n",
       "  18: [30],\n",
       "  19: [30],\n",
       "  22: <function __main__.my_hello()>,\n",
       "  23: [[]],\n",
       "  44: '서울-부산-인천',\n",
       "  47: 'hello/world',\n",
       "  51: 2049386626736,\n",
       "  56: 'heoll/world',\n",
       "  57: 'earth/mars/venus',\n",
       "  58: 2049468957056,\n",
       "  61: function,\n",
       "  62: function,\n",
       "  65: 'marsearthvenus',\n",
       "  70: 'earth/mars/venus',\n",
       "  73: 'Python ~ R ~ hadoop',\n",
       "  78: 'http://localhost:80',\n",
       "  79: 'http://localhost:80',\n",
       "  95: 10,\n",
       "  98: 10,\n",
       "  99: 10,\n",
       "  100: range(0, 10),\n",
       "  101: [0, 1, 2, 3, 4, 5, 6, 7, 8, 9],\n",
       "  117: [5, 7, 9],\n",
       "  125: [1, 8, 27],\n",
       "  126: 11,\n",
       "  127: <function __main__.add(a, b)>,\n",
       "  128: function,\n",
       "  130: <function __main__.add(a, b)>,\n",
       "  132: 30,\n",
       "  134: 70,\n",
       "  140: <map at 0x1dd2e3acd00>,\n",
       "  141: [(5, 10, 5, 10),\n",
       "   (5, 10, 5, 10),\n",
       "   (5, 10, 5, 10),\n",
       "   (5, 10, 5, 10),\n",
       "   (5, 10, 5, 10)],\n",
       "  142: [2, 4, 6, 8, 10],\n",
       "  143: [2, 4, 6, 8, 10],\n",
       "  150: [2, 4],\n",
       "  152: [2, 4],\n",
       "  155: [2, 4],\n",
       "  157: [2, 4],\n",
       "  159: [],\n",
       "  160: [2, 4],\n",
       "  161: [2, 4],\n",
       "  168: [2, 4, 6, 8, 10],\n",
       "  171: [2, 4],\n",
       "  173: [2, 4, 6, 8, 10],\n",
       "  176: [2, 4],\n",
       "  178: [2, 4],\n",
       "  179: [2, 4],\n",
       "  182: [2, 4, 6, 8, 10],\n",
       "  183: [2, 4, 6, 8, 10],\n",
       "  184: [2, 4, 6, 8, 10],\n",
       "  185: [2, 4, 6, 8, 10],\n",
       "  187: [2, 4],\n",
       "  188: [2, 4],\n",
       "  189: [2, 4],\n",
       "  201: [2, 4],\n",
       "  203: [2, 4],\n",
       "  204: [2, 4],\n",
       "  206: [2, 4],\n",
       "  207: [(4, 'four'), (1, 'one'), (3, 'three'), (2, 'two')],\n",
       "  208: 20,\n",
       "  210: [(4, 'four'), (1, 'one'), (3, 'three'), (2, 'two')],\n",
       "  211: 1000000,\n",
       "  214: function,\n",
       "  215: [10, 10, 10, 10, 10],\n",
       "  216: [[10, 10, 10], [10, 10, 10]],\n",
       "  218: [[5, 5], [5, 5], [5, 5]],\n",
       "  219: [10, 10, 10, 10, 10, 10, 10],\n",
       "  220: 1,\n",
       "  222: 1,\n",
       "  223: {...}},\n",
       " 'get_ipython': <function IPython.core.getipython.get_ipython()>,\n",
       " 'exit': <IPython.core.autocall.ZMQExitAutocall at 0x1dd2b75b340>,\n",
       " 'quit': <IPython.core.autocall.ZMQExitAutocall at 0x1dd2b75b340>,\n",
       " '_': {...},\n",
       " '__': 1,\n",
       " '___': 1,\n",
       " 'json': <module 'json' from 'C:\\\\Users\\\\tjoeun\\\\anaconda3\\\\lib\\\\json\\\\__init__.py'>,\n",
       " 'yapf_reformat': <function __main__.yapf_reformat(cell_text)>,\n",
       " 'autopep8': <module 'autopep8' from 'C:\\\\Users\\\\tjoeun\\\\anaconda3\\\\lib\\\\site-packages\\\\autopep8.py'>,\n",
       " 'getsizeof': <function sys.getsizeof>,\n",
       " 'NamespaceMagics': IPython.core.magics.namespace.NamespaceMagics,\n",
       " '_nms': <IPython.core.magics.namespace.NamespaceMagics at 0x1dd2bcb8970>,\n",
       " '_Jupyter': <ipykernel.zmqshell.ZMQInteractiveShell at 0x1dd2b6e79a0>,\n",
       " 'np': <module 'numpy' from 'C:\\\\Users\\\\tjoeun\\\\anaconda3\\\\lib\\\\site-packages\\\\numpy\\\\__init__.py'>,\n",
       " '_getsizeof': <function __main__._getsizeof(x)>,\n",
       " '_getshapeof': <function __main__._getshapeof(x)>,\n",
       " 'var_dic_list': <function __main__.var_dic_list()>,\n",
       " '_i': 'globals() # 전역변수를 딕셔너리',\n",
       " '_ii': 'int(float(\"1.2\"))',\n",
       " '_iii': 'int(\"1.2\")',\n",
       " '_i1': 'def func4(a, L=None):\\n    if L is None:\\n        L = []\\n    L.append(a)\\n    return L\\nfunc4(10)',\n",
       " 'func4': <function __main__.func4(a, L=None)>,\n",
       " '_1': [10],\n",
       " '_i2': 'func4(30)',\n",
       " '_2': [30],\n",
       " '_i3': 'list_ =[]\\nfunc4(10, list_)',\n",
       " 'list_': [1, 2],\n",
       " '_3': [10, 10, 2, 2, 2, 2, 2, 2, 2, 2],\n",
       " '_i4': 'func4(10, list_)',\n",
       " '_4': [10, 10, 2, 2, 2, 2, 2, 2, 2, 2],\n",
       " '_i5': 'func4(2, list_)',\n",
       " '_5': [10, 10, 2, 2, 2, 2, 2, 2, 2, 2],\n",
       " '_i6': 'func4(2, list_)',\n",
       " '_6': [10, 10, 2, 2, 2, 2, 2, 2, 2, 2],\n",
       " '_i7': 'func4(2, list_)',\n",
       " '_7': [10, 10, 2, 2, 2, 2, 2, 2, 2, 2],\n",
       " '_i8': 'func4(2, list_)',\n",
       " '_8': [10, 10, 2, 2, 2, 2, 2, 2, 2, 2],\n",
       " '_i9': 'func4(2, list_)',\n",
       " '_9': [10, 10, 2, 2, 2, 2, 2, 2, 2, 2],\n",
       " '_i10': 'func4(a = 2, list_)',\n",
       " '_i11': 'func4(a = 2, L = list_)',\n",
       " '_11': [10, 10, 2, 2, 2, 2, 2, 2, 2, 2],\n",
       " '_i12': 'func4(L=list_ , a=2)',\n",
       " '_12': [10, 10, 2, 2, 2, 2, 2, 2, 2, 2],\n",
       " '_i13': 'func4(L=list_ , a=2) # 3. 1~3번 다 같은 내용.',\n",
       " '_13': [10, 10, 2, 2, 2, 2, 2, 2, 2, 2],\n",
       " '_i14': 'func4(a=30)',\n",
       " '_14': [30],\n",
       " '_i15': 'func4(a=30) #L 은 None 이니 가능.',\n",
       " '_15': [30],\n",
       " '_i16': 'func4() # a 값은 들어와야한다.',\n",
       " '_i17': 'func4(50, a=30, L=[])',\n",
       " '_i18': 'func4(L=[], a=30)',\n",
       " '_18': [30],\n",
       " '_i19': 'func4(L=[], a=30) #가능.',\n",
       " '_19': [30],\n",
       " '_i20': 'func4([], a=30) #이름을 안적으면 순서적으로 들어가기때문에 a가 두개라고 에러가 난다.',\n",
       " '_i21': \"def my_hello():\\n    print('Hello, world')\\n    print('Hello, Python')\",\n",
       " 'my_hello': <function __main__.my_hello()>,\n",
       " '_i22': 'my_hello',\n",
       " '_22': <function __main__.my_hello()>,\n",
       " '_i23': 'func4([]) #a에 빈스트링이 들어간다. ',\n",
       " '_23': [[]],\n",
       " '_i24': 'func4(L=list_, 70)',\n",
       " '_i25': \"if __name__== '__main__':\\n    my_hello()\",\n",
       " '_i26': 'def my_add(num1, num2, num3=0): # 기본값을 갖는 매개변수는 뒤에\\n    return num1+num2+num3\\n\\nprint(my_add(20,30,40))\\nprint(my_add(20,30))',\n",
       " 'my_add': <function __main__.my_add(num1, num2, num3=0)>,\n",
       " '_i27': 'def my_function():\\n    \"\"\"\\n    함수의 첫 라인에 독스트링을 포함시킬 수 있다.\\n    독스트링은 함수의 설명서를 달아주는 역할. 주석보다 더 많은 기능\\n    \"\"\"\\n    pass',\n",
       " 'my_function': <function __main__.my_function()>,\n",
       " '_i28': 'print(my_function.__doc__)',\n",
       " '_i29': 'def fibonacci(n):\\n    \"\"\"\\n    매개변수로 들어온 n값 미만까지 피보나치 수열을 출력합니다.\\n    \"\"\"\\n    a, b = 0, 1\\n    while a < n :\\n        print(a, end=\\'  \\')\\n        a, b = b, a+b\\n    print()\\n\\nif __name__==\\'__main__\\':\\n    fibonacci(10)',\n",
       " 'fibonacci': <function __main__.fibonacci(n)>,\n",
       " '_i30': 'gobal_var = 100 # 전역변수\\ndef func1():\\n    print(gobal_var)\\n\\nfunc1()',\n",
       " 'gobal_var': 100,\n",
       " 'func1': <function __main__.func1(foo)>,\n",
       " '_i31': 'def func2():\\n    local_var = 200\\n    print(local_var)\\n\\nfunc2()',\n",
       " 'func2': <function __main__.func2(arg=5)>,\n",
       " '_i32': 'local_var',\n",
       " '_i33': \"\\n# 렉시컬 특성\\ng_var = 100\\ndef func3():\\n    print('before', g_var)\\n    g_var = 200 # 지역변수를 선언하면서 할당\\n    print('after', g_var)\\nfunc3()\",\n",
       " 'g_var': 200,\n",
       " 'func3': <function __main__.func3(a, L=[1, 2])>,\n",
       " '_i34': \"g_var = 100\\ndef func3():\\n    global g_var # g_var변수는 전역변수를 쓸 거야\\n    print('before', g_var)\\n    g_var = 200  # 전역변수 g_var에 다시 값 할당\\n    print('after', g_var)\\nprint('func3() 실행 전', g_var)\\nfunc3()\\nprint(g_var)\",\n",
       " '_i35': \"\\n# 렉시컬 특성\\ng_var = 100\\ndef func3():\\n    print('before', g_var)\\n    g_var = 200 # 지역변수를 선언하면서 할당\\n    print('after', g_var)\\nfunc3()\",\n",
       " '_i36': \"g_var = 100\\ndef func3():\\n    global g_var # g_var변수는 전역변수를 쓸 거야\\n    print('before', g_var)\\n    g_var = 200  # 전역변수 g_var에 다시 값 할당\\n    print('after', g_var)\\nprint('func3() 실행 전', g_var)\\nfunc3()\\nprint(g_var)\",\n",
       " '_i37': 'def add(a,b):\\n    return a + b\\nprint(add(1,2))',\n",
       " 'add': <function __main__.add(a, b)>,\n",
       " '_i38': 'def add(a,b):\\n    return a + b + c\\nprint(add(1,2,3))',\n",
       " '_i39': 'def add(a,b,c):\\n    return a + b + c\\nprint(add(1,2,3))',\n",
       " '_i40': 'print(add(10,20))',\n",
       " '_i41': '# args 앞에 * => args 가 튜플로 전달.\\ndef add(*args): #args = (1,2,3,4,5)\\n    sum = 0\\n    for num in args:\\n        sum += num  #sum에 누적.\\n    return sum\\n\\nprint(add(1,2,3,4,5))',\n",
       " '_i42': '# args 앞에 * => args 가 튜플로 전달.\\ndef add(*args): #args = (1,2,3,4,5)  , args = (1,) 하나는 이렇게 들어간다.\\n    sum = 0\\n    for num in args:\\n        sum += num  #sum에 누적.\\n    return sum\\n\\nprint(add(1,2,3,4,5))\\nprint(add(1))\\nprint(add(1,2,3,4,5,6,7,8,9,10,11))',\n",
       " '_i43': 'def concat(*args, sep):\\n    return sep.join(args)',\n",
       " 'concat': <function __main__.concat(*args, sep='/')>,\n",
       " '_i44': 'city = (\"서울\",\"부산\",\"인천\")\\n\\'-\\'.join(city)',\n",
       " 'city': ('서울', '부산', '인천'),\n",
       " '_44': '서울-부산-인천',\n",
       " '_i45': 'def concat(*args, sep):\\n    return sep.join(args)',\n",
       " '_i46': \"concat('hello','world','/')\",\n",
       " '_i47': \"# concat('hello','world','/') # args에만 들어가서 sep 의 값이 없기에 오류.\\nconcat('hello','world',sep='/') # sep= 이렇게 지정해주면 sep에 값이 들어간다.\",\n",
       " '_47': 'hello/world',\n",
       " '_i48': \"concat('hello','world','/') # args에만 들어가서 sep 의 값이 없기에 오류.\\n# concat('hello','world',sep='/') # sep= 이렇게 지정해주면 sep에 값이 들어간다.\",\n",
       " '_i49': \"global_var = 100\\ndef func1():\\n    global_var = 200 # 지역변수 선언\\n    print(global_var) # 지역변수\\nprint('func1() 실행 전 global_var값', global_var)\\nfunc1()\\nprint('func1() 실행 후 global_var값', global_var)\",\n",
       " 'global_var': 200,\n",
       " '_i50': \"global_var = 100\\ndef func1():\\n    global global_var\\n    global_var = 200 # 전역변수 선언\\n    print(global_var) # 전역변수\\nprint('func1() 실행 전 global_var값', global_var)\\nfunc1()\\nprint('func1() 실행 후 global_var값', global_var)\",\n",
       " '_i51': \"foo = 'a' # 전역변수\\nid(foo)\",\n",
       " 'foo': 'a',\n",
       " '_51': 2049386626736,\n",
       " '_i52': \"def func1(foo): # 매개변수는 지역변수\\n    print('Before :', foo)\\n    foo = foo * 3\\n    print('After :', foo, '의 주소는', id(foo))\\nfunc1(foo)\",\n",
       " '_i53': '\\nprint(foo, id(foo)) # 전역변수',\n",
       " '_i54': 'print(foo, id(foo)) # 전역변수',\n",
       " '_i55': '# 해결책 .2\\ndef concat(sep, *args):\\n    return sep.join(args)',\n",
       " '_i56': \"concat('/','heoll','world')\",\n",
       " '_56': 'heoll/world',\n",
       " '_i57': \"concat('/','earth','mars','venus')\",\n",
       " '_57': 'earth/mars/venus',\n",
       " '_i58': 'L = [1,2,3,4,5]\\nid(L)',\n",
       " 'L': [0, 1, 1, 2, 3, 5, 8, 13, 21, 34, 55, 89],\n",
       " '_58': 2049468957056,\n",
       " '_i59': \"def func2(foo): # foo는 지역변수\\n    print('before:',foo, '의 주소 :', id(foo))\\n    foo.append(6)\\n    print('after:',foo,'의 주소 :', id(foo))\\nfunc2(L)\\nprint('함수 호출 후에 L :', L, '의 주소 :',id(L))\",\n",
       " '_i60': 'def fibonacci(n):\\n    \"\"\"\\n    매개변수로 들어온 n값 미만까지 피보나치 수열을 출력합니다.\\n    \"\"\"\\n    a, b = 0, 1\\n    while a < n :\\n        print(a, end=\\'  \\')\\n        a, b = b, a+b\\n    print()',\n",
       " '_i61': 'type(fibonacci)',\n",
       " '_61': function,\n",
       " '_i62': 'type(fibonacci)',\n",
       " '_62': function,\n",
       " '_i63': 'fibo = fibonacci # fibonacci함수이름이 fibo로도 사용가능',\n",
       " 'fibo': <function __main__.fibonacci(n)>,\n",
       " '_i64': 'fibo(100)',\n",
       " '_i65': \"concat('earth','mars','venus')\",\n",
       " '_65': 'marsearthvenus',\n",
       " '_i66': '# 해결책. 3',\n",
       " '_i67': '\\ndef fibonacci_print(n):\\n    \"\"\"\\n    매개변수로 들어온 n값 미만까지 피보나치 수열을 출력합니다.\\n    \"\"\"\\n    a, b = 0, 1\\n    while a < n :\\n        print(a, end=\\'  \\')\\n        a, b = b, a+b\\n    print()\\ndef fibonacci(n):\\n    \"n값 미만의 피보나치 수열을 return\"\\n    result = []\\n    a, b = 0, 1\\n    while a < n :\\n        result.append(a)\\n        a, b = b, a+b\\n    return result',\n",
       " 'fibonacci_print': <function __main__.fibonacci_print(n)>,\n",
       " '_i68': 'x = fibonacci_print(100)',\n",
       " 'x': 10,\n",
       " '_i69': \"# 해결책. 3\\ndef concat(*args, sep='/'): #순서 인수 > 튜플인수 > 키워드 인수(기본값받는.) => 순서도\\n    return sep.join(args)\",\n",
       " '_i70': \"concat('earth','mars','venus')\",\n",
       " '_70': 'earth/mars/venus',\n",
       " '_i71': 'print(x, type(x))',\n",
       " '_i72': 'L = fibonacci(100)',\n",
       " '_i73': \"concat('Python','R','hadoop', sep=' ~ ')\",\n",
       " '_73': 'Python ~ R ~ hadoop',\n",
       " '_i74': 'print(L, type(L))',\n",
       " '_i75': 'def swap(a, b):\\n    return b, a',\n",
       " 'swap': <function __main__.swap(a, b)>,\n",
       " '_i76': \"x, y = 5 , 10\\nprint('함수 실행 전 ', x, y)\\nx, y = swap(x, y)\\nprint('함수 실행 후 ', x, y)\",\n",
       " 'y': 5,\n",
       " '_i77': 'a = swap(x, y)\\nprint(type(a))\\nprint(a)',\n",
       " 'a': (5, 10),\n",
       " '_i78': 'def make_url(ip, port=80):\\n    return \\'http://{}:{}\\'.format(ip, port)\\nmake_url(\"localhost\",80)',\n",
       " 'make_url': <function __main__.make_url(ip, port=80)>,\n",
       " '_78': 'http://localhost:80',\n",
       " '_i79': 'make_url(\"localhost\")',\n",
       " '_79': 'http://localhost:80',\n",
       " '_i80': \"i = 5\\n# 기본변수가 스칼라변수일 때 :arg의 기본값은 함수가 정의되는 지점에 한번만 평가됩니다\\ndef func2(arg=i): \\n    print('arg = ', arg)\",\n",
       " 'i': 6,\n",
       " '_i81': 'i = 6\\nfunc2()',\n",
       " '_i82': 'print(func2())',\n",
       " '_i83': '# 기본변수가 리스트, 셋, 딕셔너리 또는 객체일때 함수를 호출 후 다시 전달\\nlist_ = []\\ndef func3(a, L=list_):\\n    L.append(a)\\n    return L\\nprint(func3(1))\\nprint(list_)',\n",
       " '_i84': 'print(func3(2))\\nprint(list_)',\n",
       " '_i85': 'def func(a, L=[]):\\n    L.append(a)\\n    return L\\nprint(func(1))',\n",
       " 'func': <function __main__.func(a, b, c, *d, e=10, **f)>,\n",
       " '_i86': 'print(func(2))',\n",
       " '_i87': 'def func5(**args):   # **args => 딕셔너리로 전달.\\n             # args = {name=\\'홍길동\\',age = 20, address = \\'서울시\\'} 이렇게 들어간다는것이다.\\n    for key, value in args.items():\\n        print(\"{}:{}\".format(key,value))\\nfunc5(name=\\'홍길동\\',age = 20, address = \\'서울시\\')',\n",
       " 'func5': <function __main__.func5(**data)>,\n",
       " '_i88': \"# def func6 의 순서.\\n# def func6(순서인수 > 튜플인수 > 키워드 인수(없음.) > 딕셔너리 인수)\\ndef func6(a, *b, **c):\\n    print('a = ',a)\\n    print('b = ',b)\\n    print('c = ',c)\",\n",
       " 'func6': <function __main__.func6(*b, a, **c)>,\n",
       " '_i89': \"# 순서를 바꿔보았다.\\ndef func6(*b, a, **c):\\n    print('a = ',a)\\n    print('b = ',b)\\n    print('c = ',c)\",\n",
       " '_i90': \"func6(10, 1,2,3,4,5, name='Kim', age=35)\",\n",
       " '_i91': \"func6(10, 1,2,3,4,5, name='Kim', age=35) #이처럼 순서를 바꾸게 된다면 오류가 나타난다.\",\n",
       " '_i92': \"#def func (순서인수 > 튜플인수 > 키워드 인수 > 딕셔너리 인수)\\ndef func(a, b, c, *d, e=10, **f):\\n    print('a = ', a)\\n    print('b = ', b)\\n    print('c = ', c)\\n    print('d = ', d)\\n    print('e = ', e)\\n    print('f = ', f)\",\n",
       " '_i93': 'print(10,20,30, 1,2,3,4,2,4, e=20, name=\"Kim\", age=30, address=\"마포\")',\n",
       " '_i94': 'func(10,20,30, 1,2,3,4,2,4, e=20, name=\"Kim\", age=30, address=\"마포\")',\n",
       " '_i95': 'def add(*args):\\n    sum = 0\\n    for num in args:\\n        sum += num\\n    return sum\\nadd(1,2,3,4)',\n",
       " '_95': 10,\n",
       " '_i96': 'numbers = (1,2,3,4)\\nadd(numbers)',\n",
       " 'numbers': (1, 2, 3, 4),\n",
       " '_i97': '**튜플언패킹',\n",
       " '_i98': 'numbers = (1,2,3,4)\\n# add(numbers) 에러.\\nadd(*numbers)',\n",
       " '_98': 10,\n",
       " '_i99': 'numbers = (1,2,3,4)\\n# add(numbers) 에러.\\nadd(*numbers) #튜플 언패킹.',\n",
       " '_99': 10,\n",
       " '_i100': '# 예제 : \\nrange(10)',\n",
       " '_100': range(0, 10),\n",
       " '_i101': '# 예제 : \\nlist(range(10))',\n",
       " '_101': [0, 1, 2, 3, 4, 5, 6, 7, 8, 9],\n",
       " '_i102': '# 예제 : \\nprint(list(range(10)))',\n",
       " '_i103': '# 예제 : \\nprint(list(range(10)))\\nprint(list(range(5,10)))\\nprint(list(range(5,10,2)))',\n",
       " '_i104': '# 예제 : \\nprint(list(range(10)))\\nprint(list(range(5,20)))\\nprint(list(range(5,10,2)))',\n",
       " '_i105': '# 예제 : \\nprint(list(range(10)))\\nprint(list(range(5,10)))\\nprint(list(range(5,10,2)))',\n",
       " '_i106': '# 예제 : 다음과 같은 실행결과의 튜플인수를 갖는 range2\\nprint(range2(10))\\nprint(range2(5,10))\\nprint(range2(5,10,2))',\n",
       " '_i107': 'def range2(*args):\\n    length = len(args)\\n    result = []\\n    if length==0:\\n        raise Exception(\"매개변수가 없으면 안됩니다.\")\\n    elif length == 1:\\n        for i in range(args[0]):\\n            result.append(i)\\n    elif length == 2:',\n",
       " '_i108': 'def range2(*args):\\n    length = len(args)\\n    result = []\\n    if length==0:\\n        raise Exception(\"매개변수가 없으면 안됩니다.\")\\n    elif length == 1:\\n        for i in range(args[0]):\\n            result.append(i)\\n    elif length == 2:\\n        for i in range(args[0],args[1]):\\n            result.append(i)\\n    elif length == 3:\\n        for i in range(args[0],args[1],args[2]):\\n            result.append(i)\\n    else:\\n        print(\"떼끼\")',\n",
       " 'range2': <function __main__.range2(*args)>,\n",
       " '_i109': '# 예제 : 다음과 같은 실행결과의 튜플인수를 갖는 range2\\nprint(range2(10))\\nprint(range2(5,10))\\nprint(range2(5,10,2))',\n",
       " '_i110': 'def range2(*args):\\n    length = len(args)\\n    result = []\\n    if length==0:\\n        raise Exception(\"매개변수가 없으면 안됩니다.\")\\n    elif length == 1:\\n        for i in range(args[0]):\\n            result.append(i)\\n    elif length == 2:\\n        for i in range(args[0],args[1]):\\n            result.append(i)\\n    elif length == 3:\\n        for i in range(args[0],args[1],args[2]):\\n            result.append(i)\\n    else:\\n        print(\"떼끼\")\\n    return result\\nprint(range2())',\n",
       " '_i111': 'def range2(*args):\\n    length = len(args)\\n    result = []\\n    if length==0:\\n        raise Exception(\"매개변수가 없으면 안됩니다.\")\\n    elif length == 1:\\n        for i in range(args[0]):\\n            result.append(i)\\n    elif length == 2:\\n        for i in range(args[0],args[1]):\\n            result.append(i)\\n    elif length == 3:\\n        for i in range(args[0],args[1],args[2]):\\n            result.append(i)\\n    else:\\n        print(\"떼끼\")\\n    return result\\nprint(range2()) # Exception: 매개변수가 없으면 안됩니다.\\nprint(range2(10))',\n",
       " '_i112': 'def range2(*args):\\n    length = len(args)\\n    result = []\\n    if length==0:\\n        raise Exception(\"매개변수가 없으면 안됩니다.\")\\n    elif length == 1:\\n        for i in range(args[0]):\\n            result.append(i)\\n    elif length == 2:\\n        for i in range(args[0],args[1]):\\n            result.append(i)\\n    elif length == 3:\\n        for i in range(args[0],args[1],args[2]):\\n            result.append(i)\\n    else:\\n        print(\"떼끼\")\\n    return result\\n# print(range2()) # Exception: 매개변수가 없으면 안됩니다.\\nprint(range2(10))',\n",
       " '_i113': 'def range2(*args):\\n    length = len(args)\\n    result = []\\n    if length==0:\\n        raise Exception(\"매개변수가 없으면 안됩니다.\")\\n    elif length == 1:\\n        for i in range(args[0]):\\n            result.append(i)\\n    elif length == 2:\\n        for i in range(args[0],args[1]):\\n            result.append(i)\\n    elif length == 3:\\n        for i in range(args[0],args[1],args[2]):\\n            result.append(i)\\n    else:\\n        print(\"떼끼\")\\n    return result\\n# print(range2()) # Exception: 매개변수가 없으면 안됩니다.\\nprint(range2(10))\\nprint(range2(5,10))\\nprint(range2(5,10,2))\\nprint(range2(1,2,3,4))',\n",
       " '_i114': 'def range2(*args):\\n    length = len(args)\\n    result = []\\n    if length==0:\\n        raise Exception(\"매개변수가 없으면 안됩니다.\")\\n    elif length == 1:\\n        for i in range(args[0]):\\n            result.append(i)\\n    elif length == 2:\\n        for i in range(args[0],args[1]):\\n            result.append(i)\\n    elif length == 3:\\n        for i in range(args[0],args[1],args[2]):\\n            result.append(i)\\n    else:\\n        print(\"떼끼\")\\n        return\\n    return result\\n# print(range2()) # Exception: 매개변수가 없으면 안됩니다.\\nprint(range2(10))\\nprint(range2(5,10))\\nprint(range2(5,10,2))\\nprint(range2(1,2,3,4))',\n",
       " '_i115': 'def range2(*args):\\n    length = len(args)\\n    result = []\\n    if length==0:\\n        raise Exception(\"매개변수가 없으면 안됩니다.\")\\n    elif length == 1:\\n        for i in range(args[0]):\\n            result.append(i)\\n    elif length == 2:\\n        for i in range(args[0],args[1]):\\n            result.append(i)\\n    elif length == 3:\\n        for i in range(args[0],args[1],args[2]):\\n            result.append(i)\\n    else:\\n        print(\"떼끼\")\\n      #  return\\n    return result\\n# print(range2()) # Exception: 매개변수가 없으면 안됩니다.\\nprint(range2(10))\\nprint(range2(5,10))\\nprint(range2(5,10,2))\\nprint(range2(1,2,3,4))',\n",
       " '_i116': 't = (5,10,2)\\nrange2(t)',\n",
       " 't': (5, 10, 2),\n",
       " '_i117': 't = (5,10,2)\\n# range2(t) 불가.\\nrange2(*t) #튜플인수 언패킹.',\n",
       " '_117': [5, 7, 9],\n",
       " '_i118': \"def funcS(**data):\\n    for item in data.item():\\n        print(item)\\nfuncS(name='홍길동', age=24, address='마포')\",\n",
       " 'funcS': <function __main__.funcS(**data)>,\n",
       " '_i119': \"def func5(**data):\\n    for item in data.item():\\n        print(item)\\nfunc5(name='홍길동', age=24, address='마포')\",\n",
       " '_i120': \"def func5(**data):\\n    for item in data.items():\\n        print(item)\\nfunc5(name='홍길동', age=24, address='마포')\",\n",
       " '_i121': \"customerInfo = {name='홍길동', age=24, address='마포'}\\nfunc5(customerInfo)\",\n",
       " '_i122': \"customerInfo = {name:'홍길동', age:24, address:'마포'}\\nfunc5(customerInfo)\",\n",
       " '_i123': \"customerInfo = {name:'홍길동', age:24, address:'마포'}\\n# func5(customerInfo)\\nfunc5(**customerInfo) #딕셔너리 언패킹 **, 튜플 언패킹 * .\",\n",
       " '_i124': \"customerInfo = {'name':'홍길동', 'age':24, 'address':'마포'}\\n# func5(customerInfo)\\nfunc5(**customerInfo) #딕셔너리 언패킹 **, 튜플 언패킹 * .\",\n",
       " 'customerInfo': {'name': '홍길동', 'age': 24, 'address': '마포'},\n",
       " '_i125': 'l = [1,2,3]\\n[x**3 for x in l]',\n",
       " 'l': [1, 2, 3],\n",
       " '_125': [1, 8, 27],\n",
       " '_i126': 'def add(a,b):\\n    return a+b\\nadd(5,6)',\n",
       " '_126': 11,\n",
       " '_i127': 'add',\n",
       " '_127': <function __main__.add(a, b)>,\n",
       " '_i128': 'type(add)',\n",
       " '_128': function,\n",
       " '_i129': 'xx = add #add함수가 xx라는 변수이름에 들어간다.',\n",
       " 'xx': <function __main__.add(a, b)>,\n",
       " '_i130': 'xx = add #add함수가 xx라는 변수이름에 들어간다.\\nxx',\n",
       " '_130': <function __main__.add(a, b)>,\n",
       " '_i131': 'add2 = lambda a,b : a+b',\n",
       " 'add2': <function __main__.<lambda>(a, b)>,\n",
       " '_i132': 'add2(10,20)',\n",
       " '_132': 30,\n",
       " '_i133': 'add2 = lambda a,b : a+b # a,b(변수) : a+b(return값)',\n",
       " '_i134': '(lambda a,b : a+b)(30,40)',\n",
       " '_134': 70,\n",
       " '_i135': 'map_template(2배로 함수, [1,2,3]):\\n    result = []\\n    for item in L:\\n        result.append(func(item))\\n    return result',\n",
       " '_i136': 'map_template(func, L=[]):\\n    result = []\\n    for item in L:\\n        result.append(func(item))\\n    return result',\n",
       " '_i137': 'map_template(func, L=[]):\\n    result = []\\n    for item in L:\\n        result.append(func(item))\\n    return result',\n",
       " '_i138': 'list_data = [1,2,3,4,5]\\ndef x_2(x):\\n    return x*2\\nmap_template(x_2, list_data)',\n",
       " 'list_data': [1, 2, 3, 4, 5],\n",
       " 'x_2': <function __main__.x_2(x)>,\n",
       " '_i139': 'map_template(rlambda x : x*2, list_data)',\n",
       " '_i140': '# map() : 함수 이용.\\nmap(lambda x:a*2, list_data)',\n",
       " '_140': <map at 0x1dd2e3acd00>,\n",
       " '_i141': '# map() : 함수 이용.\\nlist(map(lambda x:a*2, list_data))',\n",
       " '_141': [(5, 10, 5, 10),\n",
       "  (5, 10, 5, 10),\n",
       "  (5, 10, 5, 10),\n",
       "  (5, 10, 5, 10),\n",
       "  (5, 10, 5, 10)],\n",
       " '_i142': '# map() : 함수 이용.\\nlist(map(lambda x:x*2, list_data))',\n",
       " '_142': [2, 4, 6, 8, 10],\n",
       " '_i143': '# 리스트 컴프리헨션\\n[x*2 for x in list_data]',\n",
       " '_143': [2, 4, 6, 8, 10],\n",
       " '_i144': 'list_data = [1,2,3,4,5]\\ndef filter_templaste(func, L=[]):\\n    result =[]\\n    for item in L:\\n        if func(item):\\n            result.append(item)',\n",
       " 'filter_templaste': <function __main__.filter_templaste(func, L=[])>,\n",
       " '_i145': 'def evenyyesorno(x):\\n    if x*2==0:\\n        return True\\n    else:\\n        return False\\nfilter_templaste(evenyyesorno, list_data)',\n",
       " 'evenyyesorno': <function __main__.evenyyesorno(x)>,\n",
       " '_i146': 'def evenyesorno(x):\\n    if x*2==0:\\n        return True\\n    else:\\n        return False\\nfilter_templaste(evenyesorno, list_data)',\n",
       " 'evenyesorno': <function __main__.evenyesorno(x)>,\n",
       " '_i147': 'def evenyesorno(x):\\n    if x%2==0:\\n        return True\\n    else:\\n        return False\\nfilter_templaste(evenyesorno, list_data)',\n",
       " '_i148': 'print(evenyesorno(1))',\n",
       " '_i149': 'list_data = [1,2,3,4,5]\\ndef filter_templaste(func, L=[]):\\n    result =[]\\n    for item in L:\\n        if func(item):\\n            result.append(item)\\n    return result',\n",
       " '_i150': 'def evenyesorno(x):\\n    if x%2==0:\\n        return True\\n    else:\\n        return False\\nfilter_templaste(evenyesorno, list_data)',\n",
       " '_150': [2, 4],\n",
       " '_i151': 'print(evenyesorno(1))',\n",
       " '_i152': 'def evenyesorno(x):\\n    if x%2==0:\\n        return True\\nfilter_templaste(evenyesorno, list_data)',\n",
       " '_152': [2, 4],\n",
       " '_i153': 'print(evenyesorno(1))',\n",
       " '_i154': 'print(evenyesorno(1))',\n",
       " '_i155': 'def evenyesorno(x):\\n    if x%2==0:\\n        return True\\n    else:\\n        return False\\nfilter_templaste(evenyesorno, list_data)',\n",
       " '_155': [2, 4],\n",
       " '_i156': 'print(evenyesorno(1))',\n",
       " '_i157': 'def evenyesorno(x):\\n    if x%2==0:\\n        return True\\nfilter_templaste(evenyesorno, list_data)',\n",
       " '_157': [2, 4],\n",
       " '_i158': 'print(evenyesorno(1))',\n",
       " '_i159': 'filter_templaste(lambda x : x%2 ==0)',\n",
       " '_159': [],\n",
       " '_i160': 'filter_templaste(lambda x : x%2 ==0, list_data)',\n",
       " '_160': [2, 4],\n",
       " '_i161': '# filter() 함수\\nlist(filter(lambda x : x%2 == 0, list_data))',\n",
       " '_161': [2, 4],\n",
       " '_i162': '# 리스트 컴프리헨션\\n [x for in L if x%2 == 0]',\n",
       " '_i163': '# 리스트 컴프리헨션\\n [x for x in L if x%2 == 0]',\n",
       " '_i164': '# 리스트 컴프리헨션\\n [x for x in list_data if x%2 == 0]',\n",
       " '_i165': '# 리스트 컴프리헨션\\n [x for x in list_data if x%2==0]',\n",
       " '_i166': 'def map_template(func, L=[]):\\n    result = []\\n    for item in L:\\n        result.append(func(item))\\n    return result',\n",
       " 'map_template': <function __main__.map_template(func, L=[])>,\n",
       " '_i167': 'print(list_data)\\nmap_template(rlambda x : x*2, list_data)',\n",
       " '_i168': 'print(list_data)\\nmap_template(lambda x : x*2, list_data)',\n",
       " '_168': [2, 4, 6, 8, 10],\n",
       " '_i169': '# 리스트 컴프리헨션\\n [x for x in list_data if x%2==0]',\n",
       " '_i170': '# 리스트 컴프리헨션\\n [x for x in list_data if x%2==0]',\n",
       " '_i171': '# filter() 함수\\nlist(filter(lambda x : x%2 == 0, list_data))',\n",
       " '_171': [2, 4],\n",
       " '_i172': '# 리스트 컴프리헨션\\n [x for x in list_data if x%2==0]',\n",
       " '_i173': '# 리스트 컴프리헨션\\n[x*2 for x in list_data]',\n",
       " '_173': [2, 4, 6, 8, 10],\n",
       " '_i174': 'list_data = [1,2,3,4,5]\\ndef filter_templaste(func, L=[]):\\n    result =[]\\n    for item in L:\\n        if func(item):\\n            result.append(item)\\n    return result',\n",
       " '_i175': 'print(evenyesorno(1))',\n",
       " '_i176': 'def evenyesorno(x):\\n    if x%2==0:\\n        return True\\nfilter_templaste(evenyesorno, list_data)',\n",
       " '_176': [2, 4],\n",
       " '_i177': 'print(evenyesorno(1))',\n",
       " '_i178': 'filter_templaste(lambda x : x%2 ==0, list_data)',\n",
       " '_178': [2, 4],\n",
       " '_i179': '# filter() 함수\\nlist(filter(lambda x : x%2 == 0, list_data))',\n",
       " '_179': [2, 4],\n",
       " '_i180': '# 리스트 컴프리헨션\\n [x for x in list_data if x%2==0]',\n",
       " '_i181': 'def map_template(func, L=[]):\\n    result = []\\n    for item in L:\\n        result.append(func(item))\\n    return result',\n",
       " '_i182': 'list_data = [1,2,3,4,5]\\ndef x_2(x):\\n    return x*2\\nmap_template(x_2, list_data)',\n",
       " '_182': [2, 4, 6, 8, 10],\n",
       " '_i183': 'print(list_data)\\nmap_template(lambda x : x*2, list_data)',\n",
       " '_183': [2, 4, 6, 8, 10],\n",
       " '_i184': '# map() : 함수 이용.\\nlist(map(lambda x:x*2, list_data))',\n",
       " '_184': [2, 4, 6, 8, 10],\n",
       " '_i185': '# 리스트 컴프리헨션\\n[x*2 for x in list_data]',\n",
       " '_185': [2, 4, 6, 8, 10],\n",
       " '_i186': 'list_data = [1,2,3,4,5]\\ndef filter_template(func, L=[]):\\n    result =[]\\n    for item in L:\\n        if func(item):\\n            result.append(item)\\n    return result',\n",
       " 'filter_template': <function __main__.filter_template(func, L=[])>,\n",
       " '_i187': 'def evenyesorno(x):\\n    if x%2==0:\\n        return True\\nfilter_template(evenyesorno, list_data)',\n",
       " '_187': [2, 4],\n",
       " '_i188': 'filter_template(lambda x : x%2 ==0, list_data)',\n",
       " '_188': [2, 4],\n",
       " '_i189': '# filter() 함수\\nlist(filter(lambda x : x%2 == 0, list_data))',\n",
       " '_189': [2, 4],\n",
       " '_i190': '# 리스트 컴프리헨션\\n [x for x in list_data if x%2==0]',\n",
       " '_i191': '# 리스트 컴프리헨션\\n [x for x in list_data if x%2==0]',\n",
       " '_i192': '# 리스트 컴프리헨션\\n [x for x in list_data if x%2==0]',\n",
       " '_i193': '# 리스트 컴프리헨션\\n [x for x in list_data if x%2==0]',\n",
       " '_i194': '# 리스트 컴프리헨션\\n [x for x in list_data if x%2==0]',\n",
       " '_i195': '# 리스트 컴프리헨션\\n [x for x in list_data if x%2==0]',\n",
       " '_i196': '# 리스트 컴프리헨션\\n [x for x in list_data if x%2==0]',\n",
       " '_i197': '# 리스트 컴프리헨션\\n [x for x in list_data if x%2==0]',\n",
       " '_i198': '# 리스트 컴프리헨션\\n [x for x in list_data if x%2==0]',\n",
       " '_i199': '#def evenyesorno(x):\\n#    if x%2==0:\\n#        return True\\n#    else:\\n#        return False\\n#filter_template(evenyesorno, list_data)',\n",
       " '_i200': '# print(evenyesorno(1))',\n",
       " '_i201': 'def evenyesorno(x):\\n    if x%2==0:\\n        return True\\nfilter_template(evenyesorno, list_data)',\n",
       " '_201': [2, 4],\n",
       " '_i202': 'print(evenyesorno(1))',\n",
       " '_i203': 'filter_template(lambda x : x%2 ==0, list_data)',\n",
       " '_203': [2, 4],\n",
       " '_i204': '# filter() 함수\\nlist(filter(lambda x : x%2 == 0, list_data))',\n",
       " '_204': [2, 4],\n",
       " '_i205': '# 리스트 컴프리헨션\\n [x for x in list_data if x%2==0]',\n",
       " '_i206': '# 리스트 컴프리헨션\\n[x for x in list_data if x%2==0]   ',\n",
       " '_206': [2, 4],\n",
       " '_i207': \"pairs = [(1, 'one'), (3, 'three'), (2,'two'),(4,'four')]\\npairs.sort()\\npairs\",\n",
       " 'pairs': [(4, 'four'), (1, 'one'), (3, 'three'), (2, 'two')],\n",
       " '_207': [(4, 'four'), (1, 'one'), (3, 'three'), (2, 'two')],\n",
       " '_i208': '(lambda pair : pair[1])((10,20,30))',\n",
       " '_208': 20,\n",
       " '_i209': 'pairs.sort(key=lambda pair : pair[1])',\n",
       " '_i210': 'pairs.sort(key=lambda pair : pair[1])\\npairs',\n",
       " '_210': [(4, 'four'), (1, 'one'), (3, 'three'), (2, 'two')],\n",
       " '_i211': 'def apply(data, func=None):\\n    if func==None:\\n        return data\\n    else:\\n        return func(data)\\napply(100, lambda x : x**3)',\n",
       " 'apply': <function __main__.apply(data, func=None)>,\n",
       " '_211': 1000000,\n",
       " '_i212': '# 함수를 return 하는 함수\\n\"\"\"\\nmake_box((5,)) => 1차원 5열 list 를 만드는 함수 fun => fun(10) => [10,10,10,10,10]\\nmake_box((2,3)) => 2차원 2행3열 list 를 만드는 함수 fun => fun(10)\\n                                                          => [[10,10,10],[10,10,10]]\\n                                                          \\n\"\"\"\\n\\ndef make_box(shape): #튜플이나 리스트가 들어가야한다.\\n    def box(init_value):\\n        if len(shape)==1:\\n            return [init_value] * shape[0]\\n        elif len(shape)==2:\\n            return [ [init_value] * shape[1] ] * shape[0]\\n    return box',\n",
       " 'make_box': <function __main__.make_box(shape)>,\n",
       " '_i213': 'box1 = make_box([5,]) ',\n",
       " 'box1': <function __main__.make_box.<locals>.<lambda>(x)>,\n",
       " '_i214': 'type(box1)',\n",
       " '_214': function,\n",
       " '_i215': 'box1(10)',\n",
       " '_215': [10, 10, 10, 10, 10],\n",
       " '_i216': 'box2 = make_box([2,3])\\nbox2(10)',\n",
       " 'box2': <function __main__.make_box.<locals>.<lambda>(x)>,\n",
       " '_216': [[10, 10, 10], [10, 10, 10]],\n",
       " '_i217': 'def make_box(shape):\\n    if len(shape)==1:\\n        return lambda x : [x]*shape[0]\\n    elif len(shape)==2:\\n        return lambda x: [ [x]*shape[1] ] * shape[0]',\n",
       " '_i218': 'box1 =make_box((3,2))\\nbox1(5)',\n",
       " '_218': [[5, 5], [5, 5], [5, 5]],\n",
       " '_i219': 'box2 = make_box((7,))\\nbox2(10)',\n",
       " '_219': [10, 10, 10, 10, 10, 10, 10],\n",
       " '_i220': 'int(\"1\")',\n",
       " '_220': 1,\n",
       " '_i221': 'int(\"1.2\")',\n",
       " '_i222': 'int(float(\"1.2\"))',\n",
       " '_222': 1,\n",
       " '_i223': 'globals() # 전역변수를 딕셔너리',\n",
       " '_223': {...},\n",
       " '_i224': 'var = 10\\nglobals() # 전역변수를 딕셔너리',\n",
       " 'var': 10}"
      ]
     },
     "execution_count": 224,
     "metadata": {},
     "output_type": "execute_result"
    }
   ],
   "source": [
    "var = 10\n",
    "globals() # 전역변수를 딕셔너리"
   ]
  },
  {
   "cell_type": "code",
   "execution_count": 226,
   "metadata": {
    "ExecuteTime": {
     "end_time": "2021-02-24T07:19:58.112816Z",
     "start_time": "2021-02-24T07:19:58.106856Z"
    }
   },
   "outputs": [
    {
     "name": "stdout",
     "output_type": "stream",
     "text": [
      "{'n': 5, 'L': [0, 1, 2, 3, 4], 'i': 4}\n"
     ]
    },
    {
     "data": {
      "text/plain": [
       "[0, 1, 2, 3, 4]"
      ]
     },
     "execution_count": 226,
     "metadata": {},
     "output_type": "execute_result"
    }
   ],
   "source": [
    "def abc(n): #매개변수로 들어온 수 5 [0,1,2,3,4]\n",
    "    L =[]\n",
    "    for i in range(n):\n",
    "        L.append(i)\n",
    "    print(locals()) #지역변수를 출력\n",
    "    return L\n",
    "abc(5) # L은 이 셀에서만 반짝하고 만다. 따라서 다른곳에서 L을 불러봐도 오류만 나온다."
   ]
  },
  {
   "cell_type": "code",
   "execution_count": 227,
   "metadata": {
    "ExecuteTime": {
     "end_time": "2021-02-24T07:20:15.686964Z",
     "start_time": "2021-02-24T07:20:15.682975Z"
    }
   },
   "outputs": [
    {
     "data": {
      "text/plain": [
       "True"
      ]
     },
     "execution_count": 227,
     "metadata": {},
     "output_type": "execute_result"
    }
   ],
   "source": [
    "isinstance(3.5, float)"
   ]
  },
  {
   "cell_type": "code",
   "execution_count": 229,
   "metadata": {
    "ExecuteTime": {
     "end_time": "2021-02-24T07:22:31.261885Z",
     "start_time": "2021-02-24T07:22:31.258887Z"
    }
   },
   "outputs": [],
   "source": [
    "# class 만드는 문법.\n",
    "class Test:\n",
    "    def __init__(self, a,b): #self = java의 this 라 보면 된다 \n",
    "        self.a = a\n",
    "        self.b = b\n",
    "    def print_into(self):\n",
    "        print(self.a, self.b)"
   ]
  },
  {
   "cell_type": "code",
   "execution_count": 231,
   "metadata": {
    "ExecuteTime": {
     "end_time": "2021-02-24T07:23:14.886221Z",
     "start_time": "2021-02-24T07:23:14.883229Z"
    }
   },
   "outputs": [
    {
     "name": "stdout",
     "output_type": "stream",
     "text": [
      "10 8\n"
     ]
    }
   ],
   "source": [
    "t = Test(10,8) # t.a=10, t.b=8\n",
    "t.print_into()"
   ]
  },
  {
   "cell_type": "code",
   "execution_count": 233,
   "metadata": {
    "ExecuteTime": {
     "end_time": "2021-02-24T07:23:40.854785Z",
     "start_time": "2021-02-24T07:23:40.850792Z"
    }
   },
   "outputs": [
    {
     "data": {
      "text/plain": [
       "True"
      ]
     },
     "execution_count": 233,
     "metadata": {},
     "output_type": "execute_result"
    }
   ],
   "source": [
    "isinstance(t, Test)"
   ]
  },
  {
   "cell_type": "code",
   "execution_count": 234,
   "metadata": {
    "ExecuteTime": {
     "end_time": "2021-02-24T07:23:47.302577Z",
     "start_time": "2021-02-24T07:23:47.298593Z"
    }
   },
   "outputs": [
    {
     "data": {
      "text/plain": [
       "['__class__',\n",
       " '__delattr__',\n",
       " '__dict__',\n",
       " '__dir__',\n",
       " '__doc__',\n",
       " '__eq__',\n",
       " '__format__',\n",
       " '__ge__',\n",
       " '__getattribute__',\n",
       " '__gt__',\n",
       " '__hash__',\n",
       " '__init__',\n",
       " '__init_subclass__',\n",
       " '__le__',\n",
       " '__lt__',\n",
       " '__module__',\n",
       " '__ne__',\n",
       " '__new__',\n",
       " '__reduce__',\n",
       " '__reduce_ex__',\n",
       " '__repr__',\n",
       " '__setattr__',\n",
       " '__sizeof__',\n",
       " '__str__',\n",
       " '__subclasshook__',\n",
       " '__weakref__',\n",
       " 'a',\n",
       " 'b',\n",
       " 'print_into']"
      ]
     },
     "execution_count": 234,
     "metadata": {},
     "output_type": "execute_result"
    }
   ],
   "source": [
    "dir(t)"
   ]
  },
  {
   "cell_type": "code",
   "execution_count": 235,
   "metadata": {
    "ExecuteTime": {
     "end_time": "2021-02-24T07:25:27.982171Z",
     "start_time": "2021-02-24T07:25:27.978173Z"
    }
   },
   "outputs": [
    {
     "data": {
      "text/plain": [
       "[(0, 10), (1, 20), (2, 30)]"
      ]
     },
     "execution_count": 235,
     "metadata": {},
     "output_type": "execute_result"
    }
   ],
   "source": [
    "list(enumerate([10,20,30]))"
   ]
  },
  {
   "cell_type": "code",
   "execution_count": 237,
   "metadata": {
    "ExecuteTime": {
     "end_time": "2021-02-24T07:26:01.295731Z",
     "start_time": "2021-02-24T07:26:01.290744Z"
    }
   },
   "outputs": [
    {
     "data": {
      "text/plain": [
       "False"
      ]
     },
     "execution_count": 237,
     "metadata": {},
     "output_type": "execute_result"
    }
   ],
   "source": [
    "all([0,1,2,3]) # 다 TRUE 이냐?\n",
    "# 0 때문에 Fasle 가 나온다."
   ]
  },
  {
   "cell_type": "code",
   "execution_count": 238,
   "metadata": {
    "ExecuteTime": {
     "end_time": "2021-02-24T07:26:28.592003Z",
     "start_time": "2021-02-24T07:26:28.587016Z"
    }
   },
   "outputs": [
    {
     "data": {
      "text/plain": [
       "True"
      ]
     },
     "execution_count": 238,
     "metadata": {},
     "output_type": "execute_result"
    }
   ],
   "source": [
    "any([0,1,2,3])"
   ]
  },
  {
   "cell_type": "code",
   "execution_count": 239,
   "metadata": {
    "ExecuteTime": {
     "end_time": "2021-02-24T07:27:06.583930Z",
     "start_time": "2021-02-24T07:27:06.578943Z"
    }
   },
   "outputs": [
    {
     "data": {
      "text/plain": [
       "(4, 3.7)"
      ]
     },
     "execution_count": 239,
     "metadata": {},
     "output_type": "execute_result"
    }
   ],
   "source": [
    "round(3.69), round(3.69,1)"
   ]
  },
  {
   "cell_type": "code",
   "execution_count": 241,
   "metadata": {
    "ExecuteTime": {
     "end_time": "2021-02-24T07:28:35.148900Z",
     "start_time": "2021-02-24T07:28:35.130976Z"
    }
   },
   "outputs": [
    {
     "data": {
      "text/plain": [
       "(3.0, 4.0, 4.0)"
      ]
     },
     "execution_count": 241,
     "metadata": {},
     "output_type": "execute_result"
    }
   ],
   "source": [
    "# import numpy as np 패키지 이름을 np라는 이름으로 가져온다.\n",
    "import numpy #아나콘다 설치할때 들어있어서 오류가 안난다.\n",
    "# numpy.floor(3.67), numpy.ceil(3.67), numpy.round(3.67) 원래는 이렇게 선언.\n",
    "np.floor(3.67), np.ceil(3.67), np.round(3.67)"
   ]
  },
  {
   "cell_type": "markdown",
   "metadata": {},
   "source": [
    "# 6절. 연습문제 20문항."
   ]
  },
  {
   "cell_type": "code",
   "execution_count": 251,
   "metadata": {
    "ExecuteTime": {
     "end_time": "2021-02-24T08:53:31.757590Z",
     "start_time": "2021-02-24T08:53:31.753600Z"
    }
   },
   "outputs": [
    {
     "name": "stdout",
     "output_type": "stream",
     "text": [
      "(9, 1)\n"
     ]
    }
   ],
   "source": [
    "# 실습형 1. 함수의 인자로 리스트를 받은 후 리스트 내에 있는\n",
    "# 모든 정수값에 대한 최댓값과 최솟값을 리턴하는 함수를 작성하세요.\n",
    "def get_max_min(data_list):\n",
    "    max_ = max(data_list)\n",
    "    min_ = min(data_list)\n",
    "    return max_, min_\n",
    "print(get_max_min([1,2,3,4,5,6,7,8,9]))"
   ]
  },
  {
   "cell_type": "code",
   "execution_count": 1,
   "metadata": {
    "ExecuteTime": {
     "end_time": "2021-02-25T11:28:45.161672Z",
     "start_time": "2021-02-25T11:28:45.133746Z"
    }
   },
   "outputs": [
    {
     "data": {
      "text/plain": [
       "{'max': 6, 'min': 1}"
      ]
     },
     "execution_count": 1,
     "metadata": {},
     "output_type": "execute_result"
    }
   ],
   "source": [
    "def get_max_min(data_list):\n",
    "    return {'max':max(data_list), 'min':min(data_list)}\n",
    "\n",
    "#get_max_min = lambda data_list : {'max':max(data_list), 'min':min(data_list)}\n",
    "get_max_min([1,2,3,4,5,6])"
   ]
  },
  {
   "cell_type": "code",
   "execution_count": 9,
   "metadata": {
    "ExecuteTime": {
     "end_time": "2021-02-25T02:05:31.234917Z",
     "start_time": "2021-02-25T02:05:31.229930Z"
    }
   },
   "outputs": [
    {
     "name": "stdout",
     "output_type": "stream",
     "text": [
      "비만\n"
     ]
    }
   ],
   "source": [
    "# 실습형 2. 체질량지수(Body Mass Index, BMI)는 체중과 키를 이용해 인간의 비만도를 나타내는 지수로,\n",
    "# 아래의 수기에 의해 계산됩니다. 함수의 인자로 체중(kg)과 신장(cm)을 입력 받은 후 BMI값에 따라\n",
    "# '마른체형', '표준', '비만', '고도비만' 중 하나의 상태를 출력하는 함수를 작성해보세요.\n",
    "#height_cm = int(input(\"신장(cm)을 입력 하세요 : \"))\n",
    "#kilogram = int(input(\"체중(kg)를 입력 하세요 : \"))\n",
    "\n",
    "def cal_BMI(height_cm,kilogram ):\n",
    "    height_cm = height_cm * 0.01 \n",
    "    BMI=kilogram/(height_cm*height_cm)\n",
    "    if BMI <= 18.5:\n",
    "        print(\"저체중\")\n",
    "    elif BMI < 25:\n",
    "        print(\"표준\")\n",
    "    elif BMI < 30:\n",
    "        print(\"비만\")\n",
    "    else:\n",
    "        print(\"고도비만\")\n",
    "cal_BMI(165,74)"
   ]
  },
  {
   "cell_type": "code",
   "execution_count": 4,
   "metadata": {
    "ExecuteTime": {
     "end_time": "2021-02-25T11:34:11.156343Z",
     "start_time": "2021-02-25T11:34:11.143379Z"
    }
   },
   "outputs": [
    {
     "name": "stdout",
     "output_type": "stream",
     "text": [
      "표준\n"
     ]
    }
   ],
   "source": [
    "# 다른 방법.\n",
    "def getBMI(kg, m):\n",
    "    bmi = kg / (m*0.01*m*0.01)\n",
    "    if bmi < 18.5 :\n",
    "        print('마른체형')\n",
    "    elif 18.5 <= bmi < 25.0 :\n",
    "        print('표준')\n",
    "    elif 25.0 <= bmi < 30.0 :\n",
    "        print('비만')\n",
    "    else:\n",
    "        print('고도비만')\n",
    "        \n",
    "getBMI(65,180)"
   ]
  },
  {
   "cell_type": "code",
   "execution_count": 17,
   "metadata": {
    "ExecuteTime": {
     "end_time": "2021-02-25T02:14:51.481276Z",
     "start_time": "2021-02-25T02:14:51.476290Z"
    }
   },
   "outputs": [
    {
     "data": {
      "text/plain": [
       "(3.5, 12.0)"
      ]
     },
     "execution_count": 17,
     "metadata": {},
     "output_type": "execute_result"
    }
   ],
   "source": [
    "# 실습형 3. 직각삼각형의 밑변과 높이를 입력받은 후 삼각형의 면적과 둘레를 계산하는 함수를 작성하세요.\n",
    "# - 리턴값은 면적과 둘레를 동시에 리턴하게 작성.\n",
    "# - def get_triangle(width, height)\n",
    "#width = int(input(\"직각삼각형의 밑변은?\"))\n",
    "#heigth = int(input(\"직각삼각형의 높이는?\"))\n",
    "#직각삼각형의 빗변의 길이 계산시 사용할 함수 (제곱근을 구하는 함수) import math\n",
    "import math\n",
    "def get_triangle(width, heigth):\n",
    "    area = (width+heigth)/2\n",
    "    perimeter = width + heigth + math.sqrt(pow(width, 2)+pow(heigth,2))\n",
    "    return (area, perimeter)\n",
    "get_triangle(3,4)\n"
   ]
  },
  {
   "cell_type": "code",
   "execution_count": 5,
   "metadata": {
    "ExecuteTime": {
     "end_time": "2021-02-25T11:37:41.410244Z",
     "start_time": "2021-02-25T11:37:41.396280Z"
    }
   },
   "outputs": [
    {
     "data": {
      "text/plain": [
       "{'넓이': 3.5, '둘레': 12.0}"
      ]
     },
     "execution_count": 5,
     "metadata": {},
     "output_type": "execute_result"
    }
   ],
   "source": [
    "# 다른 방법.\n",
    "import math\n",
    "def get_triangle2(width, heigth):\n",
    "    area = (width+heigth)/2\n",
    "    perimeter = width + heigth + math.sqrt(width*width+heigth*heigth)\n",
    "    #return area, perimeter\n",
    "    return {'넓이':area, '둘레':perimeter}\n",
    "\n",
    "get_triangle2(3,4)"
   ]
  },
  {
   "cell_type": "code",
   "execution_count": 13,
   "metadata": {
    "ExecuteTime": {
     "end_time": "2021-02-25T02:08:48.345764Z",
     "start_time": "2021-02-25T02:08:48.341756Z"
    }
   },
   "outputs": [
    {
     "data": {
      "text/plain": [
       "55"
      ]
     },
     "execution_count": 13,
     "metadata": {},
     "output_type": "execute_result"
    }
   ],
   "source": [
    "# 실습형 4. 함수의 인자로 시작과 끝 숫자가 주어질때 시작부터 끝까지의 모든 정수 값의 합을 리턴하는\n",
    "# 함수를 작성하세요(시작 값과 끝값을 포함)\n",
    "def mysum(start, end):\n",
    "    return sum(range(start,end+1))\n",
    "\n",
    "mysum(1,10)"
   ]
  },
  {
   "cell_type": "code",
   "execution_count": 6,
   "metadata": {
    "ExecuteTime": {
     "end_time": "2021-02-25T11:38:51.671655Z",
     "start_time": "2021-02-25T11:38:51.664678Z"
    }
   },
   "outputs": [
    {
     "data": {
      "text/plain": [
       "45"
      ]
     },
     "execution_count": 6,
     "metadata": {},
     "output_type": "execute_result"
    }
   ],
   "source": [
    "# 다른 방법. (from 은 지정된 변수명이기에 frOm 으로 새로운 변수명을 만들고 사용.)\n",
    "def mysum(frOm, end):\n",
    "    sum = 0\n",
    "    for i in range(frOm, end+1):\n",
    "        sum += i\n",
    "    return sum\n",
    "mysum(5,10)"
   ]
  },
  {
   "cell_type": "code",
   "execution_count": null,
   "metadata": {
    "ExecuteTime": {
     "end_time": "2021-02-25T02:40:57.772403Z",
     "start_time": "2021-02-25T02:40:57.756754Z"
    }
   },
   "outputs": [],
   "source": [
    "# 실습형 5. 함수의 인자로 문자열을 포함하는 리스트가 입력될때 각 문자열의 첫 세글자로만 구성된,\n",
    "# 리스트를 리턴하는 함수를 작성하세요.\n",
    "# - 예를 들어 함수의 입력으로 ['Seoul', 'Daegu','Kwangju','Jeju']가 입력될 때 함수의 리턴값은\n",
    "# ['Seo','Dae','Kwa','Jej'] 이다.\n",
    "def get_abbrs(list_):\n",
    "    result = []\n",
    "    for x in list_:\n",
    "        result.append(x[:3])\n",
    "    return result\n",
    "get_abbrs(['Seoul', 'Daegu','Kwangju','Jeju'])"
   ]
  },
  {
   "cell_type": "code",
   "execution_count": 9,
   "metadata": {
    "ExecuteTime": {
     "end_time": "2021-02-25T11:41:28.853578Z",
     "start_time": "2021-02-25T11:41:28.841636Z"
    }
   },
   "outputs": [
    {
     "name": "stdout",
     "output_type": "stream",
     "text": [
      "['Seo', 'Dae', 'Kwa', 'Jej']\n"
     ]
    }
   ],
   "source": [
    "#다른 방법.\n",
    "def get_addrs(list_):\n",
    "    return [x[:3] for x in list_]\n",
    "test = ['Seoul', 'Daegu','Kwangju','Jeju']\n",
    "print(get_addrs(test))"
   ]
  },
  {
   "cell_type": "code",
   "execution_count": 10,
   "metadata": {
    "ExecuteTime": {
     "end_time": "2021-02-25T11:42:29.818138Z",
     "start_time": "2021-02-25T11:42:29.799190Z"
    }
   },
   "outputs": [
    {
     "name": "stdout",
     "output_type": "stream",
     "text": [
      "['Seo', 'Dae', 'Kwa', 'Jej']\n"
     ]
    }
   ],
   "source": [
    "# 다른방법 2\n",
    "get_addrs = lambda l : [x[:3] for x in l]\n",
    "print(get_addrs(test))"
   ]
  },
  {
   "cell_type": "code",
   "execution_count": null,
   "metadata": {},
   "outputs": [],
   "source": [
    "# 실습형 6. 다음 코드를 람다 함수 형태로 수정할때 알맞은 코드를 작성하시오.\n",
    "#def f (x,y):\n",
    "   # return x**y"
   ]
  },
  {
   "cell_type": "code",
   "execution_count": 22,
   "metadata": {
    "ExecuteTime": {
     "end_time": "2021-02-25T02:44:20.376839Z",
     "start_time": "2021-02-25T02:44:20.371879Z"
    }
   },
   "outputs": [
    {
     "data": {
      "text/plain": [
       "8"
      ]
     },
     "execution_count": 22,
     "metadata": {},
     "output_type": "execute_result"
    }
   ],
   "source": [
    "f1 = lambda x,y : x**y\n",
    "f1(2,3)"
   ]
  },
  {
   "cell_type": "code",
   "execution_count": null,
   "metadata": {},
   "outputs": [],
   "source": [
    "# 실습형 7. ex= [1,2,3,4,5]를 [1,4,9,16,25]의 결과를 얻을 수 있도록 \n",
    "#람다함수와 map()함수를 사용하여 구현과 리스트 컴프리헨션 으로 구현.\n",
    "ex = [1,2,3,4,5] #리스트 컴프리헨션\n",
    "\n",
    "[x**2 for x in ex]"
   ]
  },
  {
   "cell_type": "code",
   "execution_count": 23,
   "metadata": {
    "ExecuteTime": {
     "end_time": "2021-02-25T02:45:44.361015Z",
     "start_time": "2021-02-25T02:45:44.356048Z"
    }
   },
   "outputs": [
    {
     "data": {
      "text/plain": [
       "[1, 4, 9, 16, 25]"
      ]
     },
     "execution_count": 23,
     "metadata": {},
     "output_type": "execute_result"
    }
   ],
   "source": [
    "ex =[1,2,3,4,5] #map 함수 이용\n",
    "list(map(lambda x : x**2,ex))"
   ]
  },
  {
   "cell_type": "code",
   "execution_count": 11,
   "metadata": {
    "ExecuteTime": {
     "end_time": "2021-02-25T11:46:00.261878Z",
     "start_time": "2021-02-25T11:46:00.246257Z"
    }
   },
   "outputs": [
    {
     "name": "stdout",
     "output_type": "stream",
     "text": [
      "1 2 3\n",
      "[1, 2, 3]\n"
     ]
    },
    {
     "data": {
      "text/plain": [
       "'\\n별표(asterisk, *)는 함수의 인자(argument)로 사용될때, 시퀀스형 자료형의 각각의 값(element)을 하나의 값(element)으로 넣어주게 된다(언패킹)\\n그러므로, print(*a)의 의미는 사실 print(a[0],a[1],a[2])으로 나타나게 된다.\\n'"
      ]
     },
     "execution_count": 11,
     "metadata": {},
     "output_type": "execute_result"
    }
   ],
   "source": [
    "# 실습형 8. 다음코드를 각각 실행하면 서로 다른 결과가 나온다. 이런 결과가 나오는 이유를 서술하라.\n",
    "a = [1,2,3]\n",
    "print(*a) # 튜플인수 언패킹.\n",
    "print(a)\n",
    "# 이유.\n",
    "\"\"\"\n",
    "별표(asterisk, *)는 함수의 인자(argument)로 사용될때, 시퀀스형 자료형의 각각의 값(element)을 하나의 값(element)으로 넣어주게 된다(언패킹)\n",
    "그러므로, print(*a)의 의미는 사실 print(a[0],a[1],a[2])으로 나타나게 된다.\n",
    "\"\"\""
   ]
  },
  {
   "cell_type": "code",
   "execution_count": 12,
   "metadata": {
    "ExecuteTime": {
     "end_time": "2021-02-25T11:47:31.897309Z",
     "start_time": "2021-02-25T11:47:31.881687Z"
    }
   },
   "outputs": [
    {
     "data": {
      "text/plain": [
       "'2019-9-6'"
      ]
     },
     "execution_count": 12,
     "metadata": {},
     "output_type": "execute_result"
    }
   ],
   "source": [
    "# 실습형 9.다음 코드의 실행 결과는?\n",
    "data_info = {'year':2019, 'month':'9', 'day':'6'}\n",
    "result = '{year}-{month}-{day}'.format(**data_info)\n",
    "result"
   ]
  },
  {
   "cell_type": "code",
   "execution_count": 15,
   "metadata": {
    "ExecuteTime": {
     "end_time": "2021-02-25T11:50:00.367851Z",
     "start_time": "2021-02-25T11:50:00.352922Z"
    }
   },
   "outputs": [
    {
     "data": {
      "text/plain": [
       "False"
      ]
     },
     "execution_count": 15,
     "metadata": {},
     "output_type": "execute_result"
    }
   ],
   "source": [
    "# 실습형 10. n개dml 벡터(리스트나 튜플, 셋등)의 크기가 동일한지 확인하는 함수\n",
    "# vector_size_check(*vector_var)를 한 줄의 코드(리스트 컴프리헨션)로 작성.\n",
    "def vector_size_check(*vector_variables):\n",
    "    return len(set([len(vector) for vector in vector_variables])) == 1\n",
    "vector_size_check([1,2,3],[1,2,3],[10,1])\n",
    "#vector_size_check([1,2,3],[1,2,3],[10,1,2])\n",
    "#이유는 각 크기가 3 3 2 이라서 모두 같이 않으니, False 라고 나온다."
   ]
  },
  {
   "cell_type": "code",
   "execution_count": 16,
   "metadata": {
    "ExecuteTime": {
     "end_time": "2021-02-25T11:50:33.530001Z",
     "start_time": "2021-02-25T11:50:33.513049Z"
    }
   },
   "outputs": [
    {
     "name": "stdout",
     "output_type": "stream",
     "text": [
      "True\n",
      "False\n"
     ]
    }
   ],
   "source": [
    "#실습형 10 함수 결과\n",
    "print(vector_size_check([1,2,3],(10,12,30),{'name':'김','age':30,'add':'신촌'}))\n",
    "print(vector_size_check([1,2,3],[10,12,13,14]))"
   ]
  },
  {
   "cell_type": "code",
   "execution_count": 19,
   "metadata": {
    "ExecuteTime": {
     "end_time": "2021-02-25T11:56:25.211033Z",
     "start_time": "2021-02-25T11:56:25.202062Z"
    }
   },
   "outputs": [
    {
     "data": {
      "text/plain": [
       "[5, 10, 15, 20]"
      ]
     },
     "execution_count": 19,
     "metadata": {},
     "output_type": "execute_result"
    }
   ],
   "source": [
    "# 실습형 11. 다음과 같은 결과를 얻기 위해 하나의 스칼라값을 리스트나 튜플, 셋등\n",
    "# 벡터에 곱하는 코드를 작성하라.(단, 입력되는 벡터의 크기는 일정하지 않음.)\n",
    "def scalar_vector_product(num, vector):\n",
    "    return [num*t for t in vector]\n",
    "scalar_vector_product(5, [1,2,3,4])"
   ]
  },
  {
   "cell_type": "markdown",
   "metadata": {},
   "source": [
    "### 연습문제 서술형"
   ]
  },
  {
   "cell_type": "code",
   "execution_count": 25,
   "metadata": {
    "ExecuteTime": {
     "end_time": "2021-02-25T03:03:34.300993Z",
     "start_time": "2021-02-25T03:03:34.295009Z"
    }
   },
   "outputs": [
    {
     "name": "stdout",
     "output_type": "stream",
     "text": [
      "9 0 2 "
     ]
    }
   ],
   "source": [
    "# 서술형 1.다음은 위치(loc)에 따라 그룹(group)이 \n",
    "#결정되는 사상(mapping)과정을 리스트로 구현한 프로그램입니다. 출력결과를 쓰세요\n",
    "def mapping(addr):\n",
    "    table = [1,2,5,9,6,4,0,3,8,7]\n",
    "    return table [addr//SIZE]\n",
    "SIZE = 20\n",
    "group = [9,8,7,6,5,4,3,2,1,0]\n",
    "loc = [127, 64, 188]\n",
    "for a, b in enumerate(loc):\n",
    "    print(group[mapping(loc[a])], end=' ') "
   ]
  },
  {
   "cell_type": "code",
   "execution_count": 24,
   "metadata": {
    "ExecuteTime": {
     "end_time": "2021-02-25T11:57:31.320521Z",
     "start_time": "2021-02-25T11:57:31.310546Z"
    }
   },
   "outputs": [
    {
     "name": "stdout",
     "output_type": "stream",
     "text": [
      "6 12 6 13 "
     ]
    }
   ],
   "source": [
    "# 서술형 2. 함수영역과 변수들의 찹조 영역에 따른 동작을 보여주기 위한 문제입니다.\n",
    "# 오루가 발생하는 라인을 찾고 문제를 해결하기 위한 코드를 작성하며, 실행결과를 쓰시오.\n",
    "a = 10\n",
    "def sub():\n",
    "    global a  \n",
    "    a += 1 # a= a+1.\n",
    "    print(a, end=' ')\n",
    "\n",
    "def func():\n",
    "    for i in range(2):\n",
    "        a = 5 \n",
    "        a += 1\n",
    "        print(a, end=' ')\n",
    "        sub()\n",
    "a += 1\n",
    "func()"
   ]
  },
  {
   "cell_type": "code",
   "execution_count": 246,
   "metadata": {
    "ExecuteTime": {
     "end_time": "2021-02-24T08:17:57.637977Z",
     "start_time": "2021-02-24T08:17:57.634014Z"
    }
   },
   "outputs": [
    {
     "name": "stdout",
     "output_type": "stream",
     "text": [
      "100\n"
     ]
    }
   ],
   "source": [
    "# 서술형 3. 다음 구문을 실행한 결과는\n",
    "var = 100\n",
    "def func(var): #매개변수로 들어온 변수는 지역변수.\n",
    "    var = 200\n",
    "func(var)\n",
    "print(var)"
   ]
  },
  {
   "cell_type": "code",
   "execution_count": 27,
   "metadata": {
    "ExecuteTime": {
     "end_time": "2021-02-25T12:01:55.700368Z",
     "start_time": "2021-02-25T12:01:55.680394Z"
    }
   },
   "outputs": [
    {
     "data": {
      "text/plain": [
       "5"
      ]
     },
     "execution_count": 27,
     "metadata": {},
     "output_type": "execute_result"
    }
   ],
   "source": [
    "# 서술형 4. 다음 구문의 실행 결과는?\n",
    "def my_func(func, *args):\n",
    "    return func(*args)\n",
    "\n",
    "\n",
    "import numpy as np\n",
    "my_func(np.add, 2, 3)"
   ]
  },
  {
   "cell_type": "code",
   "execution_count": 29,
   "metadata": {
    "ExecuteTime": {
     "end_time": "2021-02-25T03:12:32.721296Z",
     "start_time": "2021-02-25T03:12:32.716308Z"
    }
   },
   "outputs": [
    {
     "data": {
      "text/plain": [
       "9"
      ]
     },
     "execution_count": 29,
     "metadata": {},
     "output_type": "execute_result"
    }
   ],
   "source": [
    "# 서술형 5.다음 구문의 실행결과는?\n",
    "def my_func(func, *args):\n",
    "    return func(*args)\n",
    "my_func(lambda a, b : a**b, 3, 2)"
   ]
  },
  {
   "cell_type": "code",
   "execution_count": null,
   "metadata": {},
   "outputs": [],
   "source": [
    "# 서술형 6. 파이썬 함수에 대한 설명 중 잘못된 것은? (1)\n",
    "# (1) 파이썬의 함수는 중복 정의해 사용할 수 있다. 중복함수 못함.\n",
    "# (2) 파이썬의 함수 매개변수는 기본값을 가질 수 있다.\n",
    "# (3) **args 형식의 매개변수가 있으면 키워드 인수는 딕셔너리 형식으로 받는다.\n",
    "# (4) 함수를 호출할 때 매개변수 이름이 없는 인수는 매개변수 이름이 있는 인수보다 앞에 와야 한다."
   ]
  },
  {
   "cell_type": "code",
   "execution_count": null,
   "metadata": {},
   "outputs": [],
   "source": [
    "# 서술형 7.다음과 같은 구문이 있을 경우 오류가 발생하는 함수 호출은? (4)\n",
    "list_ = []\n",
    "def func(a, L=None):\n",
    "    if Lis None:\n",
    "        L = []\n",
    "    L.append(a)\n",
    "    return L"
   ]
  },
  {
   "cell_type": "code",
   "execution_count": null,
   "metadata": {},
   "outputs": [],
   "source": [
    "# 서술형 7의 문항.\n",
    "# (1)func(10, list_)\n",
    "# (2)func(20, L=list_)\n",
    "# (3)func(a=30)\n",
    "# (4)func([], a=40) "
   ]
  },
  {
   "cell_type": "code",
   "execution_count": null,
   "metadata": {},
   "outputs": [],
   "source": [
    "# 서술형 8. 다음보기가 설명하는것을 작성하기 위한 키워드를 쓰세요.(영문 소문자로.)\n",
    "\n",
    "\n",
    "# lambda .\n",
    "\n",
    "# - 작은 익명함수를 의미한다.\n",
    "# - 함수가 실행할 문장이 한 문장일 경우에 만들어 사용할 수 있다.\n",
    "# - 다른 함수의 인수 또는 리턴값에 사용할 수 있다."
   ]
  },
  {
   "cell_type": "code",
   "execution_count": null,
   "metadata": {},
   "outputs": [],
   "source": [
    "# 서술형 9. 다음 코드의 실행 결과는? (2)\n",
    "pairs = [(1, 'd'), (3, 'c'), (2,'b'),(4,'a')]\n",
    "pairs.sort(key=lambda pair : pair[1])\n",
    "pairs"
   ]
  },
  {
   "cell_type": "code",
   "execution_count": null,
   "metadata": {},
   "outputs": [],
   "source": [
    "# 서술형 9의 문항\n",
    "# (1) [(1, 'd'), (2, 'c'), (3,'b'),(4,'a')]\n",
    "# (2) [(4, 'a'), (3, 'b'), (2,'c'),(1,'d')]\n",
    "# (3) [(1, 'a'), (2, 'b'), (3,'c'),(4,'d')]\n",
    "# (4) 프로그램 오류."
   ]
  },
  {
   "cell_type": "code",
   "execution_count": null,
   "metadata": {},
   "outputs": [],
   "source": []
  },
  {
   "cell_type": "code",
   "execution_count": null,
   "metadata": {},
   "outputs": [],
   "source": []
  },
  {
   "cell_type": "code",
   "execution_count": null,
   "metadata": {},
   "outputs": [],
   "source": []
  }
 ],
 "metadata": {
  "kernelspec": {
   "display_name": "Python 3",
   "language": "python",
   "name": "python3"
  },
  "language_info": {
   "codemirror_mode": {
    "name": "ipython",
    "version": 3
   },
   "file_extension": ".py",
   "mimetype": "text/x-python",
   "name": "python",
   "nbconvert_exporter": "python",
   "pygments_lexer": "ipython3",
   "version": "3.8.5"
  },
  "toc": {
   "base_numbering": 1,
   "nav_menu": {},
   "number_sections": false,
   "sideBar": false,
   "skip_h1_title": false,
   "title_cell": "Table of Contents",
   "title_sidebar": "Contents",
   "toc_cell": false,
   "toc_position": {
    "height": "47px",
    "left": "1549.47px",
    "top": "150.922px",
    "width": "159px"
   },
   "toc_section_display": false,
   "toc_window_display": true
  },
  "varInspector": {
   "cols": {
    "lenName": 16,
    "lenType": 16,
    "lenVar": 40
   },
   "kernels_config": {
    "python": {
     "delete_cmd_postfix": "",
     "delete_cmd_prefix": "del ",
     "library": "var_list.py",
     "varRefreshCmd": "print(var_dic_list())"
    },
    "r": {
     "delete_cmd_postfix": ") ",
     "delete_cmd_prefix": "rm(",
     "library": "var_list.r",
     "varRefreshCmd": "cat(var_dic_list()) "
    }
   },
   "types_to_exclude": [
    "module",
    "function",
    "builtin_function_or_method",
    "instance",
    "_Feature"
   ],
   "window_display": false
  }
 },
 "nbformat": 4,
 "nbformat_minor": 4
}
