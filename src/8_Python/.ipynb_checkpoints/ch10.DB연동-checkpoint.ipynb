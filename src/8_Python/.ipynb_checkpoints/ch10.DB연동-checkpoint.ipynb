{
 "cells": [
  {
   "cell_type": "markdown",
   "metadata": {
    "ExecuteTime": {
     "end_time": "2021-03-03T00:58:03.741541Z",
     "start_time": "2021-03-03T00:58:03.736579Z"
    }
   },
   "source": [
    "**<b><font color=\"red\">ch10. 데이터베이스 연동</font><b>**"
   ]
  },
  {
   "cell_type": "markdown",
   "metadata": {},
   "source": [
    "# 1절. SQLite 데이터 베이스 연결"
   ]
  },
  {
   "cell_type": "markdown",
   "metadata": {},
   "source": [
    "## 1.1 SQLite 와 Python\n",
    "- SQLite 데이터 베이스는 별도의 서버프로세스 없이 SQL을 사용하여 DB엑세스할 수 있도록 만든 간단한 **디스크 기반(파일기반) 데이터베이스를 제공**하는 c라이브러리.\n",
    "- SQLite는 프로토타입(프로토타입 : 시제품 나오기전 까지 제품)을 만들때까지 사용.\n",
    "- 정식 제품은 오라클이나 다른 DBMS를 이식해서 출품한다.\n",
    "- DB browser for SQLite(https://sqlitebrowser.org/dl/)"
   ]
  },
  {
   "cell_type": "code",
   "execution_count": 2,
   "metadata": {
    "ExecuteTime": {
     "end_time": "2021-03-03T11:40:40.845384Z",
     "start_time": "2021-03-03T11:40:40.829428Z"
    }
   },
   "outputs": [
    {
     "data": {
      "text/plain": [
       "'3.33.0'"
      ]
     },
     "execution_count": 2,
     "metadata": {},
     "output_type": "execute_result"
    }
   ],
   "source": [
    "import sqlite3 # 실행 되면 다운성공.\n",
    "sqlite3.sqlite_version #버젼 확인."
   ]
  },
  {
   "cell_type": "markdown",
   "metadata": {},
   "source": [
    "### 1.2 데이터 베이스 연결"
   ]
  },
  {
   "cell_type": "code",
   "execution_count": 37,
   "metadata": {
    "ExecuteTime": {
     "end_time": "2021-03-03T02:13:30.285725Z",
     "start_time": "2021-03-03T02:13:30.273746Z"
    }
   },
   "outputs": [
    {
     "data": {
      "text/plain": [
       "<sqlite3.Connection at 0x28a88ee6c60>"
      ]
     },
     "execution_count": 37,
     "metadata": {},
     "output_type": "execute_result"
    }
   ],
   "source": [
    "# DB 연결 객체 생성시, 파일이 없으면 파일이 생성된다. 파일이 있으면 그 파일 연결해서 연동.\n",
    "conn = sqlite3.connect('data/ch10.example.db')\n",
    "conn"
   ]
  },
  {
   "cell_type": "code",
   "execution_count": 6,
   "metadata": {
    "ExecuteTime": {
     "end_time": "2021-03-03T01:40:33.235044Z",
     "start_time": "2021-03-03T01:40:33.203123Z"
    }
   },
   "outputs": [
    {
     "name": "stdout",
     "output_type": "stream",
     "text": [
      " E 드라이브의 볼륨: 학생방\n",
      " 볼륨 일련 번호: 0282-0516\n",
      "\n",
      " E:\\WDS\\BigDataUI\\data\\src\\08.Python\\data 디렉터리\n",
      "\n",
      "2021-03-03  오전 10:39    <DIR>          .\n",
      "2021-03-03  오전 10:39    <DIR>          ..\n",
      "2021-02-26  오후 03:03    <DIR>          .ipynb_checkpoints\n",
      "2021-02-26  오후 03:02                44 ch08.abc.txt\n",
      "2021-03-02  오후 01:20           292,544 ch09.iris.hdf5\n",
      "2021-03-02  오후 02:45         1,069,192 ch09.iris2.hdf5\n",
      "2021-02-26  오후 06:19               230 ch09.member.data\n",
      "2021-02-26  오후 06:12               112 ch09.member.txt\n",
      "2021-03-02  오전 10:08               162 ch09.member1.csv\n",
      "2021-03-02  오후 12:15               192 ch09.member1.json\n",
      "2021-03-02  오전 11:05                92 ch09.member1-1.csv\n",
      "2021-03-02  오전 10:16                68 ch09.member2.csv\n",
      "2021-03-02  오후 12:36               279 ch09.member2.json\n",
      "2021-03-02  오전 10:22                70 ch09.member2-1.csv\n",
      "2021-03-02  오전 11:21               136 ch09.member3.csv\n",
      "2021-03-02  오전 11:49               126 ch09.member4.csv\n",
      "2021-03-02  오전 11:57               126 ch09.member5.csv\n",
      "2021-02-26  오후 05:47               373 ch09.sample.txt\n",
      "2021-03-03  오전 10:39             8,192 ch10.example.db\n",
      "2021-03-03  오전 10:39             1,206 ch10.example.sqbpro\n",
      "              17개 파일           1,373,144 바이트\n",
      "               3개 디렉터리  410,817,421,312 바이트 남음\n"
     ]
    }
   ],
   "source": [
    "%ls data"
   ]
  },
  {
   "cell_type": "code",
   "execution_count": 8,
   "metadata": {
    "ExecuteTime": {
     "end_time": "2021-03-03T01:41:06.006427Z",
     "start_time": "2021-03-03T01:41:06.002437Z"
    }
   },
   "outputs": [],
   "source": [
    "conn.close() # 꼭 닫아줘야한다."
   ]
  },
  {
   "cell_type": "code",
   "execution_count": 38,
   "metadata": {
    "ExecuteTime": {
     "end_time": "2021-03-03T02:13:33.861446Z",
     "start_time": "2021-03-03T02:13:33.857456Z"
    }
   },
   "outputs": [],
   "source": [
    "#cursor(커서) 객체 반환. cursor(커서) : SQL문을 실행시키고 결과데이터를 조회하는데 사용\n",
    "cursor = conn.cursor()"
   ]
  },
  {
   "cell_type": "code",
   "execution_count": 13,
   "metadata": {
    "ExecuteTime": {
     "end_time": "2021-03-03T01:47:59.889271Z",
     "start_time": "2021-03-03T01:47:59.714312Z"
    }
   },
   "outputs": [
    {
     "data": {
      "text/plain": [
       "<sqlite3.Cursor at 0x28a896f6490>"
      ]
     },
     "execution_count": 13,
     "metadata": {},
     "output_type": "execute_result"
    }
   ],
   "source": [
    "cursor.execute(\"\"\"\n",
    "        CREATE TABLE MEMBER (\n",
    "            NAME TEXT,\n",
    "            AGE INT,\n",
    "            EMAIL TEXT\n",
    "        )\n",
    "\"\"\")"
   ]
  },
  {
   "cell_type": "code",
   "execution_count": 16,
   "metadata": {
    "ExecuteTime": {
     "end_time": "2021-03-03T01:50:32.322545Z",
     "start_time": "2021-03-03T01:50:32.163171Z"
    }
   },
   "outputs": [
    {
     "data": {
      "text/plain": [
       "<sqlite3.Cursor at 0x28a896f6490>"
      ]
     },
     "execution_count": 16,
     "metadata": {},
     "output_type": "execute_result"
    }
   ],
   "source": [
    "cursor.execute(\"DROP TABLE MEMBER\") # 삭제."
   ]
  },
  {
   "cell_type": "code",
   "execution_count": 17,
   "metadata": {
    "ExecuteTime": {
     "end_time": "2021-03-03T01:50:34.899729Z",
     "start_time": "2021-03-03T01:50:34.738641Z"
    }
   },
   "outputs": [
    {
     "data": {
      "text/plain": [
       "<sqlite3.Cursor at 0x28a896f6490>"
      ]
     },
     "execution_count": 17,
     "metadata": {},
     "output_type": "execute_result"
    }
   ],
   "source": [
    "cursor.execute(\"\"\"\n",
    "        CREATE TABLE MEMBER (\n",
    "            NAME TEXT,\n",
    "            AGE INT,\n",
    "            EMAIL TEXT\n",
    "        )\n",
    "\"\"\")"
   ]
  },
  {
   "cell_type": "code",
   "execution_count": 19,
   "metadata": {
    "ExecuteTime": {
     "end_time": "2021-03-03T01:52:15.511036Z",
     "start_time": "2021-03-03T01:52:15.507046Z"
    }
   },
   "outputs": [
    {
     "data": {
      "text/plain": [
       "<sqlite3.Cursor at 0x28a896f6490>"
      ]
     },
     "execution_count": 19,
     "metadata": {},
     "output_type": "execute_result"
    }
   ],
   "source": [
    "cursor.execute(\"INSERT INTO MEMBER VALUES ('홍길동',20,'h@hong.com')\")\n",
    "cursor.execute(\"INSERT INTO MEMBER VALUES ('유길동',23,'y@hong.com')\")\n",
    "cursor.execute(\"INSERT INTO MEMBER VALUES ('마길동',30,'m@hong.com')\")"
   ]
  },
  {
   "cell_type": "code",
   "execution_count": 21,
   "metadata": {
    "ExecuteTime": {
     "end_time": "2021-03-03T01:54:06.358105Z",
     "start_time": "2021-03-03T01:54:06.355132Z"
    }
   },
   "outputs": [],
   "source": [
    "conn.commit() # (반) conn.rollback()"
   ]
  },
  {
   "cell_type": "code",
   "execution_count": 22,
   "metadata": {
    "ExecuteTime": {
     "end_time": "2021-03-03T01:55:26.919924Z",
     "start_time": "2021-03-03T01:55:26.914937Z"
    }
   },
   "outputs": [
    {
     "data": {
      "text/plain": [
       "<sqlite3.Cursor at 0x28a896f6490>"
      ]
     },
     "execution_count": 22,
     "metadata": {},
     "output_type": "execute_result"
    }
   ],
   "source": [
    "cursor.execute(\"SELECT * FROM MEMBER\") # select 의 실행결과는 cursor 가 가르키고 있다."
   ]
  },
  {
   "cell_type": "code",
   "execution_count": 23,
   "metadata": {
    "ExecuteTime": {
     "end_time": "2021-03-03T01:56:48.959040Z",
     "start_time": "2021-03-03T01:56:48.955051Z"
    }
   },
   "outputs": [
    {
     "name": "stdout",
     "output_type": "stream",
     "text": [
      "[('홍길동', 20, 'h@hong.com'), ('홍길동', 20, 'h@hong.com'), ('홍길동', 20, 'h@hong.com'), ('홍길동', 20, 'h@hong.com'), ('유길동', 23, 'y@hong.com'), ('마길동', 30, 'm@hong.com')]\n"
     ]
    }
   ],
   "source": [
    "# select 문의 결과를 받는 함수 : fetchall() => 결과를 모두 받을때\n",
    "#fetchone() => 결과를 한 행씩 받을때\n",
    "#fetchmay(n-> 숫자) => 결과를 n행 받을때\n",
    "print(cursor.fetchall()) # execute 실행 결과는 튜플로 나온다."
   ]
  },
  {
   "cell_type": "code",
   "execution_count": 24,
   "metadata": {
    "ExecuteTime": {
     "end_time": "2021-03-03T01:58:31.245863Z",
     "start_time": "2021-03-03T01:58:31.241897Z"
    }
   },
   "outputs": [
    {
     "name": "stdout",
     "output_type": "stream",
     "text": [
      "[]\n"
     ]
    }
   ],
   "source": [
    "print(cursor.fetchall()) # 한번더 출력시키면 아무것도 나오지 않는다."
   ]
  },
  {
   "cell_type": "code",
   "execution_count": 25,
   "metadata": {
    "ExecuteTime": {
     "end_time": "2021-03-03T02:00:18.382909Z",
     "start_time": "2021-03-03T02:00:18.378940Z"
    }
   },
   "outputs": [
    {
     "name": "stdout",
     "output_type": "stream",
     "text": [
      "('홍길동', 20, 'h@hong.com')\n",
      "('홍길동', 20, 'h@hong.com')\n",
      "('홍길동', 20, 'h@hong.com')\n",
      "('홍길동', 20, 'h@hong.com')\n",
      "('유길동', 23, 'y@hong.com')\n",
      "('마길동', 30, 'm@hong.com')\n"
     ]
    }
   ],
   "source": [
    "cursor.execute(\"SELECT * FROM MEMBER\")\n",
    "members = cursor.fetchall() # 그래서 변수에 넣어야 계속 이용할수 있다.\n",
    "for member in  members:\n",
    "    print(member)"
   ]
  },
  {
   "cell_type": "code",
   "execution_count": 27,
   "metadata": {
    "ExecuteTime": {
     "end_time": "2021-03-03T02:02:23.558892Z",
     "start_time": "2021-03-03T02:02:23.554929Z"
    }
   },
   "outputs": [
    {
     "data": {
      "text/plain": [
       "('홍길동', 20, 'h@hong.com')"
      ]
     },
     "execution_count": 27,
     "metadata": {},
     "output_type": "execute_result"
    }
   ],
   "source": [
    "members[0]"
   ]
  },
  {
   "cell_type": "code",
   "execution_count": 30,
   "metadata": {
    "ExecuteTime": {
     "end_time": "2021-03-03T02:07:28.215393Z",
     "start_time": "2021-03-03T02:07:28.210407Z"
    }
   },
   "outputs": [
    {
     "name": "stdout",
     "output_type": "stream",
     "text": [
      "('홍길동', 20, 'h@hong.com')\n",
      "('홍길동', 20, 'h@hong.com')\n",
      "('홍길동', 20, 'h@hong.com')\n",
      "('홍길동', 20, 'h@hong.com')\n",
      "('유길동', 23, 'y@hong.com')\n",
      "('마길동', 30, 'm@hong.com')\n"
     ]
    }
   ],
   "source": [
    "cursor.execute(\"SELECT * FROM MEMBER\")\n",
    "while True:\n",
    "    member = cursor.fetchone()\n",
    "    if member is None:   # => member가 None 이면.\n",
    "        break;\n",
    "    print(member)\n",
    "# print(cursor.fetchone())\n",
    "# print(cursor.fetchone())\n",
    "# print(cursor.fetchone())\n",
    "# print(cursor.fetchone())\n",
    "# print(cursor.fetchone())\n",
    "# print(cursor.fetchone())\n",
    "# print(cursor.fetchone()) # 더이상 없으면 None 으로 출력.\n"
   ]
  },
  {
   "cell_type": "code",
   "execution_count": 31,
   "metadata": {
    "ExecuteTime": {
     "end_time": "2021-03-03T02:10:05.990755Z",
     "start_time": "2021-03-03T02:10:05.985749Z"
    }
   },
   "outputs": [
    {
     "name": "stdout",
     "output_type": "stream",
     "text": [
      "('홍길동', 20, 'h@hong.com')\n",
      "('홍길동', 20, 'h@hong.com')\n"
     ]
    }
   ],
   "source": [
    "cursor.execute(\"SELECT * FROM MEMBER\")\n",
    "for member in cursor.fetchmany(2):\n",
    "    print(member)\n",
    "    #print(member[0],member[1],member[2]) 따로 따로."
   ]
  },
  {
   "cell_type": "code",
   "execution_count": 32,
   "metadata": {
    "ExecuteTime": {
     "end_time": "2021-03-03T02:10:14.639603Z",
     "start_time": "2021-03-03T02:10:14.634616Z"
    }
   },
   "outputs": [
    {
     "data": {
      "text/plain": [
       "[('홍길동', 20, 'h@hong.com'), ('홍길동', 20, 'h@hong.com')]"
      ]
     },
     "execution_count": 32,
     "metadata": {},
     "output_type": "execute_result"
    }
   ],
   "source": [
    "cursor.fetchmany(2) # 한번 fet 하면 그 다음 fet를 보여준다."
   ]
  },
  {
   "cell_type": "code",
   "execution_count": 39,
   "metadata": {
    "ExecuteTime": {
     "end_time": "2021-03-03T02:13:36.437443Z",
     "start_time": "2021-03-03T02:13:36.434476Z"
    }
   },
   "outputs": [],
   "source": [
    "cursor.close() # cursor 닫음. => 이 문장을 생략했을경우 conn은 꼭 닫기 해줘야함.\n",
    "conn.close() \n",
    "# 한번더 하면 없다고 에러."
   ]
  },
  {
   "cell_type": "markdown",
   "metadata": {},
   "source": [
    "## 1.3 SQL 구문에 파라미터 사용하기(where조건에 많이 쓰임)\n",
    "- qmark, named 방법들중, named 를 추천한다."
   ]
  },
  {
   "cell_type": "code",
   "execution_count": 41,
   "metadata": {
    "ExecuteTime": {
     "end_time": "2021-03-03T02:22:11.287255Z",
     "start_time": "2021-03-03T02:22:11.282268Z"
    }
   },
   "outputs": [
    {
     "name": "stdout",
     "output_type": "stream",
     "text": [
      "[('홍길동', 20, 'h@hong.com'), ('홍길동', 20, 'h@hong.com'), ('홍길동', 20, 'h@hong.com'), ('홍길동', 20, 'h@hong.com'), ('마길동', 30, 'm@hong.com')]\n"
     ]
    }
   ],
   "source": [
    "conn = sqlite3.connect('data/ch10.example.db') #db연동\n",
    "cursor = conn.cursor() # cursor 실행\n",
    "cursor.execute(\"SELECT * FROM MEMBER WHERE NAME IN ('홍길동','마길동')\")\n",
    "print(cursor.fetchall())"
   ]
  },
  {
   "cell_type": "code",
   "execution_count": 42,
   "metadata": {
    "ExecuteTime": {
     "end_time": "2021-03-03T02:24:07.847043Z",
     "start_time": "2021-03-03T02:24:07.842059Z"
    }
   },
   "outputs": [
    {
     "name": "stdout",
     "output_type": "stream",
     "text": [
      "[('홍길동', 20, 'h@hong.com'), ('홍길동', 20, 'h@hong.com'), ('홍길동', 20, 'h@hong.com'), ('홍길동', 20, 'h@hong.com'), ('마길동', 30, 'm@hong.com')]\n"
     ]
    }
   ],
   "source": [
    "# 파라미터 사용하기 : qmark 방법이용.\n",
    "conn = sqlite3.connect('data/ch10.example.db') #db연동\n",
    "cursor = conn.cursor() # cursor 객체 생성.\n",
    "#cursor.execute(\"SELECT * FROM MEMBER WHERE NAME IN ('\"+name1+\"','\"+name2+\"')\")\n",
    "# 이렇게 하지 않음. 가독성이 너무 떨어짐.\n",
    "cursor.execute(\"SELECT * FROM MEMBER WHERE NAME IN (?,?)\",('홍길동','마길동'))\n",
    "# ('홍길동','마길동') => 튜플로 들어옴.\n",
    "print(cursor.fetchall())"
   ]
  },
  {
   "cell_type": "code",
   "execution_count": 44,
   "metadata": {
    "ExecuteTime": {
     "end_time": "2021-03-03T02:27:56.451331Z",
     "start_time": "2021-03-03T02:27:51.362109Z"
    }
   },
   "outputs": [
    {
     "name": "stdout",
     "output_type": "stream",
     "text": [
      "검색할 이름1 : 마길동\n",
      "검색할 이름2 : 윤길동\n",
      "[('마길동', 30, 'm@hong.com')]\n"
     ]
    }
   ],
   "source": [
    "name1 = input('검색할 이름1 : ')\n",
    "name2 = input('검색할 이름2 : ')\n",
    "names = (name1,name2)\n",
    "cursor.execute(\"SELECT * FROM MEMBER WHERE NAME IN (?,?)\", names)\n",
    "print(cursor.fetchall())"
   ]
  },
  {
   "cell_type": "code",
   "execution_count": 49,
   "metadata": {
    "ExecuteTime": {
     "end_time": "2021-03-03T02:58:56.661407Z",
     "start_time": "2021-03-03T02:58:54.105371Z"
    }
   },
   "outputs": [
    {
     "name": "stdout",
     "output_type": "stream",
     "text": [
      "검색하고자 하는 이름 : 윤길동\n",
      "해당 이름의 데이터가 없습니다.\n"
     ]
    }
   ],
   "source": [
    "# 파라미터 사용하기 : named 방법이용.\n",
    "name = input(\"검색하고자 하는 이름 : \")\n",
    "cursor.execute(\"SELECT * FROM MEMBER WHERE NAME =:name\", {'name':name})\n",
    "members = cursor.fetchall()\n",
    "if len(members) == 0: # 없는 이름을 없다고 출력.\n",
    "    print('해당 이름의 데이터가 없습니다.')\n",
    "else:\n",
    "    print(cursor.fetchall())\n",
    "# 없는 이름을 검색하면 빈리스트로 출력된다."
   ]
  },
  {
   "cell_type": "code",
   "execution_count": 51,
   "metadata": {
    "ExecuteTime": {
     "end_time": "2021-03-03T03:03:49.101306Z",
     "start_time": "2021-03-03T03:03:33.346368Z"
    }
   },
   "outputs": [
    {
     "name": "stdout",
     "output_type": "stream",
     "text": [
      "입력할 이름 ?신길동\n",
      "입력할 나이 ?29\n",
      "입력할 이메일 ?shin@hong.com\n"
     ]
    },
    {
     "data": {
      "text/plain": [
       "<sqlite3.Cursor at 0x28a89575810>"
      ]
     },
     "execution_count": 51,
     "metadata": {},
     "output_type": "execute_result"
    }
   ],
   "source": [
    "name = input('입력할 이름 ?')\n",
    "try: #예외가 날 곳에만. 아닌것들은 따로 빼준다.\n",
    "    age = int(input('입력할 나이 ?'))\n",
    "except:\n",
    "    print('나이를 잘못 입력 하셨어요. 초기값인 20살로.')\n",
    "    age = 20\n",
    "email = input('입력할 이메일 ?')\n",
    "cursor.execute(\"INSERT INTO MEMBER VALUES (:name,:age,:email)\",\n",
    "               {'name':name, 'age':age, 'email':email} )\n",
    "# {'name':name, 'age':age, 'email':email} 딕셔너리가 와야한다."
   ]
  },
  {
   "cell_type": "code",
   "execution_count": 52,
   "metadata": {
    "ExecuteTime": {
     "end_time": "2021-03-03T03:04:39.373910Z",
     "start_time": "2021-03-03T03:04:39.368943Z"
    }
   },
   "outputs": [
    {
     "name": "stdout",
     "output_type": "stream",
     "text": [
      "[('홍길동', 20, 'h@hong.com'), ('홍길동', 20, 'h@hong.com'), ('홍길동', 20, 'h@hong.com'), ('홍길동', 20, 'h@hong.com'), ('유길동', 23, 'y@hong.com'), ('마길동', 30, 'm@hong.com'), ('신길동', 29, 'shin@hong.com')]\n"
     ]
    }
   ],
   "source": [
    "cursor.execute(\"SELECT * FROM MEMBER\")\n",
    "print(cursor.fetchall())"
   ]
  },
  {
   "cell_type": "code",
   "execution_count": 53,
   "metadata": {
    "ExecuteTime": {
     "end_time": "2021-03-03T03:05:35.653645Z",
     "start_time": "2021-03-03T03:05:35.649682Z"
    }
   },
   "outputs": [],
   "source": [
    "cursor.close()\n",
    "conn.close() # conn만 닫으면 cursor 도 닫아진다."
   ]
  },
  {
   "cell_type": "markdown",
   "metadata": {},
   "source": [
    "# 2절. 오라클 데이터베이스 연결"
   ]
  },
  {
   "cell_type": "code",
   "execution_count": 55,
   "metadata": {
    "ExecuteTime": {
     "end_time": "2021-03-03T03:16:18.165363Z",
     "start_time": "2021-03-03T03:16:18.161373Z"
    }
   },
   "outputs": [
    {
     "data": {
      "text/plain": [
       "'(DESCRIPTION=(ADDRESS=(PROTOCOL=TCP)(HOST=localhost)(PORT=1521))(CONNECT_DATA=(SID=xe)))'"
      ]
     },
     "execution_count": 55,
     "metadata": {},
     "output_type": "execute_result"
    }
   ],
   "source": [
    "#데이터베이스 설정(DBMS가 있는 서버 주소,포트번호, sid 등을 설정)\n",
    "import cx_Oracle\n",
    "oracle_dsn = cx_Oracle.makedsn(host=\"localhost\", port=1521, sid = \"xe\")\n",
    "oracle_dsn"
   ]
  },
  {
   "cell_type": "code",
   "execution_count": 56,
   "metadata": {
    "ExecuteTime": {
     "end_time": "2021-03-03T03:19:30.666693Z",
     "start_time": "2021-03-03T03:19:29.128301Z"
    }
   },
   "outputs": [
    {
     "data": {
      "text/plain": [
       "<cx_Oracle.Connection to scott@(DESCRIPTION=(ADDRESS=(PROTOCOL=TCP)(HOST=localhost)(PORT=1521))(CONNECT_DATA=(SID=xe)))>"
      ]
     },
     "execution_count": 56,
     "metadata": {},
     "output_type": "execute_result"
    }
   ],
   "source": [
    "conn = cx_Oracle.connect(\"scott\",\"tiger\", dsn = oracle_dsn)\n",
    "conn\n",
    "#에러가 날 경우.\n",
    "# VC_redist.x64.exe 인스톨."
   ]
  },
  {
   "cell_type": "code",
   "execution_count": 57,
   "metadata": {
    "ExecuteTime": {
     "end_time": "2021-03-03T03:21:16.427137Z",
     "start_time": "2021-03-03T03:21:16.288309Z"
    }
   },
   "outputs": [],
   "source": [
    "conn.close()"
   ]
  },
  {
   "cell_type": "code",
   "execution_count": 61,
   "metadata": {
    "ExecuteTime": {
     "end_time": "2021-03-03T03:22:34.870052Z",
     "start_time": "2021-03-03T03:22:34.840133Z"
    }
   },
   "outputs": [],
   "source": [
    "# conn 얻어오는 방법 (1안.) 이 방법을 많이 쓰인다.\n",
    "oracle_dsn = cx_Oracle.makedsn(host=\"localhost\", port=1521, sid = \"xe\")\n",
    "conn = cx_Oracle.connect(\"scott\",\"tiger\", dsn = oracle_dsn)"
   ]
  },
  {
   "cell_type": "code",
   "execution_count": 62,
   "metadata": {
    "ExecuteTime": {
     "end_time": "2021-03-03T03:22:36.285215Z",
     "start_time": "2021-03-03T03:22:36.280254Z"
    }
   },
   "outputs": [],
   "source": [
    "conn.close()"
   ]
  },
  {
   "cell_type": "code",
   "execution_count": 63,
   "metadata": {
    "ExecuteTime": {
     "end_time": "2021-03-03T03:24:05.172191Z",
     "start_time": "2021-03-03T03:24:05.024691Z"
    }
   },
   "outputs": [
    {
     "data": {
      "text/plain": [
       "<cx_Oracle.Connection to scott@localhost:1521/xe>"
      ]
     },
     "execution_count": 63,
     "metadata": {},
     "output_type": "execute_result"
    }
   ],
   "source": [
    "# conn 얻어오는 방법 (2안.)\n",
    "conn = cx_Oracle.connect(\"scott\", \"tiger\", \"localhost:1521/xe\")\n",
    "conn"
   ]
  },
  {
   "cell_type": "code",
   "execution_count": 64,
   "metadata": {
    "ExecuteTime": {
     "end_time": "2021-03-03T03:35:27.955995Z",
     "start_time": "2021-03-03T03:35:27.952005Z"
    }
   },
   "outputs": [],
   "source": [
    "# cursor 얻어오기\n",
    "cursor = conn.cursor()"
   ]
  },
  {
   "cell_type": "code",
   "execution_count": 67,
   "metadata": {
    "ExecuteTime": {
     "end_time": "2021-03-03T03:38:09.828599Z",
     "start_time": "2021-03-03T03:38:09.823613Z"
    }
   },
   "outputs": [
    {
     "name": "stdout",
     "output_type": "stream",
     "text": [
      "(7369, 'SMITH', 'CLERK', 7902, datetime.datetime(1980, 12, 17, 0, 0), 800.0, None, 20)\n",
      "(7499, 'ALLEN', 'SALESMAN', 7698, datetime.datetime(1981, 2, 20, 0, 0), 1600.0, 300.0, 30)\n",
      "(7521, 'WARD', 'SALESMAN', 7698, datetime.datetime(1981, 2, 22, 0, 0), 1250.0, 500.0, 30)\n",
      "(7566, 'JONES', 'MANAGER', 7839, datetime.datetime(1981, 4, 2, 0, 0), 2975.0, None, 20)\n",
      "(7654, 'MARTIN', 'SALESMAN', 7698, datetime.datetime(1981, 9, 28, 0, 0), 1250.0, 1400.0, 30)\n",
      "(7698, 'BLAKE', 'MANAGER', 7839, datetime.datetime(1981, 5, 1, 0, 0), 2850.0, None, 30)\n",
      "(7782, 'CLARK', 'MANAGER', 7839, datetime.datetime(1981, 6, 9, 0, 0), 2450.0, None, 10)\n",
      "(7788, 'SCOTT', 'ANALYST', 7566, datetime.datetime(1982, 12, 9, 0, 0), 3000.0, None, 20)\n",
      "(7839, 'KING', 'PRESIDENT', None, datetime.datetime(1981, 11, 17, 0, 0), 5000.0, None, 10)\n",
      "(7844, 'TURNER', 'SALESMAN', 7698, datetime.datetime(1981, 9, 8, 0, 0), 1500.0, 0.0, 30)\n",
      "(7876, 'ADAMS', 'CLERK', 7788, datetime.datetime(1983, 1, 12, 0, 0), 1100.0, None, 20)\n",
      "(7900, 'JAMES', 'CLERK', 7698, datetime.datetime(1981, 12, 3, 0, 0), 950.0, None, 30)\n",
      "(7902, 'FORD', 'ANALYST', 7566, datetime.datetime(1981, 12, 3, 0, 0), 3000.0, None, 20)\n",
      "(7934, 'MILLER', 'CLERK', 7782, datetime.datetime(1982, 1, 23, 0, 0), 1300.0, None, 10)\n"
     ]
    }
   ],
   "source": [
    "sql = \"SELECT * FROM EMP\"\n",
    "cursor.execute(sql)\n",
    "# emp = cursor.fetchall()\n",
    "for e in cursor:\n",
    "    print(e)"
   ]
  },
  {
   "cell_type": "code",
   "execution_count": 66,
   "metadata": {
    "ExecuteTime": {
     "end_time": "2021-03-03T03:37:23.452028Z",
     "start_time": "2021-03-03T03:37:23.448039Z"
    }
   },
   "outputs": [
    {
     "name": "stdout",
     "output_type": "stream",
     "text": [
      "(7369, 'SMITH', 'CLERK', 7902, datetime.datetime(1980, 12, 17, 0, 0), 800.0, None, 20)\n",
      "(7499, 'ALLEN', 'SALESMAN', 7698, datetime.datetime(1981, 2, 20, 0, 0), 1600.0, 300.0, 30)\n",
      "(7521, 'WARD', 'SALESMAN', 7698, datetime.datetime(1981, 2, 22, 0, 0), 1250.0, 500.0, 30)\n",
      "(7566, 'JONES', 'MANAGER', 7839, datetime.datetime(1981, 4, 2, 0, 0), 2975.0, None, 20)\n",
      "(7654, 'MARTIN', 'SALESMAN', 7698, datetime.datetime(1981, 9, 28, 0, 0), 1250.0, 1400.0, 30)\n",
      "(7698, 'BLAKE', 'MANAGER', 7839, datetime.datetime(1981, 5, 1, 0, 0), 2850.0, None, 30)\n",
      "(7782, 'CLARK', 'MANAGER', 7839, datetime.datetime(1981, 6, 9, 0, 0), 2450.0, None, 10)\n",
      "(7788, 'SCOTT', 'ANALYST', 7566, datetime.datetime(1982, 12, 9, 0, 0), 3000.0, None, 20)\n",
      "(7839, 'KING', 'PRESIDENT', None, datetime.datetime(1981, 11, 17, 0, 0), 5000.0, None, 10)\n",
      "(7844, 'TURNER', 'SALESMAN', 7698, datetime.datetime(1981, 9, 8, 0, 0), 1500.0, 0.0, 30)\n",
      "(7876, 'ADAMS', 'CLERK', 7788, datetime.datetime(1983, 1, 12, 0, 0), 1100.0, None, 20)\n",
      "(7900, 'JAMES', 'CLERK', 7698, datetime.datetime(1981, 12, 3, 0, 0), 950.0, None, 30)\n",
      "(7902, 'FORD', 'ANALYST', 7566, datetime.datetime(1981, 12, 3, 0, 0), 3000.0, None, 20)\n",
      "(7934, 'MILLER', 'CLERK', 7782, datetime.datetime(1982, 1, 23, 0, 0), 1300.0, None, 10)\n"
     ]
    }
   ],
   "source": [
    "for e in emp:\n",
    "    print(e) # 튜플 타입."
   ]
  },
  {
   "cell_type": "code",
   "execution_count": 70,
   "metadata": {
    "ExecuteTime": {
     "end_time": "2021-03-03T03:41:18.584373Z",
     "start_time": "2021-03-03T03:41:17.440387Z"
    }
   },
   "outputs": [
    {
     "name": "stdout",
     "output_type": "stream",
     "text": [
      "검색 하고자 하는 부서 번호는 ? 40\n"
     ]
    }
   ],
   "source": [
    "sql = \"SELECT * FROM EMP WHERE DEPTNO =:deptno\"\n",
    "deptno = input('검색 하고자 하는 부서 번호는 ? ')\n",
    "cursor.execute(sql, {'deptno':deptno})\n",
    "\n",
    "for emp in cursor:\n",
    "    print(emp)"
   ]
  },
  {
   "cell_type": "code",
   "execution_count": 71,
   "metadata": {
    "ExecuteTime": {
     "end_time": "2021-03-03T03:42:30.426154Z",
     "start_time": "2021-03-03T03:42:27.239908Z"
    }
   },
   "outputs": [
    {
     "name": "stdout",
     "output_type": "stream",
     "text": [
      "검색 하고자 하는 부서 번호는 ? 50\n",
      "입력하신 부서번호의 데이터가 없습니다.\n"
     ]
    }
   ],
   "source": [
    "sql = \"SELECT * FROM EMP WHERE DEPTNO =:deptno\"\n",
    "deptno = input('검색 하고자 하는 부서 번호는 ? ')\n",
    "cursor.execute(sql, {'deptno':deptno})\n",
    "\n",
    "emp = cursor.fetchall()\n",
    "if len(emp)==0:\n",
    "    print('입력하신 부서번호의 데이터가 없습니다.')\n",
    "else:\n",
    "    for e in emp:\n",
    "        print(e)"
   ]
  },
  {
   "cell_type": "code",
   "execution_count": 1,
   "metadata": {
    "ExecuteTime": {
     "end_time": "2021-03-03T11:40:23.156459Z",
     "start_time": "2021-03-03T11:40:22.956141Z"
    }
   },
   "outputs": [
    {
     "ename": "NameError",
     "evalue": "name 'emp' is not defined",
     "output_type": "error",
     "traceback": [
      "\u001b[1;31m---------------------------------------------------------------------------\u001b[0m",
      "\u001b[1;31mNameError\u001b[0m                                 Traceback (most recent call last)",
      "\u001b[1;32m<ipython-input-1-c3a96ab8d17e>\u001b[0m in \u001b[0;36m<module>\u001b[1;34m\u001b[0m\n\u001b[1;32m----> 1\u001b[1;33m \u001b[0mprint\u001b[0m\u001b[1;33m(\u001b[0m\u001b[0memp\u001b[0m\u001b[1;33m)\u001b[0m\u001b[1;33m\u001b[0m\u001b[1;33m\u001b[0m\u001b[0m\n\u001b[0m",
      "\u001b[1;31mNameError\u001b[0m: name 'emp' is not defined"
     ]
    }
   ],
   "source": [
    "print(emp)"
   ]
  },
  {
   "cell_type": "code",
   "execution_count": 74,
   "metadata": {
    "ExecuteTime": {
     "end_time": "2021-03-03T03:47:08.582274Z",
     "start_time": "2021-03-03T03:47:08.447732Z"
    }
   },
   "outputs": [
    {
     "data": {
      "text/html": [
       "<div>\n",
       "<style scoped>\n",
       "    .dataframe tbody tr th:only-of-type {\n",
       "        vertical-align: middle;\n",
       "    }\n",
       "\n",
       "    .dataframe tbody tr th {\n",
       "        vertical-align: top;\n",
       "    }\n",
       "\n",
       "    .dataframe thead th {\n",
       "        text-align: right;\n",
       "    }\n",
       "</style>\n",
       "<table border=\"1\" class=\"dataframe\">\n",
       "  <thead>\n",
       "    <tr style=\"text-align: right;\">\n",
       "      <th></th>\n",
       "      <th>0</th>\n",
       "      <th>1</th>\n",
       "      <th>2</th>\n",
       "      <th>3</th>\n",
       "      <th>4</th>\n",
       "      <th>5</th>\n",
       "      <th>6</th>\n",
       "      <th>7</th>\n",
       "    </tr>\n",
       "  </thead>\n",
       "  <tbody>\n",
       "    <tr>\n",
       "      <th>0</th>\n",
       "      <td>7369</td>\n",
       "      <td>SMITH</td>\n",
       "      <td>CLERK</td>\n",
       "      <td>7902.0</td>\n",
       "      <td>1980-12-17</td>\n",
       "      <td>800.0</td>\n",
       "      <td>NaN</td>\n",
       "      <td>20</td>\n",
       "    </tr>\n",
       "    <tr>\n",
       "      <th>1</th>\n",
       "      <td>7499</td>\n",
       "      <td>ALLEN</td>\n",
       "      <td>SALESMAN</td>\n",
       "      <td>7698.0</td>\n",
       "      <td>1981-02-20</td>\n",
       "      <td>1600.0</td>\n",
       "      <td>300.0</td>\n",
       "      <td>30</td>\n",
       "    </tr>\n",
       "    <tr>\n",
       "      <th>2</th>\n",
       "      <td>7521</td>\n",
       "      <td>WARD</td>\n",
       "      <td>SALESMAN</td>\n",
       "      <td>7698.0</td>\n",
       "      <td>1981-02-22</td>\n",
       "      <td>1250.0</td>\n",
       "      <td>500.0</td>\n",
       "      <td>30</td>\n",
       "    </tr>\n",
       "    <tr>\n",
       "      <th>3</th>\n",
       "      <td>7566</td>\n",
       "      <td>JONES</td>\n",
       "      <td>MANAGER</td>\n",
       "      <td>7839.0</td>\n",
       "      <td>1981-04-02</td>\n",
       "      <td>2975.0</td>\n",
       "      <td>NaN</td>\n",
       "      <td>20</td>\n",
       "    </tr>\n",
       "    <tr>\n",
       "      <th>4</th>\n",
       "      <td>7654</td>\n",
       "      <td>MARTIN</td>\n",
       "      <td>SALESMAN</td>\n",
       "      <td>7698.0</td>\n",
       "      <td>1981-09-28</td>\n",
       "      <td>1250.0</td>\n",
       "      <td>1400.0</td>\n",
       "      <td>30</td>\n",
       "    </tr>\n",
       "    <tr>\n",
       "      <th>5</th>\n",
       "      <td>7698</td>\n",
       "      <td>BLAKE</td>\n",
       "      <td>MANAGER</td>\n",
       "      <td>7839.0</td>\n",
       "      <td>1981-05-01</td>\n",
       "      <td>2850.0</td>\n",
       "      <td>NaN</td>\n",
       "      <td>30</td>\n",
       "    </tr>\n",
       "    <tr>\n",
       "      <th>6</th>\n",
       "      <td>7782</td>\n",
       "      <td>CLARK</td>\n",
       "      <td>MANAGER</td>\n",
       "      <td>7839.0</td>\n",
       "      <td>1981-06-09</td>\n",
       "      <td>2450.0</td>\n",
       "      <td>NaN</td>\n",
       "      <td>10</td>\n",
       "    </tr>\n",
       "    <tr>\n",
       "      <th>7</th>\n",
       "      <td>7788</td>\n",
       "      <td>SCOTT</td>\n",
       "      <td>ANALYST</td>\n",
       "      <td>7566.0</td>\n",
       "      <td>1982-12-09</td>\n",
       "      <td>3000.0</td>\n",
       "      <td>NaN</td>\n",
       "      <td>20</td>\n",
       "    </tr>\n",
       "    <tr>\n",
       "      <th>8</th>\n",
       "      <td>7839</td>\n",
       "      <td>KING</td>\n",
       "      <td>PRESIDENT</td>\n",
       "      <td>NaN</td>\n",
       "      <td>1981-11-17</td>\n",
       "      <td>5000.0</td>\n",
       "      <td>NaN</td>\n",
       "      <td>10</td>\n",
       "    </tr>\n",
       "    <tr>\n",
       "      <th>9</th>\n",
       "      <td>7844</td>\n",
       "      <td>TURNER</td>\n",
       "      <td>SALESMAN</td>\n",
       "      <td>7698.0</td>\n",
       "      <td>1981-09-08</td>\n",
       "      <td>1500.0</td>\n",
       "      <td>0.0</td>\n",
       "      <td>30</td>\n",
       "    </tr>\n",
       "    <tr>\n",
       "      <th>10</th>\n",
       "      <td>7876</td>\n",
       "      <td>ADAMS</td>\n",
       "      <td>CLERK</td>\n",
       "      <td>7788.0</td>\n",
       "      <td>1983-01-12</td>\n",
       "      <td>1100.0</td>\n",
       "      <td>NaN</td>\n",
       "      <td>20</td>\n",
       "    </tr>\n",
       "    <tr>\n",
       "      <th>11</th>\n",
       "      <td>7900</td>\n",
       "      <td>JAMES</td>\n",
       "      <td>CLERK</td>\n",
       "      <td>7698.0</td>\n",
       "      <td>1981-12-03</td>\n",
       "      <td>950.0</td>\n",
       "      <td>NaN</td>\n",
       "      <td>30</td>\n",
       "    </tr>\n",
       "    <tr>\n",
       "      <th>12</th>\n",
       "      <td>7902</td>\n",
       "      <td>FORD</td>\n",
       "      <td>ANALYST</td>\n",
       "      <td>7566.0</td>\n",
       "      <td>1981-12-03</td>\n",
       "      <td>3000.0</td>\n",
       "      <td>NaN</td>\n",
       "      <td>20</td>\n",
       "    </tr>\n",
       "    <tr>\n",
       "      <th>13</th>\n",
       "      <td>7934</td>\n",
       "      <td>MILLER</td>\n",
       "      <td>CLERK</td>\n",
       "      <td>7782.0</td>\n",
       "      <td>1982-01-23</td>\n",
       "      <td>1300.0</td>\n",
       "      <td>NaN</td>\n",
       "      <td>10</td>\n",
       "    </tr>\n",
       "  </tbody>\n",
       "</table>\n",
       "</div>"
      ],
      "text/plain": [
       "       0       1          2       3          4       5       6   7\n",
       "0   7369   SMITH      CLERK  7902.0 1980-12-17   800.0     NaN  20\n",
       "1   7499   ALLEN   SALESMAN  7698.0 1981-02-20  1600.0   300.0  30\n",
       "2   7521    WARD   SALESMAN  7698.0 1981-02-22  1250.0   500.0  30\n",
       "3   7566   JONES    MANAGER  7839.0 1981-04-02  2975.0     NaN  20\n",
       "4   7654  MARTIN   SALESMAN  7698.0 1981-09-28  1250.0  1400.0  30\n",
       "5   7698   BLAKE    MANAGER  7839.0 1981-05-01  2850.0     NaN  30\n",
       "6   7782   CLARK    MANAGER  7839.0 1981-06-09  2450.0     NaN  10\n",
       "7   7788   SCOTT    ANALYST  7566.0 1982-12-09  3000.0     NaN  20\n",
       "8   7839    KING  PRESIDENT     NaN 1981-11-17  5000.0     NaN  10\n",
       "9   7844  TURNER   SALESMAN  7698.0 1981-09-08  1500.0     0.0  30\n",
       "10  7876   ADAMS      CLERK  7788.0 1983-01-12  1100.0     NaN  20\n",
       "11  7900   JAMES      CLERK  7698.0 1981-12-03   950.0     NaN  30\n",
       "12  7902    FORD    ANALYST  7566.0 1981-12-03  3000.0     NaN  20\n",
       "13  7934  MILLER      CLERK  7782.0 1982-01-23  1300.0     NaN  10"
      ]
     },
     "execution_count": 74,
     "metadata": {},
     "output_type": "execute_result"
    }
   ],
   "source": [
    "import pandas as pd\n",
    "cursor.execute(\"SELECT * FROM EMP\")\n",
    "data = cursor.fetchall() #튜플 리스트.\n",
    "data_df = pd.DataFrame(data) #데이터프레임 타입으로.\n",
    "data_df"
   ]
  },
  {
   "cell_type": "code",
   "execution_count": 76,
   "metadata": {
    "ExecuteTime": {
     "end_time": "2021-03-03T03:49:00.717604Z",
     "start_time": "2021-03-03T03:49:00.711393Z"
    }
   },
   "outputs": [
    {
     "data": {
      "text/plain": [
       "[('EMPNO', <cx_Oracle.DbType DB_TYPE_NUMBER>, 5, None, 4, 0, 0),\n",
       " ('ENAME', <cx_Oracle.DbType DB_TYPE_VARCHAR>, 10, 10, None, None, 1),\n",
       " ('JOB', <cx_Oracle.DbType DB_TYPE_VARCHAR>, 9, 9, None, None, 1),\n",
       " ('MGR', <cx_Oracle.DbType DB_TYPE_NUMBER>, 5, None, 4, 0, 1),\n",
       " ('HIREDATE', <cx_Oracle.DbType DB_TYPE_DATE>, 23, None, None, None, 1),\n",
       " ('SAL', <cx_Oracle.DbType DB_TYPE_NUMBER>, 11, None, 7, 2, 1),\n",
       " ('COMM', <cx_Oracle.DbType DB_TYPE_NUMBER>, 11, None, 7, 2, 1),\n",
       " ('DEPTNO', <cx_Oracle.DbType DB_TYPE_NUMBER>, 3, None, 2, 0, 1)]"
      ]
     },
     "execution_count": 76,
     "metadata": {},
     "output_type": "execute_result"
    }
   ],
   "source": [
    "# 각 필드 특징 정보들을 뿌린다.\n",
    "#(필드명, type, display_size, 내부크기, 정확도, scale, nullable, ...)\n",
    "cursor.description"
   ]
  },
  {
   "cell_type": "code",
   "execution_count": 77,
   "metadata": {
    "ExecuteTime": {
     "end_time": "2021-03-03T03:52:21.452930Z",
     "start_time": "2021-03-03T03:52:21.447967Z"
    }
   },
   "outputs": [
    {
     "data": {
      "text/plain": [
       "['EMPNO', 'ENAME', 'JOB', 'MGR', 'HIREDATE', 'SAL', 'COMM', 'DEPTNO']"
      ]
     },
     "execution_count": 77,
     "metadata": {},
     "output_type": "execute_result"
    }
   ],
   "source": [
    "[row[0] for row in cursor.description] #리스트컴플리헨션"
   ]
  },
  {
   "cell_type": "code",
   "execution_count": 79,
   "metadata": {
    "ExecuteTime": {
     "end_time": "2021-03-03T03:53:49.796145Z",
     "start_time": "2021-03-03T03:53:49.792156Z"
    }
   },
   "outputs": [],
   "source": [
    "data_df.columns = [row[0] for row in cursor.description]"
   ]
  },
  {
   "cell_type": "code",
   "execution_count": 80,
   "metadata": {
    "ExecuteTime": {
     "end_time": "2021-03-03T03:53:55.380535Z",
     "start_time": "2021-03-03T03:53:55.375549Z"
    }
   },
   "outputs": [
    {
     "data": {
      "text/plain": [
       "Index(['EMPNO', 'ENAME', 'JOB', 'MGR', 'HIREDATE', 'SAL', 'COMM', 'DEPTNO'], dtype='object')"
      ]
     },
     "execution_count": 80,
     "metadata": {},
     "output_type": "execute_result"
    }
   ],
   "source": [
    "data_df.columns"
   ]
  },
  {
   "cell_type": "code",
   "execution_count": 81,
   "metadata": {
    "ExecuteTime": {
     "end_time": "2021-03-03T03:54:13.609866Z",
     "start_time": "2021-03-03T03:54:13.591914Z"
    }
   },
   "outputs": [
    {
     "data": {
      "text/html": [
       "<div>\n",
       "<style scoped>\n",
       "    .dataframe tbody tr th:only-of-type {\n",
       "        vertical-align: middle;\n",
       "    }\n",
       "\n",
       "    .dataframe tbody tr th {\n",
       "        vertical-align: top;\n",
       "    }\n",
       "\n",
       "    .dataframe thead th {\n",
       "        text-align: right;\n",
       "    }\n",
       "</style>\n",
       "<table border=\"1\" class=\"dataframe\">\n",
       "  <thead>\n",
       "    <tr style=\"text-align: right;\">\n",
       "      <th></th>\n",
       "      <th>EMPNO</th>\n",
       "      <th>ENAME</th>\n",
       "      <th>JOB</th>\n",
       "      <th>MGR</th>\n",
       "      <th>HIREDATE</th>\n",
       "      <th>SAL</th>\n",
       "      <th>COMM</th>\n",
       "      <th>DEPTNO</th>\n",
       "    </tr>\n",
       "  </thead>\n",
       "  <tbody>\n",
       "    <tr>\n",
       "      <th>0</th>\n",
       "      <td>7369</td>\n",
       "      <td>SMITH</td>\n",
       "      <td>CLERK</td>\n",
       "      <td>7902.0</td>\n",
       "      <td>1980-12-17</td>\n",
       "      <td>800.0</td>\n",
       "      <td>NaN</td>\n",
       "      <td>20</td>\n",
       "    </tr>\n",
       "    <tr>\n",
       "      <th>1</th>\n",
       "      <td>7499</td>\n",
       "      <td>ALLEN</td>\n",
       "      <td>SALESMAN</td>\n",
       "      <td>7698.0</td>\n",
       "      <td>1981-02-20</td>\n",
       "      <td>1600.0</td>\n",
       "      <td>300.0</td>\n",
       "      <td>30</td>\n",
       "    </tr>\n",
       "    <tr>\n",
       "      <th>2</th>\n",
       "      <td>7521</td>\n",
       "      <td>WARD</td>\n",
       "      <td>SALESMAN</td>\n",
       "      <td>7698.0</td>\n",
       "      <td>1981-02-22</td>\n",
       "      <td>1250.0</td>\n",
       "      <td>500.0</td>\n",
       "      <td>30</td>\n",
       "    </tr>\n",
       "    <tr>\n",
       "      <th>3</th>\n",
       "      <td>7566</td>\n",
       "      <td>JONES</td>\n",
       "      <td>MANAGER</td>\n",
       "      <td>7839.0</td>\n",
       "      <td>1981-04-02</td>\n",
       "      <td>2975.0</td>\n",
       "      <td>NaN</td>\n",
       "      <td>20</td>\n",
       "    </tr>\n",
       "    <tr>\n",
       "      <th>4</th>\n",
       "      <td>7654</td>\n",
       "      <td>MARTIN</td>\n",
       "      <td>SALESMAN</td>\n",
       "      <td>7698.0</td>\n",
       "      <td>1981-09-28</td>\n",
       "      <td>1250.0</td>\n",
       "      <td>1400.0</td>\n",
       "      <td>30</td>\n",
       "    </tr>\n",
       "  </tbody>\n",
       "</table>\n",
       "</div>"
      ],
      "text/plain": [
       "   EMPNO   ENAME       JOB     MGR   HIREDATE     SAL    COMM  DEPTNO\n",
       "0   7369   SMITH     CLERK  7902.0 1980-12-17   800.0     NaN      20\n",
       "1   7499   ALLEN  SALESMAN  7698.0 1981-02-20  1600.0   300.0      30\n",
       "2   7521    WARD  SALESMAN  7698.0 1981-02-22  1250.0   500.0      30\n",
       "3   7566   JONES   MANAGER  7839.0 1981-04-02  2975.0     NaN      20\n",
       "4   7654  MARTIN  SALESMAN  7698.0 1981-09-28  1250.0  1400.0      30"
      ]
     },
     "execution_count": 81,
     "metadata": {},
     "output_type": "execute_result"
    }
   ],
   "source": [
    "data_df.head() #파이썬에서는 5개만 뿌려진다. (n)숫자대로 출력."
   ]
  },
  {
   "cell_type": "code",
   "execution_count": 82,
   "metadata": {
    "ExecuteTime": {
     "end_time": "2021-03-03T03:54:34.616657Z",
     "start_time": "2021-03-03T03:54:34.599376Z"
    }
   },
   "outputs": [
    {
     "data": {
      "text/html": [
       "<div>\n",
       "<style scoped>\n",
       "    .dataframe tbody tr th:only-of-type {\n",
       "        vertical-align: middle;\n",
       "    }\n",
       "\n",
       "    .dataframe tbody tr th {\n",
       "        vertical-align: top;\n",
       "    }\n",
       "\n",
       "    .dataframe thead th {\n",
       "        text-align: right;\n",
       "    }\n",
       "</style>\n",
       "<table border=\"1\" class=\"dataframe\">\n",
       "  <thead>\n",
       "    <tr style=\"text-align: right;\">\n",
       "      <th></th>\n",
       "      <th>EMPNO</th>\n",
       "      <th>ENAME</th>\n",
       "      <th>JOB</th>\n",
       "      <th>MGR</th>\n",
       "      <th>HIREDATE</th>\n",
       "      <th>SAL</th>\n",
       "      <th>COMM</th>\n",
       "      <th>DEPTNO</th>\n",
       "    </tr>\n",
       "  </thead>\n",
       "  <tbody>\n",
       "    <tr>\n",
       "      <th>9</th>\n",
       "      <td>7844</td>\n",
       "      <td>TURNER</td>\n",
       "      <td>SALESMAN</td>\n",
       "      <td>7698.0</td>\n",
       "      <td>1981-09-08</td>\n",
       "      <td>1500.0</td>\n",
       "      <td>0.0</td>\n",
       "      <td>30</td>\n",
       "    </tr>\n",
       "    <tr>\n",
       "      <th>10</th>\n",
       "      <td>7876</td>\n",
       "      <td>ADAMS</td>\n",
       "      <td>CLERK</td>\n",
       "      <td>7788.0</td>\n",
       "      <td>1983-01-12</td>\n",
       "      <td>1100.0</td>\n",
       "      <td>NaN</td>\n",
       "      <td>20</td>\n",
       "    </tr>\n",
       "    <tr>\n",
       "      <th>11</th>\n",
       "      <td>7900</td>\n",
       "      <td>JAMES</td>\n",
       "      <td>CLERK</td>\n",
       "      <td>7698.0</td>\n",
       "      <td>1981-12-03</td>\n",
       "      <td>950.0</td>\n",
       "      <td>NaN</td>\n",
       "      <td>30</td>\n",
       "    </tr>\n",
       "    <tr>\n",
       "      <th>12</th>\n",
       "      <td>7902</td>\n",
       "      <td>FORD</td>\n",
       "      <td>ANALYST</td>\n",
       "      <td>7566.0</td>\n",
       "      <td>1981-12-03</td>\n",
       "      <td>3000.0</td>\n",
       "      <td>NaN</td>\n",
       "      <td>20</td>\n",
       "    </tr>\n",
       "    <tr>\n",
       "      <th>13</th>\n",
       "      <td>7934</td>\n",
       "      <td>MILLER</td>\n",
       "      <td>CLERK</td>\n",
       "      <td>7782.0</td>\n",
       "      <td>1982-01-23</td>\n",
       "      <td>1300.0</td>\n",
       "      <td>NaN</td>\n",
       "      <td>10</td>\n",
       "    </tr>\n",
       "  </tbody>\n",
       "</table>\n",
       "</div>"
      ],
      "text/plain": [
       "    EMPNO   ENAME       JOB     MGR   HIREDATE     SAL  COMM  DEPTNO\n",
       "9    7844  TURNER  SALESMAN  7698.0 1981-09-08  1500.0   0.0      30\n",
       "10   7876   ADAMS     CLERK  7788.0 1983-01-12  1100.0   NaN      20\n",
       "11   7900   JAMES     CLERK  7698.0 1981-12-03   950.0   NaN      30\n",
       "12   7902    FORD   ANALYST  7566.0 1981-12-03  3000.0   NaN      20\n",
       "13   7934  MILLER     CLERK  7782.0 1982-01-23  1300.0   NaN      10"
      ]
     },
     "execution_count": 82,
     "metadata": {},
     "output_type": "execute_result"
    }
   ],
   "source": [
    "data_df.tail() # 파이썬에서는 5개만 뿌려진다.(n)숫자대로 출력."
   ]
  },
  {
   "cell_type": "code",
   "execution_count": 83,
   "metadata": {
    "ExecuteTime": {
     "end_time": "2021-03-03T03:55:41.916669Z",
     "start_time": "2021-03-03T03:55:41.911683Z"
    }
   },
   "outputs": [],
   "source": [
    "cursor.close()\n",
    "conn.close()"
   ]
  },
  {
   "cell_type": "markdown",
   "metadata": {},
   "source": [
    "# 3절. MariaDB 데이터베이스 연결\n",
    "- +)mysql 연동하는법도 같다."
   ]
  },
  {
   "cell_type": "code",
   "execution_count": 85,
   "metadata": {
    "ExecuteTime": {
     "end_time": "2021-03-03T04:05:57.008983Z",
     "start_time": "2021-03-03T04:05:56.552916Z"
    }
   },
   "outputs": [],
   "source": [
    "import pymysql"
   ]
  },
  {
   "cell_type": "code",
   "execution_count": 86,
   "metadata": {
    "ExecuteTime": {
     "end_time": "2021-03-03T04:11:33.931223Z",
     "start_time": "2021-03-03T04:11:33.920281Z"
    }
   },
   "outputs": [
    {
     "data": {
      "text/plain": [
       "<pymysql.connections.Connection at 0x28a92d012e0>"
      ]
     },
     "execution_count": 86,
     "metadata": {},
     "output_type": "execute_result"
    }
   ],
   "source": [
    "conn = pymysql.connect(host=\"localhost\",\n",
    "                       port=3306, db=\"kimdb\", user=\"root\", passwd=\"mysql\",\n",
    "                       charset=\"utf8\", autocommit=True)\n",
    "conn"
   ]
  },
  {
   "cell_type": "code",
   "execution_count": 89,
   "metadata": {
    "ExecuteTime": {
     "end_time": "2021-03-03T04:15:29.124838Z",
     "start_time": "2021-03-03T04:15:29.119871Z"
    }
   },
   "outputs": [
    {
     "name": "stdout",
     "output_type": "stream",
     "text": [
      "(1001, 'bill', 'president', None, datetime.date(1989, 1, 10), 7000, None, 10)\n",
      "(1111, 'smith', 'manager', 1001, datetime.date(1990, 12, 17), 1000, None, 10)\n",
      "(1112, 'ally', 'salesman', 1116, datetime.date(1991, 2, 20), 1600, 500, 30)\n",
      "(1113, 'word', 'salesman', 1116, datetime.date(1992, 2, 24), 1450, 300, 30)\n",
      "(1114, 'james', 'manager', 1001, datetime.date(1990, 4, 12), 3975, None, 20)\n",
      "(1116, 'johnson', 'manager', 1001, datetime.date(1991, 5, 1), 3550, None, 30)\n",
      "(1118, 'martin', 'analyst', 1111, datetime.date(1991, 9, 9), 3450, None, 10)\n",
      "(1121, 'kim', 'clerk', 1114, datetime.date(1990, 12, 8), 4000, None, 20)\n",
      "(1123, 'lee', 'salesman', 1116, datetime.date(1991, 9, 23), 1200, 0, 30)\n",
      "(1226, 'park', 'analyst', 1111, datetime.date(1990, 1, 3), 2500, None, 10)\n"
     ]
    }
   ],
   "source": [
    "cursor = conn.cursor()\n",
    "sql = \"select * from personal\"\n",
    "cursor.execute(sql)\n",
    "result = cursor.fetchall()\n",
    "for r in result:\n",
    "    print(r)"
   ]
  },
  {
   "cell_type": "code",
   "execution_count": 95,
   "metadata": {
    "ExecuteTime": {
     "end_time": "2021-03-03T04:22:03.863941Z",
     "start_time": "2021-03-03T04:22:03.848130Z"
    }
   },
   "outputs": [
    {
     "data": {
      "text/plain": [
       "RangeIndex(start=0, stop=8, step=1)"
      ]
     },
     "execution_count": 95,
     "metadata": {},
     "output_type": "execute_result"
    }
   ],
   "source": [
    "personal.columns"
   ]
  },
  {
   "cell_type": "code",
   "execution_count": 96,
   "metadata": {
    "ExecuteTime": {
     "end_time": "2021-03-03T04:22:10.611933Z",
     "start_time": "2021-03-03T04:22:10.591987Z"
    }
   },
   "outputs": [
    {
     "data": {
      "text/html": [
       "<div>\n",
       "<style scoped>\n",
       "    .dataframe tbody tr th:only-of-type {\n",
       "        vertical-align: middle;\n",
       "    }\n",
       "\n",
       "    .dataframe tbody tr th {\n",
       "        vertical-align: top;\n",
       "    }\n",
       "\n",
       "    .dataframe thead th {\n",
       "        text-align: right;\n",
       "    }\n",
       "</style>\n",
       "<table border=\"1\" class=\"dataframe\">\n",
       "  <thead>\n",
       "    <tr style=\"text-align: right;\">\n",
       "      <th></th>\n",
       "      <th>pno</th>\n",
       "      <th>pname</th>\n",
       "      <th>job</th>\n",
       "      <th>manager</th>\n",
       "      <th>startdate</th>\n",
       "      <th>pay</th>\n",
       "      <th>bonus</th>\n",
       "      <th>dno</th>\n",
       "    </tr>\n",
       "  </thead>\n",
       "  <tbody>\n",
       "    <tr>\n",
       "      <th>0</th>\n",
       "      <td>1001</td>\n",
       "      <td>bill</td>\n",
       "      <td>president</td>\n",
       "      <td>NaN</td>\n",
       "      <td>1989-01-10</td>\n",
       "      <td>7000</td>\n",
       "      <td>NaN</td>\n",
       "      <td>10</td>\n",
       "    </tr>\n",
       "    <tr>\n",
       "      <th>1</th>\n",
       "      <td>1111</td>\n",
       "      <td>smith</td>\n",
       "      <td>manager</td>\n",
       "      <td>1001.0</td>\n",
       "      <td>1990-12-17</td>\n",
       "      <td>1000</td>\n",
       "      <td>NaN</td>\n",
       "      <td>10</td>\n",
       "    </tr>\n",
       "    <tr>\n",
       "      <th>2</th>\n",
       "      <td>1112</td>\n",
       "      <td>ally</td>\n",
       "      <td>salesman</td>\n",
       "      <td>1116.0</td>\n",
       "      <td>1991-02-20</td>\n",
       "      <td>1600</td>\n",
       "      <td>500.0</td>\n",
       "      <td>30</td>\n",
       "    </tr>\n",
       "    <tr>\n",
       "      <th>3</th>\n",
       "      <td>1113</td>\n",
       "      <td>word</td>\n",
       "      <td>salesman</td>\n",
       "      <td>1116.0</td>\n",
       "      <td>1992-02-24</td>\n",
       "      <td>1450</td>\n",
       "      <td>300.0</td>\n",
       "      <td>30</td>\n",
       "    </tr>\n",
       "    <tr>\n",
       "      <th>4</th>\n",
       "      <td>1114</td>\n",
       "      <td>james</td>\n",
       "      <td>manager</td>\n",
       "      <td>1001.0</td>\n",
       "      <td>1990-04-12</td>\n",
       "      <td>3975</td>\n",
       "      <td>NaN</td>\n",
       "      <td>20</td>\n",
       "    </tr>\n",
       "    <tr>\n",
       "      <th>5</th>\n",
       "      <td>1116</td>\n",
       "      <td>johnson</td>\n",
       "      <td>manager</td>\n",
       "      <td>1001.0</td>\n",
       "      <td>1991-05-01</td>\n",
       "      <td>3550</td>\n",
       "      <td>NaN</td>\n",
       "      <td>30</td>\n",
       "    </tr>\n",
       "    <tr>\n",
       "      <th>6</th>\n",
       "      <td>1118</td>\n",
       "      <td>martin</td>\n",
       "      <td>analyst</td>\n",
       "      <td>1111.0</td>\n",
       "      <td>1991-09-09</td>\n",
       "      <td>3450</td>\n",
       "      <td>NaN</td>\n",
       "      <td>10</td>\n",
       "    </tr>\n",
       "    <tr>\n",
       "      <th>7</th>\n",
       "      <td>1121</td>\n",
       "      <td>kim</td>\n",
       "      <td>clerk</td>\n",
       "      <td>1114.0</td>\n",
       "      <td>1990-12-08</td>\n",
       "      <td>4000</td>\n",
       "      <td>NaN</td>\n",
       "      <td>20</td>\n",
       "    </tr>\n",
       "    <tr>\n",
       "      <th>8</th>\n",
       "      <td>1123</td>\n",
       "      <td>lee</td>\n",
       "      <td>salesman</td>\n",
       "      <td>1116.0</td>\n",
       "      <td>1991-09-23</td>\n",
       "      <td>1200</td>\n",
       "      <td>0.0</td>\n",
       "      <td>30</td>\n",
       "    </tr>\n",
       "    <tr>\n",
       "      <th>9</th>\n",
       "      <td>1226</td>\n",
       "      <td>park</td>\n",
       "      <td>analyst</td>\n",
       "      <td>1111.0</td>\n",
       "      <td>1990-01-03</td>\n",
       "      <td>2500</td>\n",
       "      <td>NaN</td>\n",
       "      <td>10</td>\n",
       "    </tr>\n",
       "  </tbody>\n",
       "</table>\n",
       "</div>"
      ],
      "text/plain": [
       "    pno    pname        job  manager   startdate   pay  bonus  dno\n",
       "0  1001     bill  president      NaN  1989-01-10  7000    NaN   10\n",
       "1  1111    smith    manager   1001.0  1990-12-17  1000    NaN   10\n",
       "2  1112     ally   salesman   1116.0  1991-02-20  1600  500.0   30\n",
       "3  1113     word   salesman   1116.0  1992-02-24  1450  300.0   30\n",
       "4  1114    james    manager   1001.0  1990-04-12  3975    NaN   20\n",
       "5  1116  johnson    manager   1001.0  1991-05-01  3550    NaN   30\n",
       "6  1118   martin    analyst   1111.0  1991-09-09  3450    NaN   10\n",
       "7  1121      kim      clerk   1114.0  1990-12-08  4000    NaN   20\n",
       "8  1123      lee   salesman   1116.0  1991-09-23  1200    0.0   30\n",
       "9  1226     park    analyst   1111.0  1990-01-03  2500    NaN   10"
      ]
     },
     "execution_count": 96,
     "metadata": {},
     "output_type": "execute_result"
    }
   ],
   "source": [
    "import pandas as pd\n",
    "personal = pd.DataFrame(result)\n",
    "personal.columns = [row[0] for row in cursor.description]\n",
    "personal"
   ]
  },
  {
   "cell_type": "code",
   "execution_count": null,
   "metadata": {},
   "outputs": [],
   "source": [
    "cursor.close()\n",
    "conn.close()"
   ]
  },
  {
   "cell_type": "markdown",
   "metadata": {},
   "source": [
    "# 4절. 회원 입력/출력/삭제/검색 애플리케이션\n",
    "- SQLite이용, Oracle이용 "
   ]
  },
  {
   "cell_type": "code",
   "execution_count": null,
   "metadata": {},
   "outputs": [],
   "source": []
  },
  {
   "cell_type": "code",
   "execution_count": null,
   "metadata": {},
   "outputs": [],
   "source": []
  },
  {
   "cell_type": "code",
   "execution_count": null,
   "metadata": {},
   "outputs": [],
   "source": []
  },
  {
   "cell_type": "code",
   "execution_count": null,
   "metadata": {},
   "outputs": [],
   "source": []
  },
  {
   "cell_type": "code",
   "execution_count": null,
   "metadata": {},
   "outputs": [],
   "source": []
  },
  {
   "cell_type": "code",
   "execution_count": null,
   "metadata": {},
   "outputs": [],
   "source": []
  },
  {
   "cell_type": "code",
   "execution_count": null,
   "metadata": {},
   "outputs": [],
   "source": []
  },
  {
   "cell_type": "code",
   "execution_count": null,
   "metadata": {},
   "outputs": [],
   "source": []
  },
  {
   "cell_type": "code",
   "execution_count": null,
   "metadata": {},
   "outputs": [],
   "source": []
  },
  {
   "cell_type": "code",
   "execution_count": null,
   "metadata": {},
   "outputs": [],
   "source": []
  },
  {
   "cell_type": "code",
   "execution_count": null,
   "metadata": {},
   "outputs": [],
   "source": []
  },
  {
   "cell_type": "code",
   "execution_count": null,
   "metadata": {},
   "outputs": [],
   "source": []
  },
  {
   "cell_type": "code",
   "execution_count": null,
   "metadata": {},
   "outputs": [],
   "source": []
  },
  {
   "cell_type": "code",
   "execution_count": null,
   "metadata": {},
   "outputs": [],
   "source": []
  },
  {
   "cell_type": "code",
   "execution_count": null,
   "metadata": {},
   "outputs": [],
   "source": []
  },
  {
   "cell_type": "code",
   "execution_count": null,
   "metadata": {},
   "outputs": [],
   "source": []
  },
  {
   "cell_type": "code",
   "execution_count": null,
   "metadata": {},
   "outputs": [],
   "source": []
  },
  {
   "cell_type": "code",
   "execution_count": null,
   "metadata": {},
   "outputs": [],
   "source": []
  },
  {
   "cell_type": "code",
   "execution_count": null,
   "metadata": {},
   "outputs": [],
   "source": []
  },
  {
   "cell_type": "code",
   "execution_count": null,
   "metadata": {},
   "outputs": [],
   "source": []
  },
  {
   "cell_type": "code",
   "execution_count": null,
   "metadata": {},
   "outputs": [],
   "source": []
  },
  {
   "cell_type": "code",
   "execution_count": null,
   "metadata": {},
   "outputs": [],
   "source": []
  },
  {
   "cell_type": "code",
   "execution_count": null,
   "metadata": {},
   "outputs": [],
   "source": []
  },
  {
   "cell_type": "code",
   "execution_count": null,
   "metadata": {},
   "outputs": [],
   "source": []
  },
  {
   "cell_type": "code",
   "execution_count": null,
   "metadata": {},
   "outputs": [],
   "source": []
  },
  {
   "cell_type": "code",
   "execution_count": null,
   "metadata": {},
   "outputs": [],
   "source": []
  }
 ],
 "metadata": {
  "kernelspec": {
   "display_name": "Python 3",
   "language": "python",
   "name": "python3"
  },
  "language_info": {
   "codemirror_mode": {
    "name": "ipython",
    "version": 3
   },
   "file_extension": ".py",
   "mimetype": "text/x-python",
   "name": "python",
   "nbconvert_exporter": "python",
   "pygments_lexer": "ipython3",
   "version": "3.8.5"
  },
  "toc": {
   "base_numbering": 1,
   "nav_menu": {},
   "number_sections": false,
   "sideBar": false,
   "skip_h1_title": false,
   "title_cell": "Table of Contents",
   "title_sidebar": "Contents",
   "toc_cell": false,
   "toc_position": {
    "height": "498px",
    "left": "1592.39px",
    "top": "271px",
    "width": "259.594px"
   },
   "toc_section_display": true,
   "toc_window_display": true
  },
  "varInspector": {
   "cols": {
    "lenName": 16,
    "lenType": 16,
    "lenVar": 40
   },
   "kernels_config": {
    "python": {
     "delete_cmd_postfix": "",
     "delete_cmd_prefix": "del ",
     "library": "var_list.py",
     "varRefreshCmd": "print(var_dic_list())"
    },
    "r": {
     "delete_cmd_postfix": ") ",
     "delete_cmd_prefix": "rm(",
     "library": "var_list.r",
     "varRefreshCmd": "cat(var_dic_list()) "
    }
   },
   "types_to_exclude": [
    "module",
    "function",
    "builtin_function_or_method",
    "instance",
    "_Feature"
   ],
   "window_display": false
  }
 },
 "nbformat": 4,
 "nbformat_minor": 4
}
