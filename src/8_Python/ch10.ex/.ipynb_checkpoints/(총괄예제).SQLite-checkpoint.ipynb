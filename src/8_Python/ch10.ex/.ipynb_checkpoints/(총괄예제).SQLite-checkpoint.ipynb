{
 "cells": [
  {
   "cell_type": "code",
   "execution_count": 1,
   "metadata": {
    "ExecuteTime": {
     "end_time": "2021-03-03T05:38:33.116897Z",
     "start_time": "2021-03-03T05:38:33.112907Z"
    }
   },
   "outputs": [],
   "source": [
    "# SQLite 버젼의 회원관리 프로그램"
   ]
  },
  {
   "cell_type": "code",
   "execution_count": 1,
   "metadata": {
    "ExecuteTime": {
     "end_time": "2021-03-05T13:36:20.103207Z",
     "start_time": "2021-03-05T13:36:20.086251Z"
    }
   },
   "outputs": [],
   "source": [
    "# 1. 입력\n",
    "def insert_member_info():\n",
    "    name = input(\"이름 : \")\n",
    "    phone = input(\"전화번호 : \")\n",
    "    email = input(\"이메일 : \")\n",
    "    try:\n",
    "        age = int(input(\"나이 : \"))\n",
    "    except ValueError as e:\n",
    "        print(\"유효하지 않는 나이 입력시 나이는 0으로 초기화.\")\n",
    "        age = 0\n",
    "    try:\n",
    "        grade = int(input(\"고객 등급(1~5) : \"))\n",
    "        if grade < 1:\n",
    "            grade = 1\n",
    "        if grade > 5 :\n",
    "            grade = 5\n",
    "    except ValueError as e:\n",
    "        print(\"유효하지 않는 등급을 입력시 등급은 1로 초기화.\")\n",
    "        grade = 1\n",
    "    etc = input(\"기타 정보 : \")\n",
    "    cursor = conn.cursor()\n",
    "    sql=\"INSERT INTO MEMBER VALUES (:name,:phone,:email,:age,:grade,:etc)\"\n",
    "    cursor.execute(sql, {'name':name,'phone':phone,'email':email,'age':age,'grade':grade,'etc':etc})\n",
    "    conn.commit()\n",
    "    print(\"입력에 성공 했습니다.\")\n"
   ]
  },
  {
   "cell_type": "code",
   "execution_count": 32,
   "metadata": {
    "ExecuteTime": {
     "end_time": "2021-03-04T00:51:56.690333Z",
     "start_time": "2021-03-04T00:51:44.561470Z"
    },
    "scrolled": true
   },
   "outputs": [
    {
     "name": "stdout",
     "output_type": "stream",
     "text": [
      "이름 : 길\n",
      "전화번호 : 02\n",
      "이메일 : kil\n",
      "나이 : 24\n",
      "고객 등급(1~5) : 2\n",
      "기타 정보 : 3\n",
      "입력에 성공 했습니다.\n"
     ]
    }
   ],
   "source": [
    "insert_member_info()"
   ]
  },
  {
   "cell_type": "code",
   "execution_count": 2,
   "metadata": {
    "ExecuteTime": {
     "end_time": "2021-03-05T13:36:23.001723Z",
     "start_time": "2021-03-05T13:36:22.983774Z"
    }
   },
   "outputs": [],
   "source": [
    "# 2. 전체 출력\n",
    "def print_members():\n",
    "    sql = \"SELECT * FROM MEMBER\"\n",
    "    cursor = conn.cursor()\n",
    "    cursor.execute(sql)\n",
    "    members = cursor.fetchall()\n",
    "    for member in members:\n",
    "        print(member)"
   ]
  },
  {
   "cell_type": "code",
   "execution_count": 109,
   "metadata": {
    "ExecuteTime": {
     "end_time": "2021-03-04T02:47:23.066824Z",
     "start_time": "2021-03-04T02:47:23.062835Z"
    }
   },
   "outputs": [
    {
     "name": "stdout",
     "output_type": "stream",
     "text": [
      "('홍길동', '010-9999-9999', 'hong@com', 24, 2, '0')\n",
      "('마길동', '010-2323-2323', 'ma@com', 25, 3, '0')\n",
      "('백구', '010-1009-1009', '109@com', 25, 3, '0')\n"
     ]
    }
   ],
   "source": [
    "print_members()"
   ]
  },
  {
   "cell_type": "code",
   "execution_count": 3,
   "metadata": {
    "ExecuteTime": {
     "end_time": "2021-03-05T13:36:24.643739Z",
     "start_time": "2021-03-05T13:36:24.627785Z"
    }
   },
   "outputs": [],
   "source": [
    "# 3. 삭제\n",
    "def delete_members():\n",
    "    cursor = conn.cursor()\n",
    "    email = input(\"삭제할 이메일은?\")\n",
    "    sql2 = 'SELECT * FROM MEMBER WHERE EMAIL=:email'\n",
    "    cursor.execute(sql2 , {'email':email})\n",
    "    members = cursor.fetchall()\n",
    "    if len(members) != 0: # .\n",
    "        sql = \"DELETE FROM MEMBER WHERE EMAIL =:email \"\n",
    "        cursor.execute(sql, {'email':email})\n",
    "        conn.commit()\n",
    "        print('해당 데이터를 삭제 했습니다.')\n",
    "    else:\n",
    "        print('해당 이메일이 데이터에 없습니다.')\n",
    "    cursor.close()"
   ]
  },
  {
   "cell_type": "code",
   "execution_count": 110,
   "metadata": {
    "ExecuteTime": {
     "end_time": "2021-03-04T02:47:33.488101Z",
     "start_time": "2021-03-04T02:47:27.126989Z"
    }
   },
   "outputs": [
    {
     "name": "stdout",
     "output_type": "stream",
     "text": [
      "삭제할 이메일은?109@com\n",
      "해당 이메일은 없습니다.\n"
     ]
    }
   ],
   "source": [
    "delete_members()"
   ]
  },
  {
   "cell_type": "code",
   "execution_count": 4,
   "metadata": {
    "ExecuteTime": {
     "end_time": "2021-03-05T13:36:25.527675Z",
     "start_time": "2021-03-05T13:36:25.521695Z"
    }
   },
   "outputs": [],
   "source": [
    "# 이름 찾기.(동명이인도 모두 검색)\n",
    "def search_name():\n",
    "    name = input('검색할 이름은? ')\n",
    "    sql = \"SELECT NAME FROM MEMBER WHERE NAME =:name\"\n",
    "    cursor = conn.cursor()\n",
    "    cursor.execute(sql, {'name':name})\n",
    "    members = cursor.fetchall()\n",
    "    if len(members) == 0: # 없는 이름을 없다고 출력.\n",
    "        print('해당 이름의 데이터가 없습니다.')\n",
    "    else:\n",
    "        sql2 = \"SELECT * FROM MEMBER WHERE NAME =:name\"\n",
    "        cursor.execute(sql2, {'name':name})\n",
    "        members = cursor.fetchall()\n",
    "        print('해당 데이터 목록 : ',members)\n",
    "        "
   ]
  },
  {
   "cell_type": "code",
   "execution_count": 22,
   "metadata": {
    "ExecuteTime": {
     "end_time": "2021-03-04T12:02:21.951838Z",
     "start_time": "2021-03-04T12:02:20.029918Z"
    }
   },
   "outputs": [
    {
     "name": "stdout",
     "output_type": "stream",
     "text": [
      "검색할 이름은? 마길동\n",
      "해당 데이터 목록 :  [('마길동', '010-2323-2323', 'ma@com', 25, 3, '0')]\n"
     ]
    }
   ],
   "source": [
    "search_name()"
   ]
  },
  {
   "cell_type": "code",
   "execution_count": 5,
   "metadata": {
    "ExecuteTime": {
     "end_time": "2021-03-05T13:36:26.387244Z",
     "start_time": "2021-03-05T13:36:26.377263Z"
    }
   },
   "outputs": [],
   "source": [
    "# 5. 내보내기(csv)\n",
    "def save_members_csv():\n",
    "    import csv\n",
    "    sql1 = \"SELECT * FROM MEMBER\"\n",
    "    cursor = conn.cursor()\n",
    "    cursor.execute(sql1)\n",
    "    members = cursor.fetchall()\n",
    "    colnames = [ row[0] for row in cursor.description ] #헤더문자열을 대문자로.\n",
    "#    colnames = [ row[0].lower() for row in cursor.description ] 헤더문자열을 소문자로.    \n",
    "    cursor.close()\n",
    "    filename = input(\"저장할 파일 이름은 ?(.csv 포함해서 입력해주세요.) \")\n",
    "    try:\n",
    "        with open(filename, 'w', newline='') as f:\n",
    "            writer = csv.writer(f)\n",
    "            writer.writerow(colnames)\n",
    "            writer.writerows(members)\n",
    "    except Exception as e:\n",
    "         print('데이터 내보내기 예외 :', e)\n"
   ]
  },
  {
   "cell_type": "code",
   "execution_count": 1,
   "metadata": {
    "ExecuteTime": {
     "end_time": "2021-03-05T12:47:41.110308Z",
     "start_time": "2021-03-05T12:47:40.929002Z"
    }
   },
   "outputs": [
    {
     "ename": "NameError",
     "evalue": "name 'save_members_csv' is not defined",
     "output_type": "error",
     "traceback": [
      "\u001b[1;31m---------------------------------------------------------------------------\u001b[0m",
      "\u001b[1;31mNameError\u001b[0m                                 Traceback (most recent call last)",
      "\u001b[1;32m<ipython-input-1-d676e7eba26e>\u001b[0m in \u001b[0;36m<module>\u001b[1;34m\u001b[0m\n\u001b[1;32m----> 1\u001b[1;33m \u001b[0msave_members_csv\u001b[0m\u001b[1;33m(\u001b[0m\u001b[1;33m)\u001b[0m\u001b[1;33m\u001b[0m\u001b[1;33m\u001b[0m\u001b[0m\n\u001b[0m",
      "\u001b[1;31mNameError\u001b[0m: name 'save_members_csv' is not defined"
     ]
    }
   ],
   "source": [
    "save_members_csv()"
   ]
  },
  {
   "cell_type": "code",
   "execution_count": 6,
   "metadata": {
    "ExecuteTime": {
     "end_time": "2021-03-05T13:36:27.887509Z",
     "start_time": "2021-03-05T13:36:27.871805Z"
    }
   },
   "outputs": [],
   "source": [
    "def exit_1():\n",
    "    print(\"프로그램을 종료 합니다.\")\n",
    "    cursor = conn.cursor()\n",
    "    cursor.close()\n",
    "    conn.close()"
   ]
  },
  {
   "cell_type": "code",
   "execution_count": 7,
   "metadata": {
    "ExecuteTime": {
     "end_time": "2021-03-05T13:36:29.837115Z",
     "start_time": "2021-03-05T13:36:29.830132Z"
    }
   },
   "outputs": [],
   "source": [
    "def main():\n",
    "    import sqlite3\n",
    "    global conn\n",
    "    conn = sqlite3.connect('data.db')\n",
    "    while True:\n",
    "        print(\"1: 입력\",\"2:전체출력\",\"3:삭제\",\"4:이름찾기\",\"5:내보내기\",\"9:종료\",\n",
    "              sep=\"|\",end='')\n",
    "        menu = int(input(\"메뉴선택 : \"))\n",
    "        if menu == 1:\n",
    "            member = insert_member_info()\n",
    "        elif menu == 2:\n",
    "            print_members()\n",
    "        elif menu == 3:\n",
    "            delete_members()\n",
    "        elif menu == 4:\n",
    "            search_name()\n",
    "        elif menu == 5:\n",
    "            save_members_csv()\n",
    "        elif menu == 9:\n",
    "            exit_1()\n",
    "            break;"
   ]
  },
  {
   "cell_type": "code",
   "execution_count": 8,
   "metadata": {
    "ExecuteTime": {
     "end_time": "2021-03-05T13:36:42.806748Z",
     "start_time": "2021-03-05T13:36:30.780402Z"
    }
   },
   "outputs": [
    {
     "name": "stdout",
     "output_type": "stream",
     "text": [
      "1: 입력|2:전체출력|3:삭제|4:이름찾기|5:내보내기|9:종료메뉴선택 : 2\n",
      "('홍길동', '010-9999-9999', 'hong@com', 24, 2, '0')\n",
      "('마길동', '010-2323-2323', 'ma@com', 25, 3, '0')\n",
      "('신길동', '010-2424-2424', 'shin@com', 25, 3, '0')\n",
      "1: 입력|2:전체출력|3:삭제|4:이름찾기|5:내보내기|9:종료메뉴선택 : 5\n",
      "저장할 파일 이름은 ?(.csv 포함해서 입력해주세요.) sqlite.csv\n",
      "1: 입력|2:전체출력|3:삭제|4:이름찾기|5:내보내기|9:종료메뉴선택 : 9\n",
      "프로그램을 종료 합니다.\n"
     ]
    }
   ],
   "source": [
    "if __name__ == '__main__':\n",
    "    main()"
   ]
  },
  {
   "cell_type": "code",
   "execution_count": 3,
   "metadata": {
    "ExecuteTime": {
     "end_time": "2021-03-03T06:24:26.160775Z",
     "start_time": "2021-03-03T06:24:26.156785Z"
    }
   },
   "outputs": [],
   "source": []
  },
  {
   "cell_type": "code",
   "execution_count": null,
   "metadata": {},
   "outputs": [],
   "source": []
  },
  {
   "cell_type": "code",
   "execution_count": null,
   "metadata": {},
   "outputs": [],
   "source": []
  }
 ],
 "metadata": {
  "kernelspec": {
   "display_name": "Python 3",
   "language": "python",
   "name": "python3"
  },
  "language_info": {
   "codemirror_mode": {
    "name": "ipython",
    "version": 3
   },
   "file_extension": ".py",
   "mimetype": "text/x-python",
   "name": "python",
   "nbconvert_exporter": "python",
   "pygments_lexer": "ipython3",
   "version": "3.8.5"
  },
  "toc": {
   "base_numbering": 1,
   "nav_menu": {},
   "number_sections": true,
   "sideBar": false,
   "skip_h1_title": false,
   "title_cell": "Table of Contents",
   "title_sidebar": "Contents",
   "toc_cell": false,
   "toc_position": {
    "height": "320px",
    "left": "1458.38px",
    "top": "86px",
    "width": "181.594px"
   },
   "toc_section_display": true,
   "toc_window_display": true
  },
  "varInspector": {
   "cols": {
    "lenName": 16,
    "lenType": 16,
    "lenVar": 40
   },
   "kernels_config": {
    "python": {
     "delete_cmd_postfix": "",
     "delete_cmd_prefix": "del ",
     "library": "var_list.py",
     "varRefreshCmd": "print(var_dic_list())"
    },
    "r": {
     "delete_cmd_postfix": ") ",
     "delete_cmd_prefix": "rm(",
     "library": "var_list.r",
     "varRefreshCmd": "cat(var_dic_list()) "
    }
   },
   "position": {
    "height": "104px",
    "left": "1381px",
    "right": "20px",
    "top": "120px",
    "width": "287px"
   },
   "types_to_exclude": [
    "module",
    "function",
    "builtin_function_or_method",
    "instance",
    "_Feature"
   ],
   "window_display": false
  }
 },
 "nbformat": 4,
 "nbformat_minor": 4
}
