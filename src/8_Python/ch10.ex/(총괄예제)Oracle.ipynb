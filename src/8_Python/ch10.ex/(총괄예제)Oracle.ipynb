{
 "cells": [
  {
   "cell_type": "code",
   "execution_count": 1,
   "metadata": {
    "ExecuteTime": {
     "end_time": "2021-03-03T05:41:22.052175Z",
     "start_time": "2021-03-03T05:41:22.048185Z"
    }
   },
   "outputs": [],
   "source": [
    "# 오라클 버젼\n"
   ]
  },
  {
   "cell_type": "code",
   "execution_count": 1,
   "metadata": {
    "ExecuteTime": {
     "end_time": "2021-03-05T13:37:36.397343Z",
     "start_time": "2021-03-05T13:37:36.377397Z"
    }
   },
   "outputs": [],
   "source": [
    "# 1. 입력\n",
    "def insert_member_info():\n",
    "    name = input(\"이름 : \")\n",
    "    phone = input(\"전화번호 : \")\n",
    "    email = input(\"이메일 : \")\n",
    "    try:\n",
    "        age = int(input(\"나이 : \"))\n",
    "    except ValueError as e:\n",
    "        print(\"유효하지 않는 나이 입력시 나이는 0으로 초기화.\")\n",
    "        age = 0\n",
    "    try:\n",
    "        grade = int(input(\"고객 등급(1~5) : \"))\n",
    "        if grade < 1:\n",
    "            grade = 1\n",
    "        if grade > 5 :\n",
    "            grade = 5\n",
    "    except ValueError as e:\n",
    "        print(\"유효하지 않는 등급을 입력시 등급은 1로 초기화.\")\n",
    "        grade = 1\n",
    "    etc = input(\"기타 정보 : \")\n",
    "    cursor = conn.cursor()\n",
    "    sql=\"INSERT INTO MEMBER VALUES (:name,:phone,:email,:age,:grade,:etc)\"\n",
    "    cursor.execute(sql, {'name':name,'phone':phone,'email':email,'age':age,'grade':grade,'etc':etc})\n",
    "    conn.commit()\n",
    "    print(\"입력에 성공 했습니다.\")\n"
   ]
  },
  {
   "cell_type": "code",
   "execution_count": 2,
   "metadata": {
    "ExecuteTime": {
     "end_time": "2021-03-05T13:37:38.108489Z",
     "start_time": "2021-03-05T13:37:38.089541Z"
    }
   },
   "outputs": [],
   "source": [
    "# 2. 전체 출력\n",
    "def print_members():\n",
    "    sql = \"SELECT * FROM MEMBER\"\n",
    "    cursor = conn.cursor()\n",
    "    cursor.execute(sql)\n",
    "    members = cursor.fetchall()\n",
    "    for member in members:\n",
    "        print(member)"
   ]
  },
  {
   "cell_type": "code",
   "execution_count": 3,
   "metadata": {
    "ExecuteTime": {
     "end_time": "2021-03-05T13:37:39.256210Z",
     "start_time": "2021-03-05T13:37:39.244244Z"
    }
   },
   "outputs": [],
   "source": [
    "# 3. 삭제\n",
    "def delete_members():\n",
    "    cursor = conn.cursor()\n",
    "    email = input(\"삭제할 이메일은?\")\n",
    "    sql2 = 'SELECT * FROM MEMBER WHERE EMAIL=:email'\n",
    "    cursor.execute(sql2 , {'email':email})\n",
    "    members = cursor.fetchall()\n",
    "    if len(members) != 0: # .\n",
    "        sql = \"DELETE FROM MEMBER WHERE EMAIL =:email \"\n",
    "        cursor.execute(sql, {'email':email})\n",
    "        conn.commit()\n",
    "        print('해당 데이터를 삭제 했습니다.')\n",
    "    else:\n",
    "        print('해당 이메일이 데이터에 없습니다.')\n",
    "    cursor.close()"
   ]
  },
  {
   "cell_type": "code",
   "execution_count": 4,
   "metadata": {
    "ExecuteTime": {
     "end_time": "2021-03-05T13:37:41.483133Z",
     "start_time": "2021-03-05T13:37:41.468174Z"
    }
   },
   "outputs": [],
   "source": [
    "# 이름 찾기.(동명이인도 모두 검색)\n",
    "def search_name():\n",
    "    name = input('검색할 이름은? ')\n",
    "    sql = \"SELECT NAME FROM MEMBER WHERE NAME =:name\"\n",
    "    cursor = conn.cursor()\n",
    "    cursor.execute(sql, {'name':name})\n",
    "    members = cursor.fetchall()\n",
    "    if len(members) == 0: # 없는 이름을 없다고 출력.\n",
    "        print('해당 이름의 데이터가 없습니다.')\n",
    "    else:\n",
    "        sql2 = \"SELECT * FROM MEMBER WHERE NAME =:name\"\n",
    "        cursor.execute(sql2, {'name':name})\n",
    "        members = cursor.fetchall()\n",
    "        print('해당 데이터 목록 : ',members)\n",
    "        "
   ]
  },
  {
   "cell_type": "code",
   "execution_count": 5,
   "metadata": {
    "ExecuteTime": {
     "end_time": "2021-03-05T13:37:44.236266Z",
     "start_time": "2021-03-05T13:37:44.224300Z"
    }
   },
   "outputs": [],
   "source": [
    "# 5. 내보내기(csv)\n",
    "def save_members_csv():\n",
    "    import csv\n",
    "    sql1 = \"SELECT * FROM MEMBER\"\n",
    "    cursor = conn.cursor()\n",
    "    cursor.execute(sql1)\n",
    "    members = cursor.fetchall()\n",
    "    colnames = [ row[0] for row in cursor.description ] #헤더문자열을 대문자로.\n",
    "#    colnames = [ row[0].lower() for row in cursor.description ] 헤더문자열을 소문자로.    \n",
    "    cursor.close()\n",
    "    filename = input(\"저장할 파일 이름은 ?(.csv 포함해서 입력해주세요.) \")\n",
    "    try:\n",
    "        with open(filename, 'w', newline='') as f:\n",
    "            writer = csv.writer(f)\n",
    "            writer.writerow(colnames)\n",
    "            writer.writerows(members)\n",
    "    except Exception as e:\n",
    "         print('데이터 내보내기 예외 :', e)\n"
   ]
  },
  {
   "cell_type": "code",
   "execution_count": 6,
   "metadata": {
    "ExecuteTime": {
     "end_time": "2021-03-05T13:37:45.417132Z",
     "start_time": "2021-03-05T13:37:45.408156Z"
    }
   },
   "outputs": [],
   "source": [
    "def exit_1():\n",
    "    print(\"프로그램을 종료 합니다.\")\n",
    "    cursor = conn.cursor()\n",
    "    cursor.close()\n",
    "    conn.close()"
   ]
  },
  {
   "cell_type": "code",
   "execution_count": 7,
   "metadata": {
    "ExecuteTime": {
     "end_time": "2021-03-05T13:37:46.083011Z",
     "start_time": "2021-03-05T13:37:46.069049Z"
    }
   },
   "outputs": [],
   "source": [
    "def main():\n",
    "    import cx_Oracle\n",
    "    global conn\n",
    "    oracle_dsn = cx_Oracle.makedsn(host=\"localhost\", port=1521, sid = \"xe\")\n",
    "    conn = cx_Oracle.connect(\"scott\",\"tiger\", dsn = oracle_dsn)\n",
    "    while True:\n",
    "        print(\"1: 입력\",\"2:전체출력\",\"3:삭제\",\"4:이름찾기\",\"5:내보내기\",\"9:종료\",\n",
    "              sep=\"|\",end='')\n",
    "        menu = int(input(\"메뉴선택 : \"))\n",
    "        if menu == 1:\n",
    "            member = insert_member_info()\n",
    "        elif menu == 2:\n",
    "            print_members()\n",
    "        elif menu == 3:\n",
    "            delete_members()\n",
    "        elif menu == 4:\n",
    "            search_name()\n",
    "        elif menu == 5:\n",
    "            save_members_csv()\n",
    "        elif menu == 9:\n",
    "            exit_1()\n",
    "            break;"
   ]
  },
  {
   "cell_type": "code",
   "execution_count": 8,
   "metadata": {
    "ExecuteTime": {
     "end_time": "2021-03-05T13:38:11.127384Z",
     "start_time": "2021-03-05T13:37:47.097344Z"
    }
   },
   "outputs": [
    {
     "name": "stdout",
     "output_type": "stream",
     "text": [
      "1: 입력|2:전체출력|3:삭제|4:이름찾기|5:내보내기|9:종료메뉴선택 : 2\n",
      "('가나다', '010-3456-7890', 'gana@com', 30, 1, 'GANA')\n",
      "('라마바', '02-443-5600', 'rama@com', 32, 5, '0')\n",
      "1: 입력|2:전체출력|3:삭제|4:이름찾기|5:내보내기|9:종료메뉴선택 : 5\n",
      "저장할 파일 이름은 ?(.csv 포함해서 입력해주세요.) oracle.csv\n",
      "1: 입력|2:전체출력|3:삭제|4:이름찾기|5:내보내기|9:종료메뉴선택 : 9\n",
      "프로그램을 종료 합니다.\n"
     ]
    }
   ],
   "source": [
    "if __name__ == '__main__':\n",
    "    main()"
   ]
  },
  {
   "cell_type": "code",
   "execution_count": null,
   "metadata": {},
   "outputs": [],
   "source": []
  },
  {
   "cell_type": "code",
   "execution_count": null,
   "metadata": {},
   "outputs": [],
   "source": []
  }
 ],
 "metadata": {
  "kernelspec": {
   "display_name": "Python 3",
   "language": "python",
   "name": "python3"
  },
  "language_info": {
   "codemirror_mode": {
    "name": "ipython",
    "version": 3
   },
   "file_extension": ".py",
   "mimetype": "text/x-python",
   "name": "python",
   "nbconvert_exporter": "python",
   "pygments_lexer": "ipython3",
   "version": "3.8.5"
  },
  "toc": {
   "base_numbering": 1,
   "nav_menu": {},
   "number_sections": true,
   "sideBar": true,
   "skip_h1_title": false,
   "title_cell": "Table of Contents",
   "title_sidebar": "Contents",
   "toc_cell": false,
   "toc_position": {},
   "toc_section_display": true,
   "toc_window_display": false
  },
  "varInspector": {
   "cols": {
    "lenName": 16,
    "lenType": 16,
    "lenVar": 40
   },
   "kernels_config": {
    "python": {
     "delete_cmd_postfix": "",
     "delete_cmd_prefix": "del ",
     "library": "var_list.py",
     "varRefreshCmd": "print(var_dic_list())"
    },
    "r": {
     "delete_cmd_postfix": ") ",
     "delete_cmd_prefix": "rm(",
     "library": "var_list.r",
     "varRefreshCmd": "cat(var_dic_list()) "
    }
   },
   "types_to_exclude": [
    "module",
    "function",
    "builtin_function_or_method",
    "instance",
    "_Feature"
   ],
   "window_display": false
  }
 },
 "nbformat": 4,
 "nbformat_minor": 4
}
