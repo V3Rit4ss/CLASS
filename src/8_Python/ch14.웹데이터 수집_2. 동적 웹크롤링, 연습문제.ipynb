{
 "cells": [
  {
   "cell_type": "markdown",
   "metadata": {
    "ExecuteTime": {
     "end_time": "2021-03-17T08:34:14.492580Z",
     "start_time": "2021-03-17T08:34:14.487593Z"
    }
   },
   "source": [
    "**<b><font color=\"red\">ch14. 웹데이터 수집</font><b>**"
   ]
  },
  {
   "cell_type": "markdown",
   "metadata": {},
   "source": [
    "# 3절. Selenium 을 이용한 웹데이터 수집\n",
    "- https://selenium-python.readthedocs.io/index.html\n",
    "\n",
    "`pip install selenium`\n",
    "`크롬 드라이브 다운` \n",
    "-> Rstudio 때 다운했기에 다시 할 필요는 없다."
   ]
  },
  {
   "cell_type": "code",
   "execution_count": 17,
   "metadata": {
    "ExecuteTime": {
     "end_time": "2021-03-17T09:03:50.637629Z",
     "start_time": "2021-03-17T09:03:46.354468Z"
    }
   },
   "outputs": [],
   "source": [
    "from selenium import webdriver\n",
    "# driver = webdriver.Chrome() #경로를 안적어도 가능 쥬피터노트북 src폴더안에 넣어두면된다.\n",
    "dv = webdriver.Chrome() # 변수명을 처음에 마음대로 지정해줘도 된다.\n",
    "#driver = webdriver.Chrome('E:/WDS/BigDataUI/data/selenium/chromedriver.exe')\n",
    "# 쥬피터노트북 파일에 없다면 경로를 기입해야한다.\n",
    "# 지정한 브라우저로 열림."
   ]
  },
  {
   "cell_type": "code",
   "execution_count": 18,
   "metadata": {
    "ExecuteTime": {
     "end_time": "2021-03-17T09:03:54.852770Z",
     "start_time": "2021-03-17T09:03:52.356425Z"
    }
   },
   "outputs": [],
   "source": [
    "# 지정한 주소로 접속.\n",
    "dv.get('https://python.org')"
   ]
  },
  {
   "cell_type": "code",
   "execution_count": 19,
   "metadata": {
    "ExecuteTime": {
     "end_time": "2021-03-17T09:03:57.824223Z",
     "start_time": "2021-03-17T09:03:57.739449Z"
    }
   },
   "outputs": [],
   "source": [
    "elem = dv.find_element_by_name('q') # 검색창의 선택자를 결정하고 선택자의 변수 기입.\n",
    "elem.clear() # 검색창 클리어링.\n",
    "elem.send_keys(\"pycon\") # 검색창에 기입할 검색어."
   ]
  },
  {
   "cell_type": "code",
   "execution_count": 20,
   "metadata": {
    "ExecuteTime": {
     "end_time": "2021-03-17T09:04:03.692704Z",
     "start_time": "2021-03-17T09:04:02.850956Z"
    }
   },
   "outputs": [],
   "source": [
    "# go 버튼을 누르지 않고 엔터를 누르게 하는 방법.\n",
    "from selenium.webdriver.common.keys import Keys\n",
    "elem.send_keys(Keys.RETURN) # Enter 키 누르게."
   ]
  },
  {
   "cell_type": "code",
   "execution_count": 24,
   "metadata": {
    "ExecuteTime": {
     "end_time": "2021-03-17T09:14:02.309124Z",
     "start_time": "2021-03-17T09:14:01.923503Z"
    }
   },
   "outputs": [
    {
     "name": "stdout",
     "output_type": "stream",
     "text": [
      "PSF PyCon Trademark Usage Policy - https://www.python.org/psf/trademarks/pycon\n",
      "Conferences and Workshops - https://www.python.org/community/workshops\n",
      "PyCon Italia 2016 (PyCon Sette) - https://www.python.org/events/python-events/378/\n",
      "2008-04-14 PSF Board Meeting Minutes - https://www.python.org/psf/records/board/minutes/2008-04-14\n",
      "2012-07-16 PSF Board Meeting Minutes - https://www.python.org/psf/records/board/minutes/2012-07-16\n",
      "2013-02-06 PSF Board Meeting Minutes - https://www.python.org/psf/records/board/minutes/2013-02-06\n",
      "PyCon Home at python.org - https://www.python.org/community/pycon\n",
      "PyCon Australia 2013 - https://www.python.org/events/python-events/57/\n",
      "PyCon AU 2019 - https://www.python.org/events/python-events/776/\n",
      "PyCon Australia 2014 - https://www.python.org/events/python-events/10/\n",
      "PyCon Ireland 2012 - https://www.python.org/events/python-events/76/\n",
      "PyCon Ireland 2016 - https://www.python.org/events/python-events/429/\n",
      "PyCon AU 2018 - https://www.python.org/events/python-events/696/\n",
      "PyCon Ireland 2015 - https://www.python.org/events/python-events/333/\n",
      "PyCon PL 2014 - https://www.python.org/events/python-events/191/\n",
      "PyCon AU 2015 - https://www.python.org/events/python-events/273/\n",
      "PyCon MY 2015 - https://www.python.org/events/python-events/313/\n",
      "PyCon Australia 2016 - https://www.python.org/events/python-events/357/\n",
      "PyCon MY 2014 - https://www.python.org/events/python-events/151/\n",
      "PyCon Ireland 2014 - https://www.python.org/events/python-events/149/\n"
     ]
    }
   ],
   "source": [
    "#  dv.find_element 하나만. dv.find_elements 는 여러개\n",
    "# soup.select , select_one 과 같다.\n",
    "result_list = dv.find_elements_by_css_selector(\"form h3 > a\")\n",
    "# 시스템에 의해 구동된 브라우저는 가만히 둬야한다.\n",
    "# result_list\n",
    "for result in result_list:\n",
    "    #print(result.text)\n",
    "    print(\"%s - %s\" % (result.text, result.get_attribute(\"href\")))"
   ]
  },
  {
   "cell_type": "code",
   "execution_count": 25,
   "metadata": {
    "ExecuteTime": {
     "end_time": "2021-03-17T09:14:11.348885Z",
     "start_time": "2021-03-17T09:14:07.081906Z"
    }
   },
   "outputs": [],
   "source": [
    "# 브라우저 종료\n",
    "dv.close()"
   ]
  },
  {
   "cell_type": "markdown",
   "metadata": {},
   "source": [
    "**맞춤법 검사기(네이버 맞춤법 검사기 이용)**"
   ]
  },
  {
   "cell_type": "code",
   "execution_count": 7,
   "metadata": {
    "ExecuteTime": {
     "end_time": "2021-03-18T00:53:16.504063Z",
     "start_time": "2021-03-18T00:53:11.313299Z"
    }
   },
   "outputs": [],
   "source": [
    "from selenium import webdriver\n",
    "from selenium.webdriver.common.keys import Keys\n",
    "from bs4 import BeautifulSoup\n",
    "import time\n",
    "\n",
    "# 만일 src / 파이썬 폴더안에 없으면 크롬드라이버가 있는 경로를 기입하면 된다.\n",
    "driver = webdriver.Chrome() # src / 파이썬 폴더안에 있기에 따로 경로 지정을 안해줬다.\n",
    "driver.get(\"https://www.naver.com\")\n",
    "# name 으로 가져올것이기 때문에.\n",
    "elem = driver.find_element_by_name(\"query\")\n",
    "elem.send_keys(\"맞춤법 검사기\") # 글씨 입력하게 하는\n",
    "elem.send_keys(Keys.RETURN) # 엔터를 누르게하는"
   ]
  },
  {
   "cell_type": "code",
   "execution_count": 8,
   "metadata": {
    "ExecuteTime": {
     "end_time": "2021-03-18T00:56:51.335861Z",
     "start_time": "2021-03-18T00:56:51.232138Z"
    }
   },
   "outputs": [],
   "source": [
    "textarea = driver.find_element_by_class_name(\"txt_gray\")\n",
    "textarea.send_keys(\"외않되요?\")"
   ]
  },
  {
   "cell_type": "code",
   "execution_count": 9,
   "metadata": {
    "ExecuteTime": {
     "end_time": "2021-03-18T00:59:48.991830Z",
     "start_time": "2021-03-18T00:59:48.928000Z"
    }
   },
   "outputs": [],
   "source": [
    "btn = driver.find_element_by_class_name(\"btn_check\")\n",
    "btn.click() # 클릭하게 하는."
   ]
  },
  {
   "cell_type": "code",
   "execution_count": 10,
   "metadata": {
    "ExecuteTime": {
     "end_time": "2021-03-18T01:00:36.763111Z",
     "start_time": "2021-03-18T01:00:36.760140Z"
    }
   },
   "outputs": [],
   "source": [
    "# 데이터를 쏘는것은 동적 , 그 결과를 정적으로 받아온다."
   ]
  },
  {
   "cell_type": "code",
   "execution_count": 15,
   "metadata": {
    "ExecuteTime": {
     "end_time": "2021-03-18T01:06:44.711041Z",
     "start_time": "2021-03-18T01:06:44.559447Z"
    }
   },
   "outputs": [
    {
     "data": {
      "text/plain": [
       "'외않되요?'"
      ]
     },
     "execution_count": 15,
     "metadata": {},
     "output_type": "execute_result"
    }
   ],
   "source": [
    "#soup = BeautifulSoup(requests.get(\"url\")) 1방법.\n",
    "#soup = BeautifulSoup(urlopen(\"url\")) 2방법.\n",
    "soup = BeautifulSoup(driver.page_source, \"html.parser\")\n",
    "#soup # 해당 사이트의 전체적인 html을 가져왔다.\n",
    "# p로 가져오는이유 리스트형식으로 가져오게되면 과정이 추가되어서 그렇다.\n",
    "result = soup.select_one(\"p._result_text.stand_txt\").text\n",
    "result"
   ]
  },
  {
   "cell_type": "code",
   "execution_count": 16,
   "metadata": {
    "ExecuteTime": {
     "end_time": "2021-03-18T01:07:17.723127Z",
     "start_time": "2021-03-18T01:07:13.614625Z"
    }
   },
   "outputs": [],
   "source": [
    "# 브라우저 종료.\n",
    "driver.close()"
   ]
  },
  {
   "cell_type": "code",
   "execution_count": 20,
   "metadata": {
    "ExecuteTime": {
     "end_time": "2021-03-18T01:16:40.619425Z",
     "start_time": "2021-03-18T01:16:40.616454Z"
    }
   },
   "outputs": [],
   "source": [
    "# 하나의 셀로 실행 시키려고 한다.\n",
    "# (자동화 작업.)"
   ]
  },
  {
   "cell_type": "code",
   "execution_count": 23,
   "metadata": {
    "ExecuteTime": {
     "end_time": "2021-03-18T01:20:00.717172Z",
     "start_time": "2021-03-18T01:19:47.087179Z"
    }
   },
   "outputs": [
    {
     "name": "stdout",
     "output_type": "stream",
     "text": [
      "외않되요?\n"
     ]
    }
   ],
   "source": [
    "from selenium import webdriver\n",
    "from selenium.webdriver.common.keys import Keys\n",
    "from bs4 import BeautifulSoup\n",
    "import time\n",
    "\n",
    "# 만일 src / 파이썬 폴더안에 없으면 크롬드라이버가 있는 경로를 기입하면 된다.\n",
    "driver = webdriver.Chrome() # src / 파이썬 폴더안에 있기에 따로 경로 지정을 안해줬다.\n",
    "driver.get(\"https://www.naver.com\")\n",
    "# name 으로 가져올것이기 때문에.\n",
    "elem = driver.find_element_by_name(\"query\")\n",
    "elem.send_keys(\"맞춤법 검사기\") # 글씨 입력하게 하는\n",
    "elem.send_keys(Keys.RETURN) # 엔터를 누르게하는\n",
    "# 실행되고 잠깐의 딜레이가 있어야하는데 딜레이없이 바로 찾으려고 하니까 중간에 멈추듯이 되는것이다.\n",
    "# 다른이유는 인터넷 속도차이때문에 발생하는 증상이기도 하다.\n",
    "time.sleep(2) # 잠깐의 딜레이를 주는 명령어.\n",
    "textarea = driver.find_element_by_class_name(\"txt_gray\")\n",
    "# textarea.clear() # 검사기의 검색창을 치워주는.\n",
    "textarea.send_keys(Keys.CONTROL, \"a\")\n",
    "textarea.send_keys(\"외않되요?\")\n",
    "btn = driver.find_element_by_class_name(\"btn_check\")\n",
    "btn.click() # 클릭하게 하는.\n",
    "time.sleep(2) #검사하기 클릭후 잠깐의 딜레이를 주는 명령어. 그래야 결과크롤링이 제대로 받는다.\n",
    "#soup = BeautifulSoup(requests.get(\"url\")) 1방법.\n",
    "#soup = BeautifulSoup(urlopen(\"url\")) 2방법.\n",
    "soup = BeautifulSoup(driver.page_source, \"html.parser\")\n",
    "#soup # 해당 사이트의 전체적인 html을 가져왔다.\n",
    "# p로 가져오는이유 리스트형식으로 가져오게되면 과정이 추가되어서 그렇다.\n",
    "result = soup.select_one(\"p._result_text.stand_txt\").text\n",
    "print(result)"
   ]
  },
  {
   "cell_type": "markdown",
   "metadata": {},
   "source": [
    "**맞춤법 검사가 안 된 text파일을 맞춤법 검사가 왼료된 text파일로 output**"
   ]
  },
  {
   "cell_type": "code",
   "execution_count": 32,
   "metadata": {
    "ExecuteTime": {
     "end_time": "2021-03-18T02:12:39.010175Z",
     "start_time": "2021-03-18T02:12:17.336870Z"
    }
   },
   "outputs": [],
   "source": [
    "from selenium import webdriver\n",
    "from selenium.webdriver.common.keys import Keys\n",
    "from bs4 import BeautifulSoup\n",
    "import time\n",
    "\n",
    "with open(\"data/ch14.txt\" ,\"r\", encoding=\"utf-8\") as f:\n",
    "# 읽어와서 변수에 담기.\n",
    "    text = f.read()\n",
    "len(text)# 글자갯수 확인. 1077자.\n",
    "# f.close() with 를 쓰면 close 안해도 된다.\n",
    "\n",
    "# 500글자씩 자르기. 번역은 문장끝의 . 까지.  맞춤법은 500자의 최초의 ' '(스페이스) 까지 .\n",
    "ready_list = []\n",
    "while len(text) > 500: #text가 500까지.\n",
    "        temp_str = text[:500] # ('. ') 번역할때 ('. ') 를 해야한다\n",
    "        last_space_idx = temp_str.rfind(' ') #오른쪽부터 찾는 무엇을? (' ') 스페이스바 를.\n",
    "        ready_list.append(text[:last_space_idx]) # 짤라서 넣고.\n",
    "        text = text[last_space_idx:] # 첫 500를 넣은 부분을 text에서 날린다.\n",
    "ready_list.append(text) # 다 짜르고 나머지 넣는다.\n",
    "# print(len(ready_list)) # len 을 해보면 3번을 짤라서 넣었다는걸 볼 수 있다.\n",
    "\n",
    "driver = webdriver.Chrome()\n",
    "driver.get(\"https://www.naver.com\")\n",
    "\n",
    "elem = driver.find_element_by_name(\"query\")\n",
    "elem.send_keys(\"맞춤법 검사기\") # 글씨 입력하게 하는\n",
    "elem.send_keys(Keys.RETURN) # 엔터를 누르게하는\n",
    "# 실행되고 잠깐의 딜레이가 있어야하는데 딜레이없이 바로 찾으려고 하니까 중간에 멈추듯이 되는것이다.\n",
    "# 다른이유는 인터넷 속도차이때문에 발생하는 증상이기도 하다.\n",
    "time.sleep(2) # 잠깐의 딜레이를 주는 명령어.\n",
    "\n",
    "textarea = driver.find_element_by_class_name(\"txt_gray\")\n",
    "results = \"\" #처음엔 아무것도 없는곳을 만들고.\n",
    "for ready in ready_list: #해당 len() 만큼 돌릴려고 하는 for문.\n",
    "    # textarea.clear() # 검사기의 검색창을 치워주는.\n",
    "    textarea.send_keys(Keys.CONTROL, \"a\") #검사기의 검색창을 지우는.\n",
    "    textarea.send_keys(ready)\n",
    "    btn = driver.find_element_by_class_name(\"btn_check\")\n",
    "    btn.click() # 클릭하게 하는.\n",
    "    time.sleep(2) #검사하기 클릭후 잠깐의 딜레이를 주는 명령어. 그래야 결과크롤링이 제대로 받는다.\n",
    "    #soup = BeautifulSoup(requests.get(\"url\")) 1방법.\n",
    "    #soup = BeautifulSoup(urlopen(\"url\")) 2방법.\n",
    "    soup = BeautifulSoup(driver.page_source, \"html.parser\")\n",
    "    #soup # 해당 사이트의 전체적인 html을 가져왔다.\n",
    "    # p로 가져오는이유 리스트형식으로 가져오게되면 과정이 추가되어서 그렇다.\n",
    "    result = soup.select_one(\"p._result_text.stand_txt\").text\n",
    "    results += result.replace('.','.\\n') #for문의 result를 results 에 계속 누적.\n",
    "# print(results)\n",
    "with open('data/ch14.checked.txt', 'w', encoding='utf8') as f:\n",
    "    f.write(results)\n",
    "driver.close() # 작업이 끝나면 브라우저 종료."
   ]
  },
  {
   "cell_type": "code",
   "execution_count": null,
   "metadata": {},
   "outputs": [],
   "source": []
  },
  {
   "cell_type": "code",
   "execution_count": null,
   "metadata": {},
   "outputs": [],
   "source": []
  }
 ],
 "metadata": {
  "kernelspec": {
   "display_name": "Python 3",
   "language": "python",
   "name": "python3"
  },
  "language_info": {
   "codemirror_mode": {
    "name": "ipython",
    "version": 3
   },
   "file_extension": ".py",
   "mimetype": "text/x-python",
   "name": "python",
   "nbconvert_exporter": "python",
   "pygments_lexer": "ipython3",
   "version": "3.8.5"
  },
  "toc": {
   "base_numbering": 1,
   "nav_menu": {},
   "number_sections": true,
   "sideBar": true,
   "skip_h1_title": false,
   "title_cell": "Table of Contents",
   "title_sidebar": "Contents",
   "toc_cell": false,
   "toc_position": {},
   "toc_section_display": true,
   "toc_window_display": false
  },
  "varInspector": {
   "cols": {
    "lenName": 16,
    "lenType": 16,
    "lenVar": 40
   },
   "kernels_config": {
    "python": {
     "delete_cmd_postfix": "",
     "delete_cmd_prefix": "del ",
     "library": "var_list.py",
     "varRefreshCmd": "print(var_dic_list())"
    },
    "r": {
     "delete_cmd_postfix": ") ",
     "delete_cmd_prefix": "rm(",
     "library": "var_list.r",
     "varRefreshCmd": "cat(var_dic_list()) "
    }
   },
   "types_to_exclude": [
    "module",
    "function",
    "builtin_function_or_method",
    "instance",
    "_Feature"
   ],
   "window_display": false
  }
 },
 "nbformat": 4,
 "nbformat_minor": 4
}
