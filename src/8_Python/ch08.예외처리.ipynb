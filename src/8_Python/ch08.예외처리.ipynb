{
 "cells": [
  {
   "cell_type": "markdown",
   "metadata": {
    "ExecuteTime": {
     "end_time": "2021-02-26T05:58:22.266157Z",
     "start_time": "2021-02-26T05:58:22.261191Z"
    }
   },
   "source": [
    "**<b><font color=\"red\">ch08. 예외처리</font><b>**"
   ]
  },
  {
   "cell_type": "markdown",
   "metadata": {},
   "source": [
    "# 1절. 예외 처리\n",
    "- 예외가 날 가능성이 있는 부분에 대해 미리 프로그래밍"
   ]
  },
  {
   "cell_type": "code",
   "execution_count": 4,
   "metadata": {
    "ExecuteTime": {
     "end_time": "2021-02-26T06:10:19.126174Z",
     "start_time": "2021-02-26T06:10:03.642381Z"
    }
   },
   "outputs": [
    {
     "name": "stdout",
     "output_type": "stream",
     "text": [
      "읽을 파일 이름은?ch08.abc.txt\n",
      "jupyter notebook KR utf-8\n",
      "\n"
     ]
    }
   ],
   "source": [
    "filename = input(\"읽을 파일 이름은?\")\n",
    "f = open('data/'+filename, 'r')\n",
    "firstline = f.readline()\n",
    "print(firstline)\n",
    "f.close()"
   ]
  },
  {
   "cell_type": "code",
   "execution_count": 5,
   "metadata": {
    "ExecuteTime": {
     "end_time": "2021-02-26T06:10:27.017065Z",
     "start_time": "2021-02-26T06:10:19.133162Z"
    }
   },
   "outputs": [
    {
     "name": "stdout",
     "output_type": "stream",
     "text": [
      "읽을 파일 이름은?ch08.data.txt\n"
     ]
    },
    {
     "ename": "FileNotFoundError",
     "evalue": "[Errno 2] No such file or directory: 'data/ch08.data.txt'",
     "output_type": "error",
     "traceback": [
      "\u001b[1;31m---------------------------------------------------------------------------\u001b[0m",
      "\u001b[1;31mFileNotFoundError\u001b[0m                         Traceback (most recent call last)",
      "\u001b[1;32m<ipython-input-5-f4cc17e18bb3>\u001b[0m in \u001b[0;36m<module>\u001b[1;34m\u001b[0m\n\u001b[0;32m      1\u001b[0m \u001b[0mfilename\u001b[0m \u001b[1;33m=\u001b[0m \u001b[0minput\u001b[0m\u001b[1;33m(\u001b[0m\u001b[1;34m\"읽을 파일 이름은?\"\u001b[0m\u001b[1;33m)\u001b[0m\u001b[1;33m\u001b[0m\u001b[1;33m\u001b[0m\u001b[0m\n\u001b[1;32m----> 2\u001b[1;33m \u001b[0mf\u001b[0m \u001b[1;33m=\u001b[0m \u001b[0mopen\u001b[0m\u001b[1;33m(\u001b[0m\u001b[1;34m'data/'\u001b[0m\u001b[1;33m+\u001b[0m\u001b[0mfilename\u001b[0m\u001b[1;33m,\u001b[0m \u001b[1;34m'r'\u001b[0m\u001b[1;33m)\u001b[0m\u001b[1;33m\u001b[0m\u001b[1;33m\u001b[0m\u001b[0m\n\u001b[0m\u001b[0;32m      3\u001b[0m \u001b[0mfirstline\u001b[0m \u001b[1;33m=\u001b[0m \u001b[0mf\u001b[0m\u001b[1;33m.\u001b[0m\u001b[0mreadline\u001b[0m\u001b[1;33m(\u001b[0m\u001b[1;33m)\u001b[0m\u001b[1;33m\u001b[0m\u001b[1;33m\u001b[0m\u001b[0m\n\u001b[0;32m      4\u001b[0m \u001b[0mprint\u001b[0m\u001b[1;33m(\u001b[0m\u001b[0mfirstline\u001b[0m\u001b[1;33m)\u001b[0m\u001b[1;33m\u001b[0m\u001b[1;33m\u001b[0m\u001b[0m\n\u001b[0;32m      5\u001b[0m \u001b[0mf\u001b[0m\u001b[1;33m.\u001b[0m\u001b[0mclose\u001b[0m\u001b[1;33m(\u001b[0m\u001b[1;33m)\u001b[0m\u001b[1;33m\u001b[0m\u001b[1;33m\u001b[0m\u001b[0m\n",
      "\u001b[1;31mFileNotFoundError\u001b[0m: [Errno 2] No such file or directory: 'data/ch08.data.txt'"
     ]
    }
   ],
   "source": [
    "#  파일이름을 잘못쳤을때.\n",
    "filename = input(\"읽을 파일 이름은?\")\n",
    "f = open('data/'+filename, 'r')\n",
    "firstline = f.readline()\n",
    "print(firstline)\n",
    "f.close()"
   ]
  },
  {
   "cell_type": "code",
   "execution_count": 6,
   "metadata": {
    "ExecuteTime": {
     "end_time": "2021-02-26T06:14:13.678993Z",
     "start_time": "2021-02-26T06:14:12.779449Z"
    }
   },
   "outputs": [
    {
     "name": "stdout",
     "output_type": "stream",
     "text": [
      "점수를 입력하세요 >s\n"
     ]
    },
    {
     "ename": "ValueError",
     "evalue": "invalid literal for int() with base 10: 's'",
     "output_type": "error",
     "traceback": [
      "\u001b[1;31m---------------------------------------------------------------------------\u001b[0m",
      "\u001b[1;31mValueError\u001b[0m                                Traceback (most recent call last)",
      "\u001b[1;32m<ipython-input-6-ffe754c4edef>\u001b[0m in \u001b[0;36m<module>\u001b[1;34m\u001b[0m\n\u001b[1;32m----> 1\u001b[1;33m \u001b[0mnum\u001b[0m \u001b[1;33m=\u001b[0m \u001b[0mint\u001b[0m\u001b[1;33m(\u001b[0m\u001b[0minput\u001b[0m\u001b[1;33m(\u001b[0m\u001b[1;34m\"점수를 입력하세요 >\"\u001b[0m\u001b[1;33m)\u001b[0m\u001b[1;33m)\u001b[0m\u001b[1;33m\u001b[0m\u001b[1;33m\u001b[0m\u001b[0m\n\u001b[0m",
      "\u001b[1;31mValueError\u001b[0m: invalid literal for int() with base 10: 's'"
     ]
    }
   ],
   "source": [
    "num = int(input(\"점수를 입력하세요 >\"))"
   ]
  },
  {
   "cell_type": "code",
   "execution_count": 8,
   "metadata": {
    "ExecuteTime": {
     "end_time": "2021-02-26T06:15:06.472043Z",
     "start_time": "2021-02-26T06:15:00.282332Z"
    }
   },
   "outputs": [
    {
     "name": "stdout",
     "output_type": "stream",
     "text": [
      "점수를 입력하세요 >0\n"
     ]
    },
    {
     "ename": "ZeroDivisionError",
     "evalue": "division by zero",
     "output_type": "error",
     "traceback": [
      "\u001b[1;31m---------------------------------------------------------------------------\u001b[0m",
      "\u001b[1;31mZeroDivisionError\u001b[0m                         Traceback (most recent call last)",
      "\u001b[1;32m<ipython-input-8-dbf848276667>\u001b[0m in \u001b[0;36m<module>\u001b[1;34m\u001b[0m\n\u001b[0;32m      1\u001b[0m \u001b[0mnum\u001b[0m \u001b[1;33m=\u001b[0m \u001b[0mint\u001b[0m\u001b[1;33m(\u001b[0m\u001b[0minput\u001b[0m\u001b[1;33m(\u001b[0m\u001b[1;34m\"점수를 입력하세요 >\"\u001b[0m\u001b[1;33m)\u001b[0m\u001b[1;33m)\u001b[0m\u001b[1;33m\u001b[0m\u001b[1;33m\u001b[0m\u001b[0m\n\u001b[1;32m----> 2\u001b[1;33m \u001b[0mprint\u001b[0m\u001b[1;33m(\u001b[0m\u001b[1;36m10\u001b[0m \u001b[1;33m/\u001b[0m \u001b[0mnum\u001b[0m\u001b[1;33m)\u001b[0m\u001b[1;33m\u001b[0m\u001b[1;33m\u001b[0m\u001b[0m\n\u001b[0m",
      "\u001b[1;31mZeroDivisionError\u001b[0m: division by zero"
     ]
    }
   ],
   "source": [
    "num = int(input(\"점수를 입력하세요 >\"))\n",
    "print(10 / num) "
   ]
  },
  {
   "cell_type": "code",
   "execution_count": 11,
   "metadata": {
    "ExecuteTime": {
     "end_time": "2021-02-26T06:17:10.513141Z",
     "start_time": "2021-02-26T06:17:06.466327Z"
    }
   },
   "outputs": [
    {
     "name": "stdout",
     "output_type": "stream",
     "text": [
      "원하는 인덱스는 ?9\n"
     ]
    },
    {
     "ename": "IndexError",
     "evalue": "list index out of range",
     "output_type": "error",
     "traceback": [
      "\u001b[1;31m---------------------------------------------------------------------------\u001b[0m",
      "\u001b[1;31mIndexError\u001b[0m                                Traceback (most recent call last)",
      "\u001b[1;32m<ipython-input-11-346cb5a799dc>\u001b[0m in \u001b[0;36m<module>\u001b[1;34m\u001b[0m\n\u001b[0;32m      1\u001b[0m \u001b[0ml\u001b[0m \u001b[1;33m=\u001b[0m \u001b[1;33m[\u001b[0m\u001b[1;36m1\u001b[0m\u001b[1;33m,\u001b[0m\u001b[1;36m2\u001b[0m\u001b[1;33m,\u001b[0m\u001b[1;36m3\u001b[0m\u001b[1;33m]\u001b[0m\u001b[1;33m\u001b[0m\u001b[1;33m\u001b[0m\u001b[0m\n\u001b[0;32m      2\u001b[0m \u001b[0midx\u001b[0m \u001b[1;33m=\u001b[0m \u001b[0mint\u001b[0m\u001b[1;33m(\u001b[0m\u001b[0minput\u001b[0m\u001b[1;33m(\u001b[0m\u001b[1;34m\"원하는 인덱스는 ?\"\u001b[0m\u001b[1;33m)\u001b[0m\u001b[1;33m)\u001b[0m\u001b[1;33m\u001b[0m\u001b[1;33m\u001b[0m\u001b[0m\n\u001b[1;32m----> 3\u001b[1;33m \u001b[0mprint\u001b[0m\u001b[1;33m(\u001b[0m\u001b[1;34m\"{}번째 값은 {}\"\u001b[0m\u001b[1;33m.\u001b[0m\u001b[0mformat\u001b[0m\u001b[1;33m(\u001b[0m\u001b[0midx\u001b[0m\u001b[1;33m,\u001b[0m \u001b[0ml\u001b[0m\u001b[1;33m[\u001b[0m\u001b[0midx\u001b[0m\u001b[1;33m]\u001b[0m\u001b[1;33m)\u001b[0m\u001b[1;33m)\u001b[0m\u001b[1;33m\u001b[0m\u001b[1;33m\u001b[0m\u001b[0m\n\u001b[0m",
      "\u001b[1;31mIndexError\u001b[0m: list index out of range"
     ]
    }
   ],
   "source": [
    "l = [1,2,3]\n",
    "idx = int(input(\"원하는 인덱스는 ?\"))\n",
    "print(\"{}번째 값은 {}\".format(idx, l[idx]))"
   ]
  },
  {
   "cell_type": "markdown",
   "metadata": {},
   "source": [
    "# 2절. 예외 처리하기 (try ~ except)"
   ]
  },
  {
   "cell_type": "code",
   "execution_count": 12,
   "metadata": {
    "ExecuteTime": {
     "end_time": "2021-02-26T06:19:16.822212Z",
     "start_time": "2021-02-26T06:19:13.042236Z"
    }
   },
   "outputs": [
    {
     "name": "stdout",
     "output_type": "stream",
     "text": [
      "점수는 ?d\n"
     ]
    },
    {
     "ename": "ValueError",
     "evalue": "invalid literal for int() with base 10: 'd'",
     "output_type": "error",
     "traceback": [
      "\u001b[1;31m---------------------------------------------------------------------------\u001b[0m",
      "\u001b[1;31mValueError\u001b[0m                                Traceback (most recent call last)",
      "\u001b[1;32m<ipython-input-12-4b77b87e0063>\u001b[0m in \u001b[0;36m<module>\u001b[1;34m\u001b[0m\n\u001b[1;32m----> 1\u001b[1;33m \u001b[0mx\u001b[0m \u001b[1;33m=\u001b[0m \u001b[0mint\u001b[0m\u001b[1;33m(\u001b[0m\u001b[0minput\u001b[0m\u001b[1;33m(\u001b[0m\u001b[1;34m\"점수는 ?\"\u001b[0m\u001b[1;33m)\u001b[0m\u001b[1;33m)\u001b[0m\u001b[1;33m\u001b[0m\u001b[1;33m\u001b[0m\u001b[0m\n\u001b[0m\u001b[0;32m      2\u001b[0m \u001b[0mprint\u001b[0m\u001b[1;33m(\u001b[0m\u001b[1;34m\"입력한 점수는 {}입니다\"\u001b[0m\u001b[1;33m.\u001b[0m\u001b[0mformat\u001b[0m\u001b[1;33m(\u001b[0m\u001b[0mx\u001b[0m\u001b[1;33m)\u001b[0m\u001b[1;33m)\u001b[0m\u001b[1;33m\u001b[0m\u001b[1;33m\u001b[0m\u001b[0m\n",
      "\u001b[1;31mValueError\u001b[0m: invalid literal for int() with base 10: 'd'"
     ]
    }
   ],
   "source": [
    "try:\n",
    "    x = int(input(\"점수는 ?\"))\n",
    "    print(\"입력한 점수는 {}입니다\".format(x))\n",
    "except Exception : # <= (최상위 클래스)  또는 ValueError\n",
    "    print(\"점수를 입력 안 하셨습니다.\")"
   ]
  },
  {
   "cell_type": "code",
   "execution_count": 14,
   "metadata": {
    "ExecuteTime": {
     "end_time": "2021-02-26T06:33:43.403344Z",
     "start_time": "2021-02-26T06:33:41.776754Z"
    }
   },
   "outputs": [
    {
     "name": "stdout",
     "output_type": "stream",
     "text": [
      "정수는 ?ㅇ\n",
      "invalid literal for int() with base 10: 'ㅇ'\n",
      "정수를 입력 안 하셨습니다.\n"
     ]
    }
   ],
   "source": [
    "try:\n",
    "    x = int(input(\"정수는 ?\"))\n",
    "    print(\"입력한 정수는 {}입니다\".format(x))\n",
    "except ValueError as e :\n",
    "    print(e)   # 생략가능 (e.__str__()) 호출.\n",
    "    print(\"정수를 입력 안 하셨습니다.\")"
   ]
  },
  {
   "cell_type": "code",
   "execution_count": null,
   "metadata": {},
   "outputs": [],
   "source": [
    "# 입력한 값이 정수가 아닐 경우 예외메세지를 출력 다시 입력받는다."
   ]
  },
  {
   "cell_type": "code",
   "execution_count": 16,
   "metadata": {
    "ExecuteTime": {
     "end_time": "2021-02-26T06:43:16.826412Z",
     "start_time": "2021-02-26T06:43:10.313851Z"
    }
   },
   "outputs": [
    {
     "name": "stdout",
     "output_type": "stream",
     "text": [
      "정수는 ? ㄹ\n",
      "유효한 정수를 다시 입력하세요\n",
      "정수는 ? a\n",
      "유효한 정수를 다시 입력하세요\n",
      "정수는 ? -\n",
      "유효한 정수를 다시 입력하세요\n",
      "정수는 ? 8\n",
      "입력한 정수는 8입니다.\n"
     ]
    }
   ],
   "source": [
    "while True:\n",
    "    try:\n",
    "        x = int(input(\"정수는 ? \"))\n",
    "        print(\"입력한 정수는 {}입니다.\".format(x))\n",
    "        break;\n",
    "    except ValueError :\n",
    "        print(\"유효한 정수를 다시 입력하세요\")"
   ]
  },
  {
   "cell_type": "code",
   "execution_count": 3,
   "metadata": {
    "ExecuteTime": {
     "end_time": "2021-02-26T06:49:43.826177Z",
     "start_time": "2021-02-26T06:49:35.242001Z"
    }
   },
   "outputs": [
    {
     "name": "stdout",
     "output_type": "stream",
     "text": [
      "정수는 ? d\n",
      "유효한 정수를 다시 입력하세요\n",
      "정수는 ? 0\n",
      "입력한 정수는 0입니다.\n",
      "0으로 나눌 수 없습니다. 다시 입력 하세요.\n",
      "정수는 ? ㄴ\n",
      "유효한 정수를 다시 입력하세요\n",
      "정수는 ? 2\n",
      "입력한 정수는 2입니다.\n",
      "100 / 2 = 50.0\n"
     ]
    }
   ],
   "source": [
    "# 100을 입력한 정수 값으로 나눠 출력한다. (두가지 예외 사항을 따로 처리.)\n",
    "# 예외가 두개이상 일 경우.\n",
    "#ValueError 와 ZeroDivisionError 간은 상속된 관계가 아니라 코드순서는 상관은 없지만.\n",
    "# 상속 관계인 예외는 순서를 지켜야한다.\n",
    "while True:\n",
    "    try:\n",
    "        x = int(input(\"정수는 ? \"))\n",
    "        print(\"입력한 정수는 {}입니다.\".format(x))\n",
    "        result = 100 / x\n",
    "        print(\"100 / {} = {}\".format(x, result))\n",
    "        break;\n",
    "    except ValueError :\n",
    "        print(\"유효한 정수를 다시 입력하세요\")\n",
    "    except ZeroDivisionError : \n",
    "        print(\"0으로 나눌 수 없습니다. 다시 입력 하세요.\")"
   ]
  },
  {
   "cell_type": "code",
   "execution_count": 5,
   "metadata": {
    "ExecuteTime": {
     "end_time": "2021-02-26T06:55:19.476625Z",
     "start_time": "2021-02-26T06:52:50.736493Z"
    }
   },
   "outputs": [
    {
     "name": "stdout",
     "output_type": "stream",
     "text": [
      "정수는 ? ㅇ\n",
      "예외입니다.\n",
      "정수는 ? 0\n",
      "입력한 정수는 0입니다.\n",
      "예외입니다.\n",
      "정수는 ?  \n",
      "예외입니다.\n",
      "정수는 ? g\n",
      "예외입니다.\n",
      "정수는 ? 6\n",
      "입력한 정수는 6입니다.\n",
      "100 / 6 = 16.666666666666668\n"
     ]
    }
   ],
   "source": [
    "while True:\n",
    "    try:\n",
    "        x = int(input(\"정수는 ? \"))\n",
    "        print(\"입력한 정수는 {}입니다.\".format(x))\n",
    "        result = 100 / x\n",
    "        print(\"100 / {} = {}\".format(x, result))\n",
    "        break;\n",
    " #   except Exception: #상위 클래스. = 상위클래스는 하단에 넣어야한다.\n",
    " #       print(\"예외입니다.\")\n",
    "    except ValueError : #하위 클래스.\n",
    "        print(\"유효한 정수를 다시 입력하세요\")\n",
    "    except ZeroDivisionError : # 하위클래스\n",
    "        print(\"0으로 나눌 수 없습니다. 다시 입력 하세요.\")"
   ]
  },
  {
   "cell_type": "code",
   "execution_count": null,
   "metadata": {},
   "outputs": [],
   "source": []
  },
  {
   "cell_type": "code",
   "execution_count": 6,
   "metadata": {
    "ExecuteTime": {
     "end_time": "2021-02-26T06:56:31.643025Z",
     "start_time": "2021-02-26T06:55:19.496544Z"
    }
   },
   "outputs": [
    {
     "name": "stdout",
     "output_type": "stream",
     "text": [
      "정수는 ? s\n",
      "문자나 0은 입력 하실 수 없습ㄴ디ㅏ. 다시 입력 하세요.\n",
      "정수는 ? 5\n",
      "입력한 정수는 5입니다.\n",
      "100 / 5 = 20.0\n"
     ]
    }
   ],
   "source": [
    "# # 100을 입력한 정수 값으로 나눠 출력한다. (두가지 예외 사항을 하나로 처리.)\n",
    "while True:\n",
    "    try:\n",
    "        x = int(input(\"정수는 ? \"))\n",
    "        print(\"입력한 정수는 {}입니다.\".format(x))\n",
    "        result = 100 / x\n",
    "        print(\"100 / {} = {}\".format(x, result))\n",
    "        break;\n",
    "    except (ZeroDivisionError,ValueError) : # as e 가능.\n",
    "        print(\"문자나 0은 입력 하실 수 없습니다. 다시 입력 하세요.\")\n",
    "#        print(e.__str__())"
   ]
  },
  {
   "cell_type": "code",
   "execution_count": 7,
   "metadata": {
    "ExecuteTime": {
     "end_time": "2021-02-26T06:57:57.761439Z",
     "start_time": "2021-02-26T06:57:50.665494Z"
    }
   },
   "outputs": [
    {
     "name": "stdout",
     "output_type": "stream",
     "text": [
      "정수는 ? ㅁ\n",
      "다시 입력하세요.\n",
      "정수는 ? s\n",
      "다시 입력하세요.\n",
      "정수는 ? -\n",
      "다시 입력하세요.\n",
      "정수는 ? 0\n",
      "입력한 정수는 0입니다.\n",
      "다시 입력하세요.\n",
      "정수는 ? 9\n",
      "입력한 정수는 9입니다.\n",
      "100 / 9 = 11.11111111111111\n"
     ]
    }
   ],
   "source": [
    "# # 100을 입력한 정수 값으로 나눠 출력한다. (모든 예외 사항을 하나로 처리.)\n",
    "while True:\n",
    "    try:\n",
    "        x = int(input(\"정수는 ? \"))\n",
    "        print(\"입력한 정수는 {}입니다.\".format(x))\n",
    "        result = 100 / x\n",
    "        print(\"100 / {} = {}\".format(x, result))\n",
    "        break;\n",
    "    except Exception : # as e 가능.\n",
    "    #except :  이렇게 모든 예외상황을 하나로 처리 할 수 있다.\n",
    "        print(\"다시 입력하세요.\")\n",
    "#       print(e.__str__())"
   ]
  },
  {
   "cell_type": "code",
   "execution_count": null,
   "metadata": {},
   "outputs": [],
   "source": [
    "# try ~ except ~ (else) ~ finally"
   ]
  },
  {
   "cell_type": "code",
   "execution_count": 3,
   "metadata": {
    "ExecuteTime": {
     "end_time": "2021-02-26T14:36:53.274796Z",
     "start_time": "2021-02-26T14:36:53.255847Z"
    }
   },
   "outputs": [
    {
     "name": "stdout",
     "output_type": "stream",
     "text": [
      "파일이 없습니다.\n"
     ]
    },
    {
     "ename": "NameError",
     "evalue": "name 'f' is not defined",
     "output_type": "error",
     "traceback": [
      "\u001b[1;31m---------------------------------------------------------------------------\u001b[0m",
      "\u001b[1;31mNameError\u001b[0m                                 Traceback (most recent call last)",
      "\u001b[1;32m<ipython-input-3-c6f428c869e9>\u001b[0m in \u001b[0;36m<module>\u001b[1;34m\u001b[0m\n\u001b[0;32m     10\u001b[0m     \u001b[0mf\u001b[0m\u001b[1;33m.\u001b[0m\u001b[0mclose\u001b[0m\u001b[1;33m(\u001b[0m\u001b[1;33m)\u001b[0m \u001b[1;31m#파일을 닫아야한다. 중요.\u001b[0m\u001b[1;33m\u001b[0m\u001b[1;33m\u001b[0m\u001b[0m\n\u001b[0;32m     11\u001b[0m \u001b[1;32mfinally\u001b[0m \u001b[1;33m:\u001b[0m \u001b[1;31m#finally 블록은 try블록에 예외가 발생하든 안하는 꼭 실행.\u001b[0m\u001b[1;33m\u001b[0m\u001b[1;33m\u001b[0m\u001b[0m\n\u001b[1;32m---> 12\u001b[1;33m     \u001b[0mf\u001b[0m\u001b[1;33m.\u001b[0m\u001b[0mclose\u001b[0m\u001b[1;33m(\u001b[0m\u001b[1;33m)\u001b[0m\u001b[1;33m\u001b[0m\u001b[1;33m\u001b[0m\u001b[0m\n\u001b[0m",
      "\u001b[1;31mNameError\u001b[0m: name 'f' is not defined"
     ]
    }
   ],
   "source": [
    "# else 블록 = try 블록에서 예외가 발생하면 except 를 실행,\n",
    "# 예외가 발생 안되면 else블록 실행.\n",
    "try:\n",
    "    f = open(\"data/ch08.abcd.txt\", \"r\") # 읽기는 r , 쓰기는 w . 원래 내용에 추가는 a .\n",
    "except FileNotFoundError:\n",
    "    print(\"파일이 없습니다.\")\n",
    "else :\n",
    "    data = f.read()\n",
    "    print(data)\n",
    "    f.close() #파일을 닫아야한다. 중요.\n",
    "finally : #finally 블록은 try블록에 예외가 발생하든 안하는 꼭 실행.\n",
    "    f.close()"
   ]
  },
  {
   "cell_type": "code",
   "execution_count": 4,
   "metadata": {
    "ExecuteTime": {
     "end_time": "2021-02-26T14:37:20.158020Z",
     "start_time": "2021-02-26T14:37:20.150041Z"
    }
   },
   "outputs": [
    {
     "name": "stdout",
     "output_type": "stream",
     "text": [
      "jupyter notebook KR utf-8\n",
      "Hello\n",
      "World\n",
      "Python\n"
     ]
    }
   ],
   "source": [
    "try:\n",
    "    f = open(\"data/ch08.abc.txt\", \"r\") # 읽기는 r , 쓰기는 w . 원래 내용에 추가는 a .\n",
    "    data = f.read()\n",
    "    print(data)\n",
    "except FileNotFoundError:\n",
    "    print(\"파일이 없습니다.\")\n",
    "finally : #finally 블록은 try블록에 예외가 발생하든 안하는 꼭 실행.\n",
    "    f.close()"
   ]
  },
  {
   "cell_type": "code",
   "execution_count": 5,
   "metadata": {
    "ExecuteTime": {
     "end_time": "2021-02-26T14:37:25.989807Z",
     "start_time": "2021-02-26T14:37:23.685241Z"
    }
   },
   "outputs": [
    {
     "name": "stdout",
     "output_type": "stream",
     "text": [
      "정수는 ? 1\n",
      "입력한 정수는 1입니다.\n",
      "100 / 1 = 100.0\n"
     ]
    }
   ],
   "source": [
    "# 예외인수 e\n",
    "# # 100을 입력한 정수 값으로 나눠 출력한다. (모든 예외 사항을 하나로 처리.)\n",
    "# # 100을 입력한 정수 값으로 나눠 출력한다. (두가지 예외 사항을 하나로 처리.)\n",
    "while True:\n",
    "    try:\n",
    "        x = int(input(\"정수는 ? \"))\n",
    "        print(\"입력한 정수는 {}입니다.\".format(x))\n",
    "        result = 100 / x\n",
    "        print(\"100 / {} = {}\".format(x, result))\n",
    "        break;\n",
    "    except (ZeroDivisionError,ValueError) as e :\n",
    "        print(e)\n",
    "        print(e.args[0]) #e.args => 튜플형식이므로 e.args[0]이용해서 예외메세지를 본다.\n",
    "    "
   ]
  },
  {
   "cell_type": "markdown",
   "metadata": {},
   "source": [
    "# 3절. raise로 강제로 예외 발생시키기"
   ]
  },
  {
   "cell_type": "code",
   "execution_count": 13,
   "metadata": {
    "ExecuteTime": {
     "end_time": "2021-02-26T07:14:00.273490Z",
     "start_time": "2021-02-26T07:14:00.264488Z"
    }
   },
   "outputs": [
    {
     "ename": "NameError",
     "evalue": "예외가 발생",
     "output_type": "error",
     "traceback": [
      "\u001b[1;31m---------------------------------------------------------------------------\u001b[0m",
      "\u001b[1;31mNameError\u001b[0m                                 Traceback (most recent call last)",
      "\u001b[1;32m<ipython-input-13-9b870e7e3bc4>\u001b[0m in \u001b[0;36m<module>\u001b[1;34m\u001b[0m\n\u001b[1;32m----> 1\u001b[1;33m \u001b[1;32mraise\u001b[0m \u001b[0mNameError\u001b[0m\u001b[1;33m(\u001b[0m\u001b[1;34m\"예외가 발생\"\u001b[0m\u001b[1;33m)\u001b[0m\u001b[1;33m\u001b[0m\u001b[1;33m\u001b[0m\u001b[0m\n\u001b[0m",
      "\u001b[1;31mNameError\u001b[0m: 예외가 발생"
     ]
    }
   ],
   "source": [
    "raise NameError(\"예외가 발생\")"
   ]
  },
  {
   "cell_type": "code",
   "execution_count": 14,
   "metadata": {
    "ExecuteTime": {
     "end_time": "2021-02-26T07:16:07.133319Z",
     "start_time": "2021-02-26T07:16:07.129330Z"
    }
   },
   "outputs": [],
   "source": [
    "def insert(data):\n",
    "    if len(data) == 0:\n",
    "        raise Exception(\"길이가 0이라 출력할 것도 없습니다.\")\n",
    "    print(data, '를 입력 할께요.')"
   ]
  },
  {
   "cell_type": "code",
   "execution_count": 15,
   "metadata": {
    "ExecuteTime": {
     "end_time": "2021-02-26T07:16:14.115662Z",
     "start_time": "2021-02-26T07:16:14.104691Z"
    }
   },
   "outputs": [
    {
     "ename": "Exception",
     "evalue": "길이가 0이라 출력할 것도 없습니다.",
     "output_type": "error",
     "traceback": [
      "\u001b[1;31m---------------------------------------------------------------------------\u001b[0m",
      "\u001b[1;31mException\u001b[0m                                 Traceback (most recent call last)",
      "\u001b[1;32m<ipython-input-15-6286de826f60>\u001b[0m in \u001b[0;36m<module>\u001b[1;34m\u001b[0m\n\u001b[1;32m----> 1\u001b[1;33m \u001b[0minsert\u001b[0m\u001b[1;33m(\u001b[0m\u001b[1;33m[\u001b[0m\u001b[1;33m]\u001b[0m\u001b[1;33m)\u001b[0m\u001b[1;33m\u001b[0m\u001b[1;33m\u001b[0m\u001b[0m\n\u001b[0m",
      "\u001b[1;32m<ipython-input-14-7d7578e729a5>\u001b[0m in \u001b[0;36minsert\u001b[1;34m(data)\u001b[0m\n\u001b[0;32m      1\u001b[0m \u001b[1;32mdef\u001b[0m \u001b[0minsert\u001b[0m\u001b[1;33m(\u001b[0m\u001b[0mdata\u001b[0m\u001b[1;33m)\u001b[0m\u001b[1;33m:\u001b[0m\u001b[1;33m\u001b[0m\u001b[1;33m\u001b[0m\u001b[0m\n\u001b[0;32m      2\u001b[0m     \u001b[1;32mif\u001b[0m \u001b[0mlen\u001b[0m\u001b[1;33m(\u001b[0m\u001b[0mdata\u001b[0m\u001b[1;33m)\u001b[0m \u001b[1;33m==\u001b[0m \u001b[1;36m0\u001b[0m\u001b[1;33m:\u001b[0m\u001b[1;33m\u001b[0m\u001b[1;33m\u001b[0m\u001b[0m\n\u001b[1;32m----> 3\u001b[1;33m         \u001b[1;32mraise\u001b[0m \u001b[0mException\u001b[0m\u001b[1;33m(\u001b[0m\u001b[1;34m\"길이가 0이라 출력할 것도 없습니다.\"\u001b[0m\u001b[1;33m)\u001b[0m\u001b[1;33m\u001b[0m\u001b[1;33m\u001b[0m\u001b[0m\n\u001b[0m\u001b[0;32m      4\u001b[0m     \u001b[0mprint\u001b[0m\u001b[1;33m(\u001b[0m\u001b[0mdata\u001b[0m\u001b[1;33m,\u001b[0m \u001b[1;34m'를 입력 할께요.'\u001b[0m\u001b[1;33m)\u001b[0m\u001b[1;33m\u001b[0m\u001b[1;33m\u001b[0m\u001b[0m\n",
      "\u001b[1;31mException\u001b[0m: 길이가 0이라 출력할 것도 없습니다."
     ]
    }
   ],
   "source": [
    "insert([])"
   ]
  },
  {
   "cell_type": "code",
   "execution_count": 17,
   "metadata": {
    "ExecuteTime": {
     "end_time": "2021-02-26T07:17:33.349151Z",
     "start_time": "2021-02-26T07:17:33.344164Z"
    }
   },
   "outputs": [
    {
     "name": "stdout",
     "output_type": "stream",
     "text": [
      "길이가 0이라 출력할 것도 없습니다.\n"
     ]
    }
   ],
   "source": [
    "try:\n",
    "    insert({})\n",
    "except Exception as e:\n",
    "    print(e.args[0])"
   ]
  },
  {
   "cell_type": "markdown",
   "metadata": {},
   "source": [
    "# 4절. raise 를 이용하여 추상클래스 정의하기\n",
    "- python 은 추상클래스를 생성할 수 없으나 raise를 이용해서 추상클래스를 흉내낸다.\n",
    "\n",
    "# 5절. 사용자 정의 예외\n"
   ]
  },
  {
   "cell_type": "code",
   "execution_count": 21,
   "metadata": {
    "ExecuteTime": {
     "end_time": "2021-02-26T07:40:42.370414Z",
     "start_time": "2021-02-26T07:40:42.367403Z"
    }
   },
   "outputs": [],
   "source": [
    "class AbstractError(Exception):\n",
    "    \"추상클래스를 이용하여 객체를 생성할 때 나는 오류.\"\n",
    "    def __init__(self):\n",
    "        Exception.__init__(self, \"Shape는 추상클래스여서 객체 생성 불가\")"
   ]
  },
  {
   "cell_type": "code",
   "execution_count": 25,
   "metadata": {
    "ExecuteTime": {
     "end_time": "2021-02-26T07:40:52.287965Z",
     "start_time": "2021-02-26T07:40:52.272323Z"
    }
   },
   "outputs": [],
   "source": [
    "class Shape:\n",
    "    def __init__(self):\n",
    "        raise Exception(\"Shape는 추상클래스여서 객체 생성 불가\")"
   ]
  },
  {
   "cell_type": "code",
   "execution_count": 26,
   "metadata": {
    "ExecuteTime": {
     "end_time": "2021-02-26T07:40:53.707536Z",
     "start_time": "2021-02-26T07:40:53.697563Z"
    }
   },
   "outputs": [
    {
     "ename": "Exception",
     "evalue": "Shape는 추상클래스여서 객체 생성 불가",
     "output_type": "error",
     "traceback": [
      "\u001b[1;31m---------------------------------------------------------------------------\u001b[0m",
      "\u001b[1;31mException\u001b[0m                                 Traceback (most recent call last)",
      "\u001b[1;32m<ipython-input-26-add4c52145cc>\u001b[0m in \u001b[0;36m<module>\u001b[1;34m\u001b[0m\n\u001b[1;32m----> 1\u001b[1;33m \u001b[0ms\u001b[0m \u001b[1;33m=\u001b[0m \u001b[0mShape\u001b[0m\u001b[1;33m(\u001b[0m\u001b[1;33m)\u001b[0m\u001b[1;33m\u001b[0m\u001b[1;33m\u001b[0m\u001b[0m\n\u001b[0m",
      "\u001b[1;32m<ipython-input-25-53ae99cc89e5>\u001b[0m in \u001b[0;36m__init__\u001b[1;34m(self)\u001b[0m\n\u001b[0;32m      1\u001b[0m \u001b[1;32mclass\u001b[0m \u001b[0mShape\u001b[0m\u001b[1;33m:\u001b[0m\u001b[1;33m\u001b[0m\u001b[1;33m\u001b[0m\u001b[0m\n\u001b[0;32m      2\u001b[0m     \u001b[1;32mdef\u001b[0m \u001b[0m__init__\u001b[0m\u001b[1;33m(\u001b[0m\u001b[0mself\u001b[0m\u001b[1;33m)\u001b[0m\u001b[1;33m:\u001b[0m\u001b[1;33m\u001b[0m\u001b[1;33m\u001b[0m\u001b[0m\n\u001b[1;32m----> 3\u001b[1;33m         \u001b[1;32mraise\u001b[0m \u001b[0mException\u001b[0m\u001b[1;33m(\u001b[0m\u001b[1;34m\"Shape는 추상클래스여서 객체 생성 불가\"\u001b[0m\u001b[1;33m)\u001b[0m\u001b[1;33m\u001b[0m\u001b[1;33m\u001b[0m\u001b[0m\n\u001b[0m",
      "\u001b[1;31mException\u001b[0m: Shape는 추상클래스여서 객체 생성 불가"
     ]
    }
   ],
   "source": [
    "s = Shape()"
   ]
  },
  {
   "cell_type": "code",
   "execution_count": 29,
   "metadata": {
    "ExecuteTime": {
     "end_time": "2021-02-26T07:41:38.589416Z",
     "start_time": "2021-02-26T07:41:38.584430Z"
    }
   },
   "outputs": [],
   "source": [
    "# 내가만든.\n",
    "class Shape:\n",
    "    def __init__(self):\n",
    "        raise AbstractError(\"Shape는 추상클래스여서 객체 생성 불가\")\n",
    "    def cal_area(self):\n",
    "        raise AbstractError()"
   ]
  },
  {
   "cell_type": "code",
   "execution_count": 30,
   "metadata": {
    "ExecuteTime": {
     "end_time": "2021-02-26T07:41:40.688022Z",
     "start_time": "2021-02-26T07:41:40.671113Z"
    }
   },
   "outputs": [
    {
     "ename": "TypeError",
     "evalue": "__init__() takes 1 positional argument but 2 were given",
     "output_type": "error",
     "traceback": [
      "\u001b[1;31m---------------------------------------------------------------------------\u001b[0m",
      "\u001b[1;31mTypeError\u001b[0m                                 Traceback (most recent call last)",
      "\u001b[1;32m<ipython-input-30-add4c52145cc>\u001b[0m in \u001b[0;36m<module>\u001b[1;34m\u001b[0m\n\u001b[1;32m----> 1\u001b[1;33m \u001b[0ms\u001b[0m \u001b[1;33m=\u001b[0m \u001b[0mShape\u001b[0m\u001b[1;33m(\u001b[0m\u001b[1;33m)\u001b[0m\u001b[1;33m\u001b[0m\u001b[1;33m\u001b[0m\u001b[0m\n\u001b[0m",
      "\u001b[1;32m<ipython-input-29-97af27480267>\u001b[0m in \u001b[0;36m__init__\u001b[1;34m(self)\u001b[0m\n\u001b[0;32m      2\u001b[0m \u001b[1;32mclass\u001b[0m \u001b[0mShape\u001b[0m\u001b[1;33m:\u001b[0m\u001b[1;33m\u001b[0m\u001b[1;33m\u001b[0m\u001b[0m\n\u001b[0;32m      3\u001b[0m     \u001b[1;32mdef\u001b[0m \u001b[0m__init__\u001b[0m\u001b[1;33m(\u001b[0m\u001b[0mself\u001b[0m\u001b[1;33m)\u001b[0m\u001b[1;33m:\u001b[0m\u001b[1;33m\u001b[0m\u001b[1;33m\u001b[0m\u001b[0m\n\u001b[1;32m----> 4\u001b[1;33m         \u001b[1;32mraise\u001b[0m \u001b[0mAbstractError\u001b[0m\u001b[1;33m(\u001b[0m\u001b[1;34m\"Shape는 추상클래스여서 객체 생성 불가\"\u001b[0m\u001b[1;33m)\u001b[0m\u001b[1;33m\u001b[0m\u001b[1;33m\u001b[0m\u001b[0m\n\u001b[0m\u001b[0;32m      5\u001b[0m     \u001b[1;32mdef\u001b[0m \u001b[0mcal_area\u001b[0m\u001b[1;33m(\u001b[0m\u001b[0mself\u001b[0m\u001b[1;33m)\u001b[0m\u001b[1;33m:\u001b[0m\u001b[1;33m\u001b[0m\u001b[1;33m\u001b[0m\u001b[0m\n\u001b[0;32m      6\u001b[0m         \u001b[1;32mraise\u001b[0m \u001b[0mAbstractError\u001b[0m\u001b[1;33m(\u001b[0m\u001b[1;33m)\u001b[0m\u001b[1;33m\u001b[0m\u001b[1;33m\u001b[0m\u001b[0m\n",
      "\u001b[1;31mTypeError\u001b[0m: __init__() takes 1 positional argument but 2 were given"
     ]
    }
   ],
   "source": [
    "s = Shape()"
   ]
  },
  {
   "cell_type": "code",
   "execution_count": 31,
   "metadata": {
    "ExecuteTime": {
     "end_time": "2021-02-26T07:43:33.283847Z",
     "start_time": "2021-02-26T07:43:33.279878Z"
    }
   },
   "outputs": [],
   "source": [
    "class Circle(Shape):\n",
    "    def __init__(self, r):\n",
    "        self.r = r\n",
    "    def cal_area(self):\n",
    "        return r*r*3.14"
   ]
  },
  {
   "cell_type": "code",
   "execution_count": 32,
   "metadata": {
    "ExecuteTime": {
     "end_time": "2021-02-26T07:43:40.924012Z",
     "start_time": "2021-02-26T07:43:40.920023Z"
    }
   },
   "outputs": [],
   "source": [
    "c = Circle(3)"
   ]
  },
  {
   "cell_type": "markdown",
   "metadata": {},
   "source": [
    "# 6절. 파일정리작업"
   ]
  },
  {
   "cell_type": "code",
   "execution_count": 7,
   "metadata": {
    "ExecuteTime": {
     "end_time": "2021-02-26T14:39:04.949146Z",
     "start_time": "2021-02-26T14:38:40.299182Z"
    }
   },
   "outputs": [
    {
     "name": "stdout",
     "output_type": "stream",
     "text": [
      "파일명은 ?ch08.abc.txt\n",
      "['jupyter notebook KR utf-8\\n', 'Hello\\n', 'World\\n', 'Python']\n"
     ]
    }
   ],
   "source": [
    "filename = input('파일명은 ?')\n",
    "try:\n",
    "    f =open('data/'+filename, 'r')\n",
    "    lines = f.readlines() #한줄한줄이 리스트형식으로 들어온다.\n",
    "    print(lines)\n",
    "except :\n",
    "    pass\n",
    "finally:\n",
    "    f.close()"
   ]
  },
  {
   "cell_type": "code",
   "execution_count": 8,
   "metadata": {
    "ExecuteTime": {
     "end_time": "2021-02-26T14:39:27.654269Z",
     "start_time": "2021-02-26T14:39:17.248785Z"
    }
   },
   "outputs": [
    {
     "name": "stdout",
     "output_type": "stream",
     "text": [
      "파일명은 ?ch08.abc.txt\n",
      "['jupyter notebook KR utf-8\\n', 'Hello\\n', 'World\\n', 'Python']\n"
     ]
    }
   ],
   "source": [
    "filename = input('파일명은 ?')\n",
    "\n",
    "f =open('data/'+filename, 'r')\n",
    "lines = f.readlines() #한줄한줄이 리스트형식으로 들어온다.\n",
    "print(lines)\n",
    "f.close() # ★★클로즈 작업을 해줘야한다.★★"
   ]
  },
  {
   "cell_type": "code",
   "execution_count": 9,
   "metadata": {
    "ExecuteTime": {
     "end_time": "2021-02-26T14:39:34.037790Z",
     "start_time": "2021-02-26T14:39:34.018841Z"
    }
   },
   "outputs": [
    {
     "name": "stdout",
     "output_type": "stream",
     "text": [
      "['jupyter notebook KR utf-8\\n', 'Hello\\n', 'World\\n', 'Python']\n"
     ]
    }
   ],
   "source": [
    "# with 절 이후에는 자동적으로 close() 를 해준다.\n",
    "\n",
    "with open('data/ch08.abc.txt', 'r') as f: # f =open('data/'+filename, 'r') 와 같은내용.\n",
    "    lines = f.readlines()\n",
    "    print(lines)"
   ]
  },
  {
   "cell_type": "markdown",
   "metadata": {},
   "source": [
    "# 7절. 연습문제."
   ]
  },
  {
   "cell_type": "code",
   "execution_count": 10,
   "metadata": {
    "ExecuteTime": {
     "end_time": "2021-02-26T14:39:40.608621Z",
     "start_time": "2021-02-26T14:39:38.302311Z"
    }
   },
   "outputs": [
    {
     "name": "stdout",
     "output_type": "stream",
     "text": [
      "첫번째로 입력할 수는 ? 51\n",
      "두번째로 입력할 수는 ? 12\n",
      "첫번째로 입력한 수는 51.0, 두번째로 입력한 수는 12.0.\n",
      "51.0 을 12.0 로 나누면 4.25 입니다.\n"
     ]
    }
   ],
   "source": [
    "while True:\n",
    "    try:\n",
    "        x = float(input(\"첫번째로 입력할 수는 ? \"))\n",
    "        y = float(input(\"두번째로 입력할 수는 ? \"))\n",
    "        print(\"첫번째로 입력한 수는 {}, 두번째로 입력한 수는 {}.\".format(x,y))\n",
    "        print(\"{} 을 {} 로 나누면 {} 입니다.\".format(x, y, x/y))\n",
    "        break;\n",
    "    except Exception :\n",
    "        print(\"유효한 수가 아닙니다, 다시 시도하세요.\")"
   ]
  },
  {
   "cell_type": "code",
   "execution_count": 45,
   "metadata": {
    "ExecuteTime": {
     "end_time": "2021-02-26T08:14:12.817645Z",
     "start_time": "2021-02-26T08:14:10.933538Z"
    }
   },
   "outputs": [
    {
     "name": "stdout",
     "output_type": "stream",
     "text": [
      "첫번째로 입력할 수는 ? 5\n",
      "두번째로 입력할 수는 ? 2\n",
      "첫번째로 입력한 수는 5.0, 두번째로 입력한 수는 2.0.\n",
      "5.0 을 2.0 로 나누면 2.5 입니다.\n"
     ]
    }
   ],
   "source": [
    "while True:\n",
    "    try:\n",
    "        x = float(input(\"첫번째로 입력할 수는 ? \"))\n",
    "        y = float(input(\"두번째로 입력할 수는 ? \"))\n",
    "        print(\"첫번째로 입력한 수는 {}, 두번째로 입력한 수는 {}.\".format(x,y))\n",
    "        print(\"{} 을 {} 로 나누면 {} 입니다.\".format(x, y, x/y))\n",
    "        break;\n",
    " #   except Exception: #상위 클래스. = 상위클래스는 하단에 넣어야한다.\n",
    " #       print(\"예외입니다.\")\n",
    "    except ValueError : #하위 클래스.\n",
    "        print(\"유효한 정수를 다시 입력하세요\")\n",
    "    except ZeroDivisionError : # 하위클래스\n",
    "        print(\"0으로 나눌 수 없습니다. 다시 입력 하세요.\")"
   ]
  },
  {
   "cell_type": "code",
   "execution_count": 1,
   "metadata": {
    "ExecuteTime": {
     "end_time": "2021-02-26T14:33:22.851607Z",
     "start_time": "2021-02-26T14:33:22.838096Z"
    }
   },
   "outputs": [],
   "source": [
    "#서술형 1. (3)\n",
    "#서술형 2. (2)\n",
    "#서술형 3. (4)\n",
    "#서술형 4. (3)"
   ]
  },
  {
   "cell_type": "code",
   "execution_count": null,
   "metadata": {},
   "outputs": [],
   "source": []
  }
 ],
 "metadata": {
  "kernelspec": {
   "display_name": "Python 3",
   "language": "python",
   "name": "python3"
  },
  "language_info": {
   "codemirror_mode": {
    "name": "ipython",
    "version": 3
   },
   "file_extension": ".py",
   "mimetype": "text/x-python",
   "name": "python",
   "nbconvert_exporter": "python",
   "pygments_lexer": "ipython3",
   "version": "3.8.5"
  },
  "toc": {
   "base_numbering": 1,
   "nav_menu": {},
   "number_sections": false,
   "sideBar": false,
   "skip_h1_title": false,
   "title_cell": "Table of Contents",
   "title_sidebar": "Contents",
   "toc_cell": false,
   "toc_position": {
    "height": "496px",
    "left": "1480px",
    "top": "170px",
    "width": "384px"
   },
   "toc_section_display": true,
   "toc_window_display": true
  },
  "varInspector": {
   "cols": {
    "lenName": 16,
    "lenType": 16,
    "lenVar": 40
   },
   "kernels_config": {
    "python": {
     "delete_cmd_postfix": "",
     "delete_cmd_prefix": "del ",
     "library": "var_list.py",
     "varRefreshCmd": "print(var_dic_list())"
    },
    "r": {
     "delete_cmd_postfix": ") ",
     "delete_cmd_prefix": "rm(",
     "library": "var_list.r",
     "varRefreshCmd": "cat(var_dic_list()) "
    }
   },
   "types_to_exclude": [
    "module",
    "function",
    "builtin_function_or_method",
    "instance",
    "_Feature"
   ],
   "window_display": false
  }
 },
 "nbformat": 4,
 "nbformat_minor": 4
}
