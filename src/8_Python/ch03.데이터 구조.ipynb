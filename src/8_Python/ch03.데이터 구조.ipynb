{
 "cells": [
  {
   "cell_type": "markdown",
   "metadata": {},
   "source": [
    "<b><font font color=\"red\" >ch03. 데이터 구조</font><b>"
   ]
  },
  {
   "cell_type": "markdown",
   "metadata": {},
   "source": [
    "# 1절. 리스트"
   ]
  },
  {
   "cell_type": "markdown",
   "metadata": {},
   "source": [
    "## 1.1 리스트 만들기\n",
    "- [] 를 이용해서 만들며, 여러개 값을 하나의 변수에 저장/관리할 수 있음. list()함수 이용도 가능.\n",
    "- 인덱스 : 각 요소의 위치, 인덱스는 0부터 시작, 맨 마지막 인덱스는 -1\n",
    "- 슬라이싱 : 부분 데이터셋을 뽑아 내는 것. 인덱스를 이용해서 쓰기와 읽기를 지원"
   ]
  },
  {
   "cell_type": "code",
   "execution_count": 17,
   "metadata": {
    "ExecuteTime": {
     "end_time": "2021-02-22T07:43:04.556771Z",
     "start_time": "2021-02-22T07:43:04.551809Z"
    }
   },
   "outputs": [
    {
     "data": {
      "text/plain": [
       "list"
      ]
     },
     "execution_count": 17,
     "metadata": {},
     "output_type": "execute_result"
    }
   ],
   "source": [
    "fruits = ['banana', 'apple', 'orange','grape']\n",
    "type(fruits)"
   ]
  },
  {
   "cell_type": "code",
   "execution_count": 18,
   "metadata": {
    "ExecuteTime": {
     "end_time": "2021-02-22T07:43:06.002043Z",
     "start_time": "2021-02-22T07:43:05.998054Z"
    }
   },
   "outputs": [
    {
     "name": "stdout",
     "output_type": "stream",
     "text": [
      "['banana', 'apple', 'orange', 'grape']\n"
     ]
    }
   ],
   "source": [
    "print(fruits)"
   ]
  },
  {
   "cell_type": "code",
   "execution_count": 19,
   "metadata": {
    "ExecuteTime": {
     "end_time": "2021-02-22T07:43:07.296829Z",
     "start_time": "2021-02-22T07:43:07.292865Z"
    }
   },
   "outputs": [
    {
     "name": "stdout",
     "output_type": "stream",
     "text": [
      "banana\n"
     ]
    }
   ],
   "source": [
    "print(fruits[0])"
   ]
  },
  {
   "cell_type": "code",
   "execution_count": 20,
   "metadata": {
    "ExecuteTime": {
     "end_time": "2021-02-22T07:43:07.969023Z",
     "start_time": "2021-02-22T07:43:07.965034Z"
    }
   },
   "outputs": [
    {
     "name": "stdout",
     "output_type": "stream",
     "text": [
      "banana\n",
      "apple\n",
      "orange\n",
      "grape\n"
     ]
    }
   ],
   "source": [
    "for fruit in fruits:\n",
    "    print(fruit)"
   ]
  },
  {
   "cell_type": "code",
   "execution_count": 21,
   "metadata": {
    "ExecuteTime": {
     "end_time": "2021-02-22T07:43:12.586897Z",
     "start_time": "2021-02-22T07:43:12.581911Z"
    }
   },
   "outputs": [
    {
     "data": {
      "text/plain": [
       "[0, 1, 2, 3, 4, 5]"
      ]
     },
     "execution_count": 21,
     "metadata": {},
     "output_type": "execute_result"
    }
   ],
   "source": [
    "# range(from, to ,by) ; from 부터 to바로 앞까지 by 씩 증가되면서 만들어진 list\n",
    "    #from 생략시 0부터 / by 생략시 1씩\n",
    "list(range(6))"
   ]
  },
  {
   "cell_type": "code",
   "execution_count": 22,
   "metadata": {
    "ExecuteTime": {
     "end_time": "2021-02-22T07:43:13.560766Z",
     "start_time": "2021-02-22T07:43:13.556799Z"
    }
   },
   "outputs": [
    {
     "data": {
      "text/plain": [
       "[0, 2, 4, 6, 8]"
      ]
     },
     "execution_count": 22,
     "metadata": {},
     "output_type": "execute_result"
    }
   ],
   "source": [
    "list(range(0,10,2))"
   ]
  },
  {
   "cell_type": "code",
   "execution_count": 23,
   "metadata": {
    "ExecuteTime": {
     "end_time": "2021-02-22T07:43:14.210958Z",
     "start_time": "2021-02-22T07:43:14.205977Z"
    }
   },
   "outputs": [
    {
     "data": {
      "text/plain": [
       "[10, 8, 6, 4, 2, 0]"
      ]
     },
     "execution_count": 23,
     "metadata": {},
     "output_type": "execute_result"
    }
   ],
   "source": [
    "list(range(10,-1,-2))"
   ]
  },
  {
   "cell_type": "code",
   "execution_count": 12,
   "metadata": {
    "ExecuteTime": {
     "end_time": "2021-02-22T07:39:42.125322Z",
     "start_time": "2021-02-22T07:39:42.109679Z"
    }
   },
   "outputs": [
    {
     "name": "stdout",
     "output_type": "stream",
     "text": [
      "0\t1\t2\t3\t4\t"
     ]
    }
   ],
   "source": [
    "for i in range(5):\n",
    "    print(i, end='\\t')"
   ]
  },
  {
   "cell_type": "code",
   "execution_count": 24,
   "metadata": {
    "ExecuteTime": {
     "end_time": "2021-02-22T07:43:15.930062Z",
     "start_time": "2021-02-22T07:43:15.926072Z"
    }
   },
   "outputs": [
    {
     "name": "stdout",
     "output_type": "stream",
     "text": [
      "0번째 : banana\n",
      "1번째 : apple\n",
      "2번째 : orange\n",
      "3번째 : grape\n"
     ]
    }
   ],
   "source": [
    "# 0번째 : banana ... len(fruits):fruits 요소의 갯수\n",
    "for idx in range(len(fruits)):\n",
    "    print('{}번째 : {}'.format(idx, fruits[idx]))"
   ]
  },
  {
   "cell_type": "code",
   "execution_count": 25,
   "metadata": {
    "ExecuteTime": {
     "end_time": "2021-02-22T07:43:17.640881Z",
     "start_time": "2021-02-22T07:43:17.636912Z"
    }
   },
   "outputs": [],
   "source": [
    "numbers = [1,2,3,True, '5']"
   ]
  },
  {
   "cell_type": "code",
   "execution_count": 26,
   "metadata": {
    "ExecuteTime": {
     "end_time": "2021-02-22T07:43:18.273823Z",
     "start_time": "2021-02-22T07:43:18.268856Z"
    }
   },
   "outputs": [
    {
     "data": {
      "text/plain": [
       "[1, 2, 3, True, '5']"
      ]
     },
     "execution_count": 26,
     "metadata": {},
     "output_type": "execute_result"
    }
   ],
   "source": [
    "numbers"
   ]
  },
  {
   "cell_type": "code",
   "execution_count": 28,
   "metadata": {
    "ExecuteTime": {
     "end_time": "2021-02-22T07:45:20.658060Z",
     "start_time": "2021-02-22T07:45:20.654092Z"
    }
   },
   "outputs": [
    {
     "name": "stdout",
     "output_type": "stream",
     "text": [
      "[[1, 2, 3, 4, 5], [10, 20, 30, 40, 50], [1, 3, 5, 7, 9], [2, 4, 6, 8, 10]]\n"
     ]
    }
   ],
   "source": [
    "# 2차원 리스트.\n",
    "numbers_2d = [[1,2,3,4,5],[10,20,30,40,50],[1,3,5,7,9],[2,4,6,8,10]]\n",
    "print(numbers_2d)"
   ]
  },
  {
   "cell_type": "code",
   "execution_count": 32,
   "metadata": {
    "ExecuteTime": {
     "end_time": "2021-02-22T07:49:11.802091Z",
     "start_time": "2021-02-22T07:49:11.797112Z"
    }
   },
   "outputs": [
    {
     "data": {
      "text/plain": [
       "10"
      ]
     },
     "execution_count": 32,
     "metadata": {},
     "output_type": "execute_result"
    }
   ],
   "source": [
    "numbers_2d[1][0] #1번째 방에서 인덱스 0 출력."
   ]
  },
  {
   "cell_type": "code",
   "execution_count": 33,
   "metadata": {
    "ExecuteTime": {
     "end_time": "2021-02-22T07:49:44.401476Z",
     "start_time": "2021-02-22T07:49:44.397486Z"
    }
   },
   "outputs": [
    {
     "name": "stdout",
     "output_type": "stream",
     "text": [
      "[1, 2, 3, 4, 5]\n",
      "[10, 20, 30, 40, 50]\n",
      "[1, 3, 5, 7, 9]\n",
      "[2, 4, 6, 8, 10]\n"
     ]
    }
   ],
   "source": [
    "for row in numbers_2d:\n",
    "    print(row)"
   ]
  },
  {
   "cell_type": "code",
   "execution_count": 34,
   "metadata": {
    "ExecuteTime": {
     "end_time": "2021-02-22T07:50:40.997002Z",
     "start_time": "2021-02-22T07:50:40.981380Z"
    }
   },
   "outputs": [
    {
     "name": "stdout",
     "output_type": "stream",
     "text": [
      "1\t2\t3\t4\t5\t\n",
      "10\t20\t30\t40\t50\t\n",
      "1\t3\t5\t7\t9\t\n",
      "2\t4\t6\t8\t10\t\n"
     ]
    }
   ],
   "source": [
    "for row in numbers_2d:\n",
    "    for data in row:\n",
    "        print(data, end='\\t')\n",
    "    print() #개행."
   ]
  },
  {
   "cell_type": "code",
   "execution_count": 35,
   "metadata": {
    "ExecuteTime": {
     "end_time": "2021-02-22T07:52:43.593078Z",
     "start_time": "2021-02-22T07:52:43.589114Z"
    }
   },
   "outputs": [
    {
     "name": "stdout",
     "output_type": "stream",
     "text": [
      "0\n",
      "1\n",
      "2\n",
      "3\n"
     ]
    }
   ],
   "source": [
    "for i in range(len(numbers_2d)):  #len(numbers_2d)=4\n",
    "    print(i)"
   ]
  },
  {
   "cell_type": "code",
   "execution_count": 44,
   "metadata": {
    "ExecuteTime": {
     "end_time": "2021-02-22T07:57:26.354091Z",
     "start_time": "2021-02-22T07:57:26.349103Z"
    }
   },
   "outputs": [
    {
     "name": "stdout",
     "output_type": "stream",
     "text": [
      "0행0열 :  1\t0행1열 :  2\t0행2열 :  3\t0행3열 :  4\t0행4열 :  5\t\n",
      "1행0열 : 10\t1행1열 : 20\t1행2열 : 30\t1행3열 : 40\t1행4열 : 50\t\n",
      "2행0열 :  1\t2행1열 :  3\t2행2열 :  5\t2행3열 :  7\t2행4열 :  9\t\n",
      "3행0열 :  2\t3행1열 :  4\t3행2열 :  6\t3행3열 :  8\t3행4열 : 10\t\n"
     ]
    }
   ],
   "source": [
    "for i in range(len(numbers_2d)):  #len(numbers_2d)=4\n",
    "    for j in range(len(numbers_2d[i])):\n",
    "        print(\"{}행{}열 : {:>2}\".format(i, j, numbers_2d[i][j]), end='\\t')\n",
    "    print()"
   ]
  },
  {
   "cell_type": "markdown",
   "metadata": {},
   "source": [
    "## 1.2 기본 정보 조회"
   ]
  },
  {
   "cell_type": "code",
   "execution_count": 1,
   "metadata": {
    "ExecuteTime": {
     "end_time": "2021-02-22T08:02:46.977127Z",
     "start_time": "2021-02-22T08:02:46.973161Z"
    }
   },
   "outputs": [],
   "source": [
    "numbers = [1,2,3,4,5]\n",
    "numbers_2d = [[1000, 2,3,4,5], [10,20,30,40,50],[1,3,5,7,9],[2,4,6,8,10]]"
   ]
  },
  {
   "cell_type": "code",
   "execution_count": 3,
   "metadata": {
    "ExecuteTime": {
     "end_time": "2021-02-22T08:03:47.081861Z",
     "start_time": "2021-02-22T08:03:47.077862Z"
    }
   },
   "outputs": [
    {
     "name": "stdout",
     "output_type": "stream",
     "text": [
      "numbers의 요소수 :  5\n",
      "numbers_2d의 요소수 :  4\n"
     ]
    }
   ],
   "source": [
    "# 요소 수\n",
    "print('numbers의 요소수 : ', len(numbers))\n",
    "print('numbers_2d의 요소수 : ', len(numbers_2d))"
   ]
  },
  {
   "cell_type": "code",
   "execution_count": 4,
   "metadata": {
    "ExecuteTime": {
     "end_time": "2021-02-22T08:04:16.266319Z",
     "start_time": "2021-02-22T08:04:16.262325Z"
    }
   },
   "outputs": [
    {
     "name": "stdout",
     "output_type": "stream",
     "text": [
      "numbers_2d[0]의 요소 수 :  5\n"
     ]
    }
   ],
   "source": [
    "print('numbers_2d[0]의 요소 수 : ', len(numbers_2d[0]))"
   ]
  },
  {
   "cell_type": "code",
   "execution_count": 5,
   "metadata": {
    "ExecuteTime": {
     "end_time": "2021-02-22T08:05:03.293862Z",
     "start_time": "2021-02-22T08:05:03.284915Z"
    }
   },
   "outputs": [
    {
     "data": {
      "text/plain": [
       "(1, 5)"
      ]
     },
     "execution_count": 5,
     "metadata": {},
     "output_type": "execute_result"
    }
   ],
   "source": [
    "# 최솟값 : min, 최댓값 : max\n",
    "min(numbers), max(numbers)"
   ]
  },
  {
   "cell_type": "code",
   "execution_count": 7,
   "metadata": {
    "ExecuteTime": {
     "end_time": "2021-02-22T08:07:11.986869Z",
     "start_time": "2021-02-22T08:07:11.981881Z"
    }
   },
   "outputs": [
    {
     "data": {
      "text/plain": [
       "([1, 3, 5, 7, 9], [1000, 2, 3, 4, 5])"
      ]
     },
     "execution_count": 7,
     "metadata": {},
     "output_type": "execute_result"
    }
   ],
   "source": [
    "# 2차원 리스트 에서 max()함수는 부분 리스트중 첫 요소가 가장 큰 값을 갖는 리스트 반환.\n",
    "#                min()함수는 부분 리스트중 첫 요소가 가장 작은 값을 갖는 리스트 반환.\n",
    "min(numbers_2d), max(numbers_2d) #1000을 100으로 바꾸면 100,2,3,4,5 가 나온다."
   ]
  },
  {
   "cell_type": "markdown",
   "metadata": {},
   "source": [
    "## 1.3 요소 추가"
   ]
  },
  {
   "cell_type": "code",
   "execution_count": 1,
   "metadata": {
    "ExecuteTime": {
     "end_time": "2021-02-22T13:12:54.992826Z",
     "start_time": "2021-02-22T13:12:54.979862Z"
    }
   },
   "outputs": [],
   "source": [
    "# + : 두 리스트를 연결\n",
    "# * : 리스트를 곱한 수 만큼 반복.\n",
    "# append() : 요소를 맨뒤에 추가.\n",
    "# extend() : 리스트를 요소별로 맨위에 추가.\n",
    "# insert() : 지정된 index 위치에 삽입."
   ]
  },
  {
   "cell_type": "code",
   "execution_count": 10,
   "metadata": {
    "ExecuteTime": {
     "end_time": "2021-02-22T08:10:16.338679Z",
     "start_time": "2021-02-22T08:10:16.333691Z"
    }
   },
   "outputs": [
    {
     "data": {
      "text/plain": [
       "[1, 2, 3, 4, 5, 1, 2, 3, 4, 5]"
      ]
     },
     "execution_count": 10,
     "metadata": {},
     "output_type": "execute_result"
    }
   ],
   "source": [
    "numbers = [1,2,3,4,5]\n",
    "numbers = numbers + numbers  # 리스트 연결\n",
    "numbers"
   ]
  },
  {
   "cell_type": "code",
   "execution_count": 11,
   "metadata": {
    "ExecuteTime": {
     "end_time": "2021-02-22T08:10:38.689605Z",
     "start_time": "2021-02-22T08:10:38.685606Z"
    }
   },
   "outputs": [
    {
     "name": "stdout",
     "output_type": "stream",
     "text": [
      "[1, 2, 3, 1, 2, 3, 1, 2, 3]\n"
     ]
    }
   ],
   "source": [
    "numbers = [1,2,3]\n",
    "print(numbers *3) # 리스트를 3번 반복.\n"
   ]
  },
  {
   "cell_type": "code",
   "execution_count": 12,
   "metadata": {
    "ExecuteTime": {
     "end_time": "2021-02-22T08:11:07.089098Z",
     "start_time": "2021-02-22T08:11:07.085131Z"
    }
   },
   "outputs": [
    {
     "name": "stdout",
     "output_type": "stream",
     "text": [
      "ABCABCABC\n"
     ]
    }
   ],
   "source": [
    "print('ABC'*3)"
   ]
  },
  {
   "cell_type": "code",
   "execution_count": 13,
   "metadata": {
    "ExecuteTime": {
     "end_time": "2021-02-22T08:12:15.873787Z",
     "start_time": "2021-02-22T08:12:15.869824Z"
    }
   },
   "outputs": [
    {
     "data": {
      "text/plain": [
       "[1, 2, 3, 4]"
      ]
     },
     "execution_count": 13,
     "metadata": {},
     "output_type": "execute_result"
    }
   ],
   "source": [
    "# append() 함수 이용\n",
    "numbers = [1,2,3]\n",
    "numbers.append(4) #요소의 맨 뒤에 '4'를 추가.\n",
    "numbers"
   ]
  },
  {
   "cell_type": "code",
   "execution_count": 14,
   "metadata": {
    "ExecuteTime": {
     "end_time": "2021-02-22T08:13:38.633593Z",
     "start_time": "2021-02-22T08:13:38.628607Z"
    }
   },
   "outputs": [
    {
     "data": {
      "text/plain": [
       "[1, 2, 3, 4, 5, 6]"
      ]
     },
     "execution_count": 14,
     "metadata": {},
     "output_type": "execute_result"
    }
   ],
   "source": [
    "# extend()\n",
    "numbers = [1,2,3]\n",
    "num = [4,5,6]\n",
    "numbers.extend(num)\n",
    "numbers"
   ]
  },
  {
   "cell_type": "code",
   "execution_count": 15,
   "metadata": {
    "ExecuteTime": {
     "end_time": "2021-02-22T08:14:03.249639Z",
     "start_time": "2021-02-22T08:14:03.244672Z"
    }
   },
   "outputs": [
    {
     "data": {
      "text/plain": [
       "[1, 2, 3, 4, 5, 6, 'H', 'e', 'l', 'l', 'o']"
      ]
     },
     "execution_count": 15,
     "metadata": {},
     "output_type": "execute_result"
    }
   ],
   "source": [
    "numbers.extend('Hello')\n",
    "numbers"
   ]
  },
  {
   "cell_type": "code",
   "execution_count": 17,
   "metadata": {
    "ExecuteTime": {
     "end_time": "2021-02-22T08:16:02.289672Z",
     "start_time": "2021-02-22T08:16:02.285682Z"
    }
   },
   "outputs": [
    {
     "data": {
      "text/plain": [
       "[1, 'xx', 2, 3, 4, 5]"
      ]
     },
     "execution_count": 17,
     "metadata": {},
     "output_type": "execute_result"
    }
   ],
   "source": [
    "# insert(idx, 추가할 내용) : idx번째 인덱스에 추가할 내용 삽입.\n",
    "numbers = [1,2,3,4,5]\n",
    "numbers.insert(1, 'xx')\n",
    "numbers"
   ]
  },
  {
   "cell_type": "markdown",
   "metadata": {},
   "source": [
    "## 1.4 인덱싱"
   ]
  },
  {
   "cell_type": "markdown",
   "metadata": {},
   "source": [
    "- count() : 리스트에서 데이터의 갯수 반환.\n",
    "- index() : 해당 요소의 위치 반환.\n",
    "- [idex] : 인덱스를 이용한 접근."
   ]
  },
  {
   "cell_type": "code",
   "execution_count": 18,
   "metadata": {
    "ExecuteTime": {
     "end_time": "2021-02-22T08:18:25.866366Z",
     "start_time": "2021-02-22T08:18:25.862376Z"
    }
   },
   "outputs": [
    {
     "name": "stdout",
     "output_type": "stream",
     "text": [
      "[1, 2, 3, [1, 2, 3], 1, 2, 3]\n",
      "[[1, 2, 3], [1, 2, 3]]\n"
     ]
    }
   ],
   "source": [
    "numbers = [1,2,3, [1,2,3], 1,2,3] # 1,2,3, 리스트, 1,2,3\n",
    "numbers_2d = [[1,2,3],[1,2,3]]  #리스트 리스트\n",
    "print(numbers)\n",
    "print(numbers_2d)"
   ]
  },
  {
   "cell_type": "code",
   "execution_count": 20,
   "metadata": {
    "ExecuteTime": {
     "end_time": "2021-02-22T08:19:27.665544Z",
     "start_time": "2021-02-22T08:19:27.661555Z"
    }
   },
   "outputs": [
    {
     "data": {
      "text/plain": [
       "2"
      ]
     },
     "execution_count": 20,
     "metadata": {},
     "output_type": "execute_result"
    }
   ],
   "source": [
    "numbers.count(2) #2가 몇개 있는지."
   ]
  },
  {
   "cell_type": "code",
   "execution_count": 22,
   "metadata": {
    "ExecuteTime": {
     "end_time": "2021-02-22T08:19:45.057367Z",
     "start_time": "2021-02-22T08:19:45.053403Z"
    }
   },
   "outputs": [
    {
     "data": {
      "text/plain": [
       "0"
      ]
     },
     "execution_count": 22,
     "metadata": {},
     "output_type": "execute_result"
    }
   ],
   "source": [
    "numbers.count(9) #없는건 0으로 나온다."
   ]
  },
  {
   "cell_type": "code",
   "execution_count": 23,
   "metadata": {
    "ExecuteTime": {
     "end_time": "2021-02-22T08:19:58.346015Z",
     "start_time": "2021-02-22T08:19:58.341028Z"
    }
   },
   "outputs": [
    {
     "data": {
      "text/plain": [
       "1"
      ]
     },
     "execution_count": 23,
     "metadata": {},
     "output_type": "execute_result"
    }
   ],
   "source": [
    "numbers.count([1,2,3])"
   ]
  },
  {
   "cell_type": "code",
   "execution_count": 24,
   "metadata": {
    "ExecuteTime": {
     "end_time": "2021-02-22T08:20:31.849540Z",
     "start_time": "2021-02-22T08:20:31.844573Z"
    }
   },
   "outputs": [
    {
     "data": {
      "text/plain": [
       "0"
      ]
     },
     "execution_count": 24,
     "metadata": {},
     "output_type": "execute_result"
    }
   ],
   "source": [
    "numbers_2d.count(2)"
   ]
  },
  {
   "cell_type": "code",
   "execution_count": 25,
   "metadata": {
    "ExecuteTime": {
     "end_time": "2021-02-22T08:21:14.177283Z",
     "start_time": "2021-02-22T08:21:14.173293Z"
    }
   },
   "outputs": [
    {
     "data": {
      "text/plain": [
       "2"
      ]
     },
     "execution_count": 25,
     "metadata": {},
     "output_type": "execute_result"
    }
   ],
   "source": [
    "numbers_2d.count([1,2,3])"
   ]
  },
  {
   "cell_type": "code",
   "execution_count": 26,
   "metadata": {
    "ExecuteTime": {
     "end_time": "2021-02-22T08:21:50.201451Z",
     "start_time": "2021-02-22T08:21:50.197462Z"
    }
   },
   "outputs": [
    {
     "data": {
      "text/plain": [
       "1"
      ]
     },
     "execution_count": 26,
     "metadata": {},
     "output_type": "execute_result"
    }
   ],
   "source": [
    "#0번째 인덱스 부터 처음 나오는 2의 인덱스(위치)  numbers = [1,2,3, [1,2,3], 1,2,3]  0부터 .\n",
    "numbers.index(2)"
   ]
  },
  {
   "cell_type": "code",
   "execution_count": 28,
   "metadata": {
    "ExecuteTime": {
     "end_time": "2021-02-22T08:23:03.218452Z",
     "start_time": "2021-02-22T08:23:03.213466Z"
    }
   },
   "outputs": [
    {
     "data": {
      "text/plain": [
       "5"
      ]
     },
     "execution_count": 28,
     "metadata": {},
     "output_type": "execute_result"
    }
   ],
   "source": [
    "numbers.index(2, 4) #4번째 인덱스 이후부터 나오는 2의 인덱스"
   ]
  },
  {
   "cell_type": "code",
   "execution_count": 30,
   "metadata": {
    "ExecuteTime": {
     "end_time": "2021-02-22T08:24:44.118775Z",
     "start_time": "2021-02-22T08:24:44.109799Z"
    }
   },
   "outputs": [
    {
     "name": "stdout",
     "output_type": "stream",
     "text": [
      "0\n"
     ]
    },
    {
     "ename": "ValueError",
     "evalue": "9 is not in list",
     "output_type": "error",
     "traceback": [
      "\u001b[1;31m---------------------------------------------------------------------------\u001b[0m",
      "\u001b[1;31mValueError\u001b[0m                                Traceback (most recent call last)",
      "\u001b[1;32m<ipython-input-30-19d3ce867088>\u001b[0m in \u001b[0;36m<module>\u001b[1;34m\u001b[0m\n\u001b[0;32m      1\u001b[0m \u001b[0mprint\u001b[0m\u001b[1;33m(\u001b[0m\u001b[0mnumbers\u001b[0m\u001b[1;33m.\u001b[0m\u001b[0mcount\u001b[0m\u001b[1;33m(\u001b[0m\u001b[1;36m9\u001b[0m\u001b[1;33m)\u001b[0m\u001b[1;33m)\u001b[0m \u001b[1;31m# 없으니까 0으로 나옴.\u001b[0m\u001b[1;33m\u001b[0m\u001b[1;33m\u001b[0m\u001b[0m\n\u001b[1;32m----> 2\u001b[1;33m \u001b[0mprint\u001b[0m\u001b[1;33m(\u001b[0m\u001b[0mnumbers\u001b[0m\u001b[1;33m.\u001b[0m\u001b[0mindex\u001b[0m\u001b[1;33m(\u001b[0m\u001b[1;36m9\u001b[0m\u001b[1;33m)\u001b[0m\u001b[1;33m)\u001b[0m \u001b[1;31m#index함수는 없는값을 찾으면 에러.\u001b[0m\u001b[1;33m\u001b[0m\u001b[1;33m\u001b[0m\u001b[0m\n\u001b[0m",
      "\u001b[1;31mValueError\u001b[0m: 9 is not in list"
     ]
    }
   ],
   "source": [
    "print(numbers.count(9)) # 없으니까 0으로 나옴.\n",
    "print(numbers.index(9)) #index함수는 없는값을 찾으면 에러."
   ]
  },
  {
   "cell_type": "code",
   "execution_count": 31,
   "metadata": {
    "ExecuteTime": {
     "end_time": "2021-02-22T08:24:58.980901Z",
     "start_time": "2021-02-22T08:24:58.972922Z"
    }
   },
   "outputs": [
    {
     "ename": "IndexError",
     "evalue": "list index out of range",
     "output_type": "error",
     "traceback": [
      "\u001b[1;31m---------------------------------------------------------------------------\u001b[0m",
      "\u001b[1;31mIndexError\u001b[0m                                Traceback (most recent call last)",
      "\u001b[1;32m<ipython-input-31-99ddd0b0f865>\u001b[0m in \u001b[0;36m<module>\u001b[1;34m\u001b[0m\n\u001b[1;32m----> 1\u001b[1;33m \u001b[0mnumbers\u001b[0m\u001b[1;33m[\u001b[0m\u001b[1;36m7\u001b[0m\u001b[1;33m]\u001b[0m\u001b[1;33m\u001b[0m\u001b[1;33m\u001b[0m\u001b[0m\n\u001b[0m",
      "\u001b[1;31mIndexError\u001b[0m: list index out of range"
     ]
    }
   ],
   "source": [
    "numbers[7] #인데스의 범위를 벗어나면 에러가 나온다."
   ]
  },
  {
   "cell_type": "markdown",
   "metadata": {},
   "source": [
    "## 1.5 원하는 리스트 내용만 추출.  리스트 슬라이싱 - 인덱스보다 많이 사용함."
   ]
  },
  {
   "cell_type": "markdown",
   "metadata": {},
   "source": [
    "- [from : to - by]: from 부터 to 바로 앞까지 by 번 증가하는 index 아이템 추출.\n",
    "                    from,to,by 생략 가능.\n",
    "                    인덱스는 음수 가능."
   ]
  },
  {
   "cell_type": "code",
   "execution_count": 32,
   "metadata": {
    "ExecuteTime": {
     "end_time": "2021-02-22T08:39:01.434804Z",
     "start_time": "2021-02-22T08:39:01.431812Z"
    }
   },
   "outputs": [],
   "source": [
    "numbers = [1,2,3,4,5]"
   ]
  },
  {
   "cell_type": "code",
   "execution_count": 33,
   "metadata": {
    "ExecuteTime": {
     "end_time": "2021-02-22T08:40:04.969214Z",
     "start_time": "2021-02-22T08:40:04.965224Z"
    }
   },
   "outputs": [
    {
     "data": {
      "text/plain": [
       "[3, 4, 5]"
      ]
     },
     "execution_count": 33,
     "metadata": {},
     "output_type": "execute_result"
    }
   ],
   "source": [
    "# 2부터 9번 인덱스 바로 앞까지 출력.(해당 인덱스가 없을경우 끝까지 출력.)\n",
    "numbers[2:9]  #슬라이싱 을 했을때 에러 안뜸."
   ]
  },
  {
   "cell_type": "code",
   "execution_count": 35,
   "metadata": {
    "ExecuteTime": {
     "end_time": "2021-02-22T08:40:43.122007Z",
     "start_time": "2021-02-22T08:40:43.117020Z"
    }
   },
   "outputs": [
    {
     "data": {
      "text/plain": [
       "[5, 4, 3, 2, 1]"
      ]
     },
     "execution_count": 35,
     "metadata": {},
     "output_type": "execute_result"
    }
   ],
   "source": [
    "numbers[::-1]"
   ]
  },
  {
   "cell_type": "code",
   "execution_count": 36,
   "metadata": {
    "ExecuteTime": {
     "end_time": "2021-02-22T08:40:49.321009Z",
     "start_time": "2021-02-22T08:40:49.316045Z"
    }
   },
   "outputs": [
    {
     "data": {
      "text/plain": [
       "[1, 2, 3, 4, 5]"
      ]
     },
     "execution_count": 36,
     "metadata": {},
     "output_type": "execute_result"
    }
   ],
   "source": [
    "numbers[::]"
   ]
  },
  {
   "cell_type": "code",
   "execution_count": 37,
   "metadata": {
    "ExecuteTime": {
     "end_time": "2021-02-22T08:41:14.385527Z",
     "start_time": "2021-02-22T08:41:14.380566Z"
    }
   },
   "outputs": [
    {
     "data": {
      "text/plain": [
       "[1, 2, 3, 4]"
      ]
     },
     "execution_count": 37,
     "metadata": {},
     "output_type": "execute_result"
    }
   ],
   "source": [
    "numbers[-5:-1]"
   ]
  },
  {
   "cell_type": "code",
   "execution_count": 39,
   "metadata": {
    "ExecuteTime": {
     "end_time": "2021-02-22T08:42:29.241413Z",
     "start_time": "2021-02-22T08:42:29.236451Z"
    }
   },
   "outputs": [
    {
     "data": {
      "text/plain": [
       "[]"
      ]
     },
     "execution_count": 39,
     "metadata": {},
     "output_type": "execute_result"
    }
   ],
   "source": [
    "numbers[-1:-5] #맨끝부터 -5바로 전까지 (by)1씩 인덱스를 전진하며 엑세스\n",
    "#결과값은 나오지 않는다."
   ]
  },
  {
   "cell_type": "code",
   "execution_count": 40,
   "metadata": {
    "ExecuteTime": {
     "end_time": "2021-02-22T08:43:31.402478Z",
     "start_time": "2021-02-22T08:43:31.396492Z"
    }
   },
   "outputs": [
    {
     "data": {
      "text/plain": [
       "[[10, 20, 30], [11, 12, 13]]"
      ]
     },
     "execution_count": 40,
     "metadata": {},
     "output_type": "execute_result"
    }
   ],
   "source": [
    "numbers_2d = [[1,2,3], [10,20,30],[11,12,13],[21,22,23]]\n",
    "numbers_2d[1:3]"
   ]
  },
  {
   "cell_type": "code",
   "execution_count": 41,
   "metadata": {
    "ExecuteTime": {
     "end_time": "2021-02-22T08:43:41.209219Z",
     "start_time": "2021-02-22T08:43:41.204232Z"
    }
   },
   "outputs": [
    {
     "data": {
      "text/plain": [
       "[2, 3]"
      ]
     },
     "execution_count": 41,
     "metadata": {},
     "output_type": "execute_result"
    }
   ],
   "source": [
    "numbers_2d[0][1:3]"
   ]
  },
  {
   "cell_type": "code",
   "execution_count": 42,
   "metadata": {
    "ExecuteTime": {
     "end_time": "2021-02-22T08:44:42.892233Z",
     "start_time": "2021-02-22T08:44:42.888230Z"
    }
   },
   "outputs": [],
   "source": [
    "# 람다식을 이용해서 List 의 원하는 데이터 엑세스"
   ]
  },
  {
   "cell_type": "code",
   "execution_count": 43,
   "metadata": {
    "ExecuteTime": {
     "end_time": "2021-02-22T08:46:46.529425Z",
     "start_time": "2021-02-22T08:46:46.524464Z"
    }
   },
   "outputs": [
    {
     "name": "stdout",
     "output_type": "stream",
     "text": [
      "1\n",
      "3\n",
      "5\n",
      "9\n",
      "10\n",
      "12\n",
      "13\n",
      "18\n",
      "19\n",
      "20\n"
     ]
    }
   ],
   "source": [
    "numbers = [1,3,5,9,10,12,13,18,19,20]\n",
    "# 모든 데이터 다 가져오기\n",
    "for data in numbers:\n",
    "    print(data)\n"
   ]
  },
  {
   "cell_type": "code",
   "execution_count": 44,
   "metadata": {
    "ExecuteTime": {
     "end_time": "2021-02-22T08:47:16.961736Z",
     "start_time": "2021-02-22T08:47:16.956768Z"
    }
   },
   "outputs": [
    {
     "data": {
      "text/plain": [
       "[1, 3, 5, 9, 10, 12, 13, 18, 19, 20]"
      ]
     },
     "execution_count": 44,
     "metadata": {},
     "output_type": "execute_result"
    }
   ],
   "source": [
    "numbers = [1,3,5,9,10,12,13,18,19,20]\n",
    "# 모든 데이터 다 가져오기\n",
    "#for data in numbers:\n",
    "#    print(data) 다른 출력문.\n",
    "[data for data in numbers] #데이터를 가져와서 리스트타입으로 구현."
   ]
  },
  {
   "cell_type": "code",
   "execution_count": 45,
   "metadata": {
    "ExecuteTime": {
     "end_time": "2021-02-22T08:50:46.956672Z",
     "start_time": "2021-02-22T08:50:46.952703Z"
    }
   },
   "outputs": [
    {
     "data": {
      "text/plain": [
       "[10, 12, 18, 20]"
      ]
     },
     "execution_count": 45,
     "metadata": {},
     "output_type": "execute_result"
    }
   ],
   "source": [
    "# 짝수 데이터만 가져오기.\n",
    "#for x in numbers:\n",
    "#    if x%2 == 0:\n",
    "#        print(x) 대신 한줄로.\n",
    "\n",
    "[x for x in numbers if x%2 == 0 ]"
   ]
  },
  {
   "cell_type": "code",
   "execution_count": 47,
   "metadata": {
    "ExecuteTime": {
     "end_time": "2021-02-22T08:52:01.785083Z",
     "start_time": "2021-02-22T08:52:01.781115Z"
    }
   },
   "outputs": [
    {
     "data": {
      "text/plain": [
       "[10, 12, 13, 18, 19, 20]"
      ]
     },
     "execution_count": 47,
     "metadata": {},
     "output_type": "execute_result"
    }
   ],
   "source": [
    "# 10 이상의 데이터만 가져오기.\n",
    "[y for y in numbers if y >= 10]"
   ]
  },
  {
   "cell_type": "code",
   "execution_count": 3,
   "metadata": {
    "ExecuteTime": {
     "end_time": "2021-02-22T13:14:18.400568Z",
     "start_time": "2021-02-22T13:14:18.373639Z"
    }
   },
   "outputs": [
    {
     "data": {
      "text/plain": [
       "['orange', 'apple', 'mango']"
      ]
     },
     "execution_count": 3,
     "metadata": {},
     "output_type": "execute_result"
    }
   ],
   "source": [
    "# 과일의 글씨가 5글자 이상인 과일만 추출.\n",
    "fruits = ['orange','apple','mango','kiwi']\n",
    "[x for x in fruits if len(x) >= 5 ]"
   ]
  },
  {
   "cell_type": "code",
   "execution_count": 4,
   "metadata": {
    "ExecuteTime": {
     "end_time": "2021-02-22T13:14:40.044170Z",
     "start_time": "2021-02-22T13:14:40.038185Z"
    }
   },
   "outputs": [
    {
     "data": {
      "text/plain": [
       "[1, 4, 9, 16, 25]"
      ]
     },
     "execution_count": 4,
     "metadata": {},
     "output_type": "execute_result"
    }
   ],
   "source": [
    "# 리스트 값의 제곱을 추출하라\n",
    "L = [1,2,3,4,5]\n",
    "[x**2 for x in L]"
   ]
  },
  {
   "cell_type": "code",
   "execution_count": 5,
   "metadata": {
    "ExecuteTime": {
     "end_time": "2021-02-22T13:15:01.393985Z",
     "start_time": "2021-02-22T13:15:01.385039Z"
    }
   },
   "outputs": [
    {
     "data": {
      "text/plain": [
       "[1, 8, 27, 64, 125]"
      ]
     },
     "execution_count": 5,
     "metadata": {},
     "output_type": "execute_result"
    }
   ],
   "source": [
    "# 리스트 값의 세제곱을 추출하라\n",
    "L = [1,2,3,4,5]\n",
    "[x**3 for x in L]"
   ]
  },
  {
   "cell_type": "code",
   "execution_count": 6,
   "metadata": {
    "ExecuteTime": {
     "end_time": "2021-02-22T13:15:11.469941Z",
     "start_time": "2021-02-22T13:15:11.450989Z"
    }
   },
   "outputs": [
    {
     "data": {
      "text/plain": [
       "[2, 4, 6, 8, 10]"
      ]
     },
     "execution_count": 6,
     "metadata": {},
     "output_type": "execute_result"
    }
   ],
   "source": [
    "#리스트 값의 두배의 수를 추출하라.\n",
    "L = [1,2,3,4,5]\n",
    "[x*2 for x in L]"
   ]
  },
  {
   "cell_type": "code",
   "execution_count": null,
   "metadata": {},
   "outputs": [],
   "source": []
  },
  {
   "cell_type": "code",
   "execution_count": null,
   "metadata": {},
   "outputs": [],
   "source": []
  },
  {
   "cell_type": "code",
   "execution_count": null,
   "metadata": {},
   "outputs": [],
   "source": []
  },
  {
   "cell_type": "code",
   "execution_count": null,
   "metadata": {},
   "outputs": [],
   "source": []
  },
  {
   "cell_type": "code",
   "execution_count": null,
   "metadata": {},
   "outputs": [],
   "source": []
  },
  {
   "cell_type": "code",
   "execution_count": null,
   "metadata": {},
   "outputs": [],
   "source": []
  },
  {
   "cell_type": "code",
   "execution_count": null,
   "metadata": {},
   "outputs": [],
   "source": []
  },
  {
   "cell_type": "code",
   "execution_count": null,
   "metadata": {},
   "outputs": [],
   "source": []
  },
  {
   "cell_type": "code",
   "execution_count": null,
   "metadata": {},
   "outputs": [],
   "source": []
  },
  {
   "cell_type": "code",
   "execution_count": null,
   "metadata": {},
   "outputs": [],
   "source": []
  },
  {
   "cell_type": "code",
   "execution_count": null,
   "metadata": {},
   "outputs": [],
   "source": []
  },
  {
   "cell_type": "code",
   "execution_count": null,
   "metadata": {},
   "outputs": [],
   "source": []
  },
  {
   "cell_type": "code",
   "execution_count": null,
   "metadata": {},
   "outputs": [],
   "source": []
  }
 ],
 "metadata": {
  "kernelspec": {
   "display_name": "Python 3",
   "language": "python",
   "name": "python3"
  },
  "language_info": {
   "codemirror_mode": {
    "name": "ipython",
    "version": 3
   },
   "file_extension": ".py",
   "mimetype": "text/x-python",
   "name": "python",
   "nbconvert_exporter": "python",
   "pygments_lexer": "ipython3",
   "version": "3.8.5"
  },
  "toc": {
   "base_numbering": 1,
   "nav_menu": {},
   "number_sections": false,
   "sideBar": false,
   "skip_h1_title": false,
   "title_cell": "Table of Contents",
   "title_sidebar": "Contents",
   "toc_cell": false,
   "toc_position": {
    "height": "586.903px",
    "left": "1371.99px",
    "top": "294.006px",
    "width": "349.091px"
   },
   "toc_section_display": true,
   "toc_window_display": true
  },
  "varInspector": {
   "cols": {
    "lenName": 16,
    "lenType": 16,
    "lenVar": 40
   },
   "kernels_config": {
    "python": {
     "delete_cmd_postfix": "",
     "delete_cmd_prefix": "del ",
     "library": "var_list.py",
     "varRefreshCmd": "print(var_dic_list())"
    },
    "r": {
     "delete_cmd_postfix": ") ",
     "delete_cmd_prefix": "rm(",
     "library": "var_list.r",
     "varRefreshCmd": "cat(var_dic_list()) "
    }
   },
   "oldHeight": 312.727364,
   "position": {
    "height": "334.716px",
    "left": "19.4545px",
    "right": "20px",
    "top": "145px",
    "width": "350px"
   },
   "types_to_exclude": [
    "module",
    "function",
    "builtin_function_or_method",
    "instance",
    "_Feature"
   ],
   "varInspector_section_display": "block",
   "window_display": false
  }
 },
 "nbformat": 4,
 "nbformat_minor": 4
}
